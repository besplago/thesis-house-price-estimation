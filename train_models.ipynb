{
 "cells": [
  {
   "cell_type": "code",
   "execution_count": 6,
   "metadata": {},
   "outputs": [],
   "source": [
    "import os\n",
    "import pickle\n",
    "import numpy as np\n",
    "from multiprocessing import Process\n",
    "\n",
    "from tensorflow.keras.utils import plot_model\n",
    "from tensorflow.keras.applications import VGG16, MobileNetV2\n",
    "\n",
    "from models import CNN_model\n",
    "from img_utils import data_to_df, preprocess_images, set_gpu, set_cpu"
   ]
  },
  {
   "cell_type": "code",
   "execution_count": 7,
   "metadata": {},
   "outputs": [],
   "source": [
    "IMAGE_WIDTH: int = 448\n",
    "IMAGE_HEIGHT: int = 448\n",
    "MODELS_PATH: str = \"./vision_models\"\n",
    "USE_GPU: bool = True"
   ]
  },
  {
   "cell_type": "code",
   "execution_count": 8,
   "metadata": {},
   "outputs": [
    {
     "name": "stderr",
     "output_type": "stream",
     "text": [
      "Processing ../nybolig-scrape/output/train/train_1: 100%|██████████| 311/311 [00:00<00:00, 1612396.22it/s]\n",
      "Loading folders:  25%|██▌       | 1/4 [00:20<01:02, 20.86s/it]"
     ]
    }
   ],
   "source": [
    "# Load Data\n",
    "train_1_path: str = \"../nybolig-scrape/output/train/train_1\"\n",
    "train_2_path: str = \"../nybolig-scrape/output/train/train_2\"\n",
    "valid_path: str = \"../nybolig-scrape/output/valid\"\n",
    "test_path: str = \"../nybolig-scrape/output/test\"\n",
    "\n",
    "train1_df, train2_df, valid_df, test_df = data_to_df(\n",
    "    [train_1_path, train_2_path, valid_path, test_path], preprocess=True\n",
    ")\n",
    "\n",
    "# train_images: np.array = preprocess_images(\n",
    "#     train1_df[\"image_floorplan\"], IMAGE_WIDTH, IMAGE_HEIGHT, True, False, False\n",
    "# )\n",
    "train_images: np.array = preprocess_images(\n",
    "    train1_df, \"image_floorplan\", IMAGE_WIDTH, IMAGE_HEIGHT, True, False, False\n",
    ")\n",
    "train_prices: np.array = train1_df[\"price\"].values\n",
    "\n",
    "valid_images: np.array = preprocess_images(\n",
    "    valid_df, \"image_floorplan\", IMAGE_WIDTH, IMAGE_HEIGHT, True, False, False\n",
    ")\n",
    "valid_prices: np.array = valid_df[\"price\"].values"
   ]
  },
  {
   "cell_type": "code",
   "execution_count": null,
   "metadata": {},
   "outputs": [],
   "source": [
    "MODEL_NAME: str = \"MobileNetV2\"\n",
    "FUNCTION: object = CNN_model\n",
    "VARIABLES: tuple = (MobileNetV2, True, train_images, train_prices, valid_images, valid_prices)"
   ]
  },
  {
   "cell_type": "code",
   "execution_count": null,
   "metadata": {},
   "outputs": [
    {
     "name": "stderr",
     "output_type": "stream",
     "text": [
      "2024-04-19 10:08:47.533377: I external/local_xla/xla/stream_executor/cuda/cuda_executor.cc:887] could not open file to read NUMA node: /sys/bus/pci/devices/0000:01:00.0/numa_node\n",
      "Your kernel may have been built without NUMA support.\n",
      "2024-04-19 10:08:47.558890: I external/local_xla/xla/stream_executor/cuda/cuda_executor.cc:887] could not open file to read NUMA node: /sys/bus/pci/devices/0000:01:00.0/numa_node\n",
      "Your kernel may have been built without NUMA support.\n",
      "2024-04-19 10:08:47.558982: I external/local_xla/xla/stream_executor/cuda/cuda_executor.cc:887] could not open file to read NUMA node: /sys/bus/pci/devices/0000:01:00.0/numa_node\n",
      "Your kernel may have been built without NUMA support.\n",
      "2024-04-19 10:08:47.561898: I external/local_xla/xla/stream_executor/cuda/cuda_executor.cc:887] could not open file to read NUMA node: /sys/bus/pci/devices/0000:01:00.0/numa_node\n",
      "Your kernel may have been built without NUMA support.\n",
      "2024-04-19 10:08:47.561994: I external/local_xla/xla/stream_executor/cuda/cuda_executor.cc:887] could not open file to read NUMA node: /sys/bus/pci/devices/0000:01:00.0/numa_node\n",
      "Your kernel may have been built without NUMA support.\n",
      "2024-04-19 10:08:47.562038: I external/local_xla/xla/stream_executor/cuda/cuda_executor.cc:887] could not open file to read NUMA node: /sys/bus/pci/devices/0000:01:00.0/numa_node\n",
      "Your kernel may have been built without NUMA support.\n"
     ]
    },
    {
     "name": "stdout",
     "output_type": "stream",
     "text": [
      "1 Physical GPUs, 1 Logical GPU\n",
      "WARNING:tensorflow:`input_shape` is undefined or non-square, or `rows` is not in [96, 128, 160, 192, 224]. Weights for input shape (224, 224) will be loaded as the default.\n"
     ]
    },
    {
     "name": "stderr",
     "output_type": "stream",
     "text": [
      "2024-04-19 10:08:47.767235: I external/local_xla/xla/stream_executor/cuda/cuda_executor.cc:887] could not open file to read NUMA node: /sys/bus/pci/devices/0000:01:00.0/numa_node\n",
      "Your kernel may have been built without NUMA support.\n",
      "2024-04-19 10:08:47.767445: I external/local_xla/xla/stream_executor/cuda/cuda_executor.cc:887] could not open file to read NUMA node: /sys/bus/pci/devices/0000:01:00.0/numa_node\n",
      "Your kernel may have been built without NUMA support.\n",
      "2024-04-19 10:08:47.767464: I tensorflow/core/common_runtime/gpu/gpu_device.cc:2022] Could not identify NUMA node of platform GPU id 0, defaulting to 0.  Your kernel may not have been built with NUMA support.\n",
      "2024-04-19 10:08:47.767539: I external/local_xla/xla/stream_executor/cuda/cuda_executor.cc:887] could not open file to read NUMA node: /sys/bus/pci/devices/0000:01:00.0/numa_node\n",
      "Your kernel may have been built without NUMA support.\n",
      "2024-04-19 10:08:47.767563: I tensorflow/core/common_runtime/gpu/gpu_device.cc:1929] Created device /job:localhost/replica:0/task:0/device:GPU:0 with 6687 MB memory:  -> device: 0, name: NVIDIA GeForce GTX 1080, pci bus id: 0000:01:00.0, compute capability: 6.1\n"
     ]
    },
    {
     "name": "stdout",
     "output_type": "stream",
     "text": [
      "Epoch 1/150\n"
     ]
    },
    {
     "name": "stderr",
     "output_type": "stream",
     "text": [
      "2024-04-19 10:08:55.087816: I external/local_tsl/tsl/platform/default/subprocess.cc:304] Start cannot spawn child process: No such file or directory\n",
      "2024-04-19 10:08:55.158801: I external/local_xla/xla/stream_executor/cuda/cuda_dnn.cc:454] Loaded cuDNN version 8902\n",
      "2024-04-19 10:08:55.363008: I external/local_tsl/tsl/platform/default/subprocess.cc:304] Start cannot spawn child process: No such file or directory\n",
      "2024-04-19 10:08:58.837921: I external/local_xla/xla/service/service.cc:168] XLA service 0x7fc31e02af10 initialized for platform CUDA (this does not guarantee that XLA will be used). Devices:\n",
      "2024-04-19 10:08:58.837973: I external/local_xla/xla/service/service.cc:176]   StreamExecutor device (0): NVIDIA GeForce GTX 1080, Compute Capability 6.1\n",
      "2024-04-19 10:08:58.845077: I tensorflow/compiler/mlir/tensorflow/utils/dump_mlir_util.cc:269] disabling MLIR crash reproducer, set env var `MLIR_CRASH_REPRODUCER_DIRECTORY` to enable.\n",
      "WARNING: All log messages before absl::InitializeLog() is called are written to STDERR\n",
      "I0000 00:00:1713514138.919032   30757 device_compiler.h:186] Compiled cluster using XLA!  This line is logged at most once for the lifetime of the process.\n"
     ]
    },
    {
     "name": "stdout",
     "output_type": "stream",
     "text": [
      "10/10 [==============================] - 16s 752ms/step - loss: 4098205.0000 - mean_absolute_error: 4096540.0000 - val_loss: 4390772.0000 - val_mean_absolute_error: 4389071.0000\n",
      "Epoch 2/150\n",
      "10/10 [==============================] - 3s 280ms/step - loss: 4045577.7500 - mean_absolute_error: 4043142.5000 - val_loss: 4231188.0000 - val_mean_absolute_error: 4227217.0000\n",
      "Epoch 3/150\n",
      "10/10 [==============================] - 3s 275ms/step - loss: 3675829.0000 - mean_absolute_error: 3670305.0000 - val_loss: 3326721.5000 - val_mean_absolute_error: 3318480.5000\n",
      "Epoch 4/150\n",
      "10/10 [==============================] - 3s 268ms/step - loss: 2285659.0000 - mean_absolute_error: 2275220.2500 - val_loss: 1872105.7500 - val_mean_absolute_error: 1858956.6250\n",
      "Epoch 5/150\n",
      "10/10 [==============================] - 3s 265ms/step - loss: 1865156.3750 - mean_absolute_error: 1851837.6250 - val_loss: 1840038.2500 - val_mean_absolute_error: 1827077.7500\n",
      "Epoch 6/150\n",
      "10/10 [==============================] - 3s 276ms/step - loss: 1692083.1250 - mean_absolute_error: 1679043.7500 - val_loss: 1815870.2500 - val_mean_absolute_error: 1802581.7500\n",
      "Epoch 7/150\n",
      "10/10 [==============================] - 3s 270ms/step - loss: 1624222.6250 - mean_absolute_error: 1610628.3750 - val_loss: 1690640.7500 - val_mean_absolute_error: 1676486.5000\n",
      "Epoch 8/150\n",
      "10/10 [==============================] - 3s 262ms/step - loss: 1560576.8750 - mean_absolute_error: 1546113.8750 - val_loss: 1669545.8750 - val_mean_absolute_error: 1654760.6250\n",
      "Epoch 9/150\n",
      "10/10 [==============================] - 2s 229ms/step - loss: 1518348.8750 - mean_absolute_error: 1503313.5000 - val_loss: 1670801.0000 - val_mean_absolute_error: 1655202.6250\n",
      "Epoch 10/150\n",
      "10/10 [==============================] - 3s 279ms/step - loss: 1460429.1250 - mean_absolute_error: 1444338.1250 - val_loss: 1589437.1250 - val_mean_absolute_error: 1572722.6250\n",
      "Epoch 11/150\n",
      "10/10 [==============================] - 3s 287ms/step - loss: 1391692.2500 - mean_absolute_error: 1374567.6250 - val_loss: 1568783.7500 - val_mean_absolute_error: 1550973.7500\n",
      "Epoch 12/150\n",
      "10/10 [==============================] - 3s 280ms/step - loss: 1320297.6250 - mean_absolute_error: 1301993.5000 - val_loss: 1511749.1250 - val_mean_absolute_error: 1492732.3750\n",
      "Epoch 13/150\n",
      "10/10 [==============================] - 3s 276ms/step - loss: 1241605.6250 - mean_absolute_error: 1222058.8750 - val_loss: 1466993.0000 - val_mean_absolute_error: 1446663.0000\n",
      "Epoch 14/150\n",
      "10/10 [==============================] - 3s 268ms/step - loss: 1173005.7500 - mean_absolute_error: 1152198.8750 - val_loss: 1426935.6250 - val_mean_absolute_error: 1405324.6250\n",
      "Epoch 15/150\n",
      "10/10 [==============================] - 2s 227ms/step - loss: 1085190.6250 - mean_absolute_error: 1063101.5000 - val_loss: 1494679.3750 - val_mean_absolute_error: 1471980.6250\n",
      "Epoch 16/150\n",
      "10/10 [==============================] - 2s 227ms/step - loss: 1043146.0000 - mean_absolute_error: 1020023.1250 - val_loss: 1442342.2500 - val_mean_absolute_error: 1418668.8750\n",
      "Epoch 17/150\n",
      "10/10 [==============================] - 3s 308ms/step - loss: 970007.4375 - mean_absolute_error: 945995.0625 - val_loss: 1371088.1250 - val_mean_absolute_error: 1346438.1250\n",
      "Epoch 18/150\n",
      "10/10 [==============================] - 3s 265ms/step - loss: 870245.3125 - mean_absolute_error: 845217.4375 - val_loss: 1362361.2500 - val_mean_absolute_error: 1336702.7500\n",
      "Epoch 19/150\n",
      "10/10 [==============================] - 2s 227ms/step - loss: 789640.7500 - mean_absolute_error: 763606.8750 - val_loss: 1384583.3750 - val_mean_absolute_error: 1358032.1250\n",
      "Epoch 20/150\n",
      "10/10 [==============================] - 2s 229ms/step - loss: 738150.5000 - mean_absolute_error: 711270.7500 - val_loss: 1415667.0000 - val_mean_absolute_error: 1388421.0000\n",
      "Epoch 21/150\n",
      "10/10 [==============================] - 3s 272ms/step - loss: 672783.5000 - mean_absolute_error: 645304.8750 - val_loss: 1339441.8750 - val_mean_absolute_error: 1311651.8750\n",
      "Epoch 22/150\n",
      "10/10 [==============================] - 3s 263ms/step - loss: 630315.5625 - mean_absolute_error: 602304.9375 - val_loss: 1338133.3750 - val_mean_absolute_error: 1309826.3750\n",
      "Epoch 23/150\n",
      "10/10 [==============================] - 2s 228ms/step - loss: 577160.0000 - mean_absolute_error: 548746.8750 - val_loss: 1343117.8750 - val_mean_absolute_error: 1314536.1250\n",
      "Epoch 24/150\n",
      "10/10 [==============================] - 2s 227ms/step - loss: 538925.5625 - mean_absolute_error: 510255.6250 - val_loss: 1346688.1250 - val_mean_absolute_error: 1317870.1250\n",
      "Epoch 25/150\n",
      "10/10 [==============================] - 2s 229ms/step - loss: 529590.7500 - mean_absolute_error: 500692.1250 - val_loss: 1339407.0000 - val_mean_absolute_error: 1310367.0000\n",
      "Epoch 26/150\n",
      "10/10 [==============================] - 2s 231ms/step - loss: 492571.7812 - mean_absolute_error: 463427.5000 - val_loss: 1350219.3750 - val_mean_absolute_error: 1320869.0000\n",
      "Epoch 27/150\n",
      "10/10 [==============================] - 3s 283ms/step - loss: 491193.6875 - mean_absolute_error: 461742.7500 - val_loss: 1430828.6250 - val_mean_absolute_error: 1401327.0000\n",
      "Saving model...\n"
     ]
    },
    {
     "name": "stderr",
     "output_type": "stream",
     "text": [
      "WARNING:absl:`mobilenetv2_1.00_224_input` is not a valid tf.function parameter name. Sanitizing to `mobilenetv2_1_00_224_input`.\n",
      "WARNING:absl:`mobilenetv2_1.00_224_input` is not a valid tf.function parameter name. Sanitizing to `mobilenetv2_1_00_224_input`.\n",
      "WARNING:absl:`mobilenetv2_1.00_224_input` is not a valid tf.function parameter name. Sanitizing to `mobilenetv2_1_00_224_input`.\n"
     ]
    },
    {
     "name": "stdout",
     "output_type": "stream",
     "text": [
      "INFO:tensorflow:Assets written to: ./vision_models/vgg16/model/assets\n"
     ]
    },
    {
     "name": "stderr",
     "output_type": "stream",
     "text": [
      "INFO:tensorflow:Assets written to: ./vision_models/vgg16/model/assets\n"
     ]
    },
    {
     "ename": "KeyboardInterrupt",
     "evalue": "",
     "output_type": "error",
     "traceback": [
      "\u001b[0;31m---------------------------------------------------------------------------\u001b[0m",
      "\u001b[0;31mKeyboardInterrupt\u001b[0m                         Traceback (most recent call last)",
      "Cell \u001b[0;32mIn[5], line 21\u001b[0m\n\u001b[1;32m     19\u001b[0m p \u001b[38;5;241m=\u001b[39m Process(target\u001b[38;5;241m=\u001b[39mtrain_model, args\u001b[38;5;241m=\u001b[39m(FUNCTION, VARIABLES, q))\n\u001b[1;32m     20\u001b[0m p\u001b[38;5;241m.\u001b[39mstart()\n\u001b[0;32m---> 21\u001b[0m \u001b[43mp\u001b[49m\u001b[38;5;241;43m.\u001b[39;49m\u001b[43mjoin\u001b[49m\u001b[43m(\u001b[49m\u001b[43m)\u001b[49m\n\u001b[1;32m     23\u001b[0m test \u001b[38;5;241m=\u001b[39m q\u001b[38;5;241m.\u001b[39mget()\n\u001b[1;32m     24\u001b[0m \u001b[38;5;28mprint\u001b[39m(test)\n",
      "File \u001b[0;32m/home/linuxbrew/.linuxbrew/opt/python@3.11/lib/python3.11/multiprocessing/process.py:149\u001b[0m, in \u001b[0;36mBaseProcess.join\u001b[0;34m(self, timeout)\u001b[0m\n\u001b[1;32m    147\u001b[0m \u001b[38;5;28;01massert\u001b[39;00m \u001b[38;5;28mself\u001b[39m\u001b[38;5;241m.\u001b[39m_parent_pid \u001b[38;5;241m==\u001b[39m os\u001b[38;5;241m.\u001b[39mgetpid(), \u001b[38;5;124m'\u001b[39m\u001b[38;5;124mcan only join a child process\u001b[39m\u001b[38;5;124m'\u001b[39m\n\u001b[1;32m    148\u001b[0m \u001b[38;5;28;01massert\u001b[39;00m \u001b[38;5;28mself\u001b[39m\u001b[38;5;241m.\u001b[39m_popen \u001b[38;5;129;01mis\u001b[39;00m \u001b[38;5;129;01mnot\u001b[39;00m \u001b[38;5;28;01mNone\u001b[39;00m, \u001b[38;5;124m'\u001b[39m\u001b[38;5;124mcan only join a started process\u001b[39m\u001b[38;5;124m'\u001b[39m\n\u001b[0;32m--> 149\u001b[0m res \u001b[38;5;241m=\u001b[39m \u001b[38;5;28;43mself\u001b[39;49m\u001b[38;5;241;43m.\u001b[39;49m\u001b[43m_popen\u001b[49m\u001b[38;5;241;43m.\u001b[39;49m\u001b[43mwait\u001b[49m\u001b[43m(\u001b[49m\u001b[43mtimeout\u001b[49m\u001b[43m)\u001b[49m\n\u001b[1;32m    150\u001b[0m \u001b[38;5;28;01mif\u001b[39;00m res \u001b[38;5;129;01mis\u001b[39;00m \u001b[38;5;129;01mnot\u001b[39;00m \u001b[38;5;28;01mNone\u001b[39;00m:\n\u001b[1;32m    151\u001b[0m     _children\u001b[38;5;241m.\u001b[39mdiscard(\u001b[38;5;28mself\u001b[39m)\n",
      "File \u001b[0;32m/home/linuxbrew/.linuxbrew/opt/python@3.11/lib/python3.11/multiprocessing/popen_fork.py:43\u001b[0m, in \u001b[0;36mPopen.wait\u001b[0;34m(self, timeout)\u001b[0m\n\u001b[1;32m     41\u001b[0m             \u001b[38;5;28;01mreturn\u001b[39;00m \u001b[38;5;28;01mNone\u001b[39;00m\n\u001b[1;32m     42\u001b[0m     \u001b[38;5;66;03m# This shouldn't block if wait() returned successfully.\u001b[39;00m\n\u001b[0;32m---> 43\u001b[0m     \u001b[38;5;28;01mreturn\u001b[39;00m \u001b[38;5;28;43mself\u001b[39;49m\u001b[38;5;241;43m.\u001b[39;49m\u001b[43mpoll\u001b[49m\u001b[43m(\u001b[49m\u001b[43mos\u001b[49m\u001b[38;5;241;43m.\u001b[39;49m\u001b[43mWNOHANG\u001b[49m\u001b[43m \u001b[49m\u001b[38;5;28;43;01mif\u001b[39;49;00m\u001b[43m \u001b[49m\u001b[43mtimeout\u001b[49m\u001b[43m \u001b[49m\u001b[38;5;241;43m==\u001b[39;49m\u001b[43m \u001b[49m\u001b[38;5;241;43m0.0\u001b[39;49m\u001b[43m \u001b[49m\u001b[38;5;28;43;01melse\u001b[39;49;00m\u001b[43m \u001b[49m\u001b[38;5;241;43m0\u001b[39;49m\u001b[43m)\u001b[49m\n\u001b[1;32m     44\u001b[0m \u001b[38;5;28;01mreturn\u001b[39;00m \u001b[38;5;28mself\u001b[39m\u001b[38;5;241m.\u001b[39mreturncode\n",
      "File \u001b[0;32m/home/linuxbrew/.linuxbrew/opt/python@3.11/lib/python3.11/multiprocessing/popen_fork.py:27\u001b[0m, in \u001b[0;36mPopen.poll\u001b[0;34m(self, flag)\u001b[0m\n\u001b[1;32m     25\u001b[0m \u001b[38;5;28;01mif\u001b[39;00m \u001b[38;5;28mself\u001b[39m\u001b[38;5;241m.\u001b[39mreturncode \u001b[38;5;129;01mis\u001b[39;00m \u001b[38;5;28;01mNone\u001b[39;00m:\n\u001b[1;32m     26\u001b[0m     \u001b[38;5;28;01mtry\u001b[39;00m:\n\u001b[0;32m---> 27\u001b[0m         pid, sts \u001b[38;5;241m=\u001b[39m \u001b[43mos\u001b[49m\u001b[38;5;241;43m.\u001b[39;49m\u001b[43mwaitpid\u001b[49m\u001b[43m(\u001b[49m\u001b[38;5;28;43mself\u001b[39;49m\u001b[38;5;241;43m.\u001b[39;49m\u001b[43mpid\u001b[49m\u001b[43m,\u001b[49m\u001b[43m \u001b[49m\u001b[43mflag\u001b[49m\u001b[43m)\u001b[49m\n\u001b[1;32m     28\u001b[0m     \u001b[38;5;28;01mexcept\u001b[39;00m \u001b[38;5;167;01mOSError\u001b[39;00m:\n\u001b[1;32m     29\u001b[0m         \u001b[38;5;66;03m# Child process not yet created. See #1731717\u001b[39;00m\n\u001b[1;32m     30\u001b[0m         \u001b[38;5;66;03m# e.errno == errno.ECHILD == 10\u001b[39;00m\n\u001b[1;32m     31\u001b[0m         \u001b[38;5;28;01mreturn\u001b[39;00m \u001b[38;5;28;01mNone\u001b[39;00m\n",
      "\u001b[0;31mKeyboardInterrupt\u001b[0m: "
     ]
    }
   ],
   "source": [
    "def train_save_model(model: object, args: tuple):\n",
    "    \"\"\"\n",
    "    Train and save model\n",
    "    \n",
    "    Args:\n",
    "        model (object): Model function\n",
    "        args (tuple): Model arguments\n",
    "    \"\"\"\n",
    "    if USE_GPU:\n",
    "        set_gpu()\n",
    "    else:\n",
    "        set_cpu()\n",
    "\n",
    "    model, fit_history = model(*args)\n",
    "\n",
    "    print(\"Saving model...\")\n",
    "    # Save Model\n",
    "    if not os.path.exists(f\"{MODELS_PATH}/{MODEL_NAME}\"):\n",
    "        os.makedirs(f\"{MODELS_PATH}/{MODEL_NAME}\")\n",
    "    model.save(f\"{MODELS_PATH}/{MODEL_NAME}/model\")\n",
    "\n",
    "    # Save Training History\n",
    "    with open(f\"{MODELS_PATH}/{MODEL_NAME}/history\", \"wb\") as file_pi:\n",
    "        pickle.dump(fit_history.history, file_pi)\n",
    "\n",
    "    # Export Model Architecture\n",
    "    plot_model(model, show_shapes=True, to_file=f\"{MODELS_PATH}/{MODEL_NAME}/model_architecture.png\")\n",
    "\n",
    "p = Process(target=train_save_model, args=(FUNCTION, VARIABLES))\n",
    "p.start()\n",
    "p.join()"
   ]
  }
 ],
 "metadata": {
  "kernelspec": {
   "display_name": "penv",
   "language": "python",
   "name": "python3"
  },
  "language_info": {
   "codemirror_mode": {
    "name": "ipython",
    "version": 3
   },
   "file_extension": ".py",
   "mimetype": "text/x-python",
   "name": "python",
   "nbconvert_exporter": "python",
   "pygments_lexer": "ipython3",
   "version": "3.11.7"
  }
 },
 "nbformat": 4,
 "nbformat_minor": 2
}
