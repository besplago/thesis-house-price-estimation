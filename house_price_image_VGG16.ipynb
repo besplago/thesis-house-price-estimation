{
 "cells": [
  {
   "cell_type": "code",
   "execution_count": null,
   "metadata": {},
   "outputs": [],
   "source": [
    "import os \n",
    "import json\n",
    "import cv2\n",
    "import matplotlib.pyplot as plt\n",
    "import pandas as pd\n",
    "import numpy as np\n",
    "from utils import *\n"
   ]
  },
  {
   "cell_type": "code",
   "execution_count": null,
   "metadata": {},
   "outputs": [],
   "source": [
    "from img_utils import *"
   ]
  },
  {
   "cell_type": "markdown",
   "metadata": {},
   "source": [
    "# Loading Data "
   ]
  },
  {
   "cell_type": "code",
   "execution_count": null,
   "metadata": {},
   "outputs": [],
   "source": [
    "path = \"../nybolig-scrape/output\"\n",
    "houses_df = data_to_DF(path, max_houses=1000)\n",
    "houses_df = houses_df[(houses_df['postal_code'] >= 1000) & (houses_df['postal_code'] <= 2920)]\n",
    "houses_df = houses_df[houses_df['type'] == 'ejerlejlighed']\n",
    "print(\"Number of datapoints of type 'Ejerlejlighed': \", len(houses_df))\n",
    "display(houses_df)"
   ]
  },
  {
   "cell_type": "markdown",
   "metadata": {},
   "source": [
    "# Setting up splits"
   ]
  },
  {
   "cell_type": "code",
   "execution_count": null,
   "metadata": {},
   "outputs": [],
   "source": [
    "from sklearn.model_selection import train_test_split\n",
    "\n",
    "# Split the data into train, validation and test sets with a 60-20-20 ratio\n",
    "train_df, test_df = train_test_split(houses_df, test_size=0.2, random_state=0)\n",
    "train_df, valid_df = train_test_split(train_df, test_size=0.20, random_state=0)"
   ]
  },
  {
   "cell_type": "code",
   "execution_count": null,
   "metadata": {},
   "outputs": [],
   "source": [
    "# As most of the original images are 2100x1400, we resize them to 448*x\n",
    "target_width = 224*3\n",
    "target_height = 224*3\n",
    "\n",
    "resize = True\n",
    "gray_scale = False\n",
    "threshhold = True\n",
    "\n",
    "train_images_RGB = preprocess_images(train_df, \"image_floorplan\", target_width, target_height, resize, gray_scale, threshhold)\n",
    "validation_images_RGB = preprocess_images(valid_df, \"image_floorplan\", target_width, target_height, resize, gray_scale, threshhold)\n",
    "test_images_RGB = preprocess_images(test_df, \"image_floorplan\", target_width, target_height, resize, gray_scale, threshhold)\n",
    "\n",
    "train_prices = train_df['price']\n",
    "validation_prices = valid_df['price']\n",
    "test_prices = test_df['price']\n",
    "\n",
    "#Plot the first 5 images and their prices \n",
    "fig, ax = plt.subplots(1, 5, figsize=(20, 20))\n",
    "for i in range(5):\n",
    "    ax[i].imshow(train_images_RGB[i])\n",
    "    ax[i].set_title(f\"Price: {train_prices.iloc[i]}\")\n",
    "    ax[i].axis('off')\n",
    "plt.show()\n"
   ]
  },
  {
   "cell_type": "markdown",
   "metadata": {},
   "source": [
    "# Pre-trained VGG16"
   ]
  },
  {
   "cell_type": "code",
   "execution_count": null,
   "metadata": {},
   "outputs": [],
   "source": [
    "import tensorflow as tf\n",
    "# Check available GPUs\n",
    "gpus = tf.config.experimental.list_physical_devices('GPU')\n",
    "if gpus:\n",
    "    # Set the GPU to be used\n",
    "    try:\n",
    "        tf.config.experimental.set_visible_devices(gpus[0], 'GPU')\n",
    "        logical_gpus = tf.config.experimental.list_logical_devices('GPU')\n",
    "        print(len(gpus), \"Physical GPUs,\", len(logical_gpus), \"Logical GPU\")\n",
    "    except RuntimeError as e:\n",
    "        # Visible devices must be set before GPUs have been initialized\n",
    "        print(e)\n",
    "else:\n",
    "    print(\"No GPU available\")"
   ]
  },
  {
   "cell_type": "markdown",
   "metadata": {},
   "source": [
    "## Model Fitting"
   ]
  },
  {
   "cell_type": "code",
   "execution_count": null,
   "metadata": {},
   "outputs": [],
   "source": [
    "from tensorflow.keras.applications import VGG16\n",
    "from tensorflow.keras.models import Sequential\n",
    "from tensorflow.keras.layers import Dense, Flatten\n",
    "from tensorflow.keras.optimizers import Adam\n",
    "\n",
    "# Load pre-trained VGG16 model (without including top layers)\n",
    "input_shape = train_images_RGB[0].shape \n",
    "base_model = VGG16(weights='imagenet', include_top=False, input_shape=input_shape)\n",
    "\n",
    "# Freeze the pre-trained layers\n",
    "for layer in base_model.layers:\n",
    "    layer.trainable = False\n",
    "\n",
    "# Add new top layers for regression\n",
    "model = Sequential([\n",
    "    base_model,\n",
    "    Flatten(),\n",
    "    Dense(512, activation=\"relu\"),\n",
    "    Dense(256, activation=\"relu\"),\n",
    "    Dense(1, activation=\"linear\")\n",
    "])"
   ]
  },
  {
   "cell_type": "code",
   "execution_count": null,
   "metadata": {},
   "outputs": [],
   "source": [
    "# Compile the model\n",
    "#0.0001\n",
    "model.compile(optimizer=Adam(learning_rate=0.01), loss='mean_absolute_error')\n",
    "model.summary()"
   ]
  },
  {
   "cell_type": "code",
   "execution_count": null,
   "metadata": {},
   "outputs": [],
   "source": [
    "# Train the model\n",
    "history = model.fit(train_images_RGB, train_prices, validation_data=(validation_images_RGB, validation_prices), epochs=2)\n",
    "#save_model(model, \"VVG16_model\")"
   ]
  },
  {
   "cell_type": "code",
   "execution_count": null,
   "metadata": {},
   "outputs": [],
   "source": [
    "model.evaluate(test_images_RGB, test_df[\"price\"])\n",
    "\n",
    "# Make predictions\n",
    "predictions = model.predict(test_images_RGB)"
   ]
  },
  {
   "cell_type": "markdown",
   "metadata": {},
   "source": [
    "## Model Evaluation"
   ]
  },
  {
   "cell_type": "code",
   "execution_count": null,
   "metadata": {},
   "outputs": [],
   "source": [
    "real_prices = test_df['price'].values\n",
    "predicted_prices = predictions.flatten()\n",
    "\n",
    "# Print the R2 score, MAE and MSE\n",
    "print(f\"R2 score: {r2_score(real_prices, predicted_prices):.2f}\")\n",
    "print(f\"Mean Absolute Error: {mae(real_prices, predicted_prices):.2f}\")\n",
    "print(f\"Mean Squared Error: {mse(real_prices, predicted_prices):.2f}\")\n",
    "\n",
    "# Plot the predictions\n",
    "plt.figure(figsize=(10, 10))\n",
    "for i, (image, label, prediction) in enumerate(zip(test_images_RGB[0:9], test_df[\"price\"][0:9], predictions[0:9])):\n",
    "    plt.subplot(3, 3, i + 1)\n",
    "    plt.imshow(image)\n",
    "    plt.title(f\"Real: {label}\\nPredicted: {prediction[0]:.0f}\")\n",
    "    plt.axis(\"off\")\n",
    "plt.show()\n",
    "\n",
    "# Plot the predictions vs real prices\n",
    "plot_regression_results('VGG16', real_prices, predicted_prices)"
   ]
  }
 ],
 "metadata": {
  "kernelspec": {
   "display_name": "Python 3",
   "language": "python",
   "name": "python3"
  },
  "language_info": {
   "codemirror_mode": {
    "name": "ipython",
    "version": 3
   },
   "file_extension": ".py",
   "mimetype": "text/x-python",
   "name": "python",
   "nbconvert_exporter": "python",
   "pygments_lexer": "ipython3",
   "version": "3.11.6"
  }
 },
 "nbformat": 4,
 "nbformat_minor": 2
}
