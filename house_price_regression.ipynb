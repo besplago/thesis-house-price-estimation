{
 "cells": [
  {
   "cell_type": "markdown",
   "metadata": {},
   "source": [
    "https://www.youtube.com/watch?v=Wqmtf9SA_kk"
   ]
  },
  {
   "cell_type": "code",
   "execution_count": null,
   "metadata": {
    "executionInfo": {
     "elapsed": 250,
     "status": "ok",
     "timestamp": 1707117461636,
     "user": {
      "displayName": "Bruce Esplago",
      "userId": "04197853926561829155"
     },
     "user_tz": -60
    },
    "id": "ZlamR6QQ_MUh"
   },
   "outputs": [],
   "source": [
    "import pandas as pd\n",
    "import numpy as np\n",
    "import matplotlib.pyplot as plt\n",
    "import seaborn as sns"
   ]
  },
  {
   "cell_type": "code",
   "execution_count": null,
   "metadata": {
    "executionInfo": {
     "elapsed": 8,
     "status": "ok",
     "timestamp": 1707117461926,
     "user": {
      "displayName": "Bruce Esplago",
      "userId": "04197853926561829155"
     },
     "user_tz": -60
    },
    "id": "pjGk_fmWsA3z"
   },
   "outputs": [],
   "source": [
    "data = pd.read_csv(\"nybolig_data.csv\")\n"
   ]
  },
  {
   "cell_type": "code",
   "execution_count": null,
   "metadata": {
    "colab": {
     "base_uri": "https://localhost:8080/",
     "height": 805
    },
    "executionInfo": {
     "elapsed": 7,
     "status": "ok",
     "timestamp": 1707117461926,
     "user": {
      "displayName": "Bruce Esplago",
      "userId": "04197853926561829155"
     },
     "user_tz": -60
    },
    "id": "dl_TGq94x4mT",
    "outputId": "b359ffe1-0386-4563-8425-b9713b848bbb"
   },
   "outputs": [],
   "source": [
    "data"
   ]
  },
  {
   "cell_type": "code",
   "execution_count": null,
   "metadata": {
    "colab": {
     "base_uri": "https://localhost:8080/"
    },
    "executionInfo": {
     "elapsed": 7,
     "status": "ok",
     "timestamp": 1707117461927,
     "user": {
      "displayName": "Bruce Esplago",
      "userId": "04197853926561829155"
     },
     "user_tz": -60
    },
    "id": "3V4G_fCUVOI3",
    "outputId": "00837880-1bc7-4aac-e378-7f0b8afc7fcd"
   },
   "outputs": [],
   "source": [
    "data.info()"
   ]
  },
  {
   "cell_type": "code",
   "execution_count": null,
   "metadata": {
    "executionInfo": {
     "elapsed": 5,
     "status": "ok",
     "timestamp": 1707117461927,
     "user": {
      "displayName": "Bruce Esplago",
      "userId": "04197853926561829155"
     },
     "user_tz": -60
    },
    "id": "1peZGNjOV5k7"
   },
   "outputs": [],
   "source": [
    "from sklearn.model_selection import train_test_split\n",
    "X = data.drop(['price'], axis = 1)\n",
    "y = data['price']"
   ]
  },
  {
   "cell_type": "code",
   "execution_count": null,
   "metadata": {
    "executionInfo": {
     "elapsed": 267,
     "status": "ok",
     "timestamp": 1707117462190,
     "user": {
      "displayName": "Bruce Esplago",
      "userId": "04197853926561829155"
     },
     "user_tz": -60
    },
    "id": "sKUyVo8yWM1t"
   },
   "outputs": [],
   "source": [
    "X_train, X_test, y_train, y_test = train_test_split(X, y, test_size = 0.2)"
   ]
  },
  {
   "cell_type": "code",
   "execution_count": null,
   "metadata": {
    "executionInfo": {
     "elapsed": 3,
     "status": "ok",
     "timestamp": 1707117462190,
     "user": {
      "displayName": "Bruce Esplago",
      "userId": "04197853926561829155"
     },
     "user_tz": -60
    },
    "id": "9uDMeigsWi-U"
   },
   "outputs": [],
   "source": [
    "train_data = X_train.join(y_train)"
   ]
  },
  {
   "cell_type": "code",
   "execution_count": null,
   "metadata": {
    "colab": {
     "base_uri": "https://localhost:8080/",
     "height": 809
    },
    "executionInfo": {
     "elapsed": 1183,
     "status": "ok",
     "timestamp": 1707117463370,
     "user": {
      "displayName": "Bruce Esplago",
      "userId": "04197853926561829155"
     },
     "user_tz": -60
    },
    "id": "3cmxrlnzWwpK",
    "outputId": "91b49d14-5703-4829-9b70-8f211663537d"
   },
   "outputs": [],
   "source": [
    "train_data.hist(figsize = (15, 8))"
   ]
  },
  {
   "cell_type": "code",
   "execution_count": null,
   "metadata": {
    "colab": {
     "base_uri": "https://localhost:8080/",
     "height": 757
    },
    "executionInfo": {
     "elapsed": 427,
     "status": "ok",
     "timestamp": 1707117463792,
     "user": {
      "displayName": "Bruce Esplago",
      "userId": "04197853926561829155"
     },
     "user_tz": -60
    },
    "id": "yEiMTHUiXB3t",
    "outputId": "07da2b84-a3b1-4db8-e55c-f3551775ee18"
   },
   "outputs": [],
   "source": [
    "plt.figure(figsize = (15, 8))\n",
    "# sns.heatmap(train_data.corr(), annot = True, cmap = \"YlGnBu\")\n",
    "# Do heatmap of correlation only on the numerical data\n",
    "sns.heatmap(train_data.select_dtypes(include = np.number).corr(), annot = True, cmap = \"YlGnBu\")"
   ]
  },
  {
   "cell_type": "code",
   "execution_count": null,
   "metadata": {},
   "outputs": [],
   "source": [
    "# Skew of the data\n",
    "train_data.select_dtypes(include = np.number).skew()"
   ]
  },
  {
   "cell_type": "code",
   "execution_count": null,
   "metadata": {
    "id": "x_nJubarIyWP"
   },
   "outputs": [],
   "source": [
    "from scipy.stats import boxcox\n",
    "# Testing different transformations of the postal_code\n",
    "transformed_test = pd.DataFrame()\n",
    "transformed_test['original'] = train_data['postal_code']\n",
    "transformed_test['sqrt'] = np.sqrt(train_data['postal_code'])\n",
    "transformed_test['log'] = np.log(train_data['postal_code'])\n",
    "transformed_test['boxcox'], _ = boxcox(train_data['postal_code'])\n",
    "transformed_test['exp'] = (train_data['postal_code']) ** 2\n",
    "transformed_test['reciprocal'] = 1 / (train_data['postal_code'])\n",
    "transformed_test['log_on_reciprocal'] = np.log(1 / (train_data['postal_code']))\n",
    "\n",
    "transformed_test.hist(figsize = (15, 8))"
   ]
  },
  {
   "cell_type": "code",
   "execution_count": null,
   "metadata": {},
   "outputs": [],
   "source": [
    "# Skew of the different transformations\n",
    "transformed_test.skew()"
   ]
  },
  {
   "cell_type": "code",
   "execution_count": null,
   "metadata": {
    "colab": {
     "base_uri": "https://localhost:8080/",
     "height": 809
    },
    "executionInfo": {
     "elapsed": 2492,
     "status": "ok",
     "timestamp": 1707117481878,
     "user": {
      "displayName": "Bruce Esplago",
      "userId": "04197853926561829155"
     },
     "user_tz": -60
    },
    "id": "V1jwkEL-YYxA",
    "outputId": "80ada954-54d4-42dc-fcb4-30ce1d44f61a"
   },
   "outputs": [],
   "source": [
    "train_data['postal_code'] = (train_data['postal_code'] + 1) ** 2\n",
    "train_data['rooms'] = np.log(train_data['rooms'] + 1)\n",
    "train_data['size'] = np.log(train_data['size'] + 1)\n",
    "train_data.hist(figsize = (15, 8))"
   ]
  },
  {
   "cell_type": "code",
   "execution_count": null,
   "metadata": {
    "colab": {
     "base_uri": "https://localhost:8080/"
    },
    "executionInfo": {
     "elapsed": 5,
     "status": "ok",
     "timestamp": 1707117465172,
     "user": {
      "displayName": "Bruce Esplago",
      "userId": "04197853926561829155"
     },
     "user_tz": -60
    },
    "id": "bfqJJh8AZboh",
    "outputId": "953520bd-b69e-4813-dccb-5c81d26d6716"
   },
   "outputs": [],
   "source": [
    "train_data.type.value_counts()"
   ]
  },
  {
   "cell_type": "markdown",
   "metadata": {},
   "source": [
    "# Regression "
   ]
  },
  {
   "cell_type": "markdown",
   "metadata": {},
   "source": [
    "Before performing regression, we encode labels for the \"Type of house\" and the \"Energy Label\". \n"
   ]
  },
  {
   "cell_type": "code",
   "execution_count": null,
   "metadata": {},
   "outputs": [],
   "source": [
    "from sklearn.preprocessing import LabelEncoder\n",
    "from sklearn.preprocessing import StandardScaler\n",
    "import warnings\n",
    "from sklearn import linear_model\n",
    "from sklearn.model_selection import cross_val_score\n",
    "\n",
    "warnings.simplefilter(action='ignore', category=FutureWarning)\n",
    "np.set_printoptions(suppress=True)"
   ]
  },
  {
   "cell_type": "code",
   "execution_count": null,
   "metadata": {},
   "outputs": [],
   "source": [
    "\"\"\"\n",
    "The type of the house  and energy_label is a categorical variable, \n",
    "and we need to encode it to a numerical value. \n",
    "We can use the LabelEncoder from sklearn to do this.\n",
    "\"\"\"\n",
    "def encodeData(x_data: pd.DataFrame, scaling:bool) -> pd.DataFrame:\n",
    "    #Encode the type and energy_label to numbers\n",
    "    x_data['type'] = LabelEncoder().fit_transform(x_data['type'])\n",
    "    x_data['energy_label'] = LabelEncoder().fit_transform(x_data['energy_label'])\n",
    "    #Drop the address and URL \n",
    "    x_data = x_data.drop(['address'], axis = 1)\n",
    "    x_data = x_data.drop(['url'], axis = 1)\n",
    "    #If Rebuilds = None, set year_rebuilt = year_built\n",
    "    x_data['year_rebuilt'] = x_data['year_rebuilt'].where(~x_data['year_rebuilt'].isna(), x_data['year_built']).astype(int)\n",
    "    x_data['basement_size'] = x_data[\"basement_size\"].fillna(0)\n",
    "\n",
    "    #Check for any NaN values\n",
    "    for index, row in x_data.iterrows():\n",
    "      if row.isna().any():\n",
    "        print(\"Row\", index, \"contains NaN values:\")\n",
    "        print(row)\n",
    "        raise ValueError(\"NaN values in row\", index)\n",
    "    \n",
    "    #Scale the dataset\n",
    "    if scaling: \n",
    "      scaler = StandardScaler()\n",
    "      x_data = pd.DataFrame(scaler.fit_transform(x_data), columns = x_data.columns)\n",
    "    return x_data\n",
    "\n",
    "encoded_X_train = encodeData(X_train, scaling=True)\n",
    "encoded_X_test = encodeData(X_test, scaling=True)\n",
    "display(encoded_X_train)"
   ]
  },
  {
   "cell_type": "markdown",
   "metadata": {},
   "source": [
    "## Lasso and Ridge Regression "
   ]
  },
  {
   "cell_type": "code",
   "execution_count": null,
   "metadata": {},
   "outputs": [],
   "source": [
    "def regression(model, x_train, y_train, x_test, y_test):\n",
    "    model.fit(x_train, y_train)\n",
    "    score = cross_val_score(model, x_train, y_train, cv = 5)\n",
    "    print(\"Scores\", score)\n",
    "    print(\"Test score: \", model.score(x_test, y_test))\n",
    "    #print(x_train.columns)\n",
    "    print(\"\\nCoefficients: \")\n",
    "    for feature, coef in zip(x_train.columns, model.coef_):\n",
    "        print(f\"{feature}: {coef}\")\n",
    "    print(\"\\nIntercept: \", model.intercept_)\n",
    "\n",
    "    #Predicting the test set results\n",
    "    y_pred = model.predict(x_test)\n",
    "    #Plotting the test set results\n",
    "    plt.scatter(y_test, y_pred)\n",
    "    plt.xlabel('True values')\n",
    "    plt.ylabel('Predictions')\n",
    "    #Plotting the perfect fit line\n",
    "    plt.plot([y_test.min(), y_test.max()], [y_test.min(), y_test.max()], c = 'r')\n",
    "    #Name the perfect fit line\n",
    "    plt.legend(['Test values', 'Perfect fit'])\n",
    "    plt.title('True values vs Predictions')\n",
    "    plt.show()\n",
    "\n",
    "#linear_model_ = linear_model.LinearRegression()\n",
    "lasso_model = linear_model.Lasso(alpha = 10)\n",
    "ridge_model = linear_model.Ridge(alpha = 10)\n",
    "#regression(linear_model_, encoded_X_train, y_train, encoded_X_test, y_test)\n",
    "regression(lasso_model, encoded_X_train, y_train, encoded_X_test, y_test)\n",
    "regression(ridge_model, encoded_X_train, y_train, encoded_X_test, y_test)"
   ]
  },
  {
   "cell_type": "markdown",
   "metadata": {},
   "source": [
    "For this results, we have the following: \n",
    "  1. Lasso Scores: These are cross-validation scores obtained using 5-fold cross-validation. They represent the R-squared values achieved by the Lasso model on different folds of the training data. Each score corresponds to one fold.\n",
    "  2. Lasso test score: This is the R-squared score of the model on the held-out test set.\n",
    "  3. Lasso coefficients: These are the weights assigned to each feature by the Lasso model. \n",
    "  4. Lasso intercept: This is the bias term of the model."
   ]
  },
  {
   "cell_type": "markdown",
   "metadata": {},
   "source": []
  },
  {
   "cell_type": "code",
   "execution_count": null,
   "metadata": {},
   "outputs": [],
   "source": []
  },
  {
   "cell_type": "code",
   "execution_count": null,
   "metadata": {},
   "outputs": [],
   "source": []
  }
 ],
 "metadata": {
  "colab": {
   "authorship_tag": "ABX9TyMdEDQ/IE+dWjZFFpuNkGpt",
   "provenance": []
  },
  "kernelspec": {
   "display_name": "Python 3",
   "name": "python3"
  },
  "language_info": {
   "codemirror_mode": {
    "name": "ipython",
    "version": 3
   },
   "file_extension": ".py",
   "mimetype": "text/x-python",
   "name": "python",
   "nbconvert_exporter": "python",
   "pygments_lexer": "ipython3",
   "version": "3.11.6"
  }
 },
 "nbformat": 4,
 "nbformat_minor": 0
}
