{
 "cells": [
  {
   "cell_type": "markdown",
   "metadata": {},
   "source": [
    "https://www.youtube.com/watch?v=Wqmtf9SA_kk"
   ]
  },
  {
   "cell_type": "code",
   "execution_count": null,
   "metadata": {
    "executionInfo": {
     "elapsed": 250,
     "status": "ok",
     "timestamp": 1707117461636,
     "user": {
      "displayName": "Bruce Esplago",
      "userId": "04197853926561829155"
     },
     "user_tz": -60
    },
    "id": "ZlamR6QQ_MUh"
   },
   "outputs": [],
   "source": [
    "import pandas as pd\n",
    "import numpy as np\n",
    "import matplotlib.pyplot as plt\n",
    "import seaborn as sns\n",
    "import warnings\n",
    "from utils import *"
   ]
  },
  {
   "cell_type": "code",
   "execution_count": null,
   "metadata": {
    "executionInfo": {
     "elapsed": 8,
     "status": "ok",
     "timestamp": 1707117461926,
     "user": {
      "displayName": "Bruce Esplago",
      "userId": "04197853926561829155"
     },
     "user_tz": -60
    },
    "id": "pjGk_fmWsA3z"
   },
   "outputs": [],
   "source": [
    "data = pd.read_csv(\"nybolig_data.csv\")\n",
    "display(data.head())\n",
    "display(data.info())"
   ]
  },
  {
   "cell_type": "code",
   "execution_count": null,
   "metadata": {
    "colab": {
     "base_uri": "https://localhost:8080/",
     "height": 805
    },
    "executionInfo": {
     "elapsed": 7,
     "status": "ok",
     "timestamp": 1707117461926,
     "user": {
      "displayName": "Bruce Esplago",
      "userId": "04197853926561829155"
     },
     "user_tz": -60
    },
    "id": "dl_TGq94x4mT",
    "outputId": "b359ffe1-0386-4563-8425-b9713b848bbb"
   },
   "outputs": [],
   "source": [
    "data"
   ]
  },
  {
   "cell_type": "code",
   "execution_count": null,
   "metadata": {
    "colab": {
     "base_uri": "https://localhost:8080/"
    },
    "executionInfo": {
     "elapsed": 7,
     "status": "ok",
     "timestamp": 1707117461927,
     "user": {
      "displayName": "Bruce Esplago",
      "userId": "04197853926561829155"
     },
     "user_tz": -60
    },
    "id": "3V4G_fCUVOI3",
    "outputId": "00837880-1bc7-4aac-e378-7f0b8afc7fcd"
   },
   "outputs": [],
   "source": [
    "data.info()"
   ]
  },
  {
   "cell_type": "code",
   "execution_count": null,
   "metadata": {
    "executionInfo": {
     "elapsed": 5,
     "status": "ok",
     "timestamp": 1707117461927,
     "user": {
      "displayName": "Bruce Esplago",
      "userId": "04197853926561829155"
     },
     "user_tz": -60
    },
    "id": "1peZGNjOV5k7"
   },
   "outputs": [],
   "source": [
    "from sklearn.model_selection import train_test_split\n",
    "X = data.drop(['price'], axis = 1)\n",
    "y = data['price']"
   ]
  },
  {
   "cell_type": "code",
   "execution_count": null,
   "metadata": {},
   "outputs": [],
   "source": [
    "data = data[(data['postal_code'] >= 1000) & (data['postal_code'] <= 2920)]\n",
    "\n",
    "# set the data to only \"ejerlejlighed\" on its type\n",
    "data = data[data['type'] == 'ejerlejlighed']\n",
    "\n",
    "len(data)"
   ]
  },
  {
   "cell_type": "code",
   "execution_count": null,
   "metadata": {},
   "outputs": [],
   "source": [
    "data.hist(figsize = (15, 8))"
   ]
  },
  {
   "cell_type": "code",
   "execution_count": null,
   "metadata": {},
   "outputs": [],
   "source": [
    "plt.figure(figsize = (15, 8))\n",
    "sns.heatmap(data.select_dtypes(include = np.number).corr(), annot = True, cmap = \"YlGnBu\")"
   ]
  },
  {
   "cell_type": "markdown",
   "metadata": {},
   "source": [
    "# Preprocessing"
   ]
  },
  {
   "cell_type": "code",
   "execution_count": null,
   "metadata": {},
   "outputs": [],
   "source": [
    "from sklearn.preprocessing import LabelEncoder\n",
    "from sklearn.preprocessing import StandardScaler"
   ]
  },
  {
   "cell_type": "code",
   "execution_count": null,
   "metadata": {},
   "outputs": [],
   "source": [
    "def preprocess_data(data, transformations: bool = False, encoding: str = 'normal', drop_low_corr: bool = False):\n",
    "    # Fill the missing values\n",
    "    data['year_rebuilt'] = data['year_rebuilt'].where(~data['year_rebuilt'].isna(), data['year_built']).astype(int)\n",
    "    data['basement_size'] = data[\"basement_size\"].fillna(0)\n",
    "    # Drop the columns that are not needed\n",
    "    data = data.drop(['url', 'address'], axis = 1)\n",
    "\n",
    "    # Apply the transformations\n",
    "    if transformations:\n",
    "        data['postal_code'] = (data['postal_code'] + 1) ** 2\n",
    "        data['price'] = np.log(data['price'] + 1)\n",
    "        data['rooms'] = np.log(data['rooms'] + 1)\n",
    "        data['size'] = np.log(data['size'] + 1)\n",
    "        data['basement_size'] = np.log(data['basement_size'] + 1)\n",
    "        data['year_built'] = (data['year_built'] + 1) ** 2\n",
    "        data['year_rebuilt'] = (data['year_rebuilt'] + 1) ** 2\n",
    "\n",
    "    #if scaling: \n",
    "    #   scaler = StandardScaler()\n",
    "    #   data = pd.DataFrame(scaler.fit_transform(data), columns = x_data.columns)\n",
    "\n",
    "    # Encode the categorical variables\n",
    "    if encoding == 'normal':\n",
    "        data['type'] = data['type'].astype('category').cat.codes\n",
    "        data['energy_label'] = data['energy_label'].astype('category').cat.codes\n",
    "        #Another way of doing it \n",
    "        #data['type'] = data().LabelEncoder().fit_transform(data['type'])\n",
    "        #data['energy_label'] = data().LabelEncoder.fit_transform(data['energy_label'])\n",
    "    elif encoding == 'onehot':\n",
    "        data = pd.get_dummies(data, columns = ['type', 'energy_label', 'postal_code'], drop_first = True, dtype=int)\n",
    "    else:\n",
    "        raise ValueError(\"The encoding parameter must be either 'normal' or 'onehot'\")\n",
    "\n",
    "    # Drop the columns that have low correlation with the target variable\n",
    "    if drop_low_corr:\n",
    "        for column in data.select_dtypes(include = np.number).columns:\n",
    "            if abs(data[column].corr(data['price'])) < 0.1:\n",
    "                data = data.drop(column, axis = 1)\n",
    "        \n",
    "    return data"
   ]
  },
  {
   "cell_type": "code",
   "execution_count": null,
   "metadata": {},
   "outputs": [],
   "source": [
    "preprocessed_data = preprocess_data(data, transformations = False, encoding = 'normal', drop_low_corr = True)"
   ]
  },
  {
   "cell_type": "code",
   "execution_count": null,
   "metadata": {},
   "outputs": [],
   "source": [
    "preprocessed_data.hist(figsize = (15, 8))"
   ]
  },
  {
   "cell_type": "code",
   "execution_count": null,
   "metadata": {},
   "outputs": [],
   "source": [
    "plt.figure(figsize = (15, 8))\n",
    "sns.heatmap(preprocessed_data.select_dtypes(include = np.number).corr(), annot = True, cmap = \"YlGnBu\")"
   ]
  },
  {
   "cell_type": "code",
   "execution_count": null,
   "metadata": {},
   "outputs": [],
   "source": [
    "X_train, X_test, y_train, y_test = train_test_split(preprocessed_data.drop(['price'], axis = 1), preprocessed_data['price'], test_size = 0.2, random_state = 0)\n",
    "display(X_train)\n",
    "display(y_train)\n"
   ]
  },
  {
   "cell_type": "markdown",
   "metadata": {},
   "source": [
    "# Regression "
   ]
  },
  {
   "cell_type": "markdown",
   "metadata": {},
   "source": [
    "## Lasso and Ridge Regression "
   ]
  },
  {
   "cell_type": "code",
   "execution_count": null,
   "metadata": {},
   "outputs": [],
   "source": [
    "from sklearn import linear_model\n",
    "from sklearn.model_selection import cross_val_score\n",
    "from sklearn.metrics import mean_squared_error, r2_score, mean_absolute_error\n",
    "warnings.simplefilter(action='ignore', category=FutureWarning)\n",
    "np.set_printoptions(suppress=True)"
   ]
  },
  {
   "cell_type": "code",
   "execution_count": null,
   "metadata": {},
   "outputs": [],
   "source": [
    "import numpy as np\n",
    "import matplotlib.pyplot as plt\n",
    "\n",
    "def regression(model, x_train, y_train, x_test, y_test):\n",
    "    model.fit(x_train, y_train)\n",
    "    score = cross_val_score(model, x_train, y_train, cv=5)\n",
    "    print(\"Scores\", score)\n",
    "    print(\"Test score: \", model.score(x_test, y_test))\n",
    "    print(\"\\nCoefficients: \")\n",
    "    for feature, coef in zip(x_train.columns, model.coef_):\n",
    "        print(f\"{feature}: {coef}\")\n",
    "    print(\"\\nIntercept: \", model.intercept_)\n",
    "\n",
    "    # Predicting the test set results\n",
    "    y_pred = model.predict(x_test)\n",
    "    \n",
    "    #Evaluating the model\n",
    "    print(\"\\nEvaluation\")\n",
    "    print(\"Mean squared error: \", mean_squared_error(y_test, y_pred))\n",
    "    print(\"Mean absolute error: \", mean_absolute_error(y_test, y_pred))\n",
    "    print(\"R2 score: \", r2_score(y_test, y_pred))\n",
    "\n",
    "    # Plotting the results\n",
    "    plot_regression_results(model.__class__.__name__, y_test, y_pred)\n",
    "\n",
    "#linear_model_ = linear_model.LinearRegression()\n",
    "lasso_model = linear_model.Lasso(alpha = 10)\n",
    "ridge_model = linear_model.Ridge(alpha = 10)\n",
    "regression(ridge_model, X_train, y_train, X_test, y_test)\n",
    "regression(lasso_model, X_train, y_train, X_test, y_test)"
   ]
  },
  {
   "cell_type": "markdown",
   "metadata": {},
   "source": [
    "For this results, we have the following: \n",
    "  1. Lasso Scores: These are cross-validation scores obtained using 5-fold cross-validation. They represent the R-squared values achieved by the Lasso model on different folds of the training data. Each score corresponds to one fold.\n",
    "  2. Lasso test score: This is the R-squared score of the model on the held-out test set.\n",
    "  3. Lasso coefficients: These are the weights assigned to each feature by the Lasso model. \n",
    "  4. Lasso intercept: This is the bias term of the model."
   ]
  },
  {
   "cell_type": "markdown",
   "metadata": {},
   "source": [
    "# Random Forest"
   ]
  },
  {
   "cell_type": "code",
   "execution_count": null,
   "metadata": {},
   "outputs": [],
   "source": [
    "from sklearn.ensemble import RandomForestRegressor\n",
    "\n",
    "forest = RandomForestRegressor(random_state = 0)\n",
    "forest.fit(X_train, y_train)"
   ]
  },
  {
   "cell_type": "code",
   "execution_count": null,
   "metadata": {},
   "outputs": [],
   "source": [
    "print(\"R2 score: \", forest.score(X_test, y_test))\n",
    "print(\"Mean squared error: \", mean_squared_error(y_test, forest.predict(X_test)))\n",
    "print(\"Mean absolute error: \", mean_absolute_error(y_test, forest.predict(X_test)))\n",
    "\n",
    "plot_regression_results(forest.__class__.__name__, y_test, forest.predict(X_test))"
   ]
  },
  {
   "cell_type": "markdown",
   "metadata": {},
   "source": [
    "## Hyperparameter Tuning"
   ]
  },
  {
   "cell_type": "code",
   "execution_count": null,
   "metadata": {},
   "outputs": [],
   "source": [
    "# from sklearn.model_selection import GridSearchCV\n",
    "\n",
    "# param_grid = {\n",
    "#     'n_estimators': [500, 1000, 1500],\n",
    "#     'max_features': [3, 4, 5],\n",
    "# }\n",
    "\n",
    "# grid_search = GridSearchCV(forest, param_grid, cv = 5, scoring='neg_mean_squared_error', return_train_score=True)\n",
    "# grid_search.fit(X_train, y_train)\n",
    "# best_forest = grid_search.best_estimator_\n",
    "# best_forest"
   ]
  },
  {
   "cell_type": "code",
   "execution_count": null,
   "metadata": {},
   "outputs": [],
   "source": [
    "# best_forest.score(X_test, y_test)"
   ]
  },
  {
   "cell_type": "code",
   "execution_count": null,
   "metadata": {},
   "outputs": [],
   "source": [
    "# print(\"Best parameters: \", grid_search.best_params_)\n",
    "# print(\"R2 score: \", best_forest.score(X_test, y_test))\n",
    "# print(\"Mean squared error: \", mean_squared_error(y_test, best_forest.predict(X_test)))\n",
    "# print(\"Mean absolute error: \", mean_absolute_error(y_test, best_forest.predict(X_test)))\n",
    "\n",
    "# plot_regression_results(best_forest.__class__.__name__, y_test, best_forest.predict(X_test))"
   ]
  },
  {
   "cell_type": "markdown",
   "metadata": {},
   "source": [
    "# Extreme Gradient Boosting "
   ]
  },
  {
   "cell_type": "code",
   "execution_count": null,
   "metadata": {},
   "outputs": [],
   "source": [
    "import xgboost as xgb"
   ]
  },
  {
   "cell_type": "code",
   "execution_count": null,
   "metadata": {},
   "outputs": [],
   "source": [
    "xgb_model = xgb.XGBRegressor(objective = 'reg:squarederror', n_estimators = 300, learning_rate = 0.1, max_depth = 3)\n",
    "xgb_model.fit(X_train, y_train)\n",
    "pred = xgb_model.predict(X_test)\n",
    "print(\"R2 score: \", r2_score(y_test, pred))\n",
    "print(\"Mean squared error: \", mean_squared_error(y_test, pred))\n",
    "print(\"Mean absolute error: \", mean_absolute_error(y_test, pred))\n",
    "\n",
    "plot_regression_results(xgb_model.__class__.__name__, y_test, pred)"
   ]
  }
 ],
 "metadata": {
  "colab": {
   "authorship_tag": "ABX9TyMdEDQ/IE+dWjZFFpuNkGpt",
   "provenance": []
  },
  "kernelspec": {
   "display_name": "Python 3",
   "name": "python3"
  },
  "language_info": {
   "codemirror_mode": {
    "name": "ipython",
    "version": 3
   },
   "file_extension": ".py",
   "mimetype": "text/x-python",
   "name": "python",
   "nbconvert_exporter": "python",
   "pygments_lexer": "ipython3",
   "version": "3.11.3"
  }
 },
 "nbformat": 4,
 "nbformat_minor": 0
}
