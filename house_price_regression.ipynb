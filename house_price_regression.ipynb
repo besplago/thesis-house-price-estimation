{
 "cells": [
  {
   "cell_type": "markdown",
   "metadata": {},
   "source": [
    "https://www.youtube.com/watch?v=Wqmtf9SA_kk"
   ]
  },
  {
   "cell_type": "code",
   "execution_count": null,
   "metadata": {
    "executionInfo": {
     "elapsed": 250,
     "status": "ok",
     "timestamp": 1707117461636,
     "user": {
      "displayName": "Bruce Esplago",
      "userId": "04197853926561829155"
     },
     "user_tz": -60
    },
    "id": "ZlamR6QQ_MUh"
   },
   "outputs": [],
   "source": [
    "import pandas as pd\n",
    "import numpy as np\n",
    "import matplotlib.pyplot as plt\n",
    "import seaborn as sns\n",
    "import warnings"
   ]
  },
  {
   "cell_type": "code",
   "execution_count": null,
   "metadata": {
    "executionInfo": {
     "elapsed": 8,
     "status": "ok",
     "timestamp": 1707117461926,
     "user": {
      "displayName": "Bruce Esplago",
      "userId": "04197853926561829155"
     },
     "user_tz": -60
    },
    "id": "pjGk_fmWsA3z"
   },
   "outputs": [],
   "source": [
    "data = pd.read_csv(\"nybolig_data.csv\")\n",
    "display(data.head())\n",
    "display(data.info())"
   ]
  },
  {
   "cell_type": "code",
   "execution_count": null,
   "metadata": {
    "colab": {
     "base_uri": "https://localhost:8080/",
     "height": 805
    },
    "executionInfo": {
     "elapsed": 7,
     "status": "ok",
     "timestamp": 1707117461926,
     "user": {
      "displayName": "Bruce Esplago",
      "userId": "04197853926561829155"
     },
     "user_tz": -60
    },
    "id": "dl_TGq94x4mT",
    "outputId": "b359ffe1-0386-4563-8425-b9713b848bbb"
   },
   "outputs": [],
   "source": [
    "data"
   ]
  },
  {
   "cell_type": "code",
   "execution_count": null,
   "metadata": {
    "colab": {
     "base_uri": "https://localhost:8080/"
    },
    "executionInfo": {
     "elapsed": 7,
     "status": "ok",
     "timestamp": 1707117461927,
     "user": {
      "displayName": "Bruce Esplago",
      "userId": "04197853926561829155"
     },
     "user_tz": -60
    },
    "id": "3V4G_fCUVOI3",
    "outputId": "00837880-1bc7-4aac-e378-7f0b8afc7fcd"
   },
   "outputs": [],
   "source": [
    "data.info()"
   ]
  },
  {
   "cell_type": "code",
   "execution_count": null,
   "metadata": {
    "executionInfo": {
     "elapsed": 5,
     "status": "ok",
     "timestamp": 1707117461927,
     "user": {
      "displayName": "Bruce Esplago",
      "userId": "04197853926561829155"
     },
     "user_tz": -60
    },
    "id": "1peZGNjOV5k7"
   },
   "outputs": [],
   "source": [
    "from sklearn.model_selection import train_test_split\n",
    "X = data.drop(['price'], axis = 1)\n",
    "y = data['price']"
   ]
  },
  {
   "cell_type": "code",
   "execution_count": null,
   "metadata": {},
   "outputs": [],
   "source": [
    "data.hist(figsize = (15, 8))"
   ]
  },
  {
   "cell_type": "code",
   "execution_count": null,
   "metadata": {},
   "outputs": [],
   "source": [
    "plt.figure(figsize = (15, 8))\n",
    "sns.heatmap(data.select_dtypes(include = np.number).corr(), annot = True, cmap = \"YlGnBu\")"
   ]
  },
  {
   "cell_type": "markdown",
   "metadata": {},
   "source": [
    "# Preprocessing"
   ]
  },
  {
   "cell_type": "code",
   "execution_count": null,
   "metadata": {},
   "outputs": [],
   "source": [
    "from sklearn.preprocessing import LabelEncoder\n",
    "from sklearn.preprocessing import StandardScaler"
   ]
  },
  {
   "cell_type": "code",
   "execution_count": null,
   "metadata": {},
   "outputs": [],
   "source": [
    "def preprocess_data(data, transformations: bool = False, encoding: str = 'normal', drop_low_corr: bool = False):\n",
    "    # Fill the missing values\n",
    "    data['year_rebuilt'] = data['year_rebuilt'].where(~data['year_rebuilt'].isna(), data['year_built']).astype(int)\n",
    "    data['basement_size'] = data[\"basement_size\"].fillna(0)\n",
    "    # Drop the columns that are not needed\n",
    "    data = data.drop(['url', 'address'], axis = 1)\n",
    "\n",
    "    # Apply the transformations\n",
    "    if transformations:\n",
    "        data['postal_code'] = (data['postal_code'] + 1) ** 2\n",
    "        data['rooms'] = np.log(data['rooms'] + 1)\n",
    "        data['size'] = np.log(data['size'] + 1)\n",
    "        data['basement_size'] = np.log(data['basement_size'] + 1)\n",
    "        data['year_built'] = (data['year_built'] + 1) ** 2\n",
    "        data['year_rebuilt'] = (data['year_rebuilt'] + 1) ** 2\n",
    "\n",
    "    #if scaling: \n",
    "    #   scaler = StandardScaler()\n",
    "    #   data = pd.DataFrame(scaler.fit_transform(data), columns = x_data.columns)\n",
    "\n",
    "    # Encode the categorical variables\n",
    "    if encoding == 'normal':\n",
    "        data['type'] = data['type'].astype('category').cat.codes\n",
    "        data['energy_label'] = data['energy_label'].astype('category').cat.codes\n",
    "        #Another way of doing it \n",
    "        #data['type'] = data().LabelEncoder().fit_transform(data['type'])\n",
    "        #data['energy_label'] = data().LabelEncoder.fit_transform(data['energy_label'])\n",
    "    elif encoding == 'onehot':\n",
    "        data = pd.get_dummies(data, columns = ['type', 'energy_label'], drop_first = True, dtype=int)\n",
    "    else:\n",
    "        raise ValueError(\"The encoding parameter must be either 'normal' or 'onehot'\")\n",
    "\n",
    "    # Drop the columns that have low correlation with the target variable\n",
    "    if drop_low_corr:\n",
    "        for column in data.select_dtypes(include = np.number).columns:\n",
    "            if abs(data[column].corr(data['price'])) < 0.1:\n",
    "                data = data.drop(column, axis = 1)\n",
    "        \n",
    "    return data"
   ]
  },
  {
   "cell_type": "code",
   "execution_count": null,
   "metadata": {},
   "outputs": [],
   "source": [
    "preprocessed_data = preprocess_data(data, transformations = False, encoding = 'onehot', drop_low_corr = True)"
   ]
  },
  {
   "cell_type": "code",
   "execution_count": null,
   "metadata": {},
   "outputs": [],
   "source": [
    "preprocessed_data.hist(figsize = (15, 8))"
   ]
  },
  {
   "cell_type": "code",
   "execution_count": null,
   "metadata": {},
   "outputs": [],
   "source": [
    "plt.figure(figsize = (15, 8))\n",
    "sns.heatmap(preprocessed_data.select_dtypes(include = np.number).corr(), annot = True, cmap = \"YlGnBu\")"
   ]
  },
  {
   "cell_type": "code",
   "execution_count": null,
   "metadata": {},
   "outputs": [],
   "source": [
    "X_train, X_test, y_train, y_test = train_test_split(preprocessed_data.drop(['price'], axis = 1), preprocessed_data['price'], test_size = 0.2, random_state = 0)\n",
    "display(X_train)\n",
    "display(y_train)\n"
   ]
  },
  {
   "cell_type": "markdown",
   "metadata": {},
   "source": [
    "# Regression "
   ]
  },
  {
   "cell_type": "markdown",
   "metadata": {},
   "source": [
    "## Lasso and Ridge Regression "
   ]
  },
  {
   "cell_type": "code",
   "execution_count": null,
   "metadata": {},
   "outputs": [],
   "source": [
    "from sklearn import linear_model\n",
    "from sklearn.model_selection import cross_val_score\n",
    "from sklearn.metrics import mean_squared_error, r2_score, mean_absolute_error\n",
    "warnings.simplefilter(action='ignore', category=FutureWarning)\n",
    "np.set_printoptions(suppress=True)"
   ]
  },
  {
   "cell_type": "code",
   "execution_count": null,
   "metadata": {},
   "outputs": [],
   "source": [
    "import numpy as np\n",
    "import matplotlib.pyplot as plt\n",
    "\n",
    "def regression(model, x_train, y_train, x_test, y_test):\n",
    "    model.fit(x_train, y_train)\n",
    "    score = cross_val_score(model, x_train, y_train, cv=5)\n",
    "    print(\"Scores\", score)\n",
    "    print(\"Test score: \", model.score(x_test, y_test))\n",
    "    print(\"\\nCoefficients: \")\n",
    "    for feature, coef in zip(x_train.columns, model.coef_):\n",
    "        print(f\"{feature}: {coef}\")\n",
    "    print(\"\\nIntercept: \", model.intercept_)\n",
    "\n",
    "    # Predicting the test set results\n",
    "    y_pred = model.predict(x_test)\n",
    "    \n",
    "    #Evaluating the model\n",
    "    print(\"\\nEvaluation\")\n",
    "    print(\"Mean squared error: \", mean_squared_error(y_test, y_pred))\n",
    "    print(\"Mean absolute error: \", mean_absolute_error(y_test, y_pred))\n",
    "    print(\"R2 score: \", r2_score(y_test, y_pred))\n",
    "\n",
    "\n",
    "    #Plotting the test set results\n",
    "    plt.scatter(y_test, y_pred)\n",
    "\n",
    "    # Calculate residuals\n",
    "    residuals = y_pred - y_test\n",
    "\n",
    "    # Calculate distances from the perfect fit line\n",
    "    distances = np.abs(y_test - y_pred)\n",
    "\n",
    "    # Define color gradient based on distances\n",
    "    colors = distances / np.max(distances)  # Normalize distances to range [0, 1]\n",
    "    # colors = plt.cm.RdYlGn_r(colors)  # Reverse the colormap: green (furthest), red (closest)\n",
    "\n",
    "    # Plot true values vs predictions with color gradient\n",
    "    plt.scatter(y_test, y_pred, c=colors)\n",
    "    plt.xlabel('True values')\n",
    "    plt.ylabel('Predictions')\n",
    "    # Plot the perfect fit line\n",
    "    plt.plot([y_test.min(), y_test.max()], [y_test.min(), y_test.max()], c='r')\n",
    "    # Name the perfect fit line\n",
    "    plt.legend(['Test values', 'Perfect fit'])\n",
    "    plt.title(f'True values vs Predictions ({model.__class__.__name__})')\n",
    "    plt.colorbar(label='Distance from Diagonal')\n",
    "    plt.show()\n",
    "\n",
    "    # Plot residuals\n",
    "    plt.scatter(y_pred, residuals, c=colors)\n",
    "    plt.hlines(y=0, xmin=y_test.min(), xmax=y_test.max(), colors='r')\n",
    "    plt.title(f'Residual plot ({model.__class__.__name__})')\n",
    "    plt.xlabel('Predicted values')\n",
    "    plt.ylabel('Residuals')\n",
    "    plt.colorbar(label='Distance from Diagonal')\n",
    "    plt.legend(['Residuals', 'Perfect fit'])\n",
    "    plt.show()\n",
    "\n",
    "\n",
    "#linear_model_ = linear_model.LinearRegression()\n",
    "lasso_model = linear_model.Lasso(alpha = 10)\n",
    "ridge_model = linear_model.Ridge(alpha = 10)\n",
    "regression(ridge_model, X_train, y_train, X_test, y_test)\n",
    "regression(lasso_model, X_train, y_train, X_test, y_test)"
   ]
  },
  {
   "cell_type": "markdown",
   "metadata": {},
   "source": [
    "For this results, we have the following: \n",
    "  1. Scores: These are cross-validation scores obtained using 5-fold cross-validation. They represent the R-squared values achieved by the Lasso model on different folds of the training data. Each score corresponds to one fold.\n",
    "  2. Test score: This is the R-squared score of the model on the held-out test set.\n",
    "  3. Coefficients: These are the weights assigned to each feature by the Lasso model. \n",
    "  4. Intercept: This is the bias term of the model."
   ]
  },
  {
   "cell_type": "markdown",
   "metadata": {},
   "source": [
    "# Extreme Gradient Boosting "
   ]
  },
  {
   "cell_type": "code",
   "execution_count": null,
   "metadata": {},
   "outputs": [],
   "source": [
    "import xgboost as xgb"
   ]
  },
  {
   "cell_type": "code",
   "execution_count": null,
   "metadata": {},
   "outputs": [],
   "source": [
    "#https://xgboost.readthedocs.io/en/stable/tutorials/model.html\n",
    "\n",
    "xgb_model = xgb.XGBRegressor(objective = 'reg:squarederror', n_estimators = 1000, learning_rate = 0.1, max_depth = 3)\n",
    "xgb_model.fit(X_train, y_train)\n",
    "pred = xgb_model.predict(X_test)\n",
    "print(\"R2 score: \", r2_score(y_test, pred))\n",
    "print(\"Mean squared error: \", mean_squared_error(y_test, pred))\n",
    "print(\"Mean absolute error: \", mean_absolute_error(y_test, pred))\n",
    "#Plot the true values vs the predicted values\n",
    "plt.scatter(y_test, pred)\n",
    "plt.xlabel('True values')\n",
    "plt.ylabel('Predictions')\n",
    "plt.title('True values vs Predictions (XGBoost)')\n",
    "plt.plot([y_test.min(), y_test.max()], [y_test.min(), y_test.max()], c='r')\n",
    "plt.legend(['Test values', 'Perfect fit'])\n",
    "plt.show()\n",
    "\n",
    "#Residual plot\n",
    "residuals = pred - y_test\n",
    "plt.scatter(pred, residuals)\n",
    "plt.hlines(y=0, xmin=y_test.min(), xmax=y_test.max(), colors='r')\n",
    "plt.title('Residual plot (XGBoost)')\n",
    "plt.xlabel('Predicted values')\n",
    "plt.ylabel('Residuals')\n",
    "plt.legend(['Residuals', 'Perfect fit'])"
   ]
  },
  {
   "cell_type": "markdown",
   "metadata": {},
   "source": [
    "# Neural Network Apporach "
   ]
  },
  {
   "cell_type": "code",
   "execution_count": null,
   "metadata": {},
   "outputs": [],
   "source": [
    "from tensorflow.keras.models import Sequential\n",
    "from tensorflow.keras.layers import Dense"
   ]
  },
  {
   "cell_type": "code",
   "execution_count": null,
   "metadata": {},
   "outputs": [],
   "source": [
    "def neural_network(x_train, y_train, x_test, y_test): \n",
    "  model = Sequential()\n",
    "\n",
    "  #Adding layers \n",
    "  num_features = x_train.shape[1]\n",
    "  model.add(Dense(64, input_dim = num_features, activation = 'relu'))\n",
    "  model.add(Dense(32, activation = 'relu'))\n",
    "  model.add(Dense(16, activation = 'relu'))\n",
    "  model.add(Dense(8, activation = 'relu'))\n",
    "  model.add(Dense(1, activation = 'linear'))\n",
    "\n",
    "  #Compiling and fitting \n",
    "  model.compile(optimizer = 'adam', loss = 'mean_squared_error')\n",
    "  model.fit(x_train, y_train, epochs = 400, batch_size = 32, verbose = 0)\n",
    "  print(\"Test score: \", model.evaluate(x_test, y_test))\n",
    "\n",
    "  # Predicting the test set results\n",
    "  y_pred = model.predict(x_test).flatten()\n",
    "\n",
    "  #Evaluating the model\n",
    "  print(\"\\nEvaluation\")\n",
    "  print(\"R2 score: \", r2_score(y_test, y_pred))\n",
    "  print(\"Mean squared error: \", mean_squared_error(y_test, y_pred))\n",
    "  print(\"Mean absolute error: \", mean_absolute_error(y_test, y_pred))\n",
    "\n",
    "  #Plotting the test set results\n",
    "  plt.scatter(y_test, y_pred)\n",
    "  plt.xlabel('True values')\n",
    "  plt.ylabel('Predictions')\n",
    "  plt.title('True values vs Predictions (Neural Network)')\n",
    "  plt.plot([y_test.min(), y_test.max()], [y_test.min(), y_test.max()], c='r')\n",
    "  plt.legend(['Test values', 'Perfect fit'])\n",
    "  plt.show()\n",
    "  \n",
    "  # Plot residuals\n",
    "  residuals = y_pred - y_test\n",
    "  plt.scatter(y_pred, residuals)\n",
    "  plt.hlines(y=0, xmin=y_test.min(), xmax=y_test.max(), colors='r')\n",
    "  plt.title('Residual plot (Neural Network)')\n",
    "  plt.xlabel('Predicted values')\n",
    "  plt.ylabel('Residuals')\n",
    "  plt.legend(['Residuals', 'Perfect fit'])\n",
    "  plt.show()\n",
    "  return None"
   ]
  },
  {
   "cell_type": "code",
   "execution_count": null,
   "metadata": {},
   "outputs": [],
   "source": [
    "neural_network(X_train, y_train, X_test, y_test)"
   ]
  },
  {
   "cell_type": "markdown",
   "metadata": {},
   "source": [
    "neural_network(X_train, y_train, X_test, y_test)"
   ]
  }
 ],
 "metadata": {
  "colab": {
   "authorship_tag": "ABX9TyMdEDQ/IE+dWjZFFpuNkGpt",
   "provenance": []
  },
  "kernelspec": {
   "display_name": "Python 3",
   "name": "python3"
  },
  "language_info": {
   "codemirror_mode": {
    "name": "ipython",
    "version": 3
   },
   "file_extension": ".py",
   "mimetype": "text/x-python",
   "name": "python",
   "nbconvert_exporter": "python",
   "pygments_lexer": "ipython3",
   "version": "3.11.3"
  }
 },
 "nbformat": 4,
 "nbformat_minor": 0
}
