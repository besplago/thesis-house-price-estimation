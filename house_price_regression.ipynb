{
 "cells": [
  {
   "cell_type": "markdown",
   "metadata": {},
   "source": [
    "https://www.youtube.com/watch?v=Wqmtf9SA_kk"
   ]
  },
  {
   "cell_type": "code",
   "execution_count": null,
   "metadata": {
    "executionInfo": {
     "elapsed": 250,
     "status": "ok",
     "timestamp": 1707117461636,
     "user": {
      "displayName": "Bruce Esplago",
      "userId": "04197853926561829155"
     },
     "user_tz": -60
    },
    "id": "ZlamR6QQ_MUh"
   },
   "outputs": [],
   "source": [
    "import pandas as pd\n",
    "import numpy as np\n",
    "import matplotlib.pyplot as plt\n",
    "import seaborn as sns\n",
    "import warnings\n",
    "from utils import *"
   ]
  },
  {
   "cell_type": "code",
   "execution_count": null,
   "metadata": {
    "executionInfo": {
     "elapsed": 8,
     "status": "ok",
     "timestamp": 1707117461926,
     "user": {
      "displayName": "Bruce Esplago",
      "userId": "04197853926561829155"
     },
     "user_tz": -60
    },
    "id": "pjGk_fmWsA3z"
   },
   "outputs": [],
   "source": [
    "path = \"../nybolig-scrape/\"\n",
    "data = pd.read_csv(path+\"nybolig_data.csv\")\n",
    "postal_codes = (1000, 2900)\n",
    "data = data[(data['postal_code'] >= postal_codes[0]) & (data['postal_code'] <= postal_codes[1])]\n",
    "\n",
    "#Count the number of types \n",
    "data = data[(data['type'] == 'ejerlejlighed')]\n",
    "\n",
    "display(data['type'].value_counts())\n",
    "display(data.head())\n",
    "display(data.info())"
   ]
  },
  {
   "cell_type": "markdown",
   "metadata": {},
   "source": [
    "# Data Exploration"
   ]
  },
  {
   "cell_type": "code",
   "execution_count": null,
   "metadata": {
    "executionInfo": {
     "elapsed": 5,
     "status": "ok",
     "timestamp": 1707117461927,
     "user": {
      "displayName": "Bruce Esplago",
      "userId": "04197853926561829155"
     },
     "user_tz": -60
    },
    "id": "1peZGNjOV5k7"
   },
   "outputs": [],
   "source": [
    "from sklearn.model_selection import train_test_split\n",
    "X = data.drop(['price'], axis = 1)\n",
    "y = data['price']"
   ]
  },
  {
   "cell_type": "code",
   "execution_count": null,
   "metadata": {},
   "outputs": [],
   "source": [
    "data = data[(data['postal_code'] >= 1000) & (data['postal_code'] <= 2920)]\n",
    "\n",
    "# set the data to only \"ejerlejlighed\" on its type\n",
    "data = data[data['type'] == 'ejerlejlighed']\n",
    "\n",
    "len(data)"
   ]
  },
  {
   "cell_type": "code",
   "execution_count": null,
   "metadata": {},
   "outputs": [],
   "source": [
    "data.hist(figsize = (15, 8))"
   ]
  },
  {
   "cell_type": "code",
   "execution_count": null,
   "metadata": {},
   "outputs": [],
   "source": [
    "plt.figure(figsize = (15, 8))\n",
    "sns.heatmap(data.select_dtypes(include = np.number).corr(), annot = True, cmap = \"YlGnBu\")"
   ]
  },
  {
   "cell_type": "markdown",
   "metadata": {},
   "source": [
    "# Preprocessing"
   ]
  },
  {
   "cell_type": "code",
   "execution_count": null,
   "metadata": {},
   "outputs": [],
   "source": [
    "from sklearn.preprocessing import LabelEncoder\n",
    "from sklearn.preprocessing import StandardScaler"
   ]
  },
  {
   "cell_type": "code",
   "execution_count": null,
   "metadata": {},
   "outputs": [],
   "source": [
    "from geopy.geocoders import Nominatim\n",
    "import re\n",
    "\n",
    "loc = Nominatim(user_agent = \"GetLoc\")\n",
    "def get_lat_long(addresses): \n",
    "    #Get the latitude and longitude of the address\n",
    "    long, lat = [], []\n",
    "    for address in addresses:\n",
    "        match = re.search(r\"(.*?)\\d\", address)\n",
    "        address = match.group(1)\n",
    "        locations = loc.geocode(address, exactly_one = False)\n",
    "        #Select location from location that is clostest to (55, 12)\n",
    "        location = min(locations, key = lambda loc: (loc.latitude - 55)**2 + (loc.longitude - 12)**2)\n",
    "\n",
    "        #Verify that the location is within (54,12) and (56, 13)\n",
    "        if location.latitude < 54 or location.latitude > 56 or location.longitude < 12 or location.longitude > 13:\n",
    "            long.append(None)\n",
    "            lat.append(None)\n",
    "        else:\n",
    "            long.append(location.longitude)\n",
    "            lat.append(location.latitude)\n",
    "    return lat, long\n",
    "\n",
    "def transformation(data):\n",
    "    data['postal_code'] = (data['postal_code'] + 1) ** 2\n",
    "    data['rooms'] = np.log(data['rooms'] + 1)\n",
    "    data['size'] = np.log(data['size'] + 1)\n",
    "    data['basement_size'] = np.log(data['basement_size'] + 1)\n",
    "    data['year_built'] = (data['year_built'] + 1) ** 2\n",
    "    data['year_rebuilt'] = (data['year_rebuilt'] + 1) ** 2\n",
    "    return data\n",
    "\n",
    "def encode(data, encoding = 'normal'):\n",
    "    if encoding == 'normal':\n",
    "        data['type'] = data['type'].astype('category').cat.codes\n",
    "        data['energy_label'] = data['energy_label'].astype('category').cat.codes\n",
    "        data['postal_code'] = data['postal_code'].astype('category').cat.codes\n",
    "    elif encoding == 'onehot':\n",
    "        data = pd.get_dummies(data, columns = ['type', 'energy_label', \"postal_code\"], drop_first = True, dtype=int)\n",
    "    else:\n",
    "        raise ValueError(\"The encoding parameter must be either 'normal' or 'onehot'\")\n",
    "    return data\n",
    "\n",
    "def drop_low_corr_(data):\n",
    "    for column in data.select_dtypes(include = np.number).columns:\n",
    "        if abs(data[column].corr(data['price'])) < 0.1:\n",
    "            data = data.drop(column, axis = 1)\n",
    "    return data\n",
    "\n",
    "def preprocess_data(data, \n",
    "                    transformations: bool = False, \n",
    "                    encoding: str = 'normal', \n",
    "                    drop_low_corr: bool = False,\n",
    "                    long_lat: bool = False):\n",
    "    # Fill the missing values\n",
    "    data['year_rebuilt'] = data['year_rebuilt'].where(~data['year_rebuilt'].isna(), data['year_built']).astype(int)\n",
    "    data['basement_size'] = data[\"basement_size\"].fillna(0)\n",
    "\n",
    "    #Set the longitude and latitude\n",
    "    if long_lat:\n",
    "        data['latitude'], data['longitude'] = get_lat_long(data['address'])\n",
    "        \n",
    "\n",
    "    # Apply the transformations\n",
    "    if transformations:\n",
    "        data = transformation(data)\n",
    "        \n",
    "    #Set label as above or below mean: \n",
    "    mean = data['price'].mean()\n",
    "    data['above_mean'] = data['price'].apply(lambda x: 1 if x > mean else 0)\n",
    "    \n",
    "    # Apply the encoding\n",
    "    data = encode(data, encoding)\n",
    "\n",
    "    # Drop the columns that have low correlation with the target variable\n",
    "    if drop_low_corr:\n",
    "        drop_low_corr_(data)\n",
    "        \n",
    "    # Drop the columns that are not needed\n",
    "    data = data.drop(['url', 'address'], axis = 1)\n",
    "\n",
    "    return data"
   ]
  },
  {
   "cell_type": "code",
   "execution_count": null,
   "metadata": {},
   "outputs": [],
   "source": [
    "preprocessed_data = preprocess_data(data, transformations = False, encoding = 'normal', drop_low_corr = True, long_lat = False)"
   ]
  },
  {
   "cell_type": "code",
   "execution_count": null,
   "metadata": {},
   "outputs": [],
   "source": [
    "preprocessed_data.hist(figsize = (15, 8))\n",
    "plt.figure(figsize = (15, 8))\n",
    "sns.heatmap(preprocessed_data.select_dtypes(include = np.number).corr(), annot = True, cmap = \"YlGnBu\")"
   ]
  },
  {
   "cell_type": "markdown",
   "metadata": {},
   "source": [
    "#  Price Regression "
   ]
  },
  {
   "cell_type": "code",
   "execution_count": null,
   "metadata": {},
   "outputs": [],
   "source": [
    "X_train, X_test, y_train, y_test = train_test_split(preprocessed_data.drop(['price', 'above_mean'], axis = 1), preprocessed_data['price'], test_size = 0.2, random_state = 0)\n",
    "display(X_train)\n",
    "display(y_train)"
   ]
  },
  {
   "cell_type": "markdown",
   "metadata": {},
   "source": [
    "## Linear, Lasso and Ridge Regression "
   ]
  },
  {
   "cell_type": "code",
   "execution_count": null,
   "metadata": {},
   "outputs": [],
   "source": [
    "from sklearn import linear_model\n",
    "from sklearn.model_selection import cross_val_score\n",
    "from sklearn.metrics import mean_squared_error, r2_score, mean_absolute_error\n",
    "warnings.simplefilter(action='ignore', category=FutureWarning)\n",
    "np.set_printoptions(suppress=True)"
   ]
  },
  {
   "cell_type": "code",
   "execution_count": null,
   "metadata": {},
   "outputs": [],
   "source": [
    "import numpy as np\n",
    "import matplotlib.pyplot as plt\n",
    "\n",
    "def regression(model, x_train, y_train, x_test, y_test):\n",
    "    model.fit(x_train, y_train)\n",
    "    score = cross_val_score(model, x_train, y_train, cv=5)\n",
    "    print(\"Scores\", score)\n",
    "    print(\"Test score: \", model.score(x_test, y_test))\n",
    "    print(\"\\nCoefficients: \")\n",
    "    for feature, coef in zip(x_train.columns, model.coef_):\n",
    "        print(f\"{feature}: {coef}\")\n",
    "    print(\"\\nIntercept: \", model.intercept_)\n",
    "\n",
    "    # Predicting the test set results\n",
    "    y_pred = model.predict(x_test)\n",
    "    \n",
    "    #Evaluating the model\n",
    "    print(\"\\nEvaluation\")\n",
    "    print(\"Mean squared error: \", mean_squared_error(y_test, y_pred))\n",
    "    print(\"Mean absolute error: \", mean_absolute_error(y_test, y_pred))\n",
    "    print(\"R2 score: \", r2_score(y_test, y_pred))\n",
    "\n",
    "    # Plotting the results\n",
    "    plot_regression_results(model.__class__.__name__, y_test, y_pred)\n",
    "\n",
    "linear_model_ = linear_model.LinearRegression()\n",
    "lasso_model = linear_model.Lasso(alpha = 10)\n",
    "ridge_model = linear_model.Ridge(alpha = 10)\n",
    "regression(linear_model_, X_train, y_train, X_test, y_test)\n",
    "regression(ridge_model, X_train, y_train, X_test, y_test)\n",
    "regression(lasso_model, X_train, y_train, X_test, y_test)"
   ]
  },
  {
   "cell_type": "markdown",
   "metadata": {},
   "source": [
    "For this results, we have the following: \n",
    "  1. Scores: These are cross-validation scores obtained using 5-fold cross-validation. They represent the R-squared values achieved by the Lasso model on different folds of the training data. Each score corresponds to one fold.\n",
    "  2. Test score: This is the R-squared score of the model on the held-out test set.\n",
    "  3. Coefficients: These are the weights assigned to each feature by the  model. \n",
    "  4. Intercept: This is the bias term of the model."
   ]
  },
  {
   "cell_type": "markdown",
   "metadata": {},
   "source": [
    "## Random Forest "
   ]
  },
  {
   "cell_type": "code",
   "execution_count": null,
   "metadata": {},
   "outputs": [],
   "source": [
    "from sklearn.ensemble import RandomForestRegressor\n",
    "\n",
    "forest = RandomForestRegressor(random_state = 0)\n",
    "forest.fit(X_train, y_train)"
   ]
  },
  {
   "cell_type": "code",
   "execution_count": null,
   "metadata": {},
   "outputs": [],
   "source": [
    "print(\"Feauture Importance\")\n",
    "for feature, importance in zip(X_train.columns, forest.feature_importances_):\n",
    "    print((feature), round(importance,4))\n",
    "print(\"R2 score: \", forest.score(X_test, y_test))\n",
    "print(\"Mean squared error: \", mean_squared_error(y_test, forest.predict(X_test)))\n",
    "print(\"Mean absolute error: \", mean_absolute_error(y_test, forest.predict(X_test)))\n",
    "\n",
    "plot_regression_results(forest.__class__.__name__, y_test, forest.predict(X_test))"
   ]
  },
  {
   "cell_type": "markdown",
   "metadata": {},
   "source": [
    "## Hyperparameter Tuning"
   ]
  },
  {
   "cell_type": "code",
   "execution_count": null,
   "metadata": {},
   "outputs": [],
   "source": [
    "# from sklearn.model_selection import GridSearchCV\n",
    "\n",
    "# param_grid = {\n",
    "#     'n_estimators': [500, 1000, 1500],\n",
    "#     'max_features': [3, 4, 5],\n",
    "# }\n",
    "\n",
    "# grid_search = GridSearchCV(forest, param_grid, cv = 5, scoring='neg_mean_squared_error', return_train_score=True)\n",
    "# grid_search.fit(X_train, y_train)\n",
    "# best_forest = grid_search.best_estimator_\n",
    "# best_forest"
   ]
  },
  {
   "cell_type": "code",
   "execution_count": null,
   "metadata": {},
   "outputs": [],
   "source": [
    "# best_forest.score(X_test, y_test)"
   ]
  },
  {
   "cell_type": "code",
   "execution_count": null,
   "metadata": {},
   "outputs": [],
   "source": [
    "# print(\"Best parameters: \", grid_search.best_params_)\n",
    "# print(\"R2 score: \", best_forest.score(X_test, y_test))\n",
    "# print(\"Mean squared error: \", mean_squared_error(y_test, best_forest.predict(X_test)))\n",
    "# print(\"Mean absolute error: \", mean_absolute_error(y_test, best_forest.predict(X_test)))\n",
    "\n",
    "# plot_regression_results(best_forest.__class__.__name__, y_test, best_forest.predict(X_test))"
   ]
  },
  {
   "cell_type": "markdown",
   "metadata": {},
   "source": [
    "## Extreme Gradient Boosting "
   ]
  },
  {
   "cell_type": "code",
   "execution_count": null,
   "metadata": {},
   "outputs": [],
   "source": [
    "import xgboost as xgb"
   ]
  },
  {
   "cell_type": "code",
   "execution_count": null,
   "metadata": {},
   "outputs": [],
   "source": [
    "xgb_model = xgb.XGBRegressor(objective = 'reg:squarederror', n_estimators = 300, learning_rate = 0.1, max_depth = 3)\n",
    "xgb_model.fit(X_train, y_train)\n",
    "pred = xgb_model.predict(X_test)\n",
    "print(\"R2 score: \", r2_score(y_test, pred))\n",
    "print(\"Mean squared error: \", mean_squared_error(y_test, pred))\n",
    "print(\"Mean absolute error: \", mean_absolute_error(y_test, pred))\n",
    "\n",
    "plot_regression_results(xgb_model.__class__.__name__, y_test, pred)\n"
   ]
  },
  {
   "cell_type": "markdown",
   "metadata": {},
   "source": [
    "## Neural Network Apporach "
   ]
  },
  {
   "cell_type": "code",
   "execution_count": null,
   "metadata": {},
   "outputs": [],
   "source": [
    "from tensorflow.keras.models import Sequential\n",
    "from tensorflow.keras.layers import Dense"
   ]
  },
  {
   "cell_type": "code",
   "execution_count": null,
   "metadata": {},
   "outputs": [],
   "source": [
    "def neural_network(x_train, y_train, x_test, y_test): \n",
    "  model = Sequential()\n",
    "\n",
    "  #Adding layers \n",
    "  num_features = x_train.shape[1]\n",
    "  model.add(Dense(64, input_dim = num_features, activation = 'relu'))\n",
    "  model.add(Dense(32, activation = 'relu'))\n",
    "  model.add(Dense(16, activation = 'relu'))\n",
    "  model.add(Dense(8, activation = 'relu'))\n",
    "  model.add(Dense(1, activation = 'linear'))\n",
    "\n",
    "  #Compiling and fitting \n",
    "  model.compile(optimizer = 'adam', loss = 'mean_squared_error')\n",
    "  model.fit(x_train, y_train, epochs = 400, batch_size = 32, verbose = 0)\n",
    "  print(\"Test score: \", model.evaluate(x_test, y_test))\n",
    "\n",
    "  y_pred = model.predict(x_test).flatten()\n",
    "\n",
    "  #Evaluating the model\n",
    "  print(\"\\nEvaluation\")\n",
    "  print(\"R2 score: \", r2_score(y_test, y_pred))\n",
    "  print(\"Mean squared error: \", mean_squared_error(y_test, y_pred))\n",
    "  print(\"Mean absolute error: \", mean_absolute_error(y_test, y_pred))\n",
    "  # Predicting the test set results\n",
    "  plot_regression_results(xgb_model.__class__.__name__, y_test, y_pred)\n",
    "  return None"
   ]
  },
  {
   "cell_type": "code",
   "execution_count": null,
   "metadata": {},
   "outputs": [],
   "source": [
    "neural_network(X_train, y_train, X_test, y_test)"
   ]
  },
  {
   "cell_type": "markdown",
   "metadata": {},
   "source": [
    "neural_network(X_train, y_train, X_test, y_test)"
   ]
  },
  {
   "cell_type": "markdown",
   "metadata": {},
   "source": [
    "# Binary Regression"
   ]
  },
  {
   "cell_type": "code",
   "execution_count": null,
   "metadata": {},
   "outputs": [],
   "source": [
    "X_train_binary, X_test_binary, y_train_binary, y_test_binary = train_test_split(preprocessed_data.drop(['price', 'above_mean'], axis = 1), preprocessed_data['above_mean'], test_size = 0.2, random_state = 0)\n",
    "display(X_train_binary)"
   ]
  },
  {
   "cell_type": "markdown",
   "metadata": {},
   "source": [
    "## Random Forrest Binary Regression"
   ]
  },
  {
   "cell_type": "code",
   "execution_count": null,
   "metadata": {},
   "outputs": [],
   "source": [
    "# Do the same for the binary classification\n",
    "from sklearn.ensemble import RandomForestClassifier, GradientBoostingClassifier\n",
    "from sklearn.linear_model import LogisticRegression \n",
    "from sklearn.metrics import accuracy_score\n",
    "\n",
    "logistic_regression = LogisticRegression()\n",
    "gradient_boosting = GradientBoostingClassifier()\n",
    "random_forest = RandomForestClassifier()\n",
    "\n",
    "def classification(model, x_train, y_train, x_test, y_test):\n",
    "    print(model.__class__.__name__)\n",
    "    model.fit(x_train, y_train)\n",
    "    score = cross_val_score(model, x_train, y_train, cv=5)\n",
    "    print(\"Cross Val Scores\", score)\n",
    "    print(\"Test score: \", model.score(x_test, y_test))\n",
    "    print(\"Accuracy: \", accuracy_score(y_test, model.predict(x_test)))\n",
    "\n",
    "    return None\n",
    "\n",
    "classification(gradient_boosting, X_train_binary, y_train_binary, X_test_binary, y_test_binary)\n",
    "classification(random_forest, X_train_binary, y_train_binary, X_test_binary, y_test_binary)\n",
    "#classification(logistic_regression, X_train_binary, y_train_binary, X_test_binary, y_test_binary)"
   ]
  }
 ],
 "metadata": {
  "colab": {
   "authorship_tag": "ABX9TyMdEDQ/IE+dWjZFFpuNkGpt",
   "provenance": []
  },
  "kernelspec": {
   "display_name": "Python 3",
   "name": "python3"
  },
  "language_info": {
   "codemirror_mode": {
    "name": "ipython",
    "version": 3
   },
   "file_extension": ".py",
   "mimetype": "text/x-python",
   "name": "python",
   "nbconvert_exporter": "python",
   "pygments_lexer": "ipython3",
   "version": "3.11.3"
  }
 },
 "nbformat": 4,
 "nbformat_minor": 0
}
