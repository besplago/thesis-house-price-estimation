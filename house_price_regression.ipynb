{
 "cells": [
  {
   "cell_type": "markdown",
   "metadata": {},
   "source": [
    "https://www.youtube.com/watch?v=Wqmtf9SA_kk"
   ]
  },
  {
   "cell_type": "code",
   "execution_count": null,
   "metadata": {
    "executionInfo": {
     "elapsed": 250,
     "status": "ok",
     "timestamp": 1707117461636,
     "user": {
      "displayName": "Bruce Esplago",
      "userId": "04197853926561829155"
     },
     "user_tz": -60
    },
    "id": "ZlamR6QQ_MUh"
   },
   "outputs": [],
   "source": [
    "import pandas as pd\n",
    "import numpy as np\n",
    "import matplotlib.pyplot as plt\n",
    "import seaborn as sns\n",
    "import warnings"
   ]
  },
  {
   "cell_type": "code",
   "execution_count": null,
   "metadata": {
    "executionInfo": {
     "elapsed": 8,
     "status": "ok",
     "timestamp": 1707117461926,
     "user": {
      "displayName": "Bruce Esplago",
      "userId": "04197853926561829155"
     },
     "user_tz": -60
    },
    "id": "pjGk_fmWsA3z"
   },
   "outputs": [],
   "source": [
    "data = pd.read_csv(\"nybolig_data.csv\")\n",
    "display(data.head())\n",
    "display(data.info())"
   ]
  },
  {
   "cell_type": "code",
   "execution_count": 1488,
   "metadata": {
    "colab": {
     "base_uri": "https://localhost:8080/",
     "height": 805
    },
    "executionInfo": {
     "elapsed": 7,
     "status": "ok",
     "timestamp": 1707117461926,
     "user": {
      "displayName": "Bruce Esplago",
      "userId": "04197853926561829155"
     },
     "user_tz": -60
    },
    "id": "dl_TGq94x4mT",
    "outputId": "b359ffe1-0386-4563-8425-b9713b848bbb"
   },
   "outputs": [
    {
     "data": {
      "text/html": [
       "<div>\n",
       "<style scoped>\n",
       "    .dataframe tbody tr th:only-of-type {\n",
       "        vertical-align: middle;\n",
       "    }\n",
       "\n",
       "    .dataframe tbody tr th {\n",
       "        vertical-align: top;\n",
       "    }\n",
       "\n",
       "    .dataframe thead th {\n",
       "        text-align: right;\n",
       "    }\n",
       "</style>\n",
       "<table border=\"1\" class=\"dataframe\">\n",
       "  <thead>\n",
       "    <tr style=\"text-align: right;\">\n",
       "      <th></th>\n",
       "      <th>url</th>\n",
       "      <th>address</th>\n",
       "      <th>postal_code</th>\n",
       "      <th>type</th>\n",
       "      <th>price</th>\n",
       "      <th>size</th>\n",
       "      <th>basement_size</th>\n",
       "      <th>rooms</th>\n",
       "      <th>year_built</th>\n",
       "      <th>year_rebuilt</th>\n",
       "      <th>energy_label</th>\n",
       "    </tr>\n",
       "  </thead>\n",
       "  <tbody>\n",
       "    <tr>\n",
       "      <th>0</th>\n",
       "      <td>https://www.nybolig.dk/villa/3100/arfriisvej/2...</td>\n",
       "      <td>A R Friis Vej 9 3100 Hornbæk</td>\n",
       "      <td>3100</td>\n",
       "      <td>villa</td>\n",
       "      <td>9975000</td>\n",
       "      <td>269</td>\n",
       "      <td>12.0</td>\n",
       "      <td>9</td>\n",
       "      <td>1895</td>\n",
       "      <td>1999.0</td>\n",
       "      <td>D</td>\n",
       "    </tr>\n",
       "    <tr>\n",
       "      <th>1</th>\n",
       "      <td>https://www.nybolig.dk/fritidshus/7990/akoldin...</td>\n",
       "      <td>A. Koldings Vej 8 Sillerslev 7990 Øster Assels</td>\n",
       "      <td>7990</td>\n",
       "      <td>fritidsbolig</td>\n",
       "      <td>1495000</td>\n",
       "      <td>96</td>\n",
       "      <td>0.0</td>\n",
       "      <td>4</td>\n",
       "      <td>2008</td>\n",
       "      <td>NaN</td>\n",
       "      <td>NaN</td>\n",
       "    </tr>\n",
       "    <tr>\n",
       "      <th>2</th>\n",
       "      <td>https://www.nybolig.dk/villa/6400/aabenraavej/...</td>\n",
       "      <td>Aabenraavej 103 Ragebøl 6400 Sønderborg</td>\n",
       "      <td>6400</td>\n",
       "      <td>villa</td>\n",
       "      <td>1295000</td>\n",
       "      <td>219</td>\n",
       "      <td>0.0</td>\n",
       "      <td>7</td>\n",
       "      <td>1924</td>\n",
       "      <td>NaN</td>\n",
       "      <td>E</td>\n",
       "    </tr>\n",
       "    <tr>\n",
       "      <th>3</th>\n",
       "      <td>https://www.nybolig.dk/villa/6100/aabenraavej/...</td>\n",
       "      <td>Aabenraavej 59 6100 Haderslev</td>\n",
       "      <td>6100</td>\n",
       "      <td>villa</td>\n",
       "      <td>2495000</td>\n",
       "      <td>226</td>\n",
       "      <td>35.0</td>\n",
       "      <td>6</td>\n",
       "      <td>1947</td>\n",
       "      <td>2010.0</td>\n",
       "      <td>C</td>\n",
       "    </tr>\n",
       "    <tr>\n",
       "      <th>4</th>\n",
       "      <td>https://www.nybolig.dk/villa/9240/aagade/27020...</td>\n",
       "      <td>Aagade 4 Vegger 9240 Nibe</td>\n",
       "      <td>9240</td>\n",
       "      <td>villa</td>\n",
       "      <td>495000</td>\n",
       "      <td>159</td>\n",
       "      <td>59.0</td>\n",
       "      <td>4</td>\n",
       "      <td>1958</td>\n",
       "      <td>NaN</td>\n",
       "      <td>D</td>\n",
       "    </tr>\n",
       "    <tr>\n",
       "      <th>...</th>\n",
       "      <td>...</td>\n",
       "      <td>...</td>\n",
       "      <td>...</td>\n",
       "      <td>...</td>\n",
       "      <td>...</td>\n",
       "      <td>...</td>\n",
       "      <td>...</td>\n",
       "      <td>...</td>\n",
       "      <td>...</td>\n",
       "      <td>...</td>\n",
       "      <td>...</td>\n",
       "    </tr>\n",
       "    <tr>\n",
       "      <th>5420</th>\n",
       "      <td>https://www.nybolig.dk/villa/8210/oestrevej/25...</td>\n",
       "      <td>Østrevej 5 Hasle 8210 Aarhus V</td>\n",
       "      <td>8210</td>\n",
       "      <td>villa</td>\n",
       "      <td>5248000</td>\n",
       "      <td>111</td>\n",
       "      <td>90.0</td>\n",
       "      <td>6</td>\n",
       "      <td>1928</td>\n",
       "      <td>2012.0</td>\n",
       "      <td>C</td>\n",
       "    </tr>\n",
       "    <tr>\n",
       "      <th>5421</th>\n",
       "      <td>https://www.nybolig.dk/villa/8930/oestrupvej/2...</td>\n",
       "      <td>Østrupvej 11 Albæk 8930 Randers NØ</td>\n",
       "      <td>8930</td>\n",
       "      <td>villa</td>\n",
       "      <td>995000</td>\n",
       "      <td>231</td>\n",
       "      <td>0.0</td>\n",
       "      <td>6</td>\n",
       "      <td>1850</td>\n",
       "      <td>2006.0</td>\n",
       "      <td>E</td>\n",
       "    </tr>\n",
       "    <tr>\n",
       "      <th>5422</th>\n",
       "      <td>https://www.nybolig.dk/villa/7130/oestrupvej/2...</td>\n",
       "      <td>Østrupvej 26 Glud 7130 Juelsminde</td>\n",
       "      <td>7130</td>\n",
       "      <td>villa</td>\n",
       "      <td>895000</td>\n",
       "      <td>83</td>\n",
       "      <td>6.0</td>\n",
       "      <td>4</td>\n",
       "      <td>1952</td>\n",
       "      <td>NaN</td>\n",
       "      <td>D</td>\n",
       "    </tr>\n",
       "    <tr>\n",
       "      <th>5423</th>\n",
       "      <td>https://www.nybolig.dk/villa/7130/oestrupvej/2...</td>\n",
       "      <td>Østrupvej 49 Glud 7130 Juelsminde</td>\n",
       "      <td>7130</td>\n",
       "      <td>villa</td>\n",
       "      <td>3995000</td>\n",
       "      <td>241</td>\n",
       "      <td>0.0</td>\n",
       "      <td>7</td>\n",
       "      <td>1986</td>\n",
       "      <td>2008.0</td>\n",
       "      <td>A2010</td>\n",
       "    </tr>\n",
       "    <tr>\n",
       "      <th>5424</th>\n",
       "      <td>https://www.nybolig.dk/fritidshus/6990/oevej/2...</td>\n",
       "      <td>Øvej 13 Husby Strandenge 6990 Ulfborg</td>\n",
       "      <td>6990</td>\n",
       "      <td>fritidsbolig</td>\n",
       "      <td>1745000</td>\n",
       "      <td>120</td>\n",
       "      <td>0.0</td>\n",
       "      <td>5</td>\n",
       "      <td>2008</td>\n",
       "      <td>NaN</td>\n",
       "      <td>NaN</td>\n",
       "    </tr>\n",
       "  </tbody>\n",
       "</table>\n",
       "<p>5425 rows × 11 columns</p>\n",
       "</div>"
      ],
      "text/plain": [
       "                                                    url  \\\n",
       "0     https://www.nybolig.dk/villa/3100/arfriisvej/2...   \n",
       "1     https://www.nybolig.dk/fritidshus/7990/akoldin...   \n",
       "2     https://www.nybolig.dk/villa/6400/aabenraavej/...   \n",
       "3     https://www.nybolig.dk/villa/6100/aabenraavej/...   \n",
       "4     https://www.nybolig.dk/villa/9240/aagade/27020...   \n",
       "...                                                 ...   \n",
       "5420  https://www.nybolig.dk/villa/8210/oestrevej/25...   \n",
       "5421  https://www.nybolig.dk/villa/8930/oestrupvej/2...   \n",
       "5422  https://www.nybolig.dk/villa/7130/oestrupvej/2...   \n",
       "5423  https://www.nybolig.dk/villa/7130/oestrupvej/2...   \n",
       "5424  https://www.nybolig.dk/fritidshus/6990/oevej/2...   \n",
       "\n",
       "                                             address  postal_code  \\\n",
       "0                       A R Friis Vej 9 3100 Hornbæk         3100   \n",
       "1     A. Koldings Vej 8 Sillerslev 7990 Øster Assels         7990   \n",
       "2            Aabenraavej 103 Ragebøl 6400 Sønderborg         6400   \n",
       "3                      Aabenraavej 59 6100 Haderslev         6100   \n",
       "4                          Aagade 4 Vegger 9240 Nibe         9240   \n",
       "...                                              ...          ...   \n",
       "5420                  Østrevej 5 Hasle 8210 Aarhus V         8210   \n",
       "5421              Østrupvej 11 Albæk 8930 Randers NØ         8930   \n",
       "5422               Østrupvej 26 Glud 7130 Juelsminde         7130   \n",
       "5423               Østrupvej 49 Glud 7130 Juelsminde         7130   \n",
       "5424           Øvej 13 Husby Strandenge 6990 Ulfborg         6990   \n",
       "\n",
       "              type    price  size  basement_size  rooms  year_built  \\\n",
       "0            villa  9975000   269           12.0      9        1895   \n",
       "1     fritidsbolig  1495000    96            0.0      4        2008   \n",
       "2            villa  1295000   219            0.0      7        1924   \n",
       "3            villa  2495000   226           35.0      6        1947   \n",
       "4            villa   495000   159           59.0      4        1958   \n",
       "...            ...      ...   ...            ...    ...         ...   \n",
       "5420         villa  5248000   111           90.0      6        1928   \n",
       "5421         villa   995000   231            0.0      6        1850   \n",
       "5422         villa   895000    83            6.0      4        1952   \n",
       "5423         villa  3995000   241            0.0      7        1986   \n",
       "5424  fritidsbolig  1745000   120            0.0      5        2008   \n",
       "\n",
       "      year_rebuilt energy_label  \n",
       "0           1999.0            D  \n",
       "1              NaN          NaN  \n",
       "2              NaN            E  \n",
       "3           2010.0            C  \n",
       "4              NaN            D  \n",
       "...            ...          ...  \n",
       "5420        2012.0            C  \n",
       "5421        2006.0            E  \n",
       "5422           NaN            D  \n",
       "5423        2008.0        A2010  \n",
       "5424           NaN          NaN  \n",
       "\n",
       "[5425 rows x 11 columns]"
      ]
     },
     "execution_count": 1488,
     "metadata": {},
     "output_type": "execute_result"
    }
   ],
   "source": [
    "data"
   ]
  },
  {
   "cell_type": "code",
   "execution_count": 1489,
   "metadata": {
    "colab": {
     "base_uri": "https://localhost:8080/"
    },
    "executionInfo": {
     "elapsed": 7,
     "status": "ok",
     "timestamp": 1707117461927,
     "user": {
      "displayName": "Bruce Esplago",
      "userId": "04197853926561829155"
     },
     "user_tz": -60
    },
    "id": "3V4G_fCUVOI3",
    "outputId": "00837880-1bc7-4aac-e378-7f0b8afc7fcd"
   },
   "outputs": [
    {
     "name": "stdout",
     "output_type": "stream",
     "text": [
      "<class 'pandas.core.frame.DataFrame'>\n",
      "RangeIndex: 5425 entries, 0 to 5424\n",
      "Data columns (total 11 columns):\n",
      " #   Column         Non-Null Count  Dtype  \n",
      "---  ------         --------------  -----  \n",
      " 0   url            5425 non-null   object \n",
      " 1   address        5425 non-null   object \n",
      " 2   postal_code    5425 non-null   int64  \n",
      " 3   type           5425 non-null   object \n",
      " 4   price          5425 non-null   int64  \n",
      " 5   size           5425 non-null   int64  \n",
      " 6   basement_size  4528 non-null   float64\n",
      " 7   rooms          5425 non-null   int64  \n",
      " 8   year_built     5425 non-null   int64  \n",
      " 9   year_rebuilt   2049 non-null   float64\n",
      " 10  energy_label   4789 non-null   object \n",
      "dtypes: float64(2), int64(5), object(4)\n",
      "memory usage: 466.3+ KB\n"
     ]
    }
   ],
   "source": [
    "data.info()"
   ]
  },
  {
   "cell_type": "code",
   "execution_count": null,
   "metadata": {
    "executionInfo": {
     "elapsed": 5,
     "status": "ok",
     "timestamp": 1707117461927,
     "user": {
      "displayName": "Bruce Esplago",
      "userId": "04197853926561829155"
     },
     "user_tz": -60
    },
    "id": "1peZGNjOV5k7"
   },
   "outputs": [],
   "source": [
    "from sklearn.model_selection import train_test_split\n",
    "X = data.drop(['price'], axis = 1)\n",
    "y = data['price']"
   ]
  },
  {
   "cell_type": "code",
   "execution_count": null,
   "metadata": {},
   "outputs": [],
   "source": [
    "data.hist(figsize = (15, 8))"
   ]
  },
  {
   "cell_type": "code",
   "execution_count": null,
   "metadata": {},
   "outputs": [],
   "source": [
    "plt.figure(figsize = (15, 8))\n",
    "sns.heatmap(data.select_dtypes(include = np.number).corr(), annot = True, cmap = \"YlGnBu\")"
   ]
  },
  {
   "cell_type": "markdown",
   "metadata": {},
   "source": [
    "# Preprocessing"
   ]
  },
  {
   "cell_type": "code",
   "execution_count": null,
   "metadata": {},
   "outputs": [],
   "source": [
    "from sklearn.preprocessing import LabelEncoder\n",
    "from sklearn.preprocessing import StandardScaler"
   ]
  },
  {
   "cell_type": "code",
   "execution_count": null,
   "metadata": {},
   "outputs": [],
   "source": [
    "def preprocess_data(data, transformations: bool = False, encoding: str = 'normal', drop_low_corr: bool = False):\n",
    "    # Fill the missing values\n",
    "    data['year_rebuilt'] = data['year_rebuilt'].where(~data['year_rebuilt'].isna(), data['year_built']).astype(int)\n",
    "    data['basement_size'] = data[\"basement_size\"].fillna(0)\n",
    "    # Drop the columns that are not needed\n",
    "    data = data.drop(['url', 'address'], axis = 1)\n",
    "\n",
    "    # Apply the transformations\n",
    "    if transformations:\n",
    "        data['postal_code'] = (data['postal_code'] + 1) ** 2\n",
    "        data['rooms'] = np.log(data['rooms'] + 1)\n",
    "        data['size'] = np.log(data['size'] + 1)\n",
    "        data['basement_size'] = np.log(data['basement_size'] + 1)\n",
    "        data['year_built'] = (data['year_built'] + 1) ** 2\n",
    "        data['year_rebuilt'] = (data['year_rebuilt'] + 1) ** 2\n",
    "\n",
    "    #if scaling: \n",
    "    #   scaler = StandardScaler()\n",
    "    #   x_data = pd.DataFrame(scaler.fit_transform(x_data), columns = x_data.columns)\n",
    "\n",
    "    # Encode the categorical variables\n",
    "    if encoding == 'normal':\n",
    "        data['type'] = data['type'].astype('category').cat.codes\n",
    "        data['energy_label'] = data['energy_label'].astype('category').cat.codes\n",
    "        #Another way of doing it \n",
    "        #data['type'] = data().LabelEncoder().fit_transform(data['type'])\n",
    "        #data['energy_label'] = data().LabelEncoder.fit_transform(data['energy_label'])\n",
    "    elif encoding == 'onehot':\n",
    "        data = pd.get_dummies(data, columns = ['type', 'energy_label'], drop_first = True, dtype=int)\n",
    "    else:\n",
    "        raise ValueError(\"The encoding parameter must be either 'normal' or 'onehot'\")\n",
    "\n",
    "    # Drop the columns that have low correlation with the target variable\n",
    "    if drop_low_corr:\n",
    "        for column in data.select_dtypes(include = np.number).columns:\n",
    "            if abs(data[column].corr(data['price'])) < 0.1:\n",
    "                data = data.drop(column, axis = 1)\n",
    "        \n",
    "    return data"
   ]
  },
  {
   "cell_type": "code",
   "execution_count": null,
   "metadata": {},
   "outputs": [],
   "source": [
    "preprocessed_data = preprocess_data(data, transformations = False, encoding = 'onehot', drop_low_corr = True)"
   ]
  },
  {
   "cell_type": "code",
   "execution_count": null,
   "metadata": {},
   "outputs": [],
   "source": [
    "preprocessed_data.hist(figsize = (15, 8))"
   ]
  },
  {
   "cell_type": "code",
   "execution_count": null,
   "metadata": {},
   "outputs": [],
   "source": [
    "plt.figure(figsize = (15, 8))\n",
    "sns.heatmap(preprocessed_data.select_dtypes(include = np.number).corr(), annot = True, cmap = \"YlGnBu\")"
   ]
  },
  {
   "cell_type": "code",
   "execution_count": null,
   "metadata": {},
   "outputs": [],
   "source": [
    "X_train, X_test, y_train, y_test = train_test_split(preprocessed_data.drop(['price'], axis = 1), preprocessed_data['price'], test_size = 0.2, random_state = 0)\n",
    "X_train"
   ]
  },
  {
   "cell_type": "markdown",
   "metadata": {},
   "source": [
    "# Regression "
   ]
  },
  {
   "cell_type": "markdown",
   "metadata": {},
   "source": [
    "## Lasso and Ridge Regression "
   ]
  },
  {
   "cell_type": "code",
   "execution_count": null,
   "metadata": {},
   "outputs": [],
   "source": [
    "from sklearn import linear_model\n",
    "from sklearn.model_selection import cross_val_score\n",
    "warnings.simplefilter(action='ignore', category=FutureWarning)\n",
    "np.set_printoptions(suppress=True)"
   ]
  },
  {
   "cell_type": "code",
   "execution_count": null,
   "metadata": {},
   "outputs": [],
   "source": [
    "import numpy as np\n",
    "import matplotlib.pyplot as plt\n",
    "\n",
    "def regression(model, x_train, y_train, x_test, y_test):\n",
    "    model.fit(x_train, y_train)\n",
    "    score = cross_val_score(model, x_train, y_train, cv=5)\n",
    "    print(\"Scores\", score)\n",
    "    print(\"Test score: \", model.score(x_test, y_test))\n",
    "    print(\"\\nCoefficients: \")\n",
    "    for feature, coef in zip(x_train.columns, model.coef_):\n",
    "        print(f\"{feature}: {coef}\")\n",
    "    print(\"\\nIntercept: \", model.intercept_)\n",
    "\n",
    "    # Predicting the test set results\n",
    "    y_pred = model.predict(x_test)\n",
    "\n",
    "    # Calculate residuals\n",
    "    residuals = y_pred - y_test\n",
    "\n",
    "    # Calculate distances from the perfect fit line\n",
    "    distances = np.abs(y_test - y_pred)\n",
    "\n",
    "    # Define color gradient based on distances\n",
    "    colors = distances / np.max(distances)  # Normalize distances to range [0, 1]\n",
    "    # colors = plt.cm.RdYlGn_r(colors)  # Reverse the colormap: green (furthest), red (closest)\n",
    "\n",
    "    # Plot true values vs predictions with color gradient\n",
    "    plt.scatter(y_test, y_pred, c=colors)\n",
    "    plt.xlabel('True values')\n",
    "    plt.ylabel('Predictions')\n",
    "    # Plot the perfect fit line\n",
    "    plt.plot([y_test.min(), y_test.max()], [y_test.min(), y_test.max()], c='r')\n",
    "    # Name the perfect fit line\n",
    "    plt.legend(['Test values', 'Perfect fit'])\n",
    "    plt.title(f'True values vs Predictions ({model.__class__.__name__})')\n",
    "    plt.colorbar(label='Distance from Diagonal')\n",
    "    plt.show()\n",
    "\n",
    "    # Plot residuals\n",
    "    plt.scatter(y_pred, residuals, c=colors)\n",
    "    plt.hlines(y=0, xmin=y_test.min(), xmax=y_test.max(), colors='r')\n",
    "    plt.title(f'Residual plot ({model.__class__.__name__})')\n",
    "    plt.xlabel('Predicted values')\n",
    "    plt.ylabel('Residuals')\n",
    "    plt.colorbar(label='Distance from Diagonal')\n",
    "    plt.legend(['Residuals', 'Perfect fit'])\n",
    "    plt.show()\n",
    "\n",
    "\n",
    "#linear_model_ = linear_model.LinearRegression()\n",
    "lasso_model = linear_model.Lasso(alpha = 10)\n",
    "ridge_model = linear_model.Ridge(alpha = 10)\n",
    "regression(ridge_model, X_train, y_train, X_test, y_test)\n",
    "regression(lasso_model, X_train, y_train, X_test, y_test)"
   ]
  },
  {
   "cell_type": "markdown",
   "metadata": {},
   "source": [
    "For this results, we have the following: \n",
    "  1. Lasso Scores: These are cross-validation scores obtained using 5-fold cross-validation. They represent the R-squared values achieved by the Lasso model on different folds of the training data. Each score corresponds to one fold.\n",
    "  2. Lasso test score: This is the R-squared score of the model on the held-out test set.\n",
    "  3. Lasso coefficients: These are the weights assigned to each feature by the Lasso model. \n",
    "  4. Lasso intercept: This is the bias term of the model."
   ]
  },
  {
   "cell_type": "markdown",
   "metadata": {},
   "source": [
    "# Extreme Gradient Boosting "
   ]
  },
  {
   "cell_type": "code",
   "execution_count": null,
   "metadata": {},
   "outputs": [],
   "source": []
  },
  {
   "cell_type": "code",
   "execution_count": null,
   "metadata": {},
   "outputs": [],
   "source": []
  }
 ],
 "metadata": {
  "colab": {
   "authorship_tag": "ABX9TyMdEDQ/IE+dWjZFFpuNkGpt",
   "provenance": []
  },
  "kernelspec": {
   "display_name": "Python 3",
   "name": "python3"
  },
  "language_info": {
   "codemirror_mode": {
    "name": "ipython",
    "version": 3
   },
   "file_extension": ".py",
   "mimetype": "text/x-python",
   "name": "python",
   "nbconvert_exporter": "python",
   "pygments_lexer": "ipython3",
   "version": "3.11.3"
  }
 },
 "nbformat": 4,
 "nbformat_minor": 0
}
