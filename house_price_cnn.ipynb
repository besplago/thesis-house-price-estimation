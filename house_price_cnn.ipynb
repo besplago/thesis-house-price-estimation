{
 "cells": [
  {
   "cell_type": "code",
   "execution_count": null,
   "metadata": {},
   "outputs": [],
   "source": [
    "import os \n",
    "import json\n",
    "import cv2\n",
    "import matplotlib.pyplot as plt\n",
    "import pandas as pd\n",
    "import numpy as np\n",
    "from utils import *"
   ]
  },
  {
   "cell_type": "markdown",
   "metadata": {},
   "source": [
    "# Loading Data "
   ]
  },
  {
   "cell_type": "code",
   "execution_count": null,
   "metadata": {},
   "outputs": [],
   "source": [
    "class House: \n",
    "  def __init__(self, address, postal_code, type, real_price, \n",
    "                size, basement_size, rooms, year_built, \n",
    "                year_rebuilt, energy_label, image_floorplan): \n",
    "    \n",
    "    #Textual Data \n",
    "    self.address = address  \n",
    "    self.postal_code = postal_code\n",
    "    self.type = type\n",
    "    self.price = real_price\n",
    "    self.size = size\n",
    "    self.basement_size = basement_size\n",
    "    self.rooms = rooms\n",
    "    self.year_built = year_built\n",
    "    self.year_rebuilt = year_rebuilt\n",
    "    self.energy_label = energy_label\n",
    "\n",
    "    #Image Data \n",
    "    self.image_floorplan = image_floorplan\n",
    "    \n",
    "    #Predictions \n",
    "    self.predicted_price = None\n",
    "\n",
    "\n",
    "def load_jpg_and_json(folder_path:str) -> (dict, np.ndarray):\n",
    "  files = os.listdir(folder_path)\n",
    "  jpg_file_path = None\n",
    "  json_file_path = None\n",
    "\n",
    "  # Find the jpg and json file in the folder\n",
    "  for filename in files:\n",
    "    if filename.endswith(\".jpg\"):\n",
    "      jpg_file_path = os.path.join(folder_path, filename)\n",
    "    elif filename.endswith(\".json\"):\n",
    "      json_file_path = os.path.join(folder_path, filename)\n",
    "\n",
    "  # Load the jpg\n",
    "  image_data = cv2.imread(jpg_file_path)\n",
    "  # Load the json\n",
    "  with open(json_file_path, \"r\", encoding=\"utf-8\") as file:\n",
    "    json_data = json.load(file)\n",
    "\n",
    "  if image_data is None:\n",
    "    raise Exception(f\"Error loading image {jpg_file_path}\")\n",
    "  if json_data is None:\n",
    "    raise Exception(f\"Error loading json {json_file_path}\")\n",
    "\n",
    "  return json_data, image_data\n",
    "\n",
    "def create_house_instance(json_data, jpg): \n",
    "  address = json_data[\"address\"]\n",
    "  postal_code = json_data[\"postal_code\"]\n",
    "  type = json_data[\"type\"]\n",
    "  price = json_data[\"price\"]\n",
    "  size = json_data[\"size\"]\n",
    "  basement_size = json_data[\"basement_size\"]\n",
    "  rooms = json_data[\"rooms\"]\n",
    "  year_built = json_data[\"year_built\"]\n",
    "  year_rebuilt = json_data[\"year_rebuilt\"] if json_data[\"year_rebuilt\"] else None\n",
    "  energy_label = json_data[\"energy_label\"]\n",
    "  image_floorplan = jpg\n",
    "\n",
    "  house = House(address, postal_code, type, price, \n",
    "                size, basement_size, rooms, year_built, \n",
    "                year_rebuilt, energy_label, image_floorplan)\n",
    "  return house\n",
    "\n",
    "def load_houses(folder_path: str, max_houses: int = None):\n",
    "    houses = []\n",
    "    count = 0  # Counter to track the number of loaded houses\n",
    "    for folder in os.listdir(folder_path):\n",
    "        if max_houses is not None and count >= max_houses:\n",
    "            break  # Stop loading houses if the maximum number is reached\n",
    "        try:\n",
    "            json_data, jpg = load_jpg_and_json(os.path.join(folder_path, folder))\n",
    "            house = create_house_instance(json_data, jpg)\n",
    "            houses.append(house)\n",
    "            count += 1\n",
    "        except Exception as e:\n",
    "            print(f\"Error loading house {folder}: {e}\")\n",
    "    return houses\n",
    "\n",
    "#If we want to work with a DF \n",
    "def data_to_DF(houses: list[House])-> pd.DataFrame:\n",
    "  data = []\n",
    "  for house in houses:\n",
    "    data.append([house.address, house.postal_code, house.type, house.price, \n",
    "                house.size, house.basement_size, house.rooms, house.year_built, \n",
    "                house.year_rebuilt, house.energy_label, house.image_floorplan])\n",
    "  df = pd.DataFrame(data, columns = [\"address\", \"postal_code\", \"type\", \"price\", \n",
    "                \"size\", \"basement_size\", \"rooms\", \"year_built\", \n",
    "                \"year_rebuilt\", \"energy_label\", \"image_floorplan\"])\n",
    "  return df"
   ]
  },
  {
   "cell_type": "code",
   "execution_count": null,
   "metadata": {},
   "outputs": [],
   "source": [
    "path = \"../nybolig-scrape/output\"\n",
    "houses = load_houses(path, max_houses=1000)\n",
    "houses_df = data_to_DF(houses)\n",
    "display(houses_df.head())"
   ]
  },
  {
   "cell_type": "code",
   "execution_count": null,
   "metadata": {},
   "outputs": [],
   "source": [
    "from sklearn.model_selection import train_test_split\n",
    "\n",
    "# Split the data into train, validation and test sets with a 60-20-20 ratio\n",
    "train_df, test_df = train_test_split(houses_df, test_size=0.2, random_state=0)\n",
    "train_df, valid_df = train_test_split(train_df, test_size=0.20, random_state=0)"
   ]
  },
  {
   "cell_type": "code",
   "execution_count": null,
   "metadata": {},
   "outputs": [],
   "source": [
    "plt.figure(figsize=(10, 10))\n",
    "for i, (image, label) in enumerate(zip(train_df[\"image_floorplan\"][0:9], train_df[\"price\"][0:9])):\n",
    "    plt.subplot(3, 3, i + 1)\n",
    "    plt.imshow(image)\n",
    "    plt.title(f\"{label}\")\n",
    "    plt.axis(\"off\")"
   ]
  },
  {
   "cell_type": "markdown",
   "metadata": {},
   "source": [
    "# Pre-trained VGG16"
   ]
  },
  {
   "cell_type": "code",
   "execution_count": null,
   "metadata": {},
   "outputs": [],
   "source": [
    "from tensorflow.python.client import device_lib\n",
    "\n",
    "def get_available_devices():\n",
    "    local_device_protos = device_lib.list_local_devices()\n",
    "    return [x.name for x in local_device_protos]\n",
    "\n",
    "print(get_available_devices())"
   ]
  },
  {
   "cell_type": "code",
   "execution_count": null,
   "metadata": {},
   "outputs": [],
   "source": [
    "import tensorflow as tf\n",
    "\n",
    "# Check available GPUs\n",
    "gpus = tf.config.experimental.list_physical_devices('GPU')\n",
    "if gpus:\n",
    "    # Set the GPU to be used\n",
    "    try:\n",
    "        tf.config.experimental.set_visible_devices(gpus[0], 'GPU')\n",
    "        logical_gpus = tf.config.experimental.list_logical_devices('GPU')\n",
    "        print(len(gpus), \"Physical GPUs,\", len(logical_gpus), \"Logical GPU\")\n",
    "    except RuntimeError as e:\n",
    "        # Visible devices must be set before GPUs have been initialized\n",
    "        print(e)\n",
    "else:\n",
    "    print(\"No GPU available\")"
   ]
  },
  {
   "cell_type": "code",
   "execution_count": null,
   "metadata": {},
   "outputs": [],
   "source": [
    "# Reshape the images to the desired size\n",
    "train_images = np.array([cv2.resize(image, (500, 500)) for image in train_df[\"image_floorplan\"]])\n",
    "valid_images = np.array([cv2.resize(image, (500, 500)) for image in valid_df[\"image_floorplan\"]])\n",
    "test_images = np.array([cv2.resize(image, (500, 500)) for image in test_df[\"image_floorplan\"]])"
   ]
  },
  {
   "cell_type": "code",
   "execution_count": null,
   "metadata": {},
   "outputs": [],
   "source": [
    "plt.figure(figsize=(10, 10))\n",
    "for i, (image, label) in enumerate(zip(train_images[0:9], train_df[\"price\"][0:9])):\n",
    "    plt.subplot(3, 3, i + 1)\n",
    "    plt.imshow(image)\n",
    "    plt.title(f\"{label}\")\n",
    "    plt.axis(\"off\")"
   ]
  },
  {
   "cell_type": "code",
   "execution_count": null,
   "metadata": {},
   "outputs": [],
   "source": [
    "from tensorflow.keras.applications import VGG16\n",
    "from tensorflow.keras.models import Sequential\n",
    "from tensorflow.keras.layers import Dense, Flatten\n",
    "from tensorflow.keras.optimizers import Adam\n",
    "\n",
    "# Load pre-trained VGG16 model (without including top layers)\n",
    "base_model = VGG16(weights='imagenet', include_top=False, input_shape=(500, 500, 3))\n",
    "\n",
    "# Freeze the pre-trained layers\n",
    "for layer in base_model.layers:\n",
    "    layer.trainable = False\n",
    "\n",
    "# Add new top layers for regression\n",
    "model = Sequential([\n",
    "    base_model,\n",
    "    Flatten(),\n",
    "    Dense(512, activation=\"relu\"),\n",
    "    Dense(256, activation=\"relu\"),\n",
    "    Dense(1, activation=\"linear\")\n",
    "])"
   ]
  },
  {
   "cell_type": "code",
   "execution_count": null,
   "metadata": {},
   "outputs": [],
   "source": [
    "# Compile the model\n",
    "model.compile(optimizer=Adam(learning_rate=0.0001), loss='mean_absolute_error')\n",
    "model.summary()"
   ]
  },
  {
   "cell_type": "code",
   "execution_count": null,
   "metadata": {},
   "outputs": [],
   "source": [
    "# Train the model\n",
    "history = model.fit(train_images, train_df[\"price\"], validation_data=(valid_images, valid_df[\"price\"]), epochs=2)"
   ]
  },
  {
   "cell_type": "code",
   "execution_count": null,
   "metadata": {},
   "outputs": [],
   "source": [
    "model.evaluate(test_images, test_df[\"price\"])\n",
    "\n",
    "# Make predictions\n",
    "predictions = model.predict(test_images)"
   ]
  },
  {
   "cell_type": "code",
   "execution_count": null,
   "metadata": {},
   "outputs": [],
   "source": [
    "from sklearn.metrics import r2_score\n",
    "from sklearn.metrics import mean_absolute_error as mae\n",
    "from sklearn.metrics import mean_squared_error as mse\n",
    "\n",
    "real_prices = test_df['price'].values\n",
    "predicted_prices = predictions.flatten()\n",
    "\n",
    "# Print the R2 score, MAE and MSE\n",
    "print(f\"R2 score: {r2_score(real_prices, predicted_prices):.2f}\")\n",
    "print(f\"Mean Absolute Error: {mae(real_prices, predicted_prices):.2f}\")\n",
    "print(f\"Mean Squared Error: {mse(real_prices, predicted_prices):.2f}\")\n",
    "\n",
    "# Plot the predictions\n",
    "plt.figure(figsize=(10, 10))\n",
    "for i, (image, label, prediction) in enumerate(zip(test_images[0:9], test_df[\"price\"][0:9], predictions[0:9])):\n",
    "    plt.subplot(3, 3, i + 1)\n",
    "    plt.imshow(image)\n",
    "    plt.title(f\"Real: {label}\\nPredicted: {prediction[0]:.0f}\")\n",
    "    plt.axis(\"off\")\n",
    "plt.show()\n",
    "\n",
    "# Plot the predictions vs real prices\n",
    "plot_regression_results('VGG16', real_prices, predicted_prices)"
   ]
  }
 ],
 "metadata": {
  "kernelspec": {
   "display_name": "Python 3",
   "language": "python",
   "name": "python3"
  },
  "language_info": {
   "codemirror_mode": {
    "name": "ipython",
    "version": 3
   },
   "file_extension": ".py",
   "mimetype": "text/x-python",
   "name": "python",
   "nbconvert_exporter": "python",
   "pygments_lexer": "ipython3",
   "version": "3.11.3"
  }
 },
 "nbformat": 4,
 "nbformat_minor": 2
}
