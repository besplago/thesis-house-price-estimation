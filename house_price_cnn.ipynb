{
 "cells": [
  {
   "cell_type": "code",
   "execution_count": null,
   "metadata": {},
   "outputs": [],
   "source": [
    "import os \n",
    "import sys\n",
    "import json\n",
    "import cv2\n",
    "import matplotlib.pyplot as plt\n",
    "import pandas as pd"
   ]
  },
  {
   "cell_type": "markdown",
   "metadata": {},
   "source": [
    "# Loading Data "
   ]
  },
  {
   "cell_type": "code",
   "execution_count": null,
   "metadata": {},
   "outputs": [],
   "source": [
    "class House: \n",
    "  def __init__(self, address, postal_code, type, real_price, \n",
    "                size, basement_size, rooms, year_built, \n",
    "                year_renovated, energy_label, image_floorplan): \n",
    "    \n",
    "    #Textual Data \n",
    "    self.address = address  \n",
    "    self.postal_code = postal_code\n",
    "    self.type = type\n",
    "    self.price = real_price\n",
    "    self.size = size\n",
    "    self.basement_size = basement_size\n",
    "    self.rooms = rooms\n",
    "    self.year_built = year_built\n",
    "    self.year_renovated = year_renovated\n",
    "    self.energy_label = energy_label\n",
    "\n",
    "    #Image Data \n",
    "    self.image_floorplan = image_floorplan\n",
    "    \n",
    "    #Predictions \n",
    "    self.predicted_price = None\n",
    "\n",
    "\n",
    "def load_jpg_and_json(folder_path:str) -> (dict, cv2):\n",
    "  files = os.listdir(folder_path)\n",
    "  jpg_file = None\n",
    "  json_file = None\n",
    "  # Find the jpg and json file in the folder\n",
    "  for filename in files:\n",
    "    if filename.endswith(\".jpg\"):\n",
    "      jpg_file = os.path.join(folder_path, filename)\n",
    "    elif filename.endswith(\".json\"):\n",
    "      json_file = os.path.join(folder_path, filename)\n",
    "  \n",
    "  # Load the jpg and json file\n",
    "  if jpg_file:\n",
    "    image_data = cv2.imread(jpg_file)  \n",
    "  else:\n",
    "    image_data = None\n",
    "  if json_file:\n",
    "    with open(json_file, \"r\") as f:\n",
    "      json_data = json.load(f) \n",
    "\n",
    "  return json_data, image_data\n",
    "\n",
    "def create_house_instance(json_data, jpg): \n",
    "  address = json_data[\"address\"]\n",
    "  postal_code = json_data[\"postal_code\"]\n",
    "  type = json_data[\"type\"]\n",
    "  price = json_data[\"price\"]\n",
    "  size = json_data[\"size\"]\n",
    "  basement_size = json_data[\"basement_size\"]\n",
    "  rooms = json_data[\"rooms\"]\n",
    "  year_built = json_data[\"year_built\"]\n",
    "  year_renovated = json_data[\"year_renovated\"] if json_data[\"year_renovated\"] else None\n",
    "  energy_label = json_data[\"energy_label\"]\n",
    "  image_floorplan = jpg\n",
    "\n",
    "  house = House(address, postal_code, type, price, \n",
    "                size, basement_size, rooms, year_built, \n",
    "                year_renovated, energy_label, image_floorplan)\n",
    "  return house\n",
    "\n",
    "def load_houses(folder_path:str):\n",
    "  houses = []\n",
    "  for folder in os.listdir(folder_path):\n",
    "    json_data, jpg = load_jpg_and_json(os.path.join(folder_path, folder))\n",
    "    house = create_house_instance(json_data, jpg)\n",
    "    houses.append(house)\n",
    "  return houses\n",
    "\n",
    "#If we want to work with a DF \n",
    "def data_to_DF(houses: list[House])-> pd.DataFrame:\n",
    "  data = []\n",
    "  for house in houses:\n",
    "    data.append([house.address, house.postal_code, house.type, house.price, \n",
    "                house.size, house.basement_size, house.rooms, house.year_built, \n",
    "                house.year_renovated, house.energy_label, house.image_floorplan])\n",
    "  df = pd.DataFrame(data, columns = [\"address\", \"postal_code\", \"type\", \"price\", \n",
    "                \"size\", \"basement_size\", \"rooms\", \"year_built\", \n",
    "                \"year_renovated\", \"energy_label\", \"image_floorplan\"])\n",
    "  return df"
   ]
  },
  {
   "cell_type": "code",
   "execution_count": null,
   "metadata": {},
   "outputs": [],
   "source": [
    "path = \"../nybolig-scrape/output\"\n",
    "houses = load_houses(path)\n",
    "houses_df = data_to_DF(houses)\n",
    "display(houses_df.head())\n",
    "\n",
    "plt.imshow(houses[0].image_floorplan)"
   ]
  },
  {
   "cell_type": "markdown",
   "metadata": {},
   "source": []
  }
 ],
 "metadata": {
  "kernelspec": {
   "display_name": "Python 3",
   "language": "python",
   "name": "python3"
  },
  "language_info": {
   "codemirror_mode": {
    "name": "ipython",
    "version": 3
   },
   "file_extension": ".py",
   "mimetype": "text/x-python",
   "name": "python",
   "nbconvert_exporter": "python",
   "pygments_lexer": "ipython3",
   "version": "3.10.11"
  }
 },
 "nbformat": 4,
 "nbformat_minor": 2
}
