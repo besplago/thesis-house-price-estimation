{
 "cells": [
  {
   "cell_type": "markdown",
   "metadata": {},
   "source": [
    "# Binary Classification "
   ]
  },
  {
   "cell_type": "code",
   "execution_count": null,
   "metadata": {},
   "outputs": [],
   "source": [
    "import os \n",
    "import json\n",
    "import cv2\n",
    "import matplotlib.pyplot as plt\n",
    "import pandas as pd\n",
    "import numpy as np\n",
    "from utils import *\n",
    "from img_utils import *"
   ]
  },
  {
   "cell_type": "markdown",
   "metadata": {},
   "source": [
    "# Loading Data "
   ]
  },
  {
   "cell_type": "code",
   "execution_count": null,
   "metadata": {},
   "outputs": [],
   "source": [
    "path = \"../nybolig-scrape/output\"\n",
    "houses_df = data_to_DF(path, max_houses=1000)\n",
    "houses_df = houses_df[(houses_df['postal_code'] >= 1000) & (houses_df['postal_code'] <= 2920)]\n",
    "houses_df = houses_df[houses_df['type'] == 'ejerlejlighed']\n",
    "print(\"Number of datapoints of type 'Ejerlejlighed': \", len(houses_df))\n",
    "display(houses_df)"
   ]
  },
  {
   "cell_type": "markdown",
   "metadata": {},
   "source": [
    "# Setting up splits "
   ]
  },
  {
   "cell_type": "code",
   "execution_count": null,
   "metadata": {},
   "outputs": [],
   "source": [
    "from sklearn.model_selection import train_test_split\n",
    "\n",
    "# Split the data into train, validation and test sets with a 60-20-20 ratio\n",
    "train_df, test_df = train_test_split(houses_df, test_size=0.2, random_state=0)\n",
    "train_df, valid_df = train_test_split(train_df, test_size=0.20, random_state=0)\n",
    "\n",
    "# As most of the original images are 2100x1400, we resize them to 448*x\n",
    "target_width = 224*3\n",
    "target_height = 224*3\n",
    "\n",
    "resize = True\n",
    "gray_scale = False\n",
    "threshhold = True\n",
    "\n",
    "train_images = preprocess_images(train_df, \"image_floorplan\", target_width, target_height, resize, gray_scale, threshhold)\n",
    "validation_images = preprocess_images(valid_df, \"image_floorplan\", target_width, target_height, resize, gray_scale, threshhold)\n",
    "test_images = preprocess_images(test_df, \"image_floorplan\", target_width, target_height, resize, gray_scale, threshhold)\n",
    "\n",
    "median = houses_df[\"price\"].median()\n",
    "train_labels = train_df[\"price\"].apply(lambda x: 0 if x > median else 1)\n",
    "valid_labels = valid_df[\"price\"].apply(lambda x: 0 if x > median else 1)\n",
    "test_labels = test_df[\"price\"].apply(lambda x: 0 if x > median else 1)"
   ]
  },
  {
   "cell_type": "markdown",
   "metadata": {},
   "source": [
    "## Model Fitting"
   ]
  },
  {
   "cell_type": "code",
   "execution_count": null,
   "metadata": {},
   "outputs": [],
   "source": [
    "from tensorflow.keras.models import Sequential\n",
    "from tensorflow.keras.layers import Conv2D, MaxPooling2D, Flatten, Dense\n",
    "from tensorflow.keras.models import Sequential\n",
    "from tensorflow.keras.layers import Conv2D, BatchNormalization\n",
    "from tensorflow.keras.layers import Dropout, Flatten, Dense\n",
    "\n",
    "input_shape = train_images[0].shape\n",
    "\n",
    "binary_model = Sequential()\n",
    "\n",
    "# Convolutional layers with batch normalization and dropout\n",
    "binary_model.add(Conv2D(filters=16, kernel_size=(3, 3), activation='relu', input_shape=input_shape))\n",
    "binary_model.add(BatchNormalization())\n",
    "binary_model.add(Conv2D(filters=16, kernel_size=(3, 3), activation='relu'))\n",
    "binary_model.add(BatchNormalization())\n",
    "binary_model.add(MaxPooling2D(strides=(2, 2)))\n",
    "binary_model.add(Dropout(0.25))\n",
    "\n",
    "binary_model.add(Conv2D(filters=32, kernel_size=(3, 3), activation='relu'))\n",
    "binary_model.add(BatchNormalization())\n",
    "binary_model.add(Conv2D(filters=32, kernel_size=(3, 3), activation='relu'))\n",
    "binary_model.add(BatchNormalization())\n",
    "binary_model.add(MaxPooling2D(strides=(2, 2)))\n",
    "binary_model.add(Dropout(0.25))\n",
    "\n",
    "# Flatten and dense layers with dropout\n",
    "binary_model.add(Flatten())\n",
    "binary_model.add(Dense(512, activation='relu'))\n",
    "binary_model.add(Dropout(0.25))\n",
    "binary_model.add(Dense(1024, activation='relu'))\n",
    "binary_model.add(Dropout(0.4))\n",
    "\n",
    "# Output layer with sigmoid activation for binary prediction\n",
    "binary_model.add(Dense(1, activation='sigmoid'))\n",
    "\n",
    "# Compile the model\n",
    "binary_model.compile(loss='binary_crossentropy', optimizer='adam', metrics=['accuracy'])\n",
    "\n",
    "binary_model.fit(train_images, train_labels, validation_data=(validation_images, valid_labels), epochs=8, batch_size=32)\n",
    "binary_model.save(\"binary_model\")"
   ]
  },
  {
   "cell_type": "markdown",
   "metadata": {},
   "source": [
    "## Binary Model: Evaluation"
   ]
  },
  {
   "cell_type": "code",
   "execution_count": null,
   "metadata": {},
   "outputs": [],
   "source": [
    "from sklearn.metrics import accuracy_score\n",
    "from sklearn.metrics import classification_report\n",
    "from sklearn.metrics import confusion_matrix\n",
    "import seaborn as sns\n",
    "\n",
    "predicted_test_labels = binary_model.predict(test_images)\n",
    "actual_test_labels = [test_df['price'].apply(lambda x: 0 if x >= median else 1)]\n",
    "\n",
    "# Print the accuracy\n",
    "print(f\"Accuracy: {accuracy_score(actual_test_labels, predicted_test_labels):.2f}\")\n",
    "\n",
    "# Print the classification report\n",
    "print(classification_report(actual_test_labels, predicted_test_labels))\n",
    "\n",
    "# Plot the confusion matrix\n",
    "cm = confusion_matrix(actual_test_labels, predicted_test_labels)\n",
    "sns.heatmap(cm, annot=True, fmt=\"d\", cmap=\"Blues\")\n",
    "plt.xlabel(\"Predicted\")\n",
    "plt.ylabel(\"Actual\")\n",
    "plt.show()"
   ]
  }
 ],
 "metadata": {
  "kernelspec": {
   "display_name": "Python 3",
   "language": "python",
   "name": "python3"
  },
  "language_info": {
   "codemirror_mode": {
    "name": "ipython",
    "version": 3
   },
   "file_extension": ".py",
   "mimetype": "text/x-python",
   "name": "python",
   "nbconvert_exporter": "python",
   "pygments_lexer": "ipython3",
   "version": "3.10.12"
  }
 },
 "nbformat": 4,
 "nbformat_minor": 2
}
