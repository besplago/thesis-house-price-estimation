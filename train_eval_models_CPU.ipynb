{
 "cells": [
  {
   "cell_type": "code",
   "execution_count": 2,
   "metadata": {},
   "outputs": [],
   "source": [
    "import os\n",
    "import pickle\n",
    "import numpy as np\n",
    "import datetime\n",
    "import json\n",
    "from multiprocessing import Process\n",
    "from multiprocess import Process\n",
    "\n",
    "import keras\n",
    "from tensorflow.keras.utils import plot_model\n",
    "from tensorflow.keras.applications import VGG16, MobileNetV2, MobileNetV3Small\n",
    "\n",
    "from models import *\n",
    "from utils import regression_stats\n",
    "#from img_utils import data_to_df, preprocess_images, set_gpu, set_cpu\n",
    "\n",
    "import matplotlib.pyplot as plt\n",
    "%reload_ext autoreload\n",
    "%autoreload 2"
   ]
  },
  {
   "cell_type": "code",
   "execution_count": 3,
   "metadata": {},
   "outputs": [
    {
     "name": "stderr",
     "output_type": "stream",
     "text": [
      "Processing output/train/train_1: 100%|██████████| 311/311 [00:00<00:00, 345543.99it/s]\n",
      "Processing output/train/train_2: 100%|██████████| 312/312 [00:00<00:00, 521779.44it/s]\n",
      "Processing output/valid: 100%|██████████| 89/89 [00:00<00:00, 72653.38it/s]\n",
      "Processing output/test: 100%|██████████| 178/178 [00:00<00:00, 422755.44it/s]\n",
      "Preprocessing: 100%|██████████| 4/4 [00:00<00:00, 40.41it/s]\n"
     ]
    },
    {
     "name": "stdout",
     "output_type": "stream",
     "text": [
      "Removing outliers...\n",
      "Datapoints before: 829\n"
     ]
    },
    {
     "name": "stderr",
     "output_type": "stream",
     "text": [
      "Removing outliers: 100%|██████████| 4/4 [00:00<00:00, 254.81it/s]\n"
     ]
    },
    {
     "name": "stdout",
     "output_type": "stream",
     "text": [
      "Datapoints after: 813\n"
     ]
    },
    {
     "data": {
      "text/html": [
       "<div>\n",
       "<style scoped>\n",
       "    .dataframe tbody tr th:only-of-type {\n",
       "        vertical-align: middle;\n",
       "    }\n",
       "\n",
       "    .dataframe tbody tr th {\n",
       "        vertical-align: top;\n",
       "    }\n",
       "\n",
       "    .dataframe thead th {\n",
       "        text-align: right;\n",
       "    }\n",
       "</style>\n",
       "<table border=\"1\" class=\"dataframe\">\n",
       "  <thead>\n",
       "    <tr style=\"text-align: right;\">\n",
       "      <th></th>\n",
       "      <th>postal_code</th>\n",
       "      <th>type</th>\n",
       "      <th>price</th>\n",
       "      <th>size</th>\n",
       "      <th>basement_size</th>\n",
       "      <th>rooms</th>\n",
       "      <th>year_built</th>\n",
       "      <th>year_rebuilt</th>\n",
       "      <th>energy_label</th>\n",
       "      <th>postal_avg_sqm_price</th>\n",
       "      <th>lat</th>\n",
       "      <th>lng</th>\n",
       "      <th>image_floorplan</th>\n",
       "    </tr>\n",
       "  </thead>\n",
       "  <tbody>\n",
       "    <tr>\n",
       "      <th>0</th>\n",
       "      <td>64</td>\n",
       "      <td>0</td>\n",
       "      <td>1750000</td>\n",
       "      <td>40</td>\n",
       "      <td>0</td>\n",
       "      <td>2.0</td>\n",
       "      <td>1944.0</td>\n",
       "      <td>1944.0</td>\n",
       "      <td>4</td>\n",
       "      <td>32687.50</td>\n",
       "      <td>55.736966</td>\n",
       "      <td>12.513117</td>\n",
       "      <td>[[[255, 255, 255], [255, 255, 255], [255, 255,...</td>\n",
       "    </tr>\n",
       "    <tr>\n",
       "      <th>1</th>\n",
       "      <td>37</td>\n",
       "      <td>0</td>\n",
       "      <td>8500000</td>\n",
       "      <td>138</td>\n",
       "      <td>0</td>\n",
       "      <td>4.0</td>\n",
       "      <td>2005.0</td>\n",
       "      <td>2005.0</td>\n",
       "      <td>4</td>\n",
       "      <td>55737.75</td>\n",
       "      <td>55.698085</td>\n",
       "      <td>12.594470</td>\n",
       "      <td>[[[255, 255, 255], [255, 255, 255], [255, 255,...</td>\n",
       "    </tr>\n",
       "    <tr>\n",
       "      <th>3</th>\n",
       "      <td>40</td>\n",
       "      <td>0</td>\n",
       "      <td>5995000</td>\n",
       "      <td>139</td>\n",
       "      <td>0</td>\n",
       "      <td>5.0</td>\n",
       "      <td>1935.0</td>\n",
       "      <td>2009.0</td>\n",
       "      <td>4</td>\n",
       "      <td>44946.75</td>\n",
       "      <td>55.654361</td>\n",
       "      <td>12.601795</td>\n",
       "      <td>[[[255, 255, 255], [255, 255, 255], [255, 255,...</td>\n",
       "    </tr>\n",
       "    <tr>\n",
       "      <th>4</th>\n",
       "      <td>36</td>\n",
       "      <td>0</td>\n",
       "      <td>4495000</td>\n",
       "      <td>76</td>\n",
       "      <td>0</td>\n",
       "      <td>3.0</td>\n",
       "      <td>1932.0</td>\n",
       "      <td>1932.0</td>\n",
       "      <td>4</td>\n",
       "      <td>50502.00</td>\n",
       "      <td>55.691502</td>\n",
       "      <td>12.529448</td>\n",
       "      <td>[[[255, 255, 255], [255, 255, 255], [255, 255,...</td>\n",
       "    </tr>\n",
       "    <tr>\n",
       "      <th>5</th>\n",
       "      <td>62</td>\n",
       "      <td>0</td>\n",
       "      <td>2995000</td>\n",
       "      <td>70</td>\n",
       "      <td>0</td>\n",
       "      <td>3.0</td>\n",
       "      <td>1963.0</td>\n",
       "      <td>1963.0</td>\n",
       "      <td>5</td>\n",
       "      <td>36072.25</td>\n",
       "      <td>55.812616</td>\n",
       "      <td>12.469592</td>\n",
       "      <td>[[[255, 255, 255], [255, 255, 255], [255, 255,...</td>\n",
       "    </tr>\n",
       "  </tbody>\n",
       "</table>\n",
       "</div>"
      ],
      "text/plain": [
       "   postal_code  type    price  size  basement_size  rooms  year_built  \\\n",
       "0           64     0  1750000    40              0    2.0      1944.0   \n",
       "1           37     0  8500000   138              0    4.0      2005.0   \n",
       "3           40     0  5995000   139              0    5.0      1935.0   \n",
       "4           36     0  4495000    76              0    3.0      1932.0   \n",
       "5           62     0  2995000    70              0    3.0      1963.0   \n",
       "\n",
       "   year_rebuilt  energy_label  postal_avg_sqm_price        lat        lng  \\\n",
       "0        1944.0             4              32687.50  55.736966  12.513117   \n",
       "1        2005.0             4              55737.75  55.698085  12.594470   \n",
       "3        2009.0             4              44946.75  55.654361  12.601795   \n",
       "4        1932.0             4              50502.00  55.691502  12.529448   \n",
       "5        1963.0             5              36072.25  55.812616  12.469592   \n",
       "\n",
       "                                     image_floorplan  \n",
       "0  [[[255, 255, 255], [255, 255, 255], [255, 255,...  \n",
       "1  [[[255, 255, 255], [255, 255, 255], [255, 255,...  \n",
       "3  [[[255, 255, 255], [255, 255, 255], [255, 255,...  \n",
       "4  [[[255, 255, 255], [255, 255, 255], [255, 255,...  \n",
       "5  [[[255, 255, 255], [255, 255, 255], [255, 255,...  "
      ]
     },
     "metadata": {},
     "output_type": "display_data"
    },
    {
     "name": "stdout",
     "output_type": "stream",
     "text": [
      "Length of datasets:\n",
      "Train 1: 284\n",
      "Train 2: 286\n",
      "Valid: 83\n",
      "Test: 160\n"
     ]
    }
   ],
   "source": [
    "from utils import data_to_df, preprocess_images, set_gpu, set_cpu\n",
    "#try reloading the module\n",
    "IMAGE_WIDTH: int = 224\n",
    "IMAGE_HEIGHT: int = 224\n",
    "\n",
    "IMG_WIDTH_448: int = 448\n",
    "IMG_HEIGHT_448: int = 448\n",
    "\n",
    "\n",
    "# Load Data\n",
    "train_1_path: str = \"output/train/train_1\"\n",
    "train_2_path: str = \"output/train/train_2\"\n",
    "valid_path: str = \"output/valid\"\n",
    "test_path: str = \"output/test\"\n",
    "\n",
    "# train_1_path: str = \"output/train/train_1\"\n",
    "# train_2_path: str = \"output/train/train_2\"\n",
    "# valid_path: str = \"output/valid\"\n",
    "# test_path: str = \"output/test\"\n",
    "\n",
    "train1_df, train2_df, valid_df, test_df = data_to_df(\n",
    "    [train_1_path, train_2_path, valid_path, test_path], preprocess=True, rm_outliers=True\n",
    ")\n",
    "\n",
    "display(train1_df.head())\n",
    "# Print the lenghts of the datasets\n",
    "print(\"Length of datasets:\")\n",
    "print(f\"Train 1: {len(train1_df)}\")\n",
    "print(f\"Train 2: {len(train2_df)}\")\n",
    "print(f\"Valid: {len(valid_df)}\")\n",
    "print(f\"Test: {len(test_df)}\")\n",
    "\n",
    "# TODO: Would be better with this format\n",
    "# train_images: np.array = preprocess_images(\n",
    "#     train1_df[\"image_floorplan\"], IMAGE_WIDTH, IMAGE_HEIGHT, True, False, False\n",
    "# )\n",
    "\n",
    "\n",
    "#### Train Set 1 ####\n",
    "train1_features = train1_df.drop(columns=[\"image_floorplan\", \"price\"])\n",
    "train1_images: np.array = preprocess_images(\n",
    "    train1_df, \"image_floorplan\", IMAGE_WIDTH, IMAGE_HEIGHT, True, False, False\n",
    ")\n",
    "train1_images_448: np.array = preprocess_images(    \n",
    "    train1_df, \"image_floorplan\", IMG_WIDTH_448, IMG_HEIGHT_448, True, False, False\n",
    ")\n",
    "train1_prices: np.array = train1_df[\"price\"].values\n",
    "\n",
    "\n",
    "#### Train Set 2 ####\n",
    "train2_features = train2_df.drop(columns=[\"image_floorplan\", \"price\"])\n",
    "train2_images: np.array = preprocess_images(\n",
    "    train2_df, \"image_floorplan\", IMAGE_WIDTH, IMAGE_HEIGHT, True, False, False\n",
    ")\n",
    "train2_images_448: np.array = preprocess_images(\n",
    "    train2_df, \"image_floorplan\", IMG_WIDTH_448, IMG_HEIGHT_448, True, False, False\n",
    ")\n",
    "train2_prices: np.array = train2_df[\"price\"].values\n",
    "\n",
    "\n",
    "#### Validation Set ####\n",
    "valid_features = valid_df.drop(columns=[\"image_floorplan\", \"price\"])\n",
    "valid_images: np.array = preprocess_images(\n",
    "    valid_df, \"image_floorplan\", IMAGE_WIDTH, IMAGE_HEIGHT, True, False, False\n",
    ")\n",
    "valid_images_448: np.array = preprocess_images(\n",
    "    valid_df, \"image_floorplan\", IMG_WIDTH_448, IMG_HEIGHT_448, True, False, False\n",
    ")\n",
    "valid_prices: np.array = valid_df[\"price\"].values\n",
    "\n",
    "\n",
    "#### Test Set ####\n",
    "test_features = test_df.drop(columns=[\"image_floorplan\", \"price\"])\n",
    "test_images: np.array = preprocess_images(\n",
    "    test_df, \"image_floorplan\", IMAGE_WIDTH, IMAGE_HEIGHT, True, False, False\n",
    ")\n",
    "test_images_448: np.array = preprocess_images(\n",
    "    test_df, \"image_floorplan\", IMG_WIDTH_448, IMG_HEIGHT_448, True, False, False\n",
    ")\n",
    "\n",
    "test_prices: np.array = test_df[\"price\"].values"
   ]
  },
  {
   "cell_type": "code",
   "execution_count": 13,
   "metadata": {},
   "outputs": [],
   "source": [
    "from utils import *\n",
    "def save_model_and_evaluate(\n",
    "    model: object,\n",
    "    fit_history: object,\n",
    "    test_images: np.array,\n",
    "    test_features: np.array,\n",
    "    test_prices: np.array,\n",
    "    model_dir: str,\n",
    "    model_type:str\n",
    "):\n",
    "    if model_type == 'RF':\n",
    "        print(\"Saving Model...\")\n",
    "        if not os.path.exists(model_dir):\n",
    "            os.makedirs(model_dir)\n",
    "        with open(f\"{model_dir}/model\", \"wb\") as file_pi:\n",
    "            pickle.dump(model, file_pi)\n",
    "        test_predictions = model.predict(test_features)\n",
    "    \n",
    "    if model_type == \"CNN\":\n",
    "        # Save Model\n",
    "        print(\"Saving Model...\")\n",
    "        if not os.path.exists(model_dir):\n",
    "            os.makedirs(model_dir)\n",
    "        model.save(f\"{model_dir}/model\")\n",
    "        # Save Training History\n",
    "        with open(f\"{model_dir}/history\", \"wb\") as file_pi:\n",
    "            pickle.dump(fit_history.history, file_pi)\n",
    "        test_predictions = model.predict(test_images)\n",
    "        #Save Model Architecture\n",
    "        #plot_model(model, to_file=f\"{model_dir}/model_architecture.png\", show_shapes=True, show_layer_names=True, show_dtype=True, rankdir=\"TB\", expand_nested=False, dpi=96)\n",
    "        img = plot_model(model, to_file=f\"{model_dir}/architecture.png\", show_shapes=True, show_layer_names=True, show_dtype=True, rankdir=\"TB\", expand_nested=False, dpi=96)\n",
    "\n",
    "\n",
    "    if model_type == 'CNN_RF' or model_type == 'CNN_AE_RF':\n",
    "        print(\"Saving Model...\")\n",
    "        if not os.path.exists(model_dir):\n",
    "            os.makedirs(model_dir)\n",
    "        with open(f\"{model_dir}/model\", \"wb\") as file_pi:\n",
    "            pickle.dump(model, file_pi)\n",
    "        test_predictions = model.predict(test_images, test_features)\n",
    "        \n",
    "\n",
    "    # Evaluate Model\n",
    "    print(\"Evaluating Model...\")\n",
    "    r2, mae, percentage_error, mse = regression_stats(test_prices, test_predictions)\n",
    "\n",
    "    try:\n",
    "        feature_importance = model.feature_importances_\n",
    "        if model_type == \"RF\":\n",
    "            feature_importance = dict(zip(test_features.columns, feature_importance))\n",
    "    except AttributeError:\n",
    "        print(\"Cant find feature_importance\")\n",
    "        feature_importance = None\n",
    "\n",
    "    # Load existing evaluation data\n",
    "    evaluation_file_path = f\"{model_dir}/evaluation.json\"\n",
    "    evaluation_data = {}\n",
    "    if os.path.exists(evaluation_file_path):\n",
    "        with open(evaluation_file_path, \"r\") as json_file:\n",
    "            evaluation_data = json.load(json_file)\n",
    "\n",
    "    # Add new evaluation data\n",
    "    new_evaluation = {\n",
    "        \"Timestamp\": str(datetime.datetime.now()),\n",
    "        \"R2\": r2,\n",
    "        \"MAE\": mae,\n",
    "        \"Percentage Error\": percentage_error,\n",
    "        \"MSE\": mse,\n",
    "        \"Feature Importances\": (feature_importance),\n",
    "    }\n",
    "    evaluation_data[len(evaluation_data)] = new_evaluation\n",
    "\n",
    "    # Save updated evaluation data\n",
    "    with open(evaluation_file_path, \"w\") as json_file:\n",
    "        json.dump(evaluation_data, json_file, indent=4)\n",
    "\n",
    "    # Compute median evaluation values from all instances\n",
    "    r2_values = [evaluation_data[key][\"R2\"] for key in evaluation_data]\n",
    "    mae_values = [evaluation_data[key][\"MAE\"] for key in evaluation_data]\n",
    "    percentage_error_values = [\n",
    "        evaluation_data[key][\"Percentage Error\"] for key in evaluation_data\n",
    "    ]\n",
    "    mse_values = [evaluation_data[key][\"MSE\"] for key in evaluation_data]\n",
    "\n",
    "    median_evaluation_data = {\n",
    "        \"R2\": np.median(r2_values),\n",
    "        \"MAE\": np.median(mae_values),\n",
    "        \"Percentage Error\": np.median(percentage_error_values),\n",
    "        \"MSE\": np.median(mse_values),\n",
    "    }\n",
    "\n",
    "    with open(f\"{model_dir}/median_evaluation.json\", \"w\") as json_file:\n",
    "        json.dump(median_evaluation_data, json_file, indent=4)\n",
    "\n",
    "    print(\"\\nModel Evaluation:\")\n",
    "    print(new_evaluation)\n",
    "    print(\"\\nMedian Evaluation:\")\n",
    "    print(median_evaluation_data)\n",
    "    print(\"Feauter Importance...\")\n",
    "    print(feature_importance)\n",
    "\n",
    "    # Images (Create or open existing folder)\n",
    "    if not os.path.exists(f\"{model_dir}/images\"):\n",
    "        os.makedirs(f\"{model_dir}/images\")\n",
    "    img_dir = f\"{model_dir}/images\"\n",
    "    \n",
    "    save_expected_predicted(test_prices, test_predictions, img_dir)\n",
    "    save_residuals(test_prices, test_predictions, img_dir)\n",
    "    \n",
    "    if model_type == 'CNN':\n",
    "        print(\"\\nSaving Best and Worst Image Predictions\")\n",
    "        save_worst_best_predictions(model, test_predictions, test_prices, test_images, img_dir)\n",
    "    \n",
    "    if model_type != 'CNN': \n",
    "        print(\"\\nSaving Feature Importance\")\n",
    "        save_features_importance(feature_importance, img_dir)\n",
    "\n",
    "    if model_type == 'CNN_AE_RF':\n",
    "        print(\"\\nSaving Reconstructions\")\n",
    "        save_reconstuctions(model.autoEncoder_, test_predictions, test_prices, test_images, img_dir)\n",
    "\n",
    "    save_worst_best(test_predictions, test_prices, test_features, model_dir)\n",
    "    print(\"\\nDone!\")\n",
    "\n",
    "\n",
    "def train_save_model(\n",
    "    model_func: object,\n",
    "    args: tuple,\n",
    "    test_images: np.array,\n",
    "    test_features: np.array,\n",
    "    test_prices: np.array,\n",
    "    model_dir: str,\n",
    "    use_gpu: bool,\n",
    "    model_type:str\n",
    "):\n",
    "    if use_gpu:\n",
    "        set_gpu()\n",
    "    else:\n",
    "        set_cpu()\n",
    "\n",
    "    if model_type == \"CNN\":\n",
    "        model, fit_history = model_func(*args)\n",
    "    if model_type == 'RF':\n",
    "        model = model_func(*args)\n",
    "        fit_history = None\n",
    "    if model_type == 'CNN_RF' or model_type == 'CNN_AE_RF':\n",
    "        model = model_func(*args)\n",
    "        fit_history = None\n",
    "    save_model_and_evaluate(model, fit_history, test_images, test_features, test_prices, model_dir, model_type)\n",
    "\n",
    "\n",
    "def train_save_models(\n",
    "    model_func: object,\n",
    "    args: tuple,\n",
    "    test_images: np.array,\n",
    "    test_prices: np.array,\n",
    "    model_dir: str,\n",
    "    use_gpu: bool,\n",
    "):\n",
    "    if use_gpu:\n",
    "        set_gpu()\n",
    "    else:\n",
    "        set_cpu()\n",
    "\n",
    "    models, fit_histories = model_func(*args)\n",
    "    for model_idx, (model, fit_history) in enumerate(zip(models, fit_histories)):\n",
    "        save_model_and_evaluate(\n",
    "            model, fit_history, test_images, test_prices, f\"{model_dir}_{model_idx}\"\n",
    "        )"
   ]
  },
  {
   "cell_type": "markdown",
   "metadata": {},
   "source": [
    "# Running on CPU"
   ]
  },
  {
   "cell_type": "code",
   "execution_count": 4,
   "metadata": {},
   "outputs": [],
   "source": [
    "MODELS_PATH: str = \"./models\"\n",
    "USE_GPU: bool = False"
   ]
  },
  {
   "cell_type": "code",
   "execution_count": 5,
   "metadata": {},
   "outputs": [],
   "source": [
    "train2_features = train2_features[['postal_code', 'type', 'size', 'basement_size', 'rooms', 'year_built','year_rebuilt', 'energy_label', 'postal_avg_sqm_price', 'lat', 'lng' ]]"
   ]
  },
  {
   "cell_type": "markdown",
   "metadata": {},
   "source": [
    "### Naive Guess"
   ]
  },
  {
   "cell_type": "code",
   "execution_count": 6,
   "metadata": {},
   "outputs": [
    {
     "name": "stdout",
     "output_type": "stream",
     "text": [
      "Mean Guess R2: 0.0, MAE: 1735519.21875, Percentage Error: 51.359256053020786, MSE: 4822871623085.9375\n"
     ]
    }
   ],
   "source": [
    "mean = test_prices.mean()\n",
    "mean_Guess = np.full(len(test_prices), mean)\n",
    "r2, mae, percentage_error, mse = regression_stats(test_prices, mean_Guess)\n",
    "print(f\"Mean Guess R2: {r2}, MAE: {mae}, Percentage Error: {percentage_error}, MSE: {mse}\")\n"
   ]
  },
  {
   "cell_type": "markdown",
   "metadata": {},
   "source": [
    "### Lasso Regression"
   ]
  },
  {
   "cell_type": "code",
   "execution_count": 8,
   "metadata": {},
   "outputs": [
    {
     "name": "stdout",
     "output_type": "stream",
     "text": [
      "Lasso R2: 0.7748060360794036, MAE: 722675.3010574252, Percentage Error: 19.005414937968073, MSE: 1086081578282.8832\n"
     ]
    }
   ],
   "source": [
    "from models import Lasso_\n",
    "lasso_model = Lasso_(train2_features, train2_prices)\n",
    "predictions = lasso_model.predict(test_features)\n",
    "r2, mae, percentage_error, mse = regression_stats(test_prices, predictions)\n",
    "print(f\"Lasso R2: {r2}, MAE: {mae}, Percentage Error: {percentage_error}, MSE: {mse}\")"
   ]
  },
  {
   "cell_type": "markdown",
   "metadata": {},
   "source": [
    "### RF"
   ]
  },
  {
   "cell_type": "code",
   "execution_count": 14,
   "metadata": {},
   "outputs": [
    {
     "name": "stdout",
     "output_type": "stream",
     "text": [
      "Setting CPU\n",
      "Saving Model...\n",
      "Evaluating Model...\n",
      "\n",
      "Model Evaluation:\n",
      "{'Timestamp': '2024-05-08 12:00:51.686825', 'R2': 0.8111837603611767, 'MAE': 638624.8125, 'Percentage Error': 15.12351443845183, 'MSE': 910636484131.875, 'Feature Importances': {'postal_code': 0.06795600594749353, 'type': 0.0, 'size': 0.6470570789821838, 'basement_size': 0.0, 'rooms': 0.008711780290090999, 'year_built': 0.04081691180217451, 'year_rebuilt': 0.05026153165005184, 'energy_label': 0.012034084760102187, 'postal_avg_sqm_price': 0.12511146871091067, 'lat': 0.019837462189872118, 'lng': 0.02821367566712042}}\n",
      "\n",
      "Median Evaluation:\n",
      "{'R2': 0.8099257752896463, 'MAE': 641675.6875, 'Percentage Error': 15.029167119871515, 'MSE': 916703584635.625}\n",
      "Feauter Importance...\n",
      "{'postal_code': 0.06795600594749353, 'type': 0.0, 'size': 0.6470570789821838, 'basement_size': 0.0, 'rooms': 0.008711780290090999, 'year_built': 0.04081691180217451, 'year_rebuilt': 0.05026153165005184, 'energy_label': 0.012034084760102187, 'postal_avg_sqm_price': 0.12511146871091067, 'lat': 0.019837462189872118, 'lng': 0.02821367566712042}\n"
     ]
    },
    {
     "name": "stdout",
     "output_type": "stream",
     "text": [
      "\n",
      "Saving Feature Importance\n",
      "\n",
      "Done!\n"
     ]
    }
   ],
   "source": [
    "from models import RF\n",
    "TYPE = \"RF\"\n",
    "MODEL_NAME: str = \"RF\"\n",
    "FUNCTION: object = RF\n",
    "ARGS: tuple = (\n",
    "    train2_features,\n",
    "    train2_prices,\n",
    ")\n",
    "train_save_model(FUNCTION, ARGS, test_images, test_features, test_prices, f\"{MODELS_PATH}/{MODEL_NAME}\", USE_GPU, TYPE)"
   ]
  },
  {
   "cell_type": "markdown",
   "metadata": {},
   "source": [
    "### CNN"
   ]
  },
  {
   "cell_type": "code",
   "execution_count": null,
   "metadata": {},
   "outputs": [
    {
     "name": "stdout",
     "output_type": "stream",
     "text": [
      "Setting CPU\n",
      "Compiling Model\n",
      "Fitting Model\n",
      "Epoch 1/100\n",
      "9/9 [==============================] - 56s 2s/step - loss: 3830072.2500 - mean_absolute_error: 3814672.7500 - val_loss: 4307765.0000 - val_mean_absolute_error: 4302022.0000\n",
      "Epoch 2/100\n",
      "9/9 [==============================] - 13s 1s/step - loss: 3818524.0000 - mean_absolute_error: 3812578.2500 - val_loss: 4300476.0000 - val_mean_absolute_error: 4295219.5000\n",
      "Epoch 3/100\n",
      "9/9 [==============================] - 12s 1s/step - loss: 3796468.7500 - mean_absolute_error: 3791127.5000 - val_loss: 4245161.0000 - val_mean_absolute_error: 4238672.5000\n",
      "Epoch 4/100\n",
      "9/9 [==============================] - 13s 1s/step - loss: 3663740.5000 - mean_absolute_error: 3655459.5000 - val_loss: 3942680.0000 - val_mean_absolute_error: 3931179.5000\n",
      "Epoch 5/100\n",
      "9/9 [==============================] - 13s 1s/step - loss: 3048435.5000 - mean_absolute_error: 3033076.5000 - val_loss: 2761275.0000 - val_mean_absolute_error: 2740058.5000\n",
      "Epoch 6/100\n",
      "9/9 [==============================] - 13s 1s/step - loss: 1806699.5000 - mean_absolute_error: 1780198.1250 - val_loss: 1864224.6250 - val_mean_absolute_error: 1832475.0000\n",
      "Epoch 7/100\n",
      "9/9 [==============================] - 13s 1s/step - loss: 1653908.2500 - mean_absolute_error: 1622270.2500 - val_loss: 1766286.5000 - val_mean_absolute_error: 1735351.8750\n",
      "Epoch 8/100\n",
      "9/9 [==============================] - 13s 1s/step - loss: 1457635.7500 - mean_absolute_error: 1426447.2500 - val_loss: 1859242.2500 - val_mean_absolute_error: 1827252.8750\n",
      "Epoch 9/100\n",
      "9/9 [==============================] - 13s 1s/step - loss: 1390564.0000 - mean_absolute_error: 1357480.6250 - val_loss: 1609406.8750 - val_mean_absolute_error: 1574749.5000\n",
      "Epoch 10/100\n",
      "9/9 [==============================] - 13s 1s/step - loss: 1333813.1250 - mean_absolute_error: 1298231.2500 - val_loss: 1592467.0000 - val_mean_absolute_error: 1555559.0000\n",
      "Epoch 11/100\n",
      "9/9 [==============================] - 13s 1s/step - loss: 1238590.0000 - mean_absolute_error: 1200456.0000 - val_loss: 1569261.2500 - val_mean_absolute_error: 1529499.2500\n",
      "Epoch 12/100\n",
      "9/9 [==============================] - 13s 1s/step - loss: 1174111.6250 - mean_absolute_error: 1132894.8750 - val_loss: 1539714.3750 - val_mean_absolute_error: 1496556.6250\n",
      "Epoch 13/100\n",
      "9/9 [==============================] - 13s 1s/step - loss: 1117306.1250 - mean_absolute_error: 1072607.7500 - val_loss: 1513115.3750 - val_mean_absolute_error: 1466414.8750\n",
      "Epoch 14/100\n",
      "9/9 [==============================] - 12s 1s/step - loss: 1018975.1875 - mean_absolute_error: 970593.6875 - val_loss: 1482721.3750 - val_mean_absolute_error: 1432308.6250\n",
      "Epoch 15/100\n",
      "9/9 [==============================] - 13s 1s/step - loss: 1003286.5625 - mean_absolute_error: 951380.3750 - val_loss: 1465953.7500 - val_mean_absolute_error: 1412193.5000\n",
      "Epoch 16/100\n",
      "9/9 [==============================] - 13s 1s/step - loss: 929484.9375 - mean_absolute_error: 874148.1250 - val_loss: 1443869.8750 - val_mean_absolute_error: 1386502.5000\n",
      "Epoch 17/100\n",
      "9/9 [==============================] - 13s 1s/step - loss: 824791.1250 - mean_absolute_error: 765848.8750 - val_loss: 1463614.2500 - val_mean_absolute_error: 1403000.0000\n",
      "Epoch 18/100\n",
      "9/9 [==============================] - 13s 1s/step - loss: 782090.3750 - mean_absolute_error: 720291.2500 - val_loss: 1449366.6250 - val_mean_absolute_error: 1386170.8750\n",
      "Epoch 19/100\n",
      "9/9 [==============================] - 13s 1s/step - loss: 782071.5000 - mean_absolute_error: 717831.0625 - val_loss: 1409229.6250 - val_mean_absolute_error: 1343740.1250\n",
      "Epoch 20/100\n",
      "9/9 [==============================] - 13s 2s/step - loss: 751808.4375 - mean_absolute_error: 685598.5625 - val_loss: 1438148.3750 - val_mean_absolute_error: 1370626.5000\n",
      "Epoch 21/100\n",
      "9/9 [==============================] - 13s 1s/step - loss: 704722.3125 - mean_absolute_error: 636650.3125 - val_loss: 1407186.5000 - val_mean_absolute_error: 1338384.5000\n",
      "Epoch 22/100\n",
      "9/9 [==============================] - 12s 1s/step - loss: 648273.6250 - mean_absolute_error: 578874.5000 - val_loss: 1420851.2500 - val_mean_absolute_error: 1350941.2500\n",
      "Epoch 23/100\n",
      "9/9 [==============================] - 13s 1s/step - loss: 596169.4375 - mean_absolute_error: 525851.8750 - val_loss: 1405367.0000 - val_mean_absolute_error: 1334680.2500\n",
      "Epoch 24/100\n",
      "9/9 [==============================] - 12s 1s/step - loss: 558694.3750 - mean_absolute_error: 487675.2188 - val_loss: 1390369.5000 - val_mean_absolute_error: 1318966.7500\n",
      "Epoch 25/100\n",
      "9/9 [==============================] - 13s 1s/step - loss: 533864.1875 - mean_absolute_error: 462271.2500 - val_loss: 1383902.5000 - val_mean_absolute_error: 1312178.7500\n",
      "Epoch 26/100\n",
      "9/9 [==============================] - 13s 2s/step - loss: 529264.6250 - mean_absolute_error: 457271.0000 - val_loss: 1383989.6250 - val_mean_absolute_error: 1311710.1250\n",
      "Epoch 27/100\n",
      "9/9 [==============================] - 13s 1s/step - loss: 485916.3438 - mean_absolute_error: 413232.7188 - val_loss: 1390347.0000 - val_mean_absolute_error: 1317209.2500\n",
      "Epoch 28/100\n",
      "9/9 [==============================] - 13s 1s/step - loss: 484868.1250 - mean_absolute_error: 411386.0000 - val_loss: 1382186.6250 - val_mean_absolute_error: 1308453.0000\n",
      "Epoch 29/100\n",
      "9/9 [==============================] - 13s 1s/step - loss: 464629.7500 - mean_absolute_error: 390791.1875 - val_loss: 1392556.8750 - val_mean_absolute_error: 1318558.5000\n",
      "Epoch 30/100\n",
      "9/9 [==============================] - 13s 1s/step - loss: 461061.2500 - mean_absolute_error: 387056.4375 - val_loss: 1401757.0000 - val_mean_absolute_error: 1327775.5000\n",
      "Epoch 31/100\n",
      "9/9 [==============================] - 13s 1s/step - loss: 469340.3125 - mean_absolute_error: 395502.8750 - val_loss: 1421994.3750 - val_mean_absolute_error: 1348136.3750\n",
      "Epoch 32/100\n",
      "9/9 [==============================] - 13s 1s/step - loss: 483103.5938 - mean_absolute_error: 409392.5938 - val_loss: 1410336.2500 - val_mean_absolute_error: 1336559.3750\n",
      "Epoch 33/100\n",
      "9/9 [==============================] - 13s 1s/step - loss: 518915.8438 - mean_absolute_error: 445167.8125 - val_loss: 1380194.1250 - val_mean_absolute_error: 1306431.3750\n",
      "Epoch 34/100\n",
      "9/9 [==============================] - 14s 2s/step - loss: 437175.0000 - mean_absolute_error: 363356.2812 - val_loss: 1378500.3750 - val_mean_absolute_error: 1304782.8750\n",
      "Epoch 35/100\n",
      "9/9 [==============================] - 13s 1s/step - loss: 408155.6562 - mean_absolute_error: 334412.4375 - val_loss: 1369729.0000 - val_mean_absolute_error: 1295958.3750\n",
      "Epoch 36/100\n",
      "9/9 [==============================] - 13s 1s/step - loss: 414921.1562 - mean_absolute_error: 341094.0938 - val_loss: 1359382.5000 - val_mean_absolute_error: 1285583.7500\n",
      "Epoch 37/100\n",
      "9/9 [==============================] - 13s 2s/step - loss: 401056.1250 - mean_absolute_error: 327217.5625 - val_loss: 1358179.8750 - val_mean_absolute_error: 1284355.1250\n",
      "Epoch 38/100\n",
      "9/9 [==============================] - 12s 1s/step - loss: 401012.6250 - mean_absolute_error: 327186.7812 - val_loss: 1363945.0000 - val_mean_absolute_error: 1290170.2500\n",
      "Epoch 39/100\n",
      "9/9 [==============================] - 13s 1s/step - loss: 395493.9062 - mean_absolute_error: 321728.7500 - val_loss: 1367598.5000 - val_mean_absolute_error: 1293881.0000\n",
      "Epoch 40/100\n",
      "9/9 [==============================] - 13s 1s/step - loss: 402481.5000 - mean_absolute_error: 328756.7812 - val_loss: 1366067.6250 - val_mean_absolute_error: 1292363.2500\n",
      "Epoch 41/100\n",
      "9/9 [==============================] - 13s 1s/step - loss: 379920.5312 - mean_absolute_error: 306278.5000 - val_loss: 1397892.0000 - val_mean_absolute_error: 1324290.7500\n",
      "Epoch 42/100\n",
      "9/9 [==============================] - 13s 1s/step - loss: 382224.4375 - mean_absolute_error: 308738.7188 - val_loss: 1377514.2500 - val_mean_absolute_error: 1303925.2500\n",
      "Epoch 43/100\n",
      "9/9 [==============================] - 12s 1s/step - loss: 413351.4375 - mean_absolute_error: 339767.0000 - val_loss: 1369645.0000 - val_mean_absolute_error: 1296113.7500\n",
      "Epoch 44/100\n",
      "9/9 [==============================] - 13s 1s/step - loss: 417414.5312 - mean_absolute_error: 344076.8125 - val_loss: 1367576.5000 - val_mean_absolute_error: 1294329.6250\n",
      "Epoch 45/100\n",
      "9/9 [==============================] - 13s 1s/step - loss: 385795.7812 - mean_absolute_error: 312468.7812 - val_loss: 1376558.8750 - val_mean_absolute_error: 1303229.1250\n",
      "Epoch 46/100\n",
      "9/9 [==============================] - 13s 1s/step - loss: 390667.8438 - mean_absolute_error: 317292.5000 - val_loss: 1363387.7500 - val_mean_absolute_error: 1290113.0000\n",
      "Epoch 47/100\n",
      "9/9 [==============================] - 14s 2s/step - loss: 390446.5312 - mean_absolute_error: 317118.3125 - val_loss: 1351140.2500 - val_mean_absolute_error: 1277808.1250\n",
      "Epoch 48/100\n",
      "9/9 [==============================] - 15s 2s/step - loss: 359397.7812 - mean_absolute_error: 286084.1562 - val_loss: 1358926.1250 - val_mean_absolute_error: 1285708.7500\n",
      "Epoch 49/100\n",
      "9/9 [==============================] - 15s 2s/step - loss: 364736.1562 - mean_absolute_error: 291573.1875 - val_loss: 1366599.0000 - val_mean_absolute_error: 1293449.2500\n",
      "Epoch 50/100\n",
      "9/9 [==============================] - 13s 2s/step - loss: 349567.9062 - mean_absolute_error: 276395.9688 - val_loss: 1371095.0000 - val_mean_absolute_error: 1297933.0000\n",
      "Epoch 51/100\n",
      "9/9 [==============================] - 12s 1s/step - loss: 342871.9062 - mean_absolute_error: 269735.8438 - val_loss: 1361410.7500 - val_mean_absolute_error: 1288195.1250\n",
      "Epoch 52/100\n",
      "9/9 [==============================] - 13s 1s/step - loss: 333654.9688 - mean_absolute_error: 260485.2656 - val_loss: 1349848.1250 - val_mean_absolute_error: 1276786.1250\n",
      "Epoch 53/100\n",
      "9/9 [==============================] - 12s 1s/step - loss: 351274.8125 - mean_absolute_error: 278359.4375 - val_loss: 1367870.1250 - val_mean_absolute_error: 1295099.1250\n",
      "Epoch 54/100\n",
      "9/9 [==============================] - 12s 1s/step - loss: 361916.9688 - mean_absolute_error: 289462.3438 - val_loss: 1369851.2500 - val_mean_absolute_error: 1297604.2500\n",
      "Epoch 55/100\n",
      "9/9 [==============================] - 12s 1s/step - loss: 352976.7188 - mean_absolute_error: 280789.5938 - val_loss: 1363129.8750 - val_mean_absolute_error: 1290949.2500\n",
      "Epoch 56/100\n",
      "9/9 [==============================] - 13s 1s/step - loss: 328444.2188 - mean_absolute_error: 256346.2812 - val_loss: 1364811.3750 - val_mean_absolute_error: 1292746.1250\n",
      "Epoch 57/100\n",
      "9/9 [==============================] - 12s 1s/step - loss: 353624.5938 - mean_absolute_error: 281578.1562 - val_loss: 1359075.8750 - val_mean_absolute_error: 1287069.8750\n",
      "Epoch 58/100\n",
      "9/9 [==============================] - 13s 1s/step - loss: 376803.1875 - mean_absolute_error: 304833.8438 - val_loss: 1386642.3750 - val_mean_absolute_error: 1314836.3750\n",
      "Epoch 59/100\n",
      "9/9 [==============================] - 13s 1s/step - loss: 361627.9062 - mean_absolute_error: 289773.3438 - val_loss: 1370650.6250 - val_mean_absolute_error: 1298791.1250\n",
      "Epoch 60/100\n",
      "9/9 [==============================] - 13s 1s/step - loss: 347727.6562 - mean_absolute_error: 275787.2500 - val_loss: 1376431.2500 - val_mean_absolute_error: 1304402.1250\n",
      "Epoch 61/100\n",
      "9/9 [==============================] - 12s 1s/step - loss: 362257.0312 - mean_absolute_error: 290338.6562 - val_loss: 1361511.7500 - val_mean_absolute_error: 1289731.7500\n",
      "Epoch 62/100\n",
      "9/9 [==============================] - 14s 2s/step - loss: 316960.1562 - mean_absolute_error: 245243.9688 - val_loss: 1355312.6250 - val_mean_absolute_error: 1283759.0000\n",
      "Epoch 63/100\n",
      "9/9 [==============================] - 14s 2s/step - loss: 327474.0312 - mean_absolute_error: 256127.7500 - val_loss: 1362548.8750 - val_mean_absolute_error: 1291408.6250\n",
      "Epoch 64/100\n",
      "9/9 [==============================] - 13s 1s/step - loss: 297375.4375 - mean_absolute_error: 226427.5000 - val_loss: 1358991.6250 - val_mean_absolute_error: 1288189.8750\n",
      "Epoch 65/100\n",
      "9/9 [==============================] - 13s 1s/step - loss: 338755.3125 - mean_absolute_error: 267879.0625 - val_loss: 1357566.1250 - val_mean_absolute_error: 1286573.2500\n",
      "Epoch 66/100\n",
      "9/9 [==============================] - 13s 2s/step - loss: 302707.5000 - mean_absolute_error: 231755.3125 - val_loss: 1365647.0000 - val_mean_absolute_error: 1294685.6250\n",
      "Epoch 67/100\n",
      "9/9 [==============================] - 15s 2s/step - loss: 331661.2500 - mean_absolute_error: 260885.0781 - val_loss: 1362484.2500 - val_mean_absolute_error: 1291819.7500\n",
      "Epoch 68/100\n",
      "9/9 [==============================] - 15s 2s/step - loss: 298005.3125 - mean_absolute_error: 227377.7188 - val_loss: 1363758.1250 - val_mean_absolute_error: 1293131.6250\n",
      "Epoch 69/100\n",
      "9/9 [==============================] - 14s 2s/step - loss: 329428.6875 - mean_absolute_error: 258828.0625 - val_loss: 1359545.8750 - val_mean_absolute_error: 1289031.0000\n",
      "Epoch 70/100\n",
      "9/9 [==============================] - 15s 2s/step - loss: 320813.7500 - mean_absolute_error: 250394.8125 - val_loss: 1357279.7500 - val_mean_absolute_error: 1286898.7500\n",
      "Epoch 71/100\n",
      "9/9 [==============================] - 15s 2s/step - loss: 335783.7812 - mean_absolute_error: 265397.2500 - val_loss: 1358589.6250 - val_mean_absolute_error: 1288160.0000\n",
      "Epoch 72/100\n",
      "9/9 [==============================] - 15s 2s/step - loss: 362851.0312 - mean_absolute_error: 292437.0312 - val_loss: 1357418.2500 - val_mean_absolute_error: 1287026.0000\n",
      "Epoch 73/100\n",
      "9/9 [==============================] - 15s 2s/step - loss: 321436.0312 - mean_absolute_error: 251190.2188 - val_loss: 1365426.5000 - val_mean_absolute_error: 1295293.7500\n",
      "Epoch 74/100\n",
      "9/9 [==============================] - 14s 2s/step - loss: 309174.3125 - mean_absolute_error: 239227.9219 - val_loss: 1366096.0000 - val_mean_absolute_error: 1296270.0000\n",
      "Epoch 75/100\n",
      "9/9 [==============================] - 15s 2s/step - loss: 341548.6250 - mean_absolute_error: 271857.0625 - val_loss: 1357846.1250 - val_mean_absolute_error: 1288255.8750\n",
      "Epoch 76/100\n",
      "9/9 [==============================] - 14s 2s/step - loss: 317793.9688 - mean_absolute_error: 248223.8906 - val_loss: 1359556.8750 - val_mean_absolute_error: 1289956.6250\n",
      "Epoch 77/100\n",
      "9/9 [==============================] - 14s 2s/step - loss: 305754.4375 - mean_absolute_error: 236137.2344 - val_loss: 1361926.7500 - val_mean_absolute_error: 1292331.5000\n",
      "Epoch 78/100\n",
      "9/9 [==============================] - 13s 2s/step - loss: 325958.3750 - mean_absolute_error: 256407.4375 - val_loss: 1358535.5000 - val_mean_absolute_error: 1289030.3750\n",
      "Epoch 79/100\n",
      "9/9 [==============================] - 14s 2s/step - loss: 301768.5312 - mean_absolute_error: 232366.2500 - val_loss: 1361289.2500 - val_mean_absolute_error: 1291922.6250\n",
      "Epoch 80/100\n",
      "9/9 [==============================] - 14s 2s/step - loss: 313978.9688 - mean_absolute_error: 244667.5156 - val_loss: 1353991.1250 - val_mean_absolute_error: 1284831.2500\n",
      "Epoch 81/100\n",
      "9/9 [==============================] - 14s 2s/step - loss: 314997.1250 - mean_absolute_error: 245873.6875 - val_loss: 1381370.3750 - val_mean_absolute_error: 1312348.0000\n",
      "Epoch 82/100\n",
      "9/9 [==============================] - 15s 2s/step - loss: 325793.2500 - mean_absolute_error: 256815.8281 - val_loss: 1359242.2500 - val_mean_absolute_error: 1290476.8750\n",
      "Saving Model...\n",
      "INFO:tensorflow:Assets written to: ./models/MobileNetV3_Large_1/model/assets\n"
     ]
    },
    {
     "name": "stderr",
     "output_type": "stream",
     "text": [
      "INFO:tensorflow:Assets written to: ./models/MobileNetV3_Large_1/model/assets\n"
     ]
    },
    {
     "name": "stdout",
     "output_type": "stream",
     "text": [
      "5/5 [==============================] - 17s 931ms/step\n",
      "Evaluating Model...\n",
      "Cant find feature_importance\n",
      "\n",
      "Model Evaluation:\n",
      "{'Timestamp': '2024-05-02 10:58:37.598544', 'R2': 0.36634960560336016, 'MAE': 1321069.37890625, 'Percentage Error': 55.96587296383744, 'MSE': 3056014506092.7666, 'Feature Importances': None}\n",
      "\n",
      "Median Evaluation:\n",
      "{'R2': 0.36634960560336016, 'MAE': 1321069.37890625, 'Percentage Error': 55.96587296383744, 'MSE': 3056014506092.7666}\n",
      "Feauter Importance...\n",
      "None\n",
      "\n",
      "Saving Best and Worst Image Predictions\n",
      "\n",
      "Done!\n"
     ]
    }
   ],
   "source": [
    "from models import CNN_model1\n",
    "from keras.applications import MobileNetV3Large\n",
    "\n",
    "TYPE = 'CNN'\n",
    "MODEL_NAME: str = \"MobileNetV3_Large_1\"\n",
    "FUNCTION: object = CNN_model1\n",
    "ARGS: tuple = (\n",
    "    MobileNetV3Large,\n",
    "    train1_images,\n",
    "    train1_prices,\n",
    "    valid_images,\n",
    "    valid_prices,\n",
    "    [\n",
    "    Flatten(),\n",
    "    Dense(512, activation=\"relu\", kernel_regularizer=regularizers.l1(0.2)),\n",
    "    # BatchNormalization(),\n",
    "    layers.Dropout(0.2),\n",
    "    Dense(256, activation=\"relu\", kernel_regularizer=regularizers.l1(0.2)),\n",
    "    layers.Dropout(0.2),\n",
    "    Dense(128, activation=\"relu\", kernel_regularizer=regularizers.l1(0.2)),\n",
    "    layers.Dropout(0.1),\n",
    "    Dense(64, activation=\"relu\"),\n",
    "    Dense(1, activation=\"linear\"),\n",
    "    ],\n",
    ")\n",
    "train = False\n",
    "if train:\n",
    "    train_save_model(FUNCTION, ARGS, test_images, test_features, test_prices, f\"{MODELS_PATH}/{MODEL_NAME}\", USE_GPU, TYPE)\n"
   ]
  },
  {
   "cell_type": "code",
   "execution_count": null,
   "metadata": {},
   "outputs": [
    {
     "data": {
      "image/png": "[encoded data removed]",
      "text/plain": [
       "<Figure size 640x480 with 1 Axes>"
      ]
     },
     "metadata": {},
     "output_type": "display_data"
    }
   ],
   "source": [
    "#load the fit-history \n",
    "with open(f\"{MODELS_PATH}/MobileNetV3_Large_1/history\", \"rb\") as file_pi:\n",
    "    history = pickle.load(file_pi)\n",
    "\n",
    "#plot the history\n",
    "plt.plot(history['loss'])\n",
    "plt.plot(history['val_loss'])\n",
    "plt.title('Model Loss')\n",
    "plt.ylabel('Loss')\n",
    "plt.xlabel('Epoch')\n",
    "#Add legend\n",
    "plt.legend(['Train', 'Validation'], loc='upper left')\n",
    "plt.savefig(f\"{MODELS_PATH}/MobileNetV3_Large/loss.png\")\n",
    "plt.show()\n",
    "plt.close()\n"
   ]
  },
  {
   "cell_type": "markdown",
   "metadata": {},
   "source": [
    "### CNN RF"
   ]
  },
  {
   "cell_type": "markdown",
   "metadata": {},
   "source": [
    "#### MobileNetV3Large + Random Forrest"
   ]
  },
  {
   "cell_type": "code",
   "execution_count": 15,
   "metadata": {},
   "outputs": [],
   "source": [
    "MobileNet_CNN = keras.models.load_model(f\"{MODELS_PATH}/MobileNetV3_Large_1/model\")"
   ]
  },
  {
   "cell_type": "code",
   "execution_count": 16,
   "metadata": {},
   "outputs": [
    {
     "name": "stdout",
     "output_type": "stream",
     "text": [
      "Setting CPU\n",
      "9/9 [==============================] - 16s 1s/step\n",
      "Saving Model...\n",
      "5/5 [==============================] - 6s 1s/step\n",
      "Evaluating Model...\n",
      "\n",
      "Model Evaluation:\n",
      "{'Timestamp': '2024-05-08 12:05:25.191150', 'R2': 0.8106362605951949, 'MAE': 655923.4375, 'Percentage Error': 15.589361485155543, 'MSE': 913277005216.875, 'Feature Importances': {'image_predictions': 0.028579270006467795, 'postal_code': 0.06270514485834892, 'type': 0.0, 'size': 0.6403141371761742, 'basement_size': 0.0, 'rooms': 0.009143578656013607, 'year_built': 0.038030734354514865, 'year_rebuilt': 0.04322646401034077, 'energy_label': 0.008922502768470918, 'postal_avg_sqm_price': 0.1280917453391041, 'lat': 0.017620677611489978, 'lng': 0.02336574521907477}}\n",
      "\n",
      "Median Evaluation:\n",
      "{'R2': 0.8167331440759821, 'MAE': 644872.6875, 'Percentage Error': 15.384344816548316, 'MSE': 883872518888.125}\n",
      "Feauter Importance...\n",
      "{'image_predictions': 0.028579270006467795, 'postal_code': 0.06270514485834892, 'type': 0.0, 'size': 0.6403141371761742, 'basement_size': 0.0, 'rooms': 0.009143578656013607, 'year_built': 0.038030734354514865, 'year_rebuilt': 0.04322646401034077, 'energy_label': 0.008922502768470918, 'postal_avg_sqm_price': 0.1280917453391041, 'lat': 0.017620677611489978, 'lng': 0.02336574521907477}\n"
     ]
    },
    {
     "name": "stderr",
     "output_type": "stream",
     "text": [
      "/usr/local/lib/python3.11/site-packages/sklearn/base.py:439: UserWarning: X does not have valid feature names, but RandomForestRegressor was fitted with feature names\n",
      "  warnings.warn(\n"
     ]
    },
    {
     "name": "stdout",
     "output_type": "stream",
     "text": [
      "\n",
      "Saving Feature Importance\n",
      "\n",
      "Done!\n"
     ]
    }
   ],
   "source": [
    "from models import CNN_RF_model\n",
    "TYPE = 'CNN_RF'\n",
    "MODEL_NAME: str = \"MobileNetV3_Large_RF_1\"\n",
    "FUNCTION: object = CNN_RF_model\n",
    "ARGS: tuple = (\n",
    "    MobileNet_CNN, # keras.models.load_model(f\"{MODELS_PATH}/MobileNetV2/model\")\n",
    "    train2_images,\n",
    "    train2_features,\n",
    "    train2_prices,\n",
    ")\n",
    "\n",
    "train_save_model(FUNCTION, ARGS, test_images, test_features,  test_prices, f\"{MODELS_PATH}/{MODEL_NAME}\", USE_GPU, TYPE)"
   ]
  },
  {
   "cell_type": "markdown",
   "metadata": {},
   "source": [
    "#### VGG16 + Random Forrest"
   ]
  },
  {
   "cell_type": "code",
   "execution_count": 17,
   "metadata": {},
   "outputs": [],
   "source": [
    "VGG_16_CNN_Img_model = keras.models.load_model(f\"{MODELS_PATH}/VGG16\")"
   ]
  },
  {
   "cell_type": "code",
   "execution_count": 18,
   "metadata": {},
   "outputs": [
    {
     "name": "stdout",
     "output_type": "stream",
     "text": [
      "Setting CPU\n",
      "9/9 [==============================] - 246s 27s/step\n",
      "Saving Model...\n",
      "5/5 [==============================] - 160s 33s/step\n",
      "Evaluating Model...\n",
      "\n",
      "Model Evaluation:\n",
      "{'Timestamp': '2024-05-08 12:18:22.957648', 'R2': 0.7962986021061887, 'MAE': 665518.625, 'Percentage Error': 15.510396326684923, 'MSE': 982425691485.0, 'Feature Importances': {'image_predictions': 0.04768586402086617, 'postal_code': 0.06428915640659431, 'type': 0.0, 'size': 0.6316508521321514, 'basement_size': 0.0, 'rooms': 0.007436734794938596, 'year_built': 0.028666150125535236, 'year_rebuilt': 0.04613555310360441, 'energy_label': 0.006896190554116371, 'postal_avg_sqm_price': 0.12633183964527822, 'lat': 0.01709163876180232, 'lng': 0.023816020455112857}}\n",
      "\n",
      "Median Evaluation:\n",
      "{'R2': 0.8068028789465412, 'MAE': 658335.3125, 'Percentage Error': 15.548370290492839, 'MSE': 931764912790.625}\n",
      "Feauter Importance...\n",
      "{'image_predictions': 0.04768586402086617, 'postal_code': 0.06428915640659431, 'type': 0.0, 'size': 0.6316508521321514, 'basement_size': 0.0, 'rooms': 0.007436734794938596, 'year_built': 0.028666150125535236, 'year_rebuilt': 0.04613555310360441, 'energy_label': 0.006896190554116371, 'postal_avg_sqm_price': 0.12633183964527822, 'lat': 0.01709163876180232, 'lng': 0.023816020455112857}\n"
     ]
    },
    {
     "name": "stderr",
     "output_type": "stream",
     "text": [
      "/usr/local/lib/python3.11/site-packages/sklearn/base.py:439: UserWarning: X does not have valid feature names, but RandomForestRegressor was fitted with feature names\n",
      "  warnings.warn(\n"
     ]
    },
    {
     "name": "stdout",
     "output_type": "stream",
     "text": [
      "\n",
      "Saving Feature Importance\n",
      "\n",
      "Done!\n"
     ]
    }
   ],
   "source": [
    "from models import CNN_RF_model\n",
    "TYPE = 'CNN_RF'\n",
    "MODEL_NAME: str = \"VGG16_RF\"\n",
    "FUNCTION: object = CNN_RF_model\n",
    "ARGS: tuple = (\n",
    "    VGG_16_CNN_Img_model, \n",
    "    train2_images_448,\n",
    "    train2_features,\n",
    "    train2_prices,\n",
    ")\n",
    "\n",
    "train_save_model(FUNCTION, ARGS, test_images_448, test_features,  test_prices, f\"{MODELS_PATH}/{MODEL_NAME}\", USE_GPU, TYPE)"
   ]
  },
  {
   "cell_type": "markdown",
   "metadata": {},
   "source": [
    "#### EfficientNet + Random Forret"
   ]
  },
  {
   "cell_type": "code",
   "execution_count": 19,
   "metadata": {},
   "outputs": [],
   "source": [
    "EfficientNetB3_CNN_Img_model = keras.models.load_model(f\"{MODELS_PATH}/EfficientNetB3\")"
   ]
  },
  {
   "cell_type": "code",
   "execution_count": 20,
   "metadata": {},
   "outputs": [
    {
     "name": "stdout",
     "output_type": "stream",
     "text": [
      "Setting CPU\n",
      "9/9 [==============================] - 115s 12s/step\n",
      "Saving Model...\n",
      "5/5 [==============================] - 62s 13s/step\n",
      "Evaluating Model...\n",
      "\n",
      "Model Evaluation:\n",
      "{'Timestamp': '2024-05-08 12:29:38.940672', 'R2': 0.8156752517691555, 'MAE': 638786.25, 'Percentage Error': 15.134669670055558, 'MSE': 888974597675.0, 'Feature Importances': {'image_predictions': 0.022499112681625386, 'postal_code': 0.05496748094444457, 'type': 0.0, 'size': 0.6527053983114652, 'basement_size': 0.0, 'rooms': 0.008398107293859416, 'year_built': 0.034855919958884866, 'year_rebuilt': 0.052884199327165406, 'energy_label': 0.011011115919470215, 'postal_avg_sqm_price': 0.12140367540213437, 'lat': 0.016794840801027687, 'lng': 0.024480149359922824}}\n",
      "\n",
      "Median Evaluation:\n",
      "{'R2': 0.8151244559656948, 'MAE': 639444.125, 'Percentage Error': 15.06637209161174, 'MSE': 891631015125.625}\n",
      "Feauter Importance...\n",
      "{'image_predictions': 0.022499112681625386, 'postal_code': 0.05496748094444457, 'type': 0.0, 'size': 0.6527053983114652, 'basement_size': 0.0, 'rooms': 0.008398107293859416, 'year_built': 0.034855919958884866, 'year_rebuilt': 0.052884199327165406, 'energy_label': 0.011011115919470215, 'postal_avg_sqm_price': 0.12140367540213437, 'lat': 0.016794840801027687, 'lng': 0.024480149359922824}\n"
     ]
    },
    {
     "name": "stderr",
     "output_type": "stream",
     "text": [
      "/usr/local/lib/python3.11/site-packages/sklearn/base.py:439: UserWarning: X does not have valid feature names, but RandomForestRegressor was fitted with feature names\n",
      "  warnings.warn(\n"
     ]
    },
    {
     "name": "stdout",
     "output_type": "stream",
     "text": [
      "\n",
      "Saving Feature Importance\n",
      "\n",
      "Done!\n"
     ]
    }
   ],
   "source": [
    "from models import CNN_RF_model\n",
    "TYPE = 'CNN_RF'\n",
    "MODEL_NAME: str = \"EfficientNetB3_RF\"\n",
    "FUNCTION: object = CNN_RF_model\n",
    "ARGS: tuple = (\n",
    "    EfficientNetB3_CNN_Img_model, # keras.models.load_model(f\"{MODELS_PATH}/MobileNetV2/model\")\n",
    "    train2_images_448,\n",
    "    train2_features,\n",
    "    train2_prices,\n",
    ")\n",
    "\n",
    "train_save_model(FUNCTION, ARGS, test_images_448, test_features,  test_prices, f\"{MODELS_PATH}/{MODEL_NAME}\", USE_GPU, TYPE)"
   ]
  },
  {
   "cell_type": "markdown",
   "metadata": {},
   "source": [
    "### CNN + AE + RF"
   ]
  },
  {
   "cell_type": "code",
   "execution_count": 22,
   "metadata": {},
   "outputs": [
    {
     "name": "stdout",
     "output_type": "stream",
     "text": [
      "Epoch 1/30\n",
      "9/9 [==============================] - 36s 3s/step - loss: 50635.2656\n",
      "Epoch 2/30\n",
      "9/9 [==============================] - 28s 3s/step - loss: 32928.7891\n",
      "Epoch 3/30\n",
      "9/9 [==============================] - 23s 3s/step - loss: 12377.5723\n",
      "Epoch 4/30\n",
      "9/9 [==============================] - 23s 3s/step - loss: 6986.9189\n",
      "Epoch 5/30\n",
      "9/9 [==============================] - 22s 2s/step - loss: 4853.6997\n",
      "Epoch 6/30\n",
      "9/9 [==============================] - 22s 2s/step - loss: 4044.4265\n",
      "Epoch 7/30\n",
      "9/9 [==============================] - 22s 2s/step - loss: 3687.7542\n",
      "Epoch 8/30\n",
      "9/9 [==============================] - 22s 2s/step - loss: 3456.3247\n",
      "Epoch 9/30\n",
      "9/9 [==============================] - 23s 2s/step - loss: 3320.1707\n",
      "Epoch 10/30\n",
      "9/9 [==============================] - 24s 3s/step - loss: 3194.8069\n",
      "Epoch 11/30\n",
      "9/9 [==============================] - 23s 3s/step - loss: 3100.9272\n",
      "Epoch 12/30\n",
      "9/9 [==============================] - 23s 3s/step - loss: 3022.4775\n",
      "Epoch 13/30\n",
      "9/9 [==============================] - 24s 3s/step - loss: 2970.5056\n",
      "Epoch 14/30\n",
      "9/9 [==============================] - 23s 3s/step - loss: 2930.9561\n",
      "Epoch 15/30\n",
      "9/9 [==============================] - 25s 3s/step - loss: 2887.8694\n",
      "Epoch 16/30\n",
      "9/9 [==============================] - 28s 3s/step - loss: 2860.4802\n",
      "Epoch 17/30\n",
      "9/9 [==============================] - 26s 3s/step - loss: 2833.2961\n",
      "Epoch 18/30\n",
      "9/9 [==============================] - 26s 3s/step - loss: 2810.1858\n",
      "Epoch 19/30\n",
      "9/9 [==============================] - 26s 3s/step - loss: 2788.1853\n",
      "Epoch 20/30\n",
      "9/9 [==============================] - 26s 3s/step - loss: 2776.8059\n",
      "Epoch 21/30\n",
      "9/9 [==============================] - 30s 3s/step - loss: 2761.6914\n",
      "Epoch 22/30\n",
      "9/9 [==============================] - 27s 3s/step - loss: 2744.3977\n",
      "Epoch 23/30\n",
      "9/9 [==============================] - 25s 3s/step - loss: 2731.4580\n",
      "Epoch 24/30\n",
      "9/9 [==============================] - 25s 3s/step - loss: 2720.6589\n",
      "Epoch 25/30\n",
      "9/9 [==============================] - 25s 3s/step - loss: 2711.4785\n",
      "Epoch 26/30\n",
      "9/9 [==============================] - 23s 3s/step - loss: 2704.1016\n",
      "Epoch 27/30\n",
      "9/9 [==============================] - 24s 3s/step - loss: 2703.2161\n",
      "Epoch 28/30\n",
      "9/9 [==============================] - 24s 3s/step - loss: 2688.5144\n",
      "Epoch 29/30\n",
      "9/9 [==============================] - 24s 3s/step - loss: 2681.3828\n",
      "Epoch 30/30\n",
      "9/9 [==============================] - 24s 3s/step - loss: 2673.1150\n"
     ]
    }
   ],
   "source": [
    "from models import autoEncoder\n",
    "try: \n",
    "  AE_224 = keras.models.load_model(f\"{MODELS_PATH}/AE_224\")\n",
    "except:  \n",
    "  AE_224 = autoEncoder(train1_images, latent_dim=128)\n",
    "  #AE_224.save_weights(f\"{MODELS_PATH}/AE_224\")"
   ]
  },
  {
   "cell_type": "code",
   "execution_count": 23,
   "metadata": {},
   "outputs": [
    {
     "name": "stdout",
     "output_type": "stream",
     "text": [
      "Epoch 1/30\n",
      "9/9 [==============================] - 97s 10s/step - loss: 53250.0430\n",
      "Epoch 2/30\n",
      "9/9 [==============================] - 90s 10s/step - loss: 25345.6621\n",
      "Epoch 3/30\n",
      "9/9 [==============================] - 93s 10s/step - loss: 8799.7637\n",
      "Epoch 4/30\n",
      "9/9 [==============================] - 94s 10s/step - loss: 5174.7476\n",
      "Epoch 5/30\n",
      "9/9 [==============================] - 89s 10s/step - loss: 3926.0344\n",
      "Epoch 6/30\n",
      "9/9 [==============================] - 87s 10s/step - loss: 3491.8301\n",
      "Epoch 7/30\n",
      "9/9 [==============================] - 87s 10s/step - loss: 3270.7209\n",
      "Epoch 8/30\n",
      "9/9 [==============================] - 88s 10s/step - loss: 3161.5852\n",
      "Epoch 9/30\n",
      "9/9 [==============================] - 88s 10s/step - loss: 3063.3430\n",
      "Epoch 10/30\n",
      "9/9 [==============================] - 89s 10s/step - loss: 2995.0369\n",
      "Epoch 11/30\n",
      "9/9 [==============================] - 89s 10s/step - loss: 2948.1760\n",
      "Epoch 12/30\n",
      "9/9 [==============================] - 522s 64s/step - loss: 2903.5771\n",
      "Epoch 13/30\n",
      "9/9 [==============================] - 91s 10s/step - loss: 2867.7903\n",
      "Epoch 14/30\n",
      "9/9 [==============================] - 87s 10s/step - loss: 2833.0315\n",
      "Epoch 15/30\n",
      "9/9 [==============================] - 84s 9s/step - loss: 2806.0208\n",
      "Epoch 16/30\n",
      "9/9 [==============================] - 90s 10s/step - loss: 2790.2126\n",
      "Epoch 17/30\n",
      "9/9 [==============================] - 89s 10s/step - loss: 2770.1765\n",
      "Epoch 18/30\n",
      "9/9 [==============================] - 87s 10s/step - loss: 2748.7319\n",
      "Epoch 19/30\n",
      "9/9 [==============================] - 101s 11s/step - loss: 2731.5007\n",
      "Epoch 20/30\n",
      "9/9 [==============================] - 89s 10s/step - loss: 2718.5647\n",
      "Epoch 21/30\n",
      "9/9 [==============================] - 87s 10s/step - loss: 2708.4141\n",
      "Epoch 22/30\n",
      "9/9 [==============================] - 88s 10s/step - loss: 2697.5029\n",
      "Epoch 23/30\n",
      "9/9 [==============================] - 85s 9s/step - loss: 2680.4944\n",
      "Epoch 24/30\n",
      "9/9 [==============================] - 85s 9s/step - loss: 2672.2913\n",
      "Epoch 25/30\n",
      "9/9 [==============================] - 85s 9s/step - loss: 2656.6526\n",
      "Epoch 26/30\n",
      "9/9 [==============================] - 85s 9s/step - loss: 2635.9355\n",
      "Epoch 27/30\n",
      "9/9 [==============================] - 86s 9s/step - loss: 2612.0703\n",
      "Epoch 28/30\n",
      "9/9 [==============================] - 86s 10s/step - loss: 2576.0505\n",
      "Epoch 29/30\n",
      "9/9 [==============================] - 85s 9s/step - loss: 2543.0591\n",
      "Epoch 30/30\n",
      "9/9 [==============================] - 611s 75s/step - loss: 2508.1648\n"
     ]
    }
   ],
   "source": [
    "try: \n",
    "  AE_448 = keras.models.load_model(f\"{MODELS_PATH}/AE_448\")\n",
    "\n",
    "except:\n",
    "  AE_448 = autoEncoder(train1_images_448, latent_dim=128)\n",
    "  #AE_448.save(f\"{MODELS_PATH}/AE_448\")"
   ]
  },
  {
   "cell_type": "markdown",
   "metadata": {},
   "source": [
    "#### MobileNet_AE_RF"
   ]
  },
  {
   "cell_type": "code",
   "execution_count": 24,
   "metadata": {},
   "outputs": [
    {
     "name": "stdout",
     "output_type": "stream",
     "text": [
      "Setting CPU\n",
      "9/9 [==============================] - 6s 549ms/step\n",
      "9/9 [==============================] - 6s 503ms/step\n",
      "9/9 [==============================] - 9s 893ms/step\n",
      "Saving Model...\n",
      "5/5 [==============================] - 3s 538ms/step\n",
      "5/5 [==============================] - 3s 514ms/step\n",
      "5/5 [==============================] - 4s 824ms/step\n",
      "Evaluating Model...\n",
      "\n",
      "Model Evaluation:\n",
      "{'Timestamp': '2024-05-08 14:08:27.507669', 'R2': 0.8103267692545525, 'MAE': 660955.875, 'Percentage Error': 15.83408620848421, 'MSE': 914769642221.25, 'Feature Importances': {'image_predictions': 0.029841381497127988, 'reconstruction_error': 0.02099033927198016, 'postal_code': 0.06275568167906503, 'type': 0.0, 'size': 0.6422423008900986, 'basement_size': 0.0, 'rooms': 0.006214734990733328, 'year_built': 0.03288740810886502, 'year_rebuilt': 0.04419304932771166, 'energy_label': 0.007737989162258596, 'postal_avg_sqm_price': 0.11622439185900107, 'lat': 0.015188287785021664, 'lng': 0.021724435428136922}}\n",
      "\n",
      "Median Evaluation:\n",
      "{'R2': 0.8104093489193249, 'MAE': 649301.5, 'Percentage Error': 15.528704712741698, 'MSE': 914371371099.375}\n",
      "Feauter Importance...\n",
      "{'image_predictions': 0.029841381497127988, 'reconstruction_error': 0.02099033927198016, 'postal_code': 0.06275568167906503, 'type': 0.0, 'size': 0.6422423008900986, 'basement_size': 0.0, 'rooms': 0.006214734990733328, 'year_built': 0.03288740810886502, 'year_rebuilt': 0.04419304932771166, 'energy_label': 0.007737989162258596, 'postal_avg_sqm_price': 0.11622439185900107, 'lat': 0.015188287785021664, 'lng': 0.021724435428136922}\n"
     ]
    },
    {
     "name": "stderr",
     "output_type": "stream",
     "text": [
      "/usr/local/lib/python3.11/site-packages/sklearn/base.py:439: UserWarning: X does not have valid feature names, but RandomForestRegressor was fitted with feature names\n",
      "  warnings.warn(\n"
     ]
    },
    {
     "name": "stdout",
     "output_type": "stream",
     "text": [
      "\n",
      "Saving Feature Importance\n",
      "\n",
      "Saving Reconstructions\n",
      "5/5 [==============================] - 2s 493ms/step\n",
      "5/5 [==============================] - 2s 474ms/step\n",
      "[ 30  41  18 136 124 147  27  54 101 107]\n",
      "[ 53  50  16   2  43  49 130  98 135  44]\n",
      "1/1 [==============================] - 0s 94ms/step\n",
      "1/1 [==============================] - 0s 77ms/step\n"
     ]
    },
    {
     "name": "stderr",
     "output_type": "stream",
     "text": [
      "Clipping input data to the valid range for imshow with RGB data ([0..1] for floats or [0..255] for integers).\n"
     ]
    },
    {
     "name": "stdout",
     "output_type": "stream",
     "text": [
      "1/1 [==============================] - 0s 57ms/step\n",
      "1/1 [==============================] - 0s 65ms/step\n"
     ]
    },
    {
     "name": "stderr",
     "output_type": "stream",
     "text": [
      "Clipping input data to the valid range for imshow with RGB data ([0..1] for floats or [0..255] for integers).\n"
     ]
    },
    {
     "name": "stdout",
     "output_type": "stream",
     "text": [
      "1/1 [==============================] - 0s 52ms/step\n",
      "1/1 [==============================] - 0s 58ms/step\n"
     ]
    },
    {
     "name": "stderr",
     "output_type": "stream",
     "text": [
      "Clipping input data to the valid range for imshow with RGB data ([0..1] for floats or [0..255] for integers).\n"
     ]
    },
    {
     "name": "stdout",
     "output_type": "stream",
     "text": [
      "1/1 [==============================] - 0s 62ms/step\n",
      "1/1 [==============================] - 0s 60ms/step\n"
     ]
    },
    {
     "name": "stderr",
     "output_type": "stream",
     "text": [
      "Clipping input data to the valid range for imshow with RGB data ([0..1] for floats or [0..255] for integers).\n"
     ]
    },
    {
     "name": "stdout",
     "output_type": "stream",
     "text": [
      "1/1 [==============================] - 0s 54ms/step\n",
      "1/1 [==============================] - 0s 54ms/step\n"
     ]
    },
    {
     "name": "stderr",
     "output_type": "stream",
     "text": [
      "Clipping input data to the valid range for imshow with RGB data ([0..1] for floats or [0..255] for integers).\n"
     ]
    },
    {
     "name": "stdout",
     "output_type": "stream",
     "text": [
      "1/1 [==============================] - 0s 74ms/step\n",
      "1/1 [==============================] - 0s 86ms/step\n"
     ]
    },
    {
     "name": "stderr",
     "output_type": "stream",
     "text": [
      "Clipping input data to the valid range for imshow with RGB data ([0..1] for floats or [0..255] for integers).\n"
     ]
    },
    {
     "name": "stdout",
     "output_type": "stream",
     "text": [
      "1/1 [==============================] - 0s 70ms/step\n",
      "1/1 [==============================] - 0s 57ms/step\n"
     ]
    },
    {
     "name": "stderr",
     "output_type": "stream",
     "text": [
      "Clipping input data to the valid range for imshow with RGB data ([0..1] for floats or [0..255] for integers).\n"
     ]
    },
    {
     "name": "stdout",
     "output_type": "stream",
     "text": [
      "1/1 [==============================] - 0s 59ms/step\n",
      "1/1 [==============================] - 0s 61ms/step\n"
     ]
    },
    {
     "name": "stderr",
     "output_type": "stream",
     "text": [
      "Clipping input data to the valid range for imshow with RGB data ([0..1] for floats or [0..255] for integers).\n"
     ]
    },
    {
     "name": "stdout",
     "output_type": "stream",
     "text": [
      "1/1 [==============================] - 0s 66ms/step\n",
      "1/1 [==============================] - 0s 61ms/step\n"
     ]
    },
    {
     "name": "stderr",
     "output_type": "stream",
     "text": [
      "Clipping input data to the valid range for imshow with RGB data ([0..1] for floats or [0..255] for integers).\n"
     ]
    },
    {
     "name": "stdout",
     "output_type": "stream",
     "text": [
      "1/1 [==============================] - 0s 235ms/step\n",
      "1/1 [==============================] - 0s 99ms/step\n"
     ]
    },
    {
     "name": "stderr",
     "output_type": "stream",
     "text": [
      "Clipping input data to the valid range for imshow with RGB data ([0..1] for floats or [0..255] for integers).\n"
     ]
    },
    {
     "name": "stdout",
     "output_type": "stream",
     "text": [
      "1/1 [==============================] - 0s 96ms/step\n",
      "1/1 [==============================] - 0s 76ms/step\n"
     ]
    },
    {
     "name": "stderr",
     "output_type": "stream",
     "text": [
      "Clipping input data to the valid range for imshow with RGB data ([0..1] for floats or [0..255] for integers).\n"
     ]
    },
    {
     "name": "stdout",
     "output_type": "stream",
     "text": [
      "1/1 [==============================] - 0s 74ms/step\n",
      "1/1 [==============================] - 0s 84ms/step\n"
     ]
    },
    {
     "name": "stderr",
     "output_type": "stream",
     "text": [
      "Clipping input data to the valid range for imshow with RGB data ([0..1] for floats or [0..255] for integers).\n"
     ]
    },
    {
     "name": "stdout",
     "output_type": "stream",
     "text": [
      "1/1 [==============================] - 0s 132ms/step\n",
      "1/1 [==============================] - 0s 66ms/step\n"
     ]
    },
    {
     "name": "stderr",
     "output_type": "stream",
     "text": [
      "Clipping input data to the valid range for imshow with RGB data ([0..1] for floats or [0..255] for integers).\n"
     ]
    },
    {
     "name": "stdout",
     "output_type": "stream",
     "text": [
      "1/1 [==============================] - 0s 50ms/step\n",
      "1/1 [==============================] - 0s 51ms/step\n"
     ]
    },
    {
     "name": "stderr",
     "output_type": "stream",
     "text": [
      "Clipping input data to the valid range for imshow with RGB data ([0..1] for floats or [0..255] for integers).\n"
     ]
    },
    {
     "name": "stdout",
     "output_type": "stream",
     "text": [
      "1/1 [==============================] - 0s 46ms/step\n",
      "1/1 [==============================] - 0s 52ms/step\n"
     ]
    },
    {
     "name": "stderr",
     "output_type": "stream",
     "text": [
      "Clipping input data to the valid range for imshow with RGB data ([0..1] for floats or [0..255] for integers).\n"
     ]
    },
    {
     "name": "stdout",
     "output_type": "stream",
     "text": [
      "1/1 [==============================] - 0s 53ms/step\n",
      "1/1 [==============================] - 0s 52ms/step\n"
     ]
    },
    {
     "name": "stderr",
     "output_type": "stream",
     "text": [
      "Clipping input data to the valid range for imshow with RGB data ([0..1] for floats or [0..255] for integers).\n"
     ]
    },
    {
     "name": "stdout",
     "output_type": "stream",
     "text": [
      "1/1 [==============================] - 0s 50ms/step\n",
      "1/1 [==============================] - 0s 52ms/step\n"
     ]
    },
    {
     "name": "stderr",
     "output_type": "stream",
     "text": [
      "Clipping input data to the valid range for imshow with RGB data ([0..1] for floats or [0..255] for integers).\n"
     ]
    },
    {
     "name": "stdout",
     "output_type": "stream",
     "text": [
      "1/1 [==============================] - 0s 53ms/step\n",
      "1/1 [==============================] - 0s 64ms/step\n"
     ]
    },
    {
     "name": "stderr",
     "output_type": "stream",
     "text": [
      "Clipping input data to the valid range for imshow with RGB data ([0..1] for floats or [0..255] for integers).\n"
     ]
    },
    {
     "name": "stdout",
     "output_type": "stream",
     "text": [
      "1/1 [==============================] - 0s 137ms/step\n",
      "1/1 [==============================] - 0s 62ms/step\n"
     ]
    },
    {
     "name": "stderr",
     "output_type": "stream",
     "text": [
      "Clipping input data to the valid range for imshow with RGB data ([0..1] for floats or [0..255] for integers).\n"
     ]
    },
    {
     "name": "stdout",
     "output_type": "stream",
     "text": [
      "1/1 [==============================] - 0s 48ms/step\n",
      "1/1 [==============================] - 0s 52ms/step\n"
     ]
    },
    {
     "name": "stderr",
     "output_type": "stream",
     "text": [
      "Clipping input data to the valid range for imshow with RGB data ([0..1] for floats or [0..255] for integers).\n"
     ]
    },
    {
     "name": "stdout",
     "output_type": "stream",
     "text": [
      "\n",
      "Done!\n"
     ]
    }
   ],
   "source": [
    "from models import CNN_AE_RF_model\n",
    "#img_model =  keras.models.load_model(f\"{MODELS_PATH}/MobileNetV2/model\")\n",
    "TYPE = 'CNN_AE_RF'\n",
    "MODEL_NAME: str = \"MobileNetV3_AE_RF\"\n",
    "FUNCTION: object = CNN_AE_RF_model\n",
    "ARGS: tuple = (\n",
    "    MobileNet_CNN, #keras.models.load_model(f\"{MODELS_PATH}/MobileNetV2/model\")\n",
    "    AE_224, #Or none for training it from scratch\n",
    "    train2_images,\n",
    "    train2_features,\n",
    "    train2_prices,\n",
    ")\n",
    "train_save_model(FUNCTION, ARGS, test_images, test_features,  test_prices, f\"{MODELS_PATH}/{MODEL_NAME}\", USE_GPU, TYPE)"
   ]
  },
  {
   "cell_type": "markdown",
   "metadata": {},
   "source": [
    "#### VGG16_AE_RF"
   ]
  },
  {
   "cell_type": "code",
   "execution_count": 25,
   "metadata": {},
   "outputs": [
    {
     "name": "stdout",
     "output_type": "stream",
     "text": [
      "Setting CPU\n",
      "9/9 [==============================] - 20s 2s/step\n",
      "9/9 [==============================] - 16s 2s/step\n",
      "9/9 [==============================] - 182s 20s/step\n",
      "Saving Model...\n",
      "5/5 [==============================] - 9s 2s/step\n",
      "5/5 [==============================] - 8s 1s/step\n",
      "5/5 [==============================] - 113s 22s/step\n",
      "Evaluating Model...\n",
      "\n",
      "Model Evaluation:\n",
      "{'Timestamp': '2024-05-08 14:15:40.759040', 'R2': 0.8134347354262519, 'MAE': 648459.0, 'Percentage Error': 15.426771864682271, 'MSE': 899780320366.25, 'Feature Importances': {'image_predictions': 0.04008425439092015, 'reconstruction_error': 0.02405650650942768, 'postal_code': 0.06068774792770994, 'type': 0.0, 'size': 0.6208589538564752, 'basement_size': 0.0, 'rooms': 0.007062450782385501, 'year_built': 0.0353408880793789, 'year_rebuilt': 0.051546349022242095, 'energy_label': 0.005561381466552685, 'postal_avg_sqm_price': 0.1195944534942327, 'lat': 0.014306396081710441, 'lng': 0.0209006183889647}}\n",
      "\n",
      "Median Evaluation:\n",
      "{'R2': 0.8132266007428985, 'MAE': 648950.0625, 'Percentage Error': 15.513697755852446, 'MSE': 900784127224.375}\n",
      "Feauter Importance...\n",
      "{'image_predictions': 0.04008425439092015, 'reconstruction_error': 0.02405650650942768, 'postal_code': 0.06068774792770994, 'type': 0.0, 'size': 0.6208589538564752, 'basement_size': 0.0, 'rooms': 0.007062450782385501, 'year_built': 0.0353408880793789, 'year_rebuilt': 0.051546349022242095, 'energy_label': 0.005561381466552685, 'postal_avg_sqm_price': 0.1195944534942327, 'lat': 0.014306396081710441, 'lng': 0.0209006183889647}\n"
     ]
    },
    {
     "name": "stderr",
     "output_type": "stream",
     "text": [
      "/usr/local/lib/python3.11/site-packages/sklearn/base.py:439: UserWarning: X does not have valid feature names, but RandomForestRegressor was fitted with feature names\n",
      "  warnings.warn(\n"
     ]
    },
    {
     "name": "stdout",
     "output_type": "stream",
     "text": [
      "\n",
      "Saving Feature Importance\n",
      "\n",
      "Saving Reconstructions\n",
      "5/5 [==============================] - 10s 2s/step\n",
      "5/5 [==============================] - 9s 2s/step\n",
      "[ 65  30  41 151  18  54 118  76 122  69]\n",
      "[ 53  50   2 102 140 135  43 123 100  13]\n",
      "1/1 [==============================] - 0s 210ms/step\n",
      "1/1 [==============================] - 0s 153ms/step\n"
     ]
    },
    {
     "name": "stderr",
     "output_type": "stream",
     "text": [
      "Clipping input data to the valid range for imshow with RGB data ([0..1] for floats or [0..255] for integers).\n"
     ]
    },
    {
     "name": "stdout",
     "output_type": "stream",
     "text": [
      "1/1 [==============================] - 0s 150ms/step\n",
      "1/1 [==============================] - 0s 208ms/step\n"
     ]
    },
    {
     "name": "stderr",
     "output_type": "stream",
     "text": [
      "Clipping input data to the valid range for imshow with RGB data ([0..1] for floats or [0..255] for integers).\n"
     ]
    },
    {
     "name": "stdout",
     "output_type": "stream",
     "text": [
      "1/1 [==============================] - 0s 112ms/step\n",
      "1/1 [==============================] - 0s 171ms/step\n"
     ]
    },
    {
     "name": "stderr",
     "output_type": "stream",
     "text": [
      "Clipping input data to the valid range for imshow with RGB data ([0..1] for floats or [0..255] for integers).\n"
     ]
    },
    {
     "name": "stdout",
     "output_type": "stream",
     "text": [
      "1/1 [==============================] - 0s 156ms/step\n",
      "1/1 [==============================] - 0s 126ms/step\n"
     ]
    },
    {
     "name": "stderr",
     "output_type": "stream",
     "text": [
      "Clipping input data to the valid range for imshow with RGB data ([0..1] for floats or [0..255] for integers).\n"
     ]
    },
    {
     "name": "stdout",
     "output_type": "stream",
     "text": [
      "1/1 [==============================] - 0s 109ms/step\n",
      "1/1 [==============================] - 0s 106ms/step\n"
     ]
    },
    {
     "name": "stderr",
     "output_type": "stream",
     "text": [
      "Clipping input data to the valid range for imshow with RGB data ([0..1] for floats or [0..255] for integers).\n"
     ]
    },
    {
     "name": "stdout",
     "output_type": "stream",
     "text": [
      "1/1 [==============================] - 0s 110ms/step\n",
      "1/1 [==============================] - 0s 112ms/step\n"
     ]
    },
    {
     "name": "stderr",
     "output_type": "stream",
     "text": [
      "Clipping input data to the valid range for imshow with RGB data ([0..1] for floats or [0..255] for integers).\n"
     ]
    },
    {
     "name": "stdout",
     "output_type": "stream",
     "text": [
      "1/1 [==============================] - 0s 124ms/step\n",
      "1/1 [==============================] - 0s 112ms/step\n"
     ]
    },
    {
     "name": "stderr",
     "output_type": "stream",
     "text": [
      "Clipping input data to the valid range for imshow with RGB data ([0..1] for floats or [0..255] for integers).\n"
     ]
    },
    {
     "name": "stdout",
     "output_type": "stream",
     "text": [
      "1/1 [==============================] - 0s 135ms/step\n",
      "1/1 [==============================] - 0s 112ms/step\n"
     ]
    },
    {
     "name": "stderr",
     "output_type": "stream",
     "text": [
      "Clipping input data to the valid range for imshow with RGB data ([0..1] for floats or [0..255] for integers).\n"
     ]
    },
    {
     "name": "stdout",
     "output_type": "stream",
     "text": [
      "1/1 [==============================] - 0s 153ms/step\n",
      "1/1 [==============================] - 0s 98ms/step\n"
     ]
    },
    {
     "name": "stderr",
     "output_type": "stream",
     "text": [
      "Clipping input data to the valid range for imshow with RGB data ([0..1] for floats or [0..255] for integers).\n"
     ]
    },
    {
     "name": "stdout",
     "output_type": "stream",
     "text": [
      "1/1 [==============================] - 0s 118ms/step\n",
      "1/1 [==============================] - 0s 140ms/step\n"
     ]
    },
    {
     "name": "stderr",
     "output_type": "stream",
     "text": [
      "Clipping input data to the valid range for imshow with RGB data ([0..1] for floats or [0..255] for integers).\n"
     ]
    },
    {
     "name": "stdout",
     "output_type": "stream",
     "text": [
      "1/1 [==============================] - 0s 159ms/step\n",
      "1/1 [==============================] - 0s 102ms/step\n"
     ]
    },
    {
     "name": "stderr",
     "output_type": "stream",
     "text": [
      "Clipping input data to the valid range for imshow with RGB data ([0..1] for floats or [0..255] for integers).\n"
     ]
    },
    {
     "name": "stdout",
     "output_type": "stream",
     "text": [
      "1/1 [==============================] - 0s 157ms/step\n",
      "1/1 [==============================] - 0s 101ms/step\n"
     ]
    },
    {
     "name": "stderr",
     "output_type": "stream",
     "text": [
      "Clipping input data to the valid range for imshow with RGB data ([0..1] for floats or [0..255] for integers).\n"
     ]
    },
    {
     "name": "stdout",
     "output_type": "stream",
     "text": [
      "1/1 [==============================] - 0s 130ms/step\n",
      "1/1 [==============================] - 0s 125ms/step\n"
     ]
    },
    {
     "name": "stderr",
     "output_type": "stream",
     "text": [
      "Clipping input data to the valid range for imshow with RGB data ([0..1] for floats or [0..255] for integers).\n"
     ]
    },
    {
     "name": "stdout",
     "output_type": "stream",
     "text": [
      "1/1 [==============================] - 0s 135ms/step\n",
      "1/1 [==============================] - 0s 136ms/step\n"
     ]
    },
    {
     "name": "stderr",
     "output_type": "stream",
     "text": [
      "Clipping input data to the valid range for imshow with RGB data ([0..1] for floats or [0..255] for integers).\n"
     ]
    },
    {
     "name": "stdout",
     "output_type": "stream",
     "text": [
      "1/1 [==============================] - 0s 256ms/step\n",
      "1/1 [==============================] - 0s 164ms/step\n"
     ]
    },
    {
     "name": "stderr",
     "output_type": "stream",
     "text": [
      "Clipping input data to the valid range for imshow with RGB data ([0..1] for floats or [0..255] for integers).\n"
     ]
    },
    {
     "name": "stdout",
     "output_type": "stream",
     "text": [
      "1/1 [==============================] - 0s 121ms/step\n",
      "1/1 [==============================] - 0s 96ms/step\n"
     ]
    },
    {
     "name": "stderr",
     "output_type": "stream",
     "text": [
      "Clipping input data to the valid range for imshow with RGB data ([0..1] for floats or [0..255] for integers).\n"
     ]
    },
    {
     "name": "stdout",
     "output_type": "stream",
     "text": [
      "1/1 [==============================] - 0s 154ms/step\n",
      "1/1 [==============================] - 0s 312ms/step\n"
     ]
    },
    {
     "name": "stderr",
     "output_type": "stream",
     "text": [
      "Clipping input data to the valid range for imshow with RGB data ([0..1] for floats or [0..255] for integers).\n"
     ]
    },
    {
     "name": "stdout",
     "output_type": "stream",
     "text": [
      "1/1 [==============================] - 0s 120ms/step\n",
      "1/1 [==============================] - 0s 123ms/step\n"
     ]
    },
    {
     "name": "stderr",
     "output_type": "stream",
     "text": [
      "Clipping input data to the valid range for imshow with RGB data ([0..1] for floats or [0..255] for integers).\n"
     ]
    },
    {
     "name": "stdout",
     "output_type": "stream",
     "text": [
      "1/1 [==============================] - 0s 185ms/step\n",
      "1/1 [==============================] - 0s 120ms/step\n"
     ]
    },
    {
     "name": "stderr",
     "output_type": "stream",
     "text": [
      "Clipping input data to the valid range for imshow with RGB data ([0..1] for floats or [0..255] for integers).\n"
     ]
    },
    {
     "name": "stdout",
     "output_type": "stream",
     "text": [
      "1/1 [==============================] - 0s 162ms/step\n",
      "1/1 [==============================] - 0s 112ms/step\n"
     ]
    },
    {
     "name": "stderr",
     "output_type": "stream",
     "text": [
      "Clipping input data to the valid range for imshow with RGB data ([0..1] for floats or [0..255] for integers).\n"
     ]
    },
    {
     "name": "stdout",
     "output_type": "stream",
     "text": [
      "\n",
      "Done!\n"
     ]
    }
   ],
   "source": [
    "from models import CNN_AE_RF_model\n",
    "#img_model =  keras.models.load_model(f\"{MODELS_PATH}/MobileNetV2/model\")\n",
    "TYPE = 'CNN_AE_RF'\n",
    "MODEL_NAME: str = \"VGG16_AE_RF\"\n",
    "FUNCTION: object = CNN_AE_RF_model\n",
    "ARGS: tuple = (\n",
    "    VGG_16_CNN_Img_model, #keras.models.load_model(f\"{MODELS_PATH}/MobileNetV2/model\")\n",
    "    AE_448, #Or none for training it from scratch\n",
    "    train2_images_448,\n",
    "    train2_features,\n",
    "    train2_prices,\n",
    ")\n",
    "\n",
    "train_save_model(FUNCTION, ARGS, test_images_448, test_features,  test_prices, f\"{MODELS_PATH}/{MODEL_NAME}\", USE_GPU, TYPE)"
   ]
  },
  {
   "cell_type": "markdown",
   "metadata": {},
   "source": [
    "#### EfficientNet + RF + Features"
   ]
  },
  {
   "cell_type": "code",
   "execution_count": 27,
   "metadata": {},
   "outputs": [
    {
     "name": "stdout",
     "output_type": "stream",
     "text": [
      "Setting CPU\n",
      "9/9 [==============================] - 18s 2s/step\n",
      "9/9 [==============================] - 14s 2s/step\n",
      "9/9 [==============================] - 94s 10s/step\n",
      "Saving Model...\n",
      "5/5 [==============================] - 11s 2s/step\n",
      "5/5 [==============================] - 9s 2s/step\n",
      "5/5 [==============================] - 56s 11s/step\n",
      "Evaluating Model...\n",
      "\n",
      "Model Evaluation:\n",
      "{'Timestamp': '2024-05-08 14:22:49.988912', 'R2': 0.8175666961924237, 'MAE': 651748.4375, 'Percentage Error': 15.71700800905701, 'MSE': 879852404039.375, 'Feature Importances': {'image_predictions': 0.02026997366898531, 'reconstruction_error': 0.027994041904510172, 'postal_code': 0.05887908816885933, 'type': 0.0, 'size': 0.6530171608507535, 'basement_size': 0.0, 'rooms': 0.009601164576228133, 'year_built': 0.028626681228918614, 'year_rebuilt': 0.04257901649816746, 'energy_label': 0.006473686056324984, 'postal_avg_sqm_price': 0.11560300493015527, 'lat': 0.016630748175368634, 'lng': 0.020325433941728702}}\n",
      "\n",
      "Median Evaluation:\n",
      "{'R2': 0.8164416555204096, 'MAE': 645174.8125, 'Percentage Error': 15.467928614378087, 'MSE': 885278330771.25}\n",
      "Feauter Importance...\n",
      "{'image_predictions': 0.02026997366898531, 'reconstruction_error': 0.027994041904510172, 'postal_code': 0.05887908816885933, 'type': 0.0, 'size': 0.6530171608507535, 'basement_size': 0.0, 'rooms': 0.009601164576228133, 'year_built': 0.028626681228918614, 'year_rebuilt': 0.04257901649816746, 'energy_label': 0.006473686056324984, 'postal_avg_sqm_price': 0.11560300493015527, 'lat': 0.016630748175368634, 'lng': 0.020325433941728702}\n"
     ]
    },
    {
     "name": "stderr",
     "output_type": "stream",
     "text": [
      "/usr/local/lib/python3.11/site-packages/sklearn/base.py:439: UserWarning: X does not have valid feature names, but RandomForestRegressor was fitted with feature names\n",
      "  warnings.warn(\n"
     ]
    },
    {
     "name": "stdout",
     "output_type": "stream",
     "text": [
      "\n",
      "Saving Feature Importance\n",
      "\n",
      "Saving Reconstructions\n",
      "5/5 [==============================] - 9s 2s/step\n",
      "5/5 [==============================] - 8s 2s/step\n",
      "[ 65  30  41 151  18  54 118  76 122  69]\n",
      "[ 53  50   2 102 140 135  43 123 100  13]\n",
      "1/1 [==============================] - 0s 119ms/step\n",
      "1/1 [==============================] - 0s 112ms/step\n"
     ]
    },
    {
     "name": "stderr",
     "output_type": "stream",
     "text": [
      "Clipping input data to the valid range for imshow with RGB data ([0..1] for floats or [0..255] for integers).\n"
     ]
    },
    {
     "name": "stdout",
     "output_type": "stream",
     "text": [
      "1/1 [==============================] - 0s 112ms/step\n",
      "1/1 [==============================] - 0s 113ms/step\n"
     ]
    },
    {
     "name": "stderr",
     "output_type": "stream",
     "text": [
      "Clipping input data to the valid range for imshow with RGB data ([0..1] for floats or [0..255] for integers).\n"
     ]
    },
    {
     "name": "stdout",
     "output_type": "stream",
     "text": [
      "1/1 [==============================] - 0s 105ms/step\n",
      "1/1 [==============================] - 0s 107ms/step\n"
     ]
    },
    {
     "name": "stderr",
     "output_type": "stream",
     "text": [
      "Clipping input data to the valid range for imshow with RGB data ([0..1] for floats or [0..255] for integers).\n"
     ]
    },
    {
     "name": "stdout",
     "output_type": "stream",
     "text": [
      "1/1 [==============================] - 0s 104ms/step\n",
      "1/1 [==============================] - 0s 104ms/step\n"
     ]
    },
    {
     "name": "stderr",
     "output_type": "stream",
     "text": [
      "Clipping input data to the valid range for imshow with RGB data ([0..1] for floats or [0..255] for integers).\n"
     ]
    },
    {
     "name": "stdout",
     "output_type": "stream",
     "text": [
      "1/1 [==============================] - 0s 133ms/step\n",
      "1/1 [==============================] - 0s 106ms/step\n"
     ]
    },
    {
     "name": "stderr",
     "output_type": "stream",
     "text": [
      "Clipping input data to the valid range for imshow with RGB data ([0..1] for floats or [0..255] for integers).\n"
     ]
    },
    {
     "name": "stdout",
     "output_type": "stream",
     "text": [
      "1/1 [==============================] - 0s 128ms/step\n",
      "1/1 [==============================] - 0s 225ms/step\n"
     ]
    },
    {
     "name": "stderr",
     "output_type": "stream",
     "text": [
      "Clipping input data to the valid range for imshow with RGB data ([0..1] for floats or [0..255] for integers).\n"
     ]
    },
    {
     "name": "stdout",
     "output_type": "stream",
     "text": [
      "1/1 [==============================] - 0s 119ms/step\n",
      "1/1 [==============================] - 0s 172ms/step\n"
     ]
    },
    {
     "name": "stderr",
     "output_type": "stream",
     "text": [
      "Clipping input data to the valid range for imshow with RGB data ([0..1] for floats or [0..255] for integers).\n"
     ]
    },
    {
     "name": "stdout",
     "output_type": "stream",
     "text": [
      "1/1 [==============================] - 0s 117ms/step\n",
      "1/1 [==============================] - 0s 115ms/step\n"
     ]
    },
    {
     "name": "stderr",
     "output_type": "stream",
     "text": [
      "Clipping input data to the valid range for imshow with RGB data ([0..1] for floats or [0..255] for integers).\n"
     ]
    },
    {
     "name": "stdout",
     "output_type": "stream",
     "text": [
      "1/1 [==============================] - 0s 114ms/step\n",
      "1/1 [==============================] - 0s 135ms/step\n"
     ]
    },
    {
     "name": "stderr",
     "output_type": "stream",
     "text": [
      "Clipping input data to the valid range for imshow with RGB data ([0..1] for floats or [0..255] for integers).\n"
     ]
    },
    {
     "name": "stdout",
     "output_type": "stream",
     "text": [
      "1/1 [==============================] - 0s 120ms/step\n",
      "1/1 [==============================] - 0s 127ms/step\n"
     ]
    },
    {
     "name": "stderr",
     "output_type": "stream",
     "text": [
      "Clipping input data to the valid range for imshow with RGB data ([0..1] for floats or [0..255] for integers).\n"
     ]
    },
    {
     "name": "stdout",
     "output_type": "stream",
     "text": [
      "1/1 [==============================] - 0s 185ms/step\n",
      "1/1 [==============================] - 0s 109ms/step\n"
     ]
    },
    {
     "name": "stderr",
     "output_type": "stream",
     "text": [
      "Clipping input data to the valid range for imshow with RGB data ([0..1] for floats or [0..255] for integers).\n"
     ]
    },
    {
     "name": "stdout",
     "output_type": "stream",
     "text": [
      "1/1 [==============================] - 0s 126ms/step\n",
      "1/1 [==============================] - 0s 142ms/step\n"
     ]
    },
    {
     "name": "stderr",
     "output_type": "stream",
     "text": [
      "Clipping input data to the valid range for imshow with RGB data ([0..1] for floats or [0..255] for integers).\n"
     ]
    },
    {
     "name": "stdout",
     "output_type": "stream",
     "text": [
      "1/1 [==============================] - 0s 125ms/step\n",
      "1/1 [==============================] - 0s 110ms/step\n"
     ]
    },
    {
     "name": "stderr",
     "output_type": "stream",
     "text": [
      "Clipping input data to the valid range for imshow with RGB data ([0..1] for floats or [0..255] for integers).\n"
     ]
    },
    {
     "name": "stdout",
     "output_type": "stream",
     "text": [
      "1/1 [==============================] - 0s 106ms/step\n",
      "1/1 [==============================] - 0s 136ms/step\n"
     ]
    },
    {
     "name": "stderr",
     "output_type": "stream",
     "text": [
      "Clipping input data to the valid range for imshow with RGB data ([0..1] for floats or [0..255] for integers).\n"
     ]
    },
    {
     "name": "stdout",
     "output_type": "stream",
     "text": [
      "1/1 [==============================] - 0s 116ms/step\n",
      "1/1 [==============================] - 0s 102ms/step\n"
     ]
    },
    {
     "name": "stderr",
     "output_type": "stream",
     "text": [
      "Clipping input data to the valid range for imshow with RGB data ([0..1] for floats or [0..255] for integers).\n"
     ]
    },
    {
     "name": "stdout",
     "output_type": "stream",
     "text": [
      "1/1 [==============================] - 0s 102ms/step\n",
      "1/1 [==============================] - 0s 93ms/step\n"
     ]
    },
    {
     "name": "stderr",
     "output_type": "stream",
     "text": [
      "Clipping input data to the valid range for imshow with RGB data ([0..1] for floats or [0..255] for integers).\n"
     ]
    },
    {
     "name": "stdout",
     "output_type": "stream",
     "text": [
      "1/1 [==============================] - 0s 149ms/step\n",
      "1/1 [==============================] - 0s 148ms/step\n"
     ]
    },
    {
     "name": "stderr",
     "output_type": "stream",
     "text": [
      "Clipping input data to the valid range for imshow with RGB data ([0..1] for floats or [0..255] for integers).\n"
     ]
    },
    {
     "name": "stdout",
     "output_type": "stream",
     "text": [
      "1/1 [==============================] - 0s 114ms/step\n",
      "1/1 [==============================] - 0s 110ms/step\n"
     ]
    },
    {
     "name": "stderr",
     "output_type": "stream",
     "text": [
      "Clipping input data to the valid range for imshow with RGB data ([0..1] for floats or [0..255] for integers).\n"
     ]
    },
    {
     "name": "stdout",
     "output_type": "stream",
     "text": [
      "1/1 [==============================] - 0s 111ms/step\n",
      "1/1 [==============================] - 0s 120ms/step\n"
     ]
    },
    {
     "name": "stderr",
     "output_type": "stream",
     "text": [
      "Clipping input data to the valid range for imshow with RGB data ([0..1] for floats or [0..255] for integers).\n"
     ]
    },
    {
     "name": "stdout",
     "output_type": "stream",
     "text": [
      "1/1 [==============================] - 0s 107ms/step\n",
      "1/1 [==============================] - 0s 106ms/step\n"
     ]
    },
    {
     "name": "stderr",
     "output_type": "stream",
     "text": [
      "Clipping input data to the valid range for imshow with RGB data ([0..1] for floats or [0..255] for integers).\n"
     ]
    },
    {
     "name": "stdout",
     "output_type": "stream",
     "text": [
      "\n",
      "Done!\n"
     ]
    }
   ],
   "source": [
    "from models import CNN_AE_RF_model\n",
    "#img_model =  keras.models.load_model(f\"{MODELS_PATH}/MobileNetV2/model\")\n",
    "TYPE = 'CNN_AE_RF'\n",
    "MODEL_NAME: str = \"EfficientNetB3_AE_RF\"\n",
    "FUNCTION: object = CNN_AE_RF_model\n",
    "ARGS: tuple = (\n",
    "    EfficientNetB3_CNN_Img_model, #keras.models.load_model(f\"{MODELS_PATH}/MobileNetV2/model\")\n",
    "    AE_448, #Or none for training it from scratch\n",
    "    train2_images_448,\n",
    "    train2_features,\n",
    "    train2_prices,\n",
    ")\n",
    "\n",
    "train_save_model(FUNCTION, ARGS, test_images_448, test_features,  test_prices, f\"{MODELS_PATH}/{MODEL_NAME}\", USE_GPU, TYPE)"
   ]
  },
  {
   "cell_type": "markdown",
   "metadata": {},
   "source": [
    "### N-CNN"
   ]
  },
  {
   "cell_type": "code",
   "execution_count": null,
   "metadata": {},
   "outputs": [],
   "source": [
    "from models import N_CNN_RF_model\n",
    "from keras.applications import MobileNetV3Small\n",
    "TYPE = 'CNN_RF'\n",
    "MODEL_NAME: str = \"N_CNN_MobileNetV2_RF\"\n",
    "FUNCTION: object = N_CNN_RF_model\n",
    "ARGS: tuple = (\n",
    "    4,\n",
    "    MobileNetV3Small,\n",
    "    np.concatenate((train1_images, train2_images), axis=0),\n",
    "    pd.concat((train1_features, train2_features), axis=0),\n",
    "\n",
    "    np.concatenate((train1_prices, train2_prices), axis=0),\n",
    ")\n",
    "train_save_model(FUNCTION, ARGS, test_images, test_features,  test_prices, f\"{MODELS_PATH}/{MODEL_NAME}\", USE_GPU, TYPE)"
   ]
  },
  {
   "cell_type": "code",
   "execution_count": null,
   "metadata": {},
   "outputs": [
    {
     "name": "stdout",
     "output_type": "stream",
     "text": [
      "Training model  0\n",
      "Number of Training Images 427\n",
      "Mean of Training Images 3760796.2529274006\n",
      "Compiling Model\n",
      "Fitting Model\n",
      "Epoch 1/100\n",
      "14/14 [==============================] - 29s 972ms/step - loss: 3771485.0000 - mean_absolute_error: 3760770.7500 - val_loss: 4306321.5000 - val_mean_absolute_error: 4302275.0000\n",
      "Epoch 2/100\n",
      "14/14 [==============================] - 9s 636ms/step - loss: 3762207.7500 - mean_absolute_error: 3758456.0000 - val_loss: 4294137.0000 - val_mean_absolute_error: 4290513.5000\n",
      "Epoch 3/100\n",
      "14/14 [==============================] - 9s 649ms/step - loss: 3691666.5000 - mean_absolute_error: 3685977.7500 - val_loss: 4040676.2500 - val_mean_absolute_error: 4030434.2500\n",
      "Epoch 4/100\n",
      "14/14 [==============================] - 9s 640ms/step - loss: 2845275.7500 - mean_absolute_error: 2827626.5000 - val_loss: 2073299.2500 - val_mean_absolute_error: 2043941.2500\n",
      "Epoch 5/100\n",
      "14/14 [==============================] - 9s 645ms/step - loss: 1577538.2500 - mean_absolute_error: 1544202.2500 - val_loss: 1875696.2500 - val_mean_absolute_error: 1842902.0000\n",
      "Epoch 6/100\n",
      "14/14 [==============================] - 9s 651ms/step - loss: 1450608.0000 - mean_absolute_error: 1418551.5000 - val_loss: 1837126.0000 - val_mean_absolute_error: 1803481.8750\n",
      "Epoch 7/100\n",
      "14/14 [==============================] - 9s 650ms/step - loss: 1361580.6250 - mean_absolute_error: 1327434.3750 - val_loss: 1738119.3750 - val_mean_absolute_error: 1703582.5000\n",
      "Epoch 8/100\n",
      "14/14 [==============================] - 9s 637ms/step - loss: 1321883.2500 - mean_absolute_error: 1286874.2500 - val_loss: 1770381.2500 - val_mean_absolute_error: 1735261.2500\n",
      "Epoch 9/100\n",
      "14/14 [==============================] - 9s 646ms/step - loss: 1246148.5000 - mean_absolute_error: 1210019.1250 - val_loss: 1630572.3750 - val_mean_absolute_error: 1593359.7500\n",
      "Epoch 10/100\n",
      "14/14 [==============================] - 9s 630ms/step - loss: 1219087.5000 - mean_absolute_error: 1181174.1250 - val_loss: 1617270.0000 - val_mean_absolute_error: 1578504.8750\n",
      "Epoch 11/100\n",
      "14/14 [==============================] - 9s 646ms/step - loss: 1186351.0000 - mean_absolute_error: 1146656.2500 - val_loss: 1588815.2500 - val_mean_absolute_error: 1547840.0000\n",
      "Epoch 12/100\n",
      "14/14 [==============================] - 9s 638ms/step - loss: 1134775.5000 - mean_absolute_error: 1093068.7500 - val_loss: 1571898.6250 - val_mean_absolute_error: 1528850.1250\n",
      "Epoch 13/100\n",
      "14/14 [==============================] - 9s 660ms/step - loss: 1071038.8750 - mean_absolute_error: 1027217.3750 - val_loss: 1547641.8750 - val_mean_absolute_error: 1502581.2500\n",
      "Epoch 14/100\n",
      "14/14 [==============================] - 9s 617ms/step - loss: 1003986.0000 - mean_absolute_error: 957995.2500 - val_loss: 1520027.6250 - val_mean_absolute_error: 1472627.5000\n",
      "Epoch 15/100\n",
      "14/14 [==============================] - 8s 611ms/step - loss: 946153.9375 - mean_absolute_error: 897695.3125 - val_loss: 1515300.3750 - val_mean_absolute_error: 1465554.1250\n",
      "Epoch 16/100\n",
      "14/14 [==============================] - 8s 588ms/step - loss: 886844.1875 - mean_absolute_error: 835769.1250 - val_loss: 1479703.8750 - val_mean_absolute_error: 1427148.8750\n",
      "Epoch 17/100\n",
      "14/14 [==============================] - 9s 644ms/step - loss: 856512.8125 - mean_absolute_error: 802817.8125 - val_loss: 1473267.1250 - val_mean_absolute_error: 1418271.1250\n",
      "Epoch 18/100\n",
      "14/14 [==============================] - 8s 586ms/step - loss: 793125.9375 - mean_absolute_error: 737209.0000 - val_loss: 1447703.8750 - val_mean_absolute_error: 1390692.3750\n",
      "Epoch 19/100\n",
      "14/14 [==============================] - 8s 605ms/step - loss: 750537.1250 - mean_absolute_error: 692816.8125 - val_loss: 1444601.7500 - val_mean_absolute_error: 1386140.5000\n",
      "Epoch 20/100\n",
      "14/14 [==============================] - 8s 602ms/step - loss: 711967.7500 - mean_absolute_error: 652880.2500 - val_loss: 1448239.5000 - val_mean_absolute_error: 1388432.6250\n",
      "Epoch 21/100\n",
      "14/14 [==============================] - 9s 626ms/step - loss: 645025.2500 - mean_absolute_error: 584582.8750 - val_loss: 1438702.5000 - val_mean_absolute_error: 1377547.1250\n",
      "Epoch 22/100\n",
      "14/14 [==============================] - 8s 591ms/step - loss: 627857.3750 - mean_absolute_error: 566027.9375 - val_loss: 1428354.7500 - val_mean_absolute_error: 1365940.2500\n",
      "Epoch 23/100\n",
      "14/14 [==============================] - 9s 615ms/step - loss: 604155.3125 - mean_absolute_error: 541535.8750 - val_loss: 1427644.0000 - val_mean_absolute_error: 1364775.1250\n",
      "Epoch 24/100\n",
      "14/14 [==============================] - 9s 630ms/step - loss: 588977.9375 - mean_absolute_error: 525804.4375 - val_loss: 1478225.0000 - val_mean_absolute_error: 1414629.7500\n",
      "Epoch 25/100\n",
      "14/14 [==============================] - 8s 610ms/step - loss: 575285.0000 - mean_absolute_error: 511267.5000 - val_loss: 1451477.3750 - val_mean_absolute_error: 1387023.0000\n",
      "Epoch 26/100\n",
      "14/14 [==============================] - 8s 609ms/step - loss: 611938.0000 - mean_absolute_error: 547495.3750 - val_loss: 1441020.1250 - val_mean_absolute_error: 1376408.2500\n",
      "Epoch 27/100\n",
      "14/14 [==============================] - 8s 598ms/step - loss: 547929.2500 - mean_absolute_error: 483081.0625 - val_loss: 1460095.5000 - val_mean_absolute_error: 1394945.0000\n",
      "Epoch 28/100\n",
      "14/14 [==============================] - 9s 631ms/step - loss: 529251.1875 - mean_absolute_error: 463778.4688 - val_loss: 1429839.3750 - val_mean_absolute_error: 1364054.1250\n",
      "Epoch 29/100\n",
      "14/14 [==============================] - 9s 620ms/step - loss: 498092.0938 - mean_absolute_error: 432109.2500 - val_loss: 1443413.0000 - val_mean_absolute_error: 1377230.5000\n",
      "Epoch 30/100\n",
      "14/14 [==============================] - 8s 601ms/step - loss: 487883.7188 - mean_absolute_error: 421665.5312 - val_loss: 1432069.1250 - val_mean_absolute_error: 1365769.8750\n",
      "Epoch 31/100\n",
      "14/14 [==============================] - 9s 615ms/step - loss: 462849.1562 - mean_absolute_error: 396450.3750 - val_loss: 1435181.3750 - val_mean_absolute_error: 1368647.3750\n",
      "Epoch 32/100\n",
      "14/14 [==============================] - 9s 642ms/step - loss: 490407.7812 - mean_absolute_error: 423832.0625 - val_loss: 1427387.8750 - val_mean_absolute_error: 1360796.3750\n",
      "Epoch 33/100\n",
      "14/14 [==============================] - 9s 620ms/step - loss: 480838.8125 - mean_absolute_error: 414092.3750 - val_loss: 1479233.8750 - val_mean_absolute_error: 1412124.0000\n",
      "Epoch 34/100\n",
      "14/14 [==============================] - 9s 613ms/step - loss: 517257.8125 - mean_absolute_error: 450063.0625 - val_loss: 1404783.2500 - val_mean_absolute_error: 1337464.5000\n",
      "Epoch 35/100\n",
      "14/14 [==============================] - 9s 645ms/step - loss: 438351.9688 - mean_absolute_error: 370801.4688 - val_loss: 1409481.2500 - val_mean_absolute_error: 1341889.7500\n",
      "Epoch 36/100\n",
      "14/14 [==============================] - 9s 647ms/step - loss: 427970.8125 - mean_absolute_error: 360338.0938 - val_loss: 1418948.2500 - val_mean_absolute_error: 1351197.6250\n",
      "Epoch 37/100\n",
      "14/14 [==============================] - 9s 623ms/step - loss: 442740.0938 - mean_absolute_error: 374994.9375 - val_loss: 1396347.7500 - val_mean_absolute_error: 1328618.5000\n",
      "Epoch 38/100\n",
      "14/14 [==============================] - 9s 610ms/step - loss: 405927.0000 - mean_absolute_error: 338239.4375 - val_loss: 1417382.3750 - val_mean_absolute_error: 1349751.1250\n",
      "Epoch 39/100\n",
      "14/14 [==============================] - 8s 608ms/step - loss: 388197.2188 - mean_absolute_error: 320458.8750 - val_loss: 1403620.7500 - val_mean_absolute_error: 1335832.8750\n",
      "Epoch 40/100\n",
      "14/14 [==============================] - 9s 615ms/step - loss: 388722.5938 - mean_absolute_error: 320872.2500 - val_loss: 1417978.3750 - val_mean_absolute_error: 1350153.6250\n",
      "Epoch 41/100\n",
      "14/14 [==============================] - 9s 619ms/step - loss: 375965.5000 - mean_absolute_error: 308060.1875 - val_loss: 1415272.1250 - val_mean_absolute_error: 1347310.1250\n",
      "Epoch 42/100\n",
      "14/14 [==============================] - 9s 638ms/step - loss: 370819.0000 - mean_absolute_error: 302868.0000 - val_loss: 1414318.1250 - val_mean_absolute_error: 1346409.3750\n",
      "Epoch 43/100\n",
      "14/14 [==============================] - 9s 628ms/step - loss: 387825.8438 - mean_absolute_error: 320004.1250 - val_loss: 1421152.7500 - val_mean_absolute_error: 1353503.0000\n",
      "Epoch 44/100\n",
      "14/14 [==============================] - 9s 633ms/step - loss: 340584.9688 - mean_absolute_error: 272987.3438 - val_loss: 1398467.5000 - val_mean_absolute_error: 1330879.1250\n",
      "Epoch 45/100\n",
      "14/14 [==============================] - 9s 609ms/step - loss: 342618.6875 - mean_absolute_error: 275053.4062 - val_loss: 1411571.5000 - val_mean_absolute_error: 1344103.7500\n",
      "Epoch 46/100\n",
      "14/14 [==============================] - 9s 629ms/step - loss: 349736.2812 - mean_absolute_error: 282208.5312 - val_loss: 1385891.8750 - val_mean_absolute_error: 1318336.7500\n",
      "Epoch 47/100\n",
      "14/14 [==============================] - 9s 622ms/step - loss: 345030.7188 - mean_absolute_error: 277541.5312 - val_loss: 1420514.6250 - val_mean_absolute_error: 1353081.0000\n",
      "Epoch 48/100\n",
      "14/14 [==============================] - 9s 639ms/step - loss: 360282.5312 - mean_absolute_error: 292778.5938 - val_loss: 1380945.8750 - val_mean_absolute_error: 1313419.6250\n",
      "Epoch 49/100\n",
      "14/14 [==============================] - 9s 628ms/step - loss: 359547.3125 - mean_absolute_error: 292081.7188 - val_loss: 1405637.7500 - val_mean_absolute_error: 1338325.3750\n",
      "Epoch 50/100\n",
      "14/14 [==============================] - 9s 620ms/step - loss: 321445.4375 - mean_absolute_error: 254185.4375 - val_loss: 1391607.3750 - val_mean_absolute_error: 1324388.8750\n",
      "Epoch 51/100\n",
      "14/14 [==============================] - 9s 636ms/step - loss: 335537.5312 - mean_absolute_error: 268323.2500 - val_loss: 1418928.3750 - val_mean_absolute_error: 1351764.0000\n",
      "Epoch 52/100\n",
      "14/14 [==============================] - 9s 646ms/step - loss: 366639.7500 - mean_absolute_error: 299554.2812 - val_loss: 1390620.3750 - val_mean_absolute_error: 1323626.6250\n",
      "Epoch 53/100\n",
      "14/14 [==============================] - 9s 610ms/step - loss: 327118.8750 - mean_absolute_error: 260132.3125 - val_loss: 1393327.5000 - val_mean_absolute_error: 1326391.8750\n",
      "Epoch 54/100\n",
      "14/14 [==============================] - 9s 616ms/step - loss: 320451.8750 - mean_absolute_error: 253612.0156 - val_loss: 1397038.1250 - val_mean_absolute_error: 1330250.7500\n",
      "Epoch 55/100\n",
      "14/14 [==============================] - 9s 626ms/step - loss: 340688.1562 - mean_absolute_error: 273903.4062 - val_loss: 1412702.6250 - val_mean_absolute_error: 1345975.1250\n",
      "Epoch 56/100\n",
      "14/14 [==============================] - 9s 657ms/step - loss: 315446.3750 - mean_absolute_error: 248815.0625 - val_loss: 1410876.2500 - val_mean_absolute_error: 1344370.5000\n",
      "Epoch 57/100\n",
      "14/14 [==============================] - 8s 606ms/step - loss: 308926.4375 - mean_absolute_error: 242453.2656 - val_loss: 1398202.7500 - val_mean_absolute_error: 1331818.6250\n",
      "Epoch 58/100\n",
      "14/14 [==============================] - 8s 610ms/step - loss: 334885.4375 - mean_absolute_error: 268619.8125 - val_loss: 1392182.5000 - val_mean_absolute_error: 1325957.6250\n",
      "Epoch 59/100\n",
      "14/14 [==============================] - 9s 637ms/step - loss: 354891.8438 - mean_absolute_error: 288672.5312 - val_loss: 1398963.6250 - val_mean_absolute_error: 1332768.2500\n",
      "Epoch 60/100\n",
      "14/14 [==============================] - 9s 677ms/step - loss: 321113.0625 - mean_absolute_error: 254836.2969 - val_loss: 1371874.6250 - val_mean_absolute_error: 1305509.5000\n",
      "Epoch 61/100\n",
      "14/14 [==============================] - 8s 602ms/step - loss: 317283.9375 - mean_absolute_error: 251000.2500 - val_loss: 1406050.5000 - val_mean_absolute_error: 1339944.1250\n",
      "Epoch 62/100\n",
      "14/14 [==============================] - 9s 610ms/step - loss: 318176.2188 - mean_absolute_error: 252233.3125 - val_loss: 1404604.7500 - val_mean_absolute_error: 1338896.2500\n",
      "Epoch 63/100\n",
      "14/14 [==============================] - 9s 629ms/step - loss: 325774.1250 - mean_absolute_error: 260058.1719 - val_loss: 1375092.3750 - val_mean_absolute_error: 1309361.8750\n",
      "Epoch 64/100\n",
      "14/14 [==============================] - 9s 650ms/step - loss: 363195.8438 - mean_absolute_error: 297487.5938 - val_loss: 1369524.6250 - val_mean_absolute_error: 1303854.1250\n",
      "Epoch 65/100\n",
      "14/14 [==============================] - 9s 631ms/step - loss: 355462.9062 - mean_absolute_error: 289874.1875 - val_loss: 1402739.5000 - val_mean_absolute_error: 1337228.0000\n",
      "Epoch 66/100\n",
      "14/14 [==============================] - 9s 640ms/step - loss: 319449.3438 - mean_absolute_error: 253895.8281 - val_loss: 1381854.8750 - val_mean_absolute_error: 1316260.3750\n",
      "Epoch 67/100\n",
      "14/14 [==============================] - 9s 643ms/step - loss: 307426.9688 - mean_absolute_error: 241809.4688 - val_loss: 1369519.0000 - val_mean_absolute_error: 1303914.7500\n",
      "Epoch 68/100\n",
      "14/14 [==============================] - 9s 640ms/step - loss: 331500.8750 - mean_absolute_error: 265953.1875 - val_loss: 1382632.3750 - val_mean_absolute_error: 1317185.8750\n",
      "Epoch 69/100\n",
      "14/14 [==============================] - 9s 646ms/step - loss: 294997.3438 - mean_absolute_error: 229636.6250 - val_loss: 1387731.2500 - val_mean_absolute_error: 1322410.5000\n",
      "Epoch 70/100\n",
      "14/14 [==============================] - 9s 640ms/step - loss: 296560.2500 - mean_absolute_error: 231261.8281 - val_loss: 1384666.3750 - val_mean_absolute_error: 1319399.1250\n",
      "Epoch 71/100\n",
      "14/14 [==============================] - 9s 642ms/step - loss: 323928.7188 - mean_absolute_error: 258694.1250 - val_loss: 1384417.5000 - val_mean_absolute_error: 1319209.2500\n",
      "Epoch 72/100\n",
      "14/14 [==============================] - 9s 630ms/step - loss: 356247.4062 - mean_absolute_error: 291098.5938 - val_loss: 1408500.8750 - val_mean_absolute_error: 1343380.8750\n",
      "Epoch 73/100\n",
      "14/14 [==============================] - 10s 689ms/step - loss: 332084.5625 - mean_absolute_error: 266938.7812 - val_loss: 1419143.8750 - val_mean_absolute_error: 1354011.7500\n",
      "Epoch 74/100\n",
      "14/14 [==============================] - 9s 674ms/step - loss: 304881.4375 - mean_absolute_error: 239710.8594 - val_loss: 1381778.7500 - val_mean_absolute_error: 1316589.5000\n",
      "Epoch 75/100\n",
      "14/14 [==============================] - 10s 713ms/step - loss: 332945.3125 - mean_absolute_error: 267852.5938 - val_loss: 1382008.2500 - val_mean_absolute_error: 1317028.1250\n",
      "Epoch 76/100\n",
      "14/14 [==============================] - 9s 623ms/step - loss: 319537.5312 - mean_absolute_error: 254617.6875 - val_loss: 1385855.7500 - val_mean_absolute_error: 1321002.3750\n",
      "Epoch 77/100\n",
      "14/14 [==============================] - 9s 622ms/step - loss: 314302.4688 - mean_absolute_error: 249466.5312 - val_loss: 1384375.1250 - val_mean_absolute_error: 1319626.8750\n",
      "Epoch 78/100\n",
      "14/14 [==============================] - 9s 635ms/step - loss: 315589.7812 - mean_absolute_error: 251006.0469 - val_loss: 1424325.6250 - val_mean_absolute_error: 1359857.0000\n",
      "Epoch 79/100\n",
      "14/14 [==============================] - 10s 684ms/step - loss: 327835.5312 - mean_absolute_error: 263318.8438 - val_loss: 1384854.7500 - val_mean_absolute_error: 1320306.3750\n",
      "Epoch 80/100\n",
      "14/14 [==============================] - 9s 656ms/step - loss: 336309.9062 - mean_absolute_error: 271837.8750 - val_loss: 1396423.6250 - val_mean_absolute_error: 1332013.1250\n",
      "Epoch 81/100\n",
      "14/14 [==============================] - 8s 606ms/step - loss: 307781.6562 - mean_absolute_error: 243336.5312 - val_loss: 1383743.2500 - val_mean_absolute_error: 1319292.6250\n",
      "Epoch 82/100\n",
      "14/14 [==============================] - 9s 621ms/step - loss: 294061.4375 - mean_absolute_error: 229643.6094 - val_loss: 1385418.7500 - val_mean_absolute_error: 1321103.8750\n",
      "Epoch 83/100\n",
      "14/14 [==============================] - 12s 885ms/step - loss: 269878.0938 - mean_absolute_error: 205596.0469 - val_loss: 1384355.2500 - val_mean_absolute_error: 1320091.7500\n",
      "Epoch 84/100\n",
      "14/14 [==============================] - 11s 826ms/step - loss: 313626.3438 - mean_absolute_error: 249451.6719 - val_loss: 1429515.6250 - val_mean_absolute_error: 1365589.3750\n",
      "Epoch 85/100\n",
      "14/14 [==============================] - 10s 738ms/step - loss: 315266.8750 - mean_absolute_error: 251318.4062 - val_loss: 1386723.2500 - val_mean_absolute_error: 1322750.5000\n",
      "Epoch 86/100\n",
      "14/14 [==============================] - 10s 748ms/step - loss: 315837.1875 - mean_absolute_error: 251967.6875 - val_loss: 1372610.1250 - val_mean_absolute_error: 1308775.8750\n",
      "Epoch 87/100\n",
      "14/14 [==============================] - 10s 719ms/step - loss: 317023.5938 - mean_absolute_error: 253227.2344 - val_loss: 1374838.5000 - val_mean_absolute_error: 1311173.0000\n",
      "Epoch 88/100\n",
      "14/14 [==============================] - 11s 777ms/step - loss: 299864.3125 - mean_absolute_error: 236220.1719 - val_loss: 1384500.3750 - val_mean_absolute_error: 1320817.8750\n",
      "Epoch 89/100\n",
      "14/14 [==============================] - 11s 800ms/step - loss: 295403.2500 - mean_absolute_error: 231754.5625 - val_loss: 1406256.8750 - val_mean_absolute_error: 1342665.6250\n",
      "Epoch 90/100\n",
      "14/14 [==============================] - 10s 739ms/step - loss: 298776.8750 - mean_absolute_error: 235152.1875 - val_loss: 1384517.7500 - val_mean_absolute_error: 1320930.0000\n",
      "Epoch 91/100\n",
      "14/14 [==============================] - 11s 780ms/step - loss: 297140.1875 - mean_absolute_error: 233686.6719 - val_loss: 1376407.7500 - val_mean_absolute_error: 1313123.2500\n",
      "Epoch 92/100\n",
      "14/14 [==============================] - 11s 774ms/step - loss: 291317.7500 - mean_absolute_error: 228108.0625 - val_loss: 1383246.8750 - val_mean_absolute_error: 1320088.6250\n",
      "Epoch 93/100\n",
      "14/14 [==============================] - 11s 814ms/step - loss: 278190.9062 - mean_absolute_error: 215041.6719 - val_loss: 1376273.0000 - val_mean_absolute_error: 1313213.6250\n",
      "Epoch 94/100\n",
      "14/14 [==============================] - 11s 822ms/step - loss: 299574.5312 - mean_absolute_error: 236615.0938 - val_loss: 1391729.3750 - val_mean_absolute_error: 1328912.0000\n",
      "Epoch 95/100\n",
      "14/14 [==============================] - 10s 727ms/step - loss: 303900.3438 - mean_absolute_error: 241091.1094 - val_loss: 1369957.5000 - val_mean_absolute_error: 1307167.7500\n",
      "Epoch 96/100\n",
      "14/14 [==============================] - 9s 672ms/step - loss: 283355.1250 - mean_absolute_error: 220568.8594 - val_loss: 1376952.8750 - val_mean_absolute_error: 1314231.8750\n",
      "Epoch 97/100\n",
      "14/14 [==============================] - 10s 691ms/step - loss: 279297.9688 - mean_absolute_error: 216658.5156 - val_loss: 1364579.6250 - val_mean_absolute_error: 1302012.1250\n",
      "Epoch 98/100\n",
      "14/14 [==============================] - 10s 696ms/step - loss: 288345.0000 - mean_absolute_error: 225811.9844 - val_loss: 1372980.2500 - val_mean_absolute_error: 1310448.5000\n",
      "Epoch 99/100\n",
      "14/14 [==============================] - 10s 710ms/step - loss: 287696.7812 - mean_absolute_error: 225245.6406 - val_loss: 1368941.8750 - val_mean_absolute_error: 1306568.5000\n",
      "Epoch 100/100\n",
      "14/14 [==============================] - 8s 604ms/step - loss: 301176.5000 - mean_absolute_error: 238898.2344 - val_loss: 1371895.8750 - val_mean_absolute_error: 1309663.1250\n",
      "Training model  1\n",
      "Number of Training Images 427\n",
      "Mean of Training Images 3775613.5831381734\n",
      "Compiling Model\n",
      "Fitting Model\n",
      "Epoch 1/100\n",
      "14/14 [==============================] - 28s 990ms/step - loss: 616168.1875 - mean_absolute_error: 553603.0625 - val_loss: 1402725.5000 - val_mean_absolute_error: 1340002.5000\n",
      "Epoch 2/100\n",
      "14/14 [==============================] - 8s 580ms/step - loss: 592634.1875 - mean_absolute_error: 529879.8750 - val_loss: 1378731.6250 - val_mean_absolute_error: 1316001.7500\n",
      "Epoch 3/100\n",
      "14/14 [==============================] - 9s 630ms/step - loss: 569661.2500 - mean_absolute_error: 506821.7812 - val_loss: 1362266.0000 - val_mean_absolute_error: 1299258.2500\n",
      "Epoch 4/100\n",
      "14/14 [==============================] - 8s 606ms/step - loss: 553673.5625 - mean_absolute_error: 490554.0000 - val_loss: 1369489.2500 - val_mean_absolute_error: 1306164.2500\n",
      "Epoch 5/100\n",
      "14/14 [==============================] - 9s 617ms/step - loss: 530183.6250 - mean_absolute_error: 466640.3750 - val_loss: 1365859.6250 - val_mean_absolute_error: 1302132.2500\n",
      "Epoch 6/100\n",
      "14/14 [==============================] - 9s 615ms/step - loss: 523095.3750 - mean_absolute_error: 459271.7188 - val_loss: 1343944.3750 - val_mean_absolute_error: 1279882.0000\n",
      "Epoch 7/100\n",
      "14/14 [==============================] - 9s 612ms/step - loss: 535106.0625 - mean_absolute_error: 470907.9062 - val_loss: 1361632.2500 - val_mean_absolute_error: 1297347.5000\n",
      "Epoch 8/100\n",
      "14/14 [==============================] - 8s 587ms/step - loss: 512824.0312 - mean_absolute_error: 448464.5000 - val_loss: 1375284.6250 - val_mean_absolute_error: 1310760.8750\n",
      "Epoch 9/100\n",
      "14/14 [==============================] - 8s 585ms/step - loss: 497015.1562 - mean_absolute_error: 432354.3125 - val_loss: 1374476.3750 - val_mean_absolute_error: 1309700.6250\n",
      "Epoch 10/100\n",
      "14/14 [==============================] - 9s 643ms/step - loss: 465495.8750 - mean_absolute_error: 400625.9062 - val_loss: 1374419.6250 - val_mean_absolute_error: 1309438.2500\n",
      "Epoch 11/100\n",
      "14/14 [==============================] - 9s 642ms/step - loss: 445553.6562 - mean_absolute_error: 380453.1562 - val_loss: 1378058.6250 - val_mean_absolute_error: 1312897.1250\n",
      "Epoch 12/100\n",
      "14/14 [==============================] - 9s 643ms/step - loss: 456021.2812 - mean_absolute_error: 390747.8750 - val_loss: 1346290.7500 - val_mean_absolute_error: 1280863.2500\n",
      "Epoch 13/100\n",
      "14/14 [==============================] - 9s 613ms/step - loss: 421118.3438 - mean_absolute_error: 355524.9375 - val_loss: 1389646.1250 - val_mean_absolute_error: 1323933.8750\n",
      "Epoch 14/100\n",
      "14/14 [==============================] - 9s 621ms/step - loss: 420292.0312 - mean_absolute_error: 354395.7188 - val_loss: 1368914.1250 - val_mean_absolute_error: 1302851.8750\n",
      "Epoch 15/100\n",
      "14/14 [==============================] - 9s 614ms/step - loss: 398630.4688 - mean_absolute_error: 332473.8438 - val_loss: 1350502.1250 - val_mean_absolute_error: 1284232.6250\n",
      "Epoch 16/100\n",
      "14/14 [==============================] - 9s 648ms/step - loss: 401740.5625 - mean_absolute_error: 335370.9688 - val_loss: 1388469.7500 - val_mean_absolute_error: 1322010.7500\n",
      "Epoch 17/100\n",
      "14/14 [==============================] - 9s 622ms/step - loss: 396442.1562 - mean_absolute_error: 329904.7812 - val_loss: 1349142.0000 - val_mean_absolute_error: 1282583.3750\n",
      "Epoch 18/100\n",
      "14/14 [==============================] - 9s 624ms/step - loss: 396292.5000 - mean_absolute_error: 329727.5938 - val_loss: 1355658.6250 - val_mean_absolute_error: 1289048.1250\n",
      "Epoch 19/100\n",
      "14/14 [==============================] - 9s 651ms/step - loss: 360780.2500 - mean_absolute_error: 294086.0000 - val_loss: 1347802.8750 - val_mean_absolute_error: 1281061.3750\n",
      "Epoch 20/100\n",
      "14/14 [==============================] - 9s 614ms/step - loss: 362149.4375 - mean_absolute_error: 295403.9688 - val_loss: 1345905.8750 - val_mean_absolute_error: 1279163.8750\n",
      "Epoch 21/100\n",
      "14/14 [==============================] - 9s 607ms/step - loss: 362410.7500 - mean_absolute_error: 295606.6250 - val_loss: 1360023.3750 - val_mean_absolute_error: 1293201.6250\n",
      "Epoch 22/100\n",
      "14/14 [==============================] - 9s 632ms/step - loss: 365089.4688 - mean_absolute_error: 298204.0938 - val_loss: 1345861.3750 - val_mean_absolute_error: 1278918.7500\n",
      "Epoch 23/100\n",
      "14/14 [==============================] - 9s 624ms/step - loss: 375499.2812 - mean_absolute_error: 308505.7188 - val_loss: 1347237.1250 - val_mean_absolute_error: 1280108.3750\n",
      "Epoch 24/100\n",
      "14/14 [==============================] - 8s 597ms/step - loss: 359595.3125 - mean_absolute_error: 292350.5312 - val_loss: 1346226.7500 - val_mean_absolute_error: 1278935.6250\n",
      "Epoch 25/100\n",
      "14/14 [==============================] - 9s 624ms/step - loss: 353606.5938 - mean_absolute_error: 286276.9062 - val_loss: 1334956.3750 - val_mean_absolute_error: 1267644.8750\n",
      "Epoch 26/100\n",
      "14/14 [==============================] - 9s 615ms/step - loss: 337907.1250 - mean_absolute_error: 270650.0000 - val_loss: 1372460.8750 - val_mean_absolute_error: 1305218.3750\n",
      "Epoch 27/100\n",
      "14/14 [==============================] - 9s 630ms/step - loss: 339951.7500 - mean_absolute_error: 272578.4688 - val_loss: 1372001.5000 - val_mean_absolute_error: 1304593.7500\n",
      "Epoch 28/100\n",
      "14/14 [==============================] - 8s 591ms/step - loss: 331410.0000 - mean_absolute_error: 263946.4062 - val_loss: 1381547.5000 - val_mean_absolute_error: 1314025.8750\n",
      "Epoch 29/100\n",
      "14/14 [==============================] - 9s 645ms/step - loss: 347373.1250 - mean_absolute_error: 279848.1875 - val_loss: 1344088.2500 - val_mean_absolute_error: 1276580.0000\n",
      "Epoch 30/100\n",
      "14/14 [==============================] - 10s 705ms/step - loss: 326774.9375 - mean_absolute_error: 259255.5000 - val_loss: 1365538.3750 - val_mean_absolute_error: 1298090.7500\n",
      "Epoch 31/100\n",
      "14/14 [==============================] - 11s 774ms/step - loss: 340925.3438 - mean_absolute_error: 273528.1875 - val_loss: 1368926.3750 - val_mean_absolute_error: 1301512.6250\n",
      "Epoch 32/100\n",
      "14/14 [==============================] - 11s 790ms/step - loss: 332769.2812 - mean_absolute_error: 265228.5938 - val_loss: 1361386.7500 - val_mean_absolute_error: 1293819.7500\n",
      "Epoch 33/100\n",
      "14/14 [==============================] - 10s 733ms/step - loss: 311884.1562 - mean_absolute_error: 244338.5312 - val_loss: 1358672.2500 - val_mean_absolute_error: 1291209.3750\n",
      "Epoch 34/100\n",
      "14/14 [==============================] - 9s 649ms/step - loss: 318239.3125 - mean_absolute_error: 250769.4375 - val_loss: 1365197.1250 - val_mean_absolute_error: 1297782.6250\n",
      "Epoch 35/100\n",
      "14/14 [==============================] - 9s 643ms/step - loss: 331168.0312 - mean_absolute_error: 263828.0000 - val_loss: 1353532.1250 - val_mean_absolute_error: 1286281.0000\n",
      "Epoch 36/100\n",
      "14/14 [==============================] - 9s 674ms/step - loss: 321350.3750 - mean_absolute_error: 254148.2031 - val_loss: 1340518.3750 - val_mean_absolute_error: 1273333.0000\n",
      "Epoch 37/100\n",
      "14/14 [==============================] - 11s 775ms/step - loss: 328447.8750 - mean_absolute_error: 261149.1562 - val_loss: 1357310.7500 - val_mean_absolute_error: 1289995.7500\n",
      "Epoch 38/100\n",
      "14/14 [==============================] - 11s 789ms/step - loss: 313548.2812 - mean_absolute_error: 246249.3750 - val_loss: 1350423.0000 - val_mean_absolute_error: 1283167.7500\n",
      "Epoch 39/100\n",
      "14/14 [==============================] - 12s 842ms/step - loss: 322242.0000 - mean_absolute_error: 255041.8594 - val_loss: 1359818.3750 - val_mean_absolute_error: 1292673.5000\n",
      "Epoch 40/100\n",
      "14/14 [==============================] - 11s 759ms/step - loss: 317051.7812 - mean_absolute_error: 249894.1406 - val_loss: 1347226.0000 - val_mean_absolute_error: 1280084.0000\n",
      "Epoch 41/100\n",
      "14/14 [==============================] - 10s 696ms/step - loss: 314480.6250 - mean_absolute_error: 247397.1406 - val_loss: 1362729.6250 - val_mean_absolute_error: 1295692.1250\n",
      "Epoch 42/100\n",
      "14/14 [==============================] - 11s 795ms/step - loss: 307584.8750 - mean_absolute_error: 240574.8125 - val_loss: 1344821.0000 - val_mean_absolute_error: 1277804.2500\n",
      "Epoch 43/100\n",
      "14/14 [==============================] - 13s 908ms/step - loss: 321828.3438 - mean_absolute_error: 254871.5000 - val_loss: 1397056.2500 - val_mean_absolute_error: 1330237.8750\n",
      "Epoch 44/100\n",
      "14/14 [==============================] - 10s 703ms/step - loss: 334448.0312 - mean_absolute_error: 267595.1875 - val_loss: 1367783.2500 - val_mean_absolute_error: 1300922.7500\n",
      "Epoch 45/100\n",
      "14/14 [==============================] - 10s 736ms/step - loss: 318537.5625 - mean_absolute_error: 251692.6719 - val_loss: 1343886.1250 - val_mean_absolute_error: 1277120.7500\n",
      "Epoch 46/100\n",
      "14/14 [==============================] - 12s 866ms/step - loss: 317150.6875 - mean_absolute_error: 250488.7188 - val_loss: 1356144.3750 - val_mean_absolute_error: 1289642.8750\n",
      "Epoch 47/100\n",
      "14/14 [==============================] - 12s 882ms/step - loss: 297830.2500 - mean_absolute_error: 231379.4531 - val_loss: 1354527.2500 - val_mean_absolute_error: 1288101.0000\n",
      "Epoch 48/100\n",
      "14/14 [==============================] - 12s 849ms/step - loss: 308889.0625 - mean_absolute_error: 242472.6562 - val_loss: 1362526.1250 - val_mean_absolute_error: 1296248.0000\n",
      "Epoch 49/100\n",
      "14/14 [==============================] - 12s 836ms/step - loss: 300631.4062 - mean_absolute_error: 234366.5000 - val_loss: 1349693.6250 - val_mean_absolute_error: 1283465.8750\n",
      "Epoch 50/100\n",
      "14/14 [==============================] - 12s 852ms/step - loss: 282432.8125 - mean_absolute_error: 216178.6406 - val_loss: 1350064.6250 - val_mean_absolute_error: 1283813.0000\n",
      "Epoch 51/100\n",
      "14/14 [==============================] - 11s 798ms/step - loss: 299058.8125 - mean_absolute_error: 232859.0156 - val_loss: 1346182.0000 - val_mean_absolute_error: 1280067.6250\n",
      "Epoch 52/100\n",
      "14/14 [==============================] - 12s 862ms/step - loss: 303397.2188 - mean_absolute_error: 237319.9688 - val_loss: 1355699.7500 - val_mean_absolute_error: 1289717.0000\n",
      "Epoch 53/100\n",
      "14/14 [==============================] - 11s 807ms/step - loss: 282619.6250 - mean_absolute_error: 216617.5938 - val_loss: 1350496.0000 - val_mean_absolute_error: 1284468.0000\n",
      "Epoch 54/100\n",
      "14/14 [==============================] - 11s 796ms/step - loss: 310525.9688 - mean_absolute_error: 244535.6094 - val_loss: 1359355.1250 - val_mean_absolute_error: 1293445.8750\n",
      "Epoch 55/100\n",
      "14/14 [==============================] - 11s 776ms/step - loss: 299008.3438 - mean_absolute_error: 233126.6719 - val_loss: 1337820.8750 - val_mean_absolute_error: 1271991.0000\n",
      "Training model  2\n",
      "Number of Training Images 428\n",
      "Mean of Training Images 3777661.214953271\n",
      "Compiling Model\n",
      "Fitting Model\n",
      "Epoch 1/100\n",
      "14/14 [==============================] - 75s 3s/step - loss: 404999.9375 - mean_absolute_error: 337609.7188 - val_loss: 1381018.7500 - val_mean_absolute_error: 1313559.8750\n",
      "Epoch 2/100\n",
      "14/14 [==============================] - 10s 724ms/step - loss: 417966.6562 - mean_absolute_error: 350461.1875 - val_loss: 1355292.3750 - val_mean_absolute_error: 1287890.1250\n",
      "Epoch 3/100\n",
      "14/14 [==============================] - 11s 763ms/step - loss: 351036.0000 - mean_absolute_error: 283691.0000 - val_loss: 1334683.8750 - val_mean_absolute_error: 1267390.1250\n",
      "Epoch 4/100\n",
      "14/14 [==============================] - 12s 856ms/step - loss: 348343.5000 - mean_absolute_error: 281027.9375 - val_loss: 1357625.6250 - val_mean_absolute_error: 1290312.8750\n",
      "Epoch 5/100\n",
      "14/14 [==============================] - 9s 681ms/step - loss: 322530.8438 - mean_absolute_error: 255131.5938 - val_loss: 1355663.3750 - val_mean_absolute_error: 1288237.2500\n",
      "Epoch 6/100\n",
      "14/14 [==============================] - 10s 725ms/step - loss: 321761.1875 - mean_absolute_error: 254366.0156 - val_loss: 1383183.3750 - val_mean_absolute_error: 1315851.7500\n",
      "Epoch 7/100\n",
      "14/14 [==============================] - 11s 758ms/step - loss: 381510.8750 - mean_absolute_error: 314115.8125 - val_loss: 1356917.6250 - val_mean_absolute_error: 1289468.8750\n",
      "Epoch 8/100\n",
      "14/14 [==============================] - 10s 687ms/step - loss: 332566.7188 - mean_absolute_error: 265048.5312 - val_loss: 1343928.2500 - val_mean_absolute_error: 1276383.0000\n",
      "Epoch 9/100\n",
      "14/14 [==============================] - 10s 733ms/step - loss: 340930.2188 - mean_absolute_error: 273453.5312 - val_loss: 1338751.3750 - val_mean_absolute_error: 1271288.5000\n",
      "Epoch 10/100\n",
      "14/14 [==============================] - 11s 777ms/step - loss: 334592.1562 - mean_absolute_error: 267191.3750 - val_loss: 1345716.8750 - val_mean_absolute_error: 1278407.7500\n",
      "Epoch 11/100\n",
      "14/14 [==============================] - 10s 717ms/step - loss: 325609.2812 - mean_absolute_error: 258358.9844 - val_loss: 1348433.5000 - val_mean_absolute_error: 1281223.3750\n",
      "Epoch 12/100\n",
      "14/14 [==============================] - 10s 696ms/step - loss: 311271.2188 - mean_absolute_error: 244021.1406 - val_loss: 1357518.3750 - val_mean_absolute_error: 1290280.1250\n",
      "Epoch 13/100\n",
      "14/14 [==============================] - 11s 776ms/step - loss: 307870.3438 - mean_absolute_error: 240594.2656 - val_loss: 1367454.2500 - val_mean_absolute_error: 1300220.3750\n",
      "Epoch 14/100\n",
      "14/14 [==============================] - 11s 810ms/step - loss: 303717.3750 - mean_absolute_error: 236524.4688 - val_loss: 1385687.0000 - val_mean_absolute_error: 1318548.7500\n",
      "Epoch 15/100\n",
      "14/14 [==============================] - 11s 788ms/step - loss: 315284.2188 - mean_absolute_error: 248095.0156 - val_loss: 1377723.0000 - val_mean_absolute_error: 1310504.6250\n",
      "Epoch 16/100\n",
      "14/14 [==============================] - 11s 782ms/step - loss: 311752.8438 - mean_absolute_error: 244566.6719 - val_loss: 1353371.3750 - val_mean_absolute_error: 1286260.0000\n",
      "Epoch 17/100\n",
      "14/14 [==============================] - 11s 800ms/step - loss: 300952.1562 - mean_absolute_error: 233812.0781 - val_loss: 1344155.2500 - val_mean_absolute_error: 1277016.7500\n",
      "Epoch 18/100\n",
      "14/14 [==============================] - 10s 691ms/step - loss: 323023.2188 - mean_absolute_error: 255991.3438 - val_loss: 1334207.3750 - val_mean_absolute_error: 1267284.8750\n",
      "Epoch 19/100\n",
      "14/14 [==============================] - 10s 750ms/step - loss: 305561.4688 - mean_absolute_error: 238590.7656 - val_loss: 1339418.3750 - val_mean_absolute_error: 1272348.8750\n",
      "Epoch 20/100\n",
      "14/14 [==============================] - 10s 747ms/step - loss: 306450.6250 - mean_absolute_error: 239366.7656 - val_loss: 1343263.5000 - val_mean_absolute_error: 1276256.8750\n",
      "Epoch 21/100\n",
      "14/14 [==============================] - 11s 762ms/step - loss: 320803.0312 - mean_absolute_error: 253844.8438 - val_loss: 1336117.7500 - val_mean_absolute_error: 1269200.0000\n",
      "Epoch 22/100\n",
      "14/14 [==============================] - 10s 721ms/step - loss: 311015.7812 - mean_absolute_error: 244139.7031 - val_loss: 1343711.3750 - val_mean_absolute_error: 1276911.2500\n",
      "Epoch 23/100\n",
      "14/14 [==============================] - 11s 755ms/step - loss: 323045.0312 - mean_absolute_error: 256254.9375 - val_loss: 1347193.8750 - val_mean_absolute_error: 1280420.6250\n",
      "Epoch 24/100\n",
      "14/14 [==============================] - 10s 742ms/step - loss: 353134.5938 - mean_absolute_error: 286378.5312 - val_loss: 1328360.2500 - val_mean_absolute_error: 1261630.1250\n",
      "Epoch 25/100\n",
      "14/14 [==============================] - 10s 730ms/step - loss: 307887.7812 - mean_absolute_error: 241214.9688 - val_loss: 1336218.6250 - val_mean_absolute_error: 1269644.3750\n",
      "Epoch 26/100\n",
      "14/14 [==============================] - 12s 851ms/step - loss: 314203.7500 - mean_absolute_error: 247646.4688 - val_loss: 1338491.1250 - val_mean_absolute_error: 1272021.6250\n",
      "Epoch 27/100\n",
      "14/14 [==============================] - 11s 778ms/step - loss: 322437.9062 - mean_absolute_error: 255975.4219 - val_loss: 1338796.5000 - val_mean_absolute_error: 1272343.5000\n",
      "Epoch 28/100\n",
      "14/14 [==============================] - 11s 757ms/step - loss: 298186.2812 - mean_absolute_error: 231785.3438 - val_loss: 1350711.7500 - val_mean_absolute_error: 1284321.1250\n",
      "Epoch 29/100\n",
      "14/14 [==============================] - 11s 790ms/step - loss: 297923.8438 - mean_absolute_error: 231512.9688 - val_loss: 1336853.2500 - val_mean_absolute_error: 1270409.2500\n",
      "Epoch 30/100\n",
      "14/14 [==============================] - 11s 784ms/step - loss: 309580.7188 - mean_absolute_error: 243173.7344 - val_loss: 1323060.6250 - val_mean_absolute_error: 1256674.6250\n",
      "Epoch 31/100\n",
      "14/14 [==============================] - 10s 747ms/step - loss: 319069.2812 - mean_absolute_error: 252660.8750 - val_loss: 1344638.8750 - val_mean_absolute_error: 1278272.2500\n",
      "Epoch 32/100\n",
      "14/14 [==============================] - 11s 801ms/step - loss: 283757.9688 - mean_absolute_error: 217438.6875 - val_loss: 1332239.3750 - val_mean_absolute_error: 1266004.1250\n",
      "Epoch 33/100\n",
      "14/14 [==============================] - 11s 825ms/step - loss: 302487.9375 - mean_absolute_error: 236383.7812 - val_loss: 1343335.8750 - val_mean_absolute_error: 1277347.8750\n",
      "Epoch 34/100\n",
      "14/14 [==============================] - 14s 983ms/step - loss: 300716.2188 - mean_absolute_error: 234724.7031 - val_loss: 1326806.3750 - val_mean_absolute_error: 1260829.1250\n",
      "Epoch 35/100\n",
      "14/14 [==============================] - 10s 743ms/step - loss: 288931.4688 - mean_absolute_error: 223010.5938 - val_loss: 1343544.1250 - val_mean_absolute_error: 1277707.5000\n",
      "Epoch 36/100\n",
      "14/14 [==============================] - 11s 761ms/step - loss: 288875.3750 - mean_absolute_error: 223019.6250 - val_loss: 1344584.5000 - val_mean_absolute_error: 1278670.0000\n",
      "Epoch 37/100\n",
      "14/14 [==============================] - 11s 762ms/step - loss: 292150.9375 - mean_absolute_error: 226312.4375 - val_loss: 1337133.6250 - val_mean_absolute_error: 1271407.3750\n",
      "Epoch 38/100\n",
      "14/14 [==============================] - 10s 746ms/step - loss: 307584.7500 - mean_absolute_error: 241842.1250 - val_loss: 1350103.1250 - val_mean_absolute_error: 1284377.8750\n",
      "Epoch 39/100\n",
      "14/14 [==============================] - 12s 842ms/step - loss: 352326.8750 - mean_absolute_error: 286549.6875 - val_loss: 1375257.5000 - val_mean_absolute_error: 1309504.0000\n",
      "Epoch 40/100\n",
      "14/14 [==============================] - 11s 806ms/step - loss: 348565.7188 - mean_absolute_error: 282781.1562 - val_loss: 1364291.2500 - val_mean_absolute_error: 1298591.2500\n",
      "Epoch 41/100\n",
      "14/14 [==============================] - 11s 802ms/step - loss: 306374.2188 - mean_absolute_error: 240685.0781 - val_loss: 1337147.8750 - val_mean_absolute_error: 1271451.6250\n",
      "Epoch 42/100\n",
      "14/14 [==============================] - 11s 760ms/step - loss: 277464.6875 - mean_absolute_error: 211719.7031 - val_loss: 1341172.0000 - val_mean_absolute_error: 1275413.7500\n",
      "Epoch 43/100\n",
      "14/14 [==============================] - 11s 792ms/step - loss: 296879.8750 - mean_absolute_error: 231145.2656 - val_loss: 1340872.2500 - val_mean_absolute_error: 1275189.0000\n",
      "Epoch 44/100\n",
      "14/14 [==============================] - 10s 748ms/step - loss: 275932.6250 - mean_absolute_error: 210248.4375 - val_loss: 1359260.6250 - val_mean_absolute_error: 1293644.5000\n",
      "Epoch 45/100\n",
      "14/14 [==============================] - 11s 774ms/step - loss: 293052.3438 - mean_absolute_error: 227441.5000 - val_loss: 1337218.7500 - val_mean_absolute_error: 1271643.1250\n",
      "Epoch 46/100\n",
      "14/14 [==============================] - 11s 771ms/step - loss: 271308.5938 - mean_absolute_error: 205807.9375 - val_loss: 1330739.2500 - val_mean_absolute_error: 1265325.5000\n",
      "Epoch 47/100\n",
      "14/14 [==============================] - 11s 795ms/step - loss: 303427.5312 - mean_absolute_error: 238086.9844 - val_loss: 1328459.7500 - val_mean_absolute_error: 1263204.2500\n",
      "Epoch 48/100\n",
      "14/14 [==============================] - 11s 765ms/step - loss: 300166.7812 - mean_absolute_error: 234941.8281 - val_loss: 1338987.0000 - val_mean_absolute_error: 1273802.7500\n",
      "Epoch 49/100\n",
      "14/14 [==============================] - 12s 831ms/step - loss: 277012.9688 - mean_absolute_error: 211897.1250 - val_loss: 1351639.1250 - val_mean_absolute_error: 1286609.6250\n",
      "Epoch 50/100\n",
      "14/14 [==============================] - 10s 754ms/step - loss: 276879.6562 - mean_absolute_error: 211837.9062 - val_loss: 1336536.1250 - val_mean_absolute_error: 1271519.6250\n",
      "Epoch 51/100\n",
      "14/14 [==============================] - 11s 794ms/step - loss: 294051.0938 - mean_absolute_error: 229080.0781 - val_loss: 1327944.0000 - val_mean_absolute_error: 1262990.2500\n",
      "Epoch 52/100\n",
      "14/14 [==============================] - 11s 820ms/step - loss: 268479.2812 - mean_absolute_error: 203497.9688 - val_loss: 1344599.1250 - val_mean_absolute_error: 1279630.2500\n",
      "Epoch 53/100\n",
      "14/14 [==============================] - 11s 789ms/step - loss: 299165.1875 - mean_absolute_error: 234182.5000 - val_loss: 1320506.8750 - val_mean_absolute_error: 1255664.0000\n",
      "Epoch 54/100\n",
      "14/14 [==============================] - 11s 816ms/step - loss: 277708.6875 - mean_absolute_error: 212907.2969 - val_loss: 1315584.6250 - val_mean_absolute_error: 1250927.2500\n",
      "Epoch 55/100\n",
      "14/14 [==============================] - 11s 751ms/step - loss: 272747.5000 - mean_absolute_error: 208118.8594 - val_loss: 1327153.0000 - val_mean_absolute_error: 1262584.5000\n",
      "Epoch 56/100\n",
      "14/14 [==============================] - 11s 760ms/step - loss: 301320.0938 - mean_absolute_error: 236670.5781 - val_loss: 1344329.5000 - val_mean_absolute_error: 1279605.8750\n",
      "Epoch 57/100\n",
      "14/14 [==============================] - 10s 723ms/step - loss: 323590.4375 - mean_absolute_error: 258862.6094 - val_loss: 1339771.5000 - val_mean_absolute_error: 1275090.3750\n",
      "Epoch 58/100\n",
      "14/14 [==============================] - 11s 789ms/step - loss: 300392.0312 - mean_absolute_error: 235809.1094 - val_loss: 1322713.7500 - val_mean_absolute_error: 1258177.8750\n",
      "Epoch 59/100\n",
      "14/14 [==============================] - 11s 795ms/step - loss: 302667.9688 - mean_absolute_error: 238205.7031 - val_loss: 1337465.8750 - val_mean_absolute_error: 1273030.8750\n",
      "Epoch 60/100\n",
      "14/14 [==============================] - 11s 789ms/step - loss: 291034.6875 - mean_absolute_error: 226511.5938 - val_loss: 1337488.1250 - val_mean_absolute_error: 1272980.0000\n",
      "Epoch 61/100\n",
      "14/14 [==============================] - 11s 771ms/step - loss: 288038.2500 - mean_absolute_error: 223541.8438 - val_loss: 1345892.3750 - val_mean_absolute_error: 1281423.0000\n",
      "Epoch 62/100\n",
      "14/14 [==============================] - 11s 778ms/step - loss: 286293.6562 - mean_absolute_error: 221837.6562 - val_loss: 1363656.2500 - val_mean_absolute_error: 1299274.6250\n",
      "Epoch 63/100\n",
      "14/14 [==============================] - 11s 790ms/step - loss: 311857.1250 - mean_absolute_error: 247464.3594 - val_loss: 1326974.0000 - val_mean_absolute_error: 1262567.2500\n",
      "Epoch 64/100\n",
      "14/14 [==============================] - 11s 773ms/step - loss: 295507.4688 - mean_absolute_error: 231158.8594 - val_loss: 1330376.7500 - val_mean_absolute_error: 1266066.5000\n",
      "Epoch 65/100\n",
      "14/14 [==============================] - 11s 824ms/step - loss: 278738.8750 - mean_absolute_error: 214459.7500 - val_loss: 1315410.3750 - val_mean_absolute_error: 1251221.3750\n",
      "Epoch 66/100\n",
      "14/14 [==============================] - 11s 760ms/step - loss: 289706.1250 - mean_absolute_error: 225570.2500 - val_loss: 1334060.7500 - val_mean_absolute_error: 1270002.7500\n",
      "Epoch 67/100\n",
      "14/14 [==============================] - 11s 776ms/step - loss: 285513.1875 - mean_absolute_error: 221455.3281 - val_loss: 1320496.6250 - val_mean_absolute_error: 1256409.6250\n",
      "Epoch 68/100\n",
      "14/14 [==============================] - 11s 771ms/step - loss: 301810.6875 - mean_absolute_error: 237737.3125 - val_loss: 1333274.3750 - val_mean_absolute_error: 1269260.3750\n",
      "Epoch 69/100\n",
      "14/14 [==============================] - 10s 743ms/step - loss: 274034.1875 - mean_absolute_error: 210069.5156 - val_loss: 1331984.8750 - val_mean_absolute_error: 1268092.8750\n",
      "Epoch 70/100\n",
      "14/14 [==============================] - 11s 776ms/step - loss: 286029.6875 - mean_absolute_error: 222136.8438 - val_loss: 1337804.0000 - val_mean_absolute_error: 1273888.2500\n",
      "Epoch 71/100\n",
      "14/14 [==============================] - 11s 777ms/step - loss: 280055.8750 - mean_absolute_error: 216138.3438 - val_loss: 1328440.8750 - val_mean_absolute_error: 1264554.7500\n",
      "Epoch 72/100\n",
      "14/14 [==============================] - 11s 768ms/step - loss: 295796.8125 - mean_absolute_error: 232007.2031 - val_loss: 1331373.2500 - val_mean_absolute_error: 1267740.3750\n",
      "Epoch 73/100\n",
      "14/14 [==============================] - 11s 770ms/step - loss: 305796.6250 - mean_absolute_error: 242187.5469 - val_loss: 1312997.0000 - val_mean_absolute_error: 1249457.2500\n",
      "Epoch 74/100\n",
      "14/14 [==============================] - 11s 797ms/step - loss: 304858.9375 - mean_absolute_error: 241430.7656 - val_loss: 1314450.3750 - val_mean_absolute_error: 1251149.5000\n",
      "Epoch 75/100\n",
      "14/14 [==============================] - 12s 832ms/step - loss: 320794.8438 - mean_absolute_error: 257537.5938 - val_loss: 1337503.7500 - val_mean_absolute_error: 1274268.1250\n",
      "Epoch 76/100\n",
      "14/14 [==============================] - 10s 758ms/step - loss: 274262.5000 - mean_absolute_error: 211074.1250 - val_loss: 1332634.7500 - val_mean_absolute_error: 1269562.3750\n",
      "Epoch 77/100\n",
      "14/14 [==============================] - 13s 931ms/step - loss: 269007.2812 - mean_absolute_error: 205948.4844 - val_loss: 1335354.2500 - val_mean_absolute_error: 1272262.5000\n",
      "Epoch 78/100\n",
      "14/14 [==============================] - 11s 761ms/step - loss: 275791.8125 - mean_absolute_error: 212759.1094 - val_loss: 1356866.8750 - val_mean_absolute_error: 1293953.7500\n",
      "Epoch 79/100\n",
      "14/14 [==============================] - 10s 727ms/step - loss: 307942.0312 - mean_absolute_error: 245036.6406 - val_loss: 1338086.3750 - val_mean_absolute_error: 1275171.6250\n",
      "Epoch 80/100\n",
      "14/14 [==============================] - 9s 657ms/step - loss: 301929.5000 - mean_absolute_error: 239103.4062 - val_loss: 1347965.6250 - val_mean_absolute_error: 1285209.6250\n",
      "Epoch 81/100\n",
      "14/14 [==============================] - 11s 756ms/step - loss: 298493.6875 - mean_absolute_error: 235704.2031 - val_loss: 1325407.6250 - val_mean_absolute_error: 1262626.8750\n",
      "Epoch 82/100\n",
      "14/14 [==============================] - 10s 689ms/step - loss: 292666.6875 - mean_absolute_error: 229860.7969 - val_loss: 1326617.6250 - val_mean_absolute_error: 1263836.3750\n",
      "Epoch 83/100\n",
      "14/14 [==============================] - 11s 781ms/step - loss: 291971.9062 - mean_absolute_error: 229168.2656 - val_loss: 1323168.3750 - val_mean_absolute_error: 1260396.5000\n",
      "Epoch 84/100\n",
      "14/14 [==============================] - 11s 798ms/step - loss: 264155.8750 - mean_absolute_error: 201341.2344 - val_loss: 1324727.7500 - val_mean_absolute_error: 1261935.2500\n",
      "Epoch 85/100\n",
      "14/14 [==============================] - 11s 761ms/step - loss: 267076.8438 - mean_absolute_error: 204278.3906 - val_loss: 1329453.5000 - val_mean_absolute_error: 1266709.6250\n",
      "Epoch 86/100\n",
      "14/14 [==============================] - 10s 711ms/step - loss: 293258.8125 - mean_absolute_error: 230572.8438 - val_loss: 1349897.8750 - val_mean_absolute_error: 1287344.7500\n",
      "Epoch 87/100\n",
      "14/14 [==============================] - 10s 693ms/step - loss: 279300.5625 - mean_absolute_error: 216874.8906 - val_loss: 1325405.2500 - val_mean_absolute_error: 1263126.0000\n",
      "Epoch 88/100\n",
      "14/14 [==============================] - 10s 704ms/step - loss: 273398.6875 - mean_absolute_error: 211172.8906 - val_loss: 1327114.3750 - val_mean_absolute_error: 1264873.5000\n",
      "Epoch 89/100\n",
      "14/14 [==============================] - 10s 741ms/step - loss: 272259.5000 - mean_absolute_error: 210061.5156 - val_loss: 1331081.7500 - val_mean_absolute_error: 1268963.1250\n",
      "Epoch 90/100\n",
      "14/14 [==============================] - 11s 784ms/step - loss: 280345.0000 - mean_absolute_error: 218226.6094 - val_loss: 1316793.5000 - val_mean_absolute_error: 1254686.7500\n",
      "Epoch 91/100\n",
      "14/14 [==============================] - 10s 709ms/step - loss: 281557.5625 - mean_absolute_error: 219469.5938 - val_loss: 1326891.8750 - val_mean_absolute_error: 1264839.0000\n",
      "Epoch 92/100\n",
      "14/14 [==============================] - 11s 778ms/step - loss: 309720.2188 - mean_absolute_error: 247650.3125 - val_loss: 1312783.6250 - val_mean_absolute_error: 1250729.0000\n",
      "Epoch 93/100\n",
      "14/14 [==============================] - 10s 707ms/step - loss: 274203.7812 - mean_absolute_error: 212196.5000 - val_loss: 1320966.8750 - val_mean_absolute_error: 1259058.3750\n",
      "Epoch 94/100\n",
      "14/14 [==============================] - 10s 720ms/step - loss: 269480.5000 - mean_absolute_error: 207661.5938 - val_loss: 1316877.5000 - val_mean_absolute_error: 1255115.8750\n",
      "Epoch 95/100\n",
      "14/14 [==============================] - 10s 706ms/step - loss: 261852.4844 - mean_absolute_error: 200126.0000 - val_loss: 1333401.5000 - val_mean_absolute_error: 1271696.6250\n",
      "Epoch 96/100\n",
      "14/14 [==============================] - 9s 623ms/step - loss: 277378.9375 - mean_absolute_error: 215676.5156 - val_loss: 1330209.5000 - val_mean_absolute_error: 1268541.6250\n",
      "Epoch 97/100\n",
      "14/14 [==============================] - 9s 645ms/step - loss: 286326.5000 - mean_absolute_error: 224605.3906 - val_loss: 1341451.6250 - val_mean_absolute_error: 1279640.6250\n",
      "Epoch 98/100\n",
      "14/14 [==============================] - 9s 638ms/step - loss: 278064.3125 - mean_absolute_error: 216184.5625 - val_loss: 1345856.6250 - val_mean_absolute_error: 1283952.2500\n",
      "Epoch 99/100\n",
      "14/14 [==============================] - 10s 736ms/step - loss: 290012.4375 - mean_absolute_error: 228132.2969 - val_loss: 1328411.2500 - val_mean_absolute_error: 1266600.1250\n",
      "Epoch 100/100\n",
      "14/14 [==============================] - 9s 669ms/step - loss: 274004.9062 - mean_absolute_error: 212277.6250 - val_loss: 1349542.3750 - val_mean_absolute_error: 1287983.5000\n",
      "Training model  3\n",
      "Number of Training Images 428\n",
      "Mean of Training Images 3804058.4112149533\n",
      "Compiling Model\n",
      "Fitting Model\n",
      "Epoch 1/100\n",
      "14/14 [==============================] - 31s 963ms/step - loss: 340160.3750 - mean_absolute_error: 278333.5000 - val_loss: 1325024.2500 - val_mean_absolute_error: 1262952.0000\n",
      "Epoch 2/100\n",
      "14/14 [==============================] - 10s 707ms/step - loss: 308196.2500 - mean_absolute_error: 246070.5625 - val_loss: 1333668.0000 - val_mean_absolute_error: 1271553.0000\n",
      "Epoch 3/100\n",
      "14/14 [==============================] - 11s 801ms/step - loss: 310631.3125 - mean_absolute_error: 248493.9844 - val_loss: 1354410.3750 - val_mean_absolute_error: 1292241.3750\n",
      "Epoch 4/100\n",
      "14/14 [==============================] - 11s 798ms/step - loss: 312532.7812 - mean_absolute_error: 250323.9062 - val_loss: 1348105.6250 - val_mean_absolute_error: 1285879.8750\n",
      "Epoch 5/100\n",
      "14/14 [==============================] - 9s 669ms/step - loss: 303366.6875 - mean_absolute_error: 241113.5156 - val_loss: 1335356.7500 - val_mean_absolute_error: 1273117.3750\n",
      "Epoch 6/100\n",
      "14/14 [==============================] - 10s 699ms/step - loss: 303504.5000 - mean_absolute_error: 241262.8438 - val_loss: 1351487.0000 - val_mean_absolute_error: 1289276.3750\n",
      "Epoch 7/100\n",
      "14/14 [==============================] - 9s 666ms/step - loss: 287463.8438 - mean_absolute_error: 225267.7969 - val_loss: 1328842.3750 - val_mean_absolute_error: 1266646.1250\n",
      "Epoch 8/100\n",
      "14/14 [==============================] - 10s 693ms/step - loss: 281055.7500 - mean_absolute_error: 218879.7812 - val_loss: 1337369.0000 - val_mean_absolute_error: 1275162.5000\n",
      "Epoch 9/100\n",
      "14/14 [==============================] - 12s 841ms/step - loss: 293142.7500 - mean_absolute_error: 230987.5469 - val_loss: 1332748.1250 - val_mean_absolute_error: 1270586.8750\n",
      "Epoch 10/100\n",
      "14/14 [==============================] - 11s 751ms/step - loss: 268917.9688 - mean_absolute_error: 206771.8438 - val_loss: 1330756.2500 - val_mean_absolute_error: 1268679.5000\n",
      "Epoch 11/100\n",
      "14/14 [==============================] - 11s 789ms/step - loss: 283825.4688 - mean_absolute_error: 221846.1875 - val_loss: 1329003.6250 - val_mean_absolute_error: 1267104.3750\n",
      "Epoch 12/100\n",
      "14/14 [==============================] - 10s 723ms/step - loss: 272015.3125 - mean_absolute_error: 210105.1250 - val_loss: 1319976.6250 - val_mean_absolute_error: 1258045.1250\n",
      "Epoch 13/100\n",
      "14/14 [==============================] - 10s 702ms/step - loss: 281259.9375 - mean_absolute_error: 219303.7500 - val_loss: 1346261.8750 - val_mean_absolute_error: 1284371.3750\n",
      "Epoch 14/100\n",
      "14/14 [==============================] - 9s 674ms/step - loss: 271975.5938 - mean_absolute_error: 210100.2969 - val_loss: 1327316.8750 - val_mean_absolute_error: 1265479.0000\n",
      "Epoch 15/100\n",
      "14/14 [==============================] - 10s 712ms/step - loss: 281008.6562 - mean_absolute_error: 219220.9375 - val_loss: 1327488.2500 - val_mean_absolute_error: 1265726.2500\n",
      "Epoch 16/100\n",
      "14/14 [==============================] - 10s 751ms/step - loss: 288721.4375 - mean_absolute_error: 226971.2969 - val_loss: 1342125.6250 - val_mean_absolute_error: 1280444.8750\n",
      "Epoch 17/100\n",
      "14/14 [==============================] - 10s 679ms/step - loss: 278575.4375 - mean_absolute_error: 216943.2656 - val_loss: 1326855.0000 - val_mean_absolute_error: 1265367.0000\n",
      "Epoch 18/100\n",
      "14/14 [==============================] - 12s 841ms/step - loss: 271230.0938 - mean_absolute_error: 209807.1406 - val_loss: 1358784.2500 - val_mean_absolute_error: 1297383.8750\n",
      "Epoch 19/100\n",
      "14/14 [==============================] - 11s 777ms/step - loss: 289485.3438 - mean_absolute_error: 228046.4688 - val_loss: 1318195.8750 - val_mean_absolute_error: 1256760.6250\n",
      "Epoch 20/100\n",
      "14/14 [==============================] - 10s 717ms/step - loss: 273282.2188 - mean_absolute_error: 211885.9844 - val_loss: 1326003.2500 - val_mean_absolute_error: 1264651.3750\n",
      "Epoch 21/100\n",
      "14/14 [==============================] - 11s 758ms/step - loss: 273190.1250 - mean_absolute_error: 211898.5625 - val_loss: 1347868.3750 - val_mean_absolute_error: 1286635.5000\n",
      "Epoch 22/100\n",
      "14/14 [==============================] - 12s 827ms/step - loss: 283834.7188 - mean_absolute_error: 222624.5781 - val_loss: 1334877.8750 - val_mean_absolute_error: 1273705.5000\n",
      "Epoch 23/100\n",
      "14/14 [==============================] - 12s 863ms/step - loss: 275200.2812 - mean_absolute_error: 214055.1406 - val_loss: 1331374.1250 - val_mean_absolute_error: 1270278.3750\n",
      "Epoch 24/100\n",
      "14/14 [==============================] - 9s 637ms/step - loss: 259418.7812 - mean_absolute_error: 198281.1406 - val_loss: 1345969.3750 - val_mean_absolute_error: 1284808.1250\n",
      "Epoch 25/100\n",
      "14/14 [==============================] - 8s 596ms/step - loss: 294216.5312 - mean_absolute_error: 233034.9531 - val_loss: 1324186.6250 - val_mean_absolute_error: 1263046.3750\n",
      "Epoch 26/100\n",
      "14/14 [==============================] - 9s 646ms/step - loss: 328515.4375 - mean_absolute_error: 267473.9375 - val_loss: 1333562.6250 - val_mean_absolute_error: 1272645.3750\n",
      "Epoch 27/100\n",
      "14/14 [==============================] - 8s 608ms/step - loss: 284903.6250 - mean_absolute_error: 224041.5156 - val_loss: 1329202.7500 - val_mean_absolute_error: 1268428.8750\n",
      "Epoch 28/100\n",
      "14/14 [==============================] - 9s 633ms/step - loss: 279095.9688 - mean_absolute_error: 218266.9375 - val_loss: 1320046.1250 - val_mean_absolute_error: 1259175.8750\n",
      "Epoch 29/100\n",
      "14/14 [==============================] - 9s 684ms/step - loss: 286507.5625 - mean_absolute_error: 225618.6719 - val_loss: 1319833.0000 - val_mean_absolute_error: 1258971.0000\n",
      "Epoch 30/100\n",
      "14/14 [==============================] - 9s 627ms/step - loss: 270770.0312 - mean_absolute_error: 209926.9688 - val_loss: 1320892.7500 - val_mean_absolute_error: 1260145.1250\n",
      "Epoch 31/100\n",
      "14/14 [==============================] - 9s 659ms/step - loss: 290148.2188 - mean_absolute_error: 229400.4062 - val_loss: 1341642.6250 - val_mean_absolute_error: 1280911.1250\n",
      "Epoch 32/100\n",
      "14/14 [==============================] - 9s 655ms/step - loss: 297849.5625 - mean_absolute_error: 237218.9844 - val_loss: 1333101.2500 - val_mean_absolute_error: 1272580.3750\n",
      "Epoch 33/100\n",
      "14/14 [==============================] - 9s 662ms/step - loss: 276937.0625 - mean_absolute_error: 216453.1562 - val_loss: 1313836.3750 - val_mean_absolute_error: 1253380.3750\n",
      "Epoch 34/100\n",
      "14/14 [==============================] - 9s 677ms/step - loss: 273914.5000 - mean_absolute_error: 213498.8906 - val_loss: 1323783.7500 - val_mean_absolute_error: 1263394.1250\n",
      "Epoch 35/100\n",
      "14/14 [==============================] - 9s 679ms/step - loss: 290173.2188 - mean_absolute_error: 229768.8906 - val_loss: 1339088.2500 - val_mean_absolute_error: 1278703.6250\n",
      "Epoch 36/100\n",
      "14/14 [==============================] - 10s 693ms/step - loss: 287564.2188 - mean_absolute_error: 227214.8438 - val_loss: 1339462.1250 - val_mean_absolute_error: 1279172.0000\n",
      "Epoch 37/100\n",
      "14/14 [==============================] - 10s 736ms/step - loss: 271364.8125 - mean_absolute_error: 211095.1562 - val_loss: 1343884.0000 - val_mean_absolute_error: 1283666.7500\n",
      "Epoch 38/100\n",
      "14/14 [==============================] - 10s 741ms/step - loss: 280669.9688 - mean_absolute_error: 220489.5000 - val_loss: 1337259.8750 - val_mean_absolute_error: 1277128.8750\n",
      "Epoch 39/100\n",
      "14/14 [==============================] - 10s 705ms/step - loss: 250550.7031 - mean_absolute_error: 190459.6875 - val_loss: 1340236.6250 - val_mean_absolute_error: 1280218.7500\n",
      "Epoch 40/100\n",
      "14/14 [==============================] - 10s 696ms/step - loss: 281950.5000 - mean_absolute_error: 221933.9375 - val_loss: 1336302.0000 - val_mean_absolute_error: 1276266.7500\n",
      "Epoch 41/100\n",
      "14/14 [==============================] - 9s 657ms/step - loss: 277268.5000 - mean_absolute_error: 217282.3125 - val_loss: 1321666.1250 - val_mean_absolute_error: 1261769.8750\n",
      "Epoch 42/100\n",
      "14/14 [==============================] - 10s 699ms/step - loss: 274383.5000 - mean_absolute_error: 214508.0156 - val_loss: 1313817.0000 - val_mean_absolute_error: 1253912.0000\n",
      "Epoch 43/100\n",
      "14/14 [==============================] - 10s 717ms/step - loss: 288942.0312 - mean_absolute_error: 229027.8125 - val_loss: 1321965.5000 - val_mean_absolute_error: 1262157.8750\n",
      "Epoch 44/100\n",
      "14/14 [==============================] - 10s 699ms/step - loss: 280503.3750 - mean_absolute_error: 220769.9062 - val_loss: 1317625.0000 - val_mean_absolute_error: 1257921.0000\n",
      "Epoch 45/100\n",
      "14/14 [==============================] - 9s 677ms/step - loss: 283808.4688 - mean_absolute_error: 224115.9062 - val_loss: 1320169.8750 - val_mean_absolute_error: 1260520.5000\n",
      "Epoch 46/100\n",
      "14/14 [==============================] - 10s 685ms/step - loss: 279256.7812 - mean_absolute_error: 219623.5156 - val_loss: 1325337.8750 - val_mean_absolute_error: 1265743.6250\n",
      "Epoch 47/100\n",
      "14/14 [==============================] - 9s 655ms/step - loss: 290385.8125 - mean_absolute_error: 230805.8750 - val_loss: 1314209.2500 - val_mean_absolute_error: 1254697.1250\n",
      "Epoch 48/100\n",
      "14/14 [==============================] - 9s 675ms/step - loss: 289895.1875 - mean_absolute_error: 230411.4375 - val_loss: 1344841.8750 - val_mean_absolute_error: 1285341.2500\n",
      "Epoch 49/100\n",
      "14/14 [==============================] - 9s 659ms/step - loss: 276938.0312 - mean_absolute_error: 217357.5000 - val_loss: 1314872.2500 - val_mean_absolute_error: 1255273.2500\n",
      "Epoch 50/100\n",
      "14/14 [==============================] - 10s 708ms/step - loss: 282908.7188 - mean_absolute_error: 223370.9531 - val_loss: 1313468.1250 - val_mean_absolute_error: 1253962.6250\n",
      "Epoch 51/100\n",
      "14/14 [==============================] - 9s 682ms/step - loss: 284862.6250 - mean_absolute_error: 225399.7812 - val_loss: 1325801.6250 - val_mean_absolute_error: 1266387.2500\n",
      "Epoch 52/100\n",
      "14/14 [==============================] - 9s 668ms/step - loss: 274421.8438 - mean_absolute_error: 214998.5469 - val_loss: 1314338.0000 - val_mean_absolute_error: 1254890.2500\n",
      "Epoch 53/100\n",
      "14/14 [==============================] - 10s 688ms/step - loss: 281201.0625 - mean_absolute_error: 221719.7031 - val_loss: 1316368.6250 - val_mean_absolute_error: 1256894.1250\n",
      "Epoch 54/100\n",
      "14/14 [==============================] - 10s 689ms/step - loss: 268698.7812 - mean_absolute_error: 209241.4844 - val_loss: 1345787.3750 - val_mean_absolute_error: 1286403.1250\n",
      "Epoch 55/100\n",
      "14/14 [==============================] - 10s 701ms/step - loss: 280886.8438 - mean_absolute_error: 221505.5156 - val_loss: 1323022.3750 - val_mean_absolute_error: 1263643.3750\n",
      "Epoch 56/100\n",
      "14/14 [==============================] - 10s 689ms/step - loss: 269967.0312 - mean_absolute_error: 210623.1562 - val_loss: 1330382.5000 - val_mean_absolute_error: 1271166.7500\n",
      "Epoch 57/100\n",
      "14/14 [==============================] - 10s 701ms/step - loss: 271378.2188 - mean_absolute_error: 212216.6406 - val_loss: 1307756.1250 - val_mean_absolute_error: 1248712.1250\n",
      "Epoch 58/100\n",
      "14/14 [==============================] - 10s 723ms/step - loss: 277212.3125 - mean_absolute_error: 218219.5469 - val_loss: 1329960.5000 - val_mean_absolute_error: 1271060.6250\n",
      "Epoch 59/100\n",
      "14/14 [==============================] - 9s 678ms/step - loss: 271063.7188 - mean_absolute_error: 212108.4375 - val_loss: 1300022.1250 - val_mean_absolute_error: 1240987.0000\n",
      "Epoch 60/100\n",
      "14/14 [==============================] - 10s 704ms/step - loss: 291017.5938 - mean_absolute_error: 231977.2344 - val_loss: 1344353.7500 - val_mean_absolute_error: 1285394.0000\n",
      "Epoch 61/100\n",
      "14/14 [==============================] - 10s 709ms/step - loss: 283392.1562 - mean_absolute_error: 224436.7656 - val_loss: 1332324.8750 - val_mean_absolute_error: 1273352.5000\n",
      "Epoch 62/100\n",
      "14/14 [==============================] - 10s 709ms/step - loss: 265173.6562 - mean_absolute_error: 206175.0469 - val_loss: 1329147.6250 - val_mean_absolute_error: 1270083.1250\n",
      "Epoch 63/100\n",
      "14/14 [==============================] - 10s 747ms/step - loss: 278037.8125 - mean_absolute_error: 218971.2656 - val_loss: 1324155.6250 - val_mean_absolute_error: 1265139.7500\n",
      "Epoch 64/100\n",
      "14/14 [==============================] - 10s 704ms/step - loss: 293548.0625 - mean_absolute_error: 234565.0156 - val_loss: 1337617.1250 - val_mean_absolute_error: 1278716.2500\n",
      "Epoch 65/100\n",
      "14/14 [==============================] - 9s 682ms/step - loss: 273620.4375 - mean_absolute_error: 214713.7969 - val_loss: 1326759.0000 - val_mean_absolute_error: 1267881.8750\n",
      "Epoch 66/100\n",
      "14/14 [==============================] - 9s 651ms/step - loss: 294862.5938 - mean_absolute_error: 235988.3750 - val_loss: 1335825.5000 - val_mean_absolute_error: 1276975.3750\n",
      "Epoch 67/100\n",
      "14/14 [==============================] - 9s 658ms/step - loss: 282559.3125 - mean_absolute_error: 223672.4531 - val_loss: 1326325.6250 - val_mean_absolute_error: 1267466.8750\n",
      "Epoch 68/100\n",
      "14/14 [==============================] - 10s 682ms/step - loss: 282271.0000 - mean_absolute_error: 223519.3594 - val_loss: 1312844.3750 - val_mean_absolute_error: 1254195.8750\n",
      "Epoch 69/100\n",
      "14/14 [==============================] - 9s 667ms/step - loss: 270343.0938 - mean_absolute_error: 211795.7969 - val_loss: 1340676.0000 - val_mean_absolute_error: 1282219.0000\n",
      "Epoch 70/100\n",
      "14/14 [==============================] - 9s 658ms/step - loss: 281742.6875 - mean_absolute_error: 223254.2969 - val_loss: 1313689.5000 - val_mean_absolute_error: 1255140.7500\n",
      "Epoch 71/100\n",
      "14/14 [==============================] - 10s 687ms/step - loss: 260421.0312 - mean_absolute_error: 201840.3750 - val_loss: 1326677.0000 - val_mean_absolute_error: 1268083.1250\n",
      "Epoch 72/100\n",
      "14/14 [==============================] - 9s 664ms/step - loss: 285085.4062 - mean_absolute_error: 226497.3438 - val_loss: 1312491.1250 - val_mean_absolute_error: 1253915.1250\n",
      "Epoch 73/100\n",
      "14/14 [==============================] - 9s 664ms/step - loss: 269531.5938 - mean_absolute_error: 210945.4375 - val_loss: 1323363.2500 - val_mean_absolute_error: 1264798.3750\n",
      "Epoch 74/100\n",
      "14/14 [==============================] - 9s 675ms/step - loss: 265923.5312 - mean_absolute_error: 207341.7188 - val_loss: 1331730.7500 - val_mean_absolute_error: 1273184.6250\n",
      "Epoch 75/100\n",
      "14/14 [==============================] - 9s 670ms/step - loss: 263829.1875 - mean_absolute_error: 205318.2969 - val_loss: 1327843.1250 - val_mean_absolute_error: 1269391.7500\n",
      "Epoch 76/100\n",
      "14/14 [==============================] - 10s 688ms/step - loss: 279772.6562 - mean_absolute_error: 221307.2969 - val_loss: 1338301.1250 - val_mean_absolute_error: 1279813.0000\n",
      "Epoch 77/100\n",
      "14/14 [==============================] - 9s 679ms/step - loss: 282385.6875 - mean_absolute_error: 223965.1250 - val_loss: 1331030.7500 - val_mean_absolute_error: 1272740.0000\n",
      "Epoch 78/100\n",
      "14/14 [==============================] - 9s 657ms/step - loss: 280256.1250 - mean_absolute_error: 222062.1094 - val_loss: 1324098.1250 - val_mean_absolute_error: 1265973.6250\n",
      "Epoch 79/100\n",
      "14/14 [==============================] - 9s 655ms/step - loss: 279869.1875 - mean_absolute_error: 221763.1719 - val_loss: 1332714.6250 - val_mean_absolute_error: 1274611.8750\n",
      "Epoch 80/100\n",
      "14/14 [==============================] - 9s 679ms/step - loss: 285845.3750 - mean_absolute_error: 227721.5156 - val_loss: 1338440.2500 - val_mean_absolute_error: 1280344.6250\n",
      "Epoch 81/100\n",
      "14/14 [==============================] - 9s 666ms/step - loss: 265669.8438 - mean_absolute_error: 207553.1719 - val_loss: 1331351.3750 - val_mean_absolute_error: 1273211.1250\n",
      "Epoch 82/100\n",
      "14/14 [==============================] - 9s 676ms/step - loss: 273876.4062 - mean_absolute_error: 215721.8125 - val_loss: 1340014.7500 - val_mean_absolute_error: 1281879.7500\n",
      "Epoch 83/100\n",
      "14/14 [==============================] - 10s 731ms/step - loss: 272014.1562 - mean_absolute_error: 213923.5156 - val_loss: 1348696.6250 - val_mean_absolute_error: 1290697.8750\n",
      "Epoch 84/100\n",
      "14/14 [==============================] - 10s 698ms/step - loss: 284616.6250 - mean_absolute_error: 226555.3594 - val_loss: 1340691.1250 - val_mean_absolute_error: 1282573.3750\n",
      "Epoch 85/100\n",
      "14/14 [==============================] - 9s 675ms/step - loss: 332143.9375 - mean_absolute_error: 274098.2812 - val_loss: 1327506.6250 - val_mean_absolute_error: 1269469.8750\n",
      "Epoch 86/100\n",
      "14/14 [==============================] - 9s 679ms/step - loss: 275684.5938 - mean_absolute_error: 217605.0781 - val_loss: 1354717.1250 - val_mean_absolute_error: 1296625.7500\n",
      "Epoch 87/100\n",
      "14/14 [==============================] - 10s 687ms/step - loss: 277186.0938 - mean_absolute_error: 219113.4531 - val_loss: 1324534.0000 - val_mean_absolute_error: 1266529.5000\n",
      "Epoch 88/100\n",
      "14/14 [==============================] - 10s 723ms/step - loss: 262300.4062 - mean_absolute_error: 204317.2500 - val_loss: 1321262.6250 - val_mean_absolute_error: 1263299.8750\n",
      "Epoch 89/100\n",
      "14/14 [==============================] - 11s 758ms/step - loss: 255949.7344 - mean_absolute_error: 198032.8594 - val_loss: 1331699.8750 - val_mean_absolute_error: 1273835.0000\n",
      "5/5 [==============================] - 7s 423ms/step\n",
      "5/5 [==============================] - 6s 401ms/step\n",
      "143\n",
      "5/5 [==============================] - 6s 393ms/step\n",
      "142\n",
      "5/5 [==============================] - 6s 360ms/step\n",
      "142\n"
     ]
    }
   ],
   "source": [
    "n = 4\n",
    "from models import N_CNN_RF_V2\n",
    "from keras.applications import MobileNetV3Small\n",
    "custom_layers = [\n",
    "    #Type 1\n",
    "    Flatten(),\n",
    "    Dense(512, activation=\"relu\", kernel_regularizer=regularizers.l1(0.2)),\n",
    "    # BatchNormalization(),\n",
    "    layers.Dropout(0.2),\n",
    "    Dense(256, activation=\"relu\", kernel_regularizer=regularizers.l1(0.2)),\n",
    "    layers.Dropout(0.2),\n",
    "    Dense(128, activation=\"relu\", kernel_regularizer=regularizers.l1(0.2)),\n",
    "    layers.Dropout(0.1),\n",
    "    Dense(64, activation=\"relu\"),\n",
    "    Dense(1, activation=\"linear\"),\n",
    "    ]\n",
    "\n",
    "N_CNN_RF_V2_model = N_CNN_RF_V2(n, MobileNetV3Small, custom_layers)\n",
    "N_CNN_RF_V2_model.fit(np.concatenate((train1_images, train2_images), axis=0), \n",
    "                      pd.concat((train1_features, train2_features), axis=0), \n",
    "                      np.concatenate((train1_prices, train2_prices), axis=0),\n",
    "                      valid_images, \n",
    "                      valid_prices,\n",
    "                      n) "
   ]
  },
  {
   "cell_type": "markdown",
   "metadata": {},
   "source": [
    "Training model  0\n",
    "Number of Training Images 427\n",
    "Mean of Training Images 3760796.2529274006\n",
    "Number of datapoints in validation set 143\n",
    "Mean of validation set 3835531.4685314684\n",
    "Compiling Model\n",
    "Fitting Model\n",
    "Epoch 1/100\n",
    "14/14 [==============================] - 27s 973ms/step - loss: 3771481.0000 - mean_absolute_error: 3760765.0000 - val_loss: 3839358.7500 - val_mean_absolute_error: 3835299.0000\n",
    "Epoch 2/100\n",
    "14/14 [==============================] - 10s 726ms/step - loss: 3761812.5000 - mean_absolute_error: 3758008.2500 - val_loss: 3825120.2500 - val_mean_absolute_error: 3821390.2500\n",
    "Epoch 3/100\n",
    "14/14 [==============================] - 11s 771ms/step - loss: 3686866.7500 - mean_absolute_error: 3681084.2500 - val_loss: 3559687.2500 - val_mean_absolute_error: 3549439.0000\n",
    "Epoch 4/100\n",
    "14/14 [==============================] - 10s 736ms/step - loss: 2838282.7500 - mean_absolute_error: 2821121.0000 - val_loss: 1658022.5000 - val_mean_absolute_error: 1629887.0000\n",
    "Epoch 5/100\n",
    "14/14 [==============================] - 10s 738ms/step - loss: 1636304.6250 - mean_absolute_error: 1603869.8750 - val_loss: 1556243.7500 - val_mean_absolute_error: 1524349.6250\n",
    "Epoch 6/100\n",
    "14/14 [==============================] - 10s 747ms/step - loss: 1473385.2500 - mean_absolute_error: 1442229.3750 - val_loss: 1508453.8750 - val_mean_absolute_error: 1475986.1250\n",
    "Epoch 7/100\n",
    "14/14 [==============================] - 10s 721ms/step - loss: 1406986.2500 - mean_absolute_error: 1373288.8750 - val_loss: 1457318.1250 - val_mean_absolute_error: 1423618.2500\n",
    "Epoch 8/100\n",
    "14/14 [==============================] - 11s 765ms/step - loss: 1308593.0000 - mean_absolute_error: 1274780.8750 - val_loss: 1423733.5000 - val_mean_absolute_error: 1389396.3750\n",
    "Epoch 9/100\n",
    "14/14 [==============================] - 10s 723ms/step - loss: 1271124.5000 - mean_absolute_error: 1235551.8750 - val_loss: 1383650.6250 - val_mean_absolute_error: 1347186.3750\n",
    "Epoch 10/100\n",
    "14/14 [==============================] - 10s 717ms/step - loss: 1222743.1250 - mean_absolute_error: 1185535.3750 - val_loss: 1366021.8750 - val_mean_absolute_error: 1327473.3750\n",
    "Epoch 11/100\n",
    "14/14 [==============================] - 11s 769ms/step - loss: 1183205.8750 - mean_absolute_error: 1143846.3750 - val_loss: 1333733.8750 - val_mean_absolute_error: 1293136.5000\n",
    "Epoch 12/100\n",
    "14/14 [==============================] - 10s 754ms/step - loss: 1114573.2500 - mean_absolute_error: 1072733.2500 - val_loss: 1325493.5000 - val_mean_absolute_error: 1282597.7500\n",
    "Epoch 13/100\n",
    "14/14 [==============================] - 11s 793ms/step - loss: 1063411.8750 - mean_absolute_error: 1019350.1250 - val_loss: 1316382.5000 - val_mean_absolute_error: 1270909.5000\n",
    "Epoch 14/100\n",
    "14/14 [==============================] - 10s 723ms/step - loss: 1014580.1875 - mean_absolute_error: 968065.6250 - val_loss: 1301035.1250 - val_mean_absolute_error: 1253193.3750\n",
    "Epoch 15/100\n",
    "14/14 [==============================] - 10s 718ms/step - loss: 954471.0625 - mean_absolute_error: 905561.1875 - val_loss: 1330987.3750 - val_mean_absolute_error: 1280688.8750\n",
    "Epoch 16/100\n",
    "14/14 [==============================] - 10s 747ms/step - loss: 887342.7500 - mean_absolute_error: 836073.7500 - val_loss: 1287097.6250 - val_mean_absolute_error: 1234655.1250\n",
    "Epoch 17/100\n",
    "14/14 [==============================] - 10s 748ms/step - loss: 816783.5625 - mean_absolute_error: 763360.3125 - val_loss: 1286014.8750 - val_mean_absolute_error: 1231537.8750\n",
    "Epoch 18/100\n",
    "14/14 [==============================] - 10s 753ms/step - loss: 742714.8750 - mean_absolute_error: 687325.1250 - val_loss: 1266559.7500 - val_mean_absolute_error: 1210229.0000\n",
    "Epoch 19/100\n",
    "14/14 [==============================] - 10s 713ms/step - loss: 736329.0625 - mean_absolute_error: 679155.8750 - val_loss: 1268679.3750 - val_mean_absolute_error: 1210771.2500\n",
    "Epoch 20/100\n",
    "14/14 [==============================] - 10s 754ms/step - loss: 671491.3125 - mean_absolute_error: 613068.6875 - val_loss: 1263264.1250 - val_mean_absolute_error: 1204199.8750\n",
    "Epoch 21/100\n",
    "14/14 [==============================] - 10s 742ms/step - loss: 650520.0625 - mean_absolute_error: 590837.5000 - val_loss: 1346535.0000 - val_mean_absolute_error: 1286035.2500\n",
    "Epoch 22/100\n",
    "14/14 [==============================] - 10s 726ms/step - loss: 639740.1250 - mean_absolute_error: 578891.1875 - val_loss: 1252580.5000 - val_mean_absolute_error: 1191249.3750\n",
    "Epoch 23/100\n",
    "14/14 [==============================] - 11s 778ms/step - loss: 596105.5625 - mean_absolute_error: 534419.4375 - val_loss: 1247844.6250 - val_mean_absolute_error: 1185914.6250\n",
    "Epoch 24/100\n",
    "14/14 [==============================] - 11s 781ms/step - loss: 570844.9375 - mean_absolute_error: 508578.2188 - val_loss: 1300427.5000 - val_mean_absolute_error: 1237714.1250\n",
    "Epoch 25/100\n",
    "14/14 [==============================] - 11s 765ms/step - loss: 592623.1875 - mean_absolute_error: 529617.3750 - val_loss: 1292063.7500 - val_mean_absolute_error: 1228672.8750\n",
    "Epoch 26/100\n",
    "14/14 [==============================] - 11s 786ms/step - loss: 579482.8750 - mean_absolute_error: 515860.0000 - val_loss: 1245209.5000 - val_mean_absolute_error: 1181419.0000\n",
    "Epoch 27/100\n",
    "14/14 [==============================] - 10s 758ms/step - loss: 532907.0000 - mean_absolute_error: 468937.0312 - val_loss: 1283088.5000 - val_mean_absolute_error: 1218842.5000\n",
    "Epoch 28/100\n",
    "14/14 [==============================] - 11s 777ms/step - loss: 503778.2500 - mean_absolute_error: 439421.0625 - val_loss: 1255359.0000 - val_mean_absolute_error: 1190909.5000\n",
    "Epoch 29/100\n",
    "14/14 [==============================] - 11s 801ms/step - loss: 497025.1875 - mean_absolute_error: 432397.0000 - val_loss: 1246495.8750 - val_mean_absolute_error: 1181667.3750\n",
    "Epoch 30/100\n",
    "14/14 [==============================] - 13s 925ms/step - loss: 492272.1562 - mean_absolute_error: 427320.2500 - val_loss: 1292626.2500 - val_mean_absolute_error: 1227380.3750\n",
    "Epoch 31/100\n",
    "14/14 [==============================] - 13s 937ms/step - loss: 476540.0312 - mean_absolute_error: 411072.6875 - val_loss: 1254260.8750 - val_mean_absolute_error: 1188502.1250\n",
    "Epoch 32/100\n",
    "14/14 [==============================] - 13s 909ms/step - loss: 430046.0938 - mean_absolute_error: 364193.3438 - val_loss: 1243737.0000 - val_mean_absolute_error: 1177826.8750\n",
    "Epoch 33/100\n",
    "14/14 [==============================] - 13s 938ms/step - loss: 423618.0000 - mean_absolute_error: 357672.6562 - val_loss: 1286808.3750 - val_mean_absolute_error: 1220697.6250\n",
    "Epoch 34/100\n",
    "14/14 [==============================] - 10s 748ms/step - loss: 458031.0000 - mean_absolute_error: 391756.8438 - val_loss: 1244549.7500 - val_mean_absolute_error: 1178229.7500\n",
    "Epoch 35/100\n",
    "14/14 [==============================] - 10s 736ms/step - loss: 411383.5625 - mean_absolute_error: 344965.6875 - val_loss: 1257815.1250 - val_mean_absolute_error: 1191306.5000\n",
    "Epoch 36/100\n",
    "14/14 [==============================] - 11s 780ms/step - loss: 399189.7812 - mean_absolute_error: 332589.7500 - val_loss: 1260717.6250 - val_mean_absolute_error: 1194028.2500\n",
    "Epoch 37/100\n",
    "14/14 [==============================] - 10s 752ms/step - loss: 379250.8750 - mean_absolute_error: 312587.8438 - val_loss: 1297644.2500 - val_mean_absolute_error: 1231057.3750\n",
    "Epoch 38/100\n",
    "14/14 [==============================] - 10s 762ms/step - loss: 429155.6875 - mean_absolute_error: 362668.1250 - val_loss: 1246969.1250 - val_mean_absolute_error: 1180531.3750\n",
    "Epoch 39/100\n",
    "14/14 [==============================] - 11s 780ms/step - loss: 395845.7812 - mean_absolute_error: 329274.2188 - val_loss: 1252589.3750 - val_mean_absolute_error: 1185967.7500\n",
    "Epoch 40/100\n",
    "14/14 [==============================] - 10s 738ms/step - loss: 375097.9375 - mean_absolute_error: 308552.1562 - val_loss: 1273065.2500 - val_mean_absolute_error: 1206590.6250\n",
    "Epoch 41/100\n",
    "14/14 [==============================] - 10s 730ms/step - loss: 381443.5000 - mean_absolute_error: 314977.1562 - val_loss: 1266748.1250 - val_mean_absolute_error: 1200368.3750\n",
    "Epoch 42/100\n",
    "14/14 [==============================] - 11s 798ms/step - loss: 366576.8750 - mean_absolute_error: 300192.5000 - val_loss: 1300232.0000 - val_mean_absolute_error: 1233765.2500\n",
    "Epoch 43/100\n",
    "14/14 [==============================] - 11s 760ms/step - loss: 395714.0938 - mean_absolute_error: 329286.3750 - val_loss: 1235664.5000 - val_mean_absolute_error: 1169282.5000\n",
    "Epoch 44/100\n",
    "14/14 [==============================] - 11s 810ms/step - loss: 368203.0625 - mean_absolute_error: 301808.8438 - val_loss: 1279621.7500 - val_mean_absolute_error: 1213236.5000\n",
    "Epoch 45/100\n",
    "14/14 [==============================] - 11s 776ms/step - loss: 360520.0312 - mean_absolute_error: 294195.4062 - val_loss: 1232331.6250 - val_mean_absolute_error: 1166127.0000\n",
    "Epoch 46/100\n",
    "14/14 [==============================] - 11s 785ms/step - loss: 365291.1250 - mean_absolute_error: 299031.4062 - val_loss: 1257216.0000 - val_mean_absolute_error: 1190978.6250\n",
    "Epoch 47/100\n",
    "14/14 [==============================] - 11s 789ms/step - loss: 355305.0000 - mean_absolute_error: 289092.2812 - val_loss: 1248196.7500 - val_mean_absolute_error: 1182100.7500\n",
    "Epoch 48/100\n",
    "14/14 [==============================] - 11s 767ms/step - loss: 346215.3750 - mean_absolute_error: 280084.2500 - val_loss: 1260921.6250 - val_mean_absolute_error: 1194794.8750\n",
    "Epoch 49/100\n",
    "14/14 [==============================] - 11s 771ms/step - loss: 363688.4062 - mean_absolute_error: 297673.6250 - val_loss: 1237279.2500 - val_mean_absolute_error: 1171405.2500\n",
    "Epoch 50/100\n",
    "14/14 [==============================] - 11s 796ms/step - loss: 382861.2500 - mean_absolute_error: 316958.2500 - val_loss: 1259356.2500 - val_mean_absolute_error: 1193549.6250\n",
    "Epoch 51/100\n",
    "14/14 [==============================] - 11s 825ms/step - loss: 334907.2188 - mean_absolute_error: 269145.2812 - val_loss: 1292151.2500 - val_mean_absolute_error: 1226367.1250\n",
    "Epoch 52/100\n",
    "14/14 [==============================] - 10s 740ms/step - loss: 354881.3125 - mean_absolute_error: 289141.1250 - val_loss: 1259421.7500 - val_mean_absolute_error: 1193741.3750\n",
    "Epoch 53/100\n",
    "14/14 [==============================] - 11s 830ms/step - loss: 331186.0938 - mean_absolute_error: 265412.1562 - val_loss: 1271442.7500 - val_mean_absolute_error: 1205659.3750\n",
    "Epoch 54/100\n",
    "14/14 [==============================] - 11s 770ms/step - loss: 328867.0000 - mean_absolute_error: 263151.7500 - val_loss: 1245310.8750 - val_mean_absolute_error: 1179696.1250\n",
    "Epoch 55/100\n",
    "14/14 [==============================] - 11s 782ms/step - loss: 351840.5625 - mean_absolute_error: 286254.0938 - val_loss: 1251319.6250 - val_mean_absolute_error: 1185866.1250\n",
    "Epoch 56/100\n",
    "14/14 [==============================] - 11s 805ms/step - loss: 383898.7500 - mean_absolute_error: 318514.7812 - val_loss: 1310284.8750 - val_mean_absolute_error: 1244911.2500\n",
    "Epoch 57/100\n",
    "14/14 [==============================] - 11s 775ms/step - loss: 356631.4062 - mean_absolute_error: 291294.1562 - val_loss: 1247103.0000 - val_mean_absolute_error: 1181780.0000\n",
    "Epoch 58/100\n",
    "14/14 [==============================] - 11s 772ms/step - loss: 337087.7812 - mean_absolute_error: 271735.6562 - val_loss: 1265855.0000 - val_mean_absolute_error: 1200528.7500\n",
    "Epoch 59/100\n",
    "14/14 [==============================] - 11s 782ms/step - loss: 318576.4375 - mean_absolute_error: 253335.1719 - val_loss: 1263646.0000 - val_mean_absolute_error: 1198521.3750\n",
    "Epoch 60/100\n",
    "14/14 [==============================] - 11s 764ms/step - loss: 323287.3125 - mean_absolute_error: 258252.6250 - val_loss: 1245694.0000 - val_mean_absolute_error: 1180704.3750\n",
    "Epoch 61/100\n",
    "14/14 [==============================] - 11s 804ms/step - loss: 348889.0312 - mean_absolute_error: 283962.6562 - val_loss: 1239749.7500 - val_mean_absolute_error: 1174917.8750\n",
    "Epoch 62/100\n",
    "14/14 [==============================] - 11s 776ms/step - loss: 326982.2812 - mean_absolute_error: 262091.1719 - val_loss: 1281785.7500 - val_mean_absolute_error: 1216906.0000\n",
    "Epoch 63/100\n",
    "14/14 [==============================] - 11s 830ms/step - loss: 324863.1875 - mean_absolute_error: 260018.8281 - val_loss: 1261624.3750 - val_mean_absolute_error: 1196771.1250\n",
    "Epoch 64/100\n",
    "14/14 [==============================] - 11s 816ms/step - loss: 322463.4688 - mean_absolute_error: 257662.7031 - val_loss: 1241012.3750 - val_mean_absolute_error: 1176404.7500\n",
    "Epoch 65/100\n",
    "14/14 [==============================] - 11s 787ms/step - loss: 319880.5312 - mean_absolute_error: 255381.2031 - val_loss: 1267117.0000 - val_mean_absolute_error: 1202672.6250\n",
    "Epoch 66/100\n",
    "14/14 [==============================] - 11s 778ms/step - loss: 311373.0938 - mean_absolute_error: 246887.9219 - val_loss: 1242858.0000 - val_mean_absolute_error: 1178321.2500\n",
    "Epoch 67/100\n",
    "14/14 [==============================] - 11s 779ms/step - loss: 306303.1875 - mean_absolute_error: 241754.8125 - val_loss: 1242387.8750 - val_mean_absolute_error: 1177975.7500\n",
    "Epoch 68/100\n",
    "14/14 [==============================] - 11s 795ms/step - loss: 313506.1250 - mean_absolute_error: 249170.7969 - val_loss: 1222415.5000 - val_mean_absolute_error: 1158215.1250\n",
    "Epoch 69/100\n",
    "14/14 [==============================] - 11s 812ms/step - loss: 337615.8750 - mean_absolute_error: 273357.0000 - val_loss: 1250585.2500 - val_mean_absolute_error: 1186289.2500\n",
    "Epoch 70/100\n",
    "14/14 [==============================] - 11s 769ms/step - loss: 324104.5000 - mean_absolute_error: 259820.4531 - val_loss: 1294557.8750 - val_mean_absolute_error: 1230264.3750\n",
    "Epoch 71/100\n",
    "14/14 [==============================] - 11s 787ms/step - loss: 323181.7500 - mean_absolute_error: 258993.7969 - val_loss: 1275154.1250 - val_mean_absolute_error: 1210978.0000\n",
    "Epoch 72/100\n",
    "14/14 [==============================] - 11s 825ms/step - loss: 301030.3438 - mean_absolute_error: 236971.7500 - val_loss: 1250821.7500 - val_mean_absolute_error: 1186958.0000\n",
    "Epoch 73/100\n",
    "14/14 [==============================] - 10s 745ms/step - loss: 326586.5000 - mean_absolute_error: 262677.8750 - val_loss: 1263211.6250 - val_mean_absolute_error: 1199281.6250\n",
    "Epoch 74/100\n",
    "14/14 [==============================] - 11s 771ms/step - loss: 326460.5938 - mean_absolute_error: 262542.9375 - val_loss: 1298798.1250 - val_mean_absolute_error: 1234962.3750\n",
    "Epoch 75/100\n",
    "14/14 [==============================] - 11s 781ms/step - loss: 311386.7188 - mean_absolute_error: 247644.7188 - val_loss: 1242751.6250 - val_mean_absolute_error: 1179128.3750\n",
    "Epoch 76/100\n",
    "14/14 [==============================] - 10s 746ms/step - loss: 321069.8750 - mean_absolute_error: 257523.7344 - val_loss: 1240065.3750 - val_mean_absolute_error: 1176625.6250\n",
    "Epoch 77/100\n",
    "14/14 [==============================] - 11s 780ms/step - loss: 322289.5625 - mean_absolute_error: 258819.2188 - val_loss: 1264081.1250 - val_mean_absolute_error: 1200568.3750\n",
    "Epoch 78/100\n",
    "14/14 [==============================] - 11s 783ms/step - loss: 317987.5938 - mean_absolute_error: 254463.3438 - val_loss: 1250580.7500 - val_mean_absolute_error: 1187135.5000\n",
    "Epoch 79/100\n",
    "14/14 [==============================] - 10s 757ms/step - loss: 287897.8750 - mean_absolute_error: 224478.0000 - val_loss: 1261099.1250 - val_mean_absolute_error: 1197714.6250\n",
    "Epoch 80/100\n",
    "14/14 [==============================] - 10s 730ms/step - loss: 294136.3125 - mean_absolute_error: 230865.8750 - val_loss: 1254437.7500 - val_mean_absolute_error: 1191382.3750\n",
    "Epoch 81/100\n",
    "14/14 [==============================] - 10s 728ms/step - loss: 308186.6875 - mean_absolute_error: 245196.2969 - val_loss: 1267052.3750 - val_mean_absolute_error: 1204133.1250\n",
    "Epoch 82/100\n",
    "14/14 [==============================] - 11s 763ms/step - loss: 279651.2812 - mean_absolute_error: 216777.9062 - val_loss: 1266742.0000 - val_mean_absolute_error: 1203859.6250\n",
    "Epoch 83/100\n",
    "14/14 [==============================] - 10s 733ms/step - loss: 296017.0625 - mean_absolute_error: 233116.3281 - val_loss: 1258912.5000 - val_mean_absolute_error: 1196070.1250\n",
    "Epoch 84/100\n",
    "14/14 [==============================] - 10s 746ms/step - loss: 314549.2500 - mean_absolute_error: 251756.7344 - val_loss: 1250288.7500 - val_mean_absolute_error: 1187663.2500\n",
    "Epoch 85/100\n",
    "14/14 [==============================] - 10s 718ms/step - loss: 318533.6250 - mean_absolute_error: 255896.3750 - val_loss: 1237992.7500 - val_mean_absolute_error: 1175379.1250\n",
    "Epoch 86/100\n",
    "14/14 [==============================] - 10s 723ms/step - loss: 314762.7188 - mean_absolute_error: 252144.1562 - val_loss: 1259106.2500 - val_mean_absolute_error: 1196605.3750\n",
    "Epoch 87/100\n",
    "14/14 [==============================] - 10s 735ms/step - loss: 300351.8438 - mean_absolute_error: 237903.6875 - val_loss: 1225054.6250 - val_mean_absolute_error: 1162680.3750\n",
    "Epoch 88/100\n",
    "14/14 [==============================] - 10s 712ms/step - loss: 321877.0625 - mean_absolute_error: 259487.6250 - val_loss: 1255012.3750 - val_mean_absolute_error: 1192652.0000\n",
    "Epoch 89/100\n",
    "14/14 [==============================] - 10s 760ms/step - loss: 285088.1250 - mean_absolute_error: 222752.1250 - val_loss: 1262609.6250 - val_mean_absolute_error: 1200358.2500\n",
    "Epoch 90/100\n",
    "14/14 [==============================] - 10s 719ms/step - loss: 295900.5000 - mean_absolute_error: 233698.4531 - val_loss: 1240085.5000 - val_mean_absolute_error: 1177952.0000\n",
    "Epoch 91/100\n",
    "14/14 [==============================] - 10s 703ms/step - loss: 267434.9062 - mean_absolute_error: 205324.9531 - val_loss: 1262486.2500 - val_mean_absolute_error: 1200449.0000\n",
    "Epoch 92/100\n",
    "14/14 [==============================] - 10s 742ms/step - loss: 285915.5312 - mean_absolute_error: 223881.3750 - val_loss: 1250668.2500 - val_mean_absolute_error: 1188660.6250\n",
    "Epoch 93/100\n",
    "14/14 [==============================] - 10s 723ms/step - loss: 301828.7812 - mean_absolute_error: 239796.5469 - val_loss: 1261651.5000 - val_mean_absolute_error: 1199695.8750\n",
    "Epoch 94/100\n",
    "14/14 [==============================] - 10s 717ms/step - loss: 282270.9375 - mean_absolute_error: 220450.7344 - val_loss: 1262573.1250 - val_mean_absolute_error: 1200859.8750\n",
    "Epoch 95/100\n",
    "14/14 [==============================] - 11s 809ms/step - loss: 280735.8438 - mean_absolute_error: 219086.7812 - val_loss: 1250342.3750 - val_mean_absolute_error: 1188783.2500\n",
    "Epoch 96/100\n",
    "14/14 [==============================] - 10s 713ms/step - loss: 306107.2500 - mean_absolute_error: 244569.5156 - val_loss: 1256175.6250 - val_mean_absolute_error: 1194624.8750\n",
    "Epoch 97/100\n",
    "14/14 [==============================] - 10s 735ms/step - loss: 291494.3750 - mean_absolute_error: 229889.8750 - val_loss: 1227363.1250 - val_mean_absolute_error: 1165765.6250\n",
    "Epoch 98/100\n",
    "14/14 [==============================] - 11s 769ms/step - loss: 286150.5312 - mean_absolute_error: 224513.2031 - val_loss: 1291472.8750 - val_mean_absolute_error: 1229762.2500\n",
    "Training model  1\n",
    "Number of Training Images 427\n",
    "Mean of Training Images 3775613.5831381734\n",
    "Number of datapoints in validation set 143\n",
    "Mean of validation set 3791286.713286713\n",
    "Compiling Model\n",
    "Fitting Model\n",
    "Epoch 1/100\n",
    "14/14 [==============================] - 30s 991ms/step - loss: 634497.0625 - mean_absolute_error: 570188.3125 - val_loss: 263846.3438 - val_mean_absolute_error: 199507.5625\n",
    "Epoch 2/100\n",
    "14/14 [==============================] - 10s 688ms/step - loss: 584605.5625 - mean_absolute_error: 520280.3438 - val_loss: 275108.1250 - val_mean_absolute_error: 210795.4219\n",
    "Epoch 3/100\n",
    "14/14 [==============================] - 10s 722ms/step - loss: 570820.7500 - mean_absolute_error: 506430.7188 - val_loss: 232282.9688 - val_mean_absolute_error: 167791.2969\n",
    "Epoch 4/100\n",
    "14/14 [==============================] - 10s 723ms/step - loss: 541609.0625 - mean_absolute_error: 476957.7500 - val_loss: 239074.7344 - val_mean_absolute_error: 174200.0312\n",
    "Epoch 5/100\n",
    "14/14 [==============================] - 10s 719ms/step - loss: 530905.8750 - mean_absolute_error: 465881.6250 - val_loss: 257326.7344 - val_mean_absolute_error: 192221.0469\n",
    "Epoch 6/100\n",
    "14/14 [==============================] - 10s 741ms/step - loss: 499593.9688 - mean_absolute_error: 434436.5938 - val_loss: 245766.3750 - val_mean_absolute_error: 180564.5000\n",
    "Epoch 7/100\n",
    "14/14 [==============================] - 10s 702ms/step - loss: 513905.1875 - mean_absolute_error: 448685.5625 - val_loss: 341028.2500 - val_mean_absolute_error: 275794.5938\n",
    "Epoch 8/100\n",
    "14/14 [==============================] - 10s 704ms/step - loss: 508872.9062 - mean_absolute_error: 443545.2812 - val_loss: 274793.5000 - val_mean_absolute_error: 209430.2031\n",
    "Epoch 9/100\n",
    "14/14 [==============================] - 10s 735ms/step - loss: 487597.6875 - mean_absolute_error: 422173.1250 - val_loss: 277503.0938 - val_mean_absolute_error: 211926.9531\n",
    "Epoch 10/100\n",
    "14/14 [==============================] - 10s 695ms/step - loss: 466938.4062 - mean_absolute_error: 401222.0625 - val_loss: 273121.4062 - val_mean_absolute_error: 207335.7344\n",
    "Epoch 11/100\n",
    "14/14 [==============================] - 10s 730ms/step - loss: 453883.8438 - mean_absolute_error: 388108.0312 - val_loss: 290870.6875 - val_mean_absolute_error: 225045.0312\n",
    "Epoch 12/100\n",
    "14/14 [==============================] - 10s 744ms/step - loss: 456425.2812 - mean_absolute_error: 390520.4688 - val_loss: 308467.6875 - val_mean_absolute_error: 242438.1875\n",
    "Epoch 13/100\n",
    "14/14 [==============================] - 10s 703ms/step - loss: 447389.8750 - mean_absolute_error: 381243.5312 - val_loss: 354248.4062 - val_mean_absolute_error: 288002.5938\n",
    "Epoch 14/100\n",
    "14/14 [==============================] - 10s 714ms/step - loss: 421026.9688 - mean_absolute_error: 354658.2500 - val_loss: 326652.0312 - val_mean_absolute_error: 260215.1406\n",
    "Epoch 15/100\n",
    "14/14 [==============================] - 10s 712ms/step - loss: 432086.3750 - mean_absolute_error: 365637.9688 - val_loss: 330699.3125 - val_mean_absolute_error: 264238.8750\n",
    "Epoch 16/100\n",
    "14/14 [==============================] - 10s 738ms/step - loss: 412523.1250 - mean_absolute_error: 346027.8750 - val_loss: 336984.1250 - val_mean_absolute_error: 270456.0625\n",
    "Epoch 17/100\n",
    "14/14 [==============================] - 10s 705ms/step - loss: 391339.6250 - mean_absolute_error: 324731.0625 - val_loss: 410780.8750 - val_mean_absolute_error: 344083.8750\n",
    "Epoch 18/100\n",
    "14/14 [==============================] - 10s 698ms/step - loss: 408166.8438 - mean_absolute_error: 341349.6250 - val_loss: 365459.0312 - val_mean_absolute_error: 298475.9062\n",
    "Epoch 19/100\n",
    "14/14 [==============================] - 10s 720ms/step - loss: 407575.3750 - mean_absolute_error: 340526.5000 - val_loss: 344726.6875 - val_mean_absolute_error: 277647.7812\n",
    "Epoch 20/100\n",
    "14/14 [==============================] - 10s 699ms/step - loss: 384631.2812 - mean_absolute_error: 317540.5625 - val_loss: 396153.8438 - val_mean_absolute_error: 329100.6250\n",
    "Epoch 21/100\n",
    "14/14 [==============================] - 10s 722ms/step - loss: 375080.5938 - mean_absolute_error: 308053.3125 - val_loss: 359594.0938 - val_mean_absolute_error: 292601.9062\n",
    "Epoch 22/100\n",
    "14/14 [==============================] - 10s 719ms/step - loss: 361394.2500 - mean_absolute_error: 294404.5000 - val_loss: 359138.5312 - val_mean_absolute_error: 292158.4375\n",
    "Epoch 23/100\n",
    "14/14 [==============================] - 10s 692ms/step - loss: 334352.2500 - mean_absolute_error: 267358.7812 - val_loss: 376115.2188 - val_mean_absolute_error: 309080.1250\n",
    "Epoch 24/100\n",
    "14/14 [==============================] - 10s 715ms/step - loss: 357713.7188 - mean_absolute_error: 290687.7812 - val_loss: 403204.3438 - val_mean_absolute_error: 336174.7812\n",
    "Epoch 25/100\n",
    "14/14 [==============================] - 10s 721ms/step - loss: 351417.5312 - mean_absolute_error: 284340.6562 - val_loss: 360898.8750 - val_mean_absolute_error: 293797.1875\n",
    "Epoch 26/100\n",
    "14/14 [==============================] - 10s 745ms/step - loss: 344657.2812 - mean_absolute_error: 277567.0312 - val_loss: 378740.8750 - val_mean_absolute_error: 311612.0938\n",
    "Epoch 27/100\n",
    "14/14 [==============================] - 11s 778ms/step - loss: 339932.1875 - mean_absolute_error: 272792.6875 - val_loss: 404977.9688 - val_mean_absolute_error: 337885.4688\n",
    "Epoch 28/100\n",
    "14/14 [==============================] - 11s 804ms/step - loss: 333808.1250 - mean_absolute_error: 266702.4375 - val_loss: 429145.7188 - val_mean_absolute_error: 362089.7188\n",
    "Epoch 29/100\n",
    "14/14 [==============================] - 1157s 792ms/step - loss: 318266.7188 - mean_absolute_error: 251209.5000 - val_loss: 408617.5625 - val_mean_absolute_error: 341564.1250\n",
    "Epoch 30/100\n",
    "14/14 [==============================] - 961s 74s/step - loss: 322115.9062 - mean_absolute_error: 255104.5625 - val_loss: 430971.9062 - val_mean_absolute_error: 364020.4688\n",
    "Epoch 31/100\n",
    "14/14 [==============================] - 7s 486ms/step - loss: 323097.3750 - mean_absolute_error: 256204.4062 - val_loss: 399786.6250 - val_mean_absolute_error: 332997.0938\n",
    "Epoch 32/100\n",
    "14/14 [==============================] - 63s 5s/step - loss: 319205.7812 - mean_absolute_error: 252473.8438 - val_loss: 409243.7812 - val_mean_absolute_error: 342530.8125\n",
    "Epoch 33/100\n",
    "14/14 [==============================] - 12s 842ms/step - loss: 334843.5000 - mean_absolute_error: 268149.0000 - val_loss: 466733.3438 - val_mean_absolute_error: 400129.7812\n",
    "Training model  2\n",
    "Number of Training Images 428\n",
    "Mean of Training Images 3777661.214953271\n",
    "Number of datapoints in validation set 142\n",
    "Mean of validation set 3785225.352112676\n",
    "Compiling Model\n",
    "Fitting Model\n",
    "Epoch 1/100\n",
    "14/14 [==============================] - 19s 748ms/step - loss: 594444.6875 - mean_absolute_error: 529822.8125 - val_loss: 337849.0000 - val_mean_absolute_error: 273027.4688\n",
    "Epoch 2/100\n",
    "14/14 [==============================] - 10s 713ms/step - loss: 574361.1250 - mean_absolute_error: 509517.5938 - val_loss: 225735.3125 - val_mean_absolute_error: 160868.1406\n",
    "Epoch 3/100\n",
    "14/14 [==============================] - 11s 785ms/step - loss: 558201.5000 - mean_absolute_error: 493295.1875 - val_loss: 249052.2812 - val_mean_absolute_error: 184058.0781\n",
    "Epoch 4/100\n",
    "14/14 [==============================] - 12s 845ms/step - loss: 549148.5000 - mean_absolute_error: 484082.0938 - val_loss: 260870.8125 - val_mean_absolute_error: 195703.4062\n",
    "Epoch 5/100\n",
    "14/14 [==============================] - 12s 889ms/step - loss: 517994.4062 - mean_absolute_error: 452749.4688 - val_loss: 240783.6094 - val_mean_absolute_error: 175417.2188\n",
    "Epoch 6/100\n",
    "14/14 [==============================] - 12s 855ms/step - loss: 494045.6875 - mean_absolute_error: 428616.8750 - val_loss: 274938.2188 - val_mean_absolute_error: 209497.7812\n",
    "Epoch 7/100\n",
    "14/14 [==============================] - 11s 807ms/step - loss: 500947.7500 - mean_absolute_error: 435396.1875 - val_loss: 259458.5625 - val_mean_absolute_error: 193738.6250\n",
    "Epoch 8/100\n",
    "14/14 [==============================] - 10s 752ms/step - loss: 480350.1250 - mean_absolute_error: 414486.1250 - val_loss: 260329.4375 - val_mean_absolute_error: 194359.4844\n",
    "Epoch 9/100\n",
    "14/14 [==============================] - 10s 745ms/step - loss: 458090.8438 - mean_absolute_error: 392095.6875 - val_loss: 286680.0312 - val_mean_absolute_error: 220578.2969\n",
    "Epoch 10/100\n",
    "14/14 [==============================] - 1038s 80s/step - loss: 442736.1250 - mean_absolute_error: 376577.6875 - val_loss: 315813.4375 - val_mean_absolute_error: 249538.1719\n",
    "Epoch 11/100\n",
    "14/14 [==============================] - 57s 4s/step - loss: 437163.5000 - mean_absolute_error: 370776.3438 - val_loss: 281243.9062 - val_mean_absolute_error: 214792.6406\n",
    "Epoch 12/100\n",
    "14/14 [==============================] - 18s 1s/step - loss: 432979.9375 - mean_absolute_error: 366469.0000 - val_loss: 290721.0000 - val_mean_absolute_error: 224150.3906\n",
    "Epoch 13/100\n",
    "14/14 [==============================] - 11s 781ms/step - loss: 420175.4688 - mean_absolute_error: 353549.9062 - val_loss: 350074.1875 - val_mean_absolute_error: 283348.2188\n",
    "Epoch 14/100\n",
    "14/14 [==============================] - 10s 722ms/step - loss: 391030.1250 - mean_absolute_error: 324216.4062 - val_loss: 307617.8125 - val_mean_absolute_error: 240728.6250\n",
    "Epoch 15/100\n",
    "14/14 [==============================] - 10s 742ms/step - loss: 390084.8750 - mean_absolute_error: 323121.3125 - val_loss: 299886.6562 - val_mean_absolute_error: 232864.5000\n",
    "Epoch 16/100\n",
    "14/14 [==============================] - 13s 921ms/step - loss: 377858.2812 - mean_absolute_error: 310788.9688 - val_loss: 300083.7188 - val_mean_absolute_error: 233031.3594\n",
    "Epoch 17/100\n",
    "14/14 [==============================] - 14s 988ms/step - loss: 394889.9688 - mean_absolute_error: 327762.2812 - val_loss: 332557.7188 - val_mean_absolute_error: 265355.2500\n",
    "Epoch 18/100\n",
    "14/14 [==============================] - 12s 890ms/step - loss: 366473.4062 - mean_absolute_error: 299177.2188 - val_loss: 411577.1250 - val_mean_absolute_error: 344179.4688\n",
    "Epoch 19/100\n",
    "14/14 [==============================] - 11s 820ms/step - loss: 379119.0312 - mean_absolute_error: 311734.2188 - val_loss: 325276.0312 - val_mean_absolute_error: 257892.8125\n",
    "Epoch 20/100\n",
    "14/14 [==============================] - 11s 790ms/step - loss: 357330.0312 - mean_absolute_error: 289901.0938 - val_loss: 334540.8438 - val_mean_absolute_error: 267039.4688\n",
    "Epoch 21/100\n",
    "14/14 [==============================] - 10s 748ms/step - loss: 347428.5000 - mean_absolute_error: 279912.2188 - val_loss: 348953.1250 - val_mean_absolute_error: 281462.1875\n",
    "Epoch 22/100\n",
    "14/14 [==============================] - 10s 755ms/step - loss: 357096.7188 - mean_absolute_error: 289625.7188 - val_loss: 340064.6250 - val_mean_absolute_error: 272697.4688\n",
    "Epoch 23/100\n",
    "14/14 [==============================] - 11s 782ms/step - loss: 332384.1250 - mean_absolute_error: 265054.5312 - val_loss: 414186.3438 - val_mean_absolute_error: 346791.5625\n",
    "Epoch 24/100\n",
    "14/14 [==============================] - 11s 828ms/step - loss: 364455.6562 - mean_absolute_error: 297049.1562 - val_loss: 348161.2812 - val_mean_absolute_error: 280768.1875\n",
    "Epoch 25/100\n",
    "14/14 [==============================] - 12s 860ms/step - loss: 372005.7188 - mean_absolute_error: 304587.9688 - val_loss: 372622.0938 - val_mean_absolute_error: 305184.7812\n",
    "Epoch 26/100\n",
    "14/14 [==============================] - 12s 874ms/step - loss: 353466.8125 - mean_absolute_error: 285958.4375 - val_loss: 385900.7812 - val_mean_absolute_error: 318373.0625\n",
    "Epoch 27/100\n",
    "14/14 [==============================] - 11s 813ms/step - loss: 338015.6562 - mean_absolute_error: 270526.0312 - val_loss: 354871.2500 - val_mean_absolute_error: 287459.8125\n",
    "Epoch 28/100\n",
    "14/14 [==============================] - 11s 817ms/step - loss: 319256.4375 - mean_absolute_error: 251874.7031 - val_loss: 390952.9688 - val_mean_absolute_error: 323557.2188\n",
    "Epoch 29/100\n",
    "14/14 [==============================] - 12s 832ms/step - loss: 336983.6250 - mean_absolute_error: 269571.5000 - val_loss: 377665.5625 - val_mean_absolute_error: 310288.4375\n",
    "Epoch 30/100\n",
    "14/14 [==============================] - 12s 842ms/step - loss: 345121.9688 - mean_absolute_error: 277733.5625 - val_loss: 366656.3125 - val_mean_absolute_error: 299291.5938\n",
    "Epoch 31/100\n",
    "14/14 [==============================] - 12s 844ms/step - loss: 318467.8750 - mean_absolute_error: 251124.0156 - val_loss: 388284.2500 - val_mean_absolute_error: 320980.9062\n",
    "Epoch 32/100\n",
    "14/14 [==============================] - 12s 901ms/step - loss: 323904.1250 - mean_absolute_error: 256609.4375 - val_loss: 377675.1875 - val_mean_absolute_error: 310443.4375\n",
    "Training model  3\n",
    "Number of Training Images 428\n",
    "Mean of Training Images 3804058.4112149533\n",
    "Number of datapoints in validation set 142\n",
    "Mean of validation set 3705661.971830986\n",
    "Compiling Model\n",
    "Fitting Model\n",
    "Epoch 1/100\n",
    "14/14 [==============================] - 34s 960ms/step - loss: 543398.8750 - mean_absolute_error: 478339.5938 - val_loss: 220297.3594 - val_mean_absolute_error: 154944.3125\n",
    "Epoch 2/100\n",
    "14/14 [==============================] - 10s 725ms/step - loss: 564135.0000 - mean_absolute_error: 498674.0625 - val_loss: 229988.3750 - val_mean_absolute_error: 164513.2500\n",
    "Epoch 3/100\n",
    "14/14 [==============================] - 12s 840ms/step - loss: 514387.0000 - mean_absolute_error: 448910.2812 - val_loss: 307258.8438 - val_mean_absolute_error: 241771.7188\n",
    "Epoch 4/100\n",
    "14/14 [==============================] - 13s 964ms/step - loss: 485877.9375 - mean_absolute_error: 420319.0000 - val_loss: 246319.2656 - val_mean_absolute_error: 180599.3281\n",
    "Epoch 5/100\n",
    "14/14 [==============================] - 12s 879ms/step - loss: 495076.5000 - mean_absolute_error: 429275.9688 - val_loss: 328953.3750 - val_mean_absolute_error: 263035.6250\n",
    "Epoch 6/100\n",
    "14/14 [==============================] - 11s 779ms/step - loss: 487756.3438 - mean_absolute_error: 421796.5625 - val_loss: 307476.0938 - val_mean_absolute_error: 241422.3125\n",
    "Epoch 7/100\n",
    "14/14 [==============================] - 10s 730ms/step - loss: 463117.9688 - mean_absolute_error: 396978.3438 - val_loss: 311730.6562 - val_mean_absolute_error: 245448.9062\n",
    "Epoch 8/100\n",
    "14/14 [==============================] - 10s 753ms/step - loss: 473244.9375 - mean_absolute_error: 406930.4062 - val_loss: 266091.8438 - val_mean_absolute_error: 199755.3906\n",
    "Epoch 9/100\n",
    "14/14 [==============================] - 11s 814ms/step - loss: 438518.4375 - mean_absolute_error: 372085.5312 - val_loss: 313498.0000 - val_mean_absolute_error: 246993.9375\n",
    "Epoch 10/100\n",
    "14/14 [==============================] - 13s 947ms/step - loss: 445525.3125 - mean_absolute_error: 378944.5000 - val_loss: 302413.8125 - val_mean_absolute_error: 235818.5781\n",
    "Epoch 11/100\n",
    "14/14 [==============================] - 12s 887ms/step - loss: 417398.8750 - mean_absolute_error: 350718.6250 - val_loss: 291381.0000 - val_mean_absolute_error: 224635.6875\n",
    "Epoch 12/100\n",
    "14/14 [==============================] - 11s 797ms/step - loss: 419253.3750 - mean_absolute_error: 352512.2188 - val_loss: 281188.4688 - val_mean_absolute_error: 214433.0156\n",
    "Epoch 13/100\n",
    "14/14 [==============================] - 11s 766ms/step - loss: 407004.5312 - mean_absolute_error: 340203.5625 - val_loss: 288119.2812 - val_mean_absolute_error: 221286.3125\n",
    "Epoch 14/100\n",
    "14/14 [==============================] - 11s 778ms/step - loss: 384024.3125 - mean_absolute_error: 317150.6250 - val_loss: 298525.9062 - val_mean_absolute_error: 231641.4062\n",
    "Epoch 15/100\n",
    "14/14 [==============================] - 12s 839ms/step - loss: 370376.4062 - mean_absolute_error: 303488.0312 - val_loss: 308221.7188 - val_mean_absolute_error: 241343.1875\n",
    "Epoch 16/100\n",
    "14/14 [==============================] - 12s 856ms/step - loss: 364170.5938 - mean_absolute_error: 297240.7500 - val_loss: 312433.1250 - val_mean_absolute_error: 245397.5156\n",
    "Epoch 17/100\n",
    "14/14 [==============================] - 13s 913ms/step - loss: 376569.0000 - mean_absolute_error: 309496.2500 - val_loss: 342964.6875 - val_mean_absolute_error: 275883.5625\n",
    "Epoch 18/100\n",
    "14/14 [==============================] - 12s 889ms/step - loss: 387987.8125 - mean_absolute_error: 320841.9062 - val_loss: 314151.5000 - val_mean_absolute_error: 246918.3594\n",
    "Epoch 19/100\n",
    "14/14 [==============================] - 11s 816ms/step - loss: 390662.5312 - mean_absolute_error: 323387.1250 - val_loss: 345027.8750 - val_mean_absolute_error: 277713.0312\n",
    "Epoch 20/100\n",
    "14/14 [==============================] - 11s 780ms/step - loss: 365682.5000 - mean_absolute_error: 298364.9062 - val_loss: 345103.3750 - val_mean_absolute_error: 277811.7188\n",
    "Epoch 21/100\n",
    "14/14 [==============================] - 11s 793ms/step - loss: 368060.8750 - mean_absolute_error: 300794.5312 - val_loss: 331226.6250 - val_mean_absolute_error: 263996.0000\n",
    "Epoch 22/100\n",
    "14/14 [==============================] - 11s 786ms/step - loss: 339288.5000 - mean_absolute_error: 272014.9688 - val_loss: 332100.9062 - val_mean_absolute_error: 264798.4688\n",
    "Epoch 23/100\n",
    "14/14 [==============================] - 11s 803ms/step - loss: 332372.7812 - mean_absolute_error: 265107.2188 - val_loss: 333668.6562 - val_mean_absolute_error: 266445.0625\n",
    "Epoch 24/100\n",
    "14/14 [==============================] - 12s 851ms/step - loss: 331105.4062 - mean_absolute_error: 263907.5938 - val_loss: 338430.9062 - val_mean_absolute_error: 271236.0312\n",
    "Epoch 25/100\n",
    "14/14 [==============================] - 12s 858ms/step - loss: 320821.5938 - mean_absolute_error: 253676.8906 - val_loss: 346550.3125 - val_mean_absolute_error: 279451.3438\n",
    "Epoch 26/100\n",
    "14/14 [==============================] - 12s 898ms/step - loss: 343101.4688 - mean_absolute_error: 275978.8125 - val_loss: 357056.7500 - val_mean_absolute_error: 289967.6250\n",
    "Epoch 27/100\n",
    "14/14 [==============================] - 13s 907ms/step - loss: 315147.6250 - mean_absolute_error: 248177.8750 - val_loss: 359435.6875 - val_mean_absolute_error: 292542.9375\n",
    "Epoch 28/100\n",
    "14/14 [==============================] - 11s 789ms/step - loss: 351723.3125 - mean_absolute_error: 284858.6875 - val_loss: 357094.7188 - val_mean_absolute_error: 290207.7500\n",
    "Epoch 29/100\n",
    "14/14 [==============================] - 10s 740ms/step - loss: 317880.8750 - mean_absolute_error: 250962.3906 - val_loss: 361685.8750 - val_mean_absolute_error: 294751.0938\n",
    "Epoch 30/100\n",
    "14/14 [==============================] - 10s 755ms/step - loss: 335174.6875 - mean_absolute_error: 268193.1875 - val_loss: 361371.9688 - val_mean_absolute_error: 294323.9688\n",
    "Epoch 31/100\n",
    "14/14 [==============================] - 1471s 113s/step - loss: 330258.4062 - mean_absolute_error: 263308.5312 - val_loss: 358856.0000 - val_mean_absolute_error: 292041.4375\n",
    "5/5 [==============================] - 3s 223ms/step\n",
    "5/5 [==============================] - 52s 4s/step\n",
    "143\n",
    "5/5 [==============================] - 425s 220ms/step\n",
    "142\n",
    "5/5 [==============================] - 3s 228ms/step"
   ]
  },
  {
   "cell_type": "code",
   "execution_count": null,
   "metadata": {},
   "outputs": [
    {
     "name": "stdout",
     "output_type": "stream",
     "text": [
      "5/5 [==============================] - 3s 452ms/step\n",
      "5/5 [==============================] - 2s 398ms/step\n",
      "5/5 [==============================] - 2s 396ms/step\n",
      "5/5 [==============================] - 2s 456ms/step\n",
      "R2: 0.307132959238664, MAE: 1280474.0625, Percentage Error: 34.14149486272685, MSE: 3341608789459.375\n"
     ]
    }
   ],
   "source": [
    "predictions = N_CNN_RF_V2_model.predict(test_images, test_features)\n",
    "r2, mae, percentage_error, mse = regression_stats(test_prices, predictions)\n",
    "print(f\"R2: {r2}, MAE: {mae}, Percentage Error: {percentage_error}, MSE: {mse}\")\n"
   ]
  },
  {
   "cell_type": "code",
   "execution_count": null,
   "metadata": {},
   "outputs": [
    {
     "name": "stdout",
     "output_type": "stream",
     "text": [
      "[0.99385455 0.00076512 0.         0.00094047 0.         0.0003176\n",
      " 0.00062462 0.00077518 0.00028537 0.00053495 0.00093023 0.0009719 ]\n"
     ]
    }
   ],
   "source": [
    "np.set_printoptions(suppress=True)\n",
    "print(N_CNN_RF_V2_model.feature_importances_)"
   ]
  },
  {
   "cell_type": "markdown",
   "metadata": {},
   "source": [
    "5/5 [==============================] - 2s 383ms/step\n",
    "5/5 [==============================] - 2s 379ms/step\n",
    "5/5 [==============================] - 2s 377ms/step\n",
    "5/5 [==============================] - 2s 391ms/step\n",
    "R2: 0.5012649011306909, MAE: 1074674.875, Percentage Error: 29.00969179879741, MSE: 2405335355773.75"
   ]
  },
  {
   "cell_type": "markdown",
   "metadata": {},
   "source": [
    "<!-- decoded_images = AE.decode(AE.encode(test_images))\n",
    "from skimage.metrics import structural_similarity as ssim\n",
    "\n",
    "img_shape = train2_images.shape\n",
    "print(img_shape)\n",
    "def recon_err1(images, encoded_images):\n",
    "  return tf.square(images - encoded_images)\n",
    "\n",
    "def recon_err2(images, encoded_images): \n",
    "  return tf.reduce_mean(tf.square(images - encoded_images), axis=(1,2,3))\n",
    "\n",
    "def recon_err3(images, encoded_images):\n",
    "  normalized_images = images / 255.0\n",
    "  normalized_encoded_images = encoded_images / 255.0 \n",
    "  def calc_ssim(normalized_img, normalized_encoded_img):\n",
    "    return ssim(normalized_img, normalized_encoded_img, channel_axis=2, data_range=1)\n",
    "  return [calc_ssim(img, encoded_img) for img, encoded_img in zip(normalized_images, normalized_encoded_images)]\n",
    "\n",
    "#recon1 = recon_err1(test_images, decoded_images)\n",
    "#recon2 = recon_err2(test_images, decoded_images)\n",
    "recon3 = recon_err3(test_images, decoded_images)\n",
    "print(recon3)\n",
    "reconstructions_errors = recon3\n",
    "\n",
    "#Get the reconstructions of the best and worst predictions\n",
    "n = 10\n",
    "best5 = np.argsort(reconstructions_errors)[:n]\n",
    "worst5 = np.argsort(reconstructions_errors)[::-1][:n]\n",
    "print(best5)\n",
    "print(worst5)\n",
    "for i in range(n):\n",
    "    idx = best5[i]\n",
    "    image = test_images[idx]\n",
    "    print(\"Reconstruction Error\", reconstructions_errors[idx])\n",
    "    encoded_img = AE.encode(np.expand_dims(image, axis=0))\n",
    "    decoded_img = AE.decode(encoded_img)\n",
    "    encoded_img = np.squeeze(encoded_img)\n",
    "    decoded_img = np.squeeze(decoded_img)\n",
    "    #Turn decoded_img into intergers\n",
    "    decoded_img = decoded_img.astype(int)\n",
    "    fix, ax = plt.subplots(1, 2, figsize=(15, 5))\n",
    "    ax[0].imshow(image)\n",
    "    ax[0].set_title(\"Original Image\")\n",
    "    ax[1].imshow(decoded_img)\n",
    "    ax[1].set_title(\"Reconstructed Image\")\n",
    "    plt.show()\n",
    "\n",
    "print(\"\\n\\n\\n\\n\")\n",
    "for i in range(n):\n",
    "    idx = worst5[i]\n",
    "    image = test_images[idx]\n",
    "    print(\"Reconstruction Error\", reconstructions_errors[idx])\n",
    "    encoded_img = AE.encode(np.expand_dims(image, axis=0))\n",
    "    decoded_img = AE.decode(encoded_img)\n",
    "    encoded_img = np.squeeze(encoded_img)\n",
    "    decoded_img = np.squeeze(decoded_img)\n",
    "    #Turn decoded_img into intergers\n",
    "    decoded_img = decoded_img.astype(int)\n",
    "    fix, ax = plt.subplots(1, 2, figsize=(15, 5))\n",
    "    ax[0].imshow(image)\n",
    "    ax[0].set_title(\"Original Image\")\n",
    "    ax[1].imshow(decoded_img)\n",
    "    ax[1].set_title(\"Reconstructed Image\")\n",
    "    plt.show() -->"
   ]
  }
 ],
 "metadata": {
  "kernelspec": {
   "display_name": "penv",
   "language": "python",
   "name": "python3"
  },
  "language_info": {
   "codemirror_mode": {
    "name": "ipython",
    "version": 3
   },
   "file_extension": ".py",
   "mimetype": "text/x-python",
   "name": "python",
   "nbconvert_exporter": "python",
   "pygments_lexer": "ipython3",
   "version": "3.11.9"
  }
 },
 "nbformat": 4,
 "nbformat_minor": 2
}
