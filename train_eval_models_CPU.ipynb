{
 "cells": [
  {
   "cell_type": "code",
   "execution_count": 40,
   "metadata": {},
   "outputs": [],
   "source": [
    "import os\n",
    "import pickle\n",
    "import numpy as np\n",
    "import datetime\n",
    "import json\n",
    "from multiprocessing import Process\n",
    "from multiprocess import Process\n",
    "\n",
    "import keras\n",
    "from tensorflow.keras.utils import plot_model\n",
    "from tensorflow.keras.applications import VGG16, MobileNetV2, MobileNetV3Small\n",
    "\n",
    "from models import *\n",
    "from utils import regression_stats\n",
    "from img_utils import data_to_df, preprocess_images, set_gpu, set_cpu\n",
    "\n",
    "import matplotlib.pyplot as plt\n",
    "%reload_ext autoreload\n",
    "%autoreload 2"
   ]
  },
  {
   "cell_type": "code",
   "execution_count": 41,
   "metadata": {},
   "outputs": [
    {
     "name": "stderr",
     "output_type": "stream",
     "text": [
      "Processing output/train/train_1: 100%|██████████| 311/311 [00:00<00:00, 201114.48it/s]\n",
      "Processing output/train/train_2: 100%|██████████| 312/312 [00:00<00:00, 304118.72it/s]\n",
      "Processing output/valid: 100%|██████████| 89/89 [00:00<00:00, 209951.10it/s]\n",
      "Processing output/test: 100%|██████████| 178/178 [00:00<00:00, 204600.20it/s]\n",
      "Preprocessing: 100%|██████████| 4/4 [00:00<00:00, 18.39it/s]\n"
     ]
    },
    {
     "name": "stdout",
     "output_type": "stream",
     "text": [
      "Removing outliers...\n",
      "Datapoints before: 829\n"
     ]
    },
    {
     "name": "stderr",
     "output_type": "stream",
     "text": [
      "Removing outliers: 100%|██████████| 4/4 [00:00<00:00, 106.04it/s]\n"
     ]
    },
    {
     "name": "stdout",
     "output_type": "stream",
     "text": [
      "Datapoints after: 813\n"
     ]
    },
    {
     "data": {
      "text/html": [
       "<div>\n",
       "<style scoped>\n",
       "    .dataframe tbody tr th:only-of-type {\n",
       "        vertical-align: middle;\n",
       "    }\n",
       "\n",
       "    .dataframe tbody tr th {\n",
       "        vertical-align: top;\n",
       "    }\n",
       "\n",
       "    .dataframe thead th {\n",
       "        text-align: right;\n",
       "    }\n",
       "</style>\n",
       "<table border=\"1\" class=\"dataframe\">\n",
       "  <thead>\n",
       "    <tr style=\"text-align: right;\">\n",
       "      <th></th>\n",
       "      <th>postal_code</th>\n",
       "      <th>type</th>\n",
       "      <th>price</th>\n",
       "      <th>size</th>\n",
       "      <th>basement_size</th>\n",
       "      <th>rooms</th>\n",
       "      <th>year_built</th>\n",
       "      <th>year_rebuilt</th>\n",
       "      <th>energy_label</th>\n",
       "      <th>postal_avg_sqm_price</th>\n",
       "      <th>lat</th>\n",
       "      <th>lng</th>\n",
       "      <th>image_floorplan</th>\n",
       "    </tr>\n",
       "  </thead>\n",
       "  <tbody>\n",
       "    <tr>\n",
       "      <th>0</th>\n",
       "      <td>64</td>\n",
       "      <td>0</td>\n",
       "      <td>1750000</td>\n",
       "      <td>40</td>\n",
       "      <td>0</td>\n",
       "      <td>2.0</td>\n",
       "      <td>1944.0</td>\n",
       "      <td>1944.0</td>\n",
       "      <td>4</td>\n",
       "      <td>32687.50</td>\n",
       "      <td>55.736966</td>\n",
       "      <td>12.513117</td>\n",
       "      <td>[[[255, 255, 255], [255, 255, 255], [255, 255,...</td>\n",
       "    </tr>\n",
       "    <tr>\n",
       "      <th>1</th>\n",
       "      <td>37</td>\n",
       "      <td>0</td>\n",
       "      <td>8500000</td>\n",
       "      <td>138</td>\n",
       "      <td>0</td>\n",
       "      <td>4.0</td>\n",
       "      <td>2005.0</td>\n",
       "      <td>2005.0</td>\n",
       "      <td>4</td>\n",
       "      <td>55737.75</td>\n",
       "      <td>55.698085</td>\n",
       "      <td>12.594470</td>\n",
       "      <td>[[[255, 255, 255], [255, 255, 255], [255, 255,...</td>\n",
       "    </tr>\n",
       "    <tr>\n",
       "      <th>3</th>\n",
       "      <td>40</td>\n",
       "      <td>0</td>\n",
       "      <td>5995000</td>\n",
       "      <td>139</td>\n",
       "      <td>0</td>\n",
       "      <td>5.0</td>\n",
       "      <td>1935.0</td>\n",
       "      <td>2009.0</td>\n",
       "      <td>4</td>\n",
       "      <td>44946.75</td>\n",
       "      <td>55.654361</td>\n",
       "      <td>12.601795</td>\n",
       "      <td>[[[255, 255, 255], [255, 255, 255], [255, 255,...</td>\n",
       "    </tr>\n",
       "    <tr>\n",
       "      <th>4</th>\n",
       "      <td>36</td>\n",
       "      <td>0</td>\n",
       "      <td>4495000</td>\n",
       "      <td>76</td>\n",
       "      <td>0</td>\n",
       "      <td>3.0</td>\n",
       "      <td>1932.0</td>\n",
       "      <td>1932.0</td>\n",
       "      <td>4</td>\n",
       "      <td>50502.00</td>\n",
       "      <td>55.691502</td>\n",
       "      <td>12.529448</td>\n",
       "      <td>[[[255, 255, 255], [255, 255, 255], [255, 255,...</td>\n",
       "    </tr>\n",
       "    <tr>\n",
       "      <th>5</th>\n",
       "      <td>62</td>\n",
       "      <td>0</td>\n",
       "      <td>2995000</td>\n",
       "      <td>70</td>\n",
       "      <td>0</td>\n",
       "      <td>3.0</td>\n",
       "      <td>1963.0</td>\n",
       "      <td>1963.0</td>\n",
       "      <td>5</td>\n",
       "      <td>36072.25</td>\n",
       "      <td>55.812616</td>\n",
       "      <td>12.469592</td>\n",
       "      <td>[[[255, 255, 255], [255, 255, 255], [255, 255,...</td>\n",
       "    </tr>\n",
       "  </tbody>\n",
       "</table>\n",
       "</div>"
      ],
      "text/plain": [
       "   postal_code  type    price  size  basement_size  rooms  year_built  \\\n",
       "0           64     0  1750000    40              0    2.0      1944.0   \n",
       "1           37     0  8500000   138              0    4.0      2005.0   \n",
       "3           40     0  5995000   139              0    5.0      1935.0   \n",
       "4           36     0  4495000    76              0    3.0      1932.0   \n",
       "5           62     0  2995000    70              0    3.0      1963.0   \n",
       "\n",
       "   year_rebuilt  energy_label  postal_avg_sqm_price        lat        lng  \\\n",
       "0        1944.0             4              32687.50  55.736966  12.513117   \n",
       "1        2005.0             4              55737.75  55.698085  12.594470   \n",
       "3        2009.0             4              44946.75  55.654361  12.601795   \n",
       "4        1932.0             4              50502.00  55.691502  12.529448   \n",
       "5        1963.0             5              36072.25  55.812616  12.469592   \n",
       "\n",
       "                                     image_floorplan  \n",
       "0  [[[255, 255, 255], [255, 255, 255], [255, 255,...  \n",
       "1  [[[255, 255, 255], [255, 255, 255], [255, 255,...  \n",
       "3  [[[255, 255, 255], [255, 255, 255], [255, 255,...  \n",
       "4  [[[255, 255, 255], [255, 255, 255], [255, 255,...  \n",
       "5  [[[255, 255, 255], [255, 255, 255], [255, 255,...  "
      ]
     },
     "metadata": {},
     "output_type": "display_data"
    },
    {
     "name": "stdout",
     "output_type": "stream",
     "text": [
      "Length of datasets:\n",
      "Train 1: 284\n",
      "Train 2: 286\n",
      "Valid: 83\n",
      "Test: 160\n"
     ]
    }
   ],
   "source": [
    "from img_utils import data_to_df\n",
    "#try reloading the module\n",
    "IMAGE_WIDTH: int = 224\n",
    "IMAGE_HEIGHT: int = 224\n",
    "\n",
    "IMG_WIDTH_448: int = 448\n",
    "IMG_HEIGHT_448: int = 448\n",
    "\n",
    "\n",
    "# Load Data\n",
    "train_1_path: str = \"output/train/train_1\"\n",
    "train_2_path: str = \"output/train/train_2\"\n",
    "valid_path: str = \"output/valid\"\n",
    "test_path: str = \"output/test\"\n",
    "\n",
    "# train_1_path: str = \"output/train/train_1\"\n",
    "# train_2_path: str = \"output/train/train_2\"\n",
    "# valid_path: str = \"output/valid\"\n",
    "# test_path: str = \"output/test\"\n",
    "\n",
    "train1_df, train2_df, valid_df, test_df = data_to_df(\n",
    "    [train_1_path, train_2_path, valid_path, test_path], preprocess=True, rm_outliers=True\n",
    ")\n",
    "\n",
    "display(train1_df.head())\n",
    "# Print the lenghts of the datasets\n",
    "print(\"Length of datasets:\")\n",
    "print(f\"Train 1: {len(train1_df)}\")\n",
    "print(f\"Train 2: {len(train2_df)}\")\n",
    "print(f\"Valid: {len(valid_df)}\")\n",
    "print(f\"Test: {len(test_df)}\")\n",
    "\n",
    "# TODO: Would be better with this format\n",
    "# train_images: np.array = preprocess_images(\n",
    "#     train1_df[\"image_floorplan\"], IMAGE_WIDTH, IMAGE_HEIGHT, True, False, False\n",
    "# )\n",
    "\n",
    "\n",
    "#### Train Set 1 ####\n",
    "train1_features = train1_df.drop(columns=[\"image_floorplan\", \"price\"])\n",
    "train1_images: np.array = preprocess_images(\n",
    "    train1_df, \"image_floorplan\", IMAGE_WIDTH, IMAGE_HEIGHT, True, False, False\n",
    ")\n",
    "train1_images_448: np.array = preprocess_images(    \n",
    "    train1_df, \"image_floorplan\", IMG_WIDTH_448, IMG_HEIGHT_448, True, False, False\n",
    ")\n",
    "train1_prices: np.array = train1_df[\"price\"].values\n",
    "\n",
    "\n",
    "#### Train Set 2 ####\n",
    "train2_features = train2_df.drop(columns=[\"image_floorplan\", \"price\"])\n",
    "train2_images: np.array = preprocess_images(\n",
    "    train2_df, \"image_floorplan\", IMAGE_WIDTH, IMAGE_HEIGHT, True, False, False\n",
    ")\n",
    "train2_images_448: np.array = preprocess_images(\n",
    "    train2_df, \"image_floorplan\", IMG_WIDTH_448, IMG_HEIGHT_448, True, False, False\n",
    ")\n",
    "train2_prices: np.array = train2_df[\"price\"].values\n",
    "\n",
    "\n",
    "#### Validation Set ####\n",
    "valid_features = valid_df.drop(columns=[\"image_floorplan\", \"price\"])\n",
    "valid_images: np.array = preprocess_images(\n",
    "    valid_df, \"image_floorplan\", IMAGE_WIDTH, IMAGE_HEIGHT, True, False, False\n",
    ")\n",
    "valid_images_448: np.array = preprocess_images(\n",
    "    valid_df, \"image_floorplan\", IMG_WIDTH_448, IMG_HEIGHT_448, True, False, False\n",
    ")\n",
    "valid_prices: np.array = valid_df[\"price\"].values\n",
    "\n",
    "\n",
    "#### Test Set ####\n",
    "test_features = test_df.drop(columns=[\"image_floorplan\", \"price\"])\n",
    "test_images: np.array = preprocess_images(\n",
    "    test_df, \"image_floorplan\", IMAGE_WIDTH, IMAGE_HEIGHT, True, False, False\n",
    ")\n",
    "test_images_448: np.array = preprocess_images(\n",
    "    test_df, \"image_floorplan\", IMG_WIDTH_448, IMG_HEIGHT_448, True, False, False\n",
    ")\n",
    "\n",
    "test_prices: np.array = test_df[\"price\"].values"
   ]
  },
  {
   "cell_type": "code",
   "execution_count": 42,
   "metadata": {},
   "outputs": [],
   "source": [
    "def save_expected_predicted(test_prices, test_predictions, img_dir):\n",
    "        #Set X and Y axis to [0, 9.000.000]\n",
    "    #plt.xlim(0, 9999999)\n",
    "    #plt.ylim(0, 9999999)\n",
    "    plt.scatter(test_prices, test_predictions)\n",
    "    plt.xlabel(\"Expected Price\")\n",
    "    plt.ylabel(\"Predicted Price\")\n",
    "    plt.title(\"Expected vs Predicted Price\")\n",
    "    try: \n",
    "        plt.plot([min(test_prices), max(test_prices)], [min(test_prices), max(test_prices)], color='red')\n",
    "    except:\n",
    "        pass\n",
    "    plt.savefig(f\"{img_dir}/expected_vs_predicted.png\")\n",
    "    plt.close()\n",
    "\n",
    "def save_residuals(test_prices, test_predictions, img_dir):\n",
    "    residuals = test_prices - test_predictions.reshape(-1)\n",
    "    plt.scatter(test_predictions, residuals)\n",
    "    try:\n",
    "        plt.hlines(y=0, xmin=test_prices.min(), xmax=test_prices.max(), colors=\"r\")\n",
    "    except:\n",
    "        pass\n",
    "    plt.xlabel(\"Expected Price\")\n",
    "    plt.ylabel(\"Residuals\")\n",
    "    plt.title(\"Residuals\")\n",
    "    plt.savefig(f\"{img_dir}/residuals.png\")\n",
    "    plt.close()\n",
    "\n",
    "def get_saliency_map(model, image):\n",
    "    image = np.expand_dims(image, axis=0)\n",
    "    image = image / 255.0\n",
    "    image = image.astype(np.float32)\n",
    "    image = tf.convert_to_tensor(image)\n",
    "    with tf.GradientTape() as tape:\n",
    "        tape.watch(image)\n",
    "        prediction = model(image)\n",
    "    gradients = tape.gradient(prediction, image)\n",
    "    gradients = tf.squeeze(gradients)\n",
    "    gradients = tf.reduce_max(gradients, axis=-1)\n",
    "    gradients = gradients.numpy()\n",
    "    gradients = (gradients - np.min(gradients)) / (np.max(gradients) - np.min(gradients))\n",
    "    return gradients\n",
    "\n",
    "def save_worst_best_predictions(model, test_predictions, test_prices, test_images, img_dir):\n",
    "    residuals = test_prices - test_predictions.reshape(-1)\n",
    "    distances = np.abs(test_prices - test_predictions.reshape(-1))\n",
    "    worst_predictions = np.argsort(distances)[-8:]\n",
    "    best_predictions = np.argsort(distances)[:8]\n",
    "    test_images = np.array(test_images)\n",
    "    for i, idx in enumerate(worst_predictions):\n",
    "        image = test_images[idx]\n",
    "        price = test_prices[idx]\n",
    "        prediction = test_predictions[idx]\n",
    "        residual = residuals[idx]\n",
    "        plt.imshow(image)\n",
    "        textstr = '\\n'.join((\n",
    "            f\"Price: {price}\",\n",
    "            f\"Predicted Price: {prediction}\",\n",
    "            f\"Residual: {residual}\"\n",
    "        ))\n",
    "        plt.text(0.01, 0.99, textstr, fontsize=10, transform=plt.gcf().transFigure, verticalalignment='top')\n",
    "        plt.axis(\"off\")\n",
    "        plt.savefig(f\"{img_dir}/worst_{i}.png\")\n",
    "        plt.close()\n",
    "        \n",
    "        saliency_map = get_saliency_map(model, image)\n",
    "        plt.imshow(saliency_map, cmap=\"hot\")\n",
    "        plt.axis(\"off\")\n",
    "        plt.savefig(f\"{img_dir}/worst_saliency_map_{i}.png\")\n",
    "        plt.close()\n",
    "        \n",
    "    for i, idx in enumerate(best_predictions):\n",
    "        image = test_images[idx]\n",
    "        price = test_prices[idx]\n",
    "        prediction = test_predictions[idx]\n",
    "        residual = residuals[idx]\n",
    "        plt.imshow(image)\n",
    "        textstr = '\\n'.join((\n",
    "            f\"Price: {price}\",\n",
    "            f\"Predicted Price: {prediction}\",\n",
    "            f\"Residual: {residual}\"\n",
    "        ))\n",
    "        plt.text(0.01, 0.99, textstr, fontsize=10, transform=plt.gcf().transFigure, verticalalignment='top')\n",
    "        plt.axis(\"off\")\n",
    "        plt.savefig(f\"{img_dir}/best_{i}.png\")\n",
    "        plt.close()\n",
    "        saliency_map = get_saliency_map(model, image)\n",
    "        plt.imshow(saliency_map, cmap=\"hot\")\n",
    "        plt.axis(\"off\")\n",
    "        plt.savefig(f\"{img_dir}/best_saliency_map_{i}.png\")\n",
    "        plt.close()\n",
    "\n",
    "def save_features_importance(feature_importance, img_dir):\n",
    "    #sort the feature_importance dict by value\n",
    "    feature_importance = {k: v for k, v in sorted(feature_importance.items(), key=lambda item: item[1], reverse=True)}\n",
    "    #add percentages to the bars\n",
    "    plt.bar(feature_importance.keys(), feature_importance.values())\n",
    "    #plt.bar_label = feature_importance.values()\n",
    "    plt.title('Feature Importance')\n",
    "    #Remove y-labels\n",
    "    plt.ylabel('')\n",
    "    plt.xticks(rotation=90)\n",
    "    #Zoom out so that text is visible \n",
    "    plt.subplots_adjust(bottom=0.4)\n",
    "    plt.savefig(f\"{img_dir}/feature_importance.png\")\n",
    "    plt.close()\n",
    "\n",
    "def save_worst_best(test_predictions, test_prices, test_features, model_dir):\n",
    "    #Find the best predictions, and worst predictions. \n",
    "    #Save them in two dataframes. Save a latex of the dataframe in a txt-file \n",
    "    residuals = test_prices - test_predictions.reshape(-1)\n",
    "    distances = np.abs(test_prices - test_predictions.reshape(-1))\n",
    "    worst_predictions = np.argsort(distances)[-8:]\n",
    "    best_predictions = np.argsort(distances)[:8]\n",
    "    \n",
    "    test_features_ = pd.DataFrame(test_features).copy()\n",
    "    test_features_[\"Price\"] = test_prices\n",
    "    test_features_[\"Predicted Price\"] = test_predictions\n",
    "    test_features_[\"Residual\"] = residuals\n",
    "    test_features_['Absolute Distances'] = distances\n",
    "    test_features_ = test_features_.sort_values(by=\"Absolute Distances\", ascending=False)\n",
    "    worst_df = test_features_.head(8)\n",
    "    best_df = test_features_.tail(8)\n",
    "    #save worst and best as latex in txt-file \n",
    "    worst_df.to_latex(f\"{model_dir}/worst_predictions.txt\")\n",
    "    best_df.to_latex(f\"{model_dir}/best_predictions.txt\")\n",
    "    \n",
    "   \n",
    "def save_reconstuctions(AE, test_predictions, test_prices, test_images, model_dir):\n",
    "    n = 10\n",
    "    reconstruction_errors = AE.calculate_ssim(test_images)\n",
    "    best5 = np.argsort(reconstruction_errors)[:n]\n",
    "    worst5 = np.argsort(reconstruction_errors)[::-1][:n]\n",
    "    print(best5)\n",
    "    print(worst5)\n",
    "    for i in range(n):\n",
    "        idx = best5[i]\n",
    "        image = test_images[idx]\n",
    "        encoded_img = AE.encode(np.expand_dims(image, axis=0))\n",
    "        decoded_img = AE.decode(encoded_img)\n",
    "        encoded_img = np.squeeze(encoded_img)\n",
    "        decoded_img = np.squeeze(decoded_img)\n",
    "        #Turn decoded_img into intergers\n",
    "        decoded_img = decoded_img.astype(int)\n",
    "        fix, ax = plt.subplots(1, 2, figsize=(15, 5))\n",
    "        ax[0].imshow(image)\n",
    "        ax[0].set_title(\"Original Image\")\n",
    "        ax[1].imshow(decoded_img)\n",
    "        ax[1].set_title(\"Reconstructed Image\")\n",
    "        #Set overall title as the price vs. the predicted price\n",
    "        price = test_prices[idx]\n",
    "        predicted_price = test_predictions[idx]\n",
    "        textstr = '\\n'.join((\n",
    "            f\"Price: {price}\",\n",
    "            f\"Predicted Price: {predicted_price}\"\n",
    "        ))\n",
    "        plt.text(0.01, 0.99, textstr, fontsize=10, transform=plt.gcf().transFigure, verticalalignment='top')\n",
    "        plt.savefig(f\"{model_dir}/best_reconstruction_{i}.png\")\n",
    "        plt.close()\n",
    "        \n",
    "\n",
    "    for i in range(n):\n",
    "        idx = worst5[i]\n",
    "        image = test_images[idx]\n",
    "        encoded_img = AE.encode(np.expand_dims(image, axis=0))\n",
    "        decoded_img = AE.decode(encoded_img)\n",
    "        encoded_img = np.squeeze(encoded_img)\n",
    "        decoded_img = np.squeeze(decoded_img)\n",
    "        #Turn decoded_img into intergers\n",
    "        decoded_img = decoded_img.astype(int)\n",
    "        fix, ax = plt.subplots(1, 2, figsize=(15, 5))\n",
    "        ax[0].imshow(image)\n",
    "        ax[0].set_title(\"Original Image\")\n",
    "        ax[1].imshow(decoded_img)\n",
    "        ax[1].set_title(\"Reconstructed Image\")\n",
    "        price = test_prices[idx]\n",
    "        predicted_price = test_predictions[idx]\n",
    "        textstr = '\\n'.join((\n",
    "            f\"Price: {price}\",\n",
    "            f\"Predicted Price: {predicted_price}\"\n",
    "        ))\n",
    "        plt.text(0.01, 0.99, textstr, fontsize=10, transform=plt.gcf().transFigure, verticalalignment='top')\n",
    "        plt.savefig(f\"{model_dir}/worst_reconstruction_{i}.png\")\n",
    "        plt.close()\n",
    "\n",
    "def save_reconstuctions(AE, test_predictions, test_prices, test_images, model_dir):\n",
    "    n = 10\n",
    "    reconstruction_errors = AE.calculate_ssim(test_images)\n",
    "    #best5 = np.argsort(reconstruction_errors)[:n]\n",
    "    #worst5 = np.argsort(reconstruction_errors)[::-1][:n]\n",
    "    residuals = test_prices - test_predictions.reshape(-1)\n",
    "    distances = np.abs(test_prices - test_predictions.reshape(-1))\n",
    "    worst5 = np.argsort(distances)[-n:]\n",
    "    best5 = np.argsort(distances)[:n]\n",
    "    for i in range(n):\n",
    "        idx = best5[i]\n",
    "        image = test_images[idx]\n",
    "        encoded_img = AE.encode(np.expand_dims(image, axis=0))\n",
    "        decoded_img = AE.decode(encoded_img)\n",
    "        encoded_img = np.squeeze(encoded_img)\n",
    "        decoded_img = np.squeeze(decoded_img)\n",
    "        #Turn decoded_img into intergers\n",
    "        decoded_img = decoded_img.astype(int)\n",
    "        fix, ax = plt.subplots(1, 2, figsize=(15, 5))\n",
    "        ax[0].imshow(image)\n",
    "        ax[0].set_title(\"Original Image\")\n",
    "        ax[1].imshow(decoded_img)\n",
    "        ax[1].set_title(\"Reconstructed Image\")\n",
    "        #Set overall title as the price vs. the predicted price\n",
    "        price = test_prices[idx]\n",
    "        predicted_price = test_predictions[idx]\n",
    "        textstr = '\\n'.join((\n",
    "            f\"Price: {price}\",\n",
    "            f\"Predicted Price: {predicted_price}\"\n",
    "        ))\n",
    "        plt.text(0.01, 0.99, textstr, fontsize=10, transform=plt.gcf().transFigure, verticalalignment='top')\n",
    "        plt.savefig(f\"{model_dir}/best_reconstruction_{i}.png\")\n",
    "        plt.close()\n",
    "        \n",
    "\n",
    "    for i in range(n):\n",
    "        idx = worst5[i]\n",
    "        image = test_images[idx]\n",
    "        encoded_img = AE.encode(np.expand_dims(image, axis=0))\n",
    "        decoded_img = AE.decode(encoded_img)\n",
    "        encoded_img = np.squeeze(encoded_img)\n",
    "        decoded_img = np.squeeze(decoded_img)\n",
    "        #Turn decoded_img into intergers\n",
    "        decoded_img = decoded_img.astype(int)\n",
    "        fix, ax = plt.subplots(1, 2, figsize=(15, 5))\n",
    "        ax[0].imshow(image)\n",
    "        ax[0].set_title(\"Original Image\")\n",
    "        ax[1].imshow(decoded_img)\n",
    "        ax[1].set_title(\"Reconstructed Image\")\n",
    "        price = test_prices[idx]\n",
    "        predicted_price = test_predictions[idx]\n",
    "        textstr = '\\n'.join((\n",
    "            f\"Price: {price}\",\n",
    "            f\"Predicted Price: {predicted_price}\"\n",
    "        ))\n",
    "        plt.text(0.01, 0.99, textstr, fontsize=10, transform=plt.gcf().transFigure, verticalalignment='top')\n",
    "        plt.savefig(f\"{model_dir}/worst_reconstruction_{i}.png\")\n",
    "        plt.close()\n",
    "\n",
    "\n",
    "def save_model_and_evaluate(\n",
    "    model: object,\n",
    "    fit_history: object,\n",
    "    test_images: np.array,\n",
    "    test_features: np.array,\n",
    "    test_prices: np.array,\n",
    "    model_dir: str,\n",
    "    model_type:str\n",
    "):\n",
    "    if model_type == 'RF':\n",
    "        print(\"Saving Model...\")\n",
    "        if not os.path.exists(model_dir):\n",
    "            os.makedirs(model_dir)\n",
    "        with open(f\"{model_dir}/model\", \"wb\") as file_pi:\n",
    "            pickle.dump(model, file_pi)\n",
    "        test_predictions = model.predict(test_features)\n",
    "    \n",
    "    if model_type == \"CNN\":\n",
    "        # Save Model\n",
    "        print(\"Saving Model...\")\n",
    "        if not os.path.exists(model_dir):\n",
    "            os.makedirs(model_dir)\n",
    "        model.save(f\"{model_dir}/model\")\n",
    "        # Save Training History\n",
    "        with open(f\"{model_dir}/history\", \"wb\") as file_pi:\n",
    "            pickle.dump(fit_history.history, file_pi)\n",
    "        test_predictions = model.predict(test_images)\n",
    "        #Save Model Architecture\n",
    "        #plot_model(model, to_file=f\"{model_dir}/model_architecture.png\", show_shapes=True, show_layer_names=True, show_dtype=True, rankdir=\"TB\", expand_nested=False, dpi=96)\n",
    "        img = plot_model(model, to_file=f\"{model_dir}/architecture.png\", show_shapes=True, show_layer_names=True, show_dtype=True, rankdir=\"TB\", expand_nested=False, dpi=96)\n",
    "\n",
    "\n",
    "    if model_type == 'CNN_RF' or model_type == 'CNN_AE_RF':\n",
    "        print(\"Saving Model...\")\n",
    "        if not os.path.exists(model_dir):\n",
    "            os.makedirs(model_dir)\n",
    "        with open(f\"{model_dir}/model\", \"wb\") as file_pi:\n",
    "            pickle.dump(model, file_pi)\n",
    "        test_predictions = model.predict(test_images, test_features)\n",
    "        \n",
    "\n",
    "    # Evaluate Model\n",
    "    print(\"Evaluating Model...\")\n",
    "    r2, mae, percentage_error, mse = regression_stats(test_prices, test_predictions)\n",
    "\n",
    "    try:\n",
    "        feature_importance = model.feature_importances_\n",
    "        if model_type == \"RF\":\n",
    "            feature_importance = dict(zip(test_features.columns, feature_importance))\n",
    "    except AttributeError:\n",
    "        print(\"Cant find feature_importance\")\n",
    "        feature_importance = None\n",
    "\n",
    "    # Load existing evaluation data\n",
    "    evaluation_file_path = f\"{model_dir}/evaluation.json\"\n",
    "    evaluation_data = {}\n",
    "    if os.path.exists(evaluation_file_path):\n",
    "        with open(evaluation_file_path, \"r\") as json_file:\n",
    "            evaluation_data = json.load(json_file)\n",
    "\n",
    "    # Add new evaluation data\n",
    "    new_evaluation = {\n",
    "        \"Timestamp\": str(datetime.datetime.now()),\n",
    "        \"R2\": r2,\n",
    "        \"MAE\": mae,\n",
    "        \"Percentage Error\": percentage_error,\n",
    "        \"MSE\": mse,\n",
    "        \"Feature Importances\": (feature_importance),\n",
    "    }\n",
    "    evaluation_data[len(evaluation_data)] = new_evaluation\n",
    "\n",
    "    # Save updated evaluation data\n",
    "    with open(evaluation_file_path, \"w\") as json_file:\n",
    "        json.dump(evaluation_data, json_file, indent=4)\n",
    "\n",
    "    # Compute median evaluation values from all instances\n",
    "    r2_values = [evaluation_data[key][\"R2\"] for key in evaluation_data]\n",
    "    mae_values = [evaluation_data[key][\"MAE\"] for key in evaluation_data]\n",
    "    percentage_error_values = [\n",
    "        evaluation_data[key][\"Percentage Error\"] for key in evaluation_data\n",
    "    ]\n",
    "    mse_values = [evaluation_data[key][\"MSE\"] for key in evaluation_data]\n",
    "\n",
    "    median_evaluation_data = {\n",
    "        \"R2\": np.median(r2_values),\n",
    "        \"MAE\": np.median(mae_values),\n",
    "        \"Percentage Error\": np.median(percentage_error_values),\n",
    "        \"MSE\": np.median(mse_values),\n",
    "    }\n",
    "\n",
    "    with open(f\"{model_dir}/median_evaluation.json\", \"w\") as json_file:\n",
    "        json.dump(median_evaluation_data, json_file, indent=4)\n",
    "\n",
    "    print(\"\\nModel Evaluation:\")\n",
    "    print(new_evaluation)\n",
    "    print(\"\\nMedian Evaluation:\")\n",
    "    print(median_evaluation_data)\n",
    "    print(\"Feauter Importance...\")\n",
    "    print(feature_importance)\n",
    "\n",
    "    # Images (Create or open existing folder)\n",
    "    if not os.path.exists(f\"{model_dir}/images\"):\n",
    "        os.makedirs(f\"{model_dir}/images\")\n",
    "    img_dir = f\"{model_dir}/images\"\n",
    "    \n",
    "    save_expected_predicted(test_prices, test_predictions, img_dir)\n",
    "    save_residuals(test_prices, test_predictions, img_dir)\n",
    "    \n",
    "    if model_type == 'CNN':\n",
    "        print(\"\\nSaving Best and Worst Image Predictions\")\n",
    "        save_worst_best_predictions(model, test_predictions, test_prices, test_images, img_dir)\n",
    "    \n",
    "    if model_type != 'CNN': \n",
    "        print(\"\\nSaving Feature Importance\")\n",
    "        save_features_importance(feature_importance, img_dir)\n",
    "\n",
    "    if model_type == 'CNN_AE_RF':\n",
    "        print(\"\\nSaving Reconstructions\")\n",
    "        save_reconstuctions(model.autoEncoder_, test_predictions, test_prices, test_images, img_dir)\n",
    "\n",
    "    save_worst_best(test_predictions, test_prices, test_features, model_dir)\n",
    "    print(\"\\nDone!\")\n",
    "\n",
    "\n",
    "def train_save_model(\n",
    "    model_func: object,\n",
    "    args: tuple,\n",
    "    test_images: np.array,\n",
    "    test_features: np.array,\n",
    "    test_prices: np.array,\n",
    "    model_dir: str,\n",
    "    use_gpu: bool,\n",
    "    model_type:str\n",
    "):\n",
    "    if use_gpu:\n",
    "        set_gpu()\n",
    "    else:\n",
    "        set_cpu()\n",
    "\n",
    "    if model_type == \"CNN\":\n",
    "        model, fit_history = model_func(*args)\n",
    "    if model_type == 'RF':\n",
    "        model = model_func(*args)\n",
    "        fit_history = None\n",
    "    if model_type == 'CNN_RF' or model_type == 'CNN_AE_RF':\n",
    "        model = model_func(*args)\n",
    "        fit_history = None\n",
    "    save_model_and_evaluate(model, fit_history, test_images, test_features, test_prices, model_dir, model_type)\n",
    "\n",
    "\n",
    "def train_save_models(\n",
    "    model_func: object,\n",
    "    args: tuple,\n",
    "    test_images: np.array,\n",
    "    test_prices: np.array,\n",
    "    model_dir: str,\n",
    "    use_gpu: bool,\n",
    "):\n",
    "    if use_gpu:\n",
    "        set_gpu()\n",
    "    else:\n",
    "        set_cpu()\n",
    "\n",
    "    models, fit_histories = model_func(*args)\n",
    "    for model_idx, (model, fit_history) in enumerate(zip(models, fit_histories)):\n",
    "        save_model_and_evaluate(\n",
    "            model, fit_history, test_images, test_prices, f\"{model_dir}_{model_idx}\"\n",
    "        )"
   ]
  },
  {
   "cell_type": "markdown",
   "metadata": {},
   "source": [
    "# Running on CPU"
   ]
  },
  {
   "cell_type": "code",
   "execution_count": 43,
   "metadata": {},
   "outputs": [],
   "source": [
    "MODELS_PATH: str = \"./models\"\n",
    "USE_GPU: bool = False"
   ]
  },
  {
   "cell_type": "code",
   "execution_count": 84,
   "metadata": {},
   "outputs": [],
   "source": [
    "train2_features = train2_features[['postal_code', 'type', 'size', 'basement_size', 'rooms', 'year_built','year_rebuilt', 'energy_label', 'postal_avg_sqm_price', 'lat', 'lng' ]]"
   ]
  },
  {
   "cell_type": "markdown",
   "metadata": {},
   "source": [
    "### Naive Guess"
   ]
  },
  {
   "cell_type": "code",
   "execution_count": 85,
   "metadata": {},
   "outputs": [
    {
     "name": "stdout",
     "output_type": "stream",
     "text": [
      "Mean Guess R2: 0.0, MAE: 1735519.21875, Percentage Error: 51.359256053020786, MSE: 4822871623085.9375\n"
     ]
    }
   ],
   "source": [
    "mean = test_prices.mean()\n",
    "mean_Guess = np.full(len(test_prices), mean)\n",
    "r2, mae, percentage_error, mse = regression_stats(test_prices, mean_Guess)\n",
    "print(f\"Mean Guess R2: {r2}, MAE: {mae}, Percentage Error: {percentage_error}, MSE: {mse}\")\n"
   ]
  },
  {
   "cell_type": "markdown",
   "metadata": {},
   "source": [
    "### Lasso Regression"
   ]
  },
  {
   "cell_type": "code",
   "execution_count": 86,
   "metadata": {},
   "outputs": [
    {
     "name": "stdout",
     "output_type": "stream",
     "text": [
      "Lasso R2: 0.7748060360794036, MAE: 722675.3010574252, Percentage Error: 19.005414937968073, MSE: 1086081578282.8832\n"
     ]
    }
   ],
   "source": [
    "from models import Lasso_\n",
    "lasso_model = Lasso_(train2_features, train2_prices)\n",
    "predictions = lasso_model.predict(test_features)\n",
    "r2, mae, percentage_error, mse = regression_stats(test_prices, predictions)\n",
    "print(f\"Lasso R2: {r2}, MAE: {mae}, Percentage Error: {percentage_error}, MSE: {mse}\")"
   ]
  },
  {
   "cell_type": "markdown",
   "metadata": {},
   "source": [
    "### RF"
   ]
  },
  {
   "cell_type": "code",
   "execution_count": 82,
   "metadata": {},
   "outputs": [
    {
     "name": "stdout",
     "output_type": "stream",
     "text": [
      "Setting CPU\n",
      "Saving Model...\n",
      "Evaluating Model...\n",
      "\n",
      "Model Evaluation:\n",
      "{'Timestamp': '2024-05-06 14:25:34.211052', 'R2': 0.8132795001078803, 'MAE': 636993.1875, 'Percentage Error': 14.843292596179808, 'MSE': 900529000378.125, 'Feature Importances': {'postal_code': 0.06814842648710288, 'type': 0.0, 'size': 0.6508014320289626, 'basement_size': 0.0, 'rooms': 0.00849383156803667, 'year_built': 0.03364348661701729, 'year_rebuilt': 0.05323962858913134, 'energy_label': 0.011810161816716453, 'postal_avg_sqm_price': 0.12483953588065484, 'lat': 0.01947357892950805, 'lng': 0.02954991808286986}}\n",
      "\n",
      "Median Evaluation:\n",
      "{'R2': 0.8089473545247409, 'MAE': 644189.3125, 'Percentage Error': 15.029167119871515, 'MSE': 921422382378.125}\n",
      "Feauter Importance...\n",
      "{'postal_code': 0.06814842648710288, 'type': 0.0, 'size': 0.6508014320289626, 'basement_size': 0.0, 'rooms': 0.00849383156803667, 'year_built': 0.03364348661701729, 'year_rebuilt': 0.05323962858913134, 'energy_label': 0.011810161816716453, 'postal_avg_sqm_price': 0.12483953588065484, 'lat': 0.01947357892950805, 'lng': 0.02954991808286986}\n",
      "\n",
      "Saving Feature Importance\n",
      "\n",
      "Done!\n",
      "Setting CPU\n",
      "Saving Model...\n",
      "Evaluating Model...\n",
      "\n",
      "Model Evaluation:\n",
      "{'Timestamp': '2024-05-06 14:25:35.262634', 'R2': 0.8196442228291558, 'MAE': 630976.9375, 'Percentage Error': 15.121959079980721, 'MSE': 869832759776.875, 'Feature Importances': {'postal_code': 0.08663103925430622, 'type': 0.0, 'size': 0.6535941566611974, 'basement_size': 0.0, 'rooms': 0.009133596885851612, 'year_built': 0.03447199781492846, 'year_rebuilt': 0.045516511230177914, 'energy_label': 0.010859937133832884, 'postal_avg_sqm_price': 0.11238681201605351, 'lat': 0.020468403092252382, 'lng': 0.026937545911399675}}\n",
      "\n",
      "Median Evaluation:\n",
      "{'R2': 0.8089473545247409, 'MAE': 644189.3125, 'Percentage Error': 15.029167119871515, 'MSE': 921422382378.125}\n",
      "Feauter Importance...\n",
      "{'postal_code': 0.08663103925430622, 'type': 0.0, 'size': 0.6535941566611974, 'basement_size': 0.0, 'rooms': 0.009133596885851612, 'year_built': 0.03447199781492846, 'year_rebuilt': 0.045516511230177914, 'energy_label': 0.010859937133832884, 'postal_avg_sqm_price': 0.11238681201605351, 'lat': 0.020468403092252382, 'lng': 0.026937545911399675}\n",
      "\n",
      "Saving Feature Importance\n",
      "\n",
      "Done!\n",
      "Setting CPU\n",
      "Saving Model...\n",
      "Evaluating Model...\n",
      "\n",
      "Model Evaluation:\n",
      "{'Timestamp': '2024-05-06 14:25:36.378784', 'R2': 0.8116367901390256, 'MAE': 638277.4375, 'Percentage Error': 14.952696820231653, 'MSE': 908451579671.875, 'Feature Importances': {'postal_code': 0.06883191266975076, 'type': 0.0, 'size': 0.6482682414603228, 'basement_size': 0.0, 'rooms': 0.008881375506701527, 'year_built': 0.04483797878544402, 'year_rebuilt': 0.0457260553215094, 'energy_label': 0.012122204357110216, 'postal_avg_sqm_price': 0.12426426478589998, 'lat': 0.019850337208660522, 'lng': 0.027217629904600832}}\n",
      "\n",
      "Median Evaluation:\n",
      "{'R2': 0.8089473545247409, 'MAE': 644189.3125, 'Percentage Error': 15.029167119871515, 'MSE': 921422382378.125}\n",
      "Feauter Importance...\n",
      "{'postal_code': 0.06883191266975076, 'type': 0.0, 'size': 0.6482682414603228, 'basement_size': 0.0, 'rooms': 0.008881375506701527, 'year_built': 0.04483797878544402, 'year_rebuilt': 0.0457260553215094, 'energy_label': 0.012122204357110216, 'postal_avg_sqm_price': 0.12426426478589998, 'lat': 0.019850337208660522, 'lng': 0.027217629904600832}\n",
      "\n",
      "Saving Feature Importance\n",
      "\n",
      "Done!\n",
      "Setting CPU\n",
      "Saving Model...\n",
      "Evaluating Model...\n",
      "\n",
      "Model Evaluation:\n",
      "{'Timestamp': '2024-05-06 14:25:37.696095', 'R2': 0.8221590006094608, 'MAE': 631494.9375, 'Percentage Error': 15.13896204228931, 'MSE': 857704309381.875, 'Feature Importances': {'postal_code': 0.07442183872086792, 'type': 0.0, 'size': 0.6562012125456861, 'basement_size': 0.0, 'rooms': 0.008804480642778771, 'year_built': 0.036861701528518274, 'year_rebuilt': 0.04688579000456905, 'energy_label': 0.010851663048768655, 'postal_avg_sqm_price': 0.11519544805202331, 'lat': 0.019865733416164932, 'lng': 0.03091213204062305}}\n",
      "\n",
      "Median Evaluation:\n",
      "{'R2': 0.8089473545247409, 'MAE': 644189.3125, 'Percentage Error': 15.029167119871515, 'MSE': 921422382378.125}\n",
      "Feauter Importance...\n",
      "{'postal_code': 0.07442183872086792, 'type': 0.0, 'size': 0.6562012125456861, 'basement_size': 0.0, 'rooms': 0.008804480642778771, 'year_built': 0.036861701528518274, 'year_rebuilt': 0.04688579000456905, 'energy_label': 0.010851663048768655, 'postal_avg_sqm_price': 0.11519544805202331, 'lat': 0.019865733416164932, 'lng': 0.03091213204062305}\n",
      "\n",
      "Saving Feature Importance\n",
      "\n",
      "Done!\n",
      "Setting CPU\n",
      "Saving Model...\n",
      "Evaluating Model...\n",
      "\n",
      "Model Evaluation:\n",
      "{'Timestamp': '2024-05-06 14:25:38.836472', 'R2': 0.8113444800674435, 'MAE': 640156.5, 'Percentage Error': 14.983902712521166, 'MSE': 909861353621.25, 'Feature Importances': {'postal_code': 0.07725552720400419, 'type': 0.0, 'size': 0.6519911140902434, 'basement_size': 0.0, 'rooms': 0.009094752707196042, 'year_built': 0.03333676955735297, 'year_rebuilt': 0.05080963392919621, 'energy_label': 0.011453529860688965, 'postal_avg_sqm_price': 0.12024426302389817, 'lat': 0.018125346450112746, 'lng': 0.02768906317730738}}\n",
      "\n",
      "Median Evaluation:\n",
      "{'R2': 0.8089473545247409, 'MAE': 644189.3125, 'Percentage Error': 15.029167119871515, 'MSE': 921422382378.125}\n",
      "Feauter Importance...\n",
      "{'postal_code': 0.07725552720400419, 'type': 0.0, 'size': 0.6519911140902434, 'basement_size': 0.0, 'rooms': 0.009094752707196042, 'year_built': 0.03333676955735297, 'year_rebuilt': 0.05080963392919621, 'energy_label': 0.011453529860688965, 'postal_avg_sqm_price': 0.12024426302389817, 'lat': 0.018125346450112746, 'lng': 0.02768906317730738}\n",
      "\n",
      "Saving Feature Importance\n",
      "\n",
      "Done!\n",
      "Setting CPU\n",
      "Saving Model...\n",
      "Evaluating Model...\n",
      "\n",
      "Model Evaluation:\n",
      "{'Timestamp': '2024-05-06 14:25:39.976610', 'R2': 0.8162722004104419, 'MAE': 627639.5, 'Percentage Error': 14.609602190403509, 'MSE': 886095591012.5, 'Feature Importances': {'postal_code': 0.05222374847786095, 'type': 0.0, 'size': 0.6508811078772436, 'basement_size': 0.0, 'rooms': 0.00899917340657159, 'year_built': 0.03512586141426933, 'year_rebuilt': 0.06133291785277406, 'energy_label': 0.011080755780078997, 'postal_avg_sqm_price': 0.13140331312885717, 'lat': 0.019993316102750413, 'lng': 0.028959805959593854}}\n",
      "\n",
      "Median Evaluation:\n",
      "{'R2': 0.8089473545247409, 'MAE': 644189.3125, 'Percentage Error': 15.029167119871515, 'MSE': 921422382378.125}\n",
      "Feauter Importance...\n",
      "{'postal_code': 0.05222374847786095, 'type': 0.0, 'size': 0.6508811078772436, 'basement_size': 0.0, 'rooms': 0.00899917340657159, 'year_built': 0.03512586141426933, 'year_rebuilt': 0.06133291785277406, 'energy_label': 0.011080755780078997, 'postal_avg_sqm_price': 0.13140331312885717, 'lat': 0.019993316102750413, 'lng': 0.028959805959593854}\n",
      "\n",
      "Saving Feature Importance\n",
      "\n",
      "Done!\n",
      "Setting CPU\n",
      "Saving Model...\n",
      "Evaluating Model...\n",
      "\n",
      "Model Evaluation:\n",
      "{'Timestamp': '2024-05-06 14:25:41.063442', 'R2': 0.8099257752896463, 'MAE': 641675.6875, 'Percentage Error': 15.176405929538351, 'MSE': 916703584635.625, 'Feature Importances': {'postal_code': 0.07180645878931677, 'type': 0.0, 'size': 0.6453264020404823, 'basement_size': 0.0, 'rooms': 0.009872678207624322, 'year_built': 0.04099851073143504, 'year_rebuilt': 0.04548720467473954, 'energy_label': 0.011574510162123585, 'postal_avg_sqm_price': 0.12748610977344313, 'lat': 0.02001144299964689, 'lng': 0.02743668262118838}}\n",
      "\n",
      "Median Evaluation:\n",
      "{'R2': 0.8089473545247409, 'MAE': 644189.3125, 'Percentage Error': 15.029167119871515, 'MSE': 921422382378.125}\n",
      "Feauter Importance...\n",
      "{'postal_code': 0.07180645878931677, 'type': 0.0, 'size': 0.6453264020404823, 'basement_size': 0.0, 'rooms': 0.009872678207624322, 'year_built': 0.04099851073143504, 'year_rebuilt': 0.04548720467473954, 'energy_label': 0.011574510162123585, 'postal_avg_sqm_price': 0.12748610977344313, 'lat': 0.02001144299964689, 'lng': 0.02743668262118838}\n",
      "\n",
      "Saving Feature Importance\n",
      "\n",
      "Done!\n",
      "Setting CPU\n",
      "Saving Model...\n",
      "Evaluating Model...\n",
      "\n",
      "Model Evaluation:\n",
      "{'Timestamp': '2024-05-06 14:25:42.171480', 'R2': 0.8090275360825806, 'MAE': 645978.5625, 'Percentage Error': 15.131568170913123, 'MSE': 921035677018.125, 'Feature Importances': {'postal_code': 0.07569528967640253, 'type': 0.0, 'size': 0.6361408963812906, 'basement_size': 0.0, 'rooms': 0.010362851443322234, 'year_built': 0.034973407036636754, 'year_rebuilt': 0.05524516086685336, 'energy_label': 0.011364405671519579, 'postal_avg_sqm_price': 0.1289086935085641, 'lat': 0.019751446011111912, 'lng': 0.02755784940429904}}\n",
      "\n",
      "Median Evaluation:\n",
      "{'R2': 0.8089874453036607, 'MAE': 644189.3125, 'Percentage Error': 15.029167119871515, 'MSE': 921229029698.125}\n",
      "Feauter Importance...\n",
      "{'postal_code': 0.07569528967640253, 'type': 0.0, 'size': 0.6361408963812906, 'basement_size': 0.0, 'rooms': 0.010362851443322234, 'year_built': 0.034973407036636754, 'year_rebuilt': 0.05524516086685336, 'energy_label': 0.011364405671519579, 'postal_avg_sqm_price': 0.1289086935085641, 'lat': 0.019751446011111912, 'lng': 0.02755784940429904}\n",
      "\n",
      "Saving Feature Importance\n",
      "\n",
      "Done!\n",
      "Setting CPU\n",
      "Saving Model...\n",
      "Evaluating Model...\n",
      "\n",
      "Model Evaluation:\n",
      "{'Timestamp': '2024-05-06 14:25:44.076958', 'R2': 0.8085695932534469, 'MAE': 643993.75, 'Percentage Error': 15.031617287834667, 'MSE': 923244276493.75, 'Feature Importances': {'postal_code': 0.0693641402786776, 'type': 0.0, 'size': 0.6461535921662501, 'basement_size': 0.0, 'rooms': 0.008473032015820108, 'year_built': 0.03371586984281877, 'year_rebuilt': 0.054781033428594784, 'energy_label': 0.012703797349953423, 'postal_avg_sqm_price': 0.12671648413954503, 'lat': 0.019747785808844124, 'lng': 0.02834426496949595}}\n",
      "\n",
      "Median Evaluation:\n",
      "{'R2': 0.8089473545247409, 'MAE': 644189.3125, 'Percentage Error': 15.029167119871515, 'MSE': 921422382378.125}\n",
      "Feauter Importance...\n",
      "{'postal_code': 0.0693641402786776, 'type': 0.0, 'size': 0.6461535921662501, 'basement_size': 0.0, 'rooms': 0.008473032015820108, 'year_built': 0.03371586984281877, 'year_rebuilt': 0.054781033428594784, 'energy_label': 0.012703797349953423, 'postal_avg_sqm_price': 0.12671648413954503, 'lat': 0.019747785808844124, 'lng': 0.02834426496949595}\n",
      "\n",
      "Saving Feature Importance\n",
      "\n",
      "Done!\n",
      "Setting CPU\n",
      "Saving Model...\n",
      "Evaluating Model...\n",
      "\n",
      "Model Evaluation:\n",
      "{'Timestamp': '2024-05-06 14:25:45.744636', 'R2': 0.8166254210048064, 'MAE': 623447.0, 'Percentage Error': 14.519825645987966, 'MSE': 884392053431.25, 'Feature Importances': {'postal_code': 0.06049867991062367, 'type': 0.0, 'size': 0.6546055751935279, 'basement_size': 0.0, 'rooms': 0.009777987266053875, 'year_built': 0.04001356745975297, 'year_rebuilt': 0.046497882362960465, 'energy_label': 0.01146076490667282, 'postal_avg_sqm_price': 0.13165929659219544, 'lat': 0.01930706201991367, 'lng': 0.02617918428829923}}\n",
      "\n",
      "Median Evaluation:\n",
      "{'R2': 0.8089874453036607, 'MAE': 644091.53125, 'Percentage Error': 15.029167119871515, 'MSE': 921229029698.125}\n",
      "Feauter Importance...\n",
      "{'postal_code': 0.06049867991062367, 'type': 0.0, 'size': 0.6546055751935279, 'basement_size': 0.0, 'rooms': 0.009777987266053875, 'year_built': 0.04001356745975297, 'year_rebuilt': 0.046497882362960465, 'energy_label': 0.01146076490667282, 'postal_avg_sqm_price': 0.13165929659219544, 'lat': 0.01930706201991367, 'lng': 0.02617918428829923}\n",
      "\n",
      "Saving Feature Importance\n",
      "\n",
      "Done!\n"
     ]
    }
   ],
   "source": [
    "from models import RF\n",
    "TYPE = \"RF\"\n",
    "MODEL_NAME: str = \"RF\"\n",
    "FUNCTION: object = RF\n",
    "ARGS: tuple = (\n",
    "    train2_features,\n",
    "    train2_prices,\n",
    ")\n",
    "for i in range(10):\n",
    "    train_save_model(FUNCTION, ARGS, test_images, test_features, test_prices, f\"{MODELS_PATH}/{MODEL_NAME}\", USE_GPU, TYPE)"
   ]
  },
  {
   "cell_type": "markdown",
   "metadata": {},
   "source": [
    "### CNN"
   ]
  },
  {
   "cell_type": "code",
   "execution_count": null,
   "metadata": {},
   "outputs": [
    {
     "name": "stdout",
     "output_type": "stream",
     "text": [
      "Setting CPU\n",
      "Compiling Model\n",
      "Fitting Model\n",
      "Epoch 1/100\n",
      "9/9 [==============================] - 56s 2s/step - loss: 3830072.2500 - mean_absolute_error: 3814672.7500 - val_loss: 4307765.0000 - val_mean_absolute_error: 4302022.0000\n",
      "Epoch 2/100\n",
      "9/9 [==============================] - 13s 1s/step - loss: 3818524.0000 - mean_absolute_error: 3812578.2500 - val_loss: 4300476.0000 - val_mean_absolute_error: 4295219.5000\n",
      "Epoch 3/100\n",
      "9/9 [==============================] - 12s 1s/step - loss: 3796468.7500 - mean_absolute_error: 3791127.5000 - val_loss: 4245161.0000 - val_mean_absolute_error: 4238672.5000\n",
      "Epoch 4/100\n",
      "9/9 [==============================] - 13s 1s/step - loss: 3663740.5000 - mean_absolute_error: 3655459.5000 - val_loss: 3942680.0000 - val_mean_absolute_error: 3931179.5000\n",
      "Epoch 5/100\n",
      "9/9 [==============================] - 13s 1s/step - loss: 3048435.5000 - mean_absolute_error: 3033076.5000 - val_loss: 2761275.0000 - val_mean_absolute_error: 2740058.5000\n",
      "Epoch 6/100\n",
      "9/9 [==============================] - 13s 1s/step - loss: 1806699.5000 - mean_absolute_error: 1780198.1250 - val_loss: 1864224.6250 - val_mean_absolute_error: 1832475.0000\n",
      "Epoch 7/100\n",
      "9/9 [==============================] - 13s 1s/step - loss: 1653908.2500 - mean_absolute_error: 1622270.2500 - val_loss: 1766286.5000 - val_mean_absolute_error: 1735351.8750\n",
      "Epoch 8/100\n",
      "9/9 [==============================] - 13s 1s/step - loss: 1457635.7500 - mean_absolute_error: 1426447.2500 - val_loss: 1859242.2500 - val_mean_absolute_error: 1827252.8750\n",
      "Epoch 9/100\n",
      "9/9 [==============================] - 13s 1s/step - loss: 1390564.0000 - mean_absolute_error: 1357480.6250 - val_loss: 1609406.8750 - val_mean_absolute_error: 1574749.5000\n",
      "Epoch 10/100\n",
      "9/9 [==============================] - 13s 1s/step - loss: 1333813.1250 - mean_absolute_error: 1298231.2500 - val_loss: 1592467.0000 - val_mean_absolute_error: 1555559.0000\n",
      "Epoch 11/100\n",
      "9/9 [==============================] - 13s 1s/step - loss: 1238590.0000 - mean_absolute_error: 1200456.0000 - val_loss: 1569261.2500 - val_mean_absolute_error: 1529499.2500\n",
      "Epoch 12/100\n",
      "9/9 [==============================] - 13s 1s/step - loss: 1174111.6250 - mean_absolute_error: 1132894.8750 - val_loss: 1539714.3750 - val_mean_absolute_error: 1496556.6250\n",
      "Epoch 13/100\n",
      "9/9 [==============================] - 13s 1s/step - loss: 1117306.1250 - mean_absolute_error: 1072607.7500 - val_loss: 1513115.3750 - val_mean_absolute_error: 1466414.8750\n",
      "Epoch 14/100\n",
      "9/9 [==============================] - 12s 1s/step - loss: 1018975.1875 - mean_absolute_error: 970593.6875 - val_loss: 1482721.3750 - val_mean_absolute_error: 1432308.6250\n",
      "Epoch 15/100\n",
      "9/9 [==============================] - 13s 1s/step - loss: 1003286.5625 - mean_absolute_error: 951380.3750 - val_loss: 1465953.7500 - val_mean_absolute_error: 1412193.5000\n",
      "Epoch 16/100\n",
      "9/9 [==============================] - 13s 1s/step - loss: 929484.9375 - mean_absolute_error: 874148.1250 - val_loss: 1443869.8750 - val_mean_absolute_error: 1386502.5000\n",
      "Epoch 17/100\n",
      "9/9 [==============================] - 13s 1s/step - loss: 824791.1250 - mean_absolute_error: 765848.8750 - val_loss: 1463614.2500 - val_mean_absolute_error: 1403000.0000\n",
      "Epoch 18/100\n",
      "9/9 [==============================] - 13s 1s/step - loss: 782090.3750 - mean_absolute_error: 720291.2500 - val_loss: 1449366.6250 - val_mean_absolute_error: 1386170.8750\n",
      "Epoch 19/100\n",
      "9/9 [==============================] - 13s 1s/step - loss: 782071.5000 - mean_absolute_error: 717831.0625 - val_loss: 1409229.6250 - val_mean_absolute_error: 1343740.1250\n",
      "Epoch 20/100\n",
      "9/9 [==============================] - 13s 2s/step - loss: 751808.4375 - mean_absolute_error: 685598.5625 - val_loss: 1438148.3750 - val_mean_absolute_error: 1370626.5000\n",
      "Epoch 21/100\n",
      "9/9 [==============================] - 13s 1s/step - loss: 704722.3125 - mean_absolute_error: 636650.3125 - val_loss: 1407186.5000 - val_mean_absolute_error: 1338384.5000\n",
      "Epoch 22/100\n",
      "9/9 [==============================] - 12s 1s/step - loss: 648273.6250 - mean_absolute_error: 578874.5000 - val_loss: 1420851.2500 - val_mean_absolute_error: 1350941.2500\n",
      "Epoch 23/100\n",
      "9/9 [==============================] - 13s 1s/step - loss: 596169.4375 - mean_absolute_error: 525851.8750 - val_loss: 1405367.0000 - val_mean_absolute_error: 1334680.2500\n",
      "Epoch 24/100\n",
      "9/9 [==============================] - 12s 1s/step - loss: 558694.3750 - mean_absolute_error: 487675.2188 - val_loss: 1390369.5000 - val_mean_absolute_error: 1318966.7500\n",
      "Epoch 25/100\n",
      "9/9 [==============================] - 13s 1s/step - loss: 533864.1875 - mean_absolute_error: 462271.2500 - val_loss: 1383902.5000 - val_mean_absolute_error: 1312178.7500\n",
      "Epoch 26/100\n",
      "9/9 [==============================] - 13s 2s/step - loss: 529264.6250 - mean_absolute_error: 457271.0000 - val_loss: 1383989.6250 - val_mean_absolute_error: 1311710.1250\n",
      "Epoch 27/100\n",
      "9/9 [==============================] - 13s 1s/step - loss: 485916.3438 - mean_absolute_error: 413232.7188 - val_loss: 1390347.0000 - val_mean_absolute_error: 1317209.2500\n",
      "Epoch 28/100\n",
      "9/9 [==============================] - 13s 1s/step - loss: 484868.1250 - mean_absolute_error: 411386.0000 - val_loss: 1382186.6250 - val_mean_absolute_error: 1308453.0000\n",
      "Epoch 29/100\n",
      "9/9 [==============================] - 13s 1s/step - loss: 464629.7500 - mean_absolute_error: 390791.1875 - val_loss: 1392556.8750 - val_mean_absolute_error: 1318558.5000\n",
      "Epoch 30/100\n",
      "9/9 [==============================] - 13s 1s/step - loss: 461061.2500 - mean_absolute_error: 387056.4375 - val_loss: 1401757.0000 - val_mean_absolute_error: 1327775.5000\n",
      "Epoch 31/100\n",
      "9/9 [==============================] - 13s 1s/step - loss: 469340.3125 - mean_absolute_error: 395502.8750 - val_loss: 1421994.3750 - val_mean_absolute_error: 1348136.3750\n",
      "Epoch 32/100\n",
      "9/9 [==============================] - 13s 1s/step - loss: 483103.5938 - mean_absolute_error: 409392.5938 - val_loss: 1410336.2500 - val_mean_absolute_error: 1336559.3750\n",
      "Epoch 33/100\n",
      "9/9 [==============================] - 13s 1s/step - loss: 518915.8438 - mean_absolute_error: 445167.8125 - val_loss: 1380194.1250 - val_mean_absolute_error: 1306431.3750\n",
      "Epoch 34/100\n",
      "9/9 [==============================] - 14s 2s/step - loss: 437175.0000 - mean_absolute_error: 363356.2812 - val_loss: 1378500.3750 - val_mean_absolute_error: 1304782.8750\n",
      "Epoch 35/100\n",
      "9/9 [==============================] - 13s 1s/step - loss: 408155.6562 - mean_absolute_error: 334412.4375 - val_loss: 1369729.0000 - val_mean_absolute_error: 1295958.3750\n",
      "Epoch 36/100\n",
      "9/9 [==============================] - 13s 1s/step - loss: 414921.1562 - mean_absolute_error: 341094.0938 - val_loss: 1359382.5000 - val_mean_absolute_error: 1285583.7500\n",
      "Epoch 37/100\n",
      "9/9 [==============================] - 13s 2s/step - loss: 401056.1250 - mean_absolute_error: 327217.5625 - val_loss: 1358179.8750 - val_mean_absolute_error: 1284355.1250\n",
      "Epoch 38/100\n",
      "9/9 [==============================] - 12s 1s/step - loss: 401012.6250 - mean_absolute_error: 327186.7812 - val_loss: 1363945.0000 - val_mean_absolute_error: 1290170.2500\n",
      "Epoch 39/100\n",
      "9/9 [==============================] - 13s 1s/step - loss: 395493.9062 - mean_absolute_error: 321728.7500 - val_loss: 1367598.5000 - val_mean_absolute_error: 1293881.0000\n",
      "Epoch 40/100\n",
      "9/9 [==============================] - 13s 1s/step - loss: 402481.5000 - mean_absolute_error: 328756.7812 - val_loss: 1366067.6250 - val_mean_absolute_error: 1292363.2500\n",
      "Epoch 41/100\n",
      "9/9 [==============================] - 13s 1s/step - loss: 379920.5312 - mean_absolute_error: 306278.5000 - val_loss: 1397892.0000 - val_mean_absolute_error: 1324290.7500\n",
      "Epoch 42/100\n",
      "9/9 [==============================] - 13s 1s/step - loss: 382224.4375 - mean_absolute_error: 308738.7188 - val_loss: 1377514.2500 - val_mean_absolute_error: 1303925.2500\n",
      "Epoch 43/100\n",
      "9/9 [==============================] - 12s 1s/step - loss: 413351.4375 - mean_absolute_error: 339767.0000 - val_loss: 1369645.0000 - val_mean_absolute_error: 1296113.7500\n",
      "Epoch 44/100\n",
      "9/9 [==============================] - 13s 1s/step - loss: 417414.5312 - mean_absolute_error: 344076.8125 - val_loss: 1367576.5000 - val_mean_absolute_error: 1294329.6250\n",
      "Epoch 45/100\n",
      "9/9 [==============================] - 13s 1s/step - loss: 385795.7812 - mean_absolute_error: 312468.7812 - val_loss: 1376558.8750 - val_mean_absolute_error: 1303229.1250\n",
      "Epoch 46/100\n",
      "9/9 [==============================] - 13s 1s/step - loss: 390667.8438 - mean_absolute_error: 317292.5000 - val_loss: 1363387.7500 - val_mean_absolute_error: 1290113.0000\n",
      "Epoch 47/100\n",
      "9/9 [==============================] - 14s 2s/step - loss: 390446.5312 - mean_absolute_error: 317118.3125 - val_loss: 1351140.2500 - val_mean_absolute_error: 1277808.1250\n",
      "Epoch 48/100\n",
      "9/9 [==============================] - 15s 2s/step - loss: 359397.7812 - mean_absolute_error: 286084.1562 - val_loss: 1358926.1250 - val_mean_absolute_error: 1285708.7500\n",
      "Epoch 49/100\n",
      "9/9 [==============================] - 15s 2s/step - loss: 364736.1562 - mean_absolute_error: 291573.1875 - val_loss: 1366599.0000 - val_mean_absolute_error: 1293449.2500\n",
      "Epoch 50/100\n",
      "9/9 [==============================] - 13s 2s/step - loss: 349567.9062 - mean_absolute_error: 276395.9688 - val_loss: 1371095.0000 - val_mean_absolute_error: 1297933.0000\n",
      "Epoch 51/100\n",
      "9/9 [==============================] - 12s 1s/step - loss: 342871.9062 - mean_absolute_error: 269735.8438 - val_loss: 1361410.7500 - val_mean_absolute_error: 1288195.1250\n",
      "Epoch 52/100\n",
      "9/9 [==============================] - 13s 1s/step - loss: 333654.9688 - mean_absolute_error: 260485.2656 - val_loss: 1349848.1250 - val_mean_absolute_error: 1276786.1250\n",
      "Epoch 53/100\n",
      "9/9 [==============================] - 12s 1s/step - loss: 351274.8125 - mean_absolute_error: 278359.4375 - val_loss: 1367870.1250 - val_mean_absolute_error: 1295099.1250\n",
      "Epoch 54/100\n",
      "9/9 [==============================] - 12s 1s/step - loss: 361916.9688 - mean_absolute_error: 289462.3438 - val_loss: 1369851.2500 - val_mean_absolute_error: 1297604.2500\n",
      "Epoch 55/100\n",
      "9/9 [==============================] - 12s 1s/step - loss: 352976.7188 - mean_absolute_error: 280789.5938 - val_loss: 1363129.8750 - val_mean_absolute_error: 1290949.2500\n",
      "Epoch 56/100\n",
      "9/9 [==============================] - 13s 1s/step - loss: 328444.2188 - mean_absolute_error: 256346.2812 - val_loss: 1364811.3750 - val_mean_absolute_error: 1292746.1250\n",
      "Epoch 57/100\n",
      "9/9 [==============================] - 12s 1s/step - loss: 353624.5938 - mean_absolute_error: 281578.1562 - val_loss: 1359075.8750 - val_mean_absolute_error: 1287069.8750\n",
      "Epoch 58/100\n",
      "9/9 [==============================] - 13s 1s/step - loss: 376803.1875 - mean_absolute_error: 304833.8438 - val_loss: 1386642.3750 - val_mean_absolute_error: 1314836.3750\n",
      "Epoch 59/100\n",
      "9/9 [==============================] - 13s 1s/step - loss: 361627.9062 - mean_absolute_error: 289773.3438 - val_loss: 1370650.6250 - val_mean_absolute_error: 1298791.1250\n",
      "Epoch 60/100\n",
      "9/9 [==============================] - 13s 1s/step - loss: 347727.6562 - mean_absolute_error: 275787.2500 - val_loss: 1376431.2500 - val_mean_absolute_error: 1304402.1250\n",
      "Epoch 61/100\n",
      "9/9 [==============================] - 12s 1s/step - loss: 362257.0312 - mean_absolute_error: 290338.6562 - val_loss: 1361511.7500 - val_mean_absolute_error: 1289731.7500\n",
      "Epoch 62/100\n",
      "9/9 [==============================] - 14s 2s/step - loss: 316960.1562 - mean_absolute_error: 245243.9688 - val_loss: 1355312.6250 - val_mean_absolute_error: 1283759.0000\n",
      "Epoch 63/100\n",
      "9/9 [==============================] - 14s 2s/step - loss: 327474.0312 - mean_absolute_error: 256127.7500 - val_loss: 1362548.8750 - val_mean_absolute_error: 1291408.6250\n",
      "Epoch 64/100\n",
      "9/9 [==============================] - 13s 1s/step - loss: 297375.4375 - mean_absolute_error: 226427.5000 - val_loss: 1358991.6250 - val_mean_absolute_error: 1288189.8750\n",
      "Epoch 65/100\n",
      "9/9 [==============================] - 13s 1s/step - loss: 338755.3125 - mean_absolute_error: 267879.0625 - val_loss: 1357566.1250 - val_mean_absolute_error: 1286573.2500\n",
      "Epoch 66/100\n",
      "9/9 [==============================] - 13s 2s/step - loss: 302707.5000 - mean_absolute_error: 231755.3125 - val_loss: 1365647.0000 - val_mean_absolute_error: 1294685.6250\n",
      "Epoch 67/100\n",
      "9/9 [==============================] - 15s 2s/step - loss: 331661.2500 - mean_absolute_error: 260885.0781 - val_loss: 1362484.2500 - val_mean_absolute_error: 1291819.7500\n",
      "Epoch 68/100\n",
      "9/9 [==============================] - 15s 2s/step - loss: 298005.3125 - mean_absolute_error: 227377.7188 - val_loss: 1363758.1250 - val_mean_absolute_error: 1293131.6250\n",
      "Epoch 69/100\n",
      "9/9 [==============================] - 14s 2s/step - loss: 329428.6875 - mean_absolute_error: 258828.0625 - val_loss: 1359545.8750 - val_mean_absolute_error: 1289031.0000\n",
      "Epoch 70/100\n",
      "9/9 [==============================] - 15s 2s/step - loss: 320813.7500 - mean_absolute_error: 250394.8125 - val_loss: 1357279.7500 - val_mean_absolute_error: 1286898.7500\n",
      "Epoch 71/100\n",
      "9/9 [==============================] - 15s 2s/step - loss: 335783.7812 - mean_absolute_error: 265397.2500 - val_loss: 1358589.6250 - val_mean_absolute_error: 1288160.0000\n",
      "Epoch 72/100\n",
      "9/9 [==============================] - 15s 2s/step - loss: 362851.0312 - mean_absolute_error: 292437.0312 - val_loss: 1357418.2500 - val_mean_absolute_error: 1287026.0000\n",
      "Epoch 73/100\n",
      "9/9 [==============================] - 15s 2s/step - loss: 321436.0312 - mean_absolute_error: 251190.2188 - val_loss: 1365426.5000 - val_mean_absolute_error: 1295293.7500\n",
      "Epoch 74/100\n",
      "9/9 [==============================] - 14s 2s/step - loss: 309174.3125 - mean_absolute_error: 239227.9219 - val_loss: 1366096.0000 - val_mean_absolute_error: 1296270.0000\n",
      "Epoch 75/100\n",
      "9/9 [==============================] - 15s 2s/step - loss: 341548.6250 - mean_absolute_error: 271857.0625 - val_loss: 1357846.1250 - val_mean_absolute_error: 1288255.8750\n",
      "Epoch 76/100\n",
      "9/9 [==============================] - 14s 2s/step - loss: 317793.9688 - mean_absolute_error: 248223.8906 - val_loss: 1359556.8750 - val_mean_absolute_error: 1289956.6250\n",
      "Epoch 77/100\n",
      "9/9 [==============================] - 14s 2s/step - loss: 305754.4375 - mean_absolute_error: 236137.2344 - val_loss: 1361926.7500 - val_mean_absolute_error: 1292331.5000\n",
      "Epoch 78/100\n",
      "9/9 [==============================] - 13s 2s/step - loss: 325958.3750 - mean_absolute_error: 256407.4375 - val_loss: 1358535.5000 - val_mean_absolute_error: 1289030.3750\n",
      "Epoch 79/100\n",
      "9/9 [==============================] - 14s 2s/step - loss: 301768.5312 - mean_absolute_error: 232366.2500 - val_loss: 1361289.2500 - val_mean_absolute_error: 1291922.6250\n",
      "Epoch 80/100\n",
      "9/9 [==============================] - 14s 2s/step - loss: 313978.9688 - mean_absolute_error: 244667.5156 - val_loss: 1353991.1250 - val_mean_absolute_error: 1284831.2500\n",
      "Epoch 81/100\n",
      "9/9 [==============================] - 14s 2s/step - loss: 314997.1250 - mean_absolute_error: 245873.6875 - val_loss: 1381370.3750 - val_mean_absolute_error: 1312348.0000\n",
      "Epoch 82/100\n",
      "9/9 [==============================] - 15s 2s/step - loss: 325793.2500 - mean_absolute_error: 256815.8281 - val_loss: 1359242.2500 - val_mean_absolute_error: 1290476.8750\n",
      "Saving Model...\n",
      "INFO:tensorflow:Assets written to: ./models/MobileNetV3_Large_1/model/assets\n"
     ]
    },
    {
     "name": "stderr",
     "output_type": "stream",
     "text": [
      "INFO:tensorflow:Assets written to: ./models/MobileNetV3_Large_1/model/assets\n"
     ]
    },
    {
     "name": "stdout",
     "output_type": "stream",
     "text": [
      "5/5 [==============================] - 17s 931ms/step\n",
      "Evaluating Model...\n",
      "Cant find feature_importance\n",
      "\n",
      "Model Evaluation:\n",
      "{'Timestamp': '2024-05-02 10:58:37.598544', 'R2': 0.36634960560336016, 'MAE': 1321069.37890625, 'Percentage Error': 55.96587296383744, 'MSE': 3056014506092.7666, 'Feature Importances': None}\n",
      "\n",
      "Median Evaluation:\n",
      "{'R2': 0.36634960560336016, 'MAE': 1321069.37890625, 'Percentage Error': 55.96587296383744, 'MSE': 3056014506092.7666}\n",
      "Feauter Importance...\n",
      "None\n",
      "\n",
      "Saving Best and Worst Image Predictions\n",
      "\n",
      "Done!\n"
     ]
    }
   ],
   "source": [
    "from models import CNN_model1\n",
    "from keras.applications import MobileNetV3Large\n",
    "\n",
    "TYPE = 'CNN'\n",
    "MODEL_NAME: str = \"MobileNetV3_Large_1\"\n",
    "FUNCTION: object = CNN_model1\n",
    "ARGS: tuple = (\n",
    "    MobileNetV3Large,\n",
    "    train1_images,\n",
    "    train1_prices,\n",
    "    valid_images,\n",
    "    valid_prices,\n",
    "    [\n",
    "    Flatten(),\n",
    "    Dense(512, activation=\"relu\", kernel_regularizer=regularizers.l1(0.2)),\n",
    "    # BatchNormalization(),\n",
    "    layers.Dropout(0.2),\n",
    "    Dense(256, activation=\"relu\", kernel_regularizer=regularizers.l1(0.2)),\n",
    "    layers.Dropout(0.2),\n",
    "    Dense(128, activation=\"relu\", kernel_regularizer=regularizers.l1(0.2)),\n",
    "    layers.Dropout(0.1),\n",
    "    Dense(64, activation=\"relu\"),\n",
    "    Dense(1, activation=\"linear\"),\n",
    "    ],\n",
    ")\n",
    "#train_save_model(FUNCTION, ARGS, test_images, test_features, test_prices, f\"{MODELS_PATH}/{MODEL_NAME}\", USE_GPU, TYPE)"
   ]
  },
  {
   "cell_type": "code",
   "execution_count": null,
   "metadata": {},
   "outputs": [
    {
     "data": {
      "image/png": "[encoded data removed]",
      "text/plain": [
       "<Figure size 640x480 with 1 Axes>"
      ]
     },
     "metadata": {},
     "output_type": "display_data"
    }
   ],
   "source": [
    "#load the fit-history \n",
    "with open(f\"{MODELS_PATH}/MobileNetV3_Large_1/history\", \"rb\") as file_pi:\n",
    "    history = pickle.load(file_pi)\n",
    "\n",
    "#plot the history\n",
    "plt.plot(history['loss'])\n",
    "plt.plot(history['val_loss'])\n",
    "plt.title('Model Loss')\n",
    "plt.ylabel('Loss')\n",
    "plt.xlabel('Epoch')\n",
    "#Add legend\n",
    "plt.legend(['Train', 'Validation'], loc='upper left')\n",
    "plt.savefig(f\"{MODELS_PATH}/MobileNetV3_Large/loss.png\")\n",
    "plt.show()\n",
    "plt.close()\n"
   ]
  },
  {
   "cell_type": "markdown",
   "metadata": {},
   "source": [
    "### CNN RF"
   ]
  },
  {
   "cell_type": "markdown",
   "metadata": {},
   "source": [
    "#### MobileNetV3Large + Random Forrest"
   ]
  },
  {
   "cell_type": "code",
   "execution_count": 73,
   "metadata": {},
   "outputs": [],
   "source": [
    "MobileNet_CNN = keras.models.load_model(f\"{MODELS_PATH}/MobileNetV3_Large_1/model\")\n",
    "#MobileNet_CNN =  keras.models.load_model(f\"{MODELS_PATH}/MobileNetV2/model\")"
   ]
  },
  {
   "cell_type": "code",
   "execution_count": 81,
   "metadata": {},
   "outputs": [
    {
     "name": "stdout",
     "output_type": "stream",
     "text": [
      "Setting CPU\n",
      "9/9 [==============================] - 8s 936ms/step\n",
      "Saving Model...\n",
      "5/5 [==============================] - 5s 937ms/step\n",
      "Evaluating Model...\n",
      "\n",
      "Model Evaluation:\n",
      "{'Timestamp': '2024-05-06 14:19:01.895835', 'R2': 0.817811688777333, 'MAE': 639530.125, 'Percentage Error': 15.353762324169459, 'MSE': 878670836253.75, 'Feature Importances': {'image_predictions': 0.02692777596578086, 'postal_code': 0.07059495862881453, 'type': 0.0, 'size': 0.6486507166713145, 'basement_size': 0.0, 'rooms': 0.009175427202953348, 'year_built': 0.034210252930964594, 'year_rebuilt': 0.04447188999376324, 'energy_label': 0.01079319457535719, 'postal_avg_sqm_price': 0.11251680007812587, 'lat': 0.01849324145945681, 'lng': 0.02416574249346909}}\n",
      "\n",
      "Median Evaluation:\n",
      "{'R2': 0.8167331440759821, 'MAE': 644872.6875, 'Percentage Error': 15.384344816548316, 'MSE': 883872518888.125}\n",
      "Feauter Importance...\n",
      "{'image_predictions': 0.02692777596578086, 'postal_code': 0.07059495862881453, 'type': 0.0, 'size': 0.6486507166713145, 'basement_size': 0.0, 'rooms': 0.009175427202953348, 'year_built': 0.034210252930964594, 'year_rebuilt': 0.04447188999376324, 'energy_label': 0.01079319457535719, 'postal_avg_sqm_price': 0.11251680007812587, 'lat': 0.01849324145945681, 'lng': 0.02416574249346909}\n"
     ]
    },
    {
     "name": "stderr",
     "output_type": "stream",
     "text": [
      "/usr/local/lib/python3.10/site-packages/sklearn/base.py:439: UserWarning: X does not have valid feature names, but RandomForestRegressor was fitted with feature names\n",
      "  warnings.warn(\n"
     ]
    },
    {
     "name": "stdout",
     "output_type": "stream",
     "text": [
      "\n",
      "Saving Feature Importance\n",
      "\n",
      "Done!\n",
      "Setting CPU\n",
      "9/9 [==============================] - 8s 922ms/step\n",
      "Saving Model...\n",
      "5/5 [==============================] - 5s 954ms/step\n",
      "Evaluating Model...\n",
      "\n",
      "Model Evaluation:\n",
      "{'Timestamp': '2024-05-06 14:19:19.959075', 'R2': 0.8241007556801427, 'MAE': 635521.375, 'Percentage Error': 15.076718018878205, 'MSE': 848339473952.5, 'Feature Importances': {'image_predictions': 0.028249367981720997, 'postal_code': 0.063859321043778, 'type': 0.0, 'size': 0.6393128860697473, 'basement_size': 0.0, 'rooms': 0.007981615094910403, 'year_built': 0.04197085085221907, 'year_rebuilt': 0.046707161035423855, 'energy_label': 0.009918180419150617, 'postal_avg_sqm_price': 0.12275268026367993, 'lat': 0.014674919579166324, 'lng': 0.024573017660203554}}\n",
      "\n",
      "Median Evaluation:\n",
      "{'R2': 0.8167331440759821, 'MAE': 644872.6875, 'Percentage Error': 15.384344816548316, 'MSE': 883872518888.125}\n",
      "Feauter Importance...\n",
      "{'image_predictions': 0.028249367981720997, 'postal_code': 0.063859321043778, 'type': 0.0, 'size': 0.6393128860697473, 'basement_size': 0.0, 'rooms': 0.007981615094910403, 'year_built': 0.04197085085221907, 'year_rebuilt': 0.046707161035423855, 'energy_label': 0.009918180419150617, 'postal_avg_sqm_price': 0.12275268026367993, 'lat': 0.014674919579166324, 'lng': 0.024573017660203554}\n"
     ]
    },
    {
     "name": "stderr",
     "output_type": "stream",
     "text": [
      "/usr/local/lib/python3.10/site-packages/sklearn/base.py:439: UserWarning: X does not have valid feature names, but RandomForestRegressor was fitted with feature names\n",
      "  warnings.warn(\n"
     ]
    },
    {
     "name": "stdout",
     "output_type": "stream",
     "text": [
      "\n",
      "Saving Feature Importance\n",
      "\n",
      "Done!\n",
      "Setting CPU\n",
      "9/9 [==============================] - 9s 941ms/step\n",
      "Saving Model...\n",
      "5/5 [==============================] - 5s 892ms/step\n",
      "Evaluating Model...\n",
      "\n",
      "Model Evaluation:\n",
      "{'Timestamp': '2024-05-06 14:19:37.554676', 'R2': 0.8118226303564926, 'MAE': 646727.1875, 'Percentage Error': 15.179609683514611, 'MSE': 907555296160.625, 'Feature Importances': {'image_predictions': 0.026405549598746435, 'postal_code': 0.0654320836697801, 'type': 0.0, 'size': 0.6344199720884743, 'basement_size': 0.0, 'rooms': 0.007162252302950727, 'year_built': 0.028973262288922448, 'year_rebuilt': 0.0584729710936828, 'energy_label': 0.01130100818240209, 'postal_avg_sqm_price': 0.12416406591677404, 'lat': 0.01899462779741207, 'lng': 0.024674207060855158}}\n",
      "\n",
      "Median Evaluation:\n",
      "{'R2': 0.8167331440759821, 'MAE': 644872.6875, 'Percentage Error': 15.384344816548316, 'MSE': 883872518888.125}\n",
      "Feauter Importance...\n",
      "{'image_predictions': 0.026405549598746435, 'postal_code': 0.0654320836697801, 'type': 0.0, 'size': 0.6344199720884743, 'basement_size': 0.0, 'rooms': 0.007162252302950727, 'year_built': 0.028973262288922448, 'year_rebuilt': 0.0584729710936828, 'energy_label': 0.01130100818240209, 'postal_avg_sqm_price': 0.12416406591677404, 'lat': 0.01899462779741207, 'lng': 0.024674207060855158}\n"
     ]
    },
    {
     "name": "stderr",
     "output_type": "stream",
     "text": [
      "/usr/local/lib/python3.10/site-packages/sklearn/base.py:439: UserWarning: X does not have valid feature names, but RandomForestRegressor was fitted with feature names\n",
      "  warnings.warn(\n"
     ]
    },
    {
     "name": "stdout",
     "output_type": "stream",
     "text": [
      "\n",
      "Saving Feature Importance\n",
      "\n",
      "Done!\n",
      "Setting CPU\n",
      "9/9 [==============================] - 8s 840ms/step\n",
      "Saving Model...\n",
      "5/5 [==============================] - 4s 874ms/step\n",
      "Evaluating Model...\n",
      "\n",
      "Model Evaluation:\n",
      "{'Timestamp': '2024-05-06 14:19:53.591372', 'R2': 0.8128209893497275, 'MAE': 652852.625, 'Percentage Error': 15.293631485216869, 'MSE': 902740338902.5, 'Feature Importances': {'image_predictions': 0.032442716507684946, 'postal_code': 0.06308429505879716, 'type': 0.0, 'size': 0.64150661536889, 'basement_size': 0.0, 'rooms': 0.006755978989513026, 'year_built': 0.029277825460664143, 'year_rebuilt': 0.04302980713818435, 'energy_label': 0.011301086802882143, 'postal_avg_sqm_price': 0.13065037541156918, 'lat': 0.01727616783777577, 'lng': 0.024675131424039393}}\n",
      "\n",
      "Median Evaluation:\n",
      "{'R2': 0.8167331440759821, 'MAE': 644872.6875, 'Percentage Error': 15.384344816548316, 'MSE': 883872518888.125}\n",
      "Feauter Importance...\n",
      "{'image_predictions': 0.032442716507684946, 'postal_code': 0.06308429505879716, 'type': 0.0, 'size': 0.64150661536889, 'basement_size': 0.0, 'rooms': 0.006755978989513026, 'year_built': 0.029277825460664143, 'year_rebuilt': 0.04302980713818435, 'energy_label': 0.011301086802882143, 'postal_avg_sqm_price': 0.13065037541156918, 'lat': 0.01727616783777577, 'lng': 0.024675131424039393}\n"
     ]
    },
    {
     "name": "stderr",
     "output_type": "stream",
     "text": [
      "/usr/local/lib/python3.10/site-packages/sklearn/base.py:439: UserWarning: X does not have valid feature names, but RandomForestRegressor was fitted with feature names\n",
      "  warnings.warn(\n"
     ]
    },
    {
     "name": "stdout",
     "output_type": "stream",
     "text": [
      "\n",
      "Saving Feature Importance\n",
      "\n",
      "Done!\n",
      "Setting CPU\n",
      "9/9 [==============================] - 8s 900ms/step\n",
      "Saving Model...\n",
      "5/5 [==============================] - 4s 874ms/step\n",
      "Evaluating Model...\n",
      "\n",
      "Model Evaluation:\n",
      "{'Timestamp': '2024-05-06 14:20:09.913378', 'R2': 0.8198581954222807, 'MAE': 638550.8125, 'Percentage Error': 15.299558104854688, 'MSE': 868800797429.375, 'Feature Importances': {'image_predictions': 0.028261145466997418, 'postal_code': 0.060594765212950576, 'type': 0.0, 'size': 0.6398347359675425, 'basement_size': 0.0, 'rooms': 0.008377121772478246, 'year_built': 0.03962428388459673, 'year_rebuilt': 0.05244511560511775, 'energy_label': 0.009702562741328032, 'postal_avg_sqm_price': 0.12040209311576644, 'lat': 0.018555420423901892, 'lng': 0.02220275580932031}}\n",
      "\n",
      "Median Evaluation:\n",
      "{'R2': 0.8167331440759821, 'MAE': 644872.6875, 'Percentage Error': 15.384344816548316, 'MSE': 883872518888.125}\n",
      "Feauter Importance...\n",
      "{'image_predictions': 0.028261145466997418, 'postal_code': 0.060594765212950576, 'type': 0.0, 'size': 0.6398347359675425, 'basement_size': 0.0, 'rooms': 0.008377121772478246, 'year_built': 0.03962428388459673, 'year_rebuilt': 0.05244511560511775, 'energy_label': 0.009702562741328032, 'postal_avg_sqm_price': 0.12040209311576644, 'lat': 0.018555420423901892, 'lng': 0.02220275580932031}\n"
     ]
    },
    {
     "name": "stderr",
     "output_type": "stream",
     "text": [
      "/usr/local/lib/python3.10/site-packages/sklearn/base.py:439: UserWarning: X does not have valid feature names, but RandomForestRegressor was fitted with feature names\n",
      "  warnings.warn(\n"
     ]
    },
    {
     "name": "stdout",
     "output_type": "stream",
     "text": [
      "\n",
      "Saving Feature Importance\n",
      "\n",
      "Done!\n",
      "Setting CPU\n",
      "9/9 [==============================] - 7s 813ms/step\n",
      "Saving Model...\n",
      "5/5 [==============================] - 4s 840ms/step\n",
      "Evaluating Model...\n",
      "\n",
      "Model Evaluation:\n",
      "{'Timestamp': '2024-05-06 14:20:25.490173', 'R2': 0.8099649901912713, 'MAE': 642773.3125, 'Percentage Error': 15.031247275958947, 'MSE': 916514456199.375, 'Feature Importances': {'image_predictions': 0.03179355005752697, 'postal_code': 0.07613677755828424, 'type': 0.0, 'size': 0.6294358628416675, 'basement_size': 0.0, 'rooms': 0.008603090139844324, 'year_built': 0.03345890943460672, 'year_rebuilt': 0.04815411268742741, 'energy_label': 0.008529007599676959, 'postal_avg_sqm_price': 0.12161566371762521, 'lat': 0.01807397875944385, 'lng': 0.024199047203896606}}\n",
      "\n",
      "Median Evaluation:\n",
      "{'R2': 0.8167331440759821, 'MAE': 644872.6875, 'Percentage Error': 15.384344816548316, 'MSE': 883872518888.125}\n",
      "Feauter Importance...\n",
      "{'image_predictions': 0.03179355005752697, 'postal_code': 0.07613677755828424, 'type': 0.0, 'size': 0.6294358628416675, 'basement_size': 0.0, 'rooms': 0.008603090139844324, 'year_built': 0.03345890943460672, 'year_rebuilt': 0.04815411268742741, 'energy_label': 0.008529007599676959, 'postal_avg_sqm_price': 0.12161566371762521, 'lat': 0.01807397875944385, 'lng': 0.024199047203896606}\n"
     ]
    },
    {
     "name": "stderr",
     "output_type": "stream",
     "text": [
      "/usr/local/lib/python3.10/site-packages/sklearn/base.py:439: UserWarning: X does not have valid feature names, but RandomForestRegressor was fitted with feature names\n",
      "  warnings.warn(\n"
     ]
    },
    {
     "name": "stdout",
     "output_type": "stream",
     "text": [
      "\n",
      "Saving Feature Importance\n",
      "\n",
      "Done!\n",
      "Setting CPU\n",
      "9/9 [==============================] - 9s 889ms/step\n",
      "Saving Model...\n",
      "5/5 [==============================] - 4s 852ms/step\n",
      "Evaluating Model...\n",
      "\n",
      "Model Evaluation:\n",
      "{'Timestamp': '2024-05-06 14:20:43.153549', 'R2': 0.8212238399069841, 'MAE': 636628.6875, 'Percentage Error': 15.306172899093534, 'MSE': 862214469396.875, 'Feature Importances': {'image_predictions': 0.026894427314491185, 'postal_code': 0.06123317350852726, 'type': 0.0, 'size': 0.6469799703047526, 'basement_size': 0.0, 'rooms': 0.010919822801110847, 'year_built': 0.0371752526301436, 'year_rebuilt': 0.04903048392048565, 'energy_label': 0.010485342963652675, 'postal_avg_sqm_price': 0.1174600969017672, 'lat': 0.01568534015499217, 'lng': 0.02413608950007691}}\n",
      "\n",
      "Median Evaluation:\n",
      "{'R2': 0.8167331440759821, 'MAE': 644872.6875, 'Percentage Error': 15.384344816548316, 'MSE': 883872518888.125}\n",
      "Feauter Importance...\n",
      "{'image_predictions': 0.026894427314491185, 'postal_code': 0.06123317350852726, 'type': 0.0, 'size': 0.6469799703047526, 'basement_size': 0.0, 'rooms': 0.010919822801110847, 'year_built': 0.0371752526301436, 'year_rebuilt': 0.04903048392048565, 'energy_label': 0.010485342963652675, 'postal_avg_sqm_price': 0.1174600969017672, 'lat': 0.01568534015499217, 'lng': 0.02413608950007691}\n"
     ]
    },
    {
     "name": "stderr",
     "output_type": "stream",
     "text": [
      "/usr/local/lib/python3.10/site-packages/sklearn/base.py:439: UserWarning: X does not have valid feature names, but RandomForestRegressor was fitted with feature names\n",
      "  warnings.warn(\n"
     ]
    },
    {
     "name": "stdout",
     "output_type": "stream",
     "text": [
      "\n",
      "Saving Feature Importance\n",
      "\n",
      "Done!\n",
      "Setting CPU\n",
      "9/9 [==============================] - 8s 884ms/step\n",
      "Saving Model...\n",
      "5/5 [==============================] - 4s 851ms/step\n",
      "Evaluating Model...\n",
      "\n",
      "Model Evaluation:\n",
      "{'Timestamp': '2024-05-06 14:21:00.222384', 'R2': 0.8111120964364943, 'MAE': 645892.3125, 'Percentage Error': 15.447733661923118, 'MSE': 910982110040.625, 'Feature Importances': {'image_predictions': 0.02534036103165928, 'postal_code': 0.07483766800159682, 'type': 0.0, 'size': 0.6272306047037972, 'basement_size': 0.0, 'rooms': 0.007234192381710302, 'year_built': 0.03231173954223549, 'year_rebuilt': 0.05050359578149386, 'energy_label': 0.01081679074040626, 'postal_avg_sqm_price': 0.12925520498002926, 'lat': 0.018353590955884125, 'lng': 0.024116251881187295}}\n",
      "\n",
      "Median Evaluation:\n",
      "{'R2': 0.8167331440759821, 'MAE': 644872.6875, 'Percentage Error': 15.384344816548316, 'MSE': 883872518888.125}\n",
      "Feauter Importance...\n",
      "{'image_predictions': 0.02534036103165928, 'postal_code': 0.07483766800159682, 'type': 0.0, 'size': 0.6272306047037972, 'basement_size': 0.0, 'rooms': 0.007234192381710302, 'year_built': 0.03231173954223549, 'year_rebuilt': 0.05050359578149386, 'energy_label': 0.01081679074040626, 'postal_avg_sqm_price': 0.12925520498002926, 'lat': 0.018353590955884125, 'lng': 0.024116251881187295}\n"
     ]
    },
    {
     "name": "stderr",
     "output_type": "stream",
     "text": [
      "/usr/local/lib/python3.10/site-packages/sklearn/base.py:439: UserWarning: X does not have valid feature names, but RandomForestRegressor was fitted with feature names\n",
      "  warnings.warn(\n"
     ]
    },
    {
     "name": "stdout",
     "output_type": "stream",
     "text": [
      "\n",
      "Saving Feature Importance\n",
      "\n",
      "Done!\n",
      "Setting CPU\n",
      "9/9 [==============================] - 8s 930ms/step\n",
      "Saving Model...\n",
      "5/5 [==============================] - 5s 976ms/step\n",
      "Evaluating Model...\n",
      "\n",
      "Model Evaluation:\n",
      "{'Timestamp': '2024-05-06 14:21:19.120794', 'R2': 0.8152002933163096, 'MAE': 648182.4375, 'Percentage Error': 15.539431014274255, 'MSE': 891265261319.375, 'Feature Importances': {'image_predictions': 0.027410614395962155, 'postal_code': 0.06924510794724925, 'type': 0.0, 'size': 0.643721226049585, 'basement_size': 0.0, 'rooms': 0.008498667301424756, 'year_built': 0.03571135828657107, 'year_rebuilt': 0.04737656429014907, 'energy_label': 0.008554280409110746, 'postal_avg_sqm_price': 0.1188371163968294, 'lat': 0.01675462856705052, 'lng': 0.02389043635606787}}\n",
      "\n",
      "Median Evaluation:\n",
      "{'R2': 0.8167331440759821, 'MAE': 644872.6875, 'Percentage Error': 15.384344816548316, 'MSE': 883872518888.125}\n",
      "Feauter Importance...\n",
      "{'image_predictions': 0.027410614395962155, 'postal_code': 0.06924510794724925, 'type': 0.0, 'size': 0.643721226049585, 'basement_size': 0.0, 'rooms': 0.008498667301424756, 'year_built': 0.03571135828657107, 'year_rebuilt': 0.04737656429014907, 'energy_label': 0.008554280409110746, 'postal_avg_sqm_price': 0.1188371163968294, 'lat': 0.01675462856705052, 'lng': 0.02389043635606787}\n"
     ]
    },
    {
     "name": "stderr",
     "output_type": "stream",
     "text": [
      "/usr/local/lib/python3.10/site-packages/sklearn/base.py:439: UserWarning: X does not have valid feature names, but RandomForestRegressor was fitted with feature names\n",
      "  warnings.warn(\n"
     ]
    },
    {
     "name": "stdout",
     "output_type": "stream",
     "text": [
      "\n",
      "Saving Feature Importance\n",
      "\n",
      "Done!\n",
      "Setting CPU\n",
      "9/9 [==============================] - 8s 866ms/step\n",
      "Saving Model...\n",
      "5/5 [==============================] - 5s 937ms/step\n",
      "Evaluating Model...\n",
      "\n",
      "Model Evaluation:\n",
      "{'Timestamp': '2024-05-06 14:21:35.284610', 'R2': 0.807931425357604, 'MAE': 646248.4375, 'Percentage Error': 15.360798315914332, 'MSE': 926322078329.375, 'Feature Importances': {'image_predictions': 0.029563853753162377, 'postal_code': 0.06264724925684409, 'type': 0.0, 'size': 0.6423382768358484, 'basement_size': 0.0, 'rooms': 0.007392699447132042, 'year_built': 0.027884087302986808, 'year_rebuilt': 0.04732061612487472, 'energy_label': 0.010227648676431183, 'postal_avg_sqm_price': 0.13507919669225593, 'lat': 0.014607044745035169, 'lng': 0.02293932716542917}}\n",
      "\n",
      "Median Evaluation:\n",
      "{'R2': 0.8167331440759821, 'MAE': 644872.6875, 'Percentage Error': 15.384344816548316, 'MSE': 883872518888.125}\n",
      "Feauter Importance...\n",
      "{'image_predictions': 0.029563853753162377, 'postal_code': 0.06264724925684409, 'type': 0.0, 'size': 0.6423382768358484, 'basement_size': 0.0, 'rooms': 0.007392699447132042, 'year_built': 0.027884087302986808, 'year_rebuilt': 0.04732061612487472, 'energy_label': 0.010227648676431183, 'postal_avg_sqm_price': 0.13507919669225593, 'lat': 0.014607044745035169, 'lng': 0.02293932716542917}\n"
     ]
    },
    {
     "name": "stderr",
     "output_type": "stream",
     "text": [
      "/usr/local/lib/python3.10/site-packages/sklearn/base.py:439: UserWarning: X does not have valid feature names, but RandomForestRegressor was fitted with feature names\n",
      "  warnings.warn(\n"
     ]
    },
    {
     "name": "stdout",
     "output_type": "stream",
     "text": [
      "\n",
      "Saving Feature Importance\n",
      "\n",
      "Done!\n"
     ]
    }
   ],
   "source": [
    "from models import CNN_RF_model\n",
    "TYPE = 'CNN_RF'\n",
    "MODEL_NAME: str = \"MobileNetV3_Large_RF_1\"\n",
    "FUNCTION: object = CNN_RF_model\n",
    "ARGS: tuple = (\n",
    "    MobileNet_CNN, # keras.models.load_model(f\"{MODELS_PATH}/MobileNetV2/model\")\n",
    "    train2_images,\n",
    "    train2_features,\n",
    "    train2_prices,\n",
    ")\n",
    "for i in range(10):\n",
    "    train_save_model(FUNCTION, ARGS, test_images, test_features,  test_prices, f\"{MODELS_PATH}/{MODEL_NAME}\", USE_GPU, TYPE)"
   ]
  },
  {
   "cell_type": "markdown",
   "metadata": {},
   "source": [
    "#### VGG16 + Random Forrest"
   ]
  },
  {
   "cell_type": "code",
   "execution_count": null,
   "metadata": {},
   "outputs": [],
   "source": [
    "VGG_16_CNN_Img_model = keras.models.load_model(f\"{MODELS_PATH}/VGG16\")"
   ]
  },
  {
   "cell_type": "code",
   "execution_count": 79,
   "metadata": {},
   "outputs": [
    {
     "name": "stdout",
     "output_type": "stream",
     "text": [
      "Setting CPU\n",
      "9/9 [==============================] - 180s 20s/step\n",
      "Saving Model...\n",
      "5/5 [==============================] - 99s 20s/step\n",
      "Evaluating Model...\n",
      "\n",
      "Model Evaluation:\n",
      "{'Timestamp': '2024-05-06 13:28:30.210718', 'R2': 0.8068028789465412, 'MAE': 658335.3125, 'Percentage Error': 15.548370290492839, 'MSE': 931764912790.625, 'Feature Importances': {'image_predictions': 0.03502922132790624, 'postal_code': 0.06709822208023422, 'type': 0.0, 'size': 0.634438776957133, 'basement_size': 0.0, 'rooms': 0.008292470127554163, 'year_built': 0.031694663085636864, 'year_rebuilt': 0.048111823687660996, 'energy_label': 0.009305261402360931, 'postal_avg_sqm_price': 0.12600706936521744, 'lat': 0.015238699626565681, 'lng': 0.024783792339730645}}\n",
      "\n",
      "Median Evaluation:\n",
      "{'R2': 0.8068028789465412, 'MAE': 658335.3125, 'Percentage Error': 15.548370290492839, 'MSE': 931764912790.625}\n",
      "Feauter Importance...\n",
      "{'image_predictions': 0.03502922132790624, 'postal_code': 0.06709822208023422, 'type': 0.0, 'size': 0.634438776957133, 'basement_size': 0.0, 'rooms': 0.008292470127554163, 'year_built': 0.031694663085636864, 'year_rebuilt': 0.048111823687660996, 'energy_label': 0.009305261402360931, 'postal_avg_sqm_price': 0.12600706936521744, 'lat': 0.015238699626565681, 'lng': 0.024783792339730645}\n"
     ]
    },
    {
     "name": "stderr",
     "output_type": "stream",
     "text": [
      "/usr/local/lib/python3.10/site-packages/sklearn/base.py:439: UserWarning: X does not have valid feature names, but RandomForestRegressor was fitted with feature names\n",
      "  warnings.warn(\n"
     ]
    },
    {
     "name": "stdout",
     "output_type": "stream",
     "text": [
      "\n",
      "Saving Feature Importance\n",
      "\n",
      "Done!\n",
      "Setting CPU\n",
      "9/9 [==============================] - 179s 20s/step\n",
      "Saving Model...\n",
      "5/5 [==============================] - 107s 22s/step\n",
      "Evaluating Model...\n",
      "\n",
      "Model Evaluation:\n",
      "{'Timestamp': '2024-05-06 13:33:20.514099', 'R2': 0.8068028789465412, 'MAE': 658335.3125, 'Percentage Error': 15.548370290492839, 'MSE': 931764912790.625, 'Feature Importances': {'image_predictions': 0.03502922132790624, 'postal_code': 0.06709822208023422, 'type': 0.0, 'size': 0.634438776957133, 'basement_size': 0.0, 'rooms': 0.008292470127554163, 'year_built': 0.031694663085636864, 'year_rebuilt': 0.048111823687660996, 'energy_label': 0.009305261402360931, 'postal_avg_sqm_price': 0.12600706936521744, 'lat': 0.015238699626565681, 'lng': 0.024783792339730645}}\n",
      "\n",
      "Median Evaluation:\n",
      "{'R2': 0.8068028789465412, 'MAE': 658335.3125, 'Percentage Error': 15.548370290492839, 'MSE': 931764912790.625}\n",
      "Feauter Importance...\n",
      "{'image_predictions': 0.03502922132790624, 'postal_code': 0.06709822208023422, 'type': 0.0, 'size': 0.634438776957133, 'basement_size': 0.0, 'rooms': 0.008292470127554163, 'year_built': 0.031694663085636864, 'year_rebuilt': 0.048111823687660996, 'energy_label': 0.009305261402360931, 'postal_avg_sqm_price': 0.12600706936521744, 'lat': 0.015238699626565681, 'lng': 0.024783792339730645}\n"
     ]
    },
    {
     "name": "stderr",
     "output_type": "stream",
     "text": [
      "/usr/local/lib/python3.10/site-packages/sklearn/base.py:439: UserWarning: X does not have valid feature names, but RandomForestRegressor was fitted with feature names\n",
      "  warnings.warn(\n"
     ]
    },
    {
     "name": "stdout",
     "output_type": "stream",
     "text": [
      "\n",
      "Saving Feature Importance\n",
      "\n",
      "Done!\n",
      "Setting CPU\n",
      "9/9 [==============================] - 199s 22s/step\n",
      "Saving Model...\n",
      "5/5 [==============================] - 120s 24s/step\n",
      "Evaluating Model...\n",
      "\n",
      "Model Evaluation:\n",
      "{'Timestamp': '2024-05-06 13:38:44.166421', 'R2': 0.8068028789465412, 'MAE': 658335.3125, 'Percentage Error': 15.548370290492839, 'MSE': 931764912790.625, 'Feature Importances': {'image_predictions': 0.03502922132790624, 'postal_code': 0.06709822208023422, 'type': 0.0, 'size': 0.634438776957133, 'basement_size': 0.0, 'rooms': 0.008292470127554163, 'year_built': 0.031694663085636864, 'year_rebuilt': 0.048111823687660996, 'energy_label': 0.009305261402360931, 'postal_avg_sqm_price': 0.12600706936521744, 'lat': 0.015238699626565681, 'lng': 0.024783792339730645}}\n",
      "\n",
      "Median Evaluation:\n",
      "{'R2': 0.8068028789465412, 'MAE': 658335.3125, 'Percentage Error': 15.548370290492839, 'MSE': 931764912790.625}\n",
      "Feauter Importance...\n",
      "{'image_predictions': 0.03502922132790624, 'postal_code': 0.06709822208023422, 'type': 0.0, 'size': 0.634438776957133, 'basement_size': 0.0, 'rooms': 0.008292470127554163, 'year_built': 0.031694663085636864, 'year_rebuilt': 0.048111823687660996, 'energy_label': 0.009305261402360931, 'postal_avg_sqm_price': 0.12600706936521744, 'lat': 0.015238699626565681, 'lng': 0.024783792339730645}\n"
     ]
    },
    {
     "name": "stderr",
     "output_type": "stream",
     "text": [
      "/usr/local/lib/python3.10/site-packages/sklearn/base.py:439: UserWarning: X does not have valid feature names, but RandomForestRegressor was fitted with feature names\n",
      "  warnings.warn(\n"
     ]
    },
    {
     "name": "stdout",
     "output_type": "stream",
     "text": [
      "\n",
      "Saving Feature Importance\n",
      "\n",
      "Done!\n",
      "Setting CPU\n",
      "9/9 [==============================] - 197s 22s/step\n",
      "Saving Model...\n",
      "5/5 [==============================] - 107s 21s/step\n",
      "Evaluating Model...\n",
      "\n",
      "Model Evaluation:\n",
      "{'Timestamp': '2024-05-06 13:43:53.065531', 'R2': 0.8068028789465412, 'MAE': 658335.3125, 'Percentage Error': 15.548370290492839, 'MSE': 931764912790.625, 'Feature Importances': {'image_predictions': 0.03502922132790624, 'postal_code': 0.06709822208023422, 'type': 0.0, 'size': 0.634438776957133, 'basement_size': 0.0, 'rooms': 0.008292470127554163, 'year_built': 0.031694663085636864, 'year_rebuilt': 0.048111823687660996, 'energy_label': 0.009305261402360931, 'postal_avg_sqm_price': 0.12600706936521744, 'lat': 0.015238699626565681, 'lng': 0.024783792339730645}}\n",
      "\n",
      "Median Evaluation:\n",
      "{'R2': 0.8068028789465412, 'MAE': 658335.3125, 'Percentage Error': 15.548370290492839, 'MSE': 931764912790.625}\n",
      "Feauter Importance...\n",
      "{'image_predictions': 0.03502922132790624, 'postal_code': 0.06709822208023422, 'type': 0.0, 'size': 0.634438776957133, 'basement_size': 0.0, 'rooms': 0.008292470127554163, 'year_built': 0.031694663085636864, 'year_rebuilt': 0.048111823687660996, 'energy_label': 0.009305261402360931, 'postal_avg_sqm_price': 0.12600706936521744, 'lat': 0.015238699626565681, 'lng': 0.024783792339730645}\n"
     ]
    },
    {
     "name": "stderr",
     "output_type": "stream",
     "text": [
      "/usr/local/lib/python3.10/site-packages/sklearn/base.py:439: UserWarning: X does not have valid feature names, but RandomForestRegressor was fitted with feature names\n",
      "  warnings.warn(\n"
     ]
    },
    {
     "name": "stdout",
     "output_type": "stream",
     "text": [
      "\n",
      "Saving Feature Importance\n",
      "\n",
      "Done!\n",
      "Setting CPU\n",
      "9/9 [==============================] - 209s 23s/step\n",
      "Saving Model...\n",
      "5/5 [==============================] - 122s 24s/step\n",
      "Evaluating Model...\n",
      "\n",
      "Model Evaluation:\n",
      "{'Timestamp': '2024-05-06 13:49:28.665503', 'R2': 0.8068028789465412, 'MAE': 658335.3125, 'Percentage Error': 15.548370290492839, 'MSE': 931764912790.625, 'Feature Importances': {'image_predictions': 0.03502922132790624, 'postal_code': 0.06709822208023422, 'type': 0.0, 'size': 0.634438776957133, 'basement_size': 0.0, 'rooms': 0.008292470127554163, 'year_built': 0.031694663085636864, 'year_rebuilt': 0.048111823687660996, 'energy_label': 0.009305261402360931, 'postal_avg_sqm_price': 0.12600706936521744, 'lat': 0.015238699626565681, 'lng': 0.024783792339730645}}\n",
      "\n",
      "Median Evaluation:\n",
      "{'R2': 0.8068028789465412, 'MAE': 658335.3125, 'Percentage Error': 15.548370290492839, 'MSE': 931764912790.625}\n",
      "Feauter Importance...\n",
      "{'image_predictions': 0.03502922132790624, 'postal_code': 0.06709822208023422, 'type': 0.0, 'size': 0.634438776957133, 'basement_size': 0.0, 'rooms': 0.008292470127554163, 'year_built': 0.031694663085636864, 'year_rebuilt': 0.048111823687660996, 'energy_label': 0.009305261402360931, 'postal_avg_sqm_price': 0.12600706936521744, 'lat': 0.015238699626565681, 'lng': 0.024783792339730645}\n"
     ]
    },
    {
     "name": "stderr",
     "output_type": "stream",
     "text": [
      "/usr/local/lib/python3.10/site-packages/sklearn/base.py:439: UserWarning: X does not have valid feature names, but RandomForestRegressor was fitted with feature names\n",
      "  warnings.warn(\n"
     ]
    },
    {
     "name": "stdout",
     "output_type": "stream",
     "text": [
      "\n",
      "Saving Feature Importance\n",
      "\n",
      "Done!\n",
      "Setting CPU\n",
      "9/9 [==============================] - 201s 22s/step\n",
      "Saving Model...\n",
      "5/5 [==============================] - 124s 25s/step\n",
      "Evaluating Model...\n",
      "\n",
      "Model Evaluation:\n",
      "{'Timestamp': '2024-05-06 13:54:59.442910', 'R2': 0.8068028789465412, 'MAE': 658335.3125, 'Percentage Error': 15.548370290492839, 'MSE': 931764912790.625, 'Feature Importances': {'image_predictions': 0.03502922132790624, 'postal_code': 0.06709822208023422, 'type': 0.0, 'size': 0.634438776957133, 'basement_size': 0.0, 'rooms': 0.008292470127554163, 'year_built': 0.031694663085636864, 'year_rebuilt': 0.048111823687660996, 'energy_label': 0.009305261402360931, 'postal_avg_sqm_price': 0.12600706936521744, 'lat': 0.015238699626565681, 'lng': 0.024783792339730645}}\n",
      "\n",
      "Median Evaluation:\n",
      "{'R2': 0.8068028789465412, 'MAE': 658335.3125, 'Percentage Error': 15.548370290492839, 'MSE': 931764912790.625}\n",
      "Feauter Importance...\n",
      "{'image_predictions': 0.03502922132790624, 'postal_code': 0.06709822208023422, 'type': 0.0, 'size': 0.634438776957133, 'basement_size': 0.0, 'rooms': 0.008292470127554163, 'year_built': 0.031694663085636864, 'year_rebuilt': 0.048111823687660996, 'energy_label': 0.009305261402360931, 'postal_avg_sqm_price': 0.12600706936521744, 'lat': 0.015238699626565681, 'lng': 0.024783792339730645}\n"
     ]
    },
    {
     "name": "stderr",
     "output_type": "stream",
     "text": [
      "/usr/local/lib/python3.10/site-packages/sklearn/base.py:439: UserWarning: X does not have valid feature names, but RandomForestRegressor was fitted with feature names\n",
      "  warnings.warn(\n"
     ]
    },
    {
     "name": "stdout",
     "output_type": "stream",
     "text": [
      "\n",
      "Saving Feature Importance\n",
      "\n",
      "Done!\n",
      "Setting CPU\n",
      "9/9 [==============================] - 227s 25s/step\n",
      "Saving Model...\n",
      "5/5 [==============================] - 131s 27s/step\n",
      "Evaluating Model...\n",
      "\n",
      "Model Evaluation:\n",
      "{'Timestamp': '2024-05-06 14:01:02.858597', 'R2': 0.8068028789465412, 'MAE': 658335.3125, 'Percentage Error': 15.548370290492839, 'MSE': 931764912790.625, 'Feature Importances': {'image_predictions': 0.03502922132790624, 'postal_code': 0.06709822208023422, 'type': 0.0, 'size': 0.634438776957133, 'basement_size': 0.0, 'rooms': 0.008292470127554163, 'year_built': 0.031694663085636864, 'year_rebuilt': 0.048111823687660996, 'energy_label': 0.009305261402360931, 'postal_avg_sqm_price': 0.12600706936521744, 'lat': 0.015238699626565681, 'lng': 0.024783792339730645}}\n",
      "\n",
      "Median Evaluation:\n",
      "{'R2': 0.8068028789465412, 'MAE': 658335.3125, 'Percentage Error': 15.548370290492839, 'MSE': 931764912790.625}\n",
      "Feauter Importance...\n",
      "{'image_predictions': 0.03502922132790624, 'postal_code': 0.06709822208023422, 'type': 0.0, 'size': 0.634438776957133, 'basement_size': 0.0, 'rooms': 0.008292470127554163, 'year_built': 0.031694663085636864, 'year_rebuilt': 0.048111823687660996, 'energy_label': 0.009305261402360931, 'postal_avg_sqm_price': 0.12600706936521744, 'lat': 0.015238699626565681, 'lng': 0.024783792339730645}\n"
     ]
    },
    {
     "name": "stderr",
     "output_type": "stream",
     "text": [
      "/usr/local/lib/python3.10/site-packages/sklearn/base.py:439: UserWarning: X does not have valid feature names, but RandomForestRegressor was fitted with feature names\n",
      "  warnings.warn(\n"
     ]
    },
    {
     "name": "stdout",
     "output_type": "stream",
     "text": [
      "\n",
      "Saving Feature Importance\n",
      "\n",
      "Done!\n",
      "Setting CPU\n",
      "9/9 [==============================] - 224s 25s/step\n",
      "Saving Model...\n",
      "5/5 [==============================] - 112s 22s/step\n",
      "Evaluating Model...\n",
      "\n",
      "Model Evaluation:\n",
      "{'Timestamp': '2024-05-06 14:06:45.017604', 'R2': 0.8068028789465412, 'MAE': 658335.3125, 'Percentage Error': 15.548370290492839, 'MSE': 931764912790.625, 'Feature Importances': {'image_predictions': 0.03502922132790624, 'postal_code': 0.06709822208023422, 'type': 0.0, 'size': 0.634438776957133, 'basement_size': 0.0, 'rooms': 0.008292470127554163, 'year_built': 0.031694663085636864, 'year_rebuilt': 0.048111823687660996, 'energy_label': 0.009305261402360931, 'postal_avg_sqm_price': 0.12600706936521744, 'lat': 0.015238699626565681, 'lng': 0.024783792339730645}}\n",
      "\n",
      "Median Evaluation:\n",
      "{'R2': 0.8068028789465412, 'MAE': 658335.3125, 'Percentage Error': 15.548370290492839, 'MSE': 931764912790.625}\n",
      "Feauter Importance...\n",
      "{'image_predictions': 0.03502922132790624, 'postal_code': 0.06709822208023422, 'type': 0.0, 'size': 0.634438776957133, 'basement_size': 0.0, 'rooms': 0.008292470127554163, 'year_built': 0.031694663085636864, 'year_rebuilt': 0.048111823687660996, 'energy_label': 0.009305261402360931, 'postal_avg_sqm_price': 0.12600706936521744, 'lat': 0.015238699626565681, 'lng': 0.024783792339730645}\n"
     ]
    },
    {
     "name": "stderr",
     "output_type": "stream",
     "text": [
      "/usr/local/lib/python3.10/site-packages/sklearn/base.py:439: UserWarning: X does not have valid feature names, but RandomForestRegressor was fitted with feature names\n",
      "  warnings.warn(\n"
     ]
    },
    {
     "name": "stdout",
     "output_type": "stream",
     "text": [
      "\n",
      "Saving Feature Importance\n",
      "\n",
      "Done!\n",
      "Setting CPU\n",
      "9/9 [==============================] - 217s 24s/step\n",
      "Saving Model...\n",
      "5/5 [==============================] - 115s 23s/step\n",
      "Evaluating Model...\n",
      "\n",
      "Model Evaluation:\n",
      "{'Timestamp': '2024-05-06 14:12:21.756056', 'R2': 0.8068028789465412, 'MAE': 658335.3125, 'Percentage Error': 15.548370290492839, 'MSE': 931764912790.625, 'Feature Importances': {'image_predictions': 0.03502922132790624, 'postal_code': 0.06709822208023422, 'type': 0.0, 'size': 0.634438776957133, 'basement_size': 0.0, 'rooms': 0.008292470127554163, 'year_built': 0.031694663085636864, 'year_rebuilt': 0.048111823687660996, 'energy_label': 0.009305261402360931, 'postal_avg_sqm_price': 0.12600706936521744, 'lat': 0.015238699626565681, 'lng': 0.024783792339730645}}\n",
      "\n",
      "Median Evaluation:\n",
      "{'R2': 0.8068028789465412, 'MAE': 658335.3125, 'Percentage Error': 15.548370290492839, 'MSE': 931764912790.625}\n",
      "Feauter Importance...\n",
      "{'image_predictions': 0.03502922132790624, 'postal_code': 0.06709822208023422, 'type': 0.0, 'size': 0.634438776957133, 'basement_size': 0.0, 'rooms': 0.008292470127554163, 'year_built': 0.031694663085636864, 'year_rebuilt': 0.048111823687660996, 'energy_label': 0.009305261402360931, 'postal_avg_sqm_price': 0.12600706936521744, 'lat': 0.015238699626565681, 'lng': 0.024783792339730645}\n"
     ]
    },
    {
     "name": "stderr",
     "output_type": "stream",
     "text": [
      "/usr/local/lib/python3.10/site-packages/sklearn/base.py:439: UserWarning: X does not have valid feature names, but RandomForestRegressor was fitted with feature names\n",
      "  warnings.warn(\n"
     ]
    },
    {
     "name": "stdout",
     "output_type": "stream",
     "text": [
      "\n",
      "Saving Feature Importance\n",
      "\n",
      "Done!\n"
     ]
    }
   ],
   "source": [
    "from models import CNN_RF_model\n",
    "TYPE = 'CNN_RF'\n",
    "MODEL_NAME: str = \"VGG16_RF\"\n",
    "FUNCTION: object = CNN_RF_model\n",
    "ARGS: tuple = (\n",
    "    VGG_16_CNN_Img_model, \n",
    "    train2_images_448,\n",
    "    train2_features,\n",
    "    train2_prices,\n",
    ")\n",
    "for i in range(10):\n",
    "    train_save_model(FUNCTION, ARGS, test_images_448, test_features,  test_prices, f\"{MODELS_PATH}/{MODEL_NAME}\", USE_GPU, TYPE)"
   ]
  },
  {
   "cell_type": "markdown",
   "metadata": {},
   "source": [
    "#### EfficientNet + Random Forret"
   ]
  },
  {
   "cell_type": "code",
   "execution_count": null,
   "metadata": {},
   "outputs": [],
   "source": [
    "EfficientNetB3_CNN_Img_model = keras.models.load_model(f\"{MODELS_PATH}/EfficientNetB3\")"
   ]
  },
  {
   "cell_type": "code",
   "execution_count": 83,
   "metadata": {},
   "outputs": [
    {
     "name": "stdout",
     "output_type": "stream",
     "text": [
      "Setting CPU\n",
      "9/9 [==============================] - 99s 10s/step\n",
      "Saving Model...\n",
      "5/5 [==============================] - 52s 10s/step\n",
      "Evaluating Model...\n",
      "\n",
      "Model Evaluation:\n",
      "{'Timestamp': '2024-05-06 14:43:23.953496', 'R2': 0.8050610087686866, 'MAE': 645843.5, 'Percentage Error': 15.195037890307054, 'MSE': 940165729042.5, 'Feature Importances': {'image_predictions': 0.02501030368242599, 'postal_code': 0.06072057879754642, 'type': 0.0, 'size': 0.6362978448073828, 'basement_size': 0.0, 'rooms': 0.008505388324912622, 'year_built': 0.029922366140327596, 'year_rebuilt': 0.05262898360876771, 'energy_label': 0.009302028270737468, 'postal_avg_sqm_price': 0.1310759474981226, 'lat': 0.016952905521997925, 'lng': 0.029583653347778887}}\n",
      "\n",
      "Median Evaluation:\n",
      "{'R2': 0.8050610087686866, 'MAE': 645843.5, 'Percentage Error': 15.195037890307054, 'MSE': 940165729042.5}\n",
      "Feauter Importance...\n",
      "{'image_predictions': 0.02501030368242599, 'postal_code': 0.06072057879754642, 'type': 0.0, 'size': 0.6362978448073828, 'basement_size': 0.0, 'rooms': 0.008505388324912622, 'year_built': 0.029922366140327596, 'year_rebuilt': 0.05262898360876771, 'energy_label': 0.009302028270737468, 'postal_avg_sqm_price': 0.1310759474981226, 'lat': 0.016952905521997925, 'lng': 0.029583653347778887}\n"
     ]
    },
    {
     "name": "stderr",
     "output_type": "stream",
     "text": [
      "/usr/local/lib/python3.10/site-packages/sklearn/base.py:439: UserWarning: X does not have valid feature names, but RandomForestRegressor was fitted with feature names\n",
      "  warnings.warn(\n"
     ]
    },
    {
     "name": "stdout",
     "output_type": "stream",
     "text": [
      "\n",
      "Saving Feature Importance\n",
      "\n",
      "Done!\n",
      "Setting CPU\n",
      "9/9 [==============================] - 94s 10s/step\n",
      "Saving Model...\n",
      "5/5 [==============================] - 53s 11s/step\n",
      "Evaluating Model...\n",
      "\n",
      "Model Evaluation:\n",
      "{'Timestamp': '2024-05-06 14:45:59.912248', 'R2': 0.8167567230846645, 'MAE': 643208.875, 'Percentage Error': 15.595366940893626, 'MSE': 883758800356.25, 'Feature Importances': {'image_predictions': 0.02747614727968645, 'postal_code': 0.05877610618142647, 'type': 0.0, 'size': 0.64349481408477, 'basement_size': 0.0, 'rooms': 0.008035658747276245, 'year_built': 0.04639266680894411, 'year_rebuilt': 0.040058559046503565, 'energy_label': 0.010427363065469635, 'postal_avg_sqm_price': 0.1221935158417092, 'lat': 0.016981510836730912, 'lng': 0.026163658107483202}}\n",
      "\n",
      "Median Evaluation:\n",
      "{'R2': 0.8109088659266755, 'MAE': 644526.1875, 'Percentage Error': 15.395202415600341, 'MSE': 911962264699.375}\n",
      "Feauter Importance...\n",
      "{'image_predictions': 0.02747614727968645, 'postal_code': 0.05877610618142647, 'type': 0.0, 'size': 0.64349481408477, 'basement_size': 0.0, 'rooms': 0.008035658747276245, 'year_built': 0.04639266680894411, 'year_rebuilt': 0.040058559046503565, 'energy_label': 0.010427363065469635, 'postal_avg_sqm_price': 0.1221935158417092, 'lat': 0.016981510836730912, 'lng': 0.026163658107483202}\n"
     ]
    },
    {
     "name": "stderr",
     "output_type": "stream",
     "text": [
      "/usr/local/lib/python3.10/site-packages/sklearn/base.py:439: UserWarning: X does not have valid feature names, but RandomForestRegressor was fitted with feature names\n",
      "  warnings.warn(\n"
     ]
    },
    {
     "name": "stdout",
     "output_type": "stream",
     "text": [
      "\n",
      "Saving Feature Importance\n",
      "\n",
      "Done!\n",
      "Setting CPU\n",
      "9/9 [==============================] - 92s 10s/step\n",
      "Saving Model...\n",
      "5/5 [==============================] - 49s 9s/step\n",
      "Evaluating Model...\n",
      "\n",
      "Model Evaluation:\n",
      "{'Timestamp': '2024-05-06 14:48:31.238479', 'R2': 0.8148629904078436, 'MAE': 639444.125, 'Percentage Error': 14.912629653100876, 'MSE': 892892029945.0, 'Feature Importances': {'image_predictions': 0.022294128787971247, 'postal_code': 0.058307647175994, 'type': 0.0, 'size': 0.6458240326090193, 'basement_size': 0.0, 'rooms': 0.007631665514621489, 'year_built': 0.02966973514969248, 'year_rebuilt': 0.05213631327479846, 'energy_label': 0.007266315405089154, 'postal_avg_sqm_price': 0.1353686397691488, 'lat': 0.01767468237691379, 'lng': 0.02382683993675133}}\n",
      "\n",
      "Median Evaluation:\n",
      "{'R2': 0.8148629904078436, 'MAE': 643208.875, 'Percentage Error': 15.195037890307054, 'MSE': 892892029945.0}\n",
      "Feauter Importance...\n",
      "{'image_predictions': 0.022294128787971247, 'postal_code': 0.058307647175994, 'type': 0.0, 'size': 0.6458240326090193, 'basement_size': 0.0, 'rooms': 0.007631665514621489, 'year_built': 0.02966973514969248, 'year_rebuilt': 0.05213631327479846, 'energy_label': 0.007266315405089154, 'postal_avg_sqm_price': 0.1353686397691488, 'lat': 0.01767468237691379, 'lng': 0.02382683993675133}\n"
     ]
    },
    {
     "name": "stderr",
     "output_type": "stream",
     "text": [
      "/usr/local/lib/python3.10/site-packages/sklearn/base.py:439: UserWarning: X does not have valid feature names, but RandomForestRegressor was fitted with feature names\n",
      "  warnings.warn(\n"
     ]
    },
    {
     "name": "stdout",
     "output_type": "stream",
     "text": [
      "\n",
      "Saving Feature Importance\n",
      "\n",
      "Done!\n",
      "Setting CPU\n",
      "9/9 [==============================] - 82s 9s/step\n",
      "Saving Model...\n",
      "5/5 [==============================] - 54s 11s/step\n",
      "Evaluating Model...\n",
      "\n",
      "Model Evaluation:\n",
      "{'Timestamp': '2024-05-06 14:50:56.613659', 'R2': 0.8165978479074605, 'MAE': 632768.75, 'Percentage Error': 15.02645076684527, 'MSE': 884525034940.0, 'Feature Importances': {'image_predictions': 0.025938985136845085, 'postal_code': 0.0715567949952139, 'type': 0.0, 'size': 0.6388457039954157, 'basement_size': 0.0, 'rooms': 0.007228503250804482, 'year_built': 0.037812872180120444, 'year_rebuilt': 0.04486668251066144, 'energy_label': 0.007259282433661622, 'postal_avg_sqm_price': 0.12574201050298509, 'lat': 0.016810278558638092, 'lng': 0.023938886435654186}}\n",
      "\n",
      "Median Evaluation:\n",
      "{'R2': 0.815730419157652, 'MAE': 641326.5, 'Percentage Error': 15.110744328576162, 'MSE': 888708532442.5}\n",
      "Feauter Importance...\n",
      "{'image_predictions': 0.025938985136845085, 'postal_code': 0.0715567949952139, 'type': 0.0, 'size': 0.6388457039954157, 'basement_size': 0.0, 'rooms': 0.007228503250804482, 'year_built': 0.037812872180120444, 'year_rebuilt': 0.04486668251066144, 'energy_label': 0.007259282433661622, 'postal_avg_sqm_price': 0.12574201050298509, 'lat': 0.016810278558638092, 'lng': 0.023938886435654186}\n"
     ]
    },
    {
     "name": "stderr",
     "output_type": "stream",
     "text": [
      "/usr/local/lib/python3.10/site-packages/sklearn/base.py:439: UserWarning: X does not have valid feature names, but RandomForestRegressor was fitted with feature names\n",
      "  warnings.warn(\n"
     ]
    },
    {
     "name": "stdout",
     "output_type": "stream",
     "text": [
      "\n",
      "Saving Feature Importance\n",
      "\n",
      "Done!\n",
      "Setting CPU\n",
      "9/9 [==============================] - 91s 10s/step\n",
      "Saving Model...\n",
      "5/5 [==============================] - 51s 10s/step\n",
      "Evaluating Model...\n",
      "\n",
      "Model Evaluation:\n",
      "{'Timestamp': '2024-05-06 14:53:28.091426', 'R2': 0.8124939177942253, 'MAE': 646159.125, 'Percentage Error': 15.266428304597715, 'MSE': 904317763026.25, 'Feature Importances': {'image_predictions': 0.024400700448231435, 'postal_code': 0.07227687337630719, 'type': 0.0, 'size': 0.6415769008817748, 'basement_size': 0.0, 'rooms': 0.008094069619033539, 'year_built': 0.039917080074617105, 'year_rebuilt': 0.044503752036887195, 'energy_label': 0.008331211186734501, 'postal_avg_sqm_price': 0.11752857025348355, 'lat': 0.018526307050757713, 'lng': 0.024844535072172904}}\n",
      "\n",
      "Median Evaluation:\n",
      "{'R2': 0.8148629904078436, 'MAE': 643208.875, 'Percentage Error': 15.195037890307054, 'MSE': 892892029945.0}\n",
      "Feauter Importance...\n",
      "{'image_predictions': 0.024400700448231435, 'postal_code': 0.07227687337630719, 'type': 0.0, 'size': 0.6415769008817748, 'basement_size': 0.0, 'rooms': 0.008094069619033539, 'year_built': 0.039917080074617105, 'year_rebuilt': 0.044503752036887195, 'energy_label': 0.008331211186734501, 'postal_avg_sqm_price': 0.11752857025348355, 'lat': 0.018526307050757713, 'lng': 0.024844535072172904}\n"
     ]
    },
    {
     "name": "stderr",
     "output_type": "stream",
     "text": [
      "/usr/local/lib/python3.10/site-packages/sklearn/base.py:439: UserWarning: X does not have valid feature names, but RandomForestRegressor was fitted with feature names\n",
      "  warnings.warn(\n"
     ]
    },
    {
     "name": "stdout",
     "output_type": "stream",
     "text": [
      "\n",
      "Saving Feature Importance\n",
      "\n",
      "Done!\n",
      "Setting CPU\n",
      "9/9 [==============================] - 81s 9s/step\n",
      "Saving Model...\n",
      "5/5 [==============================] - 46s 9s/step\n",
      "Evaluating Model...\n",
      "\n",
      "Model Evaluation:\n",
      "{'Timestamp': '2024-05-06 14:55:42.708411', 'R2': 0.8214792074585958, 'MAE': 632255.875, 'Percentage Error': 15.06637209161174, 'MSE': 860982864478.75, 'Feature Importances': {'image_predictions': 0.023634697308732404, 'postal_code': 0.07378674424784466, 'type': 0.0, 'size': 0.640187502816325, 'basement_size': 0.0, 'rooms': 0.009453229054775768, 'year_built': 0.038266597969338054, 'year_rebuilt': 0.04577397500631556, 'energy_label': 0.008855025485338439, 'postal_avg_sqm_price': 0.12121495460264749, 'lat': 0.01608676103974765, 'lng': 0.02274051246893505}}\n",
      "\n",
      "Median Evaluation:\n",
      "{'R2': 0.815730419157652, 'MAE': 641326.5, 'Percentage Error': 15.130704990959398, 'MSE': 888708532442.5}\n",
      "Feauter Importance...\n",
      "{'image_predictions': 0.023634697308732404, 'postal_code': 0.07378674424784466, 'type': 0.0, 'size': 0.640187502816325, 'basement_size': 0.0, 'rooms': 0.009453229054775768, 'year_built': 0.038266597969338054, 'year_rebuilt': 0.04577397500631556, 'energy_label': 0.008855025485338439, 'postal_avg_sqm_price': 0.12121495460264749, 'lat': 0.01608676103974765, 'lng': 0.02274051246893505}\n"
     ]
    },
    {
     "name": "stderr",
     "output_type": "stream",
     "text": [
      "/usr/local/lib/python3.10/site-packages/sklearn/base.py:439: UserWarning: X does not have valid feature names, but RandomForestRegressor was fitted with feature names\n",
      "  warnings.warn(\n"
     ]
    },
    {
     "name": "stdout",
     "output_type": "stream",
     "text": [
      "\n",
      "Saving Feature Importance\n",
      "\n",
      "Done!\n",
      "Setting CPU\n",
      "9/9 [==============================] - 81s 9s/step\n",
      "Saving Model...\n",
      "5/5 [==============================] - 47s 9s/step\n",
      "Evaluating Model...\n",
      "\n",
      "Model Evaluation:\n",
      "{'Timestamp': '2024-05-06 14:57:58.016872', 'R2': 0.8200552237315822, 'MAE': 627478.75, 'Percentage Error': 14.866622441444294, 'MSE': 867850555187.5, 'Feature Importances': {'image_predictions': 0.023898042338541668, 'postal_code': 0.06575997635281153, 'type': 0.0, 'size': 0.6394654426364852, 'basement_size': 0.0, 'rooms': 0.009209216817906141, 'year_built': 0.041644698627712334, 'year_rebuilt': 0.04791059611760689, 'energy_label': 0.00712330930669431, 'postal_avg_sqm_price': 0.12174320699232209, 'lat': 0.017225513737295237, 'lng': 0.02601999707262458}}\n",
      "\n",
      "Median Evaluation:\n",
      "{'R2': 0.8165978479074605, 'MAE': 639444.125, 'Percentage Error': 15.06637209161174, 'MSE': 884525034940.0}\n",
      "Feauter Importance...\n",
      "{'image_predictions': 0.023898042338541668, 'postal_code': 0.06575997635281153, 'type': 0.0, 'size': 0.6394654426364852, 'basement_size': 0.0, 'rooms': 0.009209216817906141, 'year_built': 0.041644698627712334, 'year_rebuilt': 0.04791059611760689, 'energy_label': 0.00712330930669431, 'postal_avg_sqm_price': 0.12174320699232209, 'lat': 0.017225513737295237, 'lng': 0.02601999707262458}\n"
     ]
    },
    {
     "name": "stderr",
     "output_type": "stream",
     "text": [
      "/usr/local/lib/python3.10/site-packages/sklearn/base.py:439: UserWarning: X does not have valid feature names, but RandomForestRegressor was fitted with feature names\n",
      "  warnings.warn(\n"
     ]
    },
    {
     "name": "stdout",
     "output_type": "stream",
     "text": [
      "\n",
      "Saving Feature Importance\n",
      "\n",
      "Done!\n",
      "Setting CPU\n",
      "9/9 [==============================] - 75s 8s/step\n",
      "Saving Model...\n",
      "5/5 [==============================] - 43s 9s/step\n",
      "Evaluating Model...\n",
      "\n",
      "Model Evaluation:\n",
      "{'Timestamp': '2024-05-06 15:00:03.223057', 'R2': 0.8122346132089107, 'MAE': 638748.875, 'Percentage Error': 15.122464301980237, 'MSE': 905568355752.5, 'Feature Importances': {'image_predictions': 0.025284991737039356, 'postal_code': 0.06844650041012389, 'type': 0.0, 'size': 0.6483964187091542, 'basement_size': 0.0, 'rooms': 0.007323323400794472, 'year_built': 0.03072704765539647, 'year_rebuilt': 0.04949995764501307, 'energy_label': 0.009873146993064026, 'postal_avg_sqm_price': 0.1190349627855761, 'lat': 0.01784904946055427, 'lng': 0.0235646012032841}}\n",
      "\n",
      "Median Evaluation:\n",
      "{'R2': 0.815730419157652, 'MAE': 639096.5, 'Percentage Error': 15.094418196795989, 'MSE': 888708532442.5}\n",
      "Feauter Importance...\n",
      "{'image_predictions': 0.025284991737039356, 'postal_code': 0.06844650041012389, 'type': 0.0, 'size': 0.6483964187091542, 'basement_size': 0.0, 'rooms': 0.007323323400794472, 'year_built': 0.03072704765539647, 'year_rebuilt': 0.04949995764501307, 'energy_label': 0.009873146993064026, 'postal_avg_sqm_price': 0.1190349627855761, 'lat': 0.01784904946055427, 'lng': 0.0235646012032841}\n"
     ]
    },
    {
     "name": "stderr",
     "output_type": "stream",
     "text": [
      "/usr/local/lib/python3.10/site-packages/sklearn/base.py:439: UserWarning: X does not have valid feature names, but RandomForestRegressor was fitted with feature names\n",
      "  warnings.warn(\n"
     ]
    },
    {
     "name": "stdout",
     "output_type": "stream",
     "text": [
      "\n",
      "Saving Feature Importance\n",
      "\n",
      "Done!\n",
      "Setting CPU\n",
      "9/9 [==============================] - 77s 9s/step\n",
      "Saving Model...\n",
      "5/5 [==============================] - 43s 9s/step\n",
      "Evaluating Model...\n",
      "\n",
      "Model Evaluation:\n",
      "{'Timestamp': '2024-05-06 15:02:10.611617', 'R2': 0.8121867738308841, 'MAE': 641216.75, 'Percentage Error': 14.974074413370007, 'MSE': 905799078931.25, 'Feature Importances': {'image_predictions': 0.025128366605676238, 'postal_code': 0.07253220516970367, 'type': 0.0, 'size': 0.6355360034641131, 'basement_size': 0.0, 'rooms': 0.007800096545031669, 'year_built': 0.034704602632634834, 'year_rebuilt': 0.04847093675242225, 'energy_label': 0.008285642876982073, 'postal_avg_sqm_price': 0.1252160944660669, 'lat': 0.018395462453868763, 'lng': 0.023930589033500572}}\n",
      "\n",
      "Median Evaluation:\n",
      "{'R2': 0.8148629904078436, 'MAE': 639444.125, 'Percentage Error': 15.06637209161174, 'MSE': 892892029945.0}\n",
      "Feauter Importance...\n",
      "{'image_predictions': 0.025128366605676238, 'postal_code': 0.07253220516970367, 'type': 0.0, 'size': 0.6355360034641131, 'basement_size': 0.0, 'rooms': 0.007800096545031669, 'year_built': 0.034704602632634834, 'year_rebuilt': 0.04847093675242225, 'energy_label': 0.008285642876982073, 'postal_avg_sqm_price': 0.1252160944660669, 'lat': 0.018395462453868763, 'lng': 0.023930589033500572}\n"
     ]
    },
    {
     "name": "stderr",
     "output_type": "stream",
     "text": [
      "/usr/local/lib/python3.10/site-packages/sklearn/base.py:439: UserWarning: X does not have valid feature names, but RandomForestRegressor was fitted with feature names\n",
      "  warnings.warn(\n"
     ]
    },
    {
     "name": "stdout",
     "output_type": "stream",
     "text": [
      "\n",
      "Saving Feature Importance\n",
      "\n",
      "Done!\n",
      "Setting CPU\n",
      "9/9 [==============================] - 78s 9s/step\n",
      "Saving Model...\n",
      "5/5 [==============================] - 44s 9s/step\n",
      "Evaluating Model...\n",
      "\n",
      "Model Evaluation:\n",
      "{'Timestamp': '2024-05-06 15:04:20.255730', 'R2': 0.8151244559656948, 'MAE': 640579.1875, 'Percentage Error': 14.927815311311901, 'MSE': 891631015125.625, 'Feature Importances': {'image_predictions': 0.023445223285065847, 'postal_code': 0.06696624684801945, 'type': 0.0, 'size': 0.6399373737266575, 'basement_size': 0.0, 'rooms': 0.007949620280523982, 'year_built': 0.03937822653615674, 'year_rebuilt': 0.05340469940425119, 'energy_label': 0.008427516863005415, 'postal_avg_sqm_price': 0.120715282754095, 'lat': 0.015260126760417068, 'lng': 0.024515683541807727}}\n",
      "\n",
      "Median Evaluation:\n",
      "{'R2': 0.8149937231867692, 'MAE': 640011.65625, 'Percentage Error': 15.046411429228506, 'MSE': 892261522535.3125}\n",
      "Feauter Importance...\n",
      "{'image_predictions': 0.023445223285065847, 'postal_code': 0.06696624684801945, 'type': 0.0, 'size': 0.6399373737266575, 'basement_size': 0.0, 'rooms': 0.007949620280523982, 'year_built': 0.03937822653615674, 'year_rebuilt': 0.05340469940425119, 'energy_label': 0.008427516863005415, 'postal_avg_sqm_price': 0.120715282754095, 'lat': 0.015260126760417068, 'lng': 0.024515683541807727}\n"
     ]
    },
    {
     "name": "stderr",
     "output_type": "stream",
     "text": [
      "/usr/local/lib/python3.10/site-packages/sklearn/base.py:439: UserWarning: X does not have valid feature names, but RandomForestRegressor was fitted with feature names\n",
      "  warnings.warn(\n"
     ]
    },
    {
     "name": "stdout",
     "output_type": "stream",
     "text": [
      "\n",
      "Saving Feature Importance\n",
      "\n",
      "Done!\n"
     ]
    }
   ],
   "source": [
    "from models import CNN_RF_model\n",
    "TYPE = 'CNN_RF'\n",
    "MODEL_NAME: str = \"EfficientNetB3_RF\"\n",
    "FUNCTION: object = CNN_RF_model\n",
    "ARGS: tuple = (\n",
    "    EfficientNetB3_CNN_Img_model, # keras.models.load_model(f\"{MODELS_PATH}/MobileNetV2/model\")\n",
    "    train2_images_448,\n",
    "    train2_features,\n",
    "    train2_prices,\n",
    ")\n",
    "for i in range(10):\n",
    "    train_save_model(FUNCTION, ARGS, test_images_448, test_features,  test_prices, f\"{MODELS_PATH}/{MODEL_NAME}\", USE_GPU, TYPE)"
   ]
  },
  {
   "cell_type": "markdown",
   "metadata": {},
   "source": [
    "### CNN + AE + RF"
   ]
  },
  {
   "cell_type": "code",
   "execution_count": 58,
   "metadata": {},
   "outputs": [
    {
     "name": "stdout",
     "output_type": "stream",
     "text": [
      "Epoch 1/30\n",
      "9/9 [==============================] - 32s 3s/step - loss: 36244.8398\n",
      "Epoch 2/30\n",
      "9/9 [==============================] - 25s 3s/step - loss: 10135.0967\n",
      "Epoch 3/30\n",
      "9/9 [==============================] - 25s 3s/step - loss: 5354.8945\n",
      "Epoch 4/30\n",
      "9/9 [==============================] - 24s 3s/step - loss: 3948.1421\n",
      "Epoch 5/30\n",
      "9/9 [==============================] - 25s 3s/step - loss: 3455.6160\n",
      "Epoch 6/30\n",
      "9/9 [==============================] - 25s 3s/step - loss: 3188.2939\n",
      "Epoch 7/30\n",
      "9/9 [==============================] - 25s 3s/step - loss: 3045.8899\n",
      "Epoch 8/30\n",
      "9/9 [==============================] - 25s 3s/step - loss: 2952.1772\n",
      "Epoch 9/30\n",
      "9/9 [==============================] - 28s 3s/step - loss: 2881.4341\n",
      "Epoch 10/30\n",
      "9/9 [==============================] - 25s 3s/step - loss: 2829.2988\n",
      "Epoch 11/30\n",
      "9/9 [==============================] - 25s 3s/step - loss: 2771.4944\n",
      "Epoch 12/30\n",
      "9/9 [==============================] - 24s 3s/step - loss: 2727.6506\n",
      "Epoch 13/30\n",
      "9/9 [==============================] - 25s 3s/step - loss: 2691.9319\n",
      "Epoch 14/30\n",
      "9/9 [==============================] - 27s 3s/step - loss: 2668.2354\n",
      "Epoch 15/30\n",
      "9/9 [==============================] - 28s 3s/step - loss: 2652.6267\n",
      "Epoch 16/30\n",
      "9/9 [==============================] - 27s 3s/step - loss: 2626.7158\n",
      "Epoch 17/30\n",
      "9/9 [==============================] - 26s 3s/step - loss: 2600.4265\n",
      "Epoch 18/30\n",
      "9/9 [==============================] - 25s 3s/step - loss: 2559.8293\n",
      "Epoch 19/30\n",
      "9/9 [==============================] - 26s 3s/step - loss: 2519.9661\n",
      "Epoch 20/30\n",
      "9/9 [==============================] - 26s 3s/step - loss: 2497.1206\n",
      "Epoch 21/30\n",
      "9/9 [==============================] - 26s 3s/step - loss: 2475.2869\n",
      "Epoch 22/30\n",
      "9/9 [==============================] - 24s 3s/step - loss: 2457.7271\n",
      "Epoch 23/30\n",
      "9/9 [==============================] - 25s 3s/step - loss: 2432.8513\n",
      "Epoch 24/30\n",
      "9/9 [==============================] - 25s 3s/step - loss: 2399.5139\n",
      "Epoch 25/30\n",
      "9/9 [==============================] - 26s 3s/step - loss: 2360.8025\n",
      "Epoch 26/30\n",
      "9/9 [==============================] - 26s 3s/step - loss: 2322.5854\n",
      "Epoch 27/30\n",
      "9/9 [==============================] - 26s 3s/step - loss: 2285.0212\n",
      "Epoch 28/30\n",
      "9/9 [==============================] - 26s 3s/step - loss: 2250.7639\n",
      "Epoch 29/30\n",
      "9/9 [==============================] - 25s 3s/step - loss: 2206.4395\n",
      "Epoch 30/30\n",
      "9/9 [==============================] - 25s 3s/step - loss: 2164.1785\n"
     ]
    }
   ],
   "source": [
    "from models import autoEncoder\n",
    "AE_224 = autoEncoder(train1_images, latent_dim=128)"
   ]
  },
  {
   "cell_type": "code",
   "execution_count": 59,
   "metadata": {},
   "outputs": [
    {
     "name": "stdout",
     "output_type": "stream",
     "text": [
      "Epoch 1/30\n",
      "9/9 [==============================] - 105s 11s/step - loss: 43460.6055\n",
      "Epoch 2/30\n",
      "9/9 [==============================] - 98s 11s/step - loss: 16709.0977\n",
      "Epoch 3/30\n",
      "9/9 [==============================] - 94s 10s/step - loss: 7441.7114\n",
      "Epoch 4/30\n",
      "9/9 [==============================] - 86s 10s/step - loss: 4701.0117\n",
      "Epoch 5/30\n",
      "9/9 [==============================] - 95s 11s/step - loss: 3761.8213\n",
      "Epoch 6/30\n",
      "9/9 [==============================] - 100s 11s/step - loss: 3366.1931\n",
      "Epoch 7/30\n",
      "9/9 [==============================] - 102s 11s/step - loss: 3175.0503\n",
      "Epoch 8/30\n",
      "9/9 [==============================] - 94s 10s/step - loss: 3049.4175\n",
      "Epoch 9/30\n",
      "9/9 [==============================] - 93s 10s/step - loss: 2973.5115\n",
      "Epoch 10/30\n",
      "9/9 [==============================] - 112s 12s/step - loss: 2919.8328\n",
      "Epoch 11/30\n",
      "9/9 [==============================] - 105s 11s/step - loss: 2880.0242\n",
      "Epoch 12/30\n",
      "9/9 [==============================] - 89s 10s/step - loss: 2846.6465\n",
      "Epoch 13/30\n",
      "9/9 [==============================] - 86s 10s/step - loss: 2821.9072\n",
      "Epoch 14/30\n",
      "9/9 [==============================] - 88s 10s/step - loss: 2795.4543\n",
      "Epoch 15/30\n",
      "9/9 [==============================] - 89s 10s/step - loss: 2779.2712\n",
      "Epoch 16/30\n",
      "9/9 [==============================] - 89s 10s/step - loss: 2755.3247\n",
      "Epoch 17/30\n",
      "9/9 [==============================] - 90s 10s/step - loss: 2740.3752\n",
      "Epoch 18/30\n",
      "9/9 [==============================] - 87s 10s/step - loss: 2725.2119\n",
      "Epoch 19/30\n",
      "9/9 [==============================] - 94s 10s/step - loss: 2715.6797\n",
      "Epoch 20/30\n",
      "9/9 [==============================] - 87s 10s/step - loss: 2699.7429\n",
      "Epoch 21/30\n",
      "9/9 [==============================] - 86s 10s/step - loss: 2686.3120\n",
      "Epoch 22/30\n",
      "9/9 [==============================] - 88s 10s/step - loss: 2677.0059\n",
      "Epoch 23/30\n",
      "9/9 [==============================] - 85s 9s/step - loss: 2665.3738\n",
      "Epoch 24/30\n",
      "9/9 [==============================] - 85s 9s/step - loss: 2659.7131\n",
      "Epoch 25/30\n",
      "9/9 [==============================] - 85s 9s/step - loss: 2653.2727\n",
      "Epoch 26/30\n",
      "9/9 [==============================] - 74s 8s/step - loss: 2648.2615\n",
      "Epoch 27/30\n",
      "9/9 [==============================] - 57s 6s/step - loss: 2635.8984\n",
      "Epoch 28/30\n",
      "9/9 [==============================] - 56s 6s/step - loss: 2631.6638\n",
      "Epoch 29/30\n",
      "9/9 [==============================] - 57s 6s/step - loss: 2634.5933\n",
      "Epoch 30/30\n",
      "9/9 [==============================] - 56s 6s/step - loss: 2622.1599\n"
     ]
    }
   ],
   "source": [
    "AE_448 = autoEncoder(train1_images_448, latent_dim=128)"
   ]
  },
  {
   "cell_type": "markdown",
   "metadata": {},
   "source": [
    "#### MobileNet_AE_RF"
   ]
  },
  {
   "cell_type": "code",
   "execution_count": 87,
   "metadata": {},
   "outputs": [
    {
     "name": "stdout",
     "output_type": "stream",
     "text": [
      "Setting CPU\n",
      "9/9 [==============================] - 6s 643ms/step\n",
      "9/9 [==============================] - 5s 595ms/step\n",
      "9/9 [==============================] - 8s 829ms/step\n",
      "Saving Model...\n",
      "5/5 [==============================] - 3s 529ms/step\n",
      "5/5 [==============================] - 3s 607ms/step\n",
      "5/5 [==============================] - 5s 950ms/step\n",
      "Evaluating Model...\n",
      "\n",
      "Model Evaluation:\n",
      "{'Timestamp': '2024-05-07 09:40:06.335847', 'R2': 0.8158933097485999, 'MAE': 644033.75, 'Percentage Error': 15.459700415493494, 'MSE': 887922932033.75, 'Feature Importances': {'image_predictions': 0.026494466942940748, 'reconstruction_error': 0.01733842189304892, 'postal_code': 0.08243055250915036, 'type': 0.0, 'size': 0.6407299669278071, 'basement_size': 0.0, 'rooms': 0.006675259384081938, 'year_built': 0.030276599998619456, 'year_rebuilt': 0.039479498432815625, 'energy_label': 0.009314923290615852, 'postal_avg_sqm_price': 0.10982027356755124, 'lat': 0.01697923739646735, 'lng': 0.020460799656901424}}\n",
      "\n",
      "Median Evaluation:\n",
      "{'R2': 0.8158933097485999, 'MAE': 644033.75, 'Percentage Error': 15.459700415493494, 'MSE': 887922932033.75}\n",
      "Feauter Importance...\n",
      "{'image_predictions': 0.026494466942940748, 'reconstruction_error': 0.01733842189304892, 'postal_code': 0.08243055250915036, 'type': 0.0, 'size': 0.6407299669278071, 'basement_size': 0.0, 'rooms': 0.006675259384081938, 'year_built': 0.030276599998619456, 'year_rebuilt': 0.039479498432815625, 'energy_label': 0.009314923290615852, 'postal_avg_sqm_price': 0.10982027356755124, 'lat': 0.01697923739646735, 'lng': 0.020460799656901424}\n"
     ]
    },
    {
     "name": "stderr",
     "output_type": "stream",
     "text": [
      "/usr/local/lib/python3.10/site-packages/sklearn/base.py:439: UserWarning: X does not have valid feature names, but RandomForestRegressor was fitted with feature names\n",
      "  warnings.warn(\n"
     ]
    },
    {
     "name": "stdout",
     "output_type": "stream",
     "text": [
      "\n",
      "Saving Feature Importance\n",
      "\n",
      "Saving Reconstructions\n",
      "5/5 [==============================] - 3s 570ms/step\n",
      "5/5 [==============================] - 3s 613ms/step\n",
      "[ 65 122 151 132  48  24  30  38 120 126]\n",
      "[ 50  53  20 100 105  83 117 144  40  46]\n",
      "1/1 [==============================] - 0s 91ms/step\n",
      "1/1 [==============================] - 0s 73ms/step\n"
     ]
    },
    {
     "name": "stderr",
     "output_type": "stream",
     "text": [
      "Clipping input data to the valid range for imshow with RGB data ([0..1] for floats or [0..255] for integers).\n"
     ]
    },
    {
     "name": "stdout",
     "output_type": "stream",
     "text": [
      "1/1 [==============================] - 0s 62ms/step\n",
      "1/1 [==============================] - 0s 71ms/step\n"
     ]
    },
    {
     "name": "stderr",
     "output_type": "stream",
     "text": [
      "Clipping input data to the valid range for imshow with RGB data ([0..1] for floats or [0..255] for integers).\n"
     ]
    },
    {
     "name": "stdout",
     "output_type": "stream",
     "text": [
      "1/1 [==============================] - 0s 64ms/step\n",
      "1/1 [==============================] - 0s 68ms/step\n"
     ]
    },
    {
     "name": "stderr",
     "output_type": "stream",
     "text": [
      "Clipping input data to the valid range for imshow with RGB data ([0..1] for floats or [0..255] for integers).\n"
     ]
    },
    {
     "name": "stdout",
     "output_type": "stream",
     "text": [
      "1/1 [==============================] - 0s 63ms/step\n",
      "1/1 [==============================] - 0s 62ms/step\n"
     ]
    },
    {
     "name": "stderr",
     "output_type": "stream",
     "text": [
      "Clipping input data to the valid range for imshow with RGB data ([0..1] for floats or [0..255] for integers).\n"
     ]
    },
    {
     "name": "stdout",
     "output_type": "stream",
     "text": [
      "1/1 [==============================] - 0s 90ms/step\n",
      "1/1 [==============================] - 0s 59ms/step\n"
     ]
    },
    {
     "name": "stderr",
     "output_type": "stream",
     "text": [
      "Clipping input data to the valid range for imshow with RGB data ([0..1] for floats or [0..255] for integers).\n"
     ]
    },
    {
     "name": "stdout",
     "output_type": "stream",
     "text": [
      "1/1 [==============================] - 0s 60ms/step\n",
      "1/1 [==============================] - 0s 52ms/step\n"
     ]
    },
    {
     "name": "stderr",
     "output_type": "stream",
     "text": [
      "Clipping input data to the valid range for imshow with RGB data ([0..1] for floats or [0..255] for integers).\n"
     ]
    },
    {
     "name": "stdout",
     "output_type": "stream",
     "text": [
      "1/1 [==============================] - 0s 54ms/step\n",
      "1/1 [==============================] - 0s 54ms/step\n"
     ]
    },
    {
     "name": "stderr",
     "output_type": "stream",
     "text": [
      "Clipping input data to the valid range for imshow with RGB data ([0..1] for floats or [0..255] for integers).\n"
     ]
    },
    {
     "name": "stdout",
     "output_type": "stream",
     "text": [
      "1/1 [==============================] - 0s 54ms/step\n",
      "1/1 [==============================] - 0s 63ms/step\n"
     ]
    },
    {
     "name": "stderr",
     "output_type": "stream",
     "text": [
      "Clipping input data to the valid range for imshow with RGB data ([0..1] for floats or [0..255] for integers).\n"
     ]
    },
    {
     "name": "stdout",
     "output_type": "stream",
     "text": [
      "1/1 [==============================] - 0s 99ms/step\n",
      "1/1 [==============================] - 0s 58ms/step\n"
     ]
    },
    {
     "name": "stderr",
     "output_type": "stream",
     "text": [
      "Clipping input data to the valid range for imshow with RGB data ([0..1] for floats or [0..255] for integers).\n"
     ]
    },
    {
     "name": "stdout",
     "output_type": "stream",
     "text": [
      "1/1 [==============================] - 0s 49ms/step\n",
      "1/1 [==============================] - 0s 66ms/step\n"
     ]
    },
    {
     "name": "stderr",
     "output_type": "stream",
     "text": [
      "Clipping input data to the valid range for imshow with RGB data ([0..1] for floats or [0..255] for integers).\n"
     ]
    },
    {
     "name": "stdout",
     "output_type": "stream",
     "text": [
      "1/1 [==============================] - 0s 54ms/step\n",
      "1/1 [==============================] - 0s 62ms/step\n"
     ]
    },
    {
     "name": "stderr",
     "output_type": "stream",
     "text": [
      "Clipping input data to the valid range for imshow with RGB data ([0..1] for floats or [0..255] for integers).\n"
     ]
    },
    {
     "name": "stdout",
     "output_type": "stream",
     "text": [
      "1/1 [==============================] - 0s 51ms/step\n",
      "1/1 [==============================] - 0s 52ms/step\n"
     ]
    },
    {
     "name": "stderr",
     "output_type": "stream",
     "text": [
      "Clipping input data to the valid range for imshow with RGB data ([0..1] for floats or [0..255] for integers).\n"
     ]
    },
    {
     "name": "stdout",
     "output_type": "stream",
     "text": [
      "1/1 [==============================] - 0s 51ms/step\n",
      "1/1 [==============================] - 0s 57ms/step\n"
     ]
    },
    {
     "name": "stderr",
     "output_type": "stream",
     "text": [
      "Clipping input data to the valid range for imshow with RGB data ([0..1] for floats or [0..255] for integers).\n"
     ]
    },
    {
     "name": "stdout",
     "output_type": "stream",
     "text": [
      "1/1 [==============================] - 0s 52ms/step\n",
      "1/1 [==============================] - 0s 81ms/step\n"
     ]
    },
    {
     "name": "stderr",
     "output_type": "stream",
     "text": [
      "Clipping input data to the valid range for imshow with RGB data ([0..1] for floats or [0..255] for integers).\n"
     ]
    },
    {
     "name": "stdout",
     "output_type": "stream",
     "text": [
      "1/1 [==============================] - 0s 65ms/step\n",
      "1/1 [==============================] - 0s 58ms/step\n"
     ]
    },
    {
     "name": "stderr",
     "output_type": "stream",
     "text": [
      "Clipping input data to the valid range for imshow with RGB data ([0..1] for floats or [0..255] for integers).\n"
     ]
    },
    {
     "name": "stdout",
     "output_type": "stream",
     "text": [
      "1/1 [==============================] - 0s 52ms/step\n",
      "1/1 [==============================] - 0s 48ms/step\n"
     ]
    },
    {
     "name": "stderr",
     "output_type": "stream",
     "text": [
      "Clipping input data to the valid range for imshow with RGB data ([0..1] for floats or [0..255] for integers).\n"
     ]
    },
    {
     "name": "stdout",
     "output_type": "stream",
     "text": [
      "1/1 [==============================] - 0s 59ms/step\n",
      "1/1 [==============================] - 0s 56ms/step\n"
     ]
    },
    {
     "name": "stderr",
     "output_type": "stream",
     "text": [
      "Clipping input data to the valid range for imshow with RGB data ([0..1] for floats or [0..255] for integers).\n"
     ]
    },
    {
     "name": "stdout",
     "output_type": "stream",
     "text": [
      "1/1 [==============================] - 0s 55ms/step\n",
      "1/1 [==============================] - 0s 60ms/step\n"
     ]
    },
    {
     "name": "stderr",
     "output_type": "stream",
     "text": [
      "Clipping input data to the valid range for imshow with RGB data ([0..1] for floats or [0..255] for integers).\n"
     ]
    },
    {
     "name": "stdout",
     "output_type": "stream",
     "text": [
      "1/1 [==============================] - 0s 49ms/step\n",
      "1/1 [==============================] - 0s 55ms/step\n"
     ]
    },
    {
     "name": "stderr",
     "output_type": "stream",
     "text": [
      "Clipping input data to the valid range for imshow with RGB data ([0..1] for floats or [0..255] for integers).\n"
     ]
    },
    {
     "name": "stdout",
     "output_type": "stream",
     "text": [
      "1/1 [==============================] - 0s 57ms/step\n",
      "1/1 [==============================] - 0s 53ms/step\n"
     ]
    },
    {
     "name": "stderr",
     "output_type": "stream",
     "text": [
      "Clipping input data to the valid range for imshow with RGB data ([0..1] for floats or [0..255] for integers).\n"
     ]
    },
    {
     "name": "stdout",
     "output_type": "stream",
     "text": [
      "\n",
      "Done!\n",
      "Setting CPU\n",
      "9/9 [==============================] - 4s 465ms/step\n",
      "9/9 [==============================] - 4s 475ms/step\n",
      "9/9 [==============================] - 8s 848ms/step\n",
      "Saving Model...\n",
      "5/5 [==============================] - 3s 487ms/step\n",
      "5/5 [==============================] - 2s 460ms/step\n",
      "5/5 [==============================] - 5s 902ms/step\n",
      "Evaluating Model...\n",
      "\n",
      "Model Evaluation:\n",
      "{'Timestamp': '2024-05-07 09:41:18.344863', 'R2': 0.8102121140251134, 'MAE': 646613.5, 'Percentage Error': 15.32082436803475, 'MSE': 915322609673.75, 'Feature Importances': {'image_predictions': 0.023998477389454768, 'reconstruction_error': 0.02063075957609132, 'postal_code': 0.0615444012759221, 'type': 0.0, 'size': 0.6304314465124635, 'basement_size': 0.0, 'rooms': 0.006684065084515698, 'year_built': 0.04568605138802254, 'year_rebuilt': 0.041763076917019984, 'energy_label': 0.007573055591987991, 'postal_avg_sqm_price': 0.12455518201323955, 'lat': 0.014607527801972506, 'lng': 0.022525956449310023}}\n",
      "\n",
      "Median Evaluation:\n",
      "{'R2': 0.8130527118868567, 'MAE': 645323.625, 'Percentage Error': 15.390262391764121, 'MSE': 901622770853.75}\n",
      "Feauter Importance...\n",
      "{'image_predictions': 0.023998477389454768, 'reconstruction_error': 0.02063075957609132, 'postal_code': 0.0615444012759221, 'type': 0.0, 'size': 0.6304314465124635, 'basement_size': 0.0, 'rooms': 0.006684065084515698, 'year_built': 0.04568605138802254, 'year_rebuilt': 0.041763076917019984, 'energy_label': 0.007573055591987991, 'postal_avg_sqm_price': 0.12455518201323955, 'lat': 0.014607527801972506, 'lng': 0.022525956449310023}\n"
     ]
    },
    {
     "name": "stderr",
     "output_type": "stream",
     "text": [
      "/usr/local/lib/python3.10/site-packages/sklearn/base.py:439: UserWarning: X does not have valid feature names, but RandomForestRegressor was fitted with feature names\n",
      "  warnings.warn(\n"
     ]
    },
    {
     "name": "stdout",
     "output_type": "stream",
     "text": [
      "\n",
      "Saving Feature Importance\n",
      "\n",
      "Saving Reconstructions\n",
      "5/5 [==============================] - 3s 588ms/step\n",
      "5/5 [==============================] - 3s 540ms/step\n",
      "[ 65 122 151 132  48  24  30  38 120 126]\n",
      "[ 50  53  20 100 105  83 117 144  40  46]\n",
      "1/1 [==============================] - 0s 88ms/step\n",
      "1/1 [==============================] - 0s 61ms/step\n"
     ]
    },
    {
     "name": "stderr",
     "output_type": "stream",
     "text": [
      "Clipping input data to the valid range for imshow with RGB data ([0..1] for floats or [0..255] for integers).\n"
     ]
    },
    {
     "name": "stdout",
     "output_type": "stream",
     "text": [
      "1/1 [==============================] - 0s 73ms/step\n",
      "1/1 [==============================] - 0s 84ms/step\n"
     ]
    },
    {
     "name": "stderr",
     "output_type": "stream",
     "text": [
      "Clipping input data to the valid range for imshow with RGB data ([0..1] for floats or [0..255] for integers).\n"
     ]
    },
    {
     "name": "stdout",
     "output_type": "stream",
     "text": [
      "1/1 [==============================] - 0s 51ms/step\n",
      "1/1 [==============================] - 0s 55ms/step\n"
     ]
    },
    {
     "name": "stderr",
     "output_type": "stream",
     "text": [
      "Clipping input data to the valid range for imshow with RGB data ([0..1] for floats or [0..255] for integers).\n"
     ]
    },
    {
     "name": "stdout",
     "output_type": "stream",
     "text": [
      "1/1 [==============================] - 0s 66ms/step\n",
      "1/1 [==============================] - 0s 63ms/step\n"
     ]
    },
    {
     "name": "stderr",
     "output_type": "stream",
     "text": [
      "Clipping input data to the valid range for imshow with RGB data ([0..1] for floats or [0..255] for integers).\n"
     ]
    },
    {
     "name": "stdout",
     "output_type": "stream",
     "text": [
      "1/1 [==============================] - 0s 53ms/step\n",
      "1/1 [==============================] - 0s 50ms/step\n"
     ]
    },
    {
     "name": "stderr",
     "output_type": "stream",
     "text": [
      "Clipping input data to the valid range for imshow with RGB data ([0..1] for floats or [0..255] for integers).\n"
     ]
    },
    {
     "name": "stdout",
     "output_type": "stream",
     "text": [
      "1/1 [==============================] - 0s 51ms/step\n",
      "1/1 [==============================] - 0s 50ms/step\n"
     ]
    },
    {
     "name": "stderr",
     "output_type": "stream",
     "text": [
      "Clipping input data to the valid range for imshow with RGB data ([0..1] for floats or [0..255] for integers).\n"
     ]
    },
    {
     "name": "stdout",
     "output_type": "stream",
     "text": [
      "1/1 [==============================] - 0s 49ms/step\n",
      "1/1 [==============================] - 0s 53ms/step\n"
     ]
    },
    {
     "name": "stderr",
     "output_type": "stream",
     "text": [
      "Clipping input data to the valid range for imshow with RGB data ([0..1] for floats or [0..255] for integers).\n"
     ]
    },
    {
     "name": "stdout",
     "output_type": "stream",
     "text": [
      "1/1 [==============================] - 0s 47ms/step\n",
      "1/1 [==============================] - 0s 48ms/step\n"
     ]
    },
    {
     "name": "stderr",
     "output_type": "stream",
     "text": [
      "Clipping input data to the valid range for imshow with RGB data ([0..1] for floats or [0..255] for integers).\n"
     ]
    },
    {
     "name": "stdout",
     "output_type": "stream",
     "text": [
      "1/1 [==============================] - 0s 45ms/step\n",
      "1/1 [==============================] - 0s 46ms/step\n"
     ]
    },
    {
     "name": "stderr",
     "output_type": "stream",
     "text": [
      "Clipping input data to the valid range for imshow with RGB data ([0..1] for floats or [0..255] for integers).\n"
     ]
    },
    {
     "name": "stdout",
     "output_type": "stream",
     "text": [
      "1/1 [==============================] - 0s 45ms/step\n",
      "1/1 [==============================] - 0s 48ms/step\n"
     ]
    },
    {
     "name": "stderr",
     "output_type": "stream",
     "text": [
      "Clipping input data to the valid range for imshow with RGB data ([0..1] for floats or [0..255] for integers).\n"
     ]
    },
    {
     "name": "stdout",
     "output_type": "stream",
     "text": [
      "1/1 [==============================] - 0s 45ms/step\n",
      "1/1 [==============================] - 0s 48ms/step\n"
     ]
    },
    {
     "name": "stderr",
     "output_type": "stream",
     "text": [
      "Clipping input data to the valid range for imshow with RGB data ([0..1] for floats or [0..255] for integers).\n"
     ]
    },
    {
     "name": "stdout",
     "output_type": "stream",
     "text": [
      "1/1 [==============================] - 0s 54ms/step\n",
      "1/1 [==============================] - 0s 85ms/step\n"
     ]
    },
    {
     "name": "stderr",
     "output_type": "stream",
     "text": [
      "Clipping input data to the valid range for imshow with RGB data ([0..1] for floats or [0..255] for integers).\n"
     ]
    },
    {
     "name": "stdout",
     "output_type": "stream",
     "text": [
      "1/1 [==============================] - 0s 58ms/step\n",
      "1/1 [==============================] - 0s 48ms/step\n"
     ]
    },
    {
     "name": "stderr",
     "output_type": "stream",
     "text": [
      "Clipping input data to the valid range for imshow with RGB data ([0..1] for floats or [0..255] for integers).\n"
     ]
    },
    {
     "name": "stdout",
     "output_type": "stream",
     "text": [
      "1/1 [==============================] - 0s 58ms/step\n",
      "1/1 [==============================] - 0s 61ms/step\n"
     ]
    },
    {
     "name": "stderr",
     "output_type": "stream",
     "text": [
      "Clipping input data to the valid range for imshow with RGB data ([0..1] for floats or [0..255] for integers).\n"
     ]
    },
    {
     "name": "stdout",
     "output_type": "stream",
     "text": [
      "1/1 [==============================] - 0s 62ms/step\n",
      "1/1 [==============================] - 0s 54ms/step\n"
     ]
    },
    {
     "name": "stderr",
     "output_type": "stream",
     "text": [
      "Clipping input data to the valid range for imshow with RGB data ([0..1] for floats or [0..255] for integers).\n"
     ]
    },
    {
     "name": "stdout",
     "output_type": "stream",
     "text": [
      "1/1 [==============================] - 0s 55ms/step\n",
      "1/1 [==============================] - 0s 54ms/step\n"
     ]
    },
    {
     "name": "stderr",
     "output_type": "stream",
     "text": [
      "Clipping input data to the valid range for imshow with RGB data ([0..1] for floats or [0..255] for integers).\n"
     ]
    },
    {
     "name": "stdout",
     "output_type": "stream",
     "text": [
      "1/1 [==============================] - 0s 65ms/step\n",
      "1/1 [==============================] - 0s 61ms/step\n"
     ]
    },
    {
     "name": "stderr",
     "output_type": "stream",
     "text": [
      "Clipping input data to the valid range for imshow with RGB data ([0..1] for floats or [0..255] for integers).\n"
     ]
    },
    {
     "name": "stdout",
     "output_type": "stream",
     "text": [
      "1/1 [==============================] - 0s 54ms/step\n",
      "1/1 [==============================] - 0s 59ms/step\n"
     ]
    },
    {
     "name": "stderr",
     "output_type": "stream",
     "text": [
      "Clipping input data to the valid range for imshow with RGB data ([0..1] for floats or [0..255] for integers).\n"
     ]
    },
    {
     "name": "stdout",
     "output_type": "stream",
     "text": [
      "1/1 [==============================] - 0s 52ms/step\n",
      "1/1 [==============================] - 0s 54ms/step\n"
     ]
    },
    {
     "name": "stderr",
     "output_type": "stream",
     "text": [
      "Clipping input data to the valid range for imshow with RGB data ([0..1] for floats or [0..255] for integers).\n"
     ]
    },
    {
     "name": "stdout",
     "output_type": "stream",
     "text": [
      "1/1 [==============================] - 0s 60ms/step\n",
      "1/1 [==============================] - 0s 55ms/step\n"
     ]
    },
    {
     "name": "stderr",
     "output_type": "stream",
     "text": [
      "Clipping input data to the valid range for imshow with RGB data ([0..1] for floats or [0..255] for integers).\n"
     ]
    },
    {
     "name": "stdout",
     "output_type": "stream",
     "text": [
      "\n",
      "Done!\n",
      "Setting CPU\n",
      "9/9 [==============================] - 4s 475ms/step\n",
      "9/9 [==============================] - 5s 514ms/step\n",
      "9/9 [==============================] - 8s 877ms/step\n",
      "Saving Model...\n",
      "5/5 [==============================] - 2s 454ms/step\n",
      "5/5 [==============================] - 2s 471ms/step\n",
      "5/5 [==============================] - 4s 834ms/step\n",
      "Evaluating Model...\n",
      "\n",
      "Model Evaluation:\n",
      "{'Timestamp': '2024-05-07 09:42:34.511282', 'R2': 0.8127672692029979, 'MAE': 649301.5, 'Percentage Error': 15.528704712741698, 'MSE': 902999424273.75, 'Feature Importances': {'image_predictions': 0.023535712703035516, 'reconstruction_error': 0.018859069713082016, 'postal_code': 0.06366025693062197, 'type': 0.0, 'size': 0.6398740198504509, 'basement_size': 0.0, 'rooms': 0.009230262640085845, 'year_built': 0.03504675399883897, 'year_rebuilt': 0.04325936171576628, 'energy_label': 0.006607303333553781, 'postal_avg_sqm_price': 0.12199667533202219, 'lat': 0.015578010111132507, 'lng': 0.022352573671410084}}\n",
      "\n",
      "Median Evaluation:\n",
      "{'R2': 0.8127672692029979, 'MAE': 646613.5, 'Percentage Error': 15.459700415493494, 'MSE': 902999424273.75}\n",
      "Feauter Importance...\n",
      "{'image_predictions': 0.023535712703035516, 'reconstruction_error': 0.018859069713082016, 'postal_code': 0.06366025693062197, 'type': 0.0, 'size': 0.6398740198504509, 'basement_size': 0.0, 'rooms': 0.009230262640085845, 'year_built': 0.03504675399883897, 'year_rebuilt': 0.04325936171576628, 'energy_label': 0.006607303333553781, 'postal_avg_sqm_price': 0.12199667533202219, 'lat': 0.015578010111132507, 'lng': 0.022352573671410084}\n"
     ]
    },
    {
     "name": "stderr",
     "output_type": "stream",
     "text": [
      "/usr/local/lib/python3.10/site-packages/sklearn/base.py:439: UserWarning: X does not have valid feature names, but RandomForestRegressor was fitted with feature names\n",
      "  warnings.warn(\n"
     ]
    },
    {
     "name": "stdout",
     "output_type": "stream",
     "text": [
      "\n",
      "Saving Feature Importance\n",
      "\n",
      "Saving Reconstructions\n",
      "5/5 [==============================] - 2s 481ms/step\n",
      "5/5 [==============================] - 2s 454ms/step\n",
      "[ 65 122 151 132  48  24  30  38 120 126]\n",
      "[ 50  53  20 100 105  83 117 144  40  46]\n",
      "1/1 [==============================] - 0s 68ms/step\n",
      "1/1 [==============================] - 0s 55ms/step\n"
     ]
    },
    {
     "name": "stderr",
     "output_type": "stream",
     "text": [
      "Clipping input data to the valid range for imshow with RGB data ([0..1] for floats or [0..255] for integers).\n"
     ]
    },
    {
     "name": "stdout",
     "output_type": "stream",
     "text": [
      "1/1 [==============================] - 0s 54ms/step\n",
      "1/1 [==============================] - 0s 75ms/step\n"
     ]
    },
    {
     "name": "stderr",
     "output_type": "stream",
     "text": [
      "Clipping input data to the valid range for imshow with RGB data ([0..1] for floats or [0..255] for integers).\n"
     ]
    },
    {
     "name": "stdout",
     "output_type": "stream",
     "text": [
      "1/1 [==============================] - 0s 56ms/step\n",
      "1/1 [==============================] - 0s 55ms/step\n"
     ]
    },
    {
     "name": "stderr",
     "output_type": "stream",
     "text": [
      "Clipping input data to the valid range for imshow with RGB data ([0..1] for floats or [0..255] for integers).\n"
     ]
    },
    {
     "name": "stdout",
     "output_type": "stream",
     "text": [
      "1/1 [==============================] - 0s 55ms/step\n",
      "1/1 [==============================] - 0s 60ms/step\n"
     ]
    },
    {
     "name": "stderr",
     "output_type": "stream",
     "text": [
      "Clipping input data to the valid range for imshow with RGB data ([0..1] for floats or [0..255] for integers).\n"
     ]
    },
    {
     "name": "stdout",
     "output_type": "stream",
     "text": [
      "1/1 [==============================] - 0s 57ms/step\n",
      "1/1 [==============================] - 0s 51ms/step\n"
     ]
    },
    {
     "name": "stderr",
     "output_type": "stream",
     "text": [
      "Clipping input data to the valid range for imshow with RGB data ([0..1] for floats or [0..255] for integers).\n"
     ]
    },
    {
     "name": "stdout",
     "output_type": "stream",
     "text": [
      "1/1 [==============================] - 0s 50ms/step\n",
      "1/1 [==============================] - 0s 56ms/step\n"
     ]
    },
    {
     "name": "stderr",
     "output_type": "stream",
     "text": [
      "Clipping input data to the valid range for imshow with RGB data ([0..1] for floats or [0..255] for integers).\n"
     ]
    },
    {
     "name": "stdout",
     "output_type": "stream",
     "text": [
      "1/1 [==============================] - 0s 54ms/step\n",
      "1/1 [==============================] - 0s 55ms/step\n"
     ]
    },
    {
     "name": "stderr",
     "output_type": "stream",
     "text": [
      "Clipping input data to the valid range for imshow with RGB data ([0..1] for floats or [0..255] for integers).\n"
     ]
    },
    {
     "name": "stdout",
     "output_type": "stream",
     "text": [
      "1/1 [==============================] - 0s 53ms/step\n",
      "1/1 [==============================] - 0s 54ms/step\n"
     ]
    },
    {
     "name": "stderr",
     "output_type": "stream",
     "text": [
      "Clipping input data to the valid range for imshow with RGB data ([0..1] for floats or [0..255] for integers).\n"
     ]
    },
    {
     "name": "stdout",
     "output_type": "stream",
     "text": [
      "1/1 [==============================] - 0s 51ms/step\n",
      "1/1 [==============================] - 0s 60ms/step\n"
     ]
    },
    {
     "name": "stderr",
     "output_type": "stream",
     "text": [
      "Clipping input data to the valid range for imshow with RGB data ([0..1] for floats or [0..255] for integers).\n"
     ]
    },
    {
     "name": "stdout",
     "output_type": "stream",
     "text": [
      "1/1 [==============================] - 0s 50ms/step\n",
      "1/1 [==============================] - 0s 47ms/step\n"
     ]
    },
    {
     "name": "stderr",
     "output_type": "stream",
     "text": [
      "Clipping input data to the valid range for imshow with RGB data ([0..1] for floats or [0..255] for integers).\n"
     ]
    },
    {
     "name": "stdout",
     "output_type": "stream",
     "text": [
      "1/1 [==============================] - 0s 49ms/step\n",
      "1/1 [==============================] - 0s 77ms/step\n"
     ]
    },
    {
     "name": "stderr",
     "output_type": "stream",
     "text": [
      "Clipping input data to the valid range for imshow with RGB data ([0..1] for floats or [0..255] for integers).\n"
     ]
    },
    {
     "name": "stdout",
     "output_type": "stream",
     "text": [
      "1/1 [==============================] - 0s 50ms/step\n",
      "1/1 [==============================] - 0s 63ms/step\n"
     ]
    },
    {
     "name": "stderr",
     "output_type": "stream",
     "text": [
      "Clipping input data to the valid range for imshow with RGB data ([0..1] for floats or [0..255] for integers).\n"
     ]
    },
    {
     "name": "stdout",
     "output_type": "stream",
     "text": [
      "1/1 [==============================] - 0s 49ms/step\n",
      "1/1 [==============================] - 0s 56ms/step\n"
     ]
    },
    {
     "name": "stderr",
     "output_type": "stream",
     "text": [
      "Clipping input data to the valid range for imshow with RGB data ([0..1] for floats or [0..255] for integers).\n"
     ]
    },
    {
     "name": "stdout",
     "output_type": "stream",
     "text": [
      "1/1 [==============================] - 0s 54ms/step\n",
      "1/1 [==============================] - 0s 55ms/step\n"
     ]
    },
    {
     "name": "stderr",
     "output_type": "stream",
     "text": [
      "Clipping input data to the valid range for imshow with RGB data ([0..1] for floats or [0..255] for integers).\n"
     ]
    },
    {
     "name": "stdout",
     "output_type": "stream",
     "text": [
      "1/1 [==============================] - 0s 50ms/step\n",
      "1/1 [==============================] - 0s 49ms/step\n"
     ]
    },
    {
     "name": "stderr",
     "output_type": "stream",
     "text": [
      "Clipping input data to the valid range for imshow with RGB data ([0..1] for floats or [0..255] for integers).\n"
     ]
    },
    {
     "name": "stdout",
     "output_type": "stream",
     "text": [
      "1/1 [==============================] - 0s 50ms/step\n",
      "1/1 [==============================] - 0s 50ms/step\n"
     ]
    },
    {
     "name": "stderr",
     "output_type": "stream",
     "text": [
      "Clipping input data to the valid range for imshow with RGB data ([0..1] for floats or [0..255] for integers).\n"
     ]
    },
    {
     "name": "stdout",
     "output_type": "stream",
     "text": [
      "1/1 [==============================] - 0s 49ms/step\n",
      "1/1 [==============================] - 0s 58ms/step\n"
     ]
    },
    {
     "name": "stderr",
     "output_type": "stream",
     "text": [
      "Clipping input data to the valid range for imshow with RGB data ([0..1] for floats or [0..255] for integers).\n"
     ]
    },
    {
     "name": "stdout",
     "output_type": "stream",
     "text": [
      "1/1 [==============================] - 0s 50ms/step\n",
      "1/1 [==============================] - 0s 51ms/step\n"
     ]
    },
    {
     "name": "stderr",
     "output_type": "stream",
     "text": [
      "Clipping input data to the valid range for imshow with RGB data ([0..1] for floats or [0..255] for integers).\n"
     ]
    },
    {
     "name": "stdout",
     "output_type": "stream",
     "text": [
      "1/1 [==============================] - 0s 53ms/step\n",
      "1/1 [==============================] - 0s 69ms/step\n"
     ]
    },
    {
     "name": "stderr",
     "output_type": "stream",
     "text": [
      "Clipping input data to the valid range for imshow with RGB data ([0..1] for floats or [0..255] for integers).\n"
     ]
    },
    {
     "name": "stdout",
     "output_type": "stream",
     "text": [
      "1/1 [==============================] - 0s 49ms/step\n",
      "1/1 [==============================] - 0s 57ms/step\n"
     ]
    },
    {
     "name": "stderr",
     "output_type": "stream",
     "text": [
      "Clipping input data to the valid range for imshow with RGB data ([0..1] for floats or [0..255] for integers).\n"
     ]
    },
    {
     "name": "stdout",
     "output_type": "stream",
     "text": [
      "\n",
      "Done!\n",
      "Setting CPU\n",
      "9/9 [==============================] - 4s 458ms/step\n",
      "9/9 [==============================] - 4s 471ms/step\n",
      "9/9 [==============================] - 7s 821ms/step\n",
      "Saving Model...\n",
      "5/5 [==============================] - 2s 468ms/step\n",
      "5/5 [==============================] - 2s 485ms/step\n",
      "5/5 [==============================] - 4s 766ms/step\n",
      "Evaluating Model...\n",
      "\n",
      "Model Evaluation:\n",
      "{'Timestamp': '2024-05-07 09:43:41.154919', 'R2': 0.8200129683913665, 'MAE': 638237.375, 'Percentage Error': 15.26925917112639, 'MSE': 868054347268.75, 'Feature Importances': {'image_predictions': 0.02502627803981014, 'reconstruction_error': 0.021416636080175758, 'postal_code': 0.062148906473835606, 'type': 0.0, 'size': 0.6474483126445768, 'basement_size': 0.0, 'rooms': 0.008545432917774588, 'year_built': 0.027584008419966645, 'year_rebuilt': 0.03909852159788263, 'energy_label': 0.007941091836183665, 'postal_avg_sqm_price': 0.1253626790667801, 'lat': 0.015167137072659168, 'lng': 0.02026099585035502}}\n",
      "\n",
      "Median Evaluation:\n",
      "{'R2': 0.8143302894757989, 'MAE': 645323.625, 'Percentage Error': 15.390262391764121, 'MSE': 895461178153.75}\n",
      "Feauter Importance...\n",
      "{'image_predictions': 0.02502627803981014, 'reconstruction_error': 0.021416636080175758, 'postal_code': 0.062148906473835606, 'type': 0.0, 'size': 0.6474483126445768, 'basement_size': 0.0, 'rooms': 0.008545432917774588, 'year_built': 0.027584008419966645, 'year_rebuilt': 0.03909852159788263, 'energy_label': 0.007941091836183665, 'postal_avg_sqm_price': 0.1253626790667801, 'lat': 0.015167137072659168, 'lng': 0.02026099585035502}\n"
     ]
    },
    {
     "name": "stderr",
     "output_type": "stream",
     "text": [
      "/usr/local/lib/python3.10/site-packages/sklearn/base.py:439: UserWarning: X does not have valid feature names, but RandomForestRegressor was fitted with feature names\n",
      "  warnings.warn(\n"
     ]
    },
    {
     "name": "stdout",
     "output_type": "stream",
     "text": [
      "\n",
      "Saving Feature Importance\n",
      "\n",
      "Saving Reconstructions\n",
      "5/5 [==============================] - 2s 446ms/step\n",
      "5/5 [==============================] - 2s 471ms/step\n",
      "[ 65 122 151 132  48  24  30  38 120 126]\n",
      "[ 50  53  20 100 105  83 117 144  40  46]\n",
      "1/1 [==============================] - 0s 60ms/step\n",
      "1/1 [==============================] - 0s 51ms/step\n"
     ]
    },
    {
     "name": "stderr",
     "output_type": "stream",
     "text": [
      "Clipping input data to the valid range for imshow with RGB data ([0..1] for floats or [0..255] for integers).\n"
     ]
    },
    {
     "name": "stdout",
     "output_type": "stream",
     "text": [
      "1/1 [==============================] - 0s 44ms/step\n",
      "1/1 [==============================] - 0s 48ms/step\n"
     ]
    },
    {
     "name": "stderr",
     "output_type": "stream",
     "text": [
      "Clipping input data to the valid range for imshow with RGB data ([0..1] for floats or [0..255] for integers).\n"
     ]
    },
    {
     "name": "stdout",
     "output_type": "stream",
     "text": [
      "1/1 [==============================] - 0s 46ms/step\n",
      "1/1 [==============================] - 0s 46ms/step\n"
     ]
    },
    {
     "name": "stderr",
     "output_type": "stream",
     "text": [
      "Clipping input data to the valid range for imshow with RGB data ([0..1] for floats or [0..255] for integers).\n"
     ]
    },
    {
     "name": "stdout",
     "output_type": "stream",
     "text": [
      "1/1 [==============================] - 0s 48ms/step\n",
      "1/1 [==============================] - 0s 44ms/step\n"
     ]
    },
    {
     "name": "stderr",
     "output_type": "stream",
     "text": [
      "Clipping input data to the valid range for imshow with RGB data ([0..1] for floats or [0..255] for integers).\n"
     ]
    },
    {
     "name": "stdout",
     "output_type": "stream",
     "text": [
      "1/1 [==============================] - 0s 46ms/step\n",
      "1/1 [==============================] - 0s 48ms/step\n"
     ]
    },
    {
     "name": "stderr",
     "output_type": "stream",
     "text": [
      "Clipping input data to the valid range for imshow with RGB data ([0..1] for floats or [0..255] for integers).\n"
     ]
    },
    {
     "name": "stdout",
     "output_type": "stream",
     "text": [
      "1/1 [==============================] - 0s 45ms/step\n",
      "1/1 [==============================] - 0s 48ms/step\n"
     ]
    },
    {
     "name": "stderr",
     "output_type": "stream",
     "text": [
      "Clipping input data to the valid range for imshow with RGB data ([0..1] for floats or [0..255] for integers).\n"
     ]
    },
    {
     "name": "stdout",
     "output_type": "stream",
     "text": [
      "1/1 [==============================] - 0s 45ms/step\n",
      "1/1 [==============================] - 0s 48ms/step\n"
     ]
    },
    {
     "name": "stderr",
     "output_type": "stream",
     "text": [
      "Clipping input data to the valid range for imshow with RGB data ([0..1] for floats or [0..255] for integers).\n"
     ]
    },
    {
     "name": "stdout",
     "output_type": "stream",
     "text": [
      "1/1 [==============================] - 0s 43ms/step\n",
      "1/1 [==============================] - 0s 44ms/step\n"
     ]
    },
    {
     "name": "stderr",
     "output_type": "stream",
     "text": [
      "Clipping input data to the valid range for imshow with RGB data ([0..1] for floats or [0..255] for integers).\n"
     ]
    },
    {
     "name": "stdout",
     "output_type": "stream",
     "text": [
      "1/1 [==============================] - 0s 50ms/step\n",
      "1/1 [==============================] - 0s 50ms/step\n"
     ]
    },
    {
     "name": "stderr",
     "output_type": "stream",
     "text": [
      "Clipping input data to the valid range for imshow with RGB data ([0..1] for floats or [0..255] for integers).\n"
     ]
    },
    {
     "name": "stdout",
     "output_type": "stream",
     "text": [
      "1/1 [==============================] - 0s 46ms/step\n",
      "1/1 [==============================] - 0s 45ms/step\n"
     ]
    },
    {
     "name": "stderr",
     "output_type": "stream",
     "text": [
      "Clipping input data to the valid range for imshow with RGB data ([0..1] for floats or [0..255] for integers).\n"
     ]
    },
    {
     "name": "stdout",
     "output_type": "stream",
     "text": [
      "1/1 [==============================] - 0s 45ms/step\n",
      "1/1 [==============================] - 0s 43ms/step\n"
     ]
    },
    {
     "name": "stderr",
     "output_type": "stream",
     "text": [
      "Clipping input data to the valid range for imshow with RGB data ([0..1] for floats or [0..255] for integers).\n"
     ]
    },
    {
     "name": "stdout",
     "output_type": "stream",
     "text": [
      "1/1 [==============================] - 0s 51ms/step\n",
      "1/1 [==============================] - 0s 50ms/step\n"
     ]
    },
    {
     "name": "stderr",
     "output_type": "stream",
     "text": [
      "Clipping input data to the valid range for imshow with RGB data ([0..1] for floats or [0..255] for integers).\n"
     ]
    },
    {
     "name": "stdout",
     "output_type": "stream",
     "text": [
      "1/1 [==============================] - 0s 46ms/step\n",
      "1/1 [==============================] - 0s 48ms/step\n"
     ]
    },
    {
     "name": "stderr",
     "output_type": "stream",
     "text": [
      "Clipping input data to the valid range for imshow with RGB data ([0..1] for floats or [0..255] for integers).\n"
     ]
    },
    {
     "name": "stdout",
     "output_type": "stream",
     "text": [
      "1/1 [==============================] - 0s 49ms/step\n",
      "1/1 [==============================] - 0s 48ms/step\n"
     ]
    },
    {
     "name": "stderr",
     "output_type": "stream",
     "text": [
      "Clipping input data to the valid range for imshow with RGB data ([0..1] for floats or [0..255] for integers).\n"
     ]
    },
    {
     "name": "stdout",
     "output_type": "stream",
     "text": [
      "1/1 [==============================] - 0s 41ms/step\n",
      "1/1 [==============================] - 0s 52ms/step\n"
     ]
    },
    {
     "name": "stderr",
     "output_type": "stream",
     "text": [
      "Clipping input data to the valid range for imshow with RGB data ([0..1] for floats or [0..255] for integers).\n"
     ]
    },
    {
     "name": "stdout",
     "output_type": "stream",
     "text": [
      "1/1 [==============================] - 0s 54ms/step\n",
      "1/1 [==============================] - 0s 52ms/step\n"
     ]
    },
    {
     "name": "stderr",
     "output_type": "stream",
     "text": [
      "Clipping input data to the valid range for imshow with RGB data ([0..1] for floats or [0..255] for integers).\n"
     ]
    },
    {
     "name": "stdout",
     "output_type": "stream",
     "text": [
      "1/1 [==============================] - 0s 45ms/step\n",
      "1/1 [==============================] - 0s 51ms/step\n"
     ]
    },
    {
     "name": "stderr",
     "output_type": "stream",
     "text": [
      "Clipping input data to the valid range for imshow with RGB data ([0..1] for floats or [0..255] for integers).\n"
     ]
    },
    {
     "name": "stdout",
     "output_type": "stream",
     "text": [
      "1/1 [==============================] - 0s 59ms/step\n",
      "1/1 [==============================] - 0s 51ms/step\n"
     ]
    },
    {
     "name": "stderr",
     "output_type": "stream",
     "text": [
      "Clipping input data to the valid range for imshow with RGB data ([0..1] for floats or [0..255] for integers).\n"
     ]
    },
    {
     "name": "stdout",
     "output_type": "stream",
     "text": [
      "1/1 [==============================] - 0s 46ms/step\n",
      "1/1 [==============================] - 0s 61ms/step\n"
     ]
    },
    {
     "name": "stderr",
     "output_type": "stream",
     "text": [
      "Clipping input data to the valid range for imshow with RGB data ([0..1] for floats or [0..255] for integers).\n"
     ]
    },
    {
     "name": "stdout",
     "output_type": "stream",
     "text": [
      "1/1 [==============================] - 0s 136ms/step\n",
      "1/1 [==============================] - 0s 49ms/step\n"
     ]
    },
    {
     "name": "stderr",
     "output_type": "stream",
     "text": [
      "Clipping input data to the valid range for imshow with RGB data ([0..1] for floats or [0..255] for integers).\n"
     ]
    },
    {
     "name": "stdout",
     "output_type": "stream",
     "text": [
      "\n",
      "Done!\n",
      "Setting CPU\n",
      "9/9 [==============================] - 4s 481ms/step\n",
      "9/9 [==============================] - 4s 488ms/step\n",
      "9/9 [==============================] - 7s 826ms/step\n",
      "Saving Model...\n",
      "5/5 [==============================] - 2s 481ms/step\n",
      "5/5 [==============================] - 2s 485ms/step\n",
      "5/5 [==============================] - 4s 860ms/step\n",
      "Evaluating Model...\n",
      "\n",
      "Model Evaluation:\n",
      "{'Timestamp': '2024-05-07 09:44:45.027106', 'R2': 0.8032311510212543, 'MAE': 656845.4375, 'Percentage Error': 15.654600665162727, 'MSE': 948990898046.875, 'Feature Importances': {'image_predictions': 0.027657825709232902, 'reconstruction_error': 0.017977739763218863, 'postal_code': 0.07241797602916845, 'type': 0.0, 'size': 0.621782660568283, 'basement_size': 0.0, 'rooms': 0.007393484315715196, 'year_built': 0.030498154815789755, 'year_rebuilt': 0.04480221705544477, 'energy_label': 0.008952584050328092, 'postal_avg_sqm_price': 0.13281106950417731, 'lat': 0.014949404616882173, 'lng': 0.020756883571759546}}\n",
      "\n",
      "Median Evaluation:\n",
      "{'R2': 0.8127672692029979, 'MAE': 646613.5, 'Percentage Error': 15.459700415493494, 'MSE': 902999424273.75}\n",
      "Feauter Importance...\n",
      "{'image_predictions': 0.027657825709232902, 'reconstruction_error': 0.017977739763218863, 'postal_code': 0.07241797602916845, 'type': 0.0, 'size': 0.621782660568283, 'basement_size': 0.0, 'rooms': 0.007393484315715196, 'year_built': 0.030498154815789755, 'year_rebuilt': 0.04480221705544477, 'energy_label': 0.008952584050328092, 'postal_avg_sqm_price': 0.13281106950417731, 'lat': 0.014949404616882173, 'lng': 0.020756883571759546}\n"
     ]
    },
    {
     "name": "stderr",
     "output_type": "stream",
     "text": [
      "/usr/local/lib/python3.10/site-packages/sklearn/base.py:439: UserWarning: X does not have valid feature names, but RandomForestRegressor was fitted with feature names\n",
      "  warnings.warn(\n"
     ]
    },
    {
     "name": "stdout",
     "output_type": "stream",
     "text": [
      "\n",
      "Saving Feature Importance\n",
      "\n",
      "Saving Reconstructions\n",
      "5/5 [==============================] - 2s 459ms/step\n",
      "5/5 [==============================] - 2s 467ms/step\n",
      "[ 65 122 151 132  48  24  30  38 120 126]\n",
      "[ 50  53  20 100 105  83 117 144  40  46]\n",
      "1/1 [==============================] - 0s 67ms/step\n",
      "1/1 [==============================] - 0s 49ms/step\n"
     ]
    },
    {
     "name": "stderr",
     "output_type": "stream",
     "text": [
      "Clipping input data to the valid range for imshow with RGB data ([0..1] for floats or [0..255] for integers).\n"
     ]
    },
    {
     "name": "stdout",
     "output_type": "stream",
     "text": [
      "1/1 [==============================] - 0s 51ms/step\n",
      "1/1 [==============================] - 0s 54ms/step\n"
     ]
    },
    {
     "name": "stderr",
     "output_type": "stream",
     "text": [
      "Clipping input data to the valid range for imshow with RGB data ([0..1] for floats or [0..255] for integers).\n"
     ]
    },
    {
     "name": "stdout",
     "output_type": "stream",
     "text": [
      "1/1 [==============================] - 0s 48ms/step\n",
      "1/1 [==============================] - 0s 56ms/step\n"
     ]
    },
    {
     "name": "stderr",
     "output_type": "stream",
     "text": [
      "Clipping input data to the valid range for imshow with RGB data ([0..1] for floats or [0..255] for integers).\n"
     ]
    },
    {
     "name": "stdout",
     "output_type": "stream",
     "text": [
      "1/1 [==============================] - 0s 43ms/step\n",
      "1/1 [==============================] - 0s 49ms/step\n"
     ]
    },
    {
     "name": "stderr",
     "output_type": "stream",
     "text": [
      "Clipping input data to the valid range for imshow with RGB data ([0..1] for floats or [0..255] for integers).\n"
     ]
    },
    {
     "name": "stdout",
     "output_type": "stream",
     "text": [
      "1/1 [==============================] - 0s 48ms/step\n",
      "1/1 [==============================] - 0s 61ms/step\n"
     ]
    },
    {
     "name": "stderr",
     "output_type": "stream",
     "text": [
      "Clipping input data to the valid range for imshow with RGB data ([0..1] for floats or [0..255] for integers).\n"
     ]
    },
    {
     "name": "stdout",
     "output_type": "stream",
     "text": [
      "1/1 [==============================] - 0s 49ms/step\n",
      "1/1 [==============================] - 0s 54ms/step\n"
     ]
    },
    {
     "name": "stderr",
     "output_type": "stream",
     "text": [
      "Clipping input data to the valid range for imshow with RGB data ([0..1] for floats or [0..255] for integers).\n"
     ]
    },
    {
     "name": "stdout",
     "output_type": "stream",
     "text": [
      "1/1 [==============================] - 0s 50ms/step\n",
      "1/1 [==============================] - 0s 55ms/step\n"
     ]
    },
    {
     "name": "stderr",
     "output_type": "stream",
     "text": [
      "Clipping input data to the valid range for imshow with RGB data ([0..1] for floats or [0..255] for integers).\n"
     ]
    },
    {
     "name": "stdout",
     "output_type": "stream",
     "text": [
      "1/1 [==============================] - 0s 63ms/step\n",
      "1/1 [==============================] - 0s 50ms/step\n"
     ]
    },
    {
     "name": "stderr",
     "output_type": "stream",
     "text": [
      "Clipping input data to the valid range for imshow with RGB data ([0..1] for floats or [0..255] for integers).\n"
     ]
    },
    {
     "name": "stdout",
     "output_type": "stream",
     "text": [
      "1/1 [==============================] - 0s 49ms/step\n",
      "1/1 [==============================] - 0s 58ms/step\n"
     ]
    },
    {
     "name": "stderr",
     "output_type": "stream",
     "text": [
      "Clipping input data to the valid range for imshow with RGB data ([0..1] for floats or [0..255] for integers).\n"
     ]
    },
    {
     "name": "stdout",
     "output_type": "stream",
     "text": [
      "1/1 [==============================] - 0s 52ms/step\n",
      "1/1 [==============================] - 0s 56ms/step\n"
     ]
    },
    {
     "name": "stderr",
     "output_type": "stream",
     "text": [
      "Clipping input data to the valid range for imshow with RGB data ([0..1] for floats or [0..255] for integers).\n"
     ]
    },
    {
     "name": "stdout",
     "output_type": "stream",
     "text": [
      "1/1 [==============================] - 0s 52ms/step\n",
      "1/1 [==============================] - 0s 56ms/step\n"
     ]
    },
    {
     "name": "stderr",
     "output_type": "stream",
     "text": [
      "Clipping input data to the valid range for imshow with RGB data ([0..1] for floats or [0..255] for integers).\n"
     ]
    },
    {
     "name": "stdout",
     "output_type": "stream",
     "text": [
      "1/1 [==============================] - 0s 53ms/step\n",
      "1/1 [==============================] - 0s 131ms/step\n"
     ]
    },
    {
     "name": "stderr",
     "output_type": "stream",
     "text": [
      "Clipping input data to the valid range for imshow with RGB data ([0..1] for floats or [0..255] for integers).\n"
     ]
    },
    {
     "name": "stdout",
     "output_type": "stream",
     "text": [
      "1/1 [==============================] - 0s 51ms/step\n",
      "1/1 [==============================] - 0s 53ms/step\n"
     ]
    },
    {
     "name": "stderr",
     "output_type": "stream",
     "text": [
      "Clipping input data to the valid range for imshow with RGB data ([0..1] for floats or [0..255] for integers).\n"
     ]
    },
    {
     "name": "stdout",
     "output_type": "stream",
     "text": [
      "1/1 [==============================] - 0s 55ms/step\n",
      "1/1 [==============================] - 0s 53ms/step\n"
     ]
    },
    {
     "name": "stderr",
     "output_type": "stream",
     "text": [
      "Clipping input data to the valid range for imshow with RGB data ([0..1] for floats or [0..255] for integers).\n"
     ]
    },
    {
     "name": "stdout",
     "output_type": "stream",
     "text": [
      "1/1 [==============================] - 0s 48ms/step\n",
      "1/1 [==============================] - 0s 54ms/step\n"
     ]
    },
    {
     "name": "stderr",
     "output_type": "stream",
     "text": [
      "Clipping input data to the valid range for imshow with RGB data ([0..1] for floats or [0..255] for integers).\n"
     ]
    },
    {
     "name": "stdout",
     "output_type": "stream",
     "text": [
      "1/1 [==============================] - 0s 54ms/step\n",
      "1/1 [==============================] - 0s 58ms/step\n"
     ]
    },
    {
     "name": "stderr",
     "output_type": "stream",
     "text": [
      "Clipping input data to the valid range for imshow with RGB data ([0..1] for floats or [0..255] for integers).\n"
     ]
    },
    {
     "name": "stdout",
     "output_type": "stream",
     "text": [
      "1/1 [==============================] - 0s 53ms/step\n",
      "1/1 [==============================] - 0s 55ms/step\n"
     ]
    },
    {
     "name": "stderr",
     "output_type": "stream",
     "text": [
      "Clipping input data to the valid range for imshow with RGB data ([0..1] for floats or [0..255] for integers).\n"
     ]
    },
    {
     "name": "stdout",
     "output_type": "stream",
     "text": [
      "1/1 [==============================] - 0s 59ms/step\n",
      "1/1 [==============================] - 0s 49ms/step\n"
     ]
    },
    {
     "name": "stderr",
     "output_type": "stream",
     "text": [
      "Clipping input data to the valid range for imshow with RGB data ([0..1] for floats or [0..255] for integers).\n"
     ]
    },
    {
     "name": "stdout",
     "output_type": "stream",
     "text": [
      "1/1 [==============================] - 0s 50ms/step\n",
      "1/1 [==============================] - 0s 49ms/step\n"
     ]
    },
    {
     "name": "stderr",
     "output_type": "stream",
     "text": [
      "Clipping input data to the valid range for imshow with RGB data ([0..1] for floats or [0..255] for integers).\n"
     ]
    },
    {
     "name": "stdout",
     "output_type": "stream",
     "text": [
      "1/1 [==============================] - 0s 45ms/step\n",
      "1/1 [==============================] - 0s 49ms/step\n"
     ]
    },
    {
     "name": "stderr",
     "output_type": "stream",
     "text": [
      "Clipping input data to the valid range for imshow with RGB data ([0..1] for floats or [0..255] for integers).\n"
     ]
    },
    {
     "name": "stdout",
     "output_type": "stream",
     "text": [
      "\n",
      "Done!\n",
      "Setting CPU\n",
      "9/9 [==============================] - 5s 509ms/step\n",
      "9/9 [==============================] - 5s 507ms/step\n",
      "9/9 [==============================] - 7s 762ms/step\n",
      "Saving Model...\n",
      "5/5 [==============================] - 3s 538ms/step\n",
      "5/5 [==============================] - 2s 475ms/step\n",
      "5/5 [==============================] - 4s 863ms/step\n",
      "Evaluating Model...\n",
      "\n",
      "Model Evaluation:\n",
      "{'Timestamp': '2024-05-07 09:45:53.670170', 'R2': 0.8056247826853216, 'MAE': 660117.9375, 'Percentage Error': 15.683984973547666, 'MSE': 937446719818.125, 'Feature Importances': {'image_predictions': 0.025725072071743762, 'reconstruction_error': 0.018490958302440148, 'postal_code': 0.06918735700839092, 'type': 0.0, 'size': 0.6356570533445793, 'basement_size': 0.0, 'rooms': 0.007025814676795904, 'year_built': 0.0308091129889165, 'year_rebuilt': 0.04719722254375744, 'energy_label': 0.007960683825486687, 'postal_avg_sqm_price': 0.1185773433759434, 'lat': 0.015853722160595655, 'lng': 0.023515659701350274}}\n",
      "\n",
      "Median Evaluation:\n",
      "{'R2': 0.8114896916140557, 'MAE': 647957.5, 'Percentage Error': 15.494202564117597, 'MSE': 909161016973.75}\n",
      "Feauter Importance...\n",
      "{'image_predictions': 0.025725072071743762, 'reconstruction_error': 0.018490958302440148, 'postal_code': 0.06918735700839092, 'type': 0.0, 'size': 0.6356570533445793, 'basement_size': 0.0, 'rooms': 0.007025814676795904, 'year_built': 0.0308091129889165, 'year_rebuilt': 0.04719722254375744, 'energy_label': 0.007960683825486687, 'postal_avg_sqm_price': 0.1185773433759434, 'lat': 0.015853722160595655, 'lng': 0.023515659701350274}\n"
     ]
    },
    {
     "name": "stderr",
     "output_type": "stream",
     "text": [
      "/usr/local/lib/python3.10/site-packages/sklearn/base.py:439: UserWarning: X does not have valid feature names, but RandomForestRegressor was fitted with feature names\n",
      "  warnings.warn(\n"
     ]
    },
    {
     "name": "stdout",
     "output_type": "stream",
     "text": [
      "\n",
      "Saving Feature Importance\n",
      "\n",
      "Saving Reconstructions\n",
      "5/5 [==============================] - 3s 513ms/step\n",
      "5/5 [==============================] - 2s 457ms/step\n",
      "[ 65 122 151 132  48  24  30  38 120 126]\n",
      "[ 50  53  20 100 105  83 117 144  40  46]\n",
      "1/1 [==============================] - 0s 75ms/step\n",
      "1/1 [==============================] - 0s 49ms/step\n"
     ]
    },
    {
     "name": "stderr",
     "output_type": "stream",
     "text": [
      "Clipping input data to the valid range for imshow with RGB data ([0..1] for floats or [0..255] for integers).\n"
     ]
    },
    {
     "name": "stdout",
     "output_type": "stream",
     "text": [
      "1/1 [==============================] - 0s 124ms/step\n",
      "1/1 [==============================] - 0s 49ms/step\n"
     ]
    },
    {
     "name": "stderr",
     "output_type": "stream",
     "text": [
      "Clipping input data to the valid range for imshow with RGB data ([0..1] for floats or [0..255] for integers).\n"
     ]
    },
    {
     "name": "stdout",
     "output_type": "stream",
     "text": [
      "1/1 [==============================] - 0s 56ms/step\n",
      "1/1 [==============================] - 0s 48ms/step\n"
     ]
    },
    {
     "name": "stderr",
     "output_type": "stream",
     "text": [
      "Clipping input data to the valid range for imshow with RGB data ([0..1] for floats or [0..255] for integers).\n"
     ]
    },
    {
     "name": "stdout",
     "output_type": "stream",
     "text": [
      "1/1 [==============================] - 0s 50ms/step\n",
      "1/1 [==============================] - 0s 50ms/step\n"
     ]
    },
    {
     "name": "stderr",
     "output_type": "stream",
     "text": [
      "Clipping input data to the valid range for imshow with RGB data ([0..1] for floats or [0..255] for integers).\n"
     ]
    },
    {
     "name": "stdout",
     "output_type": "stream",
     "text": [
      "1/1 [==============================] - 0s 55ms/step\n",
      "1/1 [==============================] - 0s 51ms/step\n"
     ]
    },
    {
     "name": "stderr",
     "output_type": "stream",
     "text": [
      "Clipping input data to the valid range for imshow with RGB data ([0..1] for floats or [0..255] for integers).\n"
     ]
    },
    {
     "name": "stdout",
     "output_type": "stream",
     "text": [
      "1/1 [==============================] - 0s 47ms/step\n",
      "1/1 [==============================] - 0s 48ms/step\n"
     ]
    },
    {
     "name": "stderr",
     "output_type": "stream",
     "text": [
      "Clipping input data to the valid range for imshow with RGB data ([0..1] for floats or [0..255] for integers).\n"
     ]
    },
    {
     "name": "stdout",
     "output_type": "stream",
     "text": [
      "1/1 [==============================] - 0s 45ms/step\n",
      "1/1 [==============================] - 0s 60ms/step\n"
     ]
    },
    {
     "name": "stderr",
     "output_type": "stream",
     "text": [
      "Clipping input data to the valid range for imshow with RGB data ([0..1] for floats or [0..255] for integers).\n"
     ]
    },
    {
     "name": "stdout",
     "output_type": "stream",
     "text": [
      "1/1 [==============================] - 0s 65ms/step\n",
      "1/1 [==============================] - 0s 63ms/step\n"
     ]
    },
    {
     "name": "stderr",
     "output_type": "stream",
     "text": [
      "Clipping input data to the valid range for imshow with RGB data ([0..1] for floats or [0..255] for integers).\n"
     ]
    },
    {
     "name": "stdout",
     "output_type": "stream",
     "text": [
      "1/1 [==============================] - 0s 54ms/step\n",
      "1/1 [==============================] - 0s 54ms/step\n"
     ]
    },
    {
     "name": "stderr",
     "output_type": "stream",
     "text": [
      "Clipping input data to the valid range for imshow with RGB data ([0..1] for floats or [0..255] for integers).\n"
     ]
    },
    {
     "name": "stdout",
     "output_type": "stream",
     "text": [
      "1/1 [==============================] - 0s 57ms/step\n",
      "1/1 [==============================] - 0s 83ms/step\n"
     ]
    },
    {
     "name": "stderr",
     "output_type": "stream",
     "text": [
      "Clipping input data to the valid range for imshow with RGB data ([0..1] for floats or [0..255] for integers).\n"
     ]
    },
    {
     "name": "stdout",
     "output_type": "stream",
     "text": [
      "1/1 [==============================] - 0s 64ms/step\n",
      "1/1 [==============================] - 0s 58ms/step\n"
     ]
    },
    {
     "name": "stderr",
     "output_type": "stream",
     "text": [
      "Clipping input data to the valid range for imshow with RGB data ([0..1] for floats or [0..255] for integers).\n"
     ]
    },
    {
     "name": "stdout",
     "output_type": "stream",
     "text": [
      "1/1 [==============================] - 0s 53ms/step\n",
      "1/1 [==============================] - 0s 54ms/step\n"
     ]
    },
    {
     "name": "stderr",
     "output_type": "stream",
     "text": [
      "Clipping input data to the valid range for imshow with RGB data ([0..1] for floats or [0..255] for integers).\n"
     ]
    },
    {
     "name": "stdout",
     "output_type": "stream",
     "text": [
      "1/1 [==============================] - 0s 62ms/step\n",
      "1/1 [==============================] - 0s 50ms/step\n"
     ]
    },
    {
     "name": "stderr",
     "output_type": "stream",
     "text": [
      "Clipping input data to the valid range for imshow with RGB data ([0..1] for floats or [0..255] for integers).\n"
     ]
    },
    {
     "name": "stdout",
     "output_type": "stream",
     "text": [
      "1/1 [==============================] - 0s 76ms/step\n",
      "1/1 [==============================] - 0s 81ms/step\n"
     ]
    },
    {
     "name": "stderr",
     "output_type": "stream",
     "text": [
      "Clipping input data to the valid range for imshow with RGB data ([0..1] for floats or [0..255] for integers).\n"
     ]
    },
    {
     "name": "stdout",
     "output_type": "stream",
     "text": [
      "1/1 [==============================] - 0s 64ms/step\n",
      "1/1 [==============================] - 0s 54ms/step\n"
     ]
    },
    {
     "name": "stderr",
     "output_type": "stream",
     "text": [
      "Clipping input data to the valid range for imshow with RGB data ([0..1] for floats or [0..255] for integers).\n"
     ]
    },
    {
     "name": "stdout",
     "output_type": "stream",
     "text": [
      "1/1 [==============================] - 0s 52ms/step\n",
      "1/1 [==============================] - 0s 62ms/step\n"
     ]
    },
    {
     "name": "stderr",
     "output_type": "stream",
     "text": [
      "Clipping input data to the valid range for imshow with RGB data ([0..1] for floats or [0..255] for integers).\n"
     ]
    },
    {
     "name": "stdout",
     "output_type": "stream",
     "text": [
      "1/1 [==============================] - 0s 44ms/step\n",
      "1/1 [==============================] - 0s 66ms/step\n"
     ]
    },
    {
     "name": "stderr",
     "output_type": "stream",
     "text": [
      "Clipping input data to the valid range for imshow with RGB data ([0..1] for floats or [0..255] for integers).\n"
     ]
    },
    {
     "name": "stdout",
     "output_type": "stream",
     "text": [
      "1/1 [==============================] - 0s 57ms/step\n",
      "1/1 [==============================] - 0s 53ms/step\n"
     ]
    },
    {
     "name": "stderr",
     "output_type": "stream",
     "text": [
      "Clipping input data to the valid range for imshow with RGB data ([0..1] for floats or [0..255] for integers).\n"
     ]
    },
    {
     "name": "stdout",
     "output_type": "stream",
     "text": [
      "1/1 [==============================] - 0s 60ms/step\n",
      "1/1 [==============================] - 0s 65ms/step\n"
     ]
    },
    {
     "name": "stderr",
     "output_type": "stream",
     "text": [
      "Clipping input data to the valid range for imshow with RGB data ([0..1] for floats or [0..255] for integers).\n"
     ]
    },
    {
     "name": "stdout",
     "output_type": "stream",
     "text": [
      "1/1 [==============================] - 0s 78ms/step\n",
      "1/1 [==============================] - 0s 71ms/step\n"
     ]
    },
    {
     "name": "stderr",
     "output_type": "stream",
     "text": [
      "Clipping input data to the valid range for imshow with RGB data ([0..1] for floats or [0..255] for integers).\n"
     ]
    },
    {
     "name": "stdout",
     "output_type": "stream",
     "text": [
      "\n",
      "Done!\n",
      "Setting CPU\n",
      "9/9 [==============================] - 5s 536ms/step\n",
      "9/9 [==============================] - 5s 513ms/step\n",
      "9/9 [==============================] - 7s 787ms/step\n",
      "Saving Model...\n",
      "5/5 [==============================] - 2s 469ms/step\n",
      "5/5 [==============================] - 3s 524ms/step\n",
      "5/5 [==============================] - 4s 785ms/step\n",
      "Evaluating Model...\n",
      "\n",
      "Model Evaluation:\n",
      "{'Timestamp': '2024-05-07 09:47:06.476780', 'R2': 0.8072623402695978, 'MAE': 654024.5, 'Percentage Error': 16.036306795291694, 'MSE': 929548989813.75, 'Feature Importances': {'image_predictions': 0.02572872186862934, 'reconstruction_error': 0.018226176608528908, 'postal_code': 0.06675219520521777, 'type': 0.0, 'size': 0.6289574415610694, 'basement_size': 0.0, 'rooms': 0.008472183419105302, 'year_built': 0.033183278038405685, 'year_rebuilt': 0.0477988791564588, 'energy_label': 0.009724274180149869, 'postal_avg_sqm_price': 0.12351541163554391, 'lat': 0.015594897358821318, 'lng': 0.022046540968069753}}\n",
      "\n",
      "Median Evaluation:\n",
      "{'R2': 0.8102121140251134, 'MAE': 649301.5, 'Percentage Error': 15.528704712741698, 'MSE': 915322609673.75}\n",
      "Feauter Importance...\n",
      "{'image_predictions': 0.02572872186862934, 'reconstruction_error': 0.018226176608528908, 'postal_code': 0.06675219520521777, 'type': 0.0, 'size': 0.6289574415610694, 'basement_size': 0.0, 'rooms': 0.008472183419105302, 'year_built': 0.033183278038405685, 'year_rebuilt': 0.0477988791564588, 'energy_label': 0.009724274180149869, 'postal_avg_sqm_price': 0.12351541163554391, 'lat': 0.015594897358821318, 'lng': 0.022046540968069753}\n"
     ]
    },
    {
     "name": "stderr",
     "output_type": "stream",
     "text": [
      "/usr/local/lib/python3.10/site-packages/sklearn/base.py:439: UserWarning: X does not have valid feature names, but RandomForestRegressor was fitted with feature names\n",
      "  warnings.warn(\n"
     ]
    },
    {
     "name": "stdout",
     "output_type": "stream",
     "text": [
      "\n",
      "Saving Feature Importance\n",
      "\n",
      "Saving Reconstructions\n",
      "5/5 [==============================] - 2s 491ms/step\n",
      "5/5 [==============================] - 3s 457ms/step\n",
      "[ 65 122 151 132  48  24  30  38 120 126]\n",
      "[ 50  53  20 100 105  83 117 144  40  46]\n",
      "1/1 [==============================] - 0s 68ms/step\n",
      "1/1 [==============================] - 0s 64ms/step\n"
     ]
    },
    {
     "name": "stderr",
     "output_type": "stream",
     "text": [
      "Clipping input data to the valid range for imshow with RGB data ([0..1] for floats or [0..255] for integers).\n"
     ]
    },
    {
     "name": "stdout",
     "output_type": "stream",
     "text": [
      "1/1 [==============================] - 0s 51ms/step\n",
      "1/1 [==============================] - 0s 49ms/step\n"
     ]
    },
    {
     "name": "stderr",
     "output_type": "stream",
     "text": [
      "Clipping input data to the valid range for imshow with RGB data ([0..1] for floats or [0..255] for integers).\n"
     ]
    },
    {
     "name": "stdout",
     "output_type": "stream",
     "text": [
      "1/1 [==============================] - 0s 70ms/step\n",
      "1/1 [==============================] - 0s 63ms/step\n"
     ]
    },
    {
     "name": "stderr",
     "output_type": "stream",
     "text": [
      "Clipping input data to the valid range for imshow with RGB data ([0..1] for floats or [0..255] for integers).\n"
     ]
    },
    {
     "name": "stdout",
     "output_type": "stream",
     "text": [
      "1/1 [==============================] - 0s 46ms/step\n",
      "1/1 [==============================] - 0s 64ms/step\n"
     ]
    },
    {
     "name": "stderr",
     "output_type": "stream",
     "text": [
      "Clipping input data to the valid range for imshow with RGB data ([0..1] for floats or [0..255] for integers).\n"
     ]
    },
    {
     "name": "stdout",
     "output_type": "stream",
     "text": [
      "1/1 [==============================] - 0s 48ms/step\n",
      "1/1 [==============================] - 0s 53ms/step\n"
     ]
    },
    {
     "name": "stderr",
     "output_type": "stream",
     "text": [
      "Clipping input data to the valid range for imshow with RGB data ([0..1] for floats or [0..255] for integers).\n"
     ]
    },
    {
     "name": "stdout",
     "output_type": "stream",
     "text": [
      "1/1 [==============================] - 0s 44ms/step\n",
      "1/1 [==============================] - 0s 51ms/step\n"
     ]
    },
    {
     "name": "stderr",
     "output_type": "stream",
     "text": [
      "Clipping input data to the valid range for imshow with RGB data ([0..1] for floats or [0..255] for integers).\n"
     ]
    },
    {
     "name": "stdout",
     "output_type": "stream",
     "text": [
      "1/1 [==============================] - 0s 45ms/step\n",
      "1/1 [==============================] - 0s 66ms/step\n"
     ]
    },
    {
     "name": "stderr",
     "output_type": "stream",
     "text": [
      "Clipping input data to the valid range for imshow with RGB data ([0..1] for floats or [0..255] for integers).\n"
     ]
    },
    {
     "name": "stdout",
     "output_type": "stream",
     "text": [
      "1/1 [==============================] - 0s 49ms/step\n",
      "1/1 [==============================] - 0s 57ms/step\n"
     ]
    },
    {
     "name": "stderr",
     "output_type": "stream",
     "text": [
      "Clipping input data to the valid range for imshow with RGB data ([0..1] for floats or [0..255] for integers).\n"
     ]
    },
    {
     "name": "stdout",
     "output_type": "stream",
     "text": [
      "1/1 [==============================] - 0s 47ms/step\n",
      "1/1 [==============================] - 0s 54ms/step\n"
     ]
    },
    {
     "name": "stderr",
     "output_type": "stream",
     "text": [
      "Clipping input data to the valid range for imshow with RGB data ([0..1] for floats or [0..255] for integers).\n"
     ]
    },
    {
     "name": "stdout",
     "output_type": "stream",
     "text": [
      "1/1 [==============================] - 0s 47ms/step\n",
      "1/1 [==============================] - 0s 48ms/step\n"
     ]
    },
    {
     "name": "stderr",
     "output_type": "stream",
     "text": [
      "Clipping input data to the valid range for imshow with RGB data ([0..1] for floats or [0..255] for integers).\n"
     ]
    },
    {
     "name": "stdout",
     "output_type": "stream",
     "text": [
      "1/1 [==============================] - 0s 52ms/step\n",
      "1/1 [==============================] - 0s 50ms/step\n"
     ]
    },
    {
     "name": "stderr",
     "output_type": "stream",
     "text": [
      "Clipping input data to the valid range for imshow with RGB data ([0..1] for floats or [0..255] for integers).\n"
     ]
    },
    {
     "name": "stdout",
     "output_type": "stream",
     "text": [
      "1/1 [==============================] - 0s 46ms/step\n",
      "1/1 [==============================] - 0s 51ms/step\n"
     ]
    },
    {
     "name": "stderr",
     "output_type": "stream",
     "text": [
      "Clipping input data to the valid range for imshow with RGB data ([0..1] for floats or [0..255] for integers).\n"
     ]
    },
    {
     "name": "stdout",
     "output_type": "stream",
     "text": [
      "1/1 [==============================] - 0s 51ms/step\n",
      "1/1 [==============================] - 0s 56ms/step\n"
     ]
    },
    {
     "name": "stderr",
     "output_type": "stream",
     "text": [
      "Clipping input data to the valid range for imshow with RGB data ([0..1] for floats or [0..255] for integers).\n"
     ]
    },
    {
     "name": "stdout",
     "output_type": "stream",
     "text": [
      "1/1 [==============================] - 0s 57ms/step\n",
      "1/1 [==============================] - 0s 48ms/step\n"
     ]
    },
    {
     "name": "stderr",
     "output_type": "stream",
     "text": [
      "Clipping input data to the valid range for imshow with RGB data ([0..1] for floats or [0..255] for integers).\n"
     ]
    },
    {
     "name": "stdout",
     "output_type": "stream",
     "text": [
      "1/1 [==============================] - 0s 54ms/step\n",
      "1/1 [==============================] - 0s 51ms/step\n"
     ]
    },
    {
     "name": "stderr",
     "output_type": "stream",
     "text": [
      "Clipping input data to the valid range for imshow with RGB data ([0..1] for floats or [0..255] for integers).\n"
     ]
    },
    {
     "name": "stdout",
     "output_type": "stream",
     "text": [
      "1/1 [==============================] - 0s 59ms/step\n",
      "1/1 [==============================] - 0s 52ms/step\n"
     ]
    },
    {
     "name": "stderr",
     "output_type": "stream",
     "text": [
      "Clipping input data to the valid range for imshow with RGB data ([0..1] for floats or [0..255] for integers).\n"
     ]
    },
    {
     "name": "stdout",
     "output_type": "stream",
     "text": [
      "1/1 [==============================] - 0s 48ms/step\n",
      "1/1 [==============================] - 0s 60ms/step\n"
     ]
    },
    {
     "name": "stderr",
     "output_type": "stream",
     "text": [
      "Clipping input data to the valid range for imshow with RGB data ([0..1] for floats or [0..255] for integers).\n"
     ]
    },
    {
     "name": "stdout",
     "output_type": "stream",
     "text": [
      "1/1 [==============================] - 0s 50ms/step\n",
      "1/1 [==============================] - 0s 57ms/step\n"
     ]
    },
    {
     "name": "stderr",
     "output_type": "stream",
     "text": [
      "Clipping input data to the valid range for imshow with RGB data ([0..1] for floats or [0..255] for integers).\n"
     ]
    },
    {
     "name": "stdout",
     "output_type": "stream",
     "text": [
      "1/1 [==============================] - 0s 43ms/step\n",
      "1/1 [==============================] - 0s 61ms/step\n"
     ]
    },
    {
     "name": "stderr",
     "output_type": "stream",
     "text": [
      "Clipping input data to the valid range for imshow with RGB data ([0..1] for floats or [0..255] for integers).\n"
     ]
    },
    {
     "name": "stdout",
     "output_type": "stream",
     "text": [
      "1/1 [==============================] - 0s 48ms/step\n",
      "1/1 [==============================] - 0s 51ms/step\n"
     ]
    },
    {
     "name": "stderr",
     "output_type": "stream",
     "text": [
      "Clipping input data to the valid range for imshow with RGB data ([0..1] for floats or [0..255] for integers).\n"
     ]
    },
    {
     "name": "stdout",
     "output_type": "stream",
     "text": [
      "\n",
      "Done!\n",
      "Setting CPU\n",
      "9/9 [==============================] - 5s 502ms/step\n",
      "9/9 [==============================] - 4s 478ms/step\n",
      "9/9 [==============================] - 8s 866ms/step\n",
      "Saving Model...\n",
      "5/5 [==============================] - 3s 504ms/step\n",
      "5/5 [==============================] - 3s 510ms/step\n",
      "5/5 [==============================] - 4s 822ms/step\n",
      "Evaluating Model...\n",
      "\n",
      "Model Evaluation:\n",
      "{'Timestamp': '2024-05-07 09:48:14.806067', 'R2': 0.8104093489193249, 'MAE': 646259.9375, 'Percentage Error': 15.452612968311403, 'MSE': 914371371099.375, 'Feature Importances': {'image_predictions': 0.028711523259683572, 'reconstruction_error': 0.020061496871468625, 'postal_code': 0.061341202266173275, 'type': 0.0, 'size': 0.6285745678274013, 'basement_size': 0.0, 'rooms': 0.007048574638162958, 'year_built': 0.028284602260752002, 'year_rebuilt': 0.057019139795762695, 'energy_label': 0.00786136010641222, 'postal_avg_sqm_price': 0.1223684573156783, 'lat': 0.016701678605274883, 'lng': 0.022027397053230136}}\n",
      "\n",
      "Median Evaluation:\n",
      "{'R2': 0.8103107314722191, 'MAE': 647957.5, 'Percentage Error': 15.494202564117597, 'MSE': 914846990386.5625}\n",
      "Feauter Importance...\n",
      "{'image_predictions': 0.028711523259683572, 'reconstruction_error': 0.020061496871468625, 'postal_code': 0.061341202266173275, 'type': 0.0, 'size': 0.6285745678274013, 'basement_size': 0.0, 'rooms': 0.007048574638162958, 'year_built': 0.028284602260752002, 'year_rebuilt': 0.057019139795762695, 'energy_label': 0.00786136010641222, 'postal_avg_sqm_price': 0.1223684573156783, 'lat': 0.016701678605274883, 'lng': 0.022027397053230136}\n"
     ]
    },
    {
     "name": "stderr",
     "output_type": "stream",
     "text": [
      "/usr/local/lib/python3.10/site-packages/sklearn/base.py:439: UserWarning: X does not have valid feature names, but RandomForestRegressor was fitted with feature names\n",
      "  warnings.warn(\n"
     ]
    },
    {
     "name": "stdout",
     "output_type": "stream",
     "text": [
      "\n",
      "Saving Feature Importance\n",
      "\n",
      "Saving Reconstructions\n",
      "5/5 [==============================] - 3s 558ms/step\n",
      "5/5 [==============================] - 2s 475ms/step\n",
      "[ 65 122 151 132  48  24  30  38 120 126]\n",
      "[ 50  53  20 100 105  83 117 144  40  46]\n",
      "1/1 [==============================] - 0s 90ms/step\n",
      "1/1 [==============================] - 0s 76ms/step\n"
     ]
    },
    {
     "name": "stderr",
     "output_type": "stream",
     "text": [
      "Clipping input data to the valid range for imshow with RGB data ([0..1] for floats or [0..255] for integers).\n"
     ]
    },
    {
     "name": "stdout",
     "output_type": "stream",
     "text": [
      "1/1 [==============================] - 0s 52ms/step\n",
      "1/1 [==============================] - 0s 65ms/step\n"
     ]
    },
    {
     "name": "stderr",
     "output_type": "stream",
     "text": [
      "Clipping input data to the valid range for imshow with RGB data ([0..1] for floats or [0..255] for integers).\n"
     ]
    },
    {
     "name": "stdout",
     "output_type": "stream",
     "text": [
      "1/1 [==============================] - 0s 48ms/step\n",
      "1/1 [==============================] - 0s 60ms/step\n"
     ]
    },
    {
     "name": "stderr",
     "output_type": "stream",
     "text": [
      "Clipping input data to the valid range for imshow with RGB data ([0..1] for floats or [0..255] for integers).\n"
     ]
    },
    {
     "name": "stdout",
     "output_type": "stream",
     "text": [
      "1/1 [==============================] - 0s 49ms/step\n",
      "1/1 [==============================] - 0s 47ms/step\n"
     ]
    },
    {
     "name": "stderr",
     "output_type": "stream",
     "text": [
      "Clipping input data to the valid range for imshow with RGB data ([0..1] for floats or [0..255] for integers).\n"
     ]
    },
    {
     "name": "stdout",
     "output_type": "stream",
     "text": [
      "1/1 [==============================] - 0s 57ms/step\n",
      "1/1 [==============================] - 0s 49ms/step\n"
     ]
    },
    {
     "name": "stderr",
     "output_type": "stream",
     "text": [
      "Clipping input data to the valid range for imshow with RGB data ([0..1] for floats or [0..255] for integers).\n"
     ]
    },
    {
     "name": "stdout",
     "output_type": "stream",
     "text": [
      "1/1 [==============================] - 0s 43ms/step\n",
      "1/1 [==============================] - 0s 56ms/step\n"
     ]
    },
    {
     "name": "stderr",
     "output_type": "stream",
     "text": [
      "Clipping input data to the valid range for imshow with RGB data ([0..1] for floats or [0..255] for integers).\n"
     ]
    },
    {
     "name": "stdout",
     "output_type": "stream",
     "text": [
      "1/1 [==============================] - 0s 59ms/step\n",
      "1/1 [==============================] - 0s 76ms/step\n"
     ]
    },
    {
     "name": "stderr",
     "output_type": "stream",
     "text": [
      "Clipping input data to the valid range for imshow with RGB data ([0..1] for floats or [0..255] for integers).\n"
     ]
    },
    {
     "name": "stdout",
     "output_type": "stream",
     "text": [
      "1/1 [==============================] - 0s 52ms/step\n",
      "1/1 [==============================] - 0s 59ms/step\n"
     ]
    },
    {
     "name": "stderr",
     "output_type": "stream",
     "text": [
      "Clipping input data to the valid range for imshow with RGB data ([0..1] for floats or [0..255] for integers).\n"
     ]
    },
    {
     "name": "stdout",
     "output_type": "stream",
     "text": [
      "1/1 [==============================] - 0s 50ms/step\n",
      "1/1 [==============================] - 0s 60ms/step\n"
     ]
    },
    {
     "name": "stderr",
     "output_type": "stream",
     "text": [
      "Clipping input data to the valid range for imshow with RGB data ([0..1] for floats or [0..255] for integers).\n"
     ]
    },
    {
     "name": "stdout",
     "output_type": "stream",
     "text": [
      "1/1 [==============================] - 0s 48ms/step\n",
      "1/1 [==============================] - 0s 52ms/step\n"
     ]
    },
    {
     "name": "stderr",
     "output_type": "stream",
     "text": [
      "Clipping input data to the valid range for imshow with RGB data ([0..1] for floats or [0..255] for integers).\n"
     ]
    },
    {
     "name": "stdout",
     "output_type": "stream",
     "text": [
      "1/1 [==============================] - 0s 62ms/step\n",
      "1/1 [==============================] - 0s 56ms/step\n"
     ]
    },
    {
     "name": "stderr",
     "output_type": "stream",
     "text": [
      "Clipping input data to the valid range for imshow with RGB data ([0..1] for floats or [0..255] for integers).\n"
     ]
    },
    {
     "name": "stdout",
     "output_type": "stream",
     "text": [
      "1/1 [==============================] - 0s 63ms/step\n",
      "1/1 [==============================] - 0s 58ms/step\n"
     ]
    },
    {
     "name": "stderr",
     "output_type": "stream",
     "text": [
      "Clipping input data to the valid range for imshow with RGB data ([0..1] for floats or [0..255] for integers).\n"
     ]
    },
    {
     "name": "stdout",
     "output_type": "stream",
     "text": [
      "1/1 [==============================] - 0s 52ms/step\n",
      "1/1 [==============================] - 0s 60ms/step\n"
     ]
    },
    {
     "name": "stderr",
     "output_type": "stream",
     "text": [
      "Clipping input data to the valid range for imshow with RGB data ([0..1] for floats or [0..255] for integers).\n"
     ]
    },
    {
     "name": "stdout",
     "output_type": "stream",
     "text": [
      "1/1 [==============================] - 0s 53ms/step\n",
      "1/1 [==============================] - 0s 50ms/step\n"
     ]
    },
    {
     "name": "stderr",
     "output_type": "stream",
     "text": [
      "Clipping input data to the valid range for imshow with RGB data ([0..1] for floats or [0..255] for integers).\n"
     ]
    },
    {
     "name": "stdout",
     "output_type": "stream",
     "text": [
      "1/1 [==============================] - 0s 47ms/step\n",
      "1/1 [==============================] - 0s 56ms/step\n"
     ]
    },
    {
     "name": "stderr",
     "output_type": "stream",
     "text": [
      "Clipping input data to the valid range for imshow with RGB data ([0..1] for floats or [0..255] for integers).\n"
     ]
    },
    {
     "name": "stdout",
     "output_type": "stream",
     "text": [
      "1/1 [==============================] - 0s 134ms/step\n",
      "1/1 [==============================] - 0s 50ms/step\n"
     ]
    },
    {
     "name": "stderr",
     "output_type": "stream",
     "text": [
      "Clipping input data to the valid range for imshow with RGB data ([0..1] for floats or [0..255] for integers).\n"
     ]
    },
    {
     "name": "stdout",
     "output_type": "stream",
     "text": [
      "1/1 [==============================] - 0s 47ms/step\n",
      "1/1 [==============================] - 0s 56ms/step\n"
     ]
    },
    {
     "name": "stderr",
     "output_type": "stream",
     "text": [
      "Clipping input data to the valid range for imshow with RGB data ([0..1] for floats or [0..255] for integers).\n"
     ]
    },
    {
     "name": "stdout",
     "output_type": "stream",
     "text": [
      "1/1 [==============================] - 0s 48ms/step\n",
      "1/1 [==============================] - 0s 55ms/step\n"
     ]
    },
    {
     "name": "stderr",
     "output_type": "stream",
     "text": [
      "Clipping input data to the valid range for imshow with RGB data ([0..1] for floats or [0..255] for integers).\n"
     ]
    },
    {
     "name": "stdout",
     "output_type": "stream",
     "text": [
      "1/1 [==============================] - 0s 49ms/step\n",
      "1/1 [==============================] - 0s 51ms/step\n"
     ]
    },
    {
     "name": "stderr",
     "output_type": "stream",
     "text": [
      "Clipping input data to the valid range for imshow with RGB data ([0..1] for floats or [0..255] for integers).\n"
     ]
    },
    {
     "name": "stdout",
     "output_type": "stream",
     "text": [
      "1/1 [==============================] - 0s 43ms/step\n",
      "1/1 [==============================] - 0s 52ms/step\n"
     ]
    },
    {
     "name": "stderr",
     "output_type": "stream",
     "text": [
      "Clipping input data to the valid range for imshow with RGB data ([0..1] for floats or [0..255] for integers).\n"
     ]
    },
    {
     "name": "stdout",
     "output_type": "stream",
     "text": [
      "\n",
      "Done!\n",
      "Setting CPU\n",
      "9/9 [==============================] - 4s 486ms/step\n",
      "9/9 [==============================] - 4s 462ms/step\n",
      "9/9 [==============================] - 8s 925ms/step\n",
      "Saving Model...\n",
      "5/5 [==============================] - 3s 487ms/step\n",
      "5/5 [==============================] - 3s 501ms/step\n",
      "5/5 [==============================] - 4s 846ms/step\n",
      "Evaluating Model...\n",
      "\n",
      "Model Evaluation:\n",
      "{'Timestamp': '2024-05-07 09:49:25.878924', 'R2': 0.8167668710641931, 'MAE': 640595.625, 'Percentage Error': 15.48021827385313, 'MSE': 883709857953.75, 'Feature Importances': {'image_predictions': 0.027504337941447573, 'reconstruction_error': 0.01725688965304035, 'postal_code': 0.06504451658334942, 'type': 0.0, 'size': 0.6385825068463644, 'basement_size': 0.0, 'rooms': 0.006866420450866828, 'year_built': 0.03351199793726114, 'year_rebuilt': 0.04874440242906173, 'energy_label': 0.008489389080567622, 'postal_avg_sqm_price': 0.11481075023843067, 'lat': 0.017465027120024387, 'lng': 0.021723761719585902}}\n",
      "\n",
      "Median Evaluation:\n",
      "{'R2': 0.8104093489193249, 'MAE': 646613.5, 'Percentage Error': 15.48021827385313, 'MSE': 914371371099.375}\n",
      "Feauter Importance...\n",
      "{'image_predictions': 0.027504337941447573, 'reconstruction_error': 0.01725688965304035, 'postal_code': 0.06504451658334942, 'type': 0.0, 'size': 0.6385825068463644, 'basement_size': 0.0, 'rooms': 0.006866420450866828, 'year_built': 0.03351199793726114, 'year_rebuilt': 0.04874440242906173, 'energy_label': 0.008489389080567622, 'postal_avg_sqm_price': 0.11481075023843067, 'lat': 0.017465027120024387, 'lng': 0.021723761719585902}\n"
     ]
    },
    {
     "name": "stderr",
     "output_type": "stream",
     "text": [
      "/usr/local/lib/python3.10/site-packages/sklearn/base.py:439: UserWarning: X does not have valid feature names, but RandomForestRegressor was fitted with feature names\n",
      "  warnings.warn(\n"
     ]
    },
    {
     "name": "stdout",
     "output_type": "stream",
     "text": [
      "\n",
      "Saving Feature Importance\n",
      "\n",
      "Saving Reconstructions\n",
      "5/5 [==============================] - 3s 518ms/step\n",
      "5/5 [==============================] - 2s 472ms/step\n",
      "[ 65 122 151 132  48  24  30  38 120 126]\n",
      "[ 50  53  20 100 105  83 117 144  40  46]\n",
      "1/1 [==============================] - 0s 67ms/step\n",
      "1/1 [==============================] - 0s 48ms/step\n"
     ]
    },
    {
     "name": "stderr",
     "output_type": "stream",
     "text": [
      "Clipping input data to the valid range for imshow with RGB data ([0..1] for floats or [0..255] for integers).\n"
     ]
    },
    {
     "name": "stdout",
     "output_type": "stream",
     "text": [
      "1/1 [==============================] - 0s 55ms/step\n",
      "1/1 [==============================] - 0s 51ms/step\n"
     ]
    },
    {
     "name": "stderr",
     "output_type": "stream",
     "text": [
      "Clipping input data to the valid range for imshow with RGB data ([0..1] for floats or [0..255] for integers).\n"
     ]
    },
    {
     "name": "stdout",
     "output_type": "stream",
     "text": [
      "1/1 [==============================] - 0s 62ms/step\n",
      "1/1 [==============================] - 0s 53ms/step\n"
     ]
    },
    {
     "name": "stderr",
     "output_type": "stream",
     "text": [
      "Clipping input data to the valid range for imshow with RGB data ([0..1] for floats or [0..255] for integers).\n"
     ]
    },
    {
     "name": "stdout",
     "output_type": "stream",
     "text": [
      "1/1 [==============================] - 0s 45ms/step\n",
      "1/1 [==============================] - 0s 109ms/step\n"
     ]
    },
    {
     "name": "stderr",
     "output_type": "stream",
     "text": [
      "Clipping input data to the valid range for imshow with RGB data ([0..1] for floats or [0..255] for integers).\n"
     ]
    },
    {
     "name": "stdout",
     "output_type": "stream",
     "text": [
      "1/1 [==============================] - 0s 50ms/step\n",
      "1/1 [==============================] - 0s 61ms/step\n"
     ]
    },
    {
     "name": "stderr",
     "output_type": "stream",
     "text": [
      "Clipping input data to the valid range for imshow with RGB data ([0..1] for floats or [0..255] for integers).\n"
     ]
    },
    {
     "name": "stdout",
     "output_type": "stream",
     "text": [
      "1/1 [==============================] - 0s 53ms/step\n",
      "1/1 [==============================] - 0s 60ms/step\n"
     ]
    },
    {
     "name": "stderr",
     "output_type": "stream",
     "text": [
      "Clipping input data to the valid range for imshow with RGB data ([0..1] for floats or [0..255] for integers).\n"
     ]
    },
    {
     "name": "stdout",
     "output_type": "stream",
     "text": [
      "1/1 [==============================] - 0s 76ms/step\n",
      "1/1 [==============================] - 0s 57ms/step\n"
     ]
    },
    {
     "name": "stderr",
     "output_type": "stream",
     "text": [
      "Clipping input data to the valid range for imshow with RGB data ([0..1] for floats or [0..255] for integers).\n"
     ]
    },
    {
     "name": "stdout",
     "output_type": "stream",
     "text": [
      "1/1 [==============================] - 0s 51ms/step\n",
      "1/1 [==============================] - 0s 56ms/step\n"
     ]
    },
    {
     "name": "stderr",
     "output_type": "stream",
     "text": [
      "Clipping input data to the valid range for imshow with RGB data ([0..1] for floats or [0..255] for integers).\n"
     ]
    },
    {
     "name": "stdout",
     "output_type": "stream",
     "text": [
      "1/1 [==============================] - 0s 49ms/step\n",
      "1/1 [==============================] - 0s 55ms/step\n"
     ]
    },
    {
     "name": "stderr",
     "output_type": "stream",
     "text": [
      "Clipping input data to the valid range for imshow with RGB data ([0..1] for floats or [0..255] for integers).\n"
     ]
    },
    {
     "name": "stdout",
     "output_type": "stream",
     "text": [
      "1/1 [==============================] - 0s 46ms/step\n",
      "1/1 [==============================] - 0s 79ms/step\n"
     ]
    },
    {
     "name": "stderr",
     "output_type": "stream",
     "text": [
      "Clipping input data to the valid range for imshow with RGB data ([0..1] for floats or [0..255] for integers).\n"
     ]
    },
    {
     "name": "stdout",
     "output_type": "stream",
     "text": [
      "1/1 [==============================] - 0s 65ms/step\n",
      "1/1 [==============================] - 0s 50ms/step\n"
     ]
    },
    {
     "name": "stderr",
     "output_type": "stream",
     "text": [
      "Clipping input data to the valid range for imshow with RGB data ([0..1] for floats or [0..255] for integers).\n"
     ]
    },
    {
     "name": "stdout",
     "output_type": "stream",
     "text": [
      "1/1 [==============================] - 0s 53ms/step\n",
      "1/1 [==============================] - 0s 53ms/step\n"
     ]
    },
    {
     "name": "stderr",
     "output_type": "stream",
     "text": [
      "Clipping input data to the valid range for imshow with RGB data ([0..1] for floats or [0..255] for integers).\n"
     ]
    },
    {
     "name": "stdout",
     "output_type": "stream",
     "text": [
      "1/1 [==============================] - 0s 52ms/step\n",
      "1/1 [==============================] - 0s 62ms/step\n"
     ]
    },
    {
     "name": "stderr",
     "output_type": "stream",
     "text": [
      "Clipping input data to the valid range for imshow with RGB data ([0..1] for floats or [0..255] for integers).\n"
     ]
    },
    {
     "name": "stdout",
     "output_type": "stream",
     "text": [
      "1/1 [==============================] - 0s 70ms/step\n",
      "1/1 [==============================] - 0s 68ms/step\n"
     ]
    },
    {
     "name": "stderr",
     "output_type": "stream",
     "text": [
      "Clipping input data to the valid range for imshow with RGB data ([0..1] for floats or [0..255] for integers).\n"
     ]
    },
    {
     "name": "stdout",
     "output_type": "stream",
     "text": [
      "1/1 [==============================] - 0s 62ms/step\n",
      "1/1 [==============================] - 0s 60ms/step\n"
     ]
    },
    {
     "name": "stderr",
     "output_type": "stream",
     "text": [
      "Clipping input data to the valid range for imshow with RGB data ([0..1] for floats or [0..255] for integers).\n"
     ]
    },
    {
     "name": "stdout",
     "output_type": "stream",
     "text": [
      "1/1 [==============================] - 0s 58ms/step\n",
      "1/1 [==============================] - 0s 53ms/step\n"
     ]
    },
    {
     "name": "stderr",
     "output_type": "stream",
     "text": [
      "Clipping input data to the valid range for imshow with RGB data ([0..1] for floats or [0..255] for integers).\n"
     ]
    },
    {
     "name": "stdout",
     "output_type": "stream",
     "text": [
      "1/1 [==============================] - 0s 61ms/step\n",
      "1/1 [==============================] - 0s 57ms/step\n"
     ]
    },
    {
     "name": "stderr",
     "output_type": "stream",
     "text": [
      "Clipping input data to the valid range for imshow with RGB data ([0..1] for floats or [0..255] for integers).\n"
     ]
    },
    {
     "name": "stdout",
     "output_type": "stream",
     "text": [
      "1/1 [==============================] - 0s 67ms/step\n",
      "1/1 [==============================] - 0s 57ms/step\n"
     ]
    },
    {
     "name": "stderr",
     "output_type": "stream",
     "text": [
      "Clipping input data to the valid range for imshow with RGB data ([0..1] for floats or [0..255] for integers).\n"
     ]
    },
    {
     "name": "stdout",
     "output_type": "stream",
     "text": [
      "1/1 [==============================] - 0s 49ms/step\n",
      "1/1 [==============================] - 0s 49ms/step\n"
     ]
    },
    {
     "name": "stderr",
     "output_type": "stream",
     "text": [
      "Clipping input data to the valid range for imshow with RGB data ([0..1] for floats or [0..255] for integers).\n"
     ]
    },
    {
     "name": "stdout",
     "output_type": "stream",
     "text": [
      "1/1 [==============================] - 0s 48ms/step\n",
      "1/1 [==============================] - 0s 66ms/step\n"
     ]
    },
    {
     "name": "stderr",
     "output_type": "stream",
     "text": [
      "Clipping input data to the valid range for imshow with RGB data ([0..1] for floats or [0..255] for integers).\n"
     ]
    },
    {
     "name": "stdout",
     "output_type": "stream",
     "text": [
      "\n",
      "Done!\n",
      "Setting CPU\n",
      "9/9 [==============================] - 4s 481ms/step\n",
      "9/9 [==============================] - 4s 466ms/step\n",
      "9/9 [==============================] - 9s 968ms/step\n",
      "Saving Model...\n",
      "5/5 [==============================] - 3s 530ms/step\n",
      "5/5 [==============================] - 3s 527ms/step\n",
      "5/5 [==============================] - 4s 864ms/step\n",
      "Evaluating Model...\n",
      "\n",
      "Model Evaluation:\n",
      "{'Timestamp': '2024-05-07 09:50:39.113059', 'R2': 0.8106417922413717, 'MAE': 652440.375, 'Percentage Error': 15.577429002541013, 'MSE': 913250326797.5, 'Feature Importances': {'image_predictions': 0.02827326639438232, 'reconstruction_error': 0.02078662395701896, 'postal_code': 0.06898700552959401, 'type': 0.0, 'size': 0.6341496536204514, 'basement_size': 0.0, 'rooms': 0.00806218898947535, 'year_built': 0.03279022784028686, 'year_rebuilt': 0.039803101832685546, 'energy_label': 0.009300018148301094, 'postal_avg_sqm_price': 0.11929869514031466, 'lat': 0.016562723221842126, 'lng': 0.02198649532564772}}\n",
      "\n",
      "Median Evaluation:\n",
      "{'R2': 0.8105255705803482, 'MAE': 647957.5, 'Percentage Error': 15.504461493297413, 'MSE': 913810848948.4375}\n",
      "Feauter Importance...\n",
      "{'image_predictions': 0.02827326639438232, 'reconstruction_error': 0.02078662395701896, 'postal_code': 0.06898700552959401, 'type': 0.0, 'size': 0.6341496536204514, 'basement_size': 0.0, 'rooms': 0.00806218898947535, 'year_built': 0.03279022784028686, 'year_rebuilt': 0.039803101832685546, 'energy_label': 0.009300018148301094, 'postal_avg_sqm_price': 0.11929869514031466, 'lat': 0.016562723221842126, 'lng': 0.02198649532564772}\n"
     ]
    },
    {
     "name": "stderr",
     "output_type": "stream",
     "text": [
      "/usr/local/lib/python3.10/site-packages/sklearn/base.py:439: UserWarning: X does not have valid feature names, but RandomForestRegressor was fitted with feature names\n",
      "  warnings.warn(\n"
     ]
    },
    {
     "name": "stdout",
     "output_type": "stream",
     "text": [
      "\n",
      "Saving Feature Importance\n",
      "\n",
      "Saving Reconstructions\n",
      "5/5 [==============================] - 3s 576ms/step\n",
      "5/5 [==============================] - 2s 470ms/step\n",
      "[ 65 122 151 132  48  24  30  38 120 126]\n",
      "[ 50  53  20 100 105  83 117 144  40  46]\n",
      "1/1 [==============================] - 0s 89ms/step\n",
      "1/1 [==============================] - 0s 52ms/step\n"
     ]
    },
    {
     "name": "stderr",
     "output_type": "stream",
     "text": [
      "Clipping input data to the valid range for imshow with RGB data ([0..1] for floats or [0..255] for integers).\n"
     ]
    },
    {
     "name": "stdout",
     "output_type": "stream",
     "text": [
      "1/1 [==============================] - 0s 44ms/step\n",
      "1/1 [==============================] - 0s 53ms/step\n"
     ]
    },
    {
     "name": "stderr",
     "output_type": "stream",
     "text": [
      "Clipping input data to the valid range for imshow with RGB data ([0..1] for floats or [0..255] for integers).\n"
     ]
    },
    {
     "name": "stdout",
     "output_type": "stream",
     "text": [
      "1/1 [==============================] - 0s 49ms/step\n",
      "1/1 [==============================] - 0s 58ms/step\n"
     ]
    },
    {
     "name": "stderr",
     "output_type": "stream",
     "text": [
      "Clipping input data to the valid range for imshow with RGB data ([0..1] for floats or [0..255] for integers).\n"
     ]
    },
    {
     "name": "stdout",
     "output_type": "stream",
     "text": [
      "1/1 [==============================] - 0s 48ms/step\n",
      "1/1 [==============================] - 0s 57ms/step\n"
     ]
    },
    {
     "name": "stderr",
     "output_type": "stream",
     "text": [
      "Clipping input data to the valid range for imshow with RGB data ([0..1] for floats or [0..255] for integers).\n"
     ]
    },
    {
     "name": "stdout",
     "output_type": "stream",
     "text": [
      "1/1 [==============================] - 0s 48ms/step\n",
      "1/1 [==============================] - 0s 59ms/step\n"
     ]
    },
    {
     "name": "stderr",
     "output_type": "stream",
     "text": [
      "Clipping input data to the valid range for imshow with RGB data ([0..1] for floats or [0..255] for integers).\n"
     ]
    },
    {
     "name": "stdout",
     "output_type": "stream",
     "text": [
      "1/1 [==============================] - 0s 47ms/step\n",
      "1/1 [==============================] - 0s 63ms/step\n"
     ]
    },
    {
     "name": "stderr",
     "output_type": "stream",
     "text": [
      "Clipping input data to the valid range for imshow with RGB data ([0..1] for floats or [0..255] for integers).\n"
     ]
    },
    {
     "name": "stdout",
     "output_type": "stream",
     "text": [
      "1/1 [==============================] - 0s 55ms/step\n",
      "1/1 [==============================] - 0s 54ms/step\n"
     ]
    },
    {
     "name": "stderr",
     "output_type": "stream",
     "text": [
      "Clipping input data to the valid range for imshow with RGB data ([0..1] for floats or [0..255] for integers).\n"
     ]
    },
    {
     "name": "stdout",
     "output_type": "stream",
     "text": [
      "1/1 [==============================] - 0s 53ms/step\n",
      "1/1 [==============================] - 0s 62ms/step\n"
     ]
    },
    {
     "name": "stderr",
     "output_type": "stream",
     "text": [
      "Clipping input data to the valid range for imshow with RGB data ([0..1] for floats or [0..255] for integers).\n"
     ]
    },
    {
     "name": "stdout",
     "output_type": "stream",
     "text": [
      "1/1 [==============================] - 0s 63ms/step\n",
      "1/1 [==============================] - 0s 69ms/step\n"
     ]
    },
    {
     "name": "stderr",
     "output_type": "stream",
     "text": [
      "Clipping input data to the valid range for imshow with RGB data ([0..1] for floats or [0..255] for integers).\n"
     ]
    },
    {
     "name": "stdout",
     "output_type": "stream",
     "text": [
      "1/1 [==============================] - 0s 50ms/step\n",
      "1/1 [==============================] - 0s 66ms/step\n"
     ]
    },
    {
     "name": "stderr",
     "output_type": "stream",
     "text": [
      "Clipping input data to the valid range for imshow with RGB data ([0..1] for floats or [0..255] for integers).\n"
     ]
    },
    {
     "name": "stdout",
     "output_type": "stream",
     "text": [
      "1/1 [==============================] - 0s 58ms/step\n",
      "1/1 [==============================] - 0s 59ms/step\n"
     ]
    },
    {
     "name": "stderr",
     "output_type": "stream",
     "text": [
      "Clipping input data to the valid range for imshow with RGB data ([0..1] for floats or [0..255] for integers).\n"
     ]
    },
    {
     "name": "stdout",
     "output_type": "stream",
     "text": [
      "1/1 [==============================] - 0s 55ms/step\n",
      "1/1 [==============================] - 0s 54ms/step\n"
     ]
    },
    {
     "name": "stderr",
     "output_type": "stream",
     "text": [
      "Clipping input data to the valid range for imshow with RGB data ([0..1] for floats or [0..255] for integers).\n"
     ]
    },
    {
     "name": "stdout",
     "output_type": "stream",
     "text": [
      "1/1 [==============================] - 0s 67ms/step\n",
      "1/1 [==============================] - 0s 53ms/step\n"
     ]
    },
    {
     "name": "stderr",
     "output_type": "stream",
     "text": [
      "Clipping input data to the valid range for imshow with RGB data ([0..1] for floats or [0..255] for integers).\n"
     ]
    },
    {
     "name": "stdout",
     "output_type": "stream",
     "text": [
      "1/1 [==============================] - 0s 53ms/step\n",
      "1/1 [==============================] - 0s 46ms/step\n"
     ]
    },
    {
     "name": "stderr",
     "output_type": "stream",
     "text": [
      "Clipping input data to the valid range for imshow with RGB data ([0..1] for floats or [0..255] for integers).\n"
     ]
    },
    {
     "name": "stdout",
     "output_type": "stream",
     "text": [
      "1/1 [==============================] - 0s 47ms/step\n",
      "1/1 [==============================] - 0s 51ms/step\n"
     ]
    },
    {
     "name": "stderr",
     "output_type": "stream",
     "text": [
      "Clipping input data to the valid range for imshow with RGB data ([0..1] for floats or [0..255] for integers).\n"
     ]
    },
    {
     "name": "stdout",
     "output_type": "stream",
     "text": [
      "1/1 [==============================] - 0s 46ms/step\n",
      "1/1 [==============================] - 0s 51ms/step\n"
     ]
    },
    {
     "name": "stderr",
     "output_type": "stream",
     "text": [
      "Clipping input data to the valid range for imshow with RGB data ([0..1] for floats or [0..255] for integers).\n"
     ]
    },
    {
     "name": "stdout",
     "output_type": "stream",
     "text": [
      "1/1 [==============================] - 0s 52ms/step\n",
      "1/1 [==============================] - 0s 50ms/step\n"
     ]
    },
    {
     "name": "stderr",
     "output_type": "stream",
     "text": [
      "Clipping input data to the valid range for imshow with RGB data ([0..1] for floats or [0..255] for integers).\n"
     ]
    },
    {
     "name": "stdout",
     "output_type": "stream",
     "text": [
      "1/1 [==============================] - 0s 56ms/step\n",
      "1/1 [==============================] - 0s 46ms/step\n"
     ]
    },
    {
     "name": "stderr",
     "output_type": "stream",
     "text": [
      "Clipping input data to the valid range for imshow with RGB data ([0..1] for floats or [0..255] for integers).\n"
     ]
    },
    {
     "name": "stdout",
     "output_type": "stream",
     "text": [
      "1/1 [==============================] - 0s 66ms/step\n",
      "1/1 [==============================] - 0s 49ms/step\n"
     ]
    },
    {
     "name": "stderr",
     "output_type": "stream",
     "text": [
      "Clipping input data to the valid range for imshow with RGB data ([0..1] for floats or [0..255] for integers).\n"
     ]
    },
    {
     "name": "stdout",
     "output_type": "stream",
     "text": [
      "1/1 [==============================] - 0s 73ms/step\n",
      "1/1 [==============================] - 0s 49ms/step\n"
     ]
    },
    {
     "name": "stderr",
     "output_type": "stream",
     "text": [
      "Clipping input data to the valid range for imshow with RGB data ([0..1] for floats or [0..255] for integers).\n"
     ]
    },
    {
     "name": "stdout",
     "output_type": "stream",
     "text": [
      "\n",
      "Done!\n"
     ]
    }
   ],
   "source": [
    "from models import CNN_AE_RF_model\n",
    "#img_model =  keras.models.load_model(f\"{MODELS_PATH}/MobileNetV2/model\")\n",
    "TYPE = 'CNN_AE_RF'\n",
    "MODEL_NAME: str = \"MobileNetV3_AE_RF\"\n",
    "FUNCTION: object = CNN_AE_RF_model\n",
    "ARGS: tuple = (\n",
    "    MobileNet_CNN, #keras.models.load_model(f\"{MODELS_PATH}/MobileNetV2/model\")\n",
    "    AE_224, #Or none for training it from scratch\n",
    "    train2_images,\n",
    "    train2_features,\n",
    "    train2_prices,\n",
    ")\n",
    "for i in range(10):\n",
    "    train_save_model(FUNCTION, ARGS, test_images, test_features,  test_prices, f\"{MODELS_PATH}/{MODEL_NAME}\", USE_GPU, TYPE)"
   ]
  },
  {
   "cell_type": "markdown",
   "metadata": {},
   "source": [
    "#### VGG16_AE_RF"
   ]
  },
  {
   "cell_type": "code",
   "execution_count": 88,
   "metadata": {},
   "outputs": [
    {
     "name": "stdout",
     "output_type": "stream",
     "text": [
      "Setting CPU\n",
      "9/9 [==============================] - 19s 2s/step\n",
      "9/9 [==============================] - 15s 2s/step\n",
      "9/9 [==============================] - 186s 21s/step\n",
      "Saving Model...\n",
      "5/5 [==============================] - 9s 2s/step\n",
      "5/5 [==============================] - 7s 1s/step\n",
      "5/5 [==============================] - 115s 23s/step\n",
      "Evaluating Model...\n",
      "\n",
      "Model Evaluation:\n",
      "{'Timestamp': '2024-05-07 10:03:03.267089', 'R2': 0.8098426812713011, 'MAE': 653297.875, 'Percentage Error': 15.439451974252204, 'MSE': 917104336418.75, 'Feature Importances': {'image_predictions': 0.030303967848730438, 'reconstruction_error': 0.01857445604337359, 'postal_code': 0.06754227319914499, 'type': 0.0, 'size': 0.6369050886939182, 'basement_size': 0.0, 'rooms': 0.00788191439568446, 'year_built': 0.03271841320469861, 'year_rebuilt': 0.03849934736877372, 'energy_label': 0.007841237008054721, 'postal_avg_sqm_price': 0.12523272299240257, 'lat': 0.014190043965818359, 'lng': 0.020310535279400403}}\n",
      "\n",
      "Median Evaluation:\n",
      "{'R2': 0.8098426812713011, 'MAE': 653297.875, 'Percentage Error': 15.439451974252204, 'MSE': 917104336418.75}\n",
      "Feauter Importance...\n",
      "{'image_predictions': 0.030303967848730438, 'reconstruction_error': 0.01857445604337359, 'postal_code': 0.06754227319914499, 'type': 0.0, 'size': 0.6369050886939182, 'basement_size': 0.0, 'rooms': 0.00788191439568446, 'year_built': 0.03271841320469861, 'year_rebuilt': 0.03849934736877372, 'energy_label': 0.007841237008054721, 'postal_avg_sqm_price': 0.12523272299240257, 'lat': 0.014190043965818359, 'lng': 0.020310535279400403}\n"
     ]
    },
    {
     "name": "stderr",
     "output_type": "stream",
     "text": [
      "/usr/local/lib/python3.10/site-packages/sklearn/base.py:439: UserWarning: X does not have valid feature names, but RandomForestRegressor was fitted with feature names\n",
      "  warnings.warn(\n"
     ]
    },
    {
     "name": "stdout",
     "output_type": "stream",
     "text": [
      "\n",
      "Saving Feature Importance\n",
      "\n",
      "Saving Reconstructions\n",
      "5/5 [==============================] - 9s 2s/step\n",
      "5/5 [==============================] - 8s 2s/step\n",
      "[ 30  41  79  18  12 136 147  54 101 107]\n",
      "[ 93  44 100  16  50 156 135 130  53 134]\n",
      "1/1 [==============================] - 0s 257ms/step\n",
      "1/1 [==============================] - 0s 135ms/step\n"
     ]
    },
    {
     "name": "stderr",
     "output_type": "stream",
     "text": [
      "Clipping input data to the valid range for imshow with RGB data ([0..1] for floats or [0..255] for integers).\n"
     ]
    },
    {
     "name": "stdout",
     "output_type": "stream",
     "text": [
      "1/1 [==============================] - 0s 139ms/step\n",
      "1/1 [==============================] - 0s 112ms/step\n"
     ]
    },
    {
     "name": "stderr",
     "output_type": "stream",
     "text": [
      "Clipping input data to the valid range for imshow with RGB data ([0..1] for floats or [0..255] for integers).\n"
     ]
    },
    {
     "name": "stdout",
     "output_type": "stream",
     "text": [
      "1/1 [==============================] - 0s 118ms/step\n",
      "1/1 [==============================] - 0s 118ms/step\n"
     ]
    },
    {
     "name": "stderr",
     "output_type": "stream",
     "text": [
      "Clipping input data to the valid range for imshow with RGB data ([0..1] for floats or [0..255] for integers).\n"
     ]
    },
    {
     "name": "stdout",
     "output_type": "stream",
     "text": [
      "1/1 [==============================] - 0s 121ms/step\n",
      "1/1 [==============================] - 0s 113ms/step\n"
     ]
    },
    {
     "name": "stderr",
     "output_type": "stream",
     "text": [
      "Clipping input data to the valid range for imshow with RGB data ([0..1] for floats or [0..255] for integers).\n"
     ]
    },
    {
     "name": "stdout",
     "output_type": "stream",
     "text": [
      "1/1 [==============================] - 0s 119ms/step\n",
      "1/1 [==============================] - 0s 104ms/step\n"
     ]
    },
    {
     "name": "stderr",
     "output_type": "stream",
     "text": [
      "Clipping input data to the valid range for imshow with RGB data ([0..1] for floats or [0..255] for integers).\n"
     ]
    },
    {
     "name": "stdout",
     "output_type": "stream",
     "text": [
      "1/1 [==============================] - 0s 144ms/step\n",
      "1/1 [==============================] - 0s 117ms/step\n"
     ]
    },
    {
     "name": "stderr",
     "output_type": "stream",
     "text": [
      "Clipping input data to the valid range for imshow with RGB data ([0..1] for floats or [0..255] for integers).\n"
     ]
    },
    {
     "name": "stdout",
     "output_type": "stream",
     "text": [
      "1/1 [==============================] - 0s 97ms/step\n",
      "1/1 [==============================] - 0s 108ms/step\n"
     ]
    },
    {
     "name": "stderr",
     "output_type": "stream",
     "text": [
      "Clipping input data to the valid range for imshow with RGB data ([0..1] for floats or [0..255] for integers).\n"
     ]
    },
    {
     "name": "stdout",
     "output_type": "stream",
     "text": [
      "1/1 [==============================] - 0s 100ms/step\n",
      "1/1 [==============================] - 0s 131ms/step\n"
     ]
    },
    {
     "name": "stderr",
     "output_type": "stream",
     "text": [
      "Clipping input data to the valid range for imshow with RGB data ([0..1] for floats or [0..255] for integers).\n"
     ]
    },
    {
     "name": "stdout",
     "output_type": "stream",
     "text": [
      "1/1 [==============================] - 0s 118ms/step\n",
      "1/1 [==============================] - 0s 101ms/step\n"
     ]
    },
    {
     "name": "stderr",
     "output_type": "stream",
     "text": [
      "Clipping input data to the valid range for imshow with RGB data ([0..1] for floats or [0..255] for integers).\n"
     ]
    },
    {
     "name": "stdout",
     "output_type": "stream",
     "text": [
      "1/1 [==============================] - 0s 190ms/step\n",
      "1/1 [==============================] - 0s 102ms/step\n"
     ]
    },
    {
     "name": "stderr",
     "output_type": "stream",
     "text": [
      "Clipping input data to the valid range for imshow with RGB data ([0..1] for floats or [0..255] for integers).\n"
     ]
    },
    {
     "name": "stdout",
     "output_type": "stream",
     "text": [
      "1/1 [==============================] - 0s 109ms/step\n",
      "1/1 [==============================] - 0s 109ms/step\n"
     ]
    },
    {
     "name": "stderr",
     "output_type": "stream",
     "text": [
      "Clipping input data to the valid range for imshow with RGB data ([0..1] for floats or [0..255] for integers).\n"
     ]
    },
    {
     "name": "stdout",
     "output_type": "stream",
     "text": [
      "1/1 [==============================] - 0s 119ms/step\n",
      "1/1 [==============================] - 0s 115ms/step\n"
     ]
    },
    {
     "name": "stderr",
     "output_type": "stream",
     "text": [
      "Clipping input data to the valid range for imshow with RGB data ([0..1] for floats or [0..255] for integers).\n"
     ]
    },
    {
     "name": "stdout",
     "output_type": "stream",
     "text": [
      "1/1 [==============================] - 0s 110ms/step\n",
      "1/1 [==============================] - 0s 136ms/step\n"
     ]
    },
    {
     "name": "stderr",
     "output_type": "stream",
     "text": [
      "Clipping input data to the valid range for imshow with RGB data ([0..1] for floats or [0..255] for integers).\n"
     ]
    },
    {
     "name": "stdout",
     "output_type": "stream",
     "text": [
      "1/1 [==============================] - 0s 149ms/step\n",
      "1/1 [==============================] - 0s 141ms/step\n"
     ]
    },
    {
     "name": "stderr",
     "output_type": "stream",
     "text": [
      "Clipping input data to the valid range for imshow with RGB data ([0..1] for floats or [0..255] for integers).\n"
     ]
    },
    {
     "name": "stdout",
     "output_type": "stream",
     "text": [
      "1/1 [==============================] - 0s 121ms/step\n",
      "1/1 [==============================] - 0s 121ms/step\n"
     ]
    },
    {
     "name": "stderr",
     "output_type": "stream",
     "text": [
      "Clipping input data to the valid range for imshow with RGB data ([0..1] for floats or [0..255] for integers).\n"
     ]
    },
    {
     "name": "stdout",
     "output_type": "stream",
     "text": [
      "1/1 [==============================] - 0s 136ms/step\n",
      "1/1 [==============================] - 0s 166ms/step\n"
     ]
    },
    {
     "name": "stderr",
     "output_type": "stream",
     "text": [
      "Clipping input data to the valid range for imshow with RGB data ([0..1] for floats or [0..255] for integers).\n"
     ]
    },
    {
     "name": "stdout",
     "output_type": "stream",
     "text": [
      "1/1 [==============================] - 0s 112ms/step\n",
      "1/1 [==============================] - 0s 100ms/step\n"
     ]
    },
    {
     "name": "stderr",
     "output_type": "stream",
     "text": [
      "Clipping input data to the valid range for imshow with RGB data ([0..1] for floats or [0..255] for integers).\n"
     ]
    },
    {
     "name": "stdout",
     "output_type": "stream",
     "text": [
      "1/1 [==============================] - 0s 111ms/step\n",
      "1/1 [==============================] - 0s 117ms/step\n"
     ]
    },
    {
     "name": "stderr",
     "output_type": "stream",
     "text": [
      "Clipping input data to the valid range for imshow with RGB data ([0..1] for floats or [0..255] for integers).\n"
     ]
    },
    {
     "name": "stdout",
     "output_type": "stream",
     "text": [
      "1/1 [==============================] - 0s 108ms/step\n",
      "1/1 [==============================] - 0s 121ms/step\n"
     ]
    },
    {
     "name": "stderr",
     "output_type": "stream",
     "text": [
      "Clipping input data to the valid range for imshow with RGB data ([0..1] for floats or [0..255] for integers).\n"
     ]
    },
    {
     "name": "stdout",
     "output_type": "stream",
     "text": [
      "1/1 [==============================] - 0s 101ms/step\n",
      "1/1 [==============================] - 0s 114ms/step\n"
     ]
    },
    {
     "name": "stderr",
     "output_type": "stream",
     "text": [
      "Clipping input data to the valid range for imshow with RGB data ([0..1] for floats or [0..255] for integers).\n"
     ]
    },
    {
     "name": "stdout",
     "output_type": "stream",
     "text": [
      "\n",
      "Done!\n",
      "Setting CPU\n",
      "9/9 [==============================] - 18s 2s/step\n",
      "9/9 [==============================] - 15s 2s/step\n",
      "9/9 [==============================] - 186s 20s/step\n",
      "Saving Model...\n",
      "5/5 [==============================] - 10s 2s/step\n",
      "5/5 [==============================] - 8s 2s/step\n",
      "5/5 [==============================] - 98s 19s/step\n",
      "Evaluating Model...\n",
      "\n",
      "Model Evaluation:\n",
      "{'Timestamp': '2024-05-07 10:10:51.885357', 'R2': 0.8175323597544172, 'MAE': 637975.5625, 'Percentage Error': 15.162399410724264, 'MSE': 880018004271.875, 'Feature Importances': {'image_predictions': 0.028208786239083062, 'reconstruction_error': 0.020510903136063675, 'postal_code': 0.06049119892428575, 'type': 0.0, 'size': 0.630361681193069, 'basement_size': 0.0, 'rooms': 0.007978071580383874, 'year_built': 0.03542563673818452, 'year_rebuilt': 0.04699079295835573, 'energy_label': 0.006716880193858725, 'postal_avg_sqm_price': 0.12764004231785775, 'lat': 0.013386367229202084, 'lng': 0.02228963948965584}}\n",
      "\n",
      "Median Evaluation:\n",
      "{'R2': 0.8136875205128591, 'MAE': 645636.71875, 'Percentage Error': 15.300925692488235, 'MSE': 898561170345.3125}\n",
      "Feauter Importance...\n",
      "{'image_predictions': 0.028208786239083062, 'reconstruction_error': 0.020510903136063675, 'postal_code': 0.06049119892428575, 'type': 0.0, 'size': 0.630361681193069, 'basement_size': 0.0, 'rooms': 0.007978071580383874, 'year_built': 0.03542563673818452, 'year_rebuilt': 0.04699079295835573, 'energy_label': 0.006716880193858725, 'postal_avg_sqm_price': 0.12764004231785775, 'lat': 0.013386367229202084, 'lng': 0.02228963948965584}\n"
     ]
    },
    {
     "name": "stderr",
     "output_type": "stream",
     "text": [
      "/usr/local/lib/python3.10/site-packages/sklearn/base.py:439: UserWarning: X does not have valid feature names, but RandomForestRegressor was fitted with feature names\n",
      "  warnings.warn(\n"
     ]
    },
    {
     "name": "stdout",
     "output_type": "stream",
     "text": [
      "\n",
      "Saving Feature Importance\n",
      "\n",
      "Saving Reconstructions\n",
      "5/5 [==============================] - 9s 2s/step\n",
      "5/5 [==============================] - 7s 1s/step\n",
      "[ 30  41  79  18  12 136 147  54 101 107]\n",
      "[ 93  44 100  16  50 156 135 130  53 134]\n",
      "1/1 [==============================] - 0s 127ms/step\n",
      "1/1 [==============================] - 0s 148ms/step\n"
     ]
    },
    {
     "name": "stderr",
     "output_type": "stream",
     "text": [
      "Clipping input data to the valid range for imshow with RGB data ([0..1] for floats or [0..255] for integers).\n"
     ]
    },
    {
     "name": "stdout",
     "output_type": "stream",
     "text": [
      "1/1 [==============================] - 0s 134ms/step\n",
      "1/1 [==============================] - 0s 114ms/step\n"
     ]
    },
    {
     "name": "stderr",
     "output_type": "stream",
     "text": [
      "Clipping input data to the valid range for imshow with RGB data ([0..1] for floats or [0..255] for integers).\n"
     ]
    },
    {
     "name": "stdout",
     "output_type": "stream",
     "text": [
      "1/1 [==============================] - 0s 122ms/step\n",
      "1/1 [==============================] - 0s 109ms/step\n"
     ]
    },
    {
     "name": "stderr",
     "output_type": "stream",
     "text": [
      "Clipping input data to the valid range for imshow with RGB data ([0..1] for floats or [0..255] for integers).\n"
     ]
    },
    {
     "name": "stdout",
     "output_type": "stream",
     "text": [
      "1/1 [==============================] - 0s 118ms/step\n",
      "1/1 [==============================] - 0s 123ms/step\n"
     ]
    },
    {
     "name": "stderr",
     "output_type": "stream",
     "text": [
      "Clipping input data to the valid range for imshow with RGB data ([0..1] for floats or [0..255] for integers).\n"
     ]
    },
    {
     "name": "stdout",
     "output_type": "stream",
     "text": [
      "1/1 [==============================] - 0s 122ms/step\n",
      "1/1 [==============================] - 0s 115ms/step\n"
     ]
    },
    {
     "name": "stderr",
     "output_type": "stream",
     "text": [
      "Clipping input data to the valid range for imshow with RGB data ([0..1] for floats or [0..255] for integers).\n"
     ]
    },
    {
     "name": "stdout",
     "output_type": "stream",
     "text": [
      "1/1 [==============================] - 0s 131ms/step\n",
      "1/1 [==============================] - 0s 113ms/step\n"
     ]
    },
    {
     "name": "stderr",
     "output_type": "stream",
     "text": [
      "Clipping input data to the valid range for imshow with RGB data ([0..1] for floats or [0..255] for integers).\n"
     ]
    },
    {
     "name": "stdout",
     "output_type": "stream",
     "text": [
      "1/1 [==============================] - 0s 112ms/step\n",
      "1/1 [==============================] - 0s 110ms/step\n"
     ]
    },
    {
     "name": "stderr",
     "output_type": "stream",
     "text": [
      "Clipping input data to the valid range for imshow with RGB data ([0..1] for floats or [0..255] for integers).\n"
     ]
    },
    {
     "name": "stdout",
     "output_type": "stream",
     "text": [
      "1/1 [==============================] - 0s 109ms/step\n",
      "1/1 [==============================] - 0s 95ms/step\n"
     ]
    },
    {
     "name": "stderr",
     "output_type": "stream",
     "text": [
      "Clipping input data to the valid range for imshow with RGB data ([0..1] for floats or [0..255] for integers).\n"
     ]
    },
    {
     "name": "stdout",
     "output_type": "stream",
     "text": [
      "1/1 [==============================] - 0s 121ms/step\n",
      "1/1 [==============================] - 0s 99ms/step\n"
     ]
    },
    {
     "name": "stderr",
     "output_type": "stream",
     "text": [
      "Clipping input data to the valid range for imshow with RGB data ([0..1] for floats or [0..255] for integers).\n"
     ]
    },
    {
     "name": "stdout",
     "output_type": "stream",
     "text": [
      "1/1 [==============================] - 0s 99ms/step\n",
      "1/1 [==============================] - 0s 97ms/step\n"
     ]
    },
    {
     "name": "stderr",
     "output_type": "stream",
     "text": [
      "Clipping input data to the valid range for imshow with RGB data ([0..1] for floats or [0..255] for integers).\n"
     ]
    },
    {
     "name": "stdout",
     "output_type": "stream",
     "text": [
      "1/1 [==============================] - 0s 104ms/step\n",
      "1/1 [==============================] - 0s 96ms/step\n"
     ]
    },
    {
     "name": "stderr",
     "output_type": "stream",
     "text": [
      "Clipping input data to the valid range for imshow with RGB data ([0..1] for floats or [0..255] for integers).\n"
     ]
    },
    {
     "name": "stdout",
     "output_type": "stream",
     "text": [
      "1/1 [==============================] - 0s 104ms/step\n",
      "1/1 [==============================] - 0s 98ms/step\n"
     ]
    },
    {
     "name": "stderr",
     "output_type": "stream",
     "text": [
      "Clipping input data to the valid range for imshow with RGB data ([0..1] for floats or [0..255] for integers).\n"
     ]
    },
    {
     "name": "stdout",
     "output_type": "stream",
     "text": [
      "1/1 [==============================] - 0s 100ms/step\n",
      "1/1 [==============================] - 0s 98ms/step\n"
     ]
    },
    {
     "name": "stderr",
     "output_type": "stream",
     "text": [
      "Clipping input data to the valid range for imshow with RGB data ([0..1] for floats or [0..255] for integers).\n"
     ]
    },
    {
     "name": "stdout",
     "output_type": "stream",
     "text": [
      "1/1 [==============================] - 0s 99ms/step\n",
      "1/1 [==============================] - 0s 97ms/step\n"
     ]
    },
    {
     "name": "stderr",
     "output_type": "stream",
     "text": [
      "Clipping input data to the valid range for imshow with RGB data ([0..1] for floats or [0..255] for integers).\n"
     ]
    },
    {
     "name": "stdout",
     "output_type": "stream",
     "text": [
      "1/1 [==============================] - 0s 107ms/step\n",
      "1/1 [==============================] - 0s 97ms/step\n"
     ]
    },
    {
     "name": "stderr",
     "output_type": "stream",
     "text": [
      "Clipping input data to the valid range for imshow with RGB data ([0..1] for floats or [0..255] for integers).\n"
     ]
    },
    {
     "name": "stdout",
     "output_type": "stream",
     "text": [
      "1/1 [==============================] - 0s 95ms/step\n",
      "1/1 [==============================] - 0s 107ms/step\n"
     ]
    },
    {
     "name": "stderr",
     "output_type": "stream",
     "text": [
      "Clipping input data to the valid range for imshow with RGB data ([0..1] for floats or [0..255] for integers).\n"
     ]
    },
    {
     "name": "stdout",
     "output_type": "stream",
     "text": [
      "1/1 [==============================] - 0s 100ms/step\n",
      "1/1 [==============================] - 0s 95ms/step\n"
     ]
    },
    {
     "name": "stderr",
     "output_type": "stream",
     "text": [
      "Clipping input data to the valid range for imshow with RGB data ([0..1] for floats or [0..255] for integers).\n"
     ]
    },
    {
     "name": "stdout",
     "output_type": "stream",
     "text": [
      "1/1 [==============================] - 0s 102ms/step\n",
      "1/1 [==============================] - 0s 99ms/step\n"
     ]
    },
    {
     "name": "stderr",
     "output_type": "stream",
     "text": [
      "Clipping input data to the valid range for imshow with RGB data ([0..1] for floats or [0..255] for integers).\n"
     ]
    },
    {
     "name": "stdout",
     "output_type": "stream",
     "text": [
      "1/1 [==============================] - 0s 99ms/step\n",
      "1/1 [==============================] - 0s 96ms/step\n"
     ]
    },
    {
     "name": "stderr",
     "output_type": "stream",
     "text": [
      "Clipping input data to the valid range for imshow with RGB data ([0..1] for floats or [0..255] for integers).\n"
     ]
    },
    {
     "name": "stdout",
     "output_type": "stream",
     "text": [
      "1/1 [==============================] - 0s 120ms/step\n",
      "1/1 [==============================] - 0s 107ms/step\n"
     ]
    },
    {
     "name": "stderr",
     "output_type": "stream",
     "text": [
      "Clipping input data to the valid range for imshow with RGB data ([0..1] for floats or [0..255] for integers).\n"
     ]
    },
    {
     "name": "stdout",
     "output_type": "stream",
     "text": [
      "\n",
      "Done!\n",
      "Setting CPU\n",
      "9/9 [==============================] - 16s 2s/step\n",
      "9/9 [==============================] - 14s 2s/step\n",
      "9/9 [==============================] - 199s 22s/step\n",
      "Saving Model...\n",
      "5/5 [==============================] - 10s 2s/step\n",
      "5/5 [==============================] - 8s 2s/step\n",
      "5/5 [==============================] - 109s 22s/step\n",
      "Evaluating Model...\n",
      "\n",
      "Model Evaluation:\n",
      "{'Timestamp': '2024-05-07 10:18:32.909817', 'R2': 0.8132266007428985, 'MAE': 648950.0625, 'Percentage Error': 15.513697755852446, 'MSE': 900784127224.375, 'Feature Importances': {'image_predictions': 0.030653867811309878, 'reconstruction_error': 0.018171869875537382, 'postal_code': 0.06700219364845038, 'type': 0.0, 'size': 0.6326707326909149, 'basement_size': 0.0, 'rooms': 0.007202416631847395, 'year_built': 0.026982156863376655, 'year_rebuilt': 0.0539565637457536, 'energy_label': 0.007017077657019582, 'postal_avg_sqm_price': 0.1208715856936528, 'lat': 0.015617121370208147, 'lng': 0.019854414011929358}}\n",
      "\n",
      "Median Evaluation:\n",
      "{'R2': 0.8132266007428985, 'MAE': 648950.0625, 'Percentage Error': 15.439451974252204, 'MSE': 900784127224.375}\n",
      "Feauter Importance...\n",
      "{'image_predictions': 0.030653867811309878, 'reconstruction_error': 0.018171869875537382, 'postal_code': 0.06700219364845038, 'type': 0.0, 'size': 0.6326707326909149, 'basement_size': 0.0, 'rooms': 0.007202416631847395, 'year_built': 0.026982156863376655, 'year_rebuilt': 0.0539565637457536, 'energy_label': 0.007017077657019582, 'postal_avg_sqm_price': 0.1208715856936528, 'lat': 0.015617121370208147, 'lng': 0.019854414011929358}\n"
     ]
    },
    {
     "name": "stderr",
     "output_type": "stream",
     "text": [
      "/usr/local/lib/python3.10/site-packages/sklearn/base.py:439: UserWarning: X does not have valid feature names, but RandomForestRegressor was fitted with feature names\n",
      "  warnings.warn(\n"
     ]
    },
    {
     "name": "stdout",
     "output_type": "stream",
     "text": [
      "\n",
      "Saving Feature Importance\n",
      "\n",
      "Saving Reconstructions\n",
      "5/5 [==============================] - 10s 2s/step\n",
      "5/5 [==============================] - 9s 2s/step\n",
      "[ 30  41  79  18  12 136 147  54 101 107]\n",
      "[ 93  44 100  16  50 156 135 130  53 134]\n",
      "1/1 [==============================] - 0s 125ms/step\n",
      "1/1 [==============================] - 0s 103ms/step\n"
     ]
    },
    {
     "name": "stderr",
     "output_type": "stream",
     "text": [
      "Clipping input data to the valid range for imshow with RGB data ([0..1] for floats or [0..255] for integers).\n"
     ]
    },
    {
     "name": "stdout",
     "output_type": "stream",
     "text": [
      "1/1 [==============================] - 0s 103ms/step\n",
      "1/1 [==============================] - 0s 108ms/step\n"
     ]
    },
    {
     "name": "stderr",
     "output_type": "stream",
     "text": [
      "Clipping input data to the valid range for imshow with RGB data ([0..1] for floats or [0..255] for integers).\n"
     ]
    },
    {
     "name": "stdout",
     "output_type": "stream",
     "text": [
      "1/1 [==============================] - 0s 122ms/step\n",
      "1/1 [==============================] - 0s 98ms/step\n"
     ]
    },
    {
     "name": "stderr",
     "output_type": "stream",
     "text": [
      "Clipping input data to the valid range for imshow with RGB data ([0..1] for floats or [0..255] for integers).\n"
     ]
    },
    {
     "name": "stdout",
     "output_type": "stream",
     "text": [
      "1/1 [==============================] - 0s 104ms/step\n",
      "1/1 [==============================] - 0s 95ms/step\n"
     ]
    },
    {
     "name": "stderr",
     "output_type": "stream",
     "text": [
      "Clipping input data to the valid range for imshow with RGB data ([0..1] for floats or [0..255] for integers).\n"
     ]
    },
    {
     "name": "stdout",
     "output_type": "stream",
     "text": [
      "1/1 [==============================] - 0s 98ms/step\n",
      "1/1 [==============================] - 0s 98ms/step\n"
     ]
    },
    {
     "name": "stderr",
     "output_type": "stream",
     "text": [
      "Clipping input data to the valid range for imshow with RGB data ([0..1] for floats or [0..255] for integers).\n"
     ]
    },
    {
     "name": "stdout",
     "output_type": "stream",
     "text": [
      "1/1 [==============================] - 0s 116ms/step\n",
      "1/1 [==============================] - 0s 93ms/step\n"
     ]
    },
    {
     "name": "stderr",
     "output_type": "stream",
     "text": [
      "Clipping input data to the valid range for imshow with RGB data ([0..1] for floats or [0..255] for integers).\n"
     ]
    },
    {
     "name": "stdout",
     "output_type": "stream",
     "text": [
      "1/1 [==============================] - 0s 100ms/step\n",
      "1/1 [==============================] - 0s 155ms/step\n"
     ]
    },
    {
     "name": "stderr",
     "output_type": "stream",
     "text": [
      "Clipping input data to the valid range for imshow with RGB data ([0..1] for floats or [0..255] for integers).\n"
     ]
    },
    {
     "name": "stdout",
     "output_type": "stream",
     "text": [
      "1/1 [==============================] - 0s 134ms/step\n",
      "1/1 [==============================] - 0s 104ms/step\n"
     ]
    },
    {
     "name": "stderr",
     "output_type": "stream",
     "text": [
      "Clipping input data to the valid range for imshow with RGB data ([0..1] for floats or [0..255] for integers).\n"
     ]
    },
    {
     "name": "stdout",
     "output_type": "stream",
     "text": [
      "1/1 [==============================] - 0s 109ms/step\n",
      "1/1 [==============================] - 0s 95ms/step\n"
     ]
    },
    {
     "name": "stderr",
     "output_type": "stream",
     "text": [
      "Clipping input data to the valid range for imshow with RGB data ([0..1] for floats or [0..255] for integers).\n"
     ]
    },
    {
     "name": "stdout",
     "output_type": "stream",
     "text": [
      "1/1 [==============================] - 0s 102ms/step\n",
      "1/1 [==============================] - 0s 102ms/step\n"
     ]
    },
    {
     "name": "stderr",
     "output_type": "stream",
     "text": [
      "Clipping input data to the valid range for imshow with RGB data ([0..1] for floats or [0..255] for integers).\n"
     ]
    },
    {
     "name": "stdout",
     "output_type": "stream",
     "text": [
      "1/1 [==============================] - 0s 104ms/step\n",
      "1/1 [==============================] - 0s 108ms/step\n"
     ]
    },
    {
     "name": "stderr",
     "output_type": "stream",
     "text": [
      "Clipping input data to the valid range for imshow with RGB data ([0..1] for floats or [0..255] for integers).\n"
     ]
    },
    {
     "name": "stdout",
     "output_type": "stream",
     "text": [
      "1/1 [==============================] - 0s 110ms/step\n",
      "1/1 [==============================] - 0s 108ms/step\n"
     ]
    },
    {
     "name": "stderr",
     "output_type": "stream",
     "text": [
      "Clipping input data to the valid range for imshow with RGB data ([0..1] for floats or [0..255] for integers).\n"
     ]
    },
    {
     "name": "stdout",
     "output_type": "stream",
     "text": [
      "1/1 [==============================] - 0s 104ms/step\n",
      "1/1 [==============================] - 0s 103ms/step\n"
     ]
    },
    {
     "name": "stderr",
     "output_type": "stream",
     "text": [
      "Clipping input data to the valid range for imshow with RGB data ([0..1] for floats or [0..255] for integers).\n"
     ]
    },
    {
     "name": "stdout",
     "output_type": "stream",
     "text": [
      "1/1 [==============================] - 0s 107ms/step\n",
      "1/1 [==============================] - 0s 110ms/step\n"
     ]
    },
    {
     "name": "stderr",
     "output_type": "stream",
     "text": [
      "Clipping input data to the valid range for imshow with RGB data ([0..1] for floats or [0..255] for integers).\n"
     ]
    },
    {
     "name": "stdout",
     "output_type": "stream",
     "text": [
      "1/1 [==============================] - 0s 117ms/step\n",
      "1/1 [==============================] - 0s 175ms/step\n"
     ]
    },
    {
     "name": "stderr",
     "output_type": "stream",
     "text": [
      "Clipping input data to the valid range for imshow with RGB data ([0..1] for floats or [0..255] for integers).\n"
     ]
    },
    {
     "name": "stdout",
     "output_type": "stream",
     "text": [
      "1/1 [==============================] - 0s 157ms/step\n",
      "1/1 [==============================] - 0s 106ms/step\n"
     ]
    },
    {
     "name": "stderr",
     "output_type": "stream",
     "text": [
      "Clipping input data to the valid range for imshow with RGB data ([0..1] for floats or [0..255] for integers).\n"
     ]
    },
    {
     "name": "stdout",
     "output_type": "stream",
     "text": [
      "1/1 [==============================] - 0s 104ms/step\n",
      "1/1 [==============================] - 0s 107ms/step\n"
     ]
    },
    {
     "name": "stderr",
     "output_type": "stream",
     "text": [
      "Clipping input data to the valid range for imshow with RGB data ([0..1] for floats or [0..255] for integers).\n"
     ]
    },
    {
     "name": "stdout",
     "output_type": "stream",
     "text": [
      "1/1 [==============================] - 0s 116ms/step\n",
      "1/1 [==============================] - 0s 102ms/step\n"
     ]
    },
    {
     "name": "stderr",
     "output_type": "stream",
     "text": [
      "Clipping input data to the valid range for imshow with RGB data ([0..1] for floats or [0..255] for integers).\n"
     ]
    },
    {
     "name": "stdout",
     "output_type": "stream",
     "text": [
      "1/1 [==============================] - 0s 106ms/step\n",
      "1/1 [==============================] - 0s 103ms/step\n"
     ]
    },
    {
     "name": "stderr",
     "output_type": "stream",
     "text": [
      "Clipping input data to the valid range for imshow with RGB data ([0..1] for floats or [0..255] for integers).\n"
     ]
    },
    {
     "name": "stdout",
     "output_type": "stream",
     "text": [
      "1/1 [==============================] - 0s 110ms/step\n",
      "1/1 [==============================] - 0s 103ms/step\n"
     ]
    },
    {
     "name": "stderr",
     "output_type": "stream",
     "text": [
      "Clipping input data to the valid range for imshow with RGB data ([0..1] for floats or [0..255] for integers).\n"
     ]
    },
    {
     "name": "stdout",
     "output_type": "stream",
     "text": [
      "\n",
      "Done!\n",
      "Setting CPU\n",
      "9/9 [==============================] - 15s 2s/step\n",
      "9/9 [==============================] - 14s 2s/step\n",
      "9/9 [==============================] - 200s 22s/step\n",
      "Saving Model...\n",
      "5/5 [==============================] - 11s 2s/step\n",
      "5/5 [==============================] - 9s 2s/step\n",
      "5/5 [==============================] - 108s 21s/step\n",
      "Evaluating Model...\n",
      "\n",
      "Model Evaluation:\n",
      "{'Timestamp': '2024-05-07 10:26:20.502913', 'R2': 0.8087427759705395, 'MAE': 655747.8125, 'Percentage Error': 15.531667653538719, 'MSE': 922409038481.875, 'Feature Importances': {'image_predictions': 0.03093343207402202, 'reconstruction_error': 0.01842701138097811, 'postal_code': 0.062226210123516, 'type': 0.0, 'size': 0.6378502242500185, 'basement_size': 0.0, 'rooms': 0.007977480395903553, 'year_built': 0.035060969974531515, 'year_rebuilt': 0.0453413924516873, 'energy_label': 0.006902668963453938, 'postal_avg_sqm_price': 0.12004320973708142, 'lat': 0.01298038811748114, 'lng': 0.02225701253132645}}\n",
      "\n",
      "Median Evaluation:\n",
      "{'R2': 0.8115346410070998, 'MAE': 651123.96875, 'Percentage Error': 15.476574865052324, 'MSE': 908944231821.5625}\n",
      "Feauter Importance...\n",
      "{'image_predictions': 0.03093343207402202, 'reconstruction_error': 0.01842701138097811, 'postal_code': 0.062226210123516, 'type': 0.0, 'size': 0.6378502242500185, 'basement_size': 0.0, 'rooms': 0.007977480395903553, 'year_built': 0.035060969974531515, 'year_rebuilt': 0.0453413924516873, 'energy_label': 0.006902668963453938, 'postal_avg_sqm_price': 0.12004320973708142, 'lat': 0.01298038811748114, 'lng': 0.02225701253132645}\n"
     ]
    },
    {
     "name": "stderr",
     "output_type": "stream",
     "text": [
      "/usr/local/lib/python3.10/site-packages/sklearn/base.py:439: UserWarning: X does not have valid feature names, but RandomForestRegressor was fitted with feature names\n",
      "  warnings.warn(\n"
     ]
    },
    {
     "name": "stdout",
     "output_type": "stream",
     "text": [
      "\n",
      "Saving Feature Importance\n",
      "\n",
      "Saving Reconstructions\n",
      "5/5 [==============================] - 10s 2s/step\n",
      "5/5 [==============================] - 9s 2s/step\n",
      "[ 30  41  79  18  12 136 147  54 101 107]\n",
      "[ 93  44 100  16  50 156 135 130  53 134]\n",
      "1/1 [==============================] - 0s 122ms/step\n",
      "1/1 [==============================] - 0s 183ms/step\n"
     ]
    },
    {
     "name": "stderr",
     "output_type": "stream",
     "text": [
      "Clipping input data to the valid range for imshow with RGB data ([0..1] for floats or [0..255] for integers).\n"
     ]
    },
    {
     "name": "stdout",
     "output_type": "stream",
     "text": [
      "1/1 [==============================] - 0s 153ms/step\n",
      "1/1 [==============================] - 0s 117ms/step\n"
     ]
    },
    {
     "name": "stderr",
     "output_type": "stream",
     "text": [
      "Clipping input data to the valid range for imshow with RGB data ([0..1] for floats or [0..255] for integers).\n"
     ]
    },
    {
     "name": "stdout",
     "output_type": "stream",
     "text": [
      "1/1 [==============================] - 0s 172ms/step\n",
      "1/1 [==============================] - 0s 120ms/step\n"
     ]
    },
    {
     "name": "stderr",
     "output_type": "stream",
     "text": [
      "Clipping input data to the valid range for imshow with RGB data ([0..1] for floats or [0..255] for integers).\n"
     ]
    },
    {
     "name": "stdout",
     "output_type": "stream",
     "text": [
      "1/1 [==============================] - 0s 185ms/step\n",
      "1/1 [==============================] - 0s 218ms/step\n"
     ]
    },
    {
     "name": "stderr",
     "output_type": "stream",
     "text": [
      "Clipping input data to the valid range for imshow with RGB data ([0..1] for floats or [0..255] for integers).\n"
     ]
    },
    {
     "name": "stdout",
     "output_type": "stream",
     "text": [
      "1/1 [==============================] - 0s 259ms/step\n",
      "1/1 [==============================] - 0s 120ms/step\n"
     ]
    },
    {
     "name": "stderr",
     "output_type": "stream",
     "text": [
      "Clipping input data to the valid range for imshow with RGB data ([0..1] for floats or [0..255] for integers).\n"
     ]
    },
    {
     "name": "stdout",
     "output_type": "stream",
     "text": [
      "1/1 [==============================] - 0s 156ms/step\n",
      "1/1 [==============================] - 0s 106ms/step\n"
     ]
    },
    {
     "name": "stderr",
     "output_type": "stream",
     "text": [
      "Clipping input data to the valid range for imshow with RGB data ([0..1] for floats or [0..255] for integers).\n"
     ]
    },
    {
     "name": "stdout",
     "output_type": "stream",
     "text": [
      "1/1 [==============================] - 0s 114ms/step\n",
      "1/1 [==============================] - 0s 101ms/step\n"
     ]
    },
    {
     "name": "stderr",
     "output_type": "stream",
     "text": [
      "Clipping input data to the valid range for imshow with RGB data ([0..1] for floats or [0..255] for integers).\n"
     ]
    },
    {
     "name": "stdout",
     "output_type": "stream",
     "text": [
      "1/1 [==============================] - 0s 116ms/step\n",
      "1/1 [==============================] - 0s 110ms/step\n"
     ]
    },
    {
     "name": "stderr",
     "output_type": "stream",
     "text": [
      "Clipping input data to the valid range for imshow with RGB data ([0..1] for floats or [0..255] for integers).\n"
     ]
    },
    {
     "name": "stdout",
     "output_type": "stream",
     "text": [
      "1/1 [==============================] - 0s 103ms/step\n",
      "1/1 [==============================] - 0s 139ms/step\n"
     ]
    },
    {
     "name": "stderr",
     "output_type": "stream",
     "text": [
      "Clipping input data to the valid range for imshow with RGB data ([0..1] for floats or [0..255] for integers).\n"
     ]
    },
    {
     "name": "stdout",
     "output_type": "stream",
     "text": [
      "1/1 [==============================] - 0s 128ms/step\n",
      "1/1 [==============================] - 0s 147ms/step\n"
     ]
    },
    {
     "name": "stderr",
     "output_type": "stream",
     "text": [
      "Clipping input data to the valid range for imshow with RGB data ([0..1] for floats or [0..255] for integers).\n"
     ]
    },
    {
     "name": "stdout",
     "output_type": "stream",
     "text": [
      "1/1 [==============================] - 0s 114ms/step\n",
      "1/1 [==============================] - 0s 124ms/step\n"
     ]
    },
    {
     "name": "stderr",
     "output_type": "stream",
     "text": [
      "Clipping input data to the valid range for imshow with RGB data ([0..1] for floats or [0..255] for integers).\n"
     ]
    },
    {
     "name": "stdout",
     "output_type": "stream",
     "text": [
      "1/1 [==============================] - 0s 125ms/step\n",
      "1/1 [==============================] - 0s 109ms/step\n"
     ]
    },
    {
     "name": "stderr",
     "output_type": "stream",
     "text": [
      "Clipping input data to the valid range for imshow with RGB data ([0..1] for floats or [0..255] for integers).\n"
     ]
    },
    {
     "name": "stdout",
     "output_type": "stream",
     "text": [
      "1/1 [==============================] - 0s 128ms/step\n",
      "1/1 [==============================] - 0s 103ms/step\n"
     ]
    },
    {
     "name": "stderr",
     "output_type": "stream",
     "text": [
      "Clipping input data to the valid range for imshow with RGB data ([0..1] for floats or [0..255] for integers).\n"
     ]
    },
    {
     "name": "stdout",
     "output_type": "stream",
     "text": [
      "1/1 [==============================] - 0s 118ms/step\n",
      "1/1 [==============================] - 0s 116ms/step\n"
     ]
    },
    {
     "name": "stderr",
     "output_type": "stream",
     "text": [
      "Clipping input data to the valid range for imshow with RGB data ([0..1] for floats or [0..255] for integers).\n"
     ]
    },
    {
     "name": "stdout",
     "output_type": "stream",
     "text": [
      "1/1 [==============================] - 0s 108ms/step\n",
      "1/1 [==============================] - 0s 103ms/step\n"
     ]
    },
    {
     "name": "stderr",
     "output_type": "stream",
     "text": [
      "Clipping input data to the valid range for imshow with RGB data ([0..1] for floats or [0..255] for integers).\n"
     ]
    },
    {
     "name": "stdout",
     "output_type": "stream",
     "text": [
      "1/1 [==============================] - 0s 112ms/step\n",
      "1/1 [==============================] - 0s 100ms/step\n"
     ]
    },
    {
     "name": "stderr",
     "output_type": "stream",
     "text": [
      "Clipping input data to the valid range for imshow with RGB data ([0..1] for floats or [0..255] for integers).\n"
     ]
    },
    {
     "name": "stdout",
     "output_type": "stream",
     "text": [
      "1/1 [==============================] - 0s 135ms/step\n",
      "1/1 [==============================] - 0s 128ms/step\n"
     ]
    },
    {
     "name": "stderr",
     "output_type": "stream",
     "text": [
      "Clipping input data to the valid range for imshow with RGB data ([0..1] for floats or [0..255] for integers).\n"
     ]
    },
    {
     "name": "stdout",
     "output_type": "stream",
     "text": [
      "1/1 [==============================] - 0s 205ms/step\n",
      "1/1 [==============================] - 0s 105ms/step\n"
     ]
    },
    {
     "name": "stderr",
     "output_type": "stream",
     "text": [
      "Clipping input data to the valid range for imshow with RGB data ([0..1] for floats or [0..255] for integers).\n"
     ]
    },
    {
     "name": "stdout",
     "output_type": "stream",
     "text": [
      "1/1 [==============================] - 0s 109ms/step\n",
      "1/1 [==============================] - 0s 120ms/step\n"
     ]
    },
    {
     "name": "stderr",
     "output_type": "stream",
     "text": [
      "Clipping input data to the valid range for imshow with RGB data ([0..1] for floats or [0..255] for integers).\n"
     ]
    },
    {
     "name": "stdout",
     "output_type": "stream",
     "text": [
      "1/1 [==============================] - 0s 132ms/step\n",
      "1/1 [==============================] - 0s 102ms/step\n"
     ]
    },
    {
     "name": "stderr",
     "output_type": "stream",
     "text": [
      "Clipping input data to the valid range for imshow with RGB data ([0..1] for floats or [0..255] for integers).\n"
     ]
    },
    {
     "name": "stdout",
     "output_type": "stream",
     "text": [
      "\n",
      "Done!\n",
      "Setting CPU\n",
      "9/9 [==============================] - 19s 2s/step\n",
      "9/9 [==============================] - 16s 2s/step\n",
      "9/9 [==============================] - 201s 22s/step\n",
      "Saving Model...\n",
      "5/5 [==============================] - 9s 2s/step\n",
      "5/5 [==============================] - 9s 2s/step\n",
      "5/5 [==============================] - 109s 22s/step\n",
      "Evaluating Model...\n",
      "\n",
      "Model Evaluation:\n",
      "{'Timestamp': '2024-05-07 10:34:24.775650', 'R2': 0.815213122612025, 'MAE': 645511.8125, 'Percentage Error': 15.55354137105465, 'MSE': 891203387273.125, 'Feature Importances': {'image_predictions': 0.02903671992127102, 'reconstruction_error': 0.02037686956123247, 'postal_code': 0.07208713606551521, 'type': 0.0, 'size': 0.6426842822242407, 'basement_size': 0.0, 'rooms': 0.006529449285977387, 'year_built': 0.029796137138798962, 'year_rebuilt': 0.03977267585149754, 'energy_label': 0.007517988201424024, 'postal_avg_sqm_price': 0.11807517228266841, 'lat': 0.013972474734489376, 'lng': 0.020151094732885004}}\n",
      "\n",
      "Median Evaluation:\n",
      "{'R2': 0.8132266007428985, 'MAE': 648950.0625, 'Percentage Error': 15.513697755852446, 'MSE': 900784127224.375}\n",
      "Feauter Importance...\n",
      "{'image_predictions': 0.02903671992127102, 'reconstruction_error': 0.02037686956123247, 'postal_code': 0.07208713606551521, 'type': 0.0, 'size': 0.6426842822242407, 'basement_size': 0.0, 'rooms': 0.006529449285977387, 'year_built': 0.029796137138798962, 'year_rebuilt': 0.03977267585149754, 'energy_label': 0.007517988201424024, 'postal_avg_sqm_price': 0.11807517228266841, 'lat': 0.013972474734489376, 'lng': 0.020151094732885004}\n"
     ]
    },
    {
     "name": "stderr",
     "output_type": "stream",
     "text": [
      "/usr/local/lib/python3.10/site-packages/sklearn/base.py:439: UserWarning: X does not have valid feature names, but RandomForestRegressor was fitted with feature names\n",
      "  warnings.warn(\n"
     ]
    },
    {
     "name": "stdout",
     "output_type": "stream",
     "text": [
      "\n",
      "Saving Feature Importance\n",
      "\n",
      "Saving Reconstructions\n",
      "5/5 [==============================] - 10s 2s/step\n",
      "5/5 [==============================] - 9s 2s/step\n",
      "[ 30  41  79  18  12 136 147  54 101 107]\n",
      "[ 93  44 100  16  50 156 135 130  53 134]\n",
      "1/1 [==============================] - 0s 146ms/step\n",
      "1/1 [==============================] - 0s 113ms/step\n"
     ]
    },
    {
     "name": "stderr",
     "output_type": "stream",
     "text": [
      "Clipping input data to the valid range for imshow with RGB data ([0..1] for floats or [0..255] for integers).\n"
     ]
    },
    {
     "name": "stdout",
     "output_type": "stream",
     "text": [
      "1/1 [==============================] - 0s 142ms/step\n",
      "1/1 [==============================] - 0s 143ms/step\n"
     ]
    },
    {
     "name": "stderr",
     "output_type": "stream",
     "text": [
      "Clipping input data to the valid range for imshow with RGB data ([0..1] for floats or [0..255] for integers).\n"
     ]
    },
    {
     "name": "stdout",
     "output_type": "stream",
     "text": [
      "1/1 [==============================] - 0s 141ms/step\n",
      "1/1 [==============================] - 0s 129ms/step\n"
     ]
    },
    {
     "name": "stderr",
     "output_type": "stream",
     "text": [
      "Clipping input data to the valid range for imshow with RGB data ([0..1] for floats or [0..255] for integers).\n"
     ]
    },
    {
     "name": "stdout",
     "output_type": "stream",
     "text": [
      "1/1 [==============================] - 0s 128ms/step\n",
      "1/1 [==============================] - 0s 106ms/step\n"
     ]
    },
    {
     "name": "stderr",
     "output_type": "stream",
     "text": [
      "Clipping input data to the valid range for imshow with RGB data ([0..1] for floats or [0..255] for integers).\n"
     ]
    },
    {
     "name": "stdout",
     "output_type": "stream",
     "text": [
      "1/1 [==============================] - 0s 143ms/step\n",
      "1/1 [==============================] - 0s 127ms/step\n"
     ]
    },
    {
     "name": "stderr",
     "output_type": "stream",
     "text": [
      "Clipping input data to the valid range for imshow with RGB data ([0..1] for floats or [0..255] for integers).\n"
     ]
    },
    {
     "name": "stdout",
     "output_type": "stream",
     "text": [
      "1/1 [==============================] - 0s 115ms/step\n",
      "1/1 [==============================] - 0s 132ms/step\n"
     ]
    },
    {
     "name": "stderr",
     "output_type": "stream",
     "text": [
      "Clipping input data to the valid range for imshow with RGB data ([0..1] for floats or [0..255] for integers).\n"
     ]
    },
    {
     "name": "stdout",
     "output_type": "stream",
     "text": [
      "1/1 [==============================] - 0s 123ms/step\n",
      "1/1 [==============================] - 0s 131ms/step\n"
     ]
    },
    {
     "name": "stderr",
     "output_type": "stream",
     "text": [
      "Clipping input data to the valid range for imshow with RGB data ([0..1] for floats or [0..255] for integers).\n"
     ]
    },
    {
     "name": "stdout",
     "output_type": "stream",
     "text": [
      "1/1 [==============================] - 0s 193ms/step\n",
      "1/1 [==============================] - 0s 101ms/step\n"
     ]
    },
    {
     "name": "stderr",
     "output_type": "stream",
     "text": [
      "Clipping input data to the valid range for imshow with RGB data ([0..1] for floats or [0..255] for integers).\n"
     ]
    },
    {
     "name": "stdout",
     "output_type": "stream",
     "text": [
      "1/1 [==============================] - 0s 111ms/step\n",
      "1/1 [==============================] - 0s 106ms/step\n"
     ]
    },
    {
     "name": "stderr",
     "output_type": "stream",
     "text": [
      "Clipping input data to the valid range for imshow with RGB data ([0..1] for floats or [0..255] for integers).\n"
     ]
    },
    {
     "name": "stdout",
     "output_type": "stream",
     "text": [
      "1/1 [==============================] - 0s 114ms/step\n",
      "1/1 [==============================] - 0s 116ms/step\n"
     ]
    },
    {
     "name": "stderr",
     "output_type": "stream",
     "text": [
      "Clipping input data to the valid range for imshow with RGB data ([0..1] for floats or [0..255] for integers).\n"
     ]
    },
    {
     "name": "stdout",
     "output_type": "stream",
     "text": [
      "1/1 [==============================] - 0s 122ms/step\n",
      "1/1 [==============================] - 0s 105ms/step\n"
     ]
    },
    {
     "name": "stderr",
     "output_type": "stream",
     "text": [
      "Clipping input data to the valid range for imshow with RGB data ([0..1] for floats or [0..255] for integers).\n"
     ]
    },
    {
     "name": "stdout",
     "output_type": "stream",
     "text": [
      "1/1 [==============================] - 0s 124ms/step\n",
      "1/1 [==============================] - 0s 122ms/step\n"
     ]
    },
    {
     "name": "stderr",
     "output_type": "stream",
     "text": [
      "Clipping input data to the valid range for imshow with RGB data ([0..1] for floats or [0..255] for integers).\n"
     ]
    },
    {
     "name": "stdout",
     "output_type": "stream",
     "text": [
      "1/1 [==============================] - 0s 140ms/step\n",
      "1/1 [==============================] - 0s 107ms/step\n"
     ]
    },
    {
     "name": "stderr",
     "output_type": "stream",
     "text": [
      "Clipping input data to the valid range for imshow with RGB data ([0..1] for floats or [0..255] for integers).\n"
     ]
    },
    {
     "name": "stdout",
     "output_type": "stream",
     "text": [
      "1/1 [==============================] - 0s 121ms/step\n",
      "1/1 [==============================] - 0s 245ms/step\n"
     ]
    },
    {
     "name": "stderr",
     "output_type": "stream",
     "text": [
      "Clipping input data to the valid range for imshow with RGB data ([0..1] for floats or [0..255] for integers).\n"
     ]
    },
    {
     "name": "stdout",
     "output_type": "stream",
     "text": [
      "1/1 [==============================] - 0s 147ms/step\n",
      "1/1 [==============================] - 0s 117ms/step\n"
     ]
    },
    {
     "name": "stderr",
     "output_type": "stream",
     "text": [
      "Clipping input data to the valid range for imshow with RGB data ([0..1] for floats or [0..255] for integers).\n"
     ]
    },
    {
     "name": "stdout",
     "output_type": "stream",
     "text": [
      "1/1 [==============================] - 0s 115ms/step\n",
      "1/1 [==============================] - 0s 109ms/step\n"
     ]
    },
    {
     "name": "stderr",
     "output_type": "stream",
     "text": [
      "Clipping input data to the valid range for imshow with RGB data ([0..1] for floats or [0..255] for integers).\n"
     ]
    },
    {
     "name": "stdout",
     "output_type": "stream",
     "text": [
      "1/1 [==============================] - 0s 113ms/step\n",
      "1/1 [==============================] - 0s 101ms/step\n"
     ]
    },
    {
     "name": "stderr",
     "output_type": "stream",
     "text": [
      "Clipping input data to the valid range for imshow with RGB data ([0..1] for floats or [0..255] for integers).\n"
     ]
    },
    {
     "name": "stdout",
     "output_type": "stream",
     "text": [
      "1/1 [==============================] - 0s 114ms/step\n",
      "1/1 [==============================] - 0s 123ms/step\n"
     ]
    },
    {
     "name": "stderr",
     "output_type": "stream",
     "text": [
      "Clipping input data to the valid range for imshow with RGB data ([0..1] for floats or [0..255] for integers).\n"
     ]
    },
    {
     "name": "stdout",
     "output_type": "stream",
     "text": [
      "1/1 [==============================] - 0s 142ms/step\n",
      "1/1 [==============================] - 0s 102ms/step\n"
     ]
    },
    {
     "name": "stderr",
     "output_type": "stream",
     "text": [
      "Clipping input data to the valid range for imshow with RGB data ([0..1] for floats or [0..255] for integers).\n"
     ]
    },
    {
     "name": "stdout",
     "output_type": "stream",
     "text": [
      "1/1 [==============================] - 0s 110ms/step\n",
      "1/1 [==============================] - 0s 101ms/step\n"
     ]
    },
    {
     "name": "stderr",
     "output_type": "stream",
     "text": [
      "Clipping input data to the valid range for imshow with RGB data ([0..1] for floats or [0..255] for integers).\n"
     ]
    },
    {
     "name": "stdout",
     "output_type": "stream",
     "text": [
      "\n",
      "Done!\n",
      "Setting CPU\n",
      "9/9 [==============================] - 17s 2s/step\n",
      "9/9 [==============================] - 15s 2s/step\n",
      "9/9 [==============================] - 192s 21s/step\n",
      "Saving Model...\n",
      "5/5 [==============================] - 9s 2s/step\n",
      "5/5 [==============================] - 9s 2s/step\n",
      "5/5 [==============================] - 120s 24s/step\n",
      "Evaluating Model...\n",
      "\n",
      "Model Evaluation:\n",
      "{'Timestamp': '2024-05-07 10:42:27.243515', 'R2': 0.8156053458260321, 'MAE': 643619.8125, 'Percentage Error': 15.470829353380653, 'MSE': 889311745064.375, 'Feature Importances': {'image_predictions': 0.029727641220760975, 'reconstruction_error': 0.017141686085156465, 'postal_code': 0.06681912374952144, 'type': 0.0, 'size': 0.6408157788758891, 'basement_size': 0.0, 'rooms': 0.006619439119804813, 'year_built': 0.03450767208091423, 'year_rebuilt': 0.038298170364076345, 'energy_label': 0.006765780875464372, 'postal_avg_sqm_price': 0.1217903475979024, 'lat': 0.014005079035320852, 'lng': 0.0235092809951889}}\n",
      "\n",
      "Median Evaluation:\n",
      "{'R2': 0.8142198616774619, 'MAE': 647230.9375, 'Percentage Error': 15.49226355461655, 'MSE': 895993757248.75}\n",
      "Feauter Importance...\n",
      "{'image_predictions': 0.029727641220760975, 'reconstruction_error': 0.017141686085156465, 'postal_code': 0.06681912374952144, 'type': 0.0, 'size': 0.6408157788758891, 'basement_size': 0.0, 'rooms': 0.006619439119804813, 'year_built': 0.03450767208091423, 'year_rebuilt': 0.038298170364076345, 'energy_label': 0.006765780875464372, 'postal_avg_sqm_price': 0.1217903475979024, 'lat': 0.014005079035320852, 'lng': 0.0235092809951889}\n"
     ]
    },
    {
     "name": "stderr",
     "output_type": "stream",
     "text": [
      "/usr/local/lib/python3.10/site-packages/sklearn/base.py:439: UserWarning: X does not have valid feature names, but RandomForestRegressor was fitted with feature names\n",
      "  warnings.warn(\n"
     ]
    },
    {
     "name": "stdout",
     "output_type": "stream",
     "text": [
      "\n",
      "Saving Feature Importance\n",
      "\n",
      "Saving Reconstructions\n",
      "5/5 [==============================] - 11s 2s/step\n",
      "5/5 [==============================] - 9s 2s/step\n",
      "[ 30  41  79  18  12 136 147  54 101 107]\n",
      "[ 93  44 100  16  50 156 135 130  53 134]\n",
      "1/1 [==============================] - 0s 142ms/step\n",
      "1/1 [==============================] - 0s 121ms/step\n"
     ]
    },
    {
     "name": "stderr",
     "output_type": "stream",
     "text": [
      "Clipping input data to the valid range for imshow with RGB data ([0..1] for floats or [0..255] for integers).\n"
     ]
    },
    {
     "name": "stdout",
     "output_type": "stream",
     "text": [
      "1/1 [==============================] - 0s 207ms/step\n",
      "1/1 [==============================] - 0s 135ms/step\n"
     ]
    },
    {
     "name": "stderr",
     "output_type": "stream",
     "text": [
      "Clipping input data to the valid range for imshow with RGB data ([0..1] for floats or [0..255] for integers).\n"
     ]
    },
    {
     "name": "stdout",
     "output_type": "stream",
     "text": [
      "1/1 [==============================] - 0s 113ms/step\n",
      "1/1 [==============================] - 0s 135ms/step\n"
     ]
    },
    {
     "name": "stderr",
     "output_type": "stream",
     "text": [
      "Clipping input data to the valid range for imshow with RGB data ([0..1] for floats or [0..255] for integers).\n"
     ]
    },
    {
     "name": "stdout",
     "output_type": "stream",
     "text": [
      "1/1 [==============================] - 0s 118ms/step\n",
      "1/1 [==============================] - 0s 110ms/step\n"
     ]
    },
    {
     "name": "stderr",
     "output_type": "stream",
     "text": [
      "Clipping input data to the valid range for imshow with RGB data ([0..1] for floats or [0..255] for integers).\n"
     ]
    },
    {
     "name": "stdout",
     "output_type": "stream",
     "text": [
      "1/1 [==============================] - 0s 134ms/step\n",
      "1/1 [==============================] - 0s 103ms/step\n"
     ]
    },
    {
     "name": "stderr",
     "output_type": "stream",
     "text": [
      "Clipping input data to the valid range for imshow with RGB data ([0..1] for floats or [0..255] for integers).\n"
     ]
    },
    {
     "name": "stdout",
     "output_type": "stream",
     "text": [
      "1/1 [==============================] - 0s 134ms/step\n",
      "1/1 [==============================] - 0s 156ms/step\n"
     ]
    },
    {
     "name": "stderr",
     "output_type": "stream",
     "text": [
      "Clipping input data to the valid range for imshow with RGB data ([0..1] for floats or [0..255] for integers).\n"
     ]
    },
    {
     "name": "stdout",
     "output_type": "stream",
     "text": [
      "1/1 [==============================] - 0s 166ms/step\n",
      "1/1 [==============================] - 0s 124ms/step\n"
     ]
    },
    {
     "name": "stderr",
     "output_type": "stream",
     "text": [
      "Clipping input data to the valid range for imshow with RGB data ([0..1] for floats or [0..255] for integers).\n"
     ]
    },
    {
     "name": "stdout",
     "output_type": "stream",
     "text": [
      "1/1 [==============================] - 0s 121ms/step\n",
      "1/1 [==============================] - 0s 121ms/step\n"
     ]
    },
    {
     "name": "stderr",
     "output_type": "stream",
     "text": [
      "Clipping input data to the valid range for imshow with RGB data ([0..1] for floats or [0..255] for integers).\n"
     ]
    },
    {
     "name": "stdout",
     "output_type": "stream",
     "text": [
      "1/1 [==============================] - 0s 121ms/step\n",
      "1/1 [==============================] - 0s 111ms/step\n"
     ]
    },
    {
     "name": "stderr",
     "output_type": "stream",
     "text": [
      "Clipping input data to the valid range for imshow with RGB data ([0..1] for floats or [0..255] for integers).\n"
     ]
    },
    {
     "name": "stdout",
     "output_type": "stream",
     "text": [
      "1/1 [==============================] - 0s 112ms/step\n",
      "1/1 [==============================] - 0s 113ms/step\n"
     ]
    },
    {
     "name": "stderr",
     "output_type": "stream",
     "text": [
      "Clipping input data to the valid range for imshow with RGB data ([0..1] for floats or [0..255] for integers).\n"
     ]
    },
    {
     "name": "stdout",
     "output_type": "stream",
     "text": [
      "1/1 [==============================] - 0s 108ms/step\n",
      "1/1 [==============================] - 0s 116ms/step\n"
     ]
    },
    {
     "name": "stderr",
     "output_type": "stream",
     "text": [
      "Clipping input data to the valid range for imshow with RGB data ([0..1] for floats or [0..255] for integers).\n"
     ]
    },
    {
     "name": "stdout",
     "output_type": "stream",
     "text": [
      "1/1 [==============================] - 0s 129ms/step\n",
      "1/1 [==============================] - 0s 119ms/step\n"
     ]
    },
    {
     "name": "stderr",
     "output_type": "stream",
     "text": [
      "Clipping input data to the valid range for imshow with RGB data ([0..1] for floats or [0..255] for integers).\n"
     ]
    },
    {
     "name": "stdout",
     "output_type": "stream",
     "text": [
      "1/1 [==============================] - 0s 120ms/step\n",
      "1/1 [==============================] - 0s 112ms/step\n"
     ]
    },
    {
     "name": "stderr",
     "output_type": "stream",
     "text": [
      "Clipping input data to the valid range for imshow with RGB data ([0..1] for floats or [0..255] for integers).\n"
     ]
    },
    {
     "name": "stdout",
     "output_type": "stream",
     "text": [
      "1/1 [==============================] - 0s 112ms/step\n",
      "1/1 [==============================] - 0s 114ms/step\n"
     ]
    },
    {
     "name": "stderr",
     "output_type": "stream",
     "text": [
      "Clipping input data to the valid range for imshow with RGB data ([0..1] for floats or [0..255] for integers).\n"
     ]
    },
    {
     "name": "stdout",
     "output_type": "stream",
     "text": [
      "1/1 [==============================] - 0s 124ms/step\n",
      "1/1 [==============================] - 0s 153ms/step\n"
     ]
    },
    {
     "name": "stderr",
     "output_type": "stream",
     "text": [
      "Clipping input data to the valid range for imshow with RGB data ([0..1] for floats or [0..255] for integers).\n"
     ]
    },
    {
     "name": "stdout",
     "output_type": "stream",
     "text": [
      "1/1 [==============================] - 0s 125ms/step\n",
      "1/1 [==============================] - 0s 252ms/step\n"
     ]
    },
    {
     "name": "stderr",
     "output_type": "stream",
     "text": [
      "Clipping input data to the valid range for imshow with RGB data ([0..1] for floats or [0..255] for integers).\n"
     ]
    },
    {
     "name": "stdout",
     "output_type": "stream",
     "text": [
      "1/1 [==============================] - 0s 139ms/step\n",
      "1/1 [==============================] - 0s 120ms/step\n"
     ]
    },
    {
     "name": "stderr",
     "output_type": "stream",
     "text": [
      "Clipping input data to the valid range for imshow with RGB data ([0..1] for floats or [0..255] for integers).\n"
     ]
    },
    {
     "name": "stdout",
     "output_type": "stream",
     "text": [
      "1/1 [==============================] - 0s 122ms/step\n",
      "1/1 [==============================] - 0s 121ms/step\n"
     ]
    },
    {
     "name": "stderr",
     "output_type": "stream",
     "text": [
      "Clipping input data to the valid range for imshow with RGB data ([0..1] for floats or [0..255] for integers).\n"
     ]
    },
    {
     "name": "stdout",
     "output_type": "stream",
     "text": [
      "1/1 [==============================] - 0s 157ms/step\n",
      "1/1 [==============================] - 0s 150ms/step\n"
     ]
    },
    {
     "name": "stderr",
     "output_type": "stream",
     "text": [
      "Clipping input data to the valid range for imshow with RGB data ([0..1] for floats or [0..255] for integers).\n"
     ]
    },
    {
     "name": "stdout",
     "output_type": "stream",
     "text": [
      "1/1 [==============================] - 0s 119ms/step\n",
      "1/1 [==============================] - 0s 106ms/step\n"
     ]
    },
    {
     "name": "stderr",
     "output_type": "stream",
     "text": [
      "Clipping input data to the valid range for imshow with RGB data ([0..1] for floats or [0..255] for integers).\n"
     ]
    },
    {
     "name": "stdout",
     "output_type": "stream",
     "text": [
      "\n",
      "Done!\n",
      "Setting CPU\n",
      "9/9 [==============================] - 19s 2s/step\n",
      "9/9 [==============================] - 15s 2s/step\n",
      "9/9 [==============================] - 195s 21s/step\n",
      "Saving Model...\n",
      "5/5 [==============================] - 12s 2s/step\n",
      "5/5 [==============================] - 9s 2s/step\n",
      "5/5 [==============================] - 133s 26s/step\n",
      "Evaluating Model...\n",
      "\n",
      "Model Evaluation:\n",
      "{'Timestamp': '2024-05-07 10:51:20.671767', 'R2': 0.8113564749402903, 'MAE': 643673.0625, 'Percentage Error': 15.149231216972922, 'MSE': 909803503889.375, 'Feature Importances': {'image_predictions': 0.03408319754310625, 'reconstruction_error': 0.016562832670846395, 'postal_code': 0.06382815609339809, 'type': 0.0, 'size': 0.6195301926699018, 'basement_size': 0.0, 'rooms': 0.0072301654177463264, 'year_built': 0.036916882177671737, 'year_rebuilt': 0.05667723478238577, 'energy_label': 0.007026312415581035, 'postal_avg_sqm_price': 0.12325470168096997, 'lat': 0.012842613152298607, 'lng': 0.02204771139609398}}\n",
      "\n",
      "Median Evaluation:\n",
      "{'R2': 0.8132266007428985, 'MAE': 645511.8125, 'Percentage Error': 15.470829353380653, 'MSE': 900784127224.375}\n",
      "Feauter Importance...\n",
      "{'image_predictions': 0.03408319754310625, 'reconstruction_error': 0.016562832670846395, 'postal_code': 0.06382815609339809, 'type': 0.0, 'size': 0.6195301926699018, 'basement_size': 0.0, 'rooms': 0.0072301654177463264, 'year_built': 0.036916882177671737, 'year_rebuilt': 0.05667723478238577, 'energy_label': 0.007026312415581035, 'postal_avg_sqm_price': 0.12325470168096997, 'lat': 0.012842613152298607, 'lng': 0.02204771139609398}\n"
     ]
    },
    {
     "name": "stderr",
     "output_type": "stream",
     "text": [
      "/usr/local/lib/python3.10/site-packages/sklearn/base.py:439: UserWarning: X does not have valid feature names, but RandomForestRegressor was fitted with feature names\n",
      "  warnings.warn(\n"
     ]
    },
    {
     "name": "stdout",
     "output_type": "stream",
     "text": [
      "\n",
      "Saving Feature Importance\n",
      "\n",
      "Saving Reconstructions\n",
      "5/5 [==============================] - 12s 2s/step\n",
      "5/5 [==============================] - 10s 2s/step\n",
      "[ 30  41  79  18  12 136 147  54 101 107]\n",
      "[ 93  44 100  16  50 156 135 130  53 134]\n",
      "1/1 [==============================] - 0s 154ms/step\n",
      "1/1 [==============================] - 0s 142ms/step\n"
     ]
    },
    {
     "name": "stderr",
     "output_type": "stream",
     "text": [
      "Clipping input data to the valid range for imshow with RGB data ([0..1] for floats or [0..255] for integers).\n"
     ]
    },
    {
     "name": "stdout",
     "output_type": "stream",
     "text": [
      "1/1 [==============================] - 0s 147ms/step\n",
      "1/1 [==============================] - 0s 139ms/step\n"
     ]
    },
    {
     "name": "stderr",
     "output_type": "stream",
     "text": [
      "Clipping input data to the valid range for imshow with RGB data ([0..1] for floats or [0..255] for integers).\n"
     ]
    },
    {
     "name": "stdout",
     "output_type": "stream",
     "text": [
      "1/1 [==============================] - 0s 239ms/step\n",
      "1/1 [==============================] - 0s 148ms/step\n"
     ]
    },
    {
     "name": "stderr",
     "output_type": "stream",
     "text": [
      "Clipping input data to the valid range for imshow with RGB data ([0..1] for floats or [0..255] for integers).\n"
     ]
    },
    {
     "name": "stdout",
     "output_type": "stream",
     "text": [
      "1/1 [==============================] - 0s 127ms/step\n",
      "1/1 [==============================] - 0s 139ms/step\n"
     ]
    },
    {
     "name": "stderr",
     "output_type": "stream",
     "text": [
      "Clipping input data to the valid range for imshow with RGB data ([0..1] for floats or [0..255] for integers).\n"
     ]
    },
    {
     "name": "stdout",
     "output_type": "stream",
     "text": [
      "1/1 [==============================] - 0s 160ms/step\n",
      "1/1 [==============================] - 0s 121ms/step\n"
     ]
    },
    {
     "name": "stderr",
     "output_type": "stream",
     "text": [
      "Clipping input data to the valid range for imshow with RGB data ([0..1] for floats or [0..255] for integers).\n"
     ]
    },
    {
     "name": "stdout",
     "output_type": "stream",
     "text": [
      "1/1 [==============================] - 0s 157ms/step\n",
      "1/1 [==============================] - 0s 133ms/step\n"
     ]
    },
    {
     "name": "stderr",
     "output_type": "stream",
     "text": [
      "Clipping input data to the valid range for imshow with RGB data ([0..1] for floats or [0..255] for integers).\n"
     ]
    },
    {
     "name": "stdout",
     "output_type": "stream",
     "text": [
      "1/1 [==============================] - 0s 174ms/step\n",
      "1/1 [==============================] - 0s 123ms/step\n"
     ]
    },
    {
     "name": "stderr",
     "output_type": "stream",
     "text": [
      "Clipping input data to the valid range for imshow with RGB data ([0..1] for floats or [0..255] for integers).\n"
     ]
    },
    {
     "name": "stdout",
     "output_type": "stream",
     "text": [
      "1/1 [==============================] - 0s 136ms/step\n",
      "1/1 [==============================] - 0s 148ms/step\n"
     ]
    },
    {
     "name": "stderr",
     "output_type": "stream",
     "text": [
      "Clipping input data to the valid range for imshow with RGB data ([0..1] for floats or [0..255] for integers).\n"
     ]
    },
    {
     "name": "stdout",
     "output_type": "stream",
     "text": [
      "1/1 [==============================] - 0s 177ms/step\n",
      "1/1 [==============================] - 0s 120ms/step\n"
     ]
    },
    {
     "name": "stderr",
     "output_type": "stream",
     "text": [
      "Clipping input data to the valid range for imshow with RGB data ([0..1] for floats or [0..255] for integers).\n"
     ]
    },
    {
     "name": "stdout",
     "output_type": "stream",
     "text": [
      "1/1 [==============================] - 0s 192ms/step\n",
      "1/1 [==============================] - 0s 337ms/step\n"
     ]
    },
    {
     "name": "stderr",
     "output_type": "stream",
     "text": [
      "Clipping input data to the valid range for imshow with RGB data ([0..1] for floats or [0..255] for integers).\n"
     ]
    },
    {
     "name": "stdout",
     "output_type": "stream",
     "text": [
      "1/1 [==============================] - 0s 142ms/step\n",
      "1/1 [==============================] - 0s 162ms/step\n"
     ]
    },
    {
     "name": "stderr",
     "output_type": "stream",
     "text": [
      "Clipping input data to the valid range for imshow with RGB data ([0..1] for floats or [0..255] for integers).\n"
     ]
    },
    {
     "name": "stdout",
     "output_type": "stream",
     "text": [
      "1/1 [==============================] - 0s 145ms/step\n",
      "1/1 [==============================] - 0s 147ms/step\n"
     ]
    },
    {
     "name": "stderr",
     "output_type": "stream",
     "text": [
      "Clipping input data to the valid range for imshow with RGB data ([0..1] for floats or [0..255] for integers).\n"
     ]
    },
    {
     "name": "stdout",
     "output_type": "stream",
     "text": [
      "1/1 [==============================] - 0s 127ms/step\n",
      "1/1 [==============================] - 0s 135ms/step\n"
     ]
    },
    {
     "name": "stderr",
     "output_type": "stream",
     "text": [
      "Clipping input data to the valid range for imshow with RGB data ([0..1] for floats or [0..255] for integers).\n"
     ]
    },
    {
     "name": "stdout",
     "output_type": "stream",
     "text": [
      "1/1 [==============================] - 0s 160ms/step\n",
      "1/1 [==============================] - 0s 131ms/step\n"
     ]
    },
    {
     "name": "stderr",
     "output_type": "stream",
     "text": [
      "Clipping input data to the valid range for imshow with RGB data ([0..1] for floats or [0..255] for integers).\n"
     ]
    },
    {
     "name": "stdout",
     "output_type": "stream",
     "text": [
      "1/1 [==============================] - 0s 144ms/step\n",
      "1/1 [==============================] - 0s 129ms/step\n"
     ]
    },
    {
     "name": "stderr",
     "output_type": "stream",
     "text": [
      "Clipping input data to the valid range for imshow with RGB data ([0..1] for floats or [0..255] for integers).\n"
     ]
    },
    {
     "name": "stdout",
     "output_type": "stream",
     "text": [
      "1/1 [==============================] - 0s 144ms/step\n",
      "1/1 [==============================] - 0s 135ms/step\n"
     ]
    },
    {
     "name": "stderr",
     "output_type": "stream",
     "text": [
      "Clipping input data to the valid range for imshow with RGB data ([0..1] for floats or [0..255] for integers).\n"
     ]
    },
    {
     "name": "stdout",
     "output_type": "stream",
     "text": [
      "1/1 [==============================] - 0s 143ms/step\n",
      "1/1 [==============================] - 0s 123ms/step\n"
     ]
    },
    {
     "name": "stderr",
     "output_type": "stream",
     "text": [
      "Clipping input data to the valid range for imshow with RGB data ([0..1] for floats or [0..255] for integers).\n"
     ]
    },
    {
     "name": "stdout",
     "output_type": "stream",
     "text": [
      "1/1 [==============================] - 0s 141ms/step\n",
      "1/1 [==============================] - 0s 125ms/step\n"
     ]
    },
    {
     "name": "stderr",
     "output_type": "stream",
     "text": [
      "Clipping input data to the valid range for imshow with RGB data ([0..1] for floats or [0..255] for integers).\n"
     ]
    },
    {
     "name": "stdout",
     "output_type": "stream",
     "text": [
      "1/1 [==============================] - 0s 135ms/step\n",
      "1/1 [==============================] - 0s 121ms/step\n"
     ]
    },
    {
     "name": "stderr",
     "output_type": "stream",
     "text": [
      "Clipping input data to the valid range for imshow with RGB data ([0..1] for floats or [0..255] for integers).\n"
     ]
    },
    {
     "name": "stdout",
     "output_type": "stream",
     "text": [
      "1/1 [==============================] - 0s 218ms/step\n",
      "1/1 [==============================] - 0s 143ms/step\n"
     ]
    },
    {
     "name": "stderr",
     "output_type": "stream",
     "text": [
      "Clipping input data to the valid range for imshow with RGB data ([0..1] for floats or [0..255] for integers).\n"
     ]
    },
    {
     "name": "stdout",
     "output_type": "stream",
     "text": [
      "\n",
      "Done!\n",
      "Setting CPU\n",
      "9/9 [==============================] - 22s 2s/step\n",
      "9/9 [==============================] - 18s 2s/step\n",
      "9/9 [==============================] - 240s 27s/step\n",
      "Saving Model...\n",
      "5/5 [==============================] - 13s 2s/step\n",
      "5/5 [==============================] - 10s 2s/step\n",
      "5/5 [==============================] - 136s 28s/step\n",
      "Evaluating Model...\n",
      "\n",
      "Model Evaluation:\n",
      "{'Timestamp': '2024-05-07 11:00:55.955331', 'R2': 0.8121049387693078, 'MAE': 652268.5, 'Percentage Error': 15.551004836598741, 'MSE': 906193758927.5, 'Feature Importances': {'image_predictions': 0.02714466260097988, 'reconstruction_error': 0.01718583981241168, 'postal_code': 0.07009182567781116, 'type': 0.0, 'size': 0.6370587976847325, 'basement_size': 0.0, 'rooms': 0.008721357469620607, 'year_built': 0.03527361437012646, 'year_rebuilt': 0.046399588866286666, 'energy_label': 0.007504510254410711, 'postal_avg_sqm_price': 0.11522323198005203, 'lat': 0.01493301590240694, 'lng': 0.020463555381161402}}\n",
      "\n",
      "Median Evaluation:\n",
      "{'R2': 0.8126657697561032, 'MAE': 647230.9375, 'Percentage Error': 15.49226355461655, 'MSE': 903488943075.9375}\n",
      "Feauter Importance...\n",
      "{'image_predictions': 0.02714466260097988, 'reconstruction_error': 0.01718583981241168, 'postal_code': 0.07009182567781116, 'type': 0.0, 'size': 0.6370587976847325, 'basement_size': 0.0, 'rooms': 0.008721357469620607, 'year_built': 0.03527361437012646, 'year_rebuilt': 0.046399588866286666, 'energy_label': 0.007504510254410711, 'postal_avg_sqm_price': 0.11522323198005203, 'lat': 0.01493301590240694, 'lng': 0.020463555381161402}\n"
     ]
    },
    {
     "name": "stderr",
     "output_type": "stream",
     "text": [
      "/usr/local/lib/python3.10/site-packages/sklearn/base.py:439: UserWarning: X does not have valid feature names, but RandomForestRegressor was fitted with feature names\n",
      "  warnings.warn(\n"
     ]
    },
    {
     "name": "stdout",
     "output_type": "stream",
     "text": [
      "\n",
      "Saving Feature Importance\n",
      "\n",
      "Saving Reconstructions\n",
      "5/5 [==============================] - 14s 3s/step\n",
      "5/5 [==============================] - 11s 2s/step\n",
      "[ 30  41  79  18  12 136 147  54 101 107]\n",
      "[ 93  44 100  16  50 156 135 130  53 134]\n",
      "1/1 [==============================] - 0s 182ms/step\n",
      "1/1 [==============================] - 0s 157ms/step\n"
     ]
    },
    {
     "name": "stderr",
     "output_type": "stream",
     "text": [
      "Clipping input data to the valid range for imshow with RGB data ([0..1] for floats or [0..255] for integers).\n"
     ]
    },
    {
     "name": "stdout",
     "output_type": "stream",
     "text": [
      "1/1 [==============================] - 0s 142ms/step\n",
      "1/1 [==============================] - 0s 132ms/step\n"
     ]
    },
    {
     "name": "stderr",
     "output_type": "stream",
     "text": [
      "Clipping input data to the valid range for imshow with RGB data ([0..1] for floats or [0..255] for integers).\n"
     ]
    },
    {
     "name": "stdout",
     "output_type": "stream",
     "text": [
      "1/1 [==============================] - 0s 233ms/step\n",
      "1/1 [==============================] - 0s 128ms/step\n"
     ]
    },
    {
     "name": "stderr",
     "output_type": "stream",
     "text": [
      "Clipping input data to the valid range for imshow with RGB data ([0..1] for floats or [0..255] for integers).\n"
     ]
    },
    {
     "name": "stdout",
     "output_type": "stream",
     "text": [
      "1/1 [==============================] - 0s 199ms/step\n",
      "1/1 [==============================] - 0s 149ms/step\n"
     ]
    },
    {
     "name": "stderr",
     "output_type": "stream",
     "text": [
      "Clipping input data to the valid range for imshow with RGB data ([0..1] for floats or [0..255] for integers).\n"
     ]
    },
    {
     "name": "stdout",
     "output_type": "stream",
     "text": [
      "1/1 [==============================] - 0s 134ms/step\n",
      "1/1 [==============================] - 0s 144ms/step\n"
     ]
    },
    {
     "name": "stderr",
     "output_type": "stream",
     "text": [
      "Clipping input data to the valid range for imshow with RGB data ([0..1] for floats or [0..255] for integers).\n"
     ]
    },
    {
     "name": "stdout",
     "output_type": "stream",
     "text": [
      "1/1 [==============================] - 0s 176ms/step\n",
      "1/1 [==============================] - 0s 140ms/step\n"
     ]
    },
    {
     "name": "stderr",
     "output_type": "stream",
     "text": [
      "Clipping input data to the valid range for imshow with RGB data ([0..1] for floats or [0..255] for integers).\n"
     ]
    },
    {
     "name": "stdout",
     "output_type": "stream",
     "text": [
      "1/1 [==============================] - 0s 298ms/step\n",
      "1/1 [==============================] - 0s 208ms/step\n"
     ]
    },
    {
     "name": "stderr",
     "output_type": "stream",
     "text": [
      "Clipping input data to the valid range for imshow with RGB data ([0..1] for floats or [0..255] for integers).\n"
     ]
    },
    {
     "name": "stdout",
     "output_type": "stream",
     "text": [
      "1/1 [==============================] - 0s 190ms/step\n",
      "1/1 [==============================] - 0s 122ms/step\n"
     ]
    },
    {
     "name": "stderr",
     "output_type": "stream",
     "text": [
      "Clipping input data to the valid range for imshow with RGB data ([0..1] for floats or [0..255] for integers).\n"
     ]
    },
    {
     "name": "stdout",
     "output_type": "stream",
     "text": [
      "1/1 [==============================] - 0s 159ms/step\n",
      "1/1 [==============================] - 0s 280ms/step\n"
     ]
    },
    {
     "name": "stderr",
     "output_type": "stream",
     "text": [
      "Clipping input data to the valid range for imshow with RGB data ([0..1] for floats or [0..255] for integers).\n"
     ]
    },
    {
     "name": "stdout",
     "output_type": "stream",
     "text": [
      "1/1 [==============================] - 0s 184ms/step\n",
      "1/1 [==============================] - 0s 130ms/step\n"
     ]
    },
    {
     "name": "stderr",
     "output_type": "stream",
     "text": [
      "Clipping input data to the valid range for imshow with RGB data ([0..1] for floats or [0..255] for integers).\n"
     ]
    },
    {
     "name": "stdout",
     "output_type": "stream",
     "text": [
      "1/1 [==============================] - 0s 184ms/step\n",
      "1/1 [==============================] - 0s 151ms/step\n"
     ]
    },
    {
     "name": "stderr",
     "output_type": "stream",
     "text": [
      "Clipping input data to the valid range for imshow with RGB data ([0..1] for floats or [0..255] for integers).\n"
     ]
    },
    {
     "name": "stdout",
     "output_type": "stream",
     "text": [
      "1/1 [==============================] - 0s 132ms/step\n",
      "1/1 [==============================] - 0s 143ms/step\n"
     ]
    },
    {
     "name": "stderr",
     "output_type": "stream",
     "text": [
      "Clipping input data to the valid range for imshow with RGB data ([0..1] for floats or [0..255] for integers).\n"
     ]
    },
    {
     "name": "stdout",
     "output_type": "stream",
     "text": [
      "1/1 [==============================] - 0s 135ms/step\n",
      "1/1 [==============================] - 0s 144ms/step\n"
     ]
    },
    {
     "name": "stderr",
     "output_type": "stream",
     "text": [
      "Clipping input data to the valid range for imshow with RGB data ([0..1] for floats or [0..255] for integers).\n"
     ]
    },
    {
     "name": "stdout",
     "output_type": "stream",
     "text": [
      "1/1 [==============================] - 0s 147ms/step\n",
      "1/1 [==============================] - 0s 170ms/step\n"
     ]
    },
    {
     "name": "stderr",
     "output_type": "stream",
     "text": [
      "Clipping input data to the valid range for imshow with RGB data ([0..1] for floats or [0..255] for integers).\n"
     ]
    },
    {
     "name": "stdout",
     "output_type": "stream",
     "text": [
      "1/1 [==============================] - 0s 144ms/step\n",
      "1/1 [==============================] - 0s 122ms/step\n"
     ]
    },
    {
     "name": "stderr",
     "output_type": "stream",
     "text": [
      "Clipping input data to the valid range for imshow with RGB data ([0..1] for floats or [0..255] for integers).\n"
     ]
    },
    {
     "name": "stdout",
     "output_type": "stream",
     "text": [
      "1/1 [==============================] - 0s 154ms/step\n",
      "1/1 [==============================] - 0s 161ms/step\n"
     ]
    },
    {
     "name": "stderr",
     "output_type": "stream",
     "text": [
      "Clipping input data to the valid range for imshow with RGB data ([0..1] for floats or [0..255] for integers).\n"
     ]
    },
    {
     "name": "stdout",
     "output_type": "stream",
     "text": [
      "1/1 [==============================] - 0s 174ms/step\n",
      "1/1 [==============================] - 0s 131ms/step\n"
     ]
    },
    {
     "name": "stderr",
     "output_type": "stream",
     "text": [
      "Clipping input data to the valid range for imshow with RGB data ([0..1] for floats or [0..255] for integers).\n"
     ]
    },
    {
     "name": "stdout",
     "output_type": "stream",
     "text": [
      "1/1 [==============================] - 0s 164ms/step\n",
      "1/1 [==============================] - 0s 190ms/step\n"
     ]
    },
    {
     "name": "stderr",
     "output_type": "stream",
     "text": [
      "Clipping input data to the valid range for imshow with RGB data ([0..1] for floats or [0..255] for integers).\n"
     ]
    },
    {
     "name": "stdout",
     "output_type": "stream",
     "text": [
      "1/1 [==============================] - 0s 121ms/step\n",
      "1/1 [==============================] - 0s 154ms/step\n"
     ]
    },
    {
     "name": "stderr",
     "output_type": "stream",
     "text": [
      "Clipping input data to the valid range for imshow with RGB data ([0..1] for floats or [0..255] for integers).\n"
     ]
    },
    {
     "name": "stdout",
     "output_type": "stream",
     "text": [
      "1/1 [==============================] - 0s 165ms/step\n",
      "1/1 [==============================] - 0s 180ms/step\n"
     ]
    },
    {
     "name": "stderr",
     "output_type": "stream",
     "text": [
      "Clipping input data to the valid range for imshow with RGB data ([0..1] for floats or [0..255] for integers).\n"
     ]
    },
    {
     "name": "stdout",
     "output_type": "stream",
     "text": [
      "\n",
      "Done!\n",
      "Setting CPU\n",
      "9/9 [==============================] - 24s 3s/step\n",
      "9/9 [==============================] - 19s 2s/step\n",
      "9/9 [==============================] - 281s 31s/step\n",
      "Saving Model...\n",
      "5/5 [==============================] - 14s 3s/step\n",
      "5/5 [==============================] - 11s 2s/step\n",
      "5/5 [==============================] - 152s 31s/step\n",
      "Evaluating Model...\n",
      "\n",
      "Model Evaluation:\n",
      "{'Timestamp': '2024-05-07 11:12:03.986320', 'R2': 0.8135069887518602, 'MAE': 650282.125, 'Percentage Error': 15.538325805749869, 'MSE': 899431851852.5, 'Feature Importances': {'image_predictions': 0.028133059327420638, 'reconstruction_error': 0.016840053158193015, 'postal_code': 0.06210756038608747, 'type': 0.0, 'size': 0.6388304042587412, 'basement_size': 0.0, 'rooms': 0.007028656062783309, 'year_built': 0.0238678940712659, 'year_rebuilt': 0.05336964086037192, 'energy_label': 0.00675649392843578, 'postal_avg_sqm_price': 0.1269459952230167, 'lat': 0.01410890761525297, 'lng': 0.022011335108431243}}\n",
      "\n",
      "Median Evaluation:\n",
      "{'R2': 0.8132266007428985, 'MAE': 648950.0625, 'Percentage Error': 15.513697755852446, 'MSE': 900784127224.375}\n",
      "Feauter Importance...\n",
      "{'image_predictions': 0.028133059327420638, 'reconstruction_error': 0.016840053158193015, 'postal_code': 0.06210756038608747, 'type': 0.0, 'size': 0.6388304042587412, 'basement_size': 0.0, 'rooms': 0.007028656062783309, 'year_built': 0.0238678940712659, 'year_rebuilt': 0.05336964086037192, 'energy_label': 0.00675649392843578, 'postal_avg_sqm_price': 0.1269459952230167, 'lat': 0.01410890761525297, 'lng': 0.022011335108431243}\n"
     ]
    },
    {
     "name": "stderr",
     "output_type": "stream",
     "text": [
      "/usr/local/lib/python3.10/site-packages/sklearn/base.py:439: UserWarning: X does not have valid feature names, but RandomForestRegressor was fitted with feature names\n",
      "  warnings.warn(\n"
     ]
    },
    {
     "name": "stdout",
     "output_type": "stream",
     "text": [
      "\n",
      "Saving Feature Importance\n",
      "\n",
      "Saving Reconstructions\n",
      "5/5 [==============================] - 16s 3s/step\n",
      "5/5 [==============================] - 11s 2s/step\n",
      "[ 30  41  79  18  12 136 147  54 101 107]\n",
      "[ 93  44 100  16  50 156 135 130  53 134]\n",
      "1/1 [==============================] - 0s 142ms/step\n",
      "1/1 [==============================] - 0s 139ms/step\n"
     ]
    },
    {
     "name": "stderr",
     "output_type": "stream",
     "text": [
      "Clipping input data to the valid range for imshow with RGB data ([0..1] for floats or [0..255] for integers).\n"
     ]
    },
    {
     "name": "stdout",
     "output_type": "stream",
     "text": [
      "1/1 [==============================] - 0s 255ms/step\n",
      "1/1 [==============================] - 0s 154ms/step\n"
     ]
    },
    {
     "name": "stderr",
     "output_type": "stream",
     "text": [
      "Clipping input data to the valid range for imshow with RGB data ([0..1] for floats or [0..255] for integers).\n"
     ]
    },
    {
     "name": "stdout",
     "output_type": "stream",
     "text": [
      "1/1 [==============================] - 0s 129ms/step\n",
      "1/1 [==============================] - 0s 132ms/step\n"
     ]
    },
    {
     "name": "stderr",
     "output_type": "stream",
     "text": [
      "Clipping input data to the valid range for imshow with RGB data ([0..1] for floats or [0..255] for integers).\n"
     ]
    },
    {
     "name": "stdout",
     "output_type": "stream",
     "text": [
      "1/1 [==============================] - 0s 151ms/step\n",
      "1/1 [==============================] - 0s 116ms/step\n"
     ]
    },
    {
     "name": "stderr",
     "output_type": "stream",
     "text": [
      "Clipping input data to the valid range for imshow with RGB data ([0..1] for floats or [0..255] for integers).\n"
     ]
    },
    {
     "name": "stdout",
     "output_type": "stream",
     "text": [
      "1/1 [==============================] - 0s 156ms/step\n",
      "1/1 [==============================] - 0s 161ms/step\n"
     ]
    },
    {
     "name": "stderr",
     "output_type": "stream",
     "text": [
      "Clipping input data to the valid range for imshow with RGB data ([0..1] for floats or [0..255] for integers).\n"
     ]
    },
    {
     "name": "stdout",
     "output_type": "stream",
     "text": [
      "1/1 [==============================] - 0s 153ms/step\n",
      "1/1 [==============================] - 0s 134ms/step\n"
     ]
    },
    {
     "name": "stderr",
     "output_type": "stream",
     "text": [
      "Clipping input data to the valid range for imshow with RGB data ([0..1] for floats or [0..255] for integers).\n"
     ]
    },
    {
     "name": "stdout",
     "output_type": "stream",
     "text": [
      "1/1 [==============================] - 0s 132ms/step\n",
      "1/1 [==============================] - 0s 141ms/step\n"
     ]
    },
    {
     "name": "stderr",
     "output_type": "stream",
     "text": [
      "Clipping input data to the valid range for imshow with RGB data ([0..1] for floats or [0..255] for integers).\n"
     ]
    },
    {
     "name": "stdout",
     "output_type": "stream",
     "text": [
      "1/1 [==============================] - 0s 147ms/step\n",
      "1/1 [==============================] - 0s 177ms/step\n"
     ]
    },
    {
     "name": "stderr",
     "output_type": "stream",
     "text": [
      "Clipping input data to the valid range for imshow with RGB data ([0..1] for floats or [0..255] for integers).\n"
     ]
    },
    {
     "name": "stdout",
     "output_type": "stream",
     "text": [
      "1/1 [==============================] - 0s 135ms/step\n",
      "1/1 [==============================] - 0s 130ms/step\n"
     ]
    },
    {
     "name": "stderr",
     "output_type": "stream",
     "text": [
      "Clipping input data to the valid range for imshow with RGB data ([0..1] for floats or [0..255] for integers).\n"
     ]
    },
    {
     "name": "stdout",
     "output_type": "stream",
     "text": [
      "1/1 [==============================] - 0s 116ms/step\n",
      "1/1 [==============================] - 0s 107ms/step\n"
     ]
    },
    {
     "name": "stderr",
     "output_type": "stream",
     "text": [
      "Clipping input data to the valid range for imshow with RGB data ([0..1] for floats or [0..255] for integers).\n"
     ]
    },
    {
     "name": "stdout",
     "output_type": "stream",
     "text": [
      "1/1 [==============================] - 0s 133ms/step\n",
      "1/1 [==============================] - 0s 110ms/step\n"
     ]
    },
    {
     "name": "stderr",
     "output_type": "stream",
     "text": [
      "Clipping input data to the valid range for imshow with RGB data ([0..1] for floats or [0..255] for integers).\n"
     ]
    },
    {
     "name": "stdout",
     "output_type": "stream",
     "text": [
      "1/1 [==============================] - 0s 173ms/step\n",
      "1/1 [==============================] - 0s 266ms/step\n"
     ]
    },
    {
     "name": "stderr",
     "output_type": "stream",
     "text": [
      "Clipping input data to the valid range for imshow with RGB data ([0..1] for floats or [0..255] for integers).\n"
     ]
    },
    {
     "name": "stdout",
     "output_type": "stream",
     "text": [
      "1/1 [==============================] - 0s 139ms/step\n",
      "1/1 [==============================] - 0s 150ms/step\n"
     ]
    },
    {
     "name": "stderr",
     "output_type": "stream",
     "text": [
      "Clipping input data to the valid range for imshow with RGB data ([0..1] for floats or [0..255] for integers).\n"
     ]
    },
    {
     "name": "stdout",
     "output_type": "stream",
     "text": [
      "1/1 [==============================] - 0s 110ms/step\n",
      "1/1 [==============================] - 0s 175ms/step\n"
     ]
    },
    {
     "name": "stderr",
     "output_type": "stream",
     "text": [
      "Clipping input data to the valid range for imshow with RGB data ([0..1] for floats or [0..255] for integers).\n"
     ]
    },
    {
     "name": "stdout",
     "output_type": "stream",
     "text": [
      "1/1 [==============================] - 0s 163ms/step\n",
      "1/1 [==============================] - 0s 158ms/step\n"
     ]
    },
    {
     "name": "stderr",
     "output_type": "stream",
     "text": [
      "Clipping input data to the valid range for imshow with RGB data ([0..1] for floats or [0..255] for integers).\n"
     ]
    },
    {
     "name": "stdout",
     "output_type": "stream",
     "text": [
      "1/1 [==============================] - 0s 122ms/step\n",
      "1/1 [==============================] - 0s 128ms/step\n"
     ]
    },
    {
     "name": "stderr",
     "output_type": "stream",
     "text": [
      "Clipping input data to the valid range for imshow with RGB data ([0..1] for floats or [0..255] for integers).\n"
     ]
    },
    {
     "name": "stdout",
     "output_type": "stream",
     "text": [
      "1/1 [==============================] - 0s 141ms/step\n",
      "1/1 [==============================] - 0s 127ms/step\n"
     ]
    },
    {
     "name": "stderr",
     "output_type": "stream",
     "text": [
      "Clipping input data to the valid range for imshow with RGB data ([0..1] for floats or [0..255] for integers).\n"
     ]
    },
    {
     "name": "stdout",
     "output_type": "stream",
     "text": [
      "1/1 [==============================] - 0s 149ms/step\n",
      "1/1 [==============================] - 0s 152ms/step\n"
     ]
    },
    {
     "name": "stderr",
     "output_type": "stream",
     "text": [
      "Clipping input data to the valid range for imshow with RGB data ([0..1] for floats or [0..255] for integers).\n"
     ]
    },
    {
     "name": "stdout",
     "output_type": "stream",
     "text": [
      "1/1 [==============================] - 0s 114ms/step\n",
      "1/1 [==============================] - 0s 125ms/step\n"
     ]
    },
    {
     "name": "stderr",
     "output_type": "stream",
     "text": [
      "Clipping input data to the valid range for imshow with RGB data ([0..1] for floats or [0..255] for integers).\n"
     ]
    },
    {
     "name": "stdout",
     "output_type": "stream",
     "text": [
      "1/1 [==============================] - 0s 125ms/step\n",
      "1/1 [==============================] - 0s 115ms/step\n"
     ]
    },
    {
     "name": "stderr",
     "output_type": "stream",
     "text": [
      "Clipping input data to the valid range for imshow with RGB data ([0..1] for floats or [0..255] for integers).\n"
     ]
    },
    {
     "name": "stdout",
     "output_type": "stream",
     "text": [
      "\n",
      "Done!\n",
      "Setting CPU\n",
      "9/9 [==============================] - 19s 2s/step\n",
      "9/9 [==============================] - 17s 2s/step\n",
      "9/9 [==============================] - 216s 24s/step\n",
      "Saving Model...\n",
      "5/5 [==============================] - 11s 2s/step\n",
      "5/5 [==============================] - 11s 2s/step\n",
      "5/5 [==============================] - 101s 19s/step\n",
      "Evaluating Model...\n",
      "\n",
      "Model Evaluation:\n",
      "{'Timestamp': '2024-05-07 11:20:48.900412', 'R2': 0.8077561165569399, 'MAE': 658842.9375, 'Percentage Error': 15.679971414712995, 'MSE': 927167570169.375, 'Feature Importances': {'image_predictions': 0.03284685335967766, 'reconstruction_error': 0.015702707760097363, 'postal_code': 0.07174913638400084, 'type': 0.0, 'size': 0.6383696216568494, 'basement_size': 0.0, 'rooms': 0.007594591722336786, 'year_built': 0.03045115750102201, 'year_rebuilt': 0.04683242366276911, 'energy_label': 0.006788515098714438, 'postal_avg_sqm_price': 0.11586194601229231, 'lat': 0.012340222514267685, 'lng': 0.021462824327972484}}\n",
      "\n",
      "Median Evaluation:\n",
      "{'R2': 0.8126657697561032, 'MAE': 649616.09375, 'Percentage Error': 15.522682704695583, 'MSE': 903488943075.9375}\n",
      "Feauter Importance...\n",
      "{'image_predictions': 0.03284685335967766, 'reconstruction_error': 0.015702707760097363, 'postal_code': 0.07174913638400084, 'type': 0.0, 'size': 0.6383696216568494, 'basement_size': 0.0, 'rooms': 0.007594591722336786, 'year_built': 0.03045115750102201, 'year_rebuilt': 0.04683242366276911, 'energy_label': 0.006788515098714438, 'postal_avg_sqm_price': 0.11586194601229231, 'lat': 0.012340222514267685, 'lng': 0.021462824327972484}\n"
     ]
    },
    {
     "name": "stderr",
     "output_type": "stream",
     "text": [
      "/usr/local/lib/python3.10/site-packages/sklearn/base.py:439: UserWarning: X does not have valid feature names, but RandomForestRegressor was fitted with feature names\n",
      "  warnings.warn(\n"
     ]
    },
    {
     "name": "stdout",
     "output_type": "stream",
     "text": [
      "\n",
      "Saving Feature Importance\n",
      "\n",
      "Saving Reconstructions\n",
      "5/5 [==============================] - 9s 2s/step\n",
      "5/5 [==============================] - 10s 2s/step\n",
      "[ 30  41  79  18  12 136 147  54 101 107]\n",
      "[ 93  44 100  16  50 156 135 130  53 134]\n",
      "1/1 [==============================] - 0s 138ms/step\n",
      "1/1 [==============================] - 0s 153ms/step\n"
     ]
    },
    {
     "name": "stderr",
     "output_type": "stream",
     "text": [
      "Clipping input data to the valid range for imshow with RGB data ([0..1] for floats or [0..255] for integers).\n"
     ]
    },
    {
     "name": "stdout",
     "output_type": "stream",
     "text": [
      "1/1 [==============================] - 0s 182ms/step\n",
      "1/1 [==============================] - 0s 255ms/step\n"
     ]
    },
    {
     "name": "stderr",
     "output_type": "stream",
     "text": [
      "Clipping input data to the valid range for imshow with RGB data ([0..1] for floats or [0..255] for integers).\n"
     ]
    },
    {
     "name": "stdout",
     "output_type": "stream",
     "text": [
      "1/1 [==============================] - 0s 147ms/step\n",
      "1/1 [==============================] - 0s 132ms/step\n"
     ]
    },
    {
     "name": "stderr",
     "output_type": "stream",
     "text": [
      "Clipping input data to the valid range for imshow with RGB data ([0..1] for floats or [0..255] for integers).\n"
     ]
    },
    {
     "name": "stdout",
     "output_type": "stream",
     "text": [
      "1/1 [==============================] - 0s 164ms/step\n",
      "1/1 [==============================] - 0s 125ms/step\n"
     ]
    },
    {
     "name": "stderr",
     "output_type": "stream",
     "text": [
      "Clipping input data to the valid range for imshow with RGB data ([0..1] for floats or [0..255] for integers).\n"
     ]
    },
    {
     "name": "stdout",
     "output_type": "stream",
     "text": [
      "1/1 [==============================] - 0s 150ms/step\n",
      "1/1 [==============================] - 0s 154ms/step\n"
     ]
    },
    {
     "name": "stderr",
     "output_type": "stream",
     "text": [
      "Clipping input data to the valid range for imshow with RGB data ([0..1] for floats or [0..255] for integers).\n"
     ]
    },
    {
     "name": "stdout",
     "output_type": "stream",
     "text": [
      "1/1 [==============================] - 0s 134ms/step\n",
      "1/1 [==============================] - 0s 142ms/step\n"
     ]
    },
    {
     "name": "stderr",
     "output_type": "stream",
     "text": [
      "Clipping input data to the valid range for imshow with RGB data ([0..1] for floats or [0..255] for integers).\n"
     ]
    },
    {
     "name": "stdout",
     "output_type": "stream",
     "text": [
      "1/1 [==============================] - 0s 168ms/step\n",
      "1/1 [==============================] - 0s 110ms/step\n"
     ]
    },
    {
     "name": "stderr",
     "output_type": "stream",
     "text": [
      "Clipping input data to the valid range for imshow with RGB data ([0..1] for floats or [0..255] for integers).\n"
     ]
    },
    {
     "name": "stdout",
     "output_type": "stream",
     "text": [
      "1/1 [==============================] - 0s 122ms/step\n",
      "1/1 [==============================] - 0s 111ms/step\n"
     ]
    },
    {
     "name": "stderr",
     "output_type": "stream",
     "text": [
      "Clipping input data to the valid range for imshow with RGB data ([0..1] for floats or [0..255] for integers).\n"
     ]
    },
    {
     "name": "stdout",
     "output_type": "stream",
     "text": [
      "1/1 [==============================] - 0s 120ms/step\n",
      "1/1 [==============================] - 0s 150ms/step\n"
     ]
    },
    {
     "name": "stderr",
     "output_type": "stream",
     "text": [
      "Clipping input data to the valid range for imshow with RGB data ([0..1] for floats or [0..255] for integers).\n"
     ]
    },
    {
     "name": "stdout",
     "output_type": "stream",
     "text": [
      "1/1 [==============================] - 0s 124ms/step\n",
      "1/1 [==============================] - 0s 131ms/step\n"
     ]
    },
    {
     "name": "stderr",
     "output_type": "stream",
     "text": [
      "Clipping input data to the valid range for imshow with RGB data ([0..1] for floats or [0..255] for integers).\n"
     ]
    },
    {
     "name": "stdout",
     "output_type": "stream",
     "text": [
      "1/1 [==============================] - 0s 140ms/step\n",
      "1/1 [==============================] - 0s 126ms/step\n"
     ]
    },
    {
     "name": "stderr",
     "output_type": "stream",
     "text": [
      "Clipping input data to the valid range for imshow with RGB data ([0..1] for floats or [0..255] for integers).\n"
     ]
    },
    {
     "name": "stdout",
     "output_type": "stream",
     "text": [
      "1/1 [==============================] - 0s 138ms/step\n",
      "1/1 [==============================] - 0s 121ms/step\n"
     ]
    },
    {
     "name": "stderr",
     "output_type": "stream",
     "text": [
      "Clipping input data to the valid range for imshow with RGB data ([0..1] for floats or [0..255] for integers).\n"
     ]
    },
    {
     "name": "stdout",
     "output_type": "stream",
     "text": [
      "1/1 [==============================] - 0s 120ms/step\n",
      "1/1 [==============================] - 0s 123ms/step\n"
     ]
    },
    {
     "name": "stderr",
     "output_type": "stream",
     "text": [
      "Clipping input data to the valid range for imshow with RGB data ([0..1] for floats or [0..255] for integers).\n"
     ]
    },
    {
     "name": "stdout",
     "output_type": "stream",
     "text": [
      "1/1 [==============================] - 0s 154ms/step\n",
      "1/1 [==============================] - 0s 132ms/step\n"
     ]
    },
    {
     "name": "stderr",
     "output_type": "stream",
     "text": [
      "Clipping input data to the valid range for imshow with RGB data ([0..1] for floats or [0..255] for integers).\n"
     ]
    },
    {
     "name": "stdout",
     "output_type": "stream",
     "text": [
      "1/1 [==============================] - 0s 153ms/step\n",
      "1/1 [==============================] - 0s 179ms/step\n"
     ]
    },
    {
     "name": "stderr",
     "output_type": "stream",
     "text": [
      "Clipping input data to the valid range for imshow with RGB data ([0..1] for floats or [0..255] for integers).\n"
     ]
    },
    {
     "name": "stdout",
     "output_type": "stream",
     "text": [
      "1/1 [==============================] - 0s 126ms/step\n",
      "1/1 [==============================] - 0s 145ms/step\n"
     ]
    },
    {
     "name": "stderr",
     "output_type": "stream",
     "text": [
      "Clipping input data to the valid range for imshow with RGB data ([0..1] for floats or [0..255] for integers).\n"
     ]
    },
    {
     "name": "stdout",
     "output_type": "stream",
     "text": [
      "1/1 [==============================] - 0s 209ms/step\n",
      "1/1 [==============================] - 0s 204ms/step\n"
     ]
    },
    {
     "name": "stderr",
     "output_type": "stream",
     "text": [
      "Clipping input data to the valid range for imshow with RGB data ([0..1] for floats or [0..255] for integers).\n"
     ]
    },
    {
     "name": "stdout",
     "output_type": "stream",
     "text": [
      "1/1 [==============================] - 0s 113ms/step\n",
      "1/1 [==============================] - 0s 122ms/step\n"
     ]
    },
    {
     "name": "stderr",
     "output_type": "stream",
     "text": [
      "Clipping input data to the valid range for imshow with RGB data ([0..1] for floats or [0..255] for integers).\n"
     ]
    },
    {
     "name": "stdout",
     "output_type": "stream",
     "text": [
      "1/1 [==============================] - 0s 122ms/step\n",
      "1/1 [==============================] - 0s 135ms/step\n"
     ]
    },
    {
     "name": "stderr",
     "output_type": "stream",
     "text": [
      "Clipping input data to the valid range for imshow with RGB data ([0..1] for floats or [0..255] for integers).\n"
     ]
    },
    {
     "name": "stdout",
     "output_type": "stream",
     "text": [
      "1/1 [==============================] - 0s 225ms/step\n",
      "1/1 [==============================] - 0s 141ms/step\n"
     ]
    },
    {
     "name": "stderr",
     "output_type": "stream",
     "text": [
      "Clipping input data to the valid range for imshow with RGB data ([0..1] for floats or [0..255] for integers).\n"
     ]
    },
    {
     "name": "stdout",
     "output_type": "stream",
     "text": [
      "\n",
      "Done!\n"
     ]
    }
   ],
   "source": [
    "from models import CNN_AE_RF_model\n",
    "#img_model =  keras.models.load_model(f\"{MODELS_PATH}/MobileNetV2/model\")\n",
    "TYPE = 'CNN_AE_RF'\n",
    "MODEL_NAME: str = \"VGG16_AE_RF\"\n",
    "FUNCTION: object = CNN_AE_RF_model\n",
    "ARGS: tuple = (\n",
    "    VGG_16_CNN_Img_model, #keras.models.load_model(f\"{MODELS_PATH}/MobileNetV2/model\")\n",
    "    AE_448, #Or none for training it from scratch\n",
    "    train2_images_448,\n",
    "    train2_features,\n",
    "    train2_prices,\n",
    ")\n",
    "for i in range(10):\n",
    "    train_save_model(FUNCTION, ARGS, test_images_448, test_features,  test_prices, f\"{MODELS_PATH}/{MODEL_NAME}\", USE_GPU, TYPE)"
   ]
  },
  {
   "cell_type": "markdown",
   "metadata": {},
   "source": [
    "#### EfficientNet + RF + Features"
   ]
  },
  {
   "cell_type": "code",
   "execution_count": 89,
   "metadata": {},
   "outputs": [
    {
     "name": "stdout",
     "output_type": "stream",
     "text": [
      "Setting CPU\n",
      "9/9 [==============================] - 20s 2s/step\n",
      "9/9 [==============================] - 17s 2s/step\n",
      "9/9 [==============================] - 96s 11s/step\n",
      "Saving Model...\n",
      "5/5 [==============================] - 11s 2s/step\n",
      "5/5 [==============================] - 10s 2s/step\n",
      "5/5 [==============================] - 54s 11s/step\n",
      "Evaluating Model...\n",
      "\n",
      "Model Evaluation:\n",
      "{'Timestamp': '2024-05-07 11:27:08.877814', 'R2': 0.8227527074025867, 'MAE': 623262.0625, 'Percentage Error': 14.715392437159744, 'MSE': 854840937736.875, 'Feature Importances': {'image_predictions': 0.018835627843759348, 'reconstruction_error': 0.019009695082294914, 'postal_code': 0.050968676025551676, 'type': 0.0, 'size': 0.6368478708584009, 'basement_size': 0.0, 'rooms': 0.006541261930212639, 'year_built': 0.03447860749516593, 'year_rebuilt': 0.05735733082835199, 'energy_label': 0.007165443206178011, 'postal_avg_sqm_price': 0.13086761584141635, 'lat': 0.014917227963847217, 'lng': 0.023010642924821297}}\n",
      "\n",
      "Median Evaluation:\n",
      "{'R2': 0.8227527074025867, 'MAE': 623262.0625, 'Percentage Error': 14.715392437159744, 'MSE': 854840937736.875}\n",
      "Feauter Importance...\n",
      "{'image_predictions': 0.018835627843759348, 'reconstruction_error': 0.019009695082294914, 'postal_code': 0.050968676025551676, 'type': 0.0, 'size': 0.6368478708584009, 'basement_size': 0.0, 'rooms': 0.006541261930212639, 'year_built': 0.03447860749516593, 'year_rebuilt': 0.05735733082835199, 'energy_label': 0.007165443206178011, 'postal_avg_sqm_price': 0.13086761584141635, 'lat': 0.014917227963847217, 'lng': 0.023010642924821297}\n"
     ]
    },
    {
     "name": "stderr",
     "output_type": "stream",
     "text": [
      "/usr/local/lib/python3.10/site-packages/sklearn/base.py:439: UserWarning: X does not have valid feature names, but RandomForestRegressor was fitted with feature names\n",
      "  warnings.warn(\n"
     ]
    },
    {
     "name": "stdout",
     "output_type": "stream",
     "text": [
      "\n",
      "Saving Feature Importance\n",
      "\n",
      "Saving Reconstructions\n",
      "5/5 [==============================] - 10s 2s/step\n",
      "5/5 [==============================] - 9s 2s/step\n",
      "[ 30  41  79  18  12 136 147  54 101 107]\n",
      "[ 93  44 100  16  50 156 135 130  53 134]\n",
      "1/1 [==============================] - 0s 131ms/step\n",
      "1/1 [==============================] - 0s 144ms/step\n"
     ]
    },
    {
     "name": "stderr",
     "output_type": "stream",
     "text": [
      "Clipping input data to the valid range for imshow with RGB data ([0..1] for floats or [0..255] for integers).\n"
     ]
    },
    {
     "name": "stdout",
     "output_type": "stream",
     "text": [
      "1/1 [==============================] - 0s 135ms/step\n",
      "1/1 [==============================] - 0s 112ms/step\n"
     ]
    },
    {
     "name": "stderr",
     "output_type": "stream",
     "text": [
      "Clipping input data to the valid range for imshow with RGB data ([0..1] for floats or [0..255] for integers).\n"
     ]
    },
    {
     "name": "stdout",
     "output_type": "stream",
     "text": [
      "1/1 [==============================] - 0s 214ms/step\n",
      "1/1 [==============================] - 0s 108ms/step\n"
     ]
    },
    {
     "name": "stderr",
     "output_type": "stream",
     "text": [
      "Clipping input data to the valid range for imshow with RGB data ([0..1] for floats or [0..255] for integers).\n"
     ]
    },
    {
     "name": "stdout",
     "output_type": "stream",
     "text": [
      "1/1 [==============================] - 0s 112ms/step\n",
      "1/1 [==============================] - 0s 99ms/step\n"
     ]
    },
    {
     "name": "stderr",
     "output_type": "stream",
     "text": [
      "Clipping input data to the valid range for imshow with RGB data ([0..1] for floats or [0..255] for integers).\n"
     ]
    },
    {
     "name": "stdout",
     "output_type": "stream",
     "text": [
      "1/1 [==============================] - 0s 117ms/step\n",
      "1/1 [==============================] - 0s 111ms/step\n"
     ]
    },
    {
     "name": "stderr",
     "output_type": "stream",
     "text": [
      "Clipping input data to the valid range for imshow with RGB data ([0..1] for floats or [0..255] for integers).\n"
     ]
    },
    {
     "name": "stdout",
     "output_type": "stream",
     "text": [
      "1/1 [==============================] - 0s 111ms/step\n",
      "1/1 [==============================] - 0s 127ms/step\n"
     ]
    },
    {
     "name": "stderr",
     "output_type": "stream",
     "text": [
      "Clipping input data to the valid range for imshow with RGB data ([0..1] for floats or [0..255] for integers).\n"
     ]
    },
    {
     "name": "stdout",
     "output_type": "stream",
     "text": [
      "1/1 [==============================] - 0s 109ms/step\n",
      "1/1 [==============================] - 0s 105ms/step\n"
     ]
    },
    {
     "name": "stderr",
     "output_type": "stream",
     "text": [
      "Clipping input data to the valid range for imshow with RGB data ([0..1] for floats or [0..255] for integers).\n"
     ]
    },
    {
     "name": "stdout",
     "output_type": "stream",
     "text": [
      "1/1 [==============================] - 0s 105ms/step\n",
      "1/1 [==============================] - 0s 199ms/step\n"
     ]
    },
    {
     "name": "stderr",
     "output_type": "stream",
     "text": [
      "Clipping input data to the valid range for imshow with RGB data ([0..1] for floats or [0..255] for integers).\n"
     ]
    },
    {
     "name": "stdout",
     "output_type": "stream",
     "text": [
      "1/1 [==============================] - 0s 114ms/step\n",
      "1/1 [==============================] - 0s 127ms/step\n"
     ]
    },
    {
     "name": "stderr",
     "output_type": "stream",
     "text": [
      "Clipping input data to the valid range for imshow with RGB data ([0..1] for floats or [0..255] for integers).\n"
     ]
    },
    {
     "name": "stdout",
     "output_type": "stream",
     "text": [
      "1/1 [==============================] - 0s 168ms/step\n",
      "1/1 [==============================] - 0s 156ms/step\n"
     ]
    },
    {
     "name": "stderr",
     "output_type": "stream",
     "text": [
      "Clipping input data to the valid range for imshow with RGB data ([0..1] for floats or [0..255] for integers).\n"
     ]
    },
    {
     "name": "stdout",
     "output_type": "stream",
     "text": [
      "1/1 [==============================] - 0s 142ms/step\n",
      "1/1 [==============================] - 0s 116ms/step\n"
     ]
    },
    {
     "name": "stderr",
     "output_type": "stream",
     "text": [
      "Clipping input data to the valid range for imshow with RGB data ([0..1] for floats or [0..255] for integers).\n"
     ]
    },
    {
     "name": "stdout",
     "output_type": "stream",
     "text": [
      "1/1 [==============================] - 0s 127ms/step\n",
      "1/1 [==============================] - 0s 122ms/step\n"
     ]
    },
    {
     "name": "stderr",
     "output_type": "stream",
     "text": [
      "Clipping input data to the valid range for imshow with RGB data ([0..1] for floats or [0..255] for integers).\n"
     ]
    },
    {
     "name": "stdout",
     "output_type": "stream",
     "text": [
      "1/1 [==============================] - 0s 127ms/step\n",
      "1/1 [==============================] - 0s 129ms/step\n"
     ]
    },
    {
     "name": "stderr",
     "output_type": "stream",
     "text": [
      "Clipping input data to the valid range for imshow with RGB data ([0..1] for floats or [0..255] for integers).\n"
     ]
    },
    {
     "name": "stdout",
     "output_type": "stream",
     "text": [
      "1/1 [==============================] - 0s 136ms/step\n",
      "1/1 [==============================] - 0s 169ms/step\n"
     ]
    },
    {
     "name": "stderr",
     "output_type": "stream",
     "text": [
      "Clipping input data to the valid range for imshow with RGB data ([0..1] for floats or [0..255] for integers).\n"
     ]
    },
    {
     "name": "stdout",
     "output_type": "stream",
     "text": [
      "1/1 [==============================] - 0s 142ms/step\n",
      "1/1 [==============================] - 0s 153ms/step\n"
     ]
    },
    {
     "name": "stderr",
     "output_type": "stream",
     "text": [
      "Clipping input data to the valid range for imshow with RGB data ([0..1] for floats or [0..255] for integers).\n"
     ]
    },
    {
     "name": "stdout",
     "output_type": "stream",
     "text": [
      "1/1 [==============================] - 0s 266ms/step\n",
      "1/1 [==============================] - 0s 115ms/step\n"
     ]
    },
    {
     "name": "stderr",
     "output_type": "stream",
     "text": [
      "Clipping input data to the valid range for imshow with RGB data ([0..1] for floats or [0..255] for integers).\n"
     ]
    },
    {
     "name": "stdout",
     "output_type": "stream",
     "text": [
      "1/1 [==============================] - 0s 242ms/step\n",
      "1/1 [==============================] - 0s 249ms/step\n"
     ]
    },
    {
     "name": "stderr",
     "output_type": "stream",
     "text": [
      "Clipping input data to the valid range for imshow with RGB data ([0..1] for floats or [0..255] for integers).\n"
     ]
    },
    {
     "name": "stdout",
     "output_type": "stream",
     "text": [
      "1/1 [==============================] - 0s 161ms/step\n",
      "1/1 [==============================] - 0s 131ms/step\n"
     ]
    },
    {
     "name": "stderr",
     "output_type": "stream",
     "text": [
      "Clipping input data to the valid range for imshow with RGB data ([0..1] for floats or [0..255] for integers).\n"
     ]
    },
    {
     "name": "stdout",
     "output_type": "stream",
     "text": [
      "1/1 [==============================] - 0s 188ms/step\n",
      "1/1 [==============================] - 0s 123ms/step\n"
     ]
    },
    {
     "name": "stderr",
     "output_type": "stream",
     "text": [
      "Clipping input data to the valid range for imshow with RGB data ([0..1] for floats or [0..255] for integers).\n"
     ]
    },
    {
     "name": "stdout",
     "output_type": "stream",
     "text": [
      "1/1 [==============================] - 0s 118ms/step\n",
      "1/1 [==============================] - 0s 109ms/step\n"
     ]
    },
    {
     "name": "stderr",
     "output_type": "stream",
     "text": [
      "Clipping input data to the valid range for imshow with RGB data ([0..1] for floats or [0..255] for integers).\n"
     ]
    },
    {
     "name": "stdout",
     "output_type": "stream",
     "text": [
      "\n",
      "Done!\n",
      "Setting CPU\n",
      "9/9 [==============================] - 18s 2s/step\n",
      "9/9 [==============================] - 14s 2s/step\n",
      "9/9 [==============================] - 100s 11s/step\n",
      "Saving Model...\n",
      "5/5 [==============================] - 11s 2s/step\n",
      "5/5 [==============================] - 9s 2s/step\n",
      "5/5 [==============================] - 52s 10s/step\n",
      "Evaluating Model...\n",
      "\n",
      "Model Evaluation:\n",
      "{'Timestamp': '2024-05-07 11:33:07.615469', 'R2': 0.8053946646510394, 'MAE': 649742.1875, 'Percentage Error': 15.480863004812196, 'MSE': 938556549555.625, 'Feature Importances': {'image_predictions': 0.02485049472599012, 'reconstruction_error': 0.01946584033251523, 'postal_code': 0.06811468634516143, 'type': 0.0, 'size': 0.6342308902371968, 'basement_size': 0.0, 'rooms': 0.006297342399927507, 'year_built': 0.02998139332562802, 'year_rebuilt': 0.05347286704932617, 'energy_label': 0.0097164640828117, 'postal_avg_sqm_price': 0.11573881035859927, 'lat': 0.015350475896688183, 'lng': 0.02278073524615575}}\n",
      "\n",
      "Median Evaluation:\n",
      "{'R2': 0.814073686026813, 'MAE': 636502.125, 'Percentage Error': 15.098127720985971, 'MSE': 896698743646.25}\n",
      "Feauter Importance...\n",
      "{'image_predictions': 0.02485049472599012, 'reconstruction_error': 0.01946584033251523, 'postal_code': 0.06811468634516143, 'type': 0.0, 'size': 0.6342308902371968, 'basement_size': 0.0, 'rooms': 0.006297342399927507, 'year_built': 0.02998139332562802, 'year_rebuilt': 0.05347286704932617, 'energy_label': 0.0097164640828117, 'postal_avg_sqm_price': 0.11573881035859927, 'lat': 0.015350475896688183, 'lng': 0.02278073524615575}\n"
     ]
    },
    {
     "name": "stderr",
     "output_type": "stream",
     "text": [
      "/usr/local/lib/python3.10/site-packages/sklearn/base.py:439: UserWarning: X does not have valid feature names, but RandomForestRegressor was fitted with feature names\n",
      "  warnings.warn(\n"
     ]
    },
    {
     "name": "stdout",
     "output_type": "stream",
     "text": [
      "\n",
      "Saving Feature Importance\n",
      "\n",
      "Saving Reconstructions\n",
      "5/5 [==============================] - 11s 2s/step\n",
      "5/5 [==============================] - 9s 2s/step\n",
      "[ 30  41  79  18  12 136 147  54 101 107]\n",
      "[ 93  44 100  16  50 156 135 130  53 134]\n",
      "1/1 [==============================] - 0s 150ms/step\n",
      "1/1 [==============================] - 0s 156ms/step\n"
     ]
    },
    {
     "name": "stderr",
     "output_type": "stream",
     "text": [
      "Clipping input data to the valid range for imshow with RGB data ([0..1] for floats or [0..255] for integers).\n"
     ]
    },
    {
     "name": "stdout",
     "output_type": "stream",
     "text": [
      "1/1 [==============================] - 0s 149ms/step\n",
      "1/1 [==============================] - 0s 111ms/step\n"
     ]
    },
    {
     "name": "stderr",
     "output_type": "stream",
     "text": [
      "Clipping input data to the valid range for imshow with RGB data ([0..1] for floats or [0..255] for integers).\n"
     ]
    },
    {
     "name": "stdout",
     "output_type": "stream",
     "text": [
      "1/1 [==============================] - 0s 128ms/step\n",
      "1/1 [==============================] - 0s 126ms/step\n"
     ]
    },
    {
     "name": "stderr",
     "output_type": "stream",
     "text": [
      "Clipping input data to the valid range for imshow with RGB data ([0..1] for floats or [0..255] for integers).\n"
     ]
    },
    {
     "name": "stdout",
     "output_type": "stream",
     "text": [
      "1/1 [==============================] - 0s 123ms/step\n",
      "1/1 [==============================] - 0s 129ms/step\n"
     ]
    },
    {
     "name": "stderr",
     "output_type": "stream",
     "text": [
      "Clipping input data to the valid range for imshow with RGB data ([0..1] for floats or [0..255] for integers).\n"
     ]
    },
    {
     "name": "stdout",
     "output_type": "stream",
     "text": [
      "1/1 [==============================] - 0s 129ms/step\n",
      "1/1 [==============================] - 0s 120ms/step\n"
     ]
    },
    {
     "name": "stderr",
     "output_type": "stream",
     "text": [
      "Clipping input data to the valid range for imshow with RGB data ([0..1] for floats or [0..255] for integers).\n"
     ]
    },
    {
     "name": "stdout",
     "output_type": "stream",
     "text": [
      "1/1 [==============================] - 0s 115ms/step\n",
      "1/1 [==============================] - 0s 117ms/step\n"
     ]
    },
    {
     "name": "stderr",
     "output_type": "stream",
     "text": [
      "Clipping input data to the valid range for imshow with RGB data ([0..1] for floats or [0..255] for integers).\n"
     ]
    },
    {
     "name": "stdout",
     "output_type": "stream",
     "text": [
      "1/1 [==============================] - 0s 133ms/step\n",
      "1/1 [==============================] - 0s 118ms/step\n"
     ]
    },
    {
     "name": "stderr",
     "output_type": "stream",
     "text": [
      "Clipping input data to the valid range for imshow with RGB data ([0..1] for floats or [0..255] for integers).\n"
     ]
    },
    {
     "name": "stdout",
     "output_type": "stream",
     "text": [
      "1/1 [==============================] - 0s 151ms/step\n",
      "1/1 [==============================] - 0s 135ms/step\n"
     ]
    },
    {
     "name": "stderr",
     "output_type": "stream",
     "text": [
      "Clipping input data to the valid range for imshow with RGB data ([0..1] for floats or [0..255] for integers).\n"
     ]
    },
    {
     "name": "stdout",
     "output_type": "stream",
     "text": [
      "1/1 [==============================] - 0s 124ms/step\n",
      "1/1 [==============================] - 0s 115ms/step\n"
     ]
    },
    {
     "name": "stderr",
     "output_type": "stream",
     "text": [
      "Clipping input data to the valid range for imshow with RGB data ([0..1] for floats or [0..255] for integers).\n"
     ]
    },
    {
     "name": "stdout",
     "output_type": "stream",
     "text": [
      "1/1 [==============================] - 0s 121ms/step\n",
      "1/1 [==============================] - 0s 117ms/step\n"
     ]
    },
    {
     "name": "stderr",
     "output_type": "stream",
     "text": [
      "Clipping input data to the valid range for imshow with RGB data ([0..1] for floats or [0..255] for integers).\n"
     ]
    },
    {
     "name": "stdout",
     "output_type": "stream",
     "text": [
      "1/1 [==============================] - 0s 115ms/step\n",
      "1/1 [==============================] - 0s 114ms/step\n"
     ]
    },
    {
     "name": "stderr",
     "output_type": "stream",
     "text": [
      "Clipping input data to the valid range for imshow with RGB data ([0..1] for floats or [0..255] for integers).\n"
     ]
    },
    {
     "name": "stdout",
     "output_type": "stream",
     "text": [
      "1/1 [==============================] - 0s 184ms/step\n",
      "1/1 [==============================] - 0s 114ms/step\n"
     ]
    },
    {
     "name": "stderr",
     "output_type": "stream",
     "text": [
      "Clipping input data to the valid range for imshow with RGB data ([0..1] for floats or [0..255] for integers).\n"
     ]
    },
    {
     "name": "stdout",
     "output_type": "stream",
     "text": [
      "1/1 [==============================] - 0s 153ms/step\n",
      "1/1 [==============================] - 0s 146ms/step\n"
     ]
    },
    {
     "name": "stderr",
     "output_type": "stream",
     "text": [
      "Clipping input data to the valid range for imshow with RGB data ([0..1] for floats or [0..255] for integers).\n"
     ]
    },
    {
     "name": "stdout",
     "output_type": "stream",
     "text": [
      "1/1 [==============================] - 0s 131ms/step\n",
      "1/1 [==============================] - 0s 106ms/step\n"
     ]
    },
    {
     "name": "stderr",
     "output_type": "stream",
     "text": [
      "Clipping input data to the valid range for imshow with RGB data ([0..1] for floats or [0..255] for integers).\n"
     ]
    },
    {
     "name": "stdout",
     "output_type": "stream",
     "text": [
      "1/1 [==============================] - 0s 132ms/step\n",
      "1/1 [==============================] - 0s 117ms/step\n"
     ]
    },
    {
     "name": "stderr",
     "output_type": "stream",
     "text": [
      "Clipping input data to the valid range for imshow with RGB data ([0..1] for floats or [0..255] for integers).\n"
     ]
    },
    {
     "name": "stdout",
     "output_type": "stream",
     "text": [
      "1/1 [==============================] - 0s 186ms/step\n",
      "1/1 [==============================] - 0s 138ms/step\n"
     ]
    },
    {
     "name": "stderr",
     "output_type": "stream",
     "text": [
      "Clipping input data to the valid range for imshow with RGB data ([0..1] for floats or [0..255] for integers).\n"
     ]
    },
    {
     "name": "stdout",
     "output_type": "stream",
     "text": [
      "1/1 [==============================] - 0s 158ms/step\n",
      "1/1 [==============================] - 0s 126ms/step\n"
     ]
    },
    {
     "name": "stderr",
     "output_type": "stream",
     "text": [
      "Clipping input data to the valid range for imshow with RGB data ([0..1] for floats or [0..255] for integers).\n"
     ]
    },
    {
     "name": "stdout",
     "output_type": "stream",
     "text": [
      "1/1 [==============================] - 0s 116ms/step\n",
      "1/1 [==============================] - 0s 102ms/step\n"
     ]
    },
    {
     "name": "stderr",
     "output_type": "stream",
     "text": [
      "Clipping input data to the valid range for imshow with RGB data ([0..1] for floats or [0..255] for integers).\n"
     ]
    },
    {
     "name": "stdout",
     "output_type": "stream",
     "text": [
      "1/1 [==============================] - 0s 151ms/step\n",
      "1/1 [==============================] - 0s 121ms/step\n"
     ]
    },
    {
     "name": "stderr",
     "output_type": "stream",
     "text": [
      "Clipping input data to the valid range for imshow with RGB data ([0..1] for floats or [0..255] for integers).\n"
     ]
    },
    {
     "name": "stdout",
     "output_type": "stream",
     "text": [
      "1/1 [==============================] - 0s 123ms/step\n",
      "1/1 [==============================] - 0s 112ms/step\n"
     ]
    },
    {
     "name": "stderr",
     "output_type": "stream",
     "text": [
      "Clipping input data to the valid range for imshow with RGB data ([0..1] for floats or [0..255] for integers).\n"
     ]
    },
    {
     "name": "stdout",
     "output_type": "stream",
     "text": [
      "\n",
      "Done!\n",
      "Setting CPU\n",
      "9/9 [==============================] - 21s 2s/step\n",
      "9/9 [==============================] - 17s 2s/step\n",
      "9/9 [==============================] - 97s 11s/step\n",
      "Saving Model...\n",
      "5/5 [==============================] - 10s 2s/step\n",
      "5/5 [==============================] - 8s 2s/step\n",
      "5/5 [==============================] - 55s 11s/step\n",
      "Evaluating Model...\n",
      "\n",
      "Model Evaluation:\n",
      "{'Timestamp': '2024-05-07 11:38:47.002737', 'R2': 0.8143066391053269, 'MAE': 645174.8125, 'Percentage Error': 15.489967028696647, 'MSE': 895575240854.375, 'Feature Importances': {'image_predictions': 0.019517723120930936, 'reconstruction_error': 0.020906086189274344, 'postal_code': 0.06723639074399552, 'type': 0.0, 'size': 0.6462394185645214, 'basement_size': 0.0, 'rooms': 0.007780302867143139, 'year_built': 0.027698163122512495, 'year_rebuilt': 0.044959045359704894, 'energy_label': 0.008494093667147096, 'postal_avg_sqm_price': 0.1167094828979299, 'lat': 0.016083502740622764, 'lng': 0.024375790726217646}}\n",
      "\n",
      "Median Evaluation:\n",
      "{'R2': 0.8143066391053269, 'MAE': 645174.8125, 'Percentage Error': 15.480863004812196, 'MSE': 895575240854.375}\n",
      "Feauter Importance...\n",
      "{'image_predictions': 0.019517723120930936, 'reconstruction_error': 0.020906086189274344, 'postal_code': 0.06723639074399552, 'type': 0.0, 'size': 0.6462394185645214, 'basement_size': 0.0, 'rooms': 0.007780302867143139, 'year_built': 0.027698163122512495, 'year_rebuilt': 0.044959045359704894, 'energy_label': 0.008494093667147096, 'postal_avg_sqm_price': 0.1167094828979299, 'lat': 0.016083502740622764, 'lng': 0.024375790726217646}\n"
     ]
    },
    {
     "name": "stderr",
     "output_type": "stream",
     "text": [
      "/usr/local/lib/python3.10/site-packages/sklearn/base.py:439: UserWarning: X does not have valid feature names, but RandomForestRegressor was fitted with feature names\n",
      "  warnings.warn(\n"
     ]
    },
    {
     "name": "stdout",
     "output_type": "stream",
     "text": [
      "\n",
      "Saving Feature Importance\n",
      "\n",
      "Saving Reconstructions\n",
      "5/5 [==============================] - 10s 2s/step\n",
      "5/5 [==============================] - 9s 2s/step\n",
      "[ 30  41  79  18  12 136 147  54 101 107]\n",
      "[ 93  44 100  16  50 156 135 130  53 134]\n",
      "1/1 [==============================] - 0s 145ms/step\n",
      "1/1 [==============================] - 0s 122ms/step\n"
     ]
    },
    {
     "name": "stderr",
     "output_type": "stream",
     "text": [
      "Clipping input data to the valid range for imshow with RGB data ([0..1] for floats or [0..255] for integers).\n"
     ]
    },
    {
     "name": "stdout",
     "output_type": "stream",
     "text": [
      "1/1 [==============================] - 0s 114ms/step\n",
      "1/1 [==============================] - 0s 105ms/step\n"
     ]
    },
    {
     "name": "stderr",
     "output_type": "stream",
     "text": [
      "Clipping input data to the valid range for imshow with RGB data ([0..1] for floats or [0..255] for integers).\n"
     ]
    },
    {
     "name": "stdout",
     "output_type": "stream",
     "text": [
      "1/1 [==============================] - 0s 108ms/step\n",
      "1/1 [==============================] - 0s 103ms/step\n"
     ]
    },
    {
     "name": "stderr",
     "output_type": "stream",
     "text": [
      "Clipping input data to the valid range for imshow with RGB data ([0..1] for floats or [0..255] for integers).\n"
     ]
    },
    {
     "name": "stdout",
     "output_type": "stream",
     "text": [
      "1/1 [==============================] - 0s 108ms/step\n",
      "1/1 [==============================] - 0s 175ms/step\n"
     ]
    },
    {
     "name": "stderr",
     "output_type": "stream",
     "text": [
      "Clipping input data to the valid range for imshow with RGB data ([0..1] for floats or [0..255] for integers).\n"
     ]
    },
    {
     "name": "stdout",
     "output_type": "stream",
     "text": [
      "1/1 [==============================] - 0s 146ms/step\n",
      "1/1 [==============================] - 0s 109ms/step\n"
     ]
    },
    {
     "name": "stderr",
     "output_type": "stream",
     "text": [
      "Clipping input data to the valid range for imshow with RGB data ([0..1] for floats or [0..255] for integers).\n"
     ]
    },
    {
     "name": "stdout",
     "output_type": "stream",
     "text": [
      "1/1 [==============================] - 0s 115ms/step\n",
      "1/1 [==============================] - 0s 112ms/step\n"
     ]
    },
    {
     "name": "stderr",
     "output_type": "stream",
     "text": [
      "Clipping input data to the valid range for imshow with RGB data ([0..1] for floats or [0..255] for integers).\n"
     ]
    },
    {
     "name": "stdout",
     "output_type": "stream",
     "text": [
      "1/1 [==============================] - 0s 122ms/step\n",
      "1/1 [==============================] - 0s 103ms/step\n"
     ]
    },
    {
     "name": "stderr",
     "output_type": "stream",
     "text": [
      "Clipping input data to the valid range for imshow with RGB data ([0..1] for floats or [0..255] for integers).\n"
     ]
    },
    {
     "name": "stdout",
     "output_type": "stream",
     "text": [
      "1/1 [==============================] - 0s 112ms/step\n",
      "1/1 [==============================] - 0s 122ms/step\n"
     ]
    },
    {
     "name": "stderr",
     "output_type": "stream",
     "text": [
      "Clipping input data to the valid range for imshow with RGB data ([0..1] for floats or [0..255] for integers).\n"
     ]
    },
    {
     "name": "stdout",
     "output_type": "stream",
     "text": [
      "1/1 [==============================] - 0s 117ms/step\n",
      "1/1 [==============================] - 0s 135ms/step\n"
     ]
    },
    {
     "name": "stderr",
     "output_type": "stream",
     "text": [
      "Clipping input data to the valid range for imshow with RGB data ([0..1] for floats or [0..255] for integers).\n"
     ]
    },
    {
     "name": "stdout",
     "output_type": "stream",
     "text": [
      "1/1 [==============================] - 0s 126ms/step\n",
      "1/1 [==============================] - 0s 151ms/step\n"
     ]
    },
    {
     "name": "stderr",
     "output_type": "stream",
     "text": [
      "Clipping input data to the valid range for imshow with RGB data ([0..1] for floats or [0..255] for integers).\n"
     ]
    },
    {
     "name": "stdout",
     "output_type": "stream",
     "text": [
      "1/1 [==============================] - 0s 135ms/step\n",
      "1/1 [==============================] - 0s 134ms/step\n"
     ]
    },
    {
     "name": "stderr",
     "output_type": "stream",
     "text": [
      "Clipping input data to the valid range for imshow with RGB data ([0..1] for floats or [0..255] for integers).\n"
     ]
    },
    {
     "name": "stdout",
     "output_type": "stream",
     "text": [
      "1/1 [==============================] - 0s 208ms/step\n",
      "1/1 [==============================] - 0s 209ms/step\n"
     ]
    },
    {
     "name": "stderr",
     "output_type": "stream",
     "text": [
      "Clipping input data to the valid range for imshow with RGB data ([0..1] for floats or [0..255] for integers).\n"
     ]
    },
    {
     "name": "stdout",
     "output_type": "stream",
     "text": [
      "1/1 [==============================] - 0s 115ms/step\n",
      "1/1 [==============================] - 0s 101ms/step\n"
     ]
    },
    {
     "name": "stderr",
     "output_type": "stream",
     "text": [
      "Clipping input data to the valid range for imshow with RGB data ([0..1] for floats or [0..255] for integers).\n"
     ]
    },
    {
     "name": "stdout",
     "output_type": "stream",
     "text": [
      "1/1 [==============================] - 0s 111ms/step\n",
      "1/1 [==============================] - 0s 107ms/step\n"
     ]
    },
    {
     "name": "stderr",
     "output_type": "stream",
     "text": [
      "Clipping input data to the valid range for imshow with RGB data ([0..1] for floats or [0..255] for integers).\n"
     ]
    },
    {
     "name": "stdout",
     "output_type": "stream",
     "text": [
      "1/1 [==============================] - 0s 116ms/step\n",
      "1/1 [==============================] - 0s 100ms/step\n"
     ]
    },
    {
     "name": "stderr",
     "output_type": "stream",
     "text": [
      "Clipping input data to the valid range for imshow with RGB data ([0..1] for floats or [0..255] for integers).\n"
     ]
    },
    {
     "name": "stdout",
     "output_type": "stream",
     "text": [
      "1/1 [==============================] - 0s 102ms/step\n",
      "1/1 [==============================] - 0s 130ms/step\n"
     ]
    },
    {
     "name": "stderr",
     "output_type": "stream",
     "text": [
      "Clipping input data to the valid range for imshow with RGB data ([0..1] for floats or [0..255] for integers).\n"
     ]
    },
    {
     "name": "stdout",
     "output_type": "stream",
     "text": [
      "1/1 [==============================] - 0s 99ms/step\n",
      "1/1 [==============================] - 0s 102ms/step\n"
     ]
    },
    {
     "name": "stderr",
     "output_type": "stream",
     "text": [
      "Clipping input data to the valid range for imshow with RGB data ([0..1] for floats or [0..255] for integers).\n"
     ]
    },
    {
     "name": "stdout",
     "output_type": "stream",
     "text": [
      "1/1 [==============================] - 0s 113ms/step\n",
      "1/1 [==============================] - 0s 115ms/step\n"
     ]
    },
    {
     "name": "stderr",
     "output_type": "stream",
     "text": [
      "Clipping input data to the valid range for imshow with RGB data ([0..1] for floats or [0..255] for integers).\n"
     ]
    },
    {
     "name": "stdout",
     "output_type": "stream",
     "text": [
      "1/1 [==============================] - 0s 111ms/step\n",
      "1/1 [==============================] - 0s 215ms/step\n"
     ]
    },
    {
     "name": "stderr",
     "output_type": "stream",
     "text": [
      "Clipping input data to the valid range for imshow with RGB data ([0..1] for floats or [0..255] for integers).\n"
     ]
    },
    {
     "name": "stdout",
     "output_type": "stream",
     "text": [
      "1/1 [==============================] - 0s 113ms/step\n",
      "1/1 [==============================] - 0s 115ms/step\n"
     ]
    },
    {
     "name": "stderr",
     "output_type": "stream",
     "text": [
      "Clipping input data to the valid range for imshow with RGB data ([0..1] for floats or [0..255] for integers).\n"
     ]
    },
    {
     "name": "stdout",
     "output_type": "stream",
     "text": [
      "\n",
      "Done!\n",
      "Setting CPU\n",
      "9/9 [==============================] - 20s 2s/step\n",
      "9/9 [==============================] - 16s 2s/step\n",
      "9/9 [==============================] - 91s 10s/step\n",
      "Saving Model...\n",
      "5/5 [==============================] - 10s 2s/step\n",
      "5/5 [==============================] - 10s 2s/step\n",
      "5/5 [==============================] - 56s 11s/step\n",
      "Evaluating Model...\n",
      "\n",
      "Model Evaluation:\n",
      "{'Timestamp': '2024-05-07 11:44:16.460853', 'R2': 0.8098746515695849, 'MAE': 645905.6875, 'Percentage Error': 15.303454730475169, 'MSE': 916950147774.375, 'Feature Importances': {'image_predictions': 0.018763600570407653, 'reconstruction_error': 0.02304600403966314, 'postal_code': 0.06833315590730797, 'type': 0.0, 'size': 0.6246818218943142, 'basement_size': 0.0, 'rooms': 0.007170228598602132, 'year_built': 0.03656719356987837, 'year_rebuilt': 0.03987210818145387, 'energy_label': 0.006882665286372757, 'postal_avg_sqm_price': 0.13465074963885024, 'lat': 0.014806757042041303, 'lng': 0.02522571527110832}}\n",
      "\n",
      "Median Evaluation:\n",
      "{'R2': 0.8120906453374559, 'MAE': 645540.25, 'Percentage Error': 15.392158867643683, 'MSE': 906262694314.375}\n",
      "Feauter Importance...\n",
      "{'image_predictions': 0.018763600570407653, 'reconstruction_error': 0.02304600403966314, 'postal_code': 0.06833315590730797, 'type': 0.0, 'size': 0.6246818218943142, 'basement_size': 0.0, 'rooms': 0.007170228598602132, 'year_built': 0.03656719356987837, 'year_rebuilt': 0.03987210818145387, 'energy_label': 0.006882665286372757, 'postal_avg_sqm_price': 0.13465074963885024, 'lat': 0.014806757042041303, 'lng': 0.02522571527110832}\n"
     ]
    },
    {
     "name": "stderr",
     "output_type": "stream",
     "text": [
      "/usr/local/lib/python3.10/site-packages/sklearn/base.py:439: UserWarning: X does not have valid feature names, but RandomForestRegressor was fitted with feature names\n",
      "  warnings.warn(\n"
     ]
    },
    {
     "name": "stdout",
     "output_type": "stream",
     "text": [
      "\n",
      "Saving Feature Importance\n",
      "\n",
      "Saving Reconstructions\n",
      "5/5 [==============================] - 12s 3s/step\n",
      "5/5 [==============================] - 12s 2s/step\n",
      "[ 30  41  79  18  12 136 147  54 101 107]\n",
      "[ 93  44 100  16  50 156 135 130  53 134]\n",
      "1/1 [==============================] - 0s 151ms/step\n",
      "1/1 [==============================] - 0s 145ms/step\n"
     ]
    },
    {
     "name": "stderr",
     "output_type": "stream",
     "text": [
      "Clipping input data to the valid range for imshow with RGB data ([0..1] for floats or [0..255] for integers).\n"
     ]
    },
    {
     "name": "stdout",
     "output_type": "stream",
     "text": [
      "1/1 [==============================] - 0s 181ms/step\n",
      "1/1 [==============================] - 0s 134ms/step\n"
     ]
    },
    {
     "name": "stderr",
     "output_type": "stream",
     "text": [
      "Clipping input data to the valid range for imshow with RGB data ([0..1] for floats or [0..255] for integers).\n"
     ]
    },
    {
     "name": "stdout",
     "output_type": "stream",
     "text": [
      "1/1 [==============================] - 0s 136ms/step\n",
      "1/1 [==============================] - 0s 141ms/step\n"
     ]
    },
    {
     "name": "stderr",
     "output_type": "stream",
     "text": [
      "Clipping input data to the valid range for imshow with RGB data ([0..1] for floats or [0..255] for integers).\n"
     ]
    },
    {
     "name": "stdout",
     "output_type": "stream",
     "text": [
      "1/1 [==============================] - 0s 301ms/step\n",
      "1/1 [==============================] - 0s 156ms/step\n"
     ]
    },
    {
     "name": "stderr",
     "output_type": "stream",
     "text": [
      "Clipping input data to the valid range for imshow with RGB data ([0..1] for floats or [0..255] for integers).\n"
     ]
    },
    {
     "name": "stdout",
     "output_type": "stream",
     "text": [
      "1/1 [==============================] - 0s 171ms/step\n",
      "1/1 [==============================] - 0s 188ms/step\n"
     ]
    },
    {
     "name": "stderr",
     "output_type": "stream",
     "text": [
      "Clipping input data to the valid range for imshow with RGB data ([0..1] for floats or [0..255] for integers).\n"
     ]
    },
    {
     "name": "stdout",
     "output_type": "stream",
     "text": [
      "1/1 [==============================] - 0s 270ms/step\n",
      "1/1 [==============================] - 0s 157ms/step\n"
     ]
    },
    {
     "name": "stderr",
     "output_type": "stream",
     "text": [
      "Clipping input data to the valid range for imshow with RGB data ([0..1] for floats or [0..255] for integers).\n"
     ]
    },
    {
     "name": "stdout",
     "output_type": "stream",
     "text": [
      "1/1 [==============================] - 0s 157ms/step\n",
      "1/1 [==============================] - 0s 149ms/step\n"
     ]
    },
    {
     "name": "stderr",
     "output_type": "stream",
     "text": [
      "Clipping input data to the valid range for imshow with RGB data ([0..1] for floats or [0..255] for integers).\n"
     ]
    },
    {
     "name": "stdout",
     "output_type": "stream",
     "text": [
      "1/1 [==============================] - 0s 409ms/step\n",
      "1/1 [==============================] - 0s 154ms/step\n"
     ]
    },
    {
     "name": "stderr",
     "output_type": "stream",
     "text": [
      "Clipping input data to the valid range for imshow with RGB data ([0..1] for floats or [0..255] for integers).\n"
     ]
    },
    {
     "name": "stdout",
     "output_type": "stream",
     "text": [
      "1/1 [==============================] - 0s 145ms/step\n",
      "1/1 [==============================] - 0s 147ms/step\n"
     ]
    },
    {
     "name": "stderr",
     "output_type": "stream",
     "text": [
      "Clipping input data to the valid range for imshow with RGB data ([0..1] for floats or [0..255] for integers).\n"
     ]
    },
    {
     "name": "stdout",
     "output_type": "stream",
     "text": [
      "1/1 [==============================] - 0s 162ms/step\n",
      "1/1 [==============================] - 0s 146ms/step\n"
     ]
    },
    {
     "name": "stderr",
     "output_type": "stream",
     "text": [
      "Clipping input data to the valid range for imshow with RGB data ([0..1] for floats or [0..255] for integers).\n"
     ]
    },
    {
     "name": "stdout",
     "output_type": "stream",
     "text": [
      "1/1 [==============================] - 0s 146ms/step\n",
      "1/1 [==============================] - 0s 190ms/step\n"
     ]
    },
    {
     "name": "stderr",
     "output_type": "stream",
     "text": [
      "Clipping input data to the valid range for imshow with RGB data ([0..1] for floats or [0..255] for integers).\n"
     ]
    },
    {
     "name": "stdout",
     "output_type": "stream",
     "text": [
      "1/1 [==============================] - 0s 147ms/step\n",
      "1/1 [==============================] - 0s 129ms/step\n"
     ]
    },
    {
     "name": "stderr",
     "output_type": "stream",
     "text": [
      "Clipping input data to the valid range for imshow with RGB data ([0..1] for floats or [0..255] for integers).\n"
     ]
    },
    {
     "name": "stdout",
     "output_type": "stream",
     "text": [
      "1/1 [==============================] - 0s 146ms/step\n",
      "1/1 [==============================] - 0s 150ms/step\n"
     ]
    },
    {
     "name": "stderr",
     "output_type": "stream",
     "text": [
      "Clipping input data to the valid range for imshow with RGB data ([0..1] for floats or [0..255] for integers).\n"
     ]
    },
    {
     "name": "stdout",
     "output_type": "stream",
     "text": [
      "1/1 [==============================] - 0s 148ms/step\n",
      "1/1 [==============================] - 0s 134ms/step\n"
     ]
    },
    {
     "name": "stderr",
     "output_type": "stream",
     "text": [
      "Clipping input data to the valid range for imshow with RGB data ([0..1] for floats or [0..255] for integers).\n"
     ]
    },
    {
     "name": "stdout",
     "output_type": "stream",
     "text": [
      "1/1 [==============================] - 0s 137ms/step\n",
      "1/1 [==============================] - 0s 155ms/step\n"
     ]
    },
    {
     "name": "stderr",
     "output_type": "stream",
     "text": [
      "Clipping input data to the valid range for imshow with RGB data ([0..1] for floats or [0..255] for integers).\n"
     ]
    },
    {
     "name": "stdout",
     "output_type": "stream",
     "text": [
      "1/1 [==============================] - 0s 211ms/step\n",
      "1/1 [==============================] - 0s 158ms/step\n"
     ]
    },
    {
     "name": "stderr",
     "output_type": "stream",
     "text": [
      "Clipping input data to the valid range for imshow with RGB data ([0..1] for floats or [0..255] for integers).\n"
     ]
    },
    {
     "name": "stdout",
     "output_type": "stream",
     "text": [
      "1/1 [==============================] - 0s 156ms/step\n",
      "1/1 [==============================] - 0s 140ms/step\n"
     ]
    },
    {
     "name": "stderr",
     "output_type": "stream",
     "text": [
      "Clipping input data to the valid range for imshow with RGB data ([0..1] for floats or [0..255] for integers).\n"
     ]
    },
    {
     "name": "stdout",
     "output_type": "stream",
     "text": [
      "1/1 [==============================] - 0s 148ms/step\n",
      "1/1 [==============================] - 0s 145ms/step\n"
     ]
    },
    {
     "name": "stderr",
     "output_type": "stream",
     "text": [
      "Clipping input data to the valid range for imshow with RGB data ([0..1] for floats or [0..255] for integers).\n"
     ]
    },
    {
     "name": "stdout",
     "output_type": "stream",
     "text": [
      "1/1 [==============================] - 0s 158ms/step\n",
      "1/1 [==============================] - 0s 151ms/step\n"
     ]
    },
    {
     "name": "stderr",
     "output_type": "stream",
     "text": [
      "Clipping input data to the valid range for imshow with RGB data ([0..1] for floats or [0..255] for integers).\n"
     ]
    },
    {
     "name": "stdout",
     "output_type": "stream",
     "text": [
      "1/1 [==============================] - 0s 129ms/step\n",
      "1/1 [==============================] - 0s 158ms/step\n"
     ]
    },
    {
     "name": "stderr",
     "output_type": "stream",
     "text": [
      "Clipping input data to the valid range for imshow with RGB data ([0..1] for floats or [0..255] for integers).\n"
     ]
    },
    {
     "name": "stdout",
     "output_type": "stream",
     "text": [
      "\n",
      "Done!\n",
      "Setting CPU\n",
      "9/9 [==============================] - 22s 2s/step\n",
      "9/9 [==============================] - 18s 2s/step\n",
      "9/9 [==============================] - 111s 13s/step\n",
      "Saving Model...\n",
      "5/5 [==============================] - 13s 3s/step\n",
      "5/5 [==============================] - 13s 3s/step\n",
      "5/5 [==============================] - 74s 14s/step\n",
      "Evaluating Model...\n",
      "\n",
      "Model Evaluation:\n",
      "{'Timestamp': '2024-05-07 11:51:15.794278', 'R2': 0.8164416555204096, 'MAE': 644001.125, 'Percentage Error': 15.378624938178303, 'MSE': 885278330771.25, 'Feature Importances': {'image_predictions': 0.020667846948859245, 'reconstruction_error': 0.017685946984334292, 'postal_code': 0.07500214934959186, 'type': 0.0, 'size': 0.6285271918667032, 'basement_size': 0.0, 'rooms': 0.00823242459644544, 'year_built': 0.03876884627778576, 'year_rebuilt': 0.053394040066615515, 'energy_label': 0.008175624403727277, 'postal_avg_sqm_price': 0.11455184198935706, 'lat': 0.015410564230178947, 'lng': 0.019583523286401297}}\n",
      "\n",
      "Median Evaluation:\n",
      "{'R2': 0.8143066391053269, 'MAE': 645174.8125, 'Percentage Error': 15.378624938178303, 'MSE': 895575240854.375}\n",
      "Feauter Importance...\n",
      "{'image_predictions': 0.020667846948859245, 'reconstruction_error': 0.017685946984334292, 'postal_code': 0.07500214934959186, 'type': 0.0, 'size': 0.6285271918667032, 'basement_size': 0.0, 'rooms': 0.00823242459644544, 'year_built': 0.03876884627778576, 'year_rebuilt': 0.053394040066615515, 'energy_label': 0.008175624403727277, 'postal_avg_sqm_price': 0.11455184198935706, 'lat': 0.015410564230178947, 'lng': 0.019583523286401297}\n"
     ]
    },
    {
     "name": "stderr",
     "output_type": "stream",
     "text": [
      "/usr/local/lib/python3.10/site-packages/sklearn/base.py:439: UserWarning: X does not have valid feature names, but RandomForestRegressor was fitted with feature names\n",
      "  warnings.warn(\n"
     ]
    },
    {
     "name": "stdout",
     "output_type": "stream",
     "text": [
      "\n",
      "Saving Feature Importance\n",
      "\n",
      "Saving Reconstructions\n",
      "5/5 [==============================] - 15s 3s/step\n",
      "5/5 [==============================] - 12s 2s/step\n",
      "[ 30  41  79  18  12 136 147  54 101 107]\n",
      "[ 93  44 100  16  50 156 135 130  53 134]\n",
      "1/1 [==============================] - 0s 147ms/step\n",
      "1/1 [==============================] - 0s 145ms/step\n"
     ]
    },
    {
     "name": "stderr",
     "output_type": "stream",
     "text": [
      "Clipping input data to the valid range for imshow with RGB data ([0..1] for floats or [0..255] for integers).\n"
     ]
    },
    {
     "name": "stdout",
     "output_type": "stream",
     "text": [
      "1/1 [==============================] - 0s 162ms/step\n",
      "1/1 [==============================] - 0s 137ms/step\n"
     ]
    },
    {
     "name": "stderr",
     "output_type": "stream",
     "text": [
      "Clipping input data to the valid range for imshow with RGB data ([0..1] for floats or [0..255] for integers).\n"
     ]
    },
    {
     "name": "stdout",
     "output_type": "stream",
     "text": [
      "1/1 [==============================] - 0s 131ms/step\n",
      "1/1 [==============================] - 0s 177ms/step\n"
     ]
    },
    {
     "name": "stderr",
     "output_type": "stream",
     "text": [
      "Clipping input data to the valid range for imshow with RGB data ([0..1] for floats or [0..255] for integers).\n"
     ]
    },
    {
     "name": "stdout",
     "output_type": "stream",
     "text": [
      "1/1 [==============================] - 0s 154ms/step\n",
      "1/1 [==============================] - 0s 161ms/step\n"
     ]
    },
    {
     "name": "stderr",
     "output_type": "stream",
     "text": [
      "Clipping input data to the valid range for imshow with RGB data ([0..1] for floats or [0..255] for integers).\n"
     ]
    },
    {
     "name": "stdout",
     "output_type": "stream",
     "text": [
      "1/1 [==============================] - 0s 148ms/step\n",
      "1/1 [==============================] - 0s 167ms/step\n"
     ]
    },
    {
     "name": "stderr",
     "output_type": "stream",
     "text": [
      "Clipping input data to the valid range for imshow with RGB data ([0..1] for floats or [0..255] for integers).\n"
     ]
    },
    {
     "name": "stdout",
     "output_type": "stream",
     "text": [
      "1/1 [==============================] - 0s 222ms/step\n",
      "1/1 [==============================] - 0s 130ms/step\n"
     ]
    },
    {
     "name": "stderr",
     "output_type": "stream",
     "text": [
      "Clipping input data to the valid range for imshow with RGB data ([0..1] for floats or [0..255] for integers).\n"
     ]
    },
    {
     "name": "stdout",
     "output_type": "stream",
     "text": [
      "1/1 [==============================] - 0s 172ms/step\n",
      "1/1 [==============================] - 0s 135ms/step\n"
     ]
    },
    {
     "name": "stderr",
     "output_type": "stream",
     "text": [
      "Clipping input data to the valid range for imshow with RGB data ([0..1] for floats or [0..255] for integers).\n"
     ]
    },
    {
     "name": "stdout",
     "output_type": "stream",
     "text": [
      "1/1 [==============================] - 0s 275ms/step\n",
      "1/1 [==============================] - 0s 116ms/step\n"
     ]
    },
    {
     "name": "stderr",
     "output_type": "stream",
     "text": [
      "Clipping input data to the valid range for imshow with RGB data ([0..1] for floats or [0..255] for integers).\n"
     ]
    },
    {
     "name": "stdout",
     "output_type": "stream",
     "text": [
      "1/1 [==============================] - 0s 184ms/step\n",
      "1/1 [==============================] - 0s 166ms/step\n"
     ]
    },
    {
     "name": "stderr",
     "output_type": "stream",
     "text": [
      "Clipping input data to the valid range for imshow with RGB data ([0..1] for floats or [0..255] for integers).\n"
     ]
    },
    {
     "name": "stdout",
     "output_type": "stream",
     "text": [
      "1/1 [==============================] - 0s 145ms/step\n",
      "1/1 [==============================] - 0s 149ms/step\n"
     ]
    },
    {
     "name": "stderr",
     "output_type": "stream",
     "text": [
      "Clipping input data to the valid range for imshow with RGB data ([0..1] for floats or [0..255] for integers).\n"
     ]
    },
    {
     "name": "stdout",
     "output_type": "stream",
     "text": [
      "1/1 [==============================] - 0s 139ms/step\n",
      "1/1 [==============================] - 0s 133ms/step\n"
     ]
    },
    {
     "name": "stderr",
     "output_type": "stream",
     "text": [
      "Clipping input data to the valid range for imshow with RGB data ([0..1] for floats or [0..255] for integers).\n"
     ]
    },
    {
     "name": "stdout",
     "output_type": "stream",
     "text": [
      "1/1 [==============================] - 0s 146ms/step\n",
      "1/1 [==============================] - 0s 129ms/step\n"
     ]
    },
    {
     "name": "stderr",
     "output_type": "stream",
     "text": [
      "Clipping input data to the valid range for imshow with RGB data ([0..1] for floats or [0..255] for integers).\n"
     ]
    },
    {
     "name": "stdout",
     "output_type": "stream",
     "text": [
      "1/1 [==============================] - 0s 134ms/step\n",
      "1/1 [==============================] - 0s 160ms/step\n"
     ]
    },
    {
     "name": "stderr",
     "output_type": "stream",
     "text": [
      "Clipping input data to the valid range for imshow with RGB data ([0..1] for floats or [0..255] for integers).\n"
     ]
    },
    {
     "name": "stdout",
     "output_type": "stream",
     "text": [
      "1/1 [==============================] - 0s 167ms/step\n",
      "1/1 [==============================] - 0s 145ms/step\n"
     ]
    },
    {
     "name": "stderr",
     "output_type": "stream",
     "text": [
      "Clipping input data to the valid range for imshow with RGB data ([0..1] for floats or [0..255] for integers).\n"
     ]
    },
    {
     "name": "stdout",
     "output_type": "stream",
     "text": [
      "1/1 [==============================] - 0s 162ms/step\n",
      "1/1 [==============================] - 0s 204ms/step\n"
     ]
    },
    {
     "name": "stderr",
     "output_type": "stream",
     "text": [
      "Clipping input data to the valid range for imshow with RGB data ([0..1] for floats or [0..255] for integers).\n"
     ]
    },
    {
     "name": "stdout",
     "output_type": "stream",
     "text": [
      "1/1 [==============================] - 1s 550ms/step\n",
      "1/1 [==============================] - 0s 166ms/step\n"
     ]
    },
    {
     "name": "stderr",
     "output_type": "stream",
     "text": [
      "Clipping input data to the valid range for imshow with RGB data ([0..1] for floats or [0..255] for integers).\n"
     ]
    },
    {
     "name": "stdout",
     "output_type": "stream",
     "text": [
      "1/1 [==============================] - 0s 213ms/step\n",
      "1/1 [==============================] - 0s 476ms/step\n"
     ]
    },
    {
     "name": "stderr",
     "output_type": "stream",
     "text": [
      "Clipping input data to the valid range for imshow with RGB data ([0..1] for floats or [0..255] for integers).\n"
     ]
    },
    {
     "name": "stdout",
     "output_type": "stream",
     "text": [
      "1/1 [==============================] - 0s 233ms/step\n",
      "1/1 [==============================] - 0s 338ms/step\n"
     ]
    },
    {
     "name": "stderr",
     "output_type": "stream",
     "text": [
      "Clipping input data to the valid range for imshow with RGB data ([0..1] for floats or [0..255] for integers).\n"
     ]
    },
    {
     "name": "stdout",
     "output_type": "stream",
     "text": [
      "1/1 [==============================] - 0s 382ms/step\n",
      "1/1 [==============================] - 0s 183ms/step\n"
     ]
    },
    {
     "name": "stderr",
     "output_type": "stream",
     "text": [
      "Clipping input data to the valid range for imshow with RGB data ([0..1] for floats or [0..255] for integers).\n"
     ]
    },
    {
     "name": "stdout",
     "output_type": "stream",
     "text": [
      "1/1 [==============================] - 0s 142ms/step\n",
      "1/1 [==============================] - 0s 137ms/step\n"
     ]
    },
    {
     "name": "stderr",
     "output_type": "stream",
     "text": [
      "Clipping input data to the valid range for imshow with RGB data ([0..1] for floats or [0..255] for integers).\n"
     ]
    },
    {
     "name": "stdout",
     "output_type": "stream",
     "text": [
      "\n",
      "Done!\n",
      "Setting CPU\n",
      "9/9 [==============================] - 28s 3s/step\n",
      "9/9 [==============================] - 19s 2s/step\n",
      "9/9 [==============================] - 118s 13s/step\n",
      "Saving Model...\n",
      "5/5 [==============================] - 13s 3s/step\n",
      "5/5 [==============================] - 11s 2s/step\n",
      "5/5 [==============================] - 65s 13s/step\n",
      "Evaluating Model...\n",
      "\n",
      "Model Evaluation:\n",
      "{'Timestamp': '2024-05-07 11:58:49.275759', 'R2': 0.8166863424357684, 'MAE': 644173.4375, 'Percentage Error': 15.467928614378087, 'MSE': 884098237190.625, 'Feature Importances': {'image_predictions': 0.01992196197082386, 'reconstruction_error': 0.0216099663061811, 'postal_code': 0.0673250027620803, 'type': 0.0, 'size': 0.6529038185968353, 'basement_size': 0.0, 'rooms': 0.007410947324041196, 'year_built': 0.023872611745419613, 'year_rebuilt': 0.04216827374739006, 'energy_label': 0.007934546813198598, 'postal_avg_sqm_price': 0.1189002392391559, 'lat': 0.015035260837214936, 'lng': 0.02291737065765909}}\n",
      "\n",
      "Median Evaluation:\n",
      "{'R2': 0.8153741473128682, 'MAE': 644674.125, 'Percentage Error': 15.423276776278195, 'MSE': 890426785812.8125}\n",
      "Feauter Importance...\n",
      "{'image_predictions': 0.01992196197082386, 'reconstruction_error': 0.0216099663061811, 'postal_code': 0.0673250027620803, 'type': 0.0, 'size': 0.6529038185968353, 'basement_size': 0.0, 'rooms': 0.007410947324041196, 'year_built': 0.023872611745419613, 'year_rebuilt': 0.04216827374739006, 'energy_label': 0.007934546813198598, 'postal_avg_sqm_price': 0.1189002392391559, 'lat': 0.015035260837214936, 'lng': 0.02291737065765909}\n"
     ]
    },
    {
     "name": "stderr",
     "output_type": "stream",
     "text": [
      "/usr/local/lib/python3.10/site-packages/sklearn/base.py:439: UserWarning: X does not have valid feature names, but RandomForestRegressor was fitted with feature names\n",
      "  warnings.warn(\n"
     ]
    },
    {
     "name": "stdout",
     "output_type": "stream",
     "text": [
      "\n",
      "Saving Feature Importance\n",
      "\n",
      "Saving Reconstructions\n",
      "5/5 [==============================] - 13s 3s/step\n",
      "5/5 [==============================] - 10s 2s/step\n",
      "[ 30  41  79  18  12 136 147  54 101 107]\n",
      "[ 93  44 100  16  50 156 135 130  53 134]\n",
      "1/1 [==============================] - 0s 160ms/step\n",
      "1/1 [==============================] - 0s 142ms/step\n"
     ]
    },
    {
     "name": "stderr",
     "output_type": "stream",
     "text": [
      "Clipping input data to the valid range for imshow with RGB data ([0..1] for floats or [0..255] for integers).\n"
     ]
    },
    {
     "name": "stdout",
     "output_type": "stream",
     "text": [
      "1/1 [==============================] - 0s 133ms/step\n",
      "1/1 [==============================] - 0s 147ms/step\n"
     ]
    },
    {
     "name": "stderr",
     "output_type": "stream",
     "text": [
      "Clipping input data to the valid range for imshow with RGB data ([0..1] for floats or [0..255] for integers).\n"
     ]
    },
    {
     "name": "stdout",
     "output_type": "stream",
     "text": [
      "1/1 [==============================] - 0s 169ms/step\n",
      "1/1 [==============================] - 0s 155ms/step\n"
     ]
    },
    {
     "name": "stderr",
     "output_type": "stream",
     "text": [
      "Clipping input data to the valid range for imshow with RGB data ([0..1] for floats or [0..255] for integers).\n"
     ]
    },
    {
     "name": "stdout",
     "output_type": "stream",
     "text": [
      "1/1 [==============================] - 0s 140ms/step\n",
      "1/1 [==============================] - 0s 140ms/step\n"
     ]
    },
    {
     "name": "stderr",
     "output_type": "stream",
     "text": [
      "Clipping input data to the valid range for imshow with RGB data ([0..1] for floats or [0..255] for integers).\n"
     ]
    },
    {
     "name": "stdout",
     "output_type": "stream",
     "text": [
      "1/1 [==============================] - 0s 147ms/step\n",
      "1/1 [==============================] - 0s 156ms/step\n"
     ]
    },
    {
     "name": "stderr",
     "output_type": "stream",
     "text": [
      "Clipping input data to the valid range for imshow with RGB data ([0..1] for floats or [0..255] for integers).\n"
     ]
    },
    {
     "name": "stdout",
     "output_type": "stream",
     "text": [
      "1/1 [==============================] - 0s 134ms/step\n",
      "1/1 [==============================] - 0s 129ms/step\n"
     ]
    },
    {
     "name": "stderr",
     "output_type": "stream",
     "text": [
      "Clipping input data to the valid range for imshow with RGB data ([0..1] for floats or [0..255] for integers).\n"
     ]
    },
    {
     "name": "stdout",
     "output_type": "stream",
     "text": [
      "1/1 [==============================] - 0s 145ms/step\n",
      "1/1 [==============================] - 0s 132ms/step\n"
     ]
    },
    {
     "name": "stderr",
     "output_type": "stream",
     "text": [
      "Clipping input data to the valid range for imshow with RGB data ([0..1] for floats or [0..255] for integers).\n"
     ]
    },
    {
     "name": "stdout",
     "output_type": "stream",
     "text": [
      "1/1 [==============================] - 0s 205ms/step\n",
      "1/1 [==============================] - 0s 142ms/step\n"
     ]
    },
    {
     "name": "stderr",
     "output_type": "stream",
     "text": [
      "Clipping input data to the valid range for imshow with RGB data ([0..1] for floats or [0..255] for integers).\n"
     ]
    },
    {
     "name": "stdout",
     "output_type": "stream",
     "text": [
      "1/1 [==============================] - 0s 267ms/step\n",
      "1/1 [==============================] - 0s 131ms/step\n"
     ]
    },
    {
     "name": "stderr",
     "output_type": "stream",
     "text": [
      "Clipping input data to the valid range for imshow with RGB data ([0..1] for floats or [0..255] for integers).\n"
     ]
    },
    {
     "name": "stdout",
     "output_type": "stream",
     "text": [
      "1/1 [==============================] - 0s 146ms/step\n",
      "1/1 [==============================] - 0s 146ms/step\n"
     ]
    },
    {
     "name": "stderr",
     "output_type": "stream",
     "text": [
      "Clipping input data to the valid range for imshow with RGB data ([0..1] for floats or [0..255] for integers).\n"
     ]
    },
    {
     "name": "stdout",
     "output_type": "stream",
     "text": [
      "1/1 [==============================] - 0s 139ms/step\n",
      "1/1 [==============================] - 0s 114ms/step\n"
     ]
    },
    {
     "name": "stderr",
     "output_type": "stream",
     "text": [
      "Clipping input data to the valid range for imshow with RGB data ([0..1] for floats or [0..255] for integers).\n"
     ]
    },
    {
     "name": "stdout",
     "output_type": "stream",
     "text": [
      "1/1 [==============================] - 0s 120ms/step\n",
      "1/1 [==============================] - 0s 179ms/step\n"
     ]
    },
    {
     "name": "stderr",
     "output_type": "stream",
     "text": [
      "Clipping input data to the valid range for imshow with RGB data ([0..1] for floats or [0..255] for integers).\n"
     ]
    },
    {
     "name": "stdout",
     "output_type": "stream",
     "text": [
      "1/1 [==============================] - 0s 148ms/step\n",
      "1/1 [==============================] - 0s 133ms/step\n"
     ]
    },
    {
     "name": "stderr",
     "output_type": "stream",
     "text": [
      "Clipping input data to the valid range for imshow with RGB data ([0..1] for floats or [0..255] for integers).\n"
     ]
    },
    {
     "name": "stdout",
     "output_type": "stream",
     "text": [
      "1/1 [==============================] - 0s 141ms/step\n",
      "1/1 [==============================] - 0s 118ms/step\n"
     ]
    },
    {
     "name": "stderr",
     "output_type": "stream",
     "text": [
      "Clipping input data to the valid range for imshow with RGB data ([0..1] for floats or [0..255] for integers).\n"
     ]
    },
    {
     "name": "stdout",
     "output_type": "stream",
     "text": [
      "1/1 [==============================] - 0s 218ms/step\n",
      "1/1 [==============================] - 0s 144ms/step\n"
     ]
    },
    {
     "name": "stderr",
     "output_type": "stream",
     "text": [
      "Clipping input data to the valid range for imshow with RGB data ([0..1] for floats or [0..255] for integers).\n"
     ]
    },
    {
     "name": "stdout",
     "output_type": "stream",
     "text": [
      "1/1 [==============================] - 0s 133ms/step\n",
      "1/1 [==============================] - 0s 159ms/step\n"
     ]
    },
    {
     "name": "stderr",
     "output_type": "stream",
     "text": [
      "Clipping input data to the valid range for imshow with RGB data ([0..1] for floats or [0..255] for integers).\n"
     ]
    },
    {
     "name": "stdout",
     "output_type": "stream",
     "text": [
      "1/1 [==============================] - 0s 152ms/step\n",
      "1/1 [==============================] - 0s 131ms/step\n"
     ]
    },
    {
     "name": "stderr",
     "output_type": "stream",
     "text": [
      "Clipping input data to the valid range for imshow with RGB data ([0..1] for floats or [0..255] for integers).\n"
     ]
    },
    {
     "name": "stdout",
     "output_type": "stream",
     "text": [
      "1/1 [==============================] - 0s 115ms/step\n",
      "1/1 [==============================] - 0s 117ms/step\n"
     ]
    },
    {
     "name": "stderr",
     "output_type": "stream",
     "text": [
      "Clipping input data to the valid range for imshow with RGB data ([0..1] for floats or [0..255] for integers).\n"
     ]
    },
    {
     "name": "stdout",
     "output_type": "stream",
     "text": [
      "1/1 [==============================] - 0s 158ms/step\n",
      "1/1 [==============================] - 0s 122ms/step\n"
     ]
    },
    {
     "name": "stderr",
     "output_type": "stream",
     "text": [
      "Clipping input data to the valid range for imshow with RGB data ([0..1] for floats or [0..255] for integers).\n"
     ]
    },
    {
     "name": "stdout",
     "output_type": "stream",
     "text": [
      "1/1 [==============================] - 0s 142ms/step\n",
      "1/1 [==============================] - 0s 123ms/step\n"
     ]
    },
    {
     "name": "stderr",
     "output_type": "stream",
     "text": [
      "Clipping input data to the valid range for imshow with RGB data ([0..1] for floats or [0..255] for integers).\n"
     ]
    },
    {
     "name": "stdout",
     "output_type": "stream",
     "text": [
      "\n",
      "Done!\n",
      "Setting CPU\n",
      "9/9 [==============================] - 27s 3s/step\n",
      "9/9 [==============================] - 24s 3s/step\n",
      "9/9 [==============================] - 126s 14s/step\n",
      "Saving Model...\n",
      "5/5 [==============================] - 15s 3s/step\n",
      "5/5 [==============================] - 10s 2s/step\n",
      "5/5 [==============================] - 58s 11s/step\n",
      "Evaluating Model...\n",
      "\n",
      "Model Evaluation:\n",
      "{'Timestamp': '2024-05-07 12:05:51.930972', 'R2': 0.8274358624570639, 'MAE': 617498.3125, 'Percentage Error': 14.968791837564249, 'MSE': 832254682118.125, 'Feature Importances': {'image_predictions': 0.026902205114605258, 'reconstruction_error': 0.023242602222038736, 'postal_code': 0.058263080983856935, 'type': 0.0, 'size': 0.6522147522123982, 'basement_size': 0.0, 'rooms': 0.006724120093896515, 'year_built': 0.025335890067463916, 'year_rebuilt': 0.05144537229680307, 'energy_label': 0.00562262318599122, 'postal_avg_sqm_price': 0.11593798195332523, 'lat': 0.01396235982627931, 'lng': 0.02034901204334166}}\n",
      "\n",
      "Median Evaluation:\n",
      "{'R2': 0.8164416555204096, 'MAE': 644173.4375, 'Percentage Error': 15.378624938178303, 'MSE': 885278330771.25}\n",
      "Feauter Importance...\n",
      "{'image_predictions': 0.026902205114605258, 'reconstruction_error': 0.023242602222038736, 'postal_code': 0.058263080983856935, 'type': 0.0, 'size': 0.6522147522123982, 'basement_size': 0.0, 'rooms': 0.006724120093896515, 'year_built': 0.025335890067463916, 'year_rebuilt': 0.05144537229680307, 'energy_label': 0.00562262318599122, 'postal_avg_sqm_price': 0.11593798195332523, 'lat': 0.01396235982627931, 'lng': 0.02034901204334166}\n"
     ]
    },
    {
     "name": "stderr",
     "output_type": "stream",
     "text": [
      "/usr/local/lib/python3.10/site-packages/sklearn/base.py:439: UserWarning: X does not have valid feature names, but RandomForestRegressor was fitted with feature names\n",
      "  warnings.warn(\n"
     ]
    },
    {
     "name": "stdout",
     "output_type": "stream",
     "text": [
      "\n",
      "Saving Feature Importance\n",
      "\n",
      "Saving Reconstructions\n",
      "5/5 [==============================] - 12s 2s/step\n",
      "5/5 [==============================] - 9s 2s/step\n",
      "[ 30  41  79  18  12 136 147  54 101 107]\n",
      "[ 93  44 100  16  50 156 135 130  53 134]\n",
      "1/1 [==============================] - 0s 142ms/step\n",
      "1/1 [==============================] - 0s 123ms/step\n"
     ]
    },
    {
     "name": "stderr",
     "output_type": "stream",
     "text": [
      "Clipping input data to the valid range for imshow with RGB data ([0..1] for floats or [0..255] for integers).\n"
     ]
    },
    {
     "name": "stdout",
     "output_type": "stream",
     "text": [
      "1/1 [==============================] - 0s 160ms/step\n",
      "1/1 [==============================] - 0s 136ms/step\n"
     ]
    },
    {
     "name": "stderr",
     "output_type": "stream",
     "text": [
      "Clipping input data to the valid range for imshow with RGB data ([0..1] for floats or [0..255] for integers).\n"
     ]
    },
    {
     "name": "stdout",
     "output_type": "stream",
     "text": [
      "1/1 [==============================] - 0s 128ms/step\n",
      "1/1 [==============================] - 0s 122ms/step\n"
     ]
    },
    {
     "name": "stderr",
     "output_type": "stream",
     "text": [
      "Clipping input data to the valid range for imshow with RGB data ([0..1] for floats or [0..255] for integers).\n"
     ]
    },
    {
     "name": "stdout",
     "output_type": "stream",
     "text": [
      "1/1 [==============================] - 0s 155ms/step\n",
      "1/1 [==============================] - 0s 195ms/step\n"
     ]
    },
    {
     "name": "stderr",
     "output_type": "stream",
     "text": [
      "Clipping input data to the valid range for imshow with RGB data ([0..1] for floats or [0..255] for integers).\n"
     ]
    },
    {
     "name": "stdout",
     "output_type": "stream",
     "text": [
      "1/1 [==============================] - 0s 153ms/step\n",
      "1/1 [==============================] - 0s 130ms/step\n"
     ]
    },
    {
     "name": "stderr",
     "output_type": "stream",
     "text": [
      "Clipping input data to the valid range for imshow with RGB data ([0..1] for floats or [0..255] for integers).\n"
     ]
    },
    {
     "name": "stdout",
     "output_type": "stream",
     "text": [
      "1/1 [==============================] - 0s 144ms/step\n",
      "1/1 [==============================] - 0s 131ms/step\n"
     ]
    },
    {
     "name": "stderr",
     "output_type": "stream",
     "text": [
      "Clipping input data to the valid range for imshow with RGB data ([0..1] for floats or [0..255] for integers).\n"
     ]
    },
    {
     "name": "stdout",
     "output_type": "stream",
     "text": [
      "1/1 [==============================] - 0s 136ms/step\n",
      "1/1 [==============================] - 0s 115ms/step\n"
     ]
    },
    {
     "name": "stderr",
     "output_type": "stream",
     "text": [
      "Clipping input data to the valid range for imshow with RGB data ([0..1] for floats or [0..255] for integers).\n"
     ]
    },
    {
     "name": "stdout",
     "output_type": "stream",
     "text": [
      "1/1 [==============================] - 0s 148ms/step\n",
      "1/1 [==============================] - 0s 119ms/step\n"
     ]
    },
    {
     "name": "stderr",
     "output_type": "stream",
     "text": [
      "Clipping input data to the valid range for imshow with RGB data ([0..1] for floats or [0..255] for integers).\n"
     ]
    },
    {
     "name": "stdout",
     "output_type": "stream",
     "text": [
      "1/1 [==============================] - 0s 144ms/step\n",
      "1/1 [==============================] - 0s 147ms/step\n"
     ]
    },
    {
     "name": "stderr",
     "output_type": "stream",
     "text": [
      "Clipping input data to the valid range for imshow with RGB data ([0..1] for floats or [0..255] for integers).\n"
     ]
    },
    {
     "name": "stdout",
     "output_type": "stream",
     "text": [
      "1/1 [==============================] - 0s 135ms/step\n",
      "1/1 [==============================] - 0s 119ms/step\n"
     ]
    },
    {
     "name": "stderr",
     "output_type": "stream",
     "text": [
      "Clipping input data to the valid range for imshow with RGB data ([0..1] for floats or [0..255] for integers).\n"
     ]
    },
    {
     "name": "stdout",
     "output_type": "stream",
     "text": [
      "1/1 [==============================] - 0s 159ms/step\n",
      "1/1 [==============================] - 0s 126ms/step\n"
     ]
    },
    {
     "name": "stderr",
     "output_type": "stream",
     "text": [
      "Clipping input data to the valid range for imshow with RGB data ([0..1] for floats or [0..255] for integers).\n"
     ]
    },
    {
     "name": "stdout",
     "output_type": "stream",
     "text": [
      "1/1 [==============================] - 0s 240ms/step\n",
      "1/1 [==============================] - 0s 113ms/step\n"
     ]
    },
    {
     "name": "stderr",
     "output_type": "stream",
     "text": [
      "Clipping input data to the valid range for imshow with RGB data ([0..1] for floats or [0..255] for integers).\n"
     ]
    },
    {
     "name": "stdout",
     "output_type": "stream",
     "text": [
      "1/1 [==============================] - 0s 161ms/step\n",
      "1/1 [==============================] - 0s 129ms/step\n"
     ]
    },
    {
     "name": "stderr",
     "output_type": "stream",
     "text": [
      "Clipping input data to the valid range for imshow with RGB data ([0..1] for floats or [0..255] for integers).\n"
     ]
    },
    {
     "name": "stdout",
     "output_type": "stream",
     "text": [
      "1/1 [==============================] - 0s 156ms/step\n",
      "1/1 [==============================] - 0s 132ms/step\n"
     ]
    },
    {
     "name": "stderr",
     "output_type": "stream",
     "text": [
      "Clipping input data to the valid range for imshow with RGB data ([0..1] for floats or [0..255] for integers).\n"
     ]
    },
    {
     "name": "stdout",
     "output_type": "stream",
     "text": [
      "1/1 [==============================] - 0s 138ms/step\n",
      "1/1 [==============================] - 0s 228ms/step\n"
     ]
    },
    {
     "name": "stderr",
     "output_type": "stream",
     "text": [
      "Clipping input data to the valid range for imshow with RGB data ([0..1] for floats or [0..255] for integers).\n"
     ]
    },
    {
     "name": "stdout",
     "output_type": "stream",
     "text": [
      "1/1 [==============================] - 0s 145ms/step\n",
      "1/1 [==============================] - 0s 125ms/step\n"
     ]
    },
    {
     "name": "stderr",
     "output_type": "stream",
     "text": [
      "Clipping input data to the valid range for imshow with RGB data ([0..1] for floats or [0..255] for integers).\n"
     ]
    },
    {
     "name": "stdout",
     "output_type": "stream",
     "text": [
      "1/1 [==============================] - 0s 107ms/step\n",
      "1/1 [==============================] - 0s 135ms/step\n"
     ]
    },
    {
     "name": "stderr",
     "output_type": "stream",
     "text": [
      "Clipping input data to the valid range for imshow with RGB data ([0..1] for floats or [0..255] for integers).\n"
     ]
    },
    {
     "name": "stdout",
     "output_type": "stream",
     "text": [
      "1/1 [==============================] - 0s 132ms/step\n",
      "1/1 [==============================] - 0s 127ms/step\n"
     ]
    },
    {
     "name": "stderr",
     "output_type": "stream",
     "text": [
      "Clipping input data to the valid range for imshow with RGB data ([0..1] for floats or [0..255] for integers).\n"
     ]
    },
    {
     "name": "stdout",
     "output_type": "stream",
     "text": [
      "1/1 [==============================] - 0s 118ms/step\n",
      "1/1 [==============================] - 0s 115ms/step\n"
     ]
    },
    {
     "name": "stderr",
     "output_type": "stream",
     "text": [
      "Clipping input data to the valid range for imshow with RGB data ([0..1] for floats or [0..255] for integers).\n"
     ]
    },
    {
     "name": "stdout",
     "output_type": "stream",
     "text": [
      "1/1 [==============================] - 0s 132ms/step\n",
      "1/1 [==============================] - 0s 145ms/step\n"
     ]
    },
    {
     "name": "stderr",
     "output_type": "stream",
     "text": [
      "Clipping input data to the valid range for imshow with RGB data ([0..1] for floats or [0..255] for integers).\n"
     ]
    },
    {
     "name": "stdout",
     "output_type": "stream",
     "text": [
      "\n",
      "Done!\n",
      "Setting CPU\n",
      "9/9 [==============================] - 21s 2s/step\n",
      "9/9 [==============================] - 17s 2s/step\n",
      "9/9 [==============================] - 111s 12s/step\n",
      "Saving Model...\n",
      "5/5 [==============================] - 13s 3s/step\n",
      "5/5 [==============================] - 10s 2s/step\n",
      "5/5 [==============================] - 62s 13s/step\n",
      "Evaluating Model...\n",
      "\n",
      "Model Evaluation:\n",
      "{'Timestamp': '2024-05-07 12:12:11.179550', 'R2': 0.8007188237167081, 'MAE': 657365.8125, 'Percentage Error': 15.687627083188433, 'MSE': 961107530111.875, 'Feature Importances': {'image_predictions': 0.02035810855901128, 'reconstruction_error': 0.019519637186217513, 'postal_code': 0.08712638240694034, 'type': 0.0, 'size': 0.6396004017945285, 'basement_size': 0.0, 'rooms': 0.006511673193597786, 'year_built': 0.025404900291983327, 'year_rebuilt': 0.03213664078924299, 'energy_label': 0.008635187704477191, 'postal_avg_sqm_price': 0.11953784602107123, 'lat': 0.015103839510671223, 'lng': 0.026065382542258753}}\n",
      "\n",
      "Median Evaluation:\n",
      "{'R2': 0.8153741473128682, 'MAE': 644674.125, 'Percentage Error': 15.423276776278195, 'MSE': 890426785812.8125}\n",
      "Feauter Importance...\n",
      "{'image_predictions': 0.02035810855901128, 'reconstruction_error': 0.019519637186217513, 'postal_code': 0.08712638240694034, 'type': 0.0, 'size': 0.6396004017945285, 'basement_size': 0.0, 'rooms': 0.006511673193597786, 'year_built': 0.025404900291983327, 'year_rebuilt': 0.03213664078924299, 'energy_label': 0.008635187704477191, 'postal_avg_sqm_price': 0.11953784602107123, 'lat': 0.015103839510671223, 'lng': 0.026065382542258753}\n"
     ]
    },
    {
     "name": "stderr",
     "output_type": "stream",
     "text": [
      "/usr/local/lib/python3.10/site-packages/sklearn/base.py:439: UserWarning: X does not have valid feature names, but RandomForestRegressor was fitted with feature names\n",
      "  warnings.warn(\n"
     ]
    },
    {
     "name": "stdout",
     "output_type": "stream",
     "text": [
      "\n",
      "Saving Feature Importance\n",
      "\n",
      "Saving Reconstructions\n",
      "5/5 [==============================] - 13s 3s/step\n",
      "5/5 [==============================] - 11s 2s/step\n",
      "[ 30  41  79  18  12 136 147  54 101 107]\n",
      "[ 93  44 100  16  50 156 135 130  53 134]\n",
      "1/1 [==============================] - 0s 194ms/step\n",
      "1/1 [==============================] - 0s 150ms/step\n"
     ]
    },
    {
     "name": "stderr",
     "output_type": "stream",
     "text": [
      "Clipping input data to the valid range for imshow with RGB data ([0..1] for floats or [0..255] for integers).\n"
     ]
    },
    {
     "name": "stdout",
     "output_type": "stream",
     "text": [
      "1/1 [==============================] - 0s 132ms/step\n",
      "1/1 [==============================] - 0s 116ms/step\n"
     ]
    },
    {
     "name": "stderr",
     "output_type": "stream",
     "text": [
      "Clipping input data to the valid range for imshow with RGB data ([0..1] for floats or [0..255] for integers).\n"
     ]
    },
    {
     "name": "stdout",
     "output_type": "stream",
     "text": [
      "1/1 [==============================] - 0s 144ms/step\n",
      "1/1 [==============================] - 0s 406ms/step\n"
     ]
    },
    {
     "name": "stderr",
     "output_type": "stream",
     "text": [
      "Clipping input data to the valid range for imshow with RGB data ([0..1] for floats or [0..255] for integers).\n"
     ]
    },
    {
     "name": "stdout",
     "output_type": "stream",
     "text": [
      "1/1 [==============================] - 0s 143ms/step\n",
      "1/1 [==============================] - 0s 123ms/step\n"
     ]
    },
    {
     "name": "stderr",
     "output_type": "stream",
     "text": [
      "Clipping input data to the valid range for imshow with RGB data ([0..1] for floats or [0..255] for integers).\n"
     ]
    },
    {
     "name": "stdout",
     "output_type": "stream",
     "text": [
      "1/1 [==============================] - 0s 138ms/step\n",
      "1/1 [==============================] - 0s 153ms/step\n"
     ]
    },
    {
     "name": "stderr",
     "output_type": "stream",
     "text": [
      "Clipping input data to the valid range for imshow with RGB data ([0..1] for floats or [0..255] for integers).\n"
     ]
    },
    {
     "name": "stdout",
     "output_type": "stream",
     "text": [
      "1/1 [==============================] - 0s 141ms/step\n",
      "1/1 [==============================] - 0s 135ms/step\n"
     ]
    },
    {
     "name": "stderr",
     "output_type": "stream",
     "text": [
      "Clipping input data to the valid range for imshow with RGB data ([0..1] for floats or [0..255] for integers).\n"
     ]
    },
    {
     "name": "stdout",
     "output_type": "stream",
     "text": [
      "1/1 [==============================] - 0s 140ms/step\n",
      "1/1 [==============================] - 0s 142ms/step\n"
     ]
    },
    {
     "name": "stderr",
     "output_type": "stream",
     "text": [
      "Clipping input data to the valid range for imshow with RGB data ([0..1] for floats or [0..255] for integers).\n"
     ]
    },
    {
     "name": "stdout",
     "output_type": "stream",
     "text": [
      "1/1 [==============================] - 0s 178ms/step\n",
      "1/1 [==============================] - 0s 125ms/step\n"
     ]
    },
    {
     "name": "stderr",
     "output_type": "stream",
     "text": [
      "Clipping input data to the valid range for imshow with RGB data ([0..1] for floats or [0..255] for integers).\n"
     ]
    },
    {
     "name": "stdout",
     "output_type": "stream",
     "text": [
      "1/1 [==============================] - 0s 138ms/step\n",
      "1/1 [==============================] - 0s 206ms/step\n"
     ]
    },
    {
     "name": "stderr",
     "output_type": "stream",
     "text": [
      "Clipping input data to the valid range for imshow with RGB data ([0..1] for floats or [0..255] for integers).\n"
     ]
    },
    {
     "name": "stdout",
     "output_type": "stream",
     "text": [
      "1/1 [==============================] - 0s 139ms/step\n",
      "1/1 [==============================] - 0s 145ms/step\n"
     ]
    },
    {
     "name": "stderr",
     "output_type": "stream",
     "text": [
      "Clipping input data to the valid range for imshow with RGB data ([0..1] for floats or [0..255] for integers).\n"
     ]
    },
    {
     "name": "stdout",
     "output_type": "stream",
     "text": [
      "1/1 [==============================] - 0s 178ms/step\n",
      "1/1 [==============================] - 0s 129ms/step\n"
     ]
    },
    {
     "name": "stderr",
     "output_type": "stream",
     "text": [
      "Clipping input data to the valid range for imshow with RGB data ([0..1] for floats or [0..255] for integers).\n"
     ]
    },
    {
     "name": "stdout",
     "output_type": "stream",
     "text": [
      "1/1 [==============================] - 0s 144ms/step\n",
      "1/1 [==============================] - 0s 165ms/step\n"
     ]
    },
    {
     "name": "stderr",
     "output_type": "stream",
     "text": [
      "Clipping input data to the valid range for imshow with RGB data ([0..1] for floats or [0..255] for integers).\n"
     ]
    },
    {
     "name": "stdout",
     "output_type": "stream",
     "text": [
      "1/1 [==============================] - 0s 152ms/step\n",
      "1/1 [==============================] - 0s 135ms/step\n"
     ]
    },
    {
     "name": "stderr",
     "output_type": "stream",
     "text": [
      "Clipping input data to the valid range for imshow with RGB data ([0..1] for floats or [0..255] for integers).\n"
     ]
    },
    {
     "name": "stdout",
     "output_type": "stream",
     "text": [
      "1/1 [==============================] - 0s 130ms/step\n",
      "1/1 [==============================] - 0s 116ms/step\n"
     ]
    },
    {
     "name": "stderr",
     "output_type": "stream",
     "text": [
      "Clipping input data to the valid range for imshow with RGB data ([0..1] for floats or [0..255] for integers).\n"
     ]
    },
    {
     "name": "stdout",
     "output_type": "stream",
     "text": [
      "1/1 [==============================] - 0s 140ms/step\n",
      "1/1 [==============================] - 0s 127ms/step\n"
     ]
    },
    {
     "name": "stderr",
     "output_type": "stream",
     "text": [
      "Clipping input data to the valid range for imshow with RGB data ([0..1] for floats or [0..255] for integers).\n"
     ]
    },
    {
     "name": "stdout",
     "output_type": "stream",
     "text": [
      "1/1 [==============================] - 0s 123ms/step\n",
      "1/1 [==============================] - 0s 114ms/step\n"
     ]
    },
    {
     "name": "stderr",
     "output_type": "stream",
     "text": [
      "Clipping input data to the valid range for imshow with RGB data ([0..1] for floats or [0..255] for integers).\n"
     ]
    },
    {
     "name": "stdout",
     "output_type": "stream",
     "text": [
      "1/1 [==============================] - 0s 131ms/step\n",
      "1/1 [==============================] - 0s 126ms/step\n"
     ]
    },
    {
     "name": "stderr",
     "output_type": "stream",
     "text": [
      "Clipping input data to the valid range for imshow with RGB data ([0..1] for floats or [0..255] for integers).\n"
     ]
    },
    {
     "name": "stdout",
     "output_type": "stream",
     "text": [
      "1/1 [==============================] - 0s 180ms/step\n",
      "1/1 [==============================] - 0s 145ms/step\n"
     ]
    },
    {
     "name": "stderr",
     "output_type": "stream",
     "text": [
      "Clipping input data to the valid range for imshow with RGB data ([0..1] for floats or [0..255] for integers).\n"
     ]
    },
    {
     "name": "stdout",
     "output_type": "stream",
     "text": [
      "1/1 [==============================] - 0s 148ms/step\n",
      "1/1 [==============================] - 0s 117ms/step\n"
     ]
    },
    {
     "name": "stderr",
     "output_type": "stream",
     "text": [
      "Clipping input data to the valid range for imshow with RGB data ([0..1] for floats or [0..255] for integers).\n"
     ]
    },
    {
     "name": "stdout",
     "output_type": "stream",
     "text": [
      "1/1 [==============================] - 0s 146ms/step\n",
      "1/1 [==============================] - 0s 133ms/step\n"
     ]
    },
    {
     "name": "stderr",
     "output_type": "stream",
     "text": [
      "Clipping input data to the valid range for imshow with RGB data ([0..1] for floats or [0..255] for integers).\n"
     ]
    },
    {
     "name": "stdout",
     "output_type": "stream",
     "text": [
      "\n",
      "Done!\n",
      "Setting CPU\n",
      "9/9 [==============================] - 22s 2s/step\n",
      "9/9 [==============================] - 17s 2s/step\n",
      "9/9 [==============================] - 81s 9s/step\n",
      "Saving Model...\n",
      "5/5 [==============================] - 9s 2s/step\n",
      "5/5 [==============================] - 8s 2s/step\n",
      "5/5 [==============================] - 48s 10s/step\n",
      "Evaluating Model...\n",
      "\n",
      "Model Evaluation:\n",
      "{'Timestamp': '2024-05-07 12:17:30.862618', 'R2': 0.8109384516005285, 'MAE': 653910.5, 'Percentage Error': 15.74080149048486, 'MSE': 911819576792.5, 'Feature Importances': {'image_predictions': 0.020615268629378805, 'reconstruction_error': 0.020110865128521845, 'postal_code': 0.06118176317399395, 'type': 0.0, 'size': 0.644406955188061, 'basement_size': 0.0, 'rooms': 0.009597838915601113, 'year_built': 0.02668793490479919, 'year_rebuilt': 0.049864314560692805, 'energy_label': 0.007806423643432205, 'postal_avg_sqm_price': 0.12426893305972248, 'lat': 0.01443374848775962, 'lng': 0.021025954308036932}}\n",
      "\n",
      "Median Evaluation:\n",
      "{'R2': 0.8143066391053269, 'MAE': 645174.8125, 'Percentage Error': 15.467928614378087, 'MSE': 895575240854.375}\n",
      "Feauter Importance...\n",
      "{'image_predictions': 0.020615268629378805, 'reconstruction_error': 0.020110865128521845, 'postal_code': 0.06118176317399395, 'type': 0.0, 'size': 0.644406955188061, 'basement_size': 0.0, 'rooms': 0.009597838915601113, 'year_built': 0.02668793490479919, 'year_rebuilt': 0.049864314560692805, 'energy_label': 0.007806423643432205, 'postal_avg_sqm_price': 0.12426893305972248, 'lat': 0.01443374848775962, 'lng': 0.021025954308036932}\n"
     ]
    },
    {
     "name": "stderr",
     "output_type": "stream",
     "text": [
      "/usr/local/lib/python3.10/site-packages/sklearn/base.py:439: UserWarning: X does not have valid feature names, but RandomForestRegressor was fitted with feature names\n",
      "  warnings.warn(\n"
     ]
    },
    {
     "name": "stdout",
     "output_type": "stream",
     "text": [
      "\n",
      "Saving Feature Importance\n",
      "\n",
      "Saving Reconstructions\n",
      "5/5 [==============================] - 9s 2s/step\n",
      "5/5 [==============================] - 8s 2s/step\n",
      "[ 30  41  79  18  12 136 147  54 101 107]\n",
      "[ 93  44 100  16  50 156 135 130  53 134]\n",
      "1/1 [==============================] - 0s 122ms/step\n",
      "1/1 [==============================] - 0s 109ms/step\n"
     ]
    },
    {
     "name": "stderr",
     "output_type": "stream",
     "text": [
      "Clipping input data to the valid range for imshow with RGB data ([0..1] for floats or [0..255] for integers).\n"
     ]
    },
    {
     "name": "stdout",
     "output_type": "stream",
     "text": [
      "1/1 [==============================] - 0s 101ms/step\n",
      "1/1 [==============================] - 0s 90ms/step\n"
     ]
    },
    {
     "name": "stderr",
     "output_type": "stream",
     "text": [
      "Clipping input data to the valid range for imshow with RGB data ([0..1] for floats or [0..255] for integers).\n"
     ]
    },
    {
     "name": "stdout",
     "output_type": "stream",
     "text": [
      "1/1 [==============================] - 0s 100ms/step\n",
      "1/1 [==============================] - 0s 94ms/step\n"
     ]
    },
    {
     "name": "stderr",
     "output_type": "stream",
     "text": [
      "Clipping input data to the valid range for imshow with RGB data ([0..1] for floats or [0..255] for integers).\n"
     ]
    },
    {
     "name": "stdout",
     "output_type": "stream",
     "text": [
      "1/1 [==============================] - 0s 96ms/step\n",
      "1/1 [==============================] - 0s 103ms/step\n"
     ]
    },
    {
     "name": "stderr",
     "output_type": "stream",
     "text": [
      "Clipping input data to the valid range for imshow with RGB data ([0..1] for floats or [0..255] for integers).\n"
     ]
    },
    {
     "name": "stdout",
     "output_type": "stream",
     "text": [
      "1/1 [==============================] - 0s 102ms/step\n",
      "1/1 [==============================] - 0s 210ms/step\n"
     ]
    },
    {
     "name": "stderr",
     "output_type": "stream",
     "text": [
      "Clipping input data to the valid range for imshow with RGB data ([0..1] for floats or [0..255] for integers).\n"
     ]
    },
    {
     "name": "stdout",
     "output_type": "stream",
     "text": [
      "1/1 [==============================] - 0s 120ms/step\n",
      "1/1 [==============================] - 0s 113ms/step\n"
     ]
    },
    {
     "name": "stderr",
     "output_type": "stream",
     "text": [
      "Clipping input data to the valid range for imshow with RGB data ([0..1] for floats or [0..255] for integers).\n"
     ]
    },
    {
     "name": "stdout",
     "output_type": "stream",
     "text": [
      "1/1 [==============================] - 0s 110ms/step\n",
      "1/1 [==============================] - 0s 181ms/step\n"
     ]
    },
    {
     "name": "stderr",
     "output_type": "stream",
     "text": [
      "Clipping input data to the valid range for imshow with RGB data ([0..1] for floats or [0..255] for integers).\n"
     ]
    },
    {
     "name": "stdout",
     "output_type": "stream",
     "text": [
      "1/1 [==============================] - 0s 115ms/step\n",
      "1/1 [==============================] - 0s 103ms/step\n"
     ]
    },
    {
     "name": "stderr",
     "output_type": "stream",
     "text": [
      "Clipping input data to the valid range for imshow with RGB data ([0..1] for floats or [0..255] for integers).\n"
     ]
    },
    {
     "name": "stdout",
     "output_type": "stream",
     "text": [
      "1/1 [==============================] - 0s 109ms/step\n",
      "1/1 [==============================] - 0s 127ms/step\n"
     ]
    },
    {
     "name": "stderr",
     "output_type": "stream",
     "text": [
      "Clipping input data to the valid range for imshow with RGB data ([0..1] for floats or [0..255] for integers).\n"
     ]
    },
    {
     "name": "stdout",
     "output_type": "stream",
     "text": [
      "1/1 [==============================] - 0s 111ms/step\n",
      "1/1 [==============================] - 0s 115ms/step\n"
     ]
    },
    {
     "name": "stderr",
     "output_type": "stream",
     "text": [
      "Clipping input data to the valid range for imshow with RGB data ([0..1] for floats or [0..255] for integers).\n"
     ]
    },
    {
     "name": "stdout",
     "output_type": "stream",
     "text": [
      "1/1 [==============================] - 0s 147ms/step\n",
      "1/1 [==============================] - 0s 117ms/step\n"
     ]
    },
    {
     "name": "stderr",
     "output_type": "stream",
     "text": [
      "Clipping input data to the valid range for imshow with RGB data ([0..1] for floats or [0..255] for integers).\n"
     ]
    },
    {
     "name": "stdout",
     "output_type": "stream",
     "text": [
      "1/1 [==============================] - 0s 120ms/step\n",
      "1/1 [==============================] - 0s 107ms/step\n"
     ]
    },
    {
     "name": "stderr",
     "output_type": "stream",
     "text": [
      "Clipping input data to the valid range for imshow with RGB data ([0..1] for floats or [0..255] for integers).\n"
     ]
    },
    {
     "name": "stdout",
     "output_type": "stream",
     "text": [
      "1/1 [==============================] - 0s 112ms/step\n",
      "1/1 [==============================] - 0s 116ms/step\n"
     ]
    },
    {
     "name": "stderr",
     "output_type": "stream",
     "text": [
      "Clipping input data to the valid range for imshow with RGB data ([0..1] for floats or [0..255] for integers).\n"
     ]
    },
    {
     "name": "stdout",
     "output_type": "stream",
     "text": [
      "1/1 [==============================] - 0s 116ms/step\n",
      "1/1 [==============================] - 0s 102ms/step\n"
     ]
    },
    {
     "name": "stderr",
     "output_type": "stream",
     "text": [
      "Clipping input data to the valid range for imshow with RGB data ([0..1] for floats or [0..255] for integers).\n"
     ]
    },
    {
     "name": "stdout",
     "output_type": "stream",
     "text": [
      "1/1 [==============================] - 0s 119ms/step\n",
      "1/1 [==============================] - 0s 116ms/step\n"
     ]
    },
    {
     "name": "stderr",
     "output_type": "stream",
     "text": [
      "Clipping input data to the valid range for imshow with RGB data ([0..1] for floats or [0..255] for integers).\n"
     ]
    },
    {
     "name": "stdout",
     "output_type": "stream",
     "text": [
      "1/1 [==============================] - 0s 113ms/step\n",
      "1/1 [==============================] - 0s 108ms/step\n"
     ]
    },
    {
     "name": "stderr",
     "output_type": "stream",
     "text": [
      "Clipping input data to the valid range for imshow with RGB data ([0..1] for floats or [0..255] for integers).\n"
     ]
    },
    {
     "name": "stdout",
     "output_type": "stream",
     "text": [
      "1/1 [==============================] - 0s 106ms/step\n",
      "1/1 [==============================] - 0s 93ms/step\n"
     ]
    },
    {
     "name": "stderr",
     "output_type": "stream",
     "text": [
      "Clipping input data to the valid range for imshow with RGB data ([0..1] for floats or [0..255] for integers).\n"
     ]
    },
    {
     "name": "stdout",
     "output_type": "stream",
     "text": [
      "1/1 [==============================] - 0s 114ms/step\n",
      "1/1 [==============================] - 0s 112ms/step\n"
     ]
    },
    {
     "name": "stderr",
     "output_type": "stream",
     "text": [
      "Clipping input data to the valid range for imshow with RGB data ([0..1] for floats or [0..255] for integers).\n"
     ]
    },
    {
     "name": "stdout",
     "output_type": "stream",
     "text": [
      "1/1 [==============================] - 0s 108ms/step\n",
      "1/1 [==============================] - 0s 113ms/step\n"
     ]
    },
    {
     "name": "stderr",
     "output_type": "stream",
     "text": [
      "Clipping input data to the valid range for imshow with RGB data ([0..1] for floats or [0..255] for integers).\n"
     ]
    },
    {
     "name": "stdout",
     "output_type": "stream",
     "text": [
      "1/1 [==============================] - 0s 107ms/step\n",
      "1/1 [==============================] - 0s 99ms/step\n"
     ]
    },
    {
     "name": "stderr",
     "output_type": "stream",
     "text": [
      "Clipping input data to the valid range for imshow with RGB data ([0..1] for floats or [0..255] for integers).\n"
     ]
    },
    {
     "name": "stdout",
     "output_type": "stream",
     "text": [
      "\n",
      "Done!\n",
      "Setting CPU\n",
      "9/9 [==============================] - 16s 2s/step\n",
      "9/9 [==============================] - 14s 2s/step\n",
      "9/9 [==============================] - 81s 9s/step\n",
      "Saving Model...\n",
      "5/5 [==============================] - 9s 2s/step\n",
      "5/5 [==============================] - 7s 2s/step\n",
      "5/5 [==============================] - 51s 10s/step\n",
      "Evaluating Model...\n",
      "\n",
      "Model Evaluation:\n",
      "{'Timestamp': '2024-05-07 12:22:26.843486', 'R2': 0.8227002633078612, 'MAE': 631338.4375, 'Percentage Error': 15.186219316534716, 'MSE': 855093868873.125, 'Feature Importances': {'image_predictions': 0.02081638436789146, 'reconstruction_error': 0.020927661690705736, 'postal_code': 0.06005165391469098, 'type': 0.0, 'size': 0.6437987260011627, 'basement_size': 0.0, 'rooms': 0.008258556793029757, 'year_built': 0.03235727782781727, 'year_rebuilt': 0.04887028261547563, 'energy_label': 0.007323305316238343, 'postal_avg_sqm_price': 0.12289646316703719, 'lat': 0.014913201669130483, 'lng': 0.019786486636820377}}\n",
      "\n",
      "Median Evaluation:\n",
      "{'R2': 0.8153741473128682, 'MAE': 644674.125, 'Percentage Error': 15.423276776278195, 'MSE': 890426785812.8125}\n",
      "Feauter Importance...\n",
      "{'image_predictions': 0.02081638436789146, 'reconstruction_error': 0.020927661690705736, 'postal_code': 0.06005165391469098, 'type': 0.0, 'size': 0.6437987260011627, 'basement_size': 0.0, 'rooms': 0.008258556793029757, 'year_built': 0.03235727782781727, 'year_rebuilt': 0.04887028261547563, 'energy_label': 0.007323305316238343, 'postal_avg_sqm_price': 0.12289646316703719, 'lat': 0.014913201669130483, 'lng': 0.019786486636820377}\n"
     ]
    },
    {
     "name": "stderr",
     "output_type": "stream",
     "text": [
      "/usr/local/lib/python3.10/site-packages/sklearn/base.py:439: UserWarning: X does not have valid feature names, but RandomForestRegressor was fitted with feature names\n",
      "  warnings.warn(\n"
     ]
    },
    {
     "name": "stdout",
     "output_type": "stream",
     "text": [
      "\n",
      "Saving Feature Importance\n",
      "\n",
      "Saving Reconstructions\n",
      "5/5 [==============================] - 11s 2s/step\n",
      "5/5 [==============================] - 10s 2s/step\n",
      "[ 30  41  79  18  12 136 147  54 101 107]\n",
      "[ 93  44 100  16  50 156 135 130  53 134]\n",
      "1/1 [==============================] - 0s 190ms/step\n",
      "1/1 [==============================] - 0s 138ms/step\n"
     ]
    },
    {
     "name": "stderr",
     "output_type": "stream",
     "text": [
      "Clipping input data to the valid range for imshow with RGB data ([0..1] for floats or [0..255] for integers).\n"
     ]
    },
    {
     "name": "stdout",
     "output_type": "stream",
     "text": [
      "1/1 [==============================] - 0s 152ms/step\n",
      "1/1 [==============================] - 0s 160ms/step\n"
     ]
    },
    {
     "name": "stderr",
     "output_type": "stream",
     "text": [
      "Clipping input data to the valid range for imshow with RGB data ([0..1] for floats or [0..255] for integers).\n"
     ]
    },
    {
     "name": "stdout",
     "output_type": "stream",
     "text": [
      "1/1 [==============================] - 0s 135ms/step\n",
      "1/1 [==============================] - 0s 134ms/step\n"
     ]
    },
    {
     "name": "stderr",
     "output_type": "stream",
     "text": [
      "Clipping input data to the valid range for imshow with RGB data ([0..1] for floats or [0..255] for integers).\n"
     ]
    },
    {
     "name": "stdout",
     "output_type": "stream",
     "text": [
      "1/1 [==============================] - 0s 145ms/step\n",
      "1/1 [==============================] - 0s 130ms/step\n"
     ]
    },
    {
     "name": "stderr",
     "output_type": "stream",
     "text": [
      "Clipping input data to the valid range for imshow with RGB data ([0..1] for floats or [0..255] for integers).\n"
     ]
    },
    {
     "name": "stdout",
     "output_type": "stream",
     "text": [
      "1/1 [==============================] - 0s 117ms/step\n",
      "1/1 [==============================] - 0s 146ms/step\n"
     ]
    },
    {
     "name": "stderr",
     "output_type": "stream",
     "text": [
      "Clipping input data to the valid range for imshow with RGB data ([0..1] for floats or [0..255] for integers).\n"
     ]
    },
    {
     "name": "stdout",
     "output_type": "stream",
     "text": [
      "1/1 [==============================] - 0s 130ms/step\n",
      "1/1 [==============================] - 0s 141ms/step\n"
     ]
    },
    {
     "name": "stderr",
     "output_type": "stream",
     "text": [
      "Clipping input data to the valid range for imshow with RGB data ([0..1] for floats or [0..255] for integers).\n"
     ]
    },
    {
     "name": "stdout",
     "output_type": "stream",
     "text": [
      "1/1 [==============================] - 0s 226ms/step\n",
      "1/1 [==============================] - 0s 191ms/step\n"
     ]
    },
    {
     "name": "stderr",
     "output_type": "stream",
     "text": [
      "Clipping input data to the valid range for imshow with RGB data ([0..1] for floats or [0..255] for integers).\n"
     ]
    },
    {
     "name": "stdout",
     "output_type": "stream",
     "text": [
      "1/1 [==============================] - 0s 128ms/step\n",
      "1/1 [==============================] - 0s 130ms/step\n"
     ]
    },
    {
     "name": "stderr",
     "output_type": "stream",
     "text": [
      "Clipping input data to the valid range for imshow with RGB data ([0..1] for floats or [0..255] for integers).\n"
     ]
    },
    {
     "name": "stdout",
     "output_type": "stream",
     "text": [
      "1/1 [==============================] - 0s 142ms/step\n",
      "1/1 [==============================] - 0s 143ms/step\n"
     ]
    },
    {
     "name": "stderr",
     "output_type": "stream",
     "text": [
      "Clipping input data to the valid range for imshow with RGB data ([0..1] for floats or [0..255] for integers).\n"
     ]
    },
    {
     "name": "stdout",
     "output_type": "stream",
     "text": [
      "1/1 [==============================] - 0s 138ms/step\n",
      "1/1 [==============================] - 0s 135ms/step\n"
     ]
    },
    {
     "name": "stderr",
     "output_type": "stream",
     "text": [
      "Clipping input data to the valid range for imshow with RGB data ([0..1] for floats or [0..255] for integers).\n"
     ]
    },
    {
     "name": "stdout",
     "output_type": "stream",
     "text": [
      "1/1 [==============================] - 0s 139ms/step\n",
      "1/1 [==============================] - 0s 127ms/step\n"
     ]
    },
    {
     "name": "stderr",
     "output_type": "stream",
     "text": [
      "Clipping input data to the valid range for imshow with RGB data ([0..1] for floats or [0..255] for integers).\n"
     ]
    },
    {
     "name": "stdout",
     "output_type": "stream",
     "text": [
      "1/1 [==============================] - 0s 137ms/step\n",
      "1/1 [==============================] - 0s 159ms/step\n"
     ]
    },
    {
     "name": "stderr",
     "output_type": "stream",
     "text": [
      "Clipping input data to the valid range for imshow with RGB data ([0..1] for floats or [0..255] for integers).\n"
     ]
    },
    {
     "name": "stdout",
     "output_type": "stream",
     "text": [
      "1/1 [==============================] - 0s 144ms/step\n",
      "1/1 [==============================] - 0s 116ms/step\n"
     ]
    },
    {
     "name": "stderr",
     "output_type": "stream",
     "text": [
      "Clipping input data to the valid range for imshow with RGB data ([0..1] for floats or [0..255] for integers).\n"
     ]
    },
    {
     "name": "stdout",
     "output_type": "stream",
     "text": [
      "1/1 [==============================] - 0s 202ms/step\n",
      "1/1 [==============================] - 0s 130ms/step\n"
     ]
    },
    {
     "name": "stderr",
     "output_type": "stream",
     "text": [
      "Clipping input data to the valid range for imshow with RGB data ([0..1] for floats or [0..255] for integers).\n"
     ]
    },
    {
     "name": "stdout",
     "output_type": "stream",
     "text": [
      "1/1 [==============================] - 0s 137ms/step\n",
      "1/1 [==============================] - 0s 135ms/step\n"
     ]
    },
    {
     "name": "stderr",
     "output_type": "stream",
     "text": [
      "Clipping input data to the valid range for imshow with RGB data ([0..1] for floats or [0..255] for integers).\n"
     ]
    },
    {
     "name": "stdout",
     "output_type": "stream",
     "text": [
      "1/1 [==============================] - 0s 149ms/step\n",
      "1/1 [==============================] - 0s 112ms/step\n"
     ]
    },
    {
     "name": "stderr",
     "output_type": "stream",
     "text": [
      "Clipping input data to the valid range for imshow with RGB data ([0..1] for floats or [0..255] for integers).\n"
     ]
    },
    {
     "name": "stdout",
     "output_type": "stream",
     "text": [
      "1/1 [==============================] - 0s 132ms/step\n",
      "1/1 [==============================] - 0s 130ms/step\n"
     ]
    },
    {
     "name": "stderr",
     "output_type": "stream",
     "text": [
      "Clipping input data to the valid range for imshow with RGB data ([0..1] for floats or [0..255] for integers).\n"
     ]
    },
    {
     "name": "stdout",
     "output_type": "stream",
     "text": [
      "1/1 [==============================] - 0s 144ms/step\n",
      "1/1 [==============================] - 0s 132ms/step\n"
     ]
    },
    {
     "name": "stderr",
     "output_type": "stream",
     "text": [
      "Clipping input data to the valid range for imshow with RGB data ([0..1] for floats or [0..255] for integers).\n"
     ]
    },
    {
     "name": "stdout",
     "output_type": "stream",
     "text": [
      "1/1 [==============================] - 0s 143ms/step\n",
      "1/1 [==============================] - 0s 129ms/step\n"
     ]
    },
    {
     "name": "stderr",
     "output_type": "stream",
     "text": [
      "Clipping input data to the valid range for imshow with RGB data ([0..1] for floats or [0..255] for integers).\n"
     ]
    },
    {
     "name": "stdout",
     "output_type": "stream",
     "text": [
      "1/1 [==============================] - 0s 127ms/step\n",
      "1/1 [==============================] - 0s 131ms/step\n"
     ]
    },
    {
     "name": "stderr",
     "output_type": "stream",
     "text": [
      "Clipping input data to the valid range for imshow with RGB data ([0..1] for floats or [0..255] for integers).\n"
     ]
    },
    {
     "name": "stdout",
     "output_type": "stream",
     "text": [
      "\n",
      "Done!\n"
     ]
    }
   ],
   "source": [
    "from models import CNN_AE_RF_model\n",
    "#img_model =  keras.models.load_model(f\"{MODELS_PATH}/MobileNetV2/model\")\n",
    "TYPE = 'CNN_AE_RF'\n",
    "MODEL_NAME: str = \"EfficientNetB3_AE_RF\"\n",
    "FUNCTION: object = CNN_AE_RF_model\n",
    "ARGS: tuple = (\n",
    "    EfficientNetB3_CNN_Img_model, #keras.models.load_model(f\"{MODELS_PATH}/MobileNetV2/model\")\n",
    "    AE_448, #Or none for training it from scratch\n",
    "    train2_images_448,\n",
    "    train2_features,\n",
    "    train2_prices,\n",
    ")\n",
    "for i in range(10):\n",
    "    train_save_model(FUNCTION, ARGS, test_images_448, test_features,  test_prices, f\"{MODELS_PATH}/{MODEL_NAME}\", USE_GPU, TYPE)"
   ]
  },
  {
   "cell_type": "markdown",
   "metadata": {},
   "source": [
    "### N-CNN"
   ]
  },
  {
   "cell_type": "code",
   "execution_count": null,
   "metadata": {},
   "outputs": [],
   "source": [
    "from models import N_CNN_RF_model\n",
    "from keras.applications import MobileNetV3Small\n",
    "TYPE = 'CNN_RF'\n",
    "MODEL_NAME: str = \"N_CNN_MobileNetV2_RF\"\n",
    "FUNCTION: object = N_CNN_RF_model\n",
    "ARGS: tuple = (\n",
    "    4,\n",
    "    MobileNetV3Small,\n",
    "    np.concatenate((train1_images, train2_images), axis=0),\n",
    "    pd.concat((train1_features, train2_features), axis=0),\n",
    "\n",
    "    np.concatenate((train1_prices, train2_prices), axis=0),\n",
    ")\n",
    "train_save_model(FUNCTION, ARGS, test_images, test_features,  test_prices, f\"{MODELS_PATH}/{MODEL_NAME}\", USE_GPU, TYPE)"
   ]
  },
  {
   "cell_type": "code",
   "execution_count": null,
   "metadata": {},
   "outputs": [
    {
     "name": "stdout",
     "output_type": "stream",
     "text": [
      "Training model  0\n",
      "Number of Training Images 427\n",
      "Mean of Training Images 3760796.2529274006\n",
      "Compiling Model\n",
      "Fitting Model\n",
      "Epoch 1/100\n",
      "14/14 [==============================] - 29s 972ms/step - loss: 3771485.0000 - mean_absolute_error: 3760770.7500 - val_loss: 4306321.5000 - val_mean_absolute_error: 4302275.0000\n",
      "Epoch 2/100\n",
      "14/14 [==============================] - 9s 636ms/step - loss: 3762207.7500 - mean_absolute_error: 3758456.0000 - val_loss: 4294137.0000 - val_mean_absolute_error: 4290513.5000\n",
      "Epoch 3/100\n",
      "14/14 [==============================] - 9s 649ms/step - loss: 3691666.5000 - mean_absolute_error: 3685977.7500 - val_loss: 4040676.2500 - val_mean_absolute_error: 4030434.2500\n",
      "Epoch 4/100\n",
      "14/14 [==============================] - 9s 640ms/step - loss: 2845275.7500 - mean_absolute_error: 2827626.5000 - val_loss: 2073299.2500 - val_mean_absolute_error: 2043941.2500\n",
      "Epoch 5/100\n",
      "14/14 [==============================] - 9s 645ms/step - loss: 1577538.2500 - mean_absolute_error: 1544202.2500 - val_loss: 1875696.2500 - val_mean_absolute_error: 1842902.0000\n",
      "Epoch 6/100\n",
      "14/14 [==============================] - 9s 651ms/step - loss: 1450608.0000 - mean_absolute_error: 1418551.5000 - val_loss: 1837126.0000 - val_mean_absolute_error: 1803481.8750\n",
      "Epoch 7/100\n",
      "14/14 [==============================] - 9s 650ms/step - loss: 1361580.6250 - mean_absolute_error: 1327434.3750 - val_loss: 1738119.3750 - val_mean_absolute_error: 1703582.5000\n",
      "Epoch 8/100\n",
      "14/14 [==============================] - 9s 637ms/step - loss: 1321883.2500 - mean_absolute_error: 1286874.2500 - val_loss: 1770381.2500 - val_mean_absolute_error: 1735261.2500\n",
      "Epoch 9/100\n",
      "14/14 [==============================] - 9s 646ms/step - loss: 1246148.5000 - mean_absolute_error: 1210019.1250 - val_loss: 1630572.3750 - val_mean_absolute_error: 1593359.7500\n",
      "Epoch 10/100\n",
      "14/14 [==============================] - 9s 630ms/step - loss: 1219087.5000 - mean_absolute_error: 1181174.1250 - val_loss: 1617270.0000 - val_mean_absolute_error: 1578504.8750\n",
      "Epoch 11/100\n",
      "14/14 [==============================] - 9s 646ms/step - loss: 1186351.0000 - mean_absolute_error: 1146656.2500 - val_loss: 1588815.2500 - val_mean_absolute_error: 1547840.0000\n",
      "Epoch 12/100\n",
      "14/14 [==============================] - 9s 638ms/step - loss: 1134775.5000 - mean_absolute_error: 1093068.7500 - val_loss: 1571898.6250 - val_mean_absolute_error: 1528850.1250\n",
      "Epoch 13/100\n",
      "14/14 [==============================] - 9s 660ms/step - loss: 1071038.8750 - mean_absolute_error: 1027217.3750 - val_loss: 1547641.8750 - val_mean_absolute_error: 1502581.2500\n",
      "Epoch 14/100\n",
      "14/14 [==============================] - 9s 617ms/step - loss: 1003986.0000 - mean_absolute_error: 957995.2500 - val_loss: 1520027.6250 - val_mean_absolute_error: 1472627.5000\n",
      "Epoch 15/100\n",
      "14/14 [==============================] - 8s 611ms/step - loss: 946153.9375 - mean_absolute_error: 897695.3125 - val_loss: 1515300.3750 - val_mean_absolute_error: 1465554.1250\n",
      "Epoch 16/100\n",
      "14/14 [==============================] - 8s 588ms/step - loss: 886844.1875 - mean_absolute_error: 835769.1250 - val_loss: 1479703.8750 - val_mean_absolute_error: 1427148.8750\n",
      "Epoch 17/100\n",
      "14/14 [==============================] - 9s 644ms/step - loss: 856512.8125 - mean_absolute_error: 802817.8125 - val_loss: 1473267.1250 - val_mean_absolute_error: 1418271.1250\n",
      "Epoch 18/100\n",
      "14/14 [==============================] - 8s 586ms/step - loss: 793125.9375 - mean_absolute_error: 737209.0000 - val_loss: 1447703.8750 - val_mean_absolute_error: 1390692.3750\n",
      "Epoch 19/100\n",
      "14/14 [==============================] - 8s 605ms/step - loss: 750537.1250 - mean_absolute_error: 692816.8125 - val_loss: 1444601.7500 - val_mean_absolute_error: 1386140.5000\n",
      "Epoch 20/100\n",
      "14/14 [==============================] - 8s 602ms/step - loss: 711967.7500 - mean_absolute_error: 652880.2500 - val_loss: 1448239.5000 - val_mean_absolute_error: 1388432.6250\n",
      "Epoch 21/100\n",
      "14/14 [==============================] - 9s 626ms/step - loss: 645025.2500 - mean_absolute_error: 584582.8750 - val_loss: 1438702.5000 - val_mean_absolute_error: 1377547.1250\n",
      "Epoch 22/100\n",
      "14/14 [==============================] - 8s 591ms/step - loss: 627857.3750 - mean_absolute_error: 566027.9375 - val_loss: 1428354.7500 - val_mean_absolute_error: 1365940.2500\n",
      "Epoch 23/100\n",
      "14/14 [==============================] - 9s 615ms/step - loss: 604155.3125 - mean_absolute_error: 541535.8750 - val_loss: 1427644.0000 - val_mean_absolute_error: 1364775.1250\n",
      "Epoch 24/100\n",
      "14/14 [==============================] - 9s 630ms/step - loss: 588977.9375 - mean_absolute_error: 525804.4375 - val_loss: 1478225.0000 - val_mean_absolute_error: 1414629.7500\n",
      "Epoch 25/100\n",
      "14/14 [==============================] - 8s 610ms/step - loss: 575285.0000 - mean_absolute_error: 511267.5000 - val_loss: 1451477.3750 - val_mean_absolute_error: 1387023.0000\n",
      "Epoch 26/100\n",
      "14/14 [==============================] - 8s 609ms/step - loss: 611938.0000 - mean_absolute_error: 547495.3750 - val_loss: 1441020.1250 - val_mean_absolute_error: 1376408.2500\n",
      "Epoch 27/100\n",
      "14/14 [==============================] - 8s 598ms/step - loss: 547929.2500 - mean_absolute_error: 483081.0625 - val_loss: 1460095.5000 - val_mean_absolute_error: 1394945.0000\n",
      "Epoch 28/100\n",
      "14/14 [==============================] - 9s 631ms/step - loss: 529251.1875 - mean_absolute_error: 463778.4688 - val_loss: 1429839.3750 - val_mean_absolute_error: 1364054.1250\n",
      "Epoch 29/100\n",
      "14/14 [==============================] - 9s 620ms/step - loss: 498092.0938 - mean_absolute_error: 432109.2500 - val_loss: 1443413.0000 - val_mean_absolute_error: 1377230.5000\n",
      "Epoch 30/100\n",
      "14/14 [==============================] - 8s 601ms/step - loss: 487883.7188 - mean_absolute_error: 421665.5312 - val_loss: 1432069.1250 - val_mean_absolute_error: 1365769.8750\n",
      "Epoch 31/100\n",
      "14/14 [==============================] - 9s 615ms/step - loss: 462849.1562 - mean_absolute_error: 396450.3750 - val_loss: 1435181.3750 - val_mean_absolute_error: 1368647.3750\n",
      "Epoch 32/100\n",
      "14/14 [==============================] - 9s 642ms/step - loss: 490407.7812 - mean_absolute_error: 423832.0625 - val_loss: 1427387.8750 - val_mean_absolute_error: 1360796.3750\n",
      "Epoch 33/100\n",
      "14/14 [==============================] - 9s 620ms/step - loss: 480838.8125 - mean_absolute_error: 414092.3750 - val_loss: 1479233.8750 - val_mean_absolute_error: 1412124.0000\n",
      "Epoch 34/100\n",
      "14/14 [==============================] - 9s 613ms/step - loss: 517257.8125 - mean_absolute_error: 450063.0625 - val_loss: 1404783.2500 - val_mean_absolute_error: 1337464.5000\n",
      "Epoch 35/100\n",
      "14/14 [==============================] - 9s 645ms/step - loss: 438351.9688 - mean_absolute_error: 370801.4688 - val_loss: 1409481.2500 - val_mean_absolute_error: 1341889.7500\n",
      "Epoch 36/100\n",
      "14/14 [==============================] - 9s 647ms/step - loss: 427970.8125 - mean_absolute_error: 360338.0938 - val_loss: 1418948.2500 - val_mean_absolute_error: 1351197.6250\n",
      "Epoch 37/100\n",
      "14/14 [==============================] - 9s 623ms/step - loss: 442740.0938 - mean_absolute_error: 374994.9375 - val_loss: 1396347.7500 - val_mean_absolute_error: 1328618.5000\n",
      "Epoch 38/100\n",
      "14/14 [==============================] - 9s 610ms/step - loss: 405927.0000 - mean_absolute_error: 338239.4375 - val_loss: 1417382.3750 - val_mean_absolute_error: 1349751.1250\n",
      "Epoch 39/100\n",
      "14/14 [==============================] - 8s 608ms/step - loss: 388197.2188 - mean_absolute_error: 320458.8750 - val_loss: 1403620.7500 - val_mean_absolute_error: 1335832.8750\n",
      "Epoch 40/100\n",
      "14/14 [==============================] - 9s 615ms/step - loss: 388722.5938 - mean_absolute_error: 320872.2500 - val_loss: 1417978.3750 - val_mean_absolute_error: 1350153.6250\n",
      "Epoch 41/100\n",
      "14/14 [==============================] - 9s 619ms/step - loss: 375965.5000 - mean_absolute_error: 308060.1875 - val_loss: 1415272.1250 - val_mean_absolute_error: 1347310.1250\n",
      "Epoch 42/100\n",
      "14/14 [==============================] - 9s 638ms/step - loss: 370819.0000 - mean_absolute_error: 302868.0000 - val_loss: 1414318.1250 - val_mean_absolute_error: 1346409.3750\n",
      "Epoch 43/100\n",
      "14/14 [==============================] - 9s 628ms/step - loss: 387825.8438 - mean_absolute_error: 320004.1250 - val_loss: 1421152.7500 - val_mean_absolute_error: 1353503.0000\n",
      "Epoch 44/100\n",
      "14/14 [==============================] - 9s 633ms/step - loss: 340584.9688 - mean_absolute_error: 272987.3438 - val_loss: 1398467.5000 - val_mean_absolute_error: 1330879.1250\n",
      "Epoch 45/100\n",
      "14/14 [==============================] - 9s 609ms/step - loss: 342618.6875 - mean_absolute_error: 275053.4062 - val_loss: 1411571.5000 - val_mean_absolute_error: 1344103.7500\n",
      "Epoch 46/100\n",
      "14/14 [==============================] - 9s 629ms/step - loss: 349736.2812 - mean_absolute_error: 282208.5312 - val_loss: 1385891.8750 - val_mean_absolute_error: 1318336.7500\n",
      "Epoch 47/100\n",
      "14/14 [==============================] - 9s 622ms/step - loss: 345030.7188 - mean_absolute_error: 277541.5312 - val_loss: 1420514.6250 - val_mean_absolute_error: 1353081.0000\n",
      "Epoch 48/100\n",
      "14/14 [==============================] - 9s 639ms/step - loss: 360282.5312 - mean_absolute_error: 292778.5938 - val_loss: 1380945.8750 - val_mean_absolute_error: 1313419.6250\n",
      "Epoch 49/100\n",
      "14/14 [==============================] - 9s 628ms/step - loss: 359547.3125 - mean_absolute_error: 292081.7188 - val_loss: 1405637.7500 - val_mean_absolute_error: 1338325.3750\n",
      "Epoch 50/100\n",
      "14/14 [==============================] - 9s 620ms/step - loss: 321445.4375 - mean_absolute_error: 254185.4375 - val_loss: 1391607.3750 - val_mean_absolute_error: 1324388.8750\n",
      "Epoch 51/100\n",
      "14/14 [==============================] - 9s 636ms/step - loss: 335537.5312 - mean_absolute_error: 268323.2500 - val_loss: 1418928.3750 - val_mean_absolute_error: 1351764.0000\n",
      "Epoch 52/100\n",
      "14/14 [==============================] - 9s 646ms/step - loss: 366639.7500 - mean_absolute_error: 299554.2812 - val_loss: 1390620.3750 - val_mean_absolute_error: 1323626.6250\n",
      "Epoch 53/100\n",
      "14/14 [==============================] - 9s 610ms/step - loss: 327118.8750 - mean_absolute_error: 260132.3125 - val_loss: 1393327.5000 - val_mean_absolute_error: 1326391.8750\n",
      "Epoch 54/100\n",
      "14/14 [==============================] - 9s 616ms/step - loss: 320451.8750 - mean_absolute_error: 253612.0156 - val_loss: 1397038.1250 - val_mean_absolute_error: 1330250.7500\n",
      "Epoch 55/100\n",
      "14/14 [==============================] - 9s 626ms/step - loss: 340688.1562 - mean_absolute_error: 273903.4062 - val_loss: 1412702.6250 - val_mean_absolute_error: 1345975.1250\n",
      "Epoch 56/100\n",
      "14/14 [==============================] - 9s 657ms/step - loss: 315446.3750 - mean_absolute_error: 248815.0625 - val_loss: 1410876.2500 - val_mean_absolute_error: 1344370.5000\n",
      "Epoch 57/100\n",
      "14/14 [==============================] - 8s 606ms/step - loss: 308926.4375 - mean_absolute_error: 242453.2656 - val_loss: 1398202.7500 - val_mean_absolute_error: 1331818.6250\n",
      "Epoch 58/100\n",
      "14/14 [==============================] - 8s 610ms/step - loss: 334885.4375 - mean_absolute_error: 268619.8125 - val_loss: 1392182.5000 - val_mean_absolute_error: 1325957.6250\n",
      "Epoch 59/100\n",
      "14/14 [==============================] - 9s 637ms/step - loss: 354891.8438 - mean_absolute_error: 288672.5312 - val_loss: 1398963.6250 - val_mean_absolute_error: 1332768.2500\n",
      "Epoch 60/100\n",
      "14/14 [==============================] - 9s 677ms/step - loss: 321113.0625 - mean_absolute_error: 254836.2969 - val_loss: 1371874.6250 - val_mean_absolute_error: 1305509.5000\n",
      "Epoch 61/100\n",
      "14/14 [==============================] - 8s 602ms/step - loss: 317283.9375 - mean_absolute_error: 251000.2500 - val_loss: 1406050.5000 - val_mean_absolute_error: 1339944.1250\n",
      "Epoch 62/100\n",
      "14/14 [==============================] - 9s 610ms/step - loss: 318176.2188 - mean_absolute_error: 252233.3125 - val_loss: 1404604.7500 - val_mean_absolute_error: 1338896.2500\n",
      "Epoch 63/100\n",
      "14/14 [==============================] - 9s 629ms/step - loss: 325774.1250 - mean_absolute_error: 260058.1719 - val_loss: 1375092.3750 - val_mean_absolute_error: 1309361.8750\n",
      "Epoch 64/100\n",
      "14/14 [==============================] - 9s 650ms/step - loss: 363195.8438 - mean_absolute_error: 297487.5938 - val_loss: 1369524.6250 - val_mean_absolute_error: 1303854.1250\n",
      "Epoch 65/100\n",
      "14/14 [==============================] - 9s 631ms/step - loss: 355462.9062 - mean_absolute_error: 289874.1875 - val_loss: 1402739.5000 - val_mean_absolute_error: 1337228.0000\n",
      "Epoch 66/100\n",
      "14/14 [==============================] - 9s 640ms/step - loss: 319449.3438 - mean_absolute_error: 253895.8281 - val_loss: 1381854.8750 - val_mean_absolute_error: 1316260.3750\n",
      "Epoch 67/100\n",
      "14/14 [==============================] - 9s 643ms/step - loss: 307426.9688 - mean_absolute_error: 241809.4688 - val_loss: 1369519.0000 - val_mean_absolute_error: 1303914.7500\n",
      "Epoch 68/100\n",
      "14/14 [==============================] - 9s 640ms/step - loss: 331500.8750 - mean_absolute_error: 265953.1875 - val_loss: 1382632.3750 - val_mean_absolute_error: 1317185.8750\n",
      "Epoch 69/100\n",
      "14/14 [==============================] - 9s 646ms/step - loss: 294997.3438 - mean_absolute_error: 229636.6250 - val_loss: 1387731.2500 - val_mean_absolute_error: 1322410.5000\n",
      "Epoch 70/100\n",
      "14/14 [==============================] - 9s 640ms/step - loss: 296560.2500 - mean_absolute_error: 231261.8281 - val_loss: 1384666.3750 - val_mean_absolute_error: 1319399.1250\n",
      "Epoch 71/100\n",
      "14/14 [==============================] - 9s 642ms/step - loss: 323928.7188 - mean_absolute_error: 258694.1250 - val_loss: 1384417.5000 - val_mean_absolute_error: 1319209.2500\n",
      "Epoch 72/100\n",
      "14/14 [==============================] - 9s 630ms/step - loss: 356247.4062 - mean_absolute_error: 291098.5938 - val_loss: 1408500.8750 - val_mean_absolute_error: 1343380.8750\n",
      "Epoch 73/100\n",
      "14/14 [==============================] - 10s 689ms/step - loss: 332084.5625 - mean_absolute_error: 266938.7812 - val_loss: 1419143.8750 - val_mean_absolute_error: 1354011.7500\n",
      "Epoch 74/100\n",
      "14/14 [==============================] - 9s 674ms/step - loss: 304881.4375 - mean_absolute_error: 239710.8594 - val_loss: 1381778.7500 - val_mean_absolute_error: 1316589.5000\n",
      "Epoch 75/100\n",
      "14/14 [==============================] - 10s 713ms/step - loss: 332945.3125 - mean_absolute_error: 267852.5938 - val_loss: 1382008.2500 - val_mean_absolute_error: 1317028.1250\n",
      "Epoch 76/100\n",
      "14/14 [==============================] - 9s 623ms/step - loss: 319537.5312 - mean_absolute_error: 254617.6875 - val_loss: 1385855.7500 - val_mean_absolute_error: 1321002.3750\n",
      "Epoch 77/100\n",
      "14/14 [==============================] - 9s 622ms/step - loss: 314302.4688 - mean_absolute_error: 249466.5312 - val_loss: 1384375.1250 - val_mean_absolute_error: 1319626.8750\n",
      "Epoch 78/100\n",
      "14/14 [==============================] - 9s 635ms/step - loss: 315589.7812 - mean_absolute_error: 251006.0469 - val_loss: 1424325.6250 - val_mean_absolute_error: 1359857.0000\n",
      "Epoch 79/100\n",
      "14/14 [==============================] - 10s 684ms/step - loss: 327835.5312 - mean_absolute_error: 263318.8438 - val_loss: 1384854.7500 - val_mean_absolute_error: 1320306.3750\n",
      "Epoch 80/100\n",
      "14/14 [==============================] - 9s 656ms/step - loss: 336309.9062 - mean_absolute_error: 271837.8750 - val_loss: 1396423.6250 - val_mean_absolute_error: 1332013.1250\n",
      "Epoch 81/100\n",
      "14/14 [==============================] - 8s 606ms/step - loss: 307781.6562 - mean_absolute_error: 243336.5312 - val_loss: 1383743.2500 - val_mean_absolute_error: 1319292.6250\n",
      "Epoch 82/100\n",
      "14/14 [==============================] - 9s 621ms/step - loss: 294061.4375 - mean_absolute_error: 229643.6094 - val_loss: 1385418.7500 - val_mean_absolute_error: 1321103.8750\n",
      "Epoch 83/100\n",
      "14/14 [==============================] - 12s 885ms/step - loss: 269878.0938 - mean_absolute_error: 205596.0469 - val_loss: 1384355.2500 - val_mean_absolute_error: 1320091.7500\n",
      "Epoch 84/100\n",
      "14/14 [==============================] - 11s 826ms/step - loss: 313626.3438 - mean_absolute_error: 249451.6719 - val_loss: 1429515.6250 - val_mean_absolute_error: 1365589.3750\n",
      "Epoch 85/100\n",
      "14/14 [==============================] - 10s 738ms/step - loss: 315266.8750 - mean_absolute_error: 251318.4062 - val_loss: 1386723.2500 - val_mean_absolute_error: 1322750.5000\n",
      "Epoch 86/100\n",
      "14/14 [==============================] - 10s 748ms/step - loss: 315837.1875 - mean_absolute_error: 251967.6875 - val_loss: 1372610.1250 - val_mean_absolute_error: 1308775.8750\n",
      "Epoch 87/100\n",
      "14/14 [==============================] - 10s 719ms/step - loss: 317023.5938 - mean_absolute_error: 253227.2344 - val_loss: 1374838.5000 - val_mean_absolute_error: 1311173.0000\n",
      "Epoch 88/100\n",
      "14/14 [==============================] - 11s 777ms/step - loss: 299864.3125 - mean_absolute_error: 236220.1719 - val_loss: 1384500.3750 - val_mean_absolute_error: 1320817.8750\n",
      "Epoch 89/100\n",
      "14/14 [==============================] - 11s 800ms/step - loss: 295403.2500 - mean_absolute_error: 231754.5625 - val_loss: 1406256.8750 - val_mean_absolute_error: 1342665.6250\n",
      "Epoch 90/100\n",
      "14/14 [==============================] - 10s 739ms/step - loss: 298776.8750 - mean_absolute_error: 235152.1875 - val_loss: 1384517.7500 - val_mean_absolute_error: 1320930.0000\n",
      "Epoch 91/100\n",
      "14/14 [==============================] - 11s 780ms/step - loss: 297140.1875 - mean_absolute_error: 233686.6719 - val_loss: 1376407.7500 - val_mean_absolute_error: 1313123.2500\n",
      "Epoch 92/100\n",
      "14/14 [==============================] - 11s 774ms/step - loss: 291317.7500 - mean_absolute_error: 228108.0625 - val_loss: 1383246.8750 - val_mean_absolute_error: 1320088.6250\n",
      "Epoch 93/100\n",
      "14/14 [==============================] - 11s 814ms/step - loss: 278190.9062 - mean_absolute_error: 215041.6719 - val_loss: 1376273.0000 - val_mean_absolute_error: 1313213.6250\n",
      "Epoch 94/100\n",
      "14/14 [==============================] - 11s 822ms/step - loss: 299574.5312 - mean_absolute_error: 236615.0938 - val_loss: 1391729.3750 - val_mean_absolute_error: 1328912.0000\n",
      "Epoch 95/100\n",
      "14/14 [==============================] - 10s 727ms/step - loss: 303900.3438 - mean_absolute_error: 241091.1094 - val_loss: 1369957.5000 - val_mean_absolute_error: 1307167.7500\n",
      "Epoch 96/100\n",
      "14/14 [==============================] - 9s 672ms/step - loss: 283355.1250 - mean_absolute_error: 220568.8594 - val_loss: 1376952.8750 - val_mean_absolute_error: 1314231.8750\n",
      "Epoch 97/100\n",
      "14/14 [==============================] - 10s 691ms/step - loss: 279297.9688 - mean_absolute_error: 216658.5156 - val_loss: 1364579.6250 - val_mean_absolute_error: 1302012.1250\n",
      "Epoch 98/100\n",
      "14/14 [==============================] - 10s 696ms/step - loss: 288345.0000 - mean_absolute_error: 225811.9844 - val_loss: 1372980.2500 - val_mean_absolute_error: 1310448.5000\n",
      "Epoch 99/100\n",
      "14/14 [==============================] - 10s 710ms/step - loss: 287696.7812 - mean_absolute_error: 225245.6406 - val_loss: 1368941.8750 - val_mean_absolute_error: 1306568.5000\n",
      "Epoch 100/100\n",
      "14/14 [==============================] - 8s 604ms/step - loss: 301176.5000 - mean_absolute_error: 238898.2344 - val_loss: 1371895.8750 - val_mean_absolute_error: 1309663.1250\n",
      "Training model  1\n",
      "Number of Training Images 427\n",
      "Mean of Training Images 3775613.5831381734\n",
      "Compiling Model\n",
      "Fitting Model\n",
      "Epoch 1/100\n",
      "14/14 [==============================] - 28s 990ms/step - loss: 616168.1875 - mean_absolute_error: 553603.0625 - val_loss: 1402725.5000 - val_mean_absolute_error: 1340002.5000\n",
      "Epoch 2/100\n",
      "14/14 [==============================] - 8s 580ms/step - loss: 592634.1875 - mean_absolute_error: 529879.8750 - val_loss: 1378731.6250 - val_mean_absolute_error: 1316001.7500\n",
      "Epoch 3/100\n",
      "14/14 [==============================] - 9s 630ms/step - loss: 569661.2500 - mean_absolute_error: 506821.7812 - val_loss: 1362266.0000 - val_mean_absolute_error: 1299258.2500\n",
      "Epoch 4/100\n",
      "14/14 [==============================] - 8s 606ms/step - loss: 553673.5625 - mean_absolute_error: 490554.0000 - val_loss: 1369489.2500 - val_mean_absolute_error: 1306164.2500\n",
      "Epoch 5/100\n",
      "14/14 [==============================] - 9s 617ms/step - loss: 530183.6250 - mean_absolute_error: 466640.3750 - val_loss: 1365859.6250 - val_mean_absolute_error: 1302132.2500\n",
      "Epoch 6/100\n",
      "14/14 [==============================] - 9s 615ms/step - loss: 523095.3750 - mean_absolute_error: 459271.7188 - val_loss: 1343944.3750 - val_mean_absolute_error: 1279882.0000\n",
      "Epoch 7/100\n",
      "14/14 [==============================] - 9s 612ms/step - loss: 535106.0625 - mean_absolute_error: 470907.9062 - val_loss: 1361632.2500 - val_mean_absolute_error: 1297347.5000\n",
      "Epoch 8/100\n",
      "14/14 [==============================] - 8s 587ms/step - loss: 512824.0312 - mean_absolute_error: 448464.5000 - val_loss: 1375284.6250 - val_mean_absolute_error: 1310760.8750\n",
      "Epoch 9/100\n",
      "14/14 [==============================] - 8s 585ms/step - loss: 497015.1562 - mean_absolute_error: 432354.3125 - val_loss: 1374476.3750 - val_mean_absolute_error: 1309700.6250\n",
      "Epoch 10/100\n",
      "14/14 [==============================] - 9s 643ms/step - loss: 465495.8750 - mean_absolute_error: 400625.9062 - val_loss: 1374419.6250 - val_mean_absolute_error: 1309438.2500\n",
      "Epoch 11/100\n",
      "14/14 [==============================] - 9s 642ms/step - loss: 445553.6562 - mean_absolute_error: 380453.1562 - val_loss: 1378058.6250 - val_mean_absolute_error: 1312897.1250\n",
      "Epoch 12/100\n",
      "14/14 [==============================] - 9s 643ms/step - loss: 456021.2812 - mean_absolute_error: 390747.8750 - val_loss: 1346290.7500 - val_mean_absolute_error: 1280863.2500\n",
      "Epoch 13/100\n",
      "14/14 [==============================] - 9s 613ms/step - loss: 421118.3438 - mean_absolute_error: 355524.9375 - val_loss: 1389646.1250 - val_mean_absolute_error: 1323933.8750\n",
      "Epoch 14/100\n",
      "14/14 [==============================] - 9s 621ms/step - loss: 420292.0312 - mean_absolute_error: 354395.7188 - val_loss: 1368914.1250 - val_mean_absolute_error: 1302851.8750\n",
      "Epoch 15/100\n",
      "14/14 [==============================] - 9s 614ms/step - loss: 398630.4688 - mean_absolute_error: 332473.8438 - val_loss: 1350502.1250 - val_mean_absolute_error: 1284232.6250\n",
      "Epoch 16/100\n",
      "14/14 [==============================] - 9s 648ms/step - loss: 401740.5625 - mean_absolute_error: 335370.9688 - val_loss: 1388469.7500 - val_mean_absolute_error: 1322010.7500\n",
      "Epoch 17/100\n",
      "14/14 [==============================] - 9s 622ms/step - loss: 396442.1562 - mean_absolute_error: 329904.7812 - val_loss: 1349142.0000 - val_mean_absolute_error: 1282583.3750\n",
      "Epoch 18/100\n",
      "14/14 [==============================] - 9s 624ms/step - loss: 396292.5000 - mean_absolute_error: 329727.5938 - val_loss: 1355658.6250 - val_mean_absolute_error: 1289048.1250\n",
      "Epoch 19/100\n",
      "14/14 [==============================] - 9s 651ms/step - loss: 360780.2500 - mean_absolute_error: 294086.0000 - val_loss: 1347802.8750 - val_mean_absolute_error: 1281061.3750\n",
      "Epoch 20/100\n",
      "14/14 [==============================] - 9s 614ms/step - loss: 362149.4375 - mean_absolute_error: 295403.9688 - val_loss: 1345905.8750 - val_mean_absolute_error: 1279163.8750\n",
      "Epoch 21/100\n",
      "14/14 [==============================] - 9s 607ms/step - loss: 362410.7500 - mean_absolute_error: 295606.6250 - val_loss: 1360023.3750 - val_mean_absolute_error: 1293201.6250\n",
      "Epoch 22/100\n",
      "14/14 [==============================] - 9s 632ms/step - loss: 365089.4688 - mean_absolute_error: 298204.0938 - val_loss: 1345861.3750 - val_mean_absolute_error: 1278918.7500\n",
      "Epoch 23/100\n",
      "14/14 [==============================] - 9s 624ms/step - loss: 375499.2812 - mean_absolute_error: 308505.7188 - val_loss: 1347237.1250 - val_mean_absolute_error: 1280108.3750\n",
      "Epoch 24/100\n",
      "14/14 [==============================] - 8s 597ms/step - loss: 359595.3125 - mean_absolute_error: 292350.5312 - val_loss: 1346226.7500 - val_mean_absolute_error: 1278935.6250\n",
      "Epoch 25/100\n",
      "14/14 [==============================] - 9s 624ms/step - loss: 353606.5938 - mean_absolute_error: 286276.9062 - val_loss: 1334956.3750 - val_mean_absolute_error: 1267644.8750\n",
      "Epoch 26/100\n",
      "14/14 [==============================] - 9s 615ms/step - loss: 337907.1250 - mean_absolute_error: 270650.0000 - val_loss: 1372460.8750 - val_mean_absolute_error: 1305218.3750\n",
      "Epoch 27/100\n",
      "14/14 [==============================] - 9s 630ms/step - loss: 339951.7500 - mean_absolute_error: 272578.4688 - val_loss: 1372001.5000 - val_mean_absolute_error: 1304593.7500\n",
      "Epoch 28/100\n",
      "14/14 [==============================] - 8s 591ms/step - loss: 331410.0000 - mean_absolute_error: 263946.4062 - val_loss: 1381547.5000 - val_mean_absolute_error: 1314025.8750\n",
      "Epoch 29/100\n",
      "14/14 [==============================] - 9s 645ms/step - loss: 347373.1250 - mean_absolute_error: 279848.1875 - val_loss: 1344088.2500 - val_mean_absolute_error: 1276580.0000\n",
      "Epoch 30/100\n",
      "14/14 [==============================] - 10s 705ms/step - loss: 326774.9375 - mean_absolute_error: 259255.5000 - val_loss: 1365538.3750 - val_mean_absolute_error: 1298090.7500\n",
      "Epoch 31/100\n",
      "14/14 [==============================] - 11s 774ms/step - loss: 340925.3438 - mean_absolute_error: 273528.1875 - val_loss: 1368926.3750 - val_mean_absolute_error: 1301512.6250\n",
      "Epoch 32/100\n",
      "14/14 [==============================] - 11s 790ms/step - loss: 332769.2812 - mean_absolute_error: 265228.5938 - val_loss: 1361386.7500 - val_mean_absolute_error: 1293819.7500\n",
      "Epoch 33/100\n",
      "14/14 [==============================] - 10s 733ms/step - loss: 311884.1562 - mean_absolute_error: 244338.5312 - val_loss: 1358672.2500 - val_mean_absolute_error: 1291209.3750\n",
      "Epoch 34/100\n",
      "14/14 [==============================] - 9s 649ms/step - loss: 318239.3125 - mean_absolute_error: 250769.4375 - val_loss: 1365197.1250 - val_mean_absolute_error: 1297782.6250\n",
      "Epoch 35/100\n",
      "14/14 [==============================] - 9s 643ms/step - loss: 331168.0312 - mean_absolute_error: 263828.0000 - val_loss: 1353532.1250 - val_mean_absolute_error: 1286281.0000\n",
      "Epoch 36/100\n",
      "14/14 [==============================] - 9s 674ms/step - loss: 321350.3750 - mean_absolute_error: 254148.2031 - val_loss: 1340518.3750 - val_mean_absolute_error: 1273333.0000\n",
      "Epoch 37/100\n",
      "14/14 [==============================] - 11s 775ms/step - loss: 328447.8750 - mean_absolute_error: 261149.1562 - val_loss: 1357310.7500 - val_mean_absolute_error: 1289995.7500\n",
      "Epoch 38/100\n",
      "14/14 [==============================] - 11s 789ms/step - loss: 313548.2812 - mean_absolute_error: 246249.3750 - val_loss: 1350423.0000 - val_mean_absolute_error: 1283167.7500\n",
      "Epoch 39/100\n",
      "14/14 [==============================] - 12s 842ms/step - loss: 322242.0000 - mean_absolute_error: 255041.8594 - val_loss: 1359818.3750 - val_mean_absolute_error: 1292673.5000\n",
      "Epoch 40/100\n",
      "14/14 [==============================] - 11s 759ms/step - loss: 317051.7812 - mean_absolute_error: 249894.1406 - val_loss: 1347226.0000 - val_mean_absolute_error: 1280084.0000\n",
      "Epoch 41/100\n",
      "14/14 [==============================] - 10s 696ms/step - loss: 314480.6250 - mean_absolute_error: 247397.1406 - val_loss: 1362729.6250 - val_mean_absolute_error: 1295692.1250\n",
      "Epoch 42/100\n",
      "14/14 [==============================] - 11s 795ms/step - loss: 307584.8750 - mean_absolute_error: 240574.8125 - val_loss: 1344821.0000 - val_mean_absolute_error: 1277804.2500\n",
      "Epoch 43/100\n",
      "14/14 [==============================] - 13s 908ms/step - loss: 321828.3438 - mean_absolute_error: 254871.5000 - val_loss: 1397056.2500 - val_mean_absolute_error: 1330237.8750\n",
      "Epoch 44/100\n",
      "14/14 [==============================] - 10s 703ms/step - loss: 334448.0312 - mean_absolute_error: 267595.1875 - val_loss: 1367783.2500 - val_mean_absolute_error: 1300922.7500\n",
      "Epoch 45/100\n",
      "14/14 [==============================] - 10s 736ms/step - loss: 318537.5625 - mean_absolute_error: 251692.6719 - val_loss: 1343886.1250 - val_mean_absolute_error: 1277120.7500\n",
      "Epoch 46/100\n",
      "14/14 [==============================] - 12s 866ms/step - loss: 317150.6875 - mean_absolute_error: 250488.7188 - val_loss: 1356144.3750 - val_mean_absolute_error: 1289642.8750\n",
      "Epoch 47/100\n",
      "14/14 [==============================] - 12s 882ms/step - loss: 297830.2500 - mean_absolute_error: 231379.4531 - val_loss: 1354527.2500 - val_mean_absolute_error: 1288101.0000\n",
      "Epoch 48/100\n",
      "14/14 [==============================] - 12s 849ms/step - loss: 308889.0625 - mean_absolute_error: 242472.6562 - val_loss: 1362526.1250 - val_mean_absolute_error: 1296248.0000\n",
      "Epoch 49/100\n",
      "14/14 [==============================] - 12s 836ms/step - loss: 300631.4062 - mean_absolute_error: 234366.5000 - val_loss: 1349693.6250 - val_mean_absolute_error: 1283465.8750\n",
      "Epoch 50/100\n",
      "14/14 [==============================] - 12s 852ms/step - loss: 282432.8125 - mean_absolute_error: 216178.6406 - val_loss: 1350064.6250 - val_mean_absolute_error: 1283813.0000\n",
      "Epoch 51/100\n",
      "14/14 [==============================] - 11s 798ms/step - loss: 299058.8125 - mean_absolute_error: 232859.0156 - val_loss: 1346182.0000 - val_mean_absolute_error: 1280067.6250\n",
      "Epoch 52/100\n",
      "14/14 [==============================] - 12s 862ms/step - loss: 303397.2188 - mean_absolute_error: 237319.9688 - val_loss: 1355699.7500 - val_mean_absolute_error: 1289717.0000\n",
      "Epoch 53/100\n",
      "14/14 [==============================] - 11s 807ms/step - loss: 282619.6250 - mean_absolute_error: 216617.5938 - val_loss: 1350496.0000 - val_mean_absolute_error: 1284468.0000\n",
      "Epoch 54/100\n",
      "14/14 [==============================] - 11s 796ms/step - loss: 310525.9688 - mean_absolute_error: 244535.6094 - val_loss: 1359355.1250 - val_mean_absolute_error: 1293445.8750\n",
      "Epoch 55/100\n",
      "14/14 [==============================] - 11s 776ms/step - loss: 299008.3438 - mean_absolute_error: 233126.6719 - val_loss: 1337820.8750 - val_mean_absolute_error: 1271991.0000\n",
      "Training model  2\n",
      "Number of Training Images 428\n",
      "Mean of Training Images 3777661.214953271\n",
      "Compiling Model\n",
      "Fitting Model\n",
      "Epoch 1/100\n",
      "14/14 [==============================] - 75s 3s/step - loss: 404999.9375 - mean_absolute_error: 337609.7188 - val_loss: 1381018.7500 - val_mean_absolute_error: 1313559.8750\n",
      "Epoch 2/100\n",
      "14/14 [==============================] - 10s 724ms/step - loss: 417966.6562 - mean_absolute_error: 350461.1875 - val_loss: 1355292.3750 - val_mean_absolute_error: 1287890.1250\n",
      "Epoch 3/100\n",
      "14/14 [==============================] - 11s 763ms/step - loss: 351036.0000 - mean_absolute_error: 283691.0000 - val_loss: 1334683.8750 - val_mean_absolute_error: 1267390.1250\n",
      "Epoch 4/100\n",
      "14/14 [==============================] - 12s 856ms/step - loss: 348343.5000 - mean_absolute_error: 281027.9375 - val_loss: 1357625.6250 - val_mean_absolute_error: 1290312.8750\n",
      "Epoch 5/100\n",
      "14/14 [==============================] - 9s 681ms/step - loss: 322530.8438 - mean_absolute_error: 255131.5938 - val_loss: 1355663.3750 - val_mean_absolute_error: 1288237.2500\n",
      "Epoch 6/100\n",
      "14/14 [==============================] - 10s 725ms/step - loss: 321761.1875 - mean_absolute_error: 254366.0156 - val_loss: 1383183.3750 - val_mean_absolute_error: 1315851.7500\n",
      "Epoch 7/100\n",
      "14/14 [==============================] - 11s 758ms/step - loss: 381510.8750 - mean_absolute_error: 314115.8125 - val_loss: 1356917.6250 - val_mean_absolute_error: 1289468.8750\n",
      "Epoch 8/100\n",
      "14/14 [==============================] - 10s 687ms/step - loss: 332566.7188 - mean_absolute_error: 265048.5312 - val_loss: 1343928.2500 - val_mean_absolute_error: 1276383.0000\n",
      "Epoch 9/100\n",
      "14/14 [==============================] - 10s 733ms/step - loss: 340930.2188 - mean_absolute_error: 273453.5312 - val_loss: 1338751.3750 - val_mean_absolute_error: 1271288.5000\n",
      "Epoch 10/100\n",
      "14/14 [==============================] - 11s 777ms/step - loss: 334592.1562 - mean_absolute_error: 267191.3750 - val_loss: 1345716.8750 - val_mean_absolute_error: 1278407.7500\n",
      "Epoch 11/100\n",
      "14/14 [==============================] - 10s 717ms/step - loss: 325609.2812 - mean_absolute_error: 258358.9844 - val_loss: 1348433.5000 - val_mean_absolute_error: 1281223.3750\n",
      "Epoch 12/100\n",
      "14/14 [==============================] - 10s 696ms/step - loss: 311271.2188 - mean_absolute_error: 244021.1406 - val_loss: 1357518.3750 - val_mean_absolute_error: 1290280.1250\n",
      "Epoch 13/100\n",
      "14/14 [==============================] - 11s 776ms/step - loss: 307870.3438 - mean_absolute_error: 240594.2656 - val_loss: 1367454.2500 - val_mean_absolute_error: 1300220.3750\n",
      "Epoch 14/100\n",
      "14/14 [==============================] - 11s 810ms/step - loss: 303717.3750 - mean_absolute_error: 236524.4688 - val_loss: 1385687.0000 - val_mean_absolute_error: 1318548.7500\n",
      "Epoch 15/100\n",
      "14/14 [==============================] - 11s 788ms/step - loss: 315284.2188 - mean_absolute_error: 248095.0156 - val_loss: 1377723.0000 - val_mean_absolute_error: 1310504.6250\n",
      "Epoch 16/100\n",
      "14/14 [==============================] - 11s 782ms/step - loss: 311752.8438 - mean_absolute_error: 244566.6719 - val_loss: 1353371.3750 - val_mean_absolute_error: 1286260.0000\n",
      "Epoch 17/100\n",
      "14/14 [==============================] - 11s 800ms/step - loss: 300952.1562 - mean_absolute_error: 233812.0781 - val_loss: 1344155.2500 - val_mean_absolute_error: 1277016.7500\n",
      "Epoch 18/100\n",
      "14/14 [==============================] - 10s 691ms/step - loss: 323023.2188 - mean_absolute_error: 255991.3438 - val_loss: 1334207.3750 - val_mean_absolute_error: 1267284.8750\n",
      "Epoch 19/100\n",
      "14/14 [==============================] - 10s 750ms/step - loss: 305561.4688 - mean_absolute_error: 238590.7656 - val_loss: 1339418.3750 - val_mean_absolute_error: 1272348.8750\n",
      "Epoch 20/100\n",
      "14/14 [==============================] - 10s 747ms/step - loss: 306450.6250 - mean_absolute_error: 239366.7656 - val_loss: 1343263.5000 - val_mean_absolute_error: 1276256.8750\n",
      "Epoch 21/100\n",
      "14/14 [==============================] - 11s 762ms/step - loss: 320803.0312 - mean_absolute_error: 253844.8438 - val_loss: 1336117.7500 - val_mean_absolute_error: 1269200.0000\n",
      "Epoch 22/100\n",
      "14/14 [==============================] - 10s 721ms/step - loss: 311015.7812 - mean_absolute_error: 244139.7031 - val_loss: 1343711.3750 - val_mean_absolute_error: 1276911.2500\n",
      "Epoch 23/100\n",
      "14/14 [==============================] - 11s 755ms/step - loss: 323045.0312 - mean_absolute_error: 256254.9375 - val_loss: 1347193.8750 - val_mean_absolute_error: 1280420.6250\n",
      "Epoch 24/100\n",
      "14/14 [==============================] - 10s 742ms/step - loss: 353134.5938 - mean_absolute_error: 286378.5312 - val_loss: 1328360.2500 - val_mean_absolute_error: 1261630.1250\n",
      "Epoch 25/100\n",
      "14/14 [==============================] - 10s 730ms/step - loss: 307887.7812 - mean_absolute_error: 241214.9688 - val_loss: 1336218.6250 - val_mean_absolute_error: 1269644.3750\n",
      "Epoch 26/100\n",
      "14/14 [==============================] - 12s 851ms/step - loss: 314203.7500 - mean_absolute_error: 247646.4688 - val_loss: 1338491.1250 - val_mean_absolute_error: 1272021.6250\n",
      "Epoch 27/100\n",
      "14/14 [==============================] - 11s 778ms/step - loss: 322437.9062 - mean_absolute_error: 255975.4219 - val_loss: 1338796.5000 - val_mean_absolute_error: 1272343.5000\n",
      "Epoch 28/100\n",
      "14/14 [==============================] - 11s 757ms/step - loss: 298186.2812 - mean_absolute_error: 231785.3438 - val_loss: 1350711.7500 - val_mean_absolute_error: 1284321.1250\n",
      "Epoch 29/100\n",
      "14/14 [==============================] - 11s 790ms/step - loss: 297923.8438 - mean_absolute_error: 231512.9688 - val_loss: 1336853.2500 - val_mean_absolute_error: 1270409.2500\n",
      "Epoch 30/100\n",
      "14/14 [==============================] - 11s 784ms/step - loss: 309580.7188 - mean_absolute_error: 243173.7344 - val_loss: 1323060.6250 - val_mean_absolute_error: 1256674.6250\n",
      "Epoch 31/100\n",
      "14/14 [==============================] - 10s 747ms/step - loss: 319069.2812 - mean_absolute_error: 252660.8750 - val_loss: 1344638.8750 - val_mean_absolute_error: 1278272.2500\n",
      "Epoch 32/100\n",
      "14/14 [==============================] - 11s 801ms/step - loss: 283757.9688 - mean_absolute_error: 217438.6875 - val_loss: 1332239.3750 - val_mean_absolute_error: 1266004.1250\n",
      "Epoch 33/100\n",
      "14/14 [==============================] - 11s 825ms/step - loss: 302487.9375 - mean_absolute_error: 236383.7812 - val_loss: 1343335.8750 - val_mean_absolute_error: 1277347.8750\n",
      "Epoch 34/100\n",
      "14/14 [==============================] - 14s 983ms/step - loss: 300716.2188 - mean_absolute_error: 234724.7031 - val_loss: 1326806.3750 - val_mean_absolute_error: 1260829.1250\n",
      "Epoch 35/100\n",
      "14/14 [==============================] - 10s 743ms/step - loss: 288931.4688 - mean_absolute_error: 223010.5938 - val_loss: 1343544.1250 - val_mean_absolute_error: 1277707.5000\n",
      "Epoch 36/100\n",
      "14/14 [==============================] - 11s 761ms/step - loss: 288875.3750 - mean_absolute_error: 223019.6250 - val_loss: 1344584.5000 - val_mean_absolute_error: 1278670.0000\n",
      "Epoch 37/100\n",
      "14/14 [==============================] - 11s 762ms/step - loss: 292150.9375 - mean_absolute_error: 226312.4375 - val_loss: 1337133.6250 - val_mean_absolute_error: 1271407.3750\n",
      "Epoch 38/100\n",
      "14/14 [==============================] - 10s 746ms/step - loss: 307584.7500 - mean_absolute_error: 241842.1250 - val_loss: 1350103.1250 - val_mean_absolute_error: 1284377.8750\n",
      "Epoch 39/100\n",
      "14/14 [==============================] - 12s 842ms/step - loss: 352326.8750 - mean_absolute_error: 286549.6875 - val_loss: 1375257.5000 - val_mean_absolute_error: 1309504.0000\n",
      "Epoch 40/100\n",
      "14/14 [==============================] - 11s 806ms/step - loss: 348565.7188 - mean_absolute_error: 282781.1562 - val_loss: 1364291.2500 - val_mean_absolute_error: 1298591.2500\n",
      "Epoch 41/100\n",
      "14/14 [==============================] - 11s 802ms/step - loss: 306374.2188 - mean_absolute_error: 240685.0781 - val_loss: 1337147.8750 - val_mean_absolute_error: 1271451.6250\n",
      "Epoch 42/100\n",
      "14/14 [==============================] - 11s 760ms/step - loss: 277464.6875 - mean_absolute_error: 211719.7031 - val_loss: 1341172.0000 - val_mean_absolute_error: 1275413.7500\n",
      "Epoch 43/100\n",
      "14/14 [==============================] - 11s 792ms/step - loss: 296879.8750 - mean_absolute_error: 231145.2656 - val_loss: 1340872.2500 - val_mean_absolute_error: 1275189.0000\n",
      "Epoch 44/100\n",
      "14/14 [==============================] - 10s 748ms/step - loss: 275932.6250 - mean_absolute_error: 210248.4375 - val_loss: 1359260.6250 - val_mean_absolute_error: 1293644.5000\n",
      "Epoch 45/100\n",
      "14/14 [==============================] - 11s 774ms/step - loss: 293052.3438 - mean_absolute_error: 227441.5000 - val_loss: 1337218.7500 - val_mean_absolute_error: 1271643.1250\n",
      "Epoch 46/100\n",
      "14/14 [==============================] - 11s 771ms/step - loss: 271308.5938 - mean_absolute_error: 205807.9375 - val_loss: 1330739.2500 - val_mean_absolute_error: 1265325.5000\n",
      "Epoch 47/100\n",
      "14/14 [==============================] - 11s 795ms/step - loss: 303427.5312 - mean_absolute_error: 238086.9844 - val_loss: 1328459.7500 - val_mean_absolute_error: 1263204.2500\n",
      "Epoch 48/100\n",
      "14/14 [==============================] - 11s 765ms/step - loss: 300166.7812 - mean_absolute_error: 234941.8281 - val_loss: 1338987.0000 - val_mean_absolute_error: 1273802.7500\n",
      "Epoch 49/100\n",
      "14/14 [==============================] - 12s 831ms/step - loss: 277012.9688 - mean_absolute_error: 211897.1250 - val_loss: 1351639.1250 - val_mean_absolute_error: 1286609.6250\n",
      "Epoch 50/100\n",
      "14/14 [==============================] - 10s 754ms/step - loss: 276879.6562 - mean_absolute_error: 211837.9062 - val_loss: 1336536.1250 - val_mean_absolute_error: 1271519.6250\n",
      "Epoch 51/100\n",
      "14/14 [==============================] - 11s 794ms/step - loss: 294051.0938 - mean_absolute_error: 229080.0781 - val_loss: 1327944.0000 - val_mean_absolute_error: 1262990.2500\n",
      "Epoch 52/100\n",
      "14/14 [==============================] - 11s 820ms/step - loss: 268479.2812 - mean_absolute_error: 203497.9688 - val_loss: 1344599.1250 - val_mean_absolute_error: 1279630.2500\n",
      "Epoch 53/100\n",
      "14/14 [==============================] - 11s 789ms/step - loss: 299165.1875 - mean_absolute_error: 234182.5000 - val_loss: 1320506.8750 - val_mean_absolute_error: 1255664.0000\n",
      "Epoch 54/100\n",
      "14/14 [==============================] - 11s 816ms/step - loss: 277708.6875 - mean_absolute_error: 212907.2969 - val_loss: 1315584.6250 - val_mean_absolute_error: 1250927.2500\n",
      "Epoch 55/100\n",
      "14/14 [==============================] - 11s 751ms/step - loss: 272747.5000 - mean_absolute_error: 208118.8594 - val_loss: 1327153.0000 - val_mean_absolute_error: 1262584.5000\n",
      "Epoch 56/100\n",
      "14/14 [==============================] - 11s 760ms/step - loss: 301320.0938 - mean_absolute_error: 236670.5781 - val_loss: 1344329.5000 - val_mean_absolute_error: 1279605.8750\n",
      "Epoch 57/100\n",
      "14/14 [==============================] - 10s 723ms/step - loss: 323590.4375 - mean_absolute_error: 258862.6094 - val_loss: 1339771.5000 - val_mean_absolute_error: 1275090.3750\n",
      "Epoch 58/100\n",
      "14/14 [==============================] - 11s 789ms/step - loss: 300392.0312 - mean_absolute_error: 235809.1094 - val_loss: 1322713.7500 - val_mean_absolute_error: 1258177.8750\n",
      "Epoch 59/100\n",
      "14/14 [==============================] - 11s 795ms/step - loss: 302667.9688 - mean_absolute_error: 238205.7031 - val_loss: 1337465.8750 - val_mean_absolute_error: 1273030.8750\n",
      "Epoch 60/100\n",
      "14/14 [==============================] - 11s 789ms/step - loss: 291034.6875 - mean_absolute_error: 226511.5938 - val_loss: 1337488.1250 - val_mean_absolute_error: 1272980.0000\n",
      "Epoch 61/100\n",
      "14/14 [==============================] - 11s 771ms/step - loss: 288038.2500 - mean_absolute_error: 223541.8438 - val_loss: 1345892.3750 - val_mean_absolute_error: 1281423.0000\n",
      "Epoch 62/100\n",
      "14/14 [==============================] - 11s 778ms/step - loss: 286293.6562 - mean_absolute_error: 221837.6562 - val_loss: 1363656.2500 - val_mean_absolute_error: 1299274.6250\n",
      "Epoch 63/100\n",
      "14/14 [==============================] - 11s 790ms/step - loss: 311857.1250 - mean_absolute_error: 247464.3594 - val_loss: 1326974.0000 - val_mean_absolute_error: 1262567.2500\n",
      "Epoch 64/100\n",
      "14/14 [==============================] - 11s 773ms/step - loss: 295507.4688 - mean_absolute_error: 231158.8594 - val_loss: 1330376.7500 - val_mean_absolute_error: 1266066.5000\n",
      "Epoch 65/100\n",
      "14/14 [==============================] - 11s 824ms/step - loss: 278738.8750 - mean_absolute_error: 214459.7500 - val_loss: 1315410.3750 - val_mean_absolute_error: 1251221.3750\n",
      "Epoch 66/100\n",
      "14/14 [==============================] - 11s 760ms/step - loss: 289706.1250 - mean_absolute_error: 225570.2500 - val_loss: 1334060.7500 - val_mean_absolute_error: 1270002.7500\n",
      "Epoch 67/100\n",
      "14/14 [==============================] - 11s 776ms/step - loss: 285513.1875 - mean_absolute_error: 221455.3281 - val_loss: 1320496.6250 - val_mean_absolute_error: 1256409.6250\n",
      "Epoch 68/100\n",
      "14/14 [==============================] - 11s 771ms/step - loss: 301810.6875 - mean_absolute_error: 237737.3125 - val_loss: 1333274.3750 - val_mean_absolute_error: 1269260.3750\n",
      "Epoch 69/100\n",
      "14/14 [==============================] - 10s 743ms/step - loss: 274034.1875 - mean_absolute_error: 210069.5156 - val_loss: 1331984.8750 - val_mean_absolute_error: 1268092.8750\n",
      "Epoch 70/100\n",
      "14/14 [==============================] - 11s 776ms/step - loss: 286029.6875 - mean_absolute_error: 222136.8438 - val_loss: 1337804.0000 - val_mean_absolute_error: 1273888.2500\n",
      "Epoch 71/100\n",
      "14/14 [==============================] - 11s 777ms/step - loss: 280055.8750 - mean_absolute_error: 216138.3438 - val_loss: 1328440.8750 - val_mean_absolute_error: 1264554.7500\n",
      "Epoch 72/100\n",
      "14/14 [==============================] - 11s 768ms/step - loss: 295796.8125 - mean_absolute_error: 232007.2031 - val_loss: 1331373.2500 - val_mean_absolute_error: 1267740.3750\n",
      "Epoch 73/100\n",
      "14/14 [==============================] - 11s 770ms/step - loss: 305796.6250 - mean_absolute_error: 242187.5469 - val_loss: 1312997.0000 - val_mean_absolute_error: 1249457.2500\n",
      "Epoch 74/100\n",
      "14/14 [==============================] - 11s 797ms/step - loss: 304858.9375 - mean_absolute_error: 241430.7656 - val_loss: 1314450.3750 - val_mean_absolute_error: 1251149.5000\n",
      "Epoch 75/100\n",
      "14/14 [==============================] - 12s 832ms/step - loss: 320794.8438 - mean_absolute_error: 257537.5938 - val_loss: 1337503.7500 - val_mean_absolute_error: 1274268.1250\n",
      "Epoch 76/100\n",
      "14/14 [==============================] - 10s 758ms/step - loss: 274262.5000 - mean_absolute_error: 211074.1250 - val_loss: 1332634.7500 - val_mean_absolute_error: 1269562.3750\n",
      "Epoch 77/100\n",
      "14/14 [==============================] - 13s 931ms/step - loss: 269007.2812 - mean_absolute_error: 205948.4844 - val_loss: 1335354.2500 - val_mean_absolute_error: 1272262.5000\n",
      "Epoch 78/100\n",
      "14/14 [==============================] - 11s 761ms/step - loss: 275791.8125 - mean_absolute_error: 212759.1094 - val_loss: 1356866.8750 - val_mean_absolute_error: 1293953.7500\n",
      "Epoch 79/100\n",
      "14/14 [==============================] - 10s 727ms/step - loss: 307942.0312 - mean_absolute_error: 245036.6406 - val_loss: 1338086.3750 - val_mean_absolute_error: 1275171.6250\n",
      "Epoch 80/100\n",
      "14/14 [==============================] - 9s 657ms/step - loss: 301929.5000 - mean_absolute_error: 239103.4062 - val_loss: 1347965.6250 - val_mean_absolute_error: 1285209.6250\n",
      "Epoch 81/100\n",
      "14/14 [==============================] - 11s 756ms/step - loss: 298493.6875 - mean_absolute_error: 235704.2031 - val_loss: 1325407.6250 - val_mean_absolute_error: 1262626.8750\n",
      "Epoch 82/100\n",
      "14/14 [==============================] - 10s 689ms/step - loss: 292666.6875 - mean_absolute_error: 229860.7969 - val_loss: 1326617.6250 - val_mean_absolute_error: 1263836.3750\n",
      "Epoch 83/100\n",
      "14/14 [==============================] - 11s 781ms/step - loss: 291971.9062 - mean_absolute_error: 229168.2656 - val_loss: 1323168.3750 - val_mean_absolute_error: 1260396.5000\n",
      "Epoch 84/100\n",
      "14/14 [==============================] - 11s 798ms/step - loss: 264155.8750 - mean_absolute_error: 201341.2344 - val_loss: 1324727.7500 - val_mean_absolute_error: 1261935.2500\n",
      "Epoch 85/100\n",
      "14/14 [==============================] - 11s 761ms/step - loss: 267076.8438 - mean_absolute_error: 204278.3906 - val_loss: 1329453.5000 - val_mean_absolute_error: 1266709.6250\n",
      "Epoch 86/100\n",
      "14/14 [==============================] - 10s 711ms/step - loss: 293258.8125 - mean_absolute_error: 230572.8438 - val_loss: 1349897.8750 - val_mean_absolute_error: 1287344.7500\n",
      "Epoch 87/100\n",
      "14/14 [==============================] - 10s 693ms/step - loss: 279300.5625 - mean_absolute_error: 216874.8906 - val_loss: 1325405.2500 - val_mean_absolute_error: 1263126.0000\n",
      "Epoch 88/100\n",
      "14/14 [==============================] - 10s 704ms/step - loss: 273398.6875 - mean_absolute_error: 211172.8906 - val_loss: 1327114.3750 - val_mean_absolute_error: 1264873.5000\n",
      "Epoch 89/100\n",
      "14/14 [==============================] - 10s 741ms/step - loss: 272259.5000 - mean_absolute_error: 210061.5156 - val_loss: 1331081.7500 - val_mean_absolute_error: 1268963.1250\n",
      "Epoch 90/100\n",
      "14/14 [==============================] - 11s 784ms/step - loss: 280345.0000 - mean_absolute_error: 218226.6094 - val_loss: 1316793.5000 - val_mean_absolute_error: 1254686.7500\n",
      "Epoch 91/100\n",
      "14/14 [==============================] - 10s 709ms/step - loss: 281557.5625 - mean_absolute_error: 219469.5938 - val_loss: 1326891.8750 - val_mean_absolute_error: 1264839.0000\n",
      "Epoch 92/100\n",
      "14/14 [==============================] - 11s 778ms/step - loss: 309720.2188 - mean_absolute_error: 247650.3125 - val_loss: 1312783.6250 - val_mean_absolute_error: 1250729.0000\n",
      "Epoch 93/100\n",
      "14/14 [==============================] - 10s 707ms/step - loss: 274203.7812 - mean_absolute_error: 212196.5000 - val_loss: 1320966.8750 - val_mean_absolute_error: 1259058.3750\n",
      "Epoch 94/100\n",
      "14/14 [==============================] - 10s 720ms/step - loss: 269480.5000 - mean_absolute_error: 207661.5938 - val_loss: 1316877.5000 - val_mean_absolute_error: 1255115.8750\n",
      "Epoch 95/100\n",
      "14/14 [==============================] - 10s 706ms/step - loss: 261852.4844 - mean_absolute_error: 200126.0000 - val_loss: 1333401.5000 - val_mean_absolute_error: 1271696.6250\n",
      "Epoch 96/100\n",
      "14/14 [==============================] - 9s 623ms/step - loss: 277378.9375 - mean_absolute_error: 215676.5156 - val_loss: 1330209.5000 - val_mean_absolute_error: 1268541.6250\n",
      "Epoch 97/100\n",
      "14/14 [==============================] - 9s 645ms/step - loss: 286326.5000 - mean_absolute_error: 224605.3906 - val_loss: 1341451.6250 - val_mean_absolute_error: 1279640.6250\n",
      "Epoch 98/100\n",
      "14/14 [==============================] - 9s 638ms/step - loss: 278064.3125 - mean_absolute_error: 216184.5625 - val_loss: 1345856.6250 - val_mean_absolute_error: 1283952.2500\n",
      "Epoch 99/100\n",
      "14/14 [==============================] - 10s 736ms/step - loss: 290012.4375 - mean_absolute_error: 228132.2969 - val_loss: 1328411.2500 - val_mean_absolute_error: 1266600.1250\n",
      "Epoch 100/100\n",
      "14/14 [==============================] - 9s 669ms/step - loss: 274004.9062 - mean_absolute_error: 212277.6250 - val_loss: 1349542.3750 - val_mean_absolute_error: 1287983.5000\n",
      "Training model  3\n",
      "Number of Training Images 428\n",
      "Mean of Training Images 3804058.4112149533\n",
      "Compiling Model\n",
      "Fitting Model\n",
      "Epoch 1/100\n",
      "14/14 [==============================] - 31s 963ms/step - loss: 340160.3750 - mean_absolute_error: 278333.5000 - val_loss: 1325024.2500 - val_mean_absolute_error: 1262952.0000\n",
      "Epoch 2/100\n",
      "14/14 [==============================] - 10s 707ms/step - loss: 308196.2500 - mean_absolute_error: 246070.5625 - val_loss: 1333668.0000 - val_mean_absolute_error: 1271553.0000\n",
      "Epoch 3/100\n",
      "14/14 [==============================] - 11s 801ms/step - loss: 310631.3125 - mean_absolute_error: 248493.9844 - val_loss: 1354410.3750 - val_mean_absolute_error: 1292241.3750\n",
      "Epoch 4/100\n",
      "14/14 [==============================] - 11s 798ms/step - loss: 312532.7812 - mean_absolute_error: 250323.9062 - val_loss: 1348105.6250 - val_mean_absolute_error: 1285879.8750\n",
      "Epoch 5/100\n",
      "14/14 [==============================] - 9s 669ms/step - loss: 303366.6875 - mean_absolute_error: 241113.5156 - val_loss: 1335356.7500 - val_mean_absolute_error: 1273117.3750\n",
      "Epoch 6/100\n",
      "14/14 [==============================] - 10s 699ms/step - loss: 303504.5000 - mean_absolute_error: 241262.8438 - val_loss: 1351487.0000 - val_mean_absolute_error: 1289276.3750\n",
      "Epoch 7/100\n",
      "14/14 [==============================] - 9s 666ms/step - loss: 287463.8438 - mean_absolute_error: 225267.7969 - val_loss: 1328842.3750 - val_mean_absolute_error: 1266646.1250\n",
      "Epoch 8/100\n",
      "14/14 [==============================] - 10s 693ms/step - loss: 281055.7500 - mean_absolute_error: 218879.7812 - val_loss: 1337369.0000 - val_mean_absolute_error: 1275162.5000\n",
      "Epoch 9/100\n",
      "14/14 [==============================] - 12s 841ms/step - loss: 293142.7500 - mean_absolute_error: 230987.5469 - val_loss: 1332748.1250 - val_mean_absolute_error: 1270586.8750\n",
      "Epoch 10/100\n",
      "14/14 [==============================] - 11s 751ms/step - loss: 268917.9688 - mean_absolute_error: 206771.8438 - val_loss: 1330756.2500 - val_mean_absolute_error: 1268679.5000\n",
      "Epoch 11/100\n",
      "14/14 [==============================] - 11s 789ms/step - loss: 283825.4688 - mean_absolute_error: 221846.1875 - val_loss: 1329003.6250 - val_mean_absolute_error: 1267104.3750\n",
      "Epoch 12/100\n",
      "14/14 [==============================] - 10s 723ms/step - loss: 272015.3125 - mean_absolute_error: 210105.1250 - val_loss: 1319976.6250 - val_mean_absolute_error: 1258045.1250\n",
      "Epoch 13/100\n",
      "14/14 [==============================] - 10s 702ms/step - loss: 281259.9375 - mean_absolute_error: 219303.7500 - val_loss: 1346261.8750 - val_mean_absolute_error: 1284371.3750\n",
      "Epoch 14/100\n",
      "14/14 [==============================] - 9s 674ms/step - loss: 271975.5938 - mean_absolute_error: 210100.2969 - val_loss: 1327316.8750 - val_mean_absolute_error: 1265479.0000\n",
      "Epoch 15/100\n",
      "14/14 [==============================] - 10s 712ms/step - loss: 281008.6562 - mean_absolute_error: 219220.9375 - val_loss: 1327488.2500 - val_mean_absolute_error: 1265726.2500\n",
      "Epoch 16/100\n",
      "14/14 [==============================] - 10s 751ms/step - loss: 288721.4375 - mean_absolute_error: 226971.2969 - val_loss: 1342125.6250 - val_mean_absolute_error: 1280444.8750\n",
      "Epoch 17/100\n",
      "14/14 [==============================] - 10s 679ms/step - loss: 278575.4375 - mean_absolute_error: 216943.2656 - val_loss: 1326855.0000 - val_mean_absolute_error: 1265367.0000\n",
      "Epoch 18/100\n",
      "14/14 [==============================] - 12s 841ms/step - loss: 271230.0938 - mean_absolute_error: 209807.1406 - val_loss: 1358784.2500 - val_mean_absolute_error: 1297383.8750\n",
      "Epoch 19/100\n",
      "14/14 [==============================] - 11s 777ms/step - loss: 289485.3438 - mean_absolute_error: 228046.4688 - val_loss: 1318195.8750 - val_mean_absolute_error: 1256760.6250\n",
      "Epoch 20/100\n",
      "14/14 [==============================] - 10s 717ms/step - loss: 273282.2188 - mean_absolute_error: 211885.9844 - val_loss: 1326003.2500 - val_mean_absolute_error: 1264651.3750\n",
      "Epoch 21/100\n",
      "14/14 [==============================] - 11s 758ms/step - loss: 273190.1250 - mean_absolute_error: 211898.5625 - val_loss: 1347868.3750 - val_mean_absolute_error: 1286635.5000\n",
      "Epoch 22/100\n",
      "14/14 [==============================] - 12s 827ms/step - loss: 283834.7188 - mean_absolute_error: 222624.5781 - val_loss: 1334877.8750 - val_mean_absolute_error: 1273705.5000\n",
      "Epoch 23/100\n",
      "14/14 [==============================] - 12s 863ms/step - loss: 275200.2812 - mean_absolute_error: 214055.1406 - val_loss: 1331374.1250 - val_mean_absolute_error: 1270278.3750\n",
      "Epoch 24/100\n",
      "14/14 [==============================] - 9s 637ms/step - loss: 259418.7812 - mean_absolute_error: 198281.1406 - val_loss: 1345969.3750 - val_mean_absolute_error: 1284808.1250\n",
      "Epoch 25/100\n",
      "14/14 [==============================] - 8s 596ms/step - loss: 294216.5312 - mean_absolute_error: 233034.9531 - val_loss: 1324186.6250 - val_mean_absolute_error: 1263046.3750\n",
      "Epoch 26/100\n",
      "14/14 [==============================] - 9s 646ms/step - loss: 328515.4375 - mean_absolute_error: 267473.9375 - val_loss: 1333562.6250 - val_mean_absolute_error: 1272645.3750\n",
      "Epoch 27/100\n",
      "14/14 [==============================] - 8s 608ms/step - loss: 284903.6250 - mean_absolute_error: 224041.5156 - val_loss: 1329202.7500 - val_mean_absolute_error: 1268428.8750\n",
      "Epoch 28/100\n",
      "14/14 [==============================] - 9s 633ms/step - loss: 279095.9688 - mean_absolute_error: 218266.9375 - val_loss: 1320046.1250 - val_mean_absolute_error: 1259175.8750\n",
      "Epoch 29/100\n",
      "14/14 [==============================] - 9s 684ms/step - loss: 286507.5625 - mean_absolute_error: 225618.6719 - val_loss: 1319833.0000 - val_mean_absolute_error: 1258971.0000\n",
      "Epoch 30/100\n",
      "14/14 [==============================] - 9s 627ms/step - loss: 270770.0312 - mean_absolute_error: 209926.9688 - val_loss: 1320892.7500 - val_mean_absolute_error: 1260145.1250\n",
      "Epoch 31/100\n",
      "14/14 [==============================] - 9s 659ms/step - loss: 290148.2188 - mean_absolute_error: 229400.4062 - val_loss: 1341642.6250 - val_mean_absolute_error: 1280911.1250\n",
      "Epoch 32/100\n",
      "14/14 [==============================] - 9s 655ms/step - loss: 297849.5625 - mean_absolute_error: 237218.9844 - val_loss: 1333101.2500 - val_mean_absolute_error: 1272580.3750\n",
      "Epoch 33/100\n",
      "14/14 [==============================] - 9s 662ms/step - loss: 276937.0625 - mean_absolute_error: 216453.1562 - val_loss: 1313836.3750 - val_mean_absolute_error: 1253380.3750\n",
      "Epoch 34/100\n",
      "14/14 [==============================] - 9s 677ms/step - loss: 273914.5000 - mean_absolute_error: 213498.8906 - val_loss: 1323783.7500 - val_mean_absolute_error: 1263394.1250\n",
      "Epoch 35/100\n",
      "14/14 [==============================] - 9s 679ms/step - loss: 290173.2188 - mean_absolute_error: 229768.8906 - val_loss: 1339088.2500 - val_mean_absolute_error: 1278703.6250\n",
      "Epoch 36/100\n",
      "14/14 [==============================] - 10s 693ms/step - loss: 287564.2188 - mean_absolute_error: 227214.8438 - val_loss: 1339462.1250 - val_mean_absolute_error: 1279172.0000\n",
      "Epoch 37/100\n",
      "14/14 [==============================] - 10s 736ms/step - loss: 271364.8125 - mean_absolute_error: 211095.1562 - val_loss: 1343884.0000 - val_mean_absolute_error: 1283666.7500\n",
      "Epoch 38/100\n",
      "14/14 [==============================] - 10s 741ms/step - loss: 280669.9688 - mean_absolute_error: 220489.5000 - val_loss: 1337259.8750 - val_mean_absolute_error: 1277128.8750\n",
      "Epoch 39/100\n",
      "14/14 [==============================] - 10s 705ms/step - loss: 250550.7031 - mean_absolute_error: 190459.6875 - val_loss: 1340236.6250 - val_mean_absolute_error: 1280218.7500\n",
      "Epoch 40/100\n",
      "14/14 [==============================] - 10s 696ms/step - loss: 281950.5000 - mean_absolute_error: 221933.9375 - val_loss: 1336302.0000 - val_mean_absolute_error: 1276266.7500\n",
      "Epoch 41/100\n",
      "14/14 [==============================] - 9s 657ms/step - loss: 277268.5000 - mean_absolute_error: 217282.3125 - val_loss: 1321666.1250 - val_mean_absolute_error: 1261769.8750\n",
      "Epoch 42/100\n",
      "14/14 [==============================] - 10s 699ms/step - loss: 274383.5000 - mean_absolute_error: 214508.0156 - val_loss: 1313817.0000 - val_mean_absolute_error: 1253912.0000\n",
      "Epoch 43/100\n",
      "14/14 [==============================] - 10s 717ms/step - loss: 288942.0312 - mean_absolute_error: 229027.8125 - val_loss: 1321965.5000 - val_mean_absolute_error: 1262157.8750\n",
      "Epoch 44/100\n",
      "14/14 [==============================] - 10s 699ms/step - loss: 280503.3750 - mean_absolute_error: 220769.9062 - val_loss: 1317625.0000 - val_mean_absolute_error: 1257921.0000\n",
      "Epoch 45/100\n",
      "14/14 [==============================] - 9s 677ms/step - loss: 283808.4688 - mean_absolute_error: 224115.9062 - val_loss: 1320169.8750 - val_mean_absolute_error: 1260520.5000\n",
      "Epoch 46/100\n",
      "14/14 [==============================] - 10s 685ms/step - loss: 279256.7812 - mean_absolute_error: 219623.5156 - val_loss: 1325337.8750 - val_mean_absolute_error: 1265743.6250\n",
      "Epoch 47/100\n",
      "14/14 [==============================] - 9s 655ms/step - loss: 290385.8125 - mean_absolute_error: 230805.8750 - val_loss: 1314209.2500 - val_mean_absolute_error: 1254697.1250\n",
      "Epoch 48/100\n",
      "14/14 [==============================] - 9s 675ms/step - loss: 289895.1875 - mean_absolute_error: 230411.4375 - val_loss: 1344841.8750 - val_mean_absolute_error: 1285341.2500\n",
      "Epoch 49/100\n",
      "14/14 [==============================] - 9s 659ms/step - loss: 276938.0312 - mean_absolute_error: 217357.5000 - val_loss: 1314872.2500 - val_mean_absolute_error: 1255273.2500\n",
      "Epoch 50/100\n",
      "14/14 [==============================] - 10s 708ms/step - loss: 282908.7188 - mean_absolute_error: 223370.9531 - val_loss: 1313468.1250 - val_mean_absolute_error: 1253962.6250\n",
      "Epoch 51/100\n",
      "14/14 [==============================] - 9s 682ms/step - loss: 284862.6250 - mean_absolute_error: 225399.7812 - val_loss: 1325801.6250 - val_mean_absolute_error: 1266387.2500\n",
      "Epoch 52/100\n",
      "14/14 [==============================] - 9s 668ms/step - loss: 274421.8438 - mean_absolute_error: 214998.5469 - val_loss: 1314338.0000 - val_mean_absolute_error: 1254890.2500\n",
      "Epoch 53/100\n",
      "14/14 [==============================] - 10s 688ms/step - loss: 281201.0625 - mean_absolute_error: 221719.7031 - val_loss: 1316368.6250 - val_mean_absolute_error: 1256894.1250\n",
      "Epoch 54/100\n",
      "14/14 [==============================] - 10s 689ms/step - loss: 268698.7812 - mean_absolute_error: 209241.4844 - val_loss: 1345787.3750 - val_mean_absolute_error: 1286403.1250\n",
      "Epoch 55/100\n",
      "14/14 [==============================] - 10s 701ms/step - loss: 280886.8438 - mean_absolute_error: 221505.5156 - val_loss: 1323022.3750 - val_mean_absolute_error: 1263643.3750\n",
      "Epoch 56/100\n",
      "14/14 [==============================] - 10s 689ms/step - loss: 269967.0312 - mean_absolute_error: 210623.1562 - val_loss: 1330382.5000 - val_mean_absolute_error: 1271166.7500\n",
      "Epoch 57/100\n",
      "14/14 [==============================] - 10s 701ms/step - loss: 271378.2188 - mean_absolute_error: 212216.6406 - val_loss: 1307756.1250 - val_mean_absolute_error: 1248712.1250\n",
      "Epoch 58/100\n",
      "14/14 [==============================] - 10s 723ms/step - loss: 277212.3125 - mean_absolute_error: 218219.5469 - val_loss: 1329960.5000 - val_mean_absolute_error: 1271060.6250\n",
      "Epoch 59/100\n",
      "14/14 [==============================] - 9s 678ms/step - loss: 271063.7188 - mean_absolute_error: 212108.4375 - val_loss: 1300022.1250 - val_mean_absolute_error: 1240987.0000\n",
      "Epoch 60/100\n",
      "14/14 [==============================] - 10s 704ms/step - loss: 291017.5938 - mean_absolute_error: 231977.2344 - val_loss: 1344353.7500 - val_mean_absolute_error: 1285394.0000\n",
      "Epoch 61/100\n",
      "14/14 [==============================] - 10s 709ms/step - loss: 283392.1562 - mean_absolute_error: 224436.7656 - val_loss: 1332324.8750 - val_mean_absolute_error: 1273352.5000\n",
      "Epoch 62/100\n",
      "14/14 [==============================] - 10s 709ms/step - loss: 265173.6562 - mean_absolute_error: 206175.0469 - val_loss: 1329147.6250 - val_mean_absolute_error: 1270083.1250\n",
      "Epoch 63/100\n",
      "14/14 [==============================] - 10s 747ms/step - loss: 278037.8125 - mean_absolute_error: 218971.2656 - val_loss: 1324155.6250 - val_mean_absolute_error: 1265139.7500\n",
      "Epoch 64/100\n",
      "14/14 [==============================] - 10s 704ms/step - loss: 293548.0625 - mean_absolute_error: 234565.0156 - val_loss: 1337617.1250 - val_mean_absolute_error: 1278716.2500\n",
      "Epoch 65/100\n",
      "14/14 [==============================] - 9s 682ms/step - loss: 273620.4375 - mean_absolute_error: 214713.7969 - val_loss: 1326759.0000 - val_mean_absolute_error: 1267881.8750\n",
      "Epoch 66/100\n",
      "14/14 [==============================] - 9s 651ms/step - loss: 294862.5938 - mean_absolute_error: 235988.3750 - val_loss: 1335825.5000 - val_mean_absolute_error: 1276975.3750\n",
      "Epoch 67/100\n",
      "14/14 [==============================] - 9s 658ms/step - loss: 282559.3125 - mean_absolute_error: 223672.4531 - val_loss: 1326325.6250 - val_mean_absolute_error: 1267466.8750\n",
      "Epoch 68/100\n",
      "14/14 [==============================] - 10s 682ms/step - loss: 282271.0000 - mean_absolute_error: 223519.3594 - val_loss: 1312844.3750 - val_mean_absolute_error: 1254195.8750\n",
      "Epoch 69/100\n",
      "14/14 [==============================] - 9s 667ms/step - loss: 270343.0938 - mean_absolute_error: 211795.7969 - val_loss: 1340676.0000 - val_mean_absolute_error: 1282219.0000\n",
      "Epoch 70/100\n",
      "14/14 [==============================] - 9s 658ms/step - loss: 281742.6875 - mean_absolute_error: 223254.2969 - val_loss: 1313689.5000 - val_mean_absolute_error: 1255140.7500\n",
      "Epoch 71/100\n",
      "14/14 [==============================] - 10s 687ms/step - loss: 260421.0312 - mean_absolute_error: 201840.3750 - val_loss: 1326677.0000 - val_mean_absolute_error: 1268083.1250\n",
      "Epoch 72/100\n",
      "14/14 [==============================] - 9s 664ms/step - loss: 285085.4062 - mean_absolute_error: 226497.3438 - val_loss: 1312491.1250 - val_mean_absolute_error: 1253915.1250\n",
      "Epoch 73/100\n",
      "14/14 [==============================] - 9s 664ms/step - loss: 269531.5938 - mean_absolute_error: 210945.4375 - val_loss: 1323363.2500 - val_mean_absolute_error: 1264798.3750\n",
      "Epoch 74/100\n",
      "14/14 [==============================] - 9s 675ms/step - loss: 265923.5312 - mean_absolute_error: 207341.7188 - val_loss: 1331730.7500 - val_mean_absolute_error: 1273184.6250\n",
      "Epoch 75/100\n",
      "14/14 [==============================] - 9s 670ms/step - loss: 263829.1875 - mean_absolute_error: 205318.2969 - val_loss: 1327843.1250 - val_mean_absolute_error: 1269391.7500\n",
      "Epoch 76/100\n",
      "14/14 [==============================] - 10s 688ms/step - loss: 279772.6562 - mean_absolute_error: 221307.2969 - val_loss: 1338301.1250 - val_mean_absolute_error: 1279813.0000\n",
      "Epoch 77/100\n",
      "14/14 [==============================] - 9s 679ms/step - loss: 282385.6875 - mean_absolute_error: 223965.1250 - val_loss: 1331030.7500 - val_mean_absolute_error: 1272740.0000\n",
      "Epoch 78/100\n",
      "14/14 [==============================] - 9s 657ms/step - loss: 280256.1250 - mean_absolute_error: 222062.1094 - val_loss: 1324098.1250 - val_mean_absolute_error: 1265973.6250\n",
      "Epoch 79/100\n",
      "14/14 [==============================] - 9s 655ms/step - loss: 279869.1875 - mean_absolute_error: 221763.1719 - val_loss: 1332714.6250 - val_mean_absolute_error: 1274611.8750\n",
      "Epoch 80/100\n",
      "14/14 [==============================] - 9s 679ms/step - loss: 285845.3750 - mean_absolute_error: 227721.5156 - val_loss: 1338440.2500 - val_mean_absolute_error: 1280344.6250\n",
      "Epoch 81/100\n",
      "14/14 [==============================] - 9s 666ms/step - loss: 265669.8438 - mean_absolute_error: 207553.1719 - val_loss: 1331351.3750 - val_mean_absolute_error: 1273211.1250\n",
      "Epoch 82/100\n",
      "14/14 [==============================] - 9s 676ms/step - loss: 273876.4062 - mean_absolute_error: 215721.8125 - val_loss: 1340014.7500 - val_mean_absolute_error: 1281879.7500\n",
      "Epoch 83/100\n",
      "14/14 [==============================] - 10s 731ms/step - loss: 272014.1562 - mean_absolute_error: 213923.5156 - val_loss: 1348696.6250 - val_mean_absolute_error: 1290697.8750\n",
      "Epoch 84/100\n",
      "14/14 [==============================] - 10s 698ms/step - loss: 284616.6250 - mean_absolute_error: 226555.3594 - val_loss: 1340691.1250 - val_mean_absolute_error: 1282573.3750\n",
      "Epoch 85/100\n",
      "14/14 [==============================] - 9s 675ms/step - loss: 332143.9375 - mean_absolute_error: 274098.2812 - val_loss: 1327506.6250 - val_mean_absolute_error: 1269469.8750\n",
      "Epoch 86/100\n",
      "14/14 [==============================] - 9s 679ms/step - loss: 275684.5938 - mean_absolute_error: 217605.0781 - val_loss: 1354717.1250 - val_mean_absolute_error: 1296625.7500\n",
      "Epoch 87/100\n",
      "14/14 [==============================] - 10s 687ms/step - loss: 277186.0938 - mean_absolute_error: 219113.4531 - val_loss: 1324534.0000 - val_mean_absolute_error: 1266529.5000\n",
      "Epoch 88/100\n",
      "14/14 [==============================] - 10s 723ms/step - loss: 262300.4062 - mean_absolute_error: 204317.2500 - val_loss: 1321262.6250 - val_mean_absolute_error: 1263299.8750\n",
      "Epoch 89/100\n",
      "14/14 [==============================] - 11s 758ms/step - loss: 255949.7344 - mean_absolute_error: 198032.8594 - val_loss: 1331699.8750 - val_mean_absolute_error: 1273835.0000\n",
      "5/5 [==============================] - 7s 423ms/step\n",
      "5/5 [==============================] - 6s 401ms/step\n",
      "143\n",
      "5/5 [==============================] - 6s 393ms/step\n",
      "142\n",
      "5/5 [==============================] - 6s 360ms/step\n",
      "142\n"
     ]
    }
   ],
   "source": [
    "n = 4\n",
    "from models import N_CNN_RF_V2\n",
    "from keras.applications import MobileNetV3Small\n",
    "custom_layers = [\n",
    "    #Type 1\n",
    "    Flatten(),\n",
    "    Dense(512, activation=\"relu\", kernel_regularizer=regularizers.l1(0.2)),\n",
    "    # BatchNormalization(),\n",
    "    layers.Dropout(0.2),\n",
    "    Dense(256, activation=\"relu\", kernel_regularizer=regularizers.l1(0.2)),\n",
    "    layers.Dropout(0.2),\n",
    "    Dense(128, activation=\"relu\", kernel_regularizer=regularizers.l1(0.2)),\n",
    "    layers.Dropout(0.1),\n",
    "    Dense(64, activation=\"relu\"),\n",
    "    Dense(1, activation=\"linear\"),\n",
    "    ]\n",
    "\n",
    "N_CNN_RF_V2_model = N_CNN_RF_V2(n, MobileNetV3Small, custom_layers)\n",
    "N_CNN_RF_V2_model.fit(np.concatenate((train1_images, train2_images), axis=0), \n",
    "                      pd.concat((train1_features, train2_features), axis=0), \n",
    "                      np.concatenate((train1_prices, train2_prices), axis=0),\n",
    "                      valid_images, \n",
    "                      valid_prices,\n",
    "                      n) "
   ]
  },
  {
   "cell_type": "markdown",
   "metadata": {},
   "source": [
    "Training model  0\n",
    "Number of Training Images 427\n",
    "Mean of Training Images 3760796.2529274006\n",
    "Number of datapoints in validation set 143\n",
    "Mean of validation set 3835531.4685314684\n",
    "Compiling Model\n",
    "Fitting Model\n",
    "Epoch 1/100\n",
    "14/14 [==============================] - 27s 973ms/step - loss: 3771481.0000 - mean_absolute_error: 3760765.0000 - val_loss: 3839358.7500 - val_mean_absolute_error: 3835299.0000\n",
    "Epoch 2/100\n",
    "14/14 [==============================] - 10s 726ms/step - loss: 3761812.5000 - mean_absolute_error: 3758008.2500 - val_loss: 3825120.2500 - val_mean_absolute_error: 3821390.2500\n",
    "Epoch 3/100\n",
    "14/14 [==============================] - 11s 771ms/step - loss: 3686866.7500 - mean_absolute_error: 3681084.2500 - val_loss: 3559687.2500 - val_mean_absolute_error: 3549439.0000\n",
    "Epoch 4/100\n",
    "14/14 [==============================] - 10s 736ms/step - loss: 2838282.7500 - mean_absolute_error: 2821121.0000 - val_loss: 1658022.5000 - val_mean_absolute_error: 1629887.0000\n",
    "Epoch 5/100\n",
    "14/14 [==============================] - 10s 738ms/step - loss: 1636304.6250 - mean_absolute_error: 1603869.8750 - val_loss: 1556243.7500 - val_mean_absolute_error: 1524349.6250\n",
    "Epoch 6/100\n",
    "14/14 [==============================] - 10s 747ms/step - loss: 1473385.2500 - mean_absolute_error: 1442229.3750 - val_loss: 1508453.8750 - val_mean_absolute_error: 1475986.1250\n",
    "Epoch 7/100\n",
    "14/14 [==============================] - 10s 721ms/step - loss: 1406986.2500 - mean_absolute_error: 1373288.8750 - val_loss: 1457318.1250 - val_mean_absolute_error: 1423618.2500\n",
    "Epoch 8/100\n",
    "14/14 [==============================] - 11s 765ms/step - loss: 1308593.0000 - mean_absolute_error: 1274780.8750 - val_loss: 1423733.5000 - val_mean_absolute_error: 1389396.3750\n",
    "Epoch 9/100\n",
    "14/14 [==============================] - 10s 723ms/step - loss: 1271124.5000 - mean_absolute_error: 1235551.8750 - val_loss: 1383650.6250 - val_mean_absolute_error: 1347186.3750\n",
    "Epoch 10/100\n",
    "14/14 [==============================] - 10s 717ms/step - loss: 1222743.1250 - mean_absolute_error: 1185535.3750 - val_loss: 1366021.8750 - val_mean_absolute_error: 1327473.3750\n",
    "Epoch 11/100\n",
    "14/14 [==============================] - 11s 769ms/step - loss: 1183205.8750 - mean_absolute_error: 1143846.3750 - val_loss: 1333733.8750 - val_mean_absolute_error: 1293136.5000\n",
    "Epoch 12/100\n",
    "14/14 [==============================] - 10s 754ms/step - loss: 1114573.2500 - mean_absolute_error: 1072733.2500 - val_loss: 1325493.5000 - val_mean_absolute_error: 1282597.7500\n",
    "Epoch 13/100\n",
    "14/14 [==============================] - 11s 793ms/step - loss: 1063411.8750 - mean_absolute_error: 1019350.1250 - val_loss: 1316382.5000 - val_mean_absolute_error: 1270909.5000\n",
    "Epoch 14/100\n",
    "14/14 [==============================] - 10s 723ms/step - loss: 1014580.1875 - mean_absolute_error: 968065.6250 - val_loss: 1301035.1250 - val_mean_absolute_error: 1253193.3750\n",
    "Epoch 15/100\n",
    "14/14 [==============================] - 10s 718ms/step - loss: 954471.0625 - mean_absolute_error: 905561.1875 - val_loss: 1330987.3750 - val_mean_absolute_error: 1280688.8750\n",
    "Epoch 16/100\n",
    "14/14 [==============================] - 10s 747ms/step - loss: 887342.7500 - mean_absolute_error: 836073.7500 - val_loss: 1287097.6250 - val_mean_absolute_error: 1234655.1250\n",
    "Epoch 17/100\n",
    "14/14 [==============================] - 10s 748ms/step - loss: 816783.5625 - mean_absolute_error: 763360.3125 - val_loss: 1286014.8750 - val_mean_absolute_error: 1231537.8750\n",
    "Epoch 18/100\n",
    "14/14 [==============================] - 10s 753ms/step - loss: 742714.8750 - mean_absolute_error: 687325.1250 - val_loss: 1266559.7500 - val_mean_absolute_error: 1210229.0000\n",
    "Epoch 19/100\n",
    "14/14 [==============================] - 10s 713ms/step - loss: 736329.0625 - mean_absolute_error: 679155.8750 - val_loss: 1268679.3750 - val_mean_absolute_error: 1210771.2500\n",
    "Epoch 20/100\n",
    "14/14 [==============================] - 10s 754ms/step - loss: 671491.3125 - mean_absolute_error: 613068.6875 - val_loss: 1263264.1250 - val_mean_absolute_error: 1204199.8750\n",
    "Epoch 21/100\n",
    "14/14 [==============================] - 10s 742ms/step - loss: 650520.0625 - mean_absolute_error: 590837.5000 - val_loss: 1346535.0000 - val_mean_absolute_error: 1286035.2500\n",
    "Epoch 22/100\n",
    "14/14 [==============================] - 10s 726ms/step - loss: 639740.1250 - mean_absolute_error: 578891.1875 - val_loss: 1252580.5000 - val_mean_absolute_error: 1191249.3750\n",
    "Epoch 23/100\n",
    "14/14 [==============================] - 11s 778ms/step - loss: 596105.5625 - mean_absolute_error: 534419.4375 - val_loss: 1247844.6250 - val_mean_absolute_error: 1185914.6250\n",
    "Epoch 24/100\n",
    "14/14 [==============================] - 11s 781ms/step - loss: 570844.9375 - mean_absolute_error: 508578.2188 - val_loss: 1300427.5000 - val_mean_absolute_error: 1237714.1250\n",
    "Epoch 25/100\n",
    "14/14 [==============================] - 11s 765ms/step - loss: 592623.1875 - mean_absolute_error: 529617.3750 - val_loss: 1292063.7500 - val_mean_absolute_error: 1228672.8750\n",
    "Epoch 26/100\n",
    "14/14 [==============================] - 11s 786ms/step - loss: 579482.8750 - mean_absolute_error: 515860.0000 - val_loss: 1245209.5000 - val_mean_absolute_error: 1181419.0000\n",
    "Epoch 27/100\n",
    "14/14 [==============================] - 10s 758ms/step - loss: 532907.0000 - mean_absolute_error: 468937.0312 - val_loss: 1283088.5000 - val_mean_absolute_error: 1218842.5000\n",
    "Epoch 28/100\n",
    "14/14 [==============================] - 11s 777ms/step - loss: 503778.2500 - mean_absolute_error: 439421.0625 - val_loss: 1255359.0000 - val_mean_absolute_error: 1190909.5000\n",
    "Epoch 29/100\n",
    "14/14 [==============================] - 11s 801ms/step - loss: 497025.1875 - mean_absolute_error: 432397.0000 - val_loss: 1246495.8750 - val_mean_absolute_error: 1181667.3750\n",
    "Epoch 30/100\n",
    "14/14 [==============================] - 13s 925ms/step - loss: 492272.1562 - mean_absolute_error: 427320.2500 - val_loss: 1292626.2500 - val_mean_absolute_error: 1227380.3750\n",
    "Epoch 31/100\n",
    "14/14 [==============================] - 13s 937ms/step - loss: 476540.0312 - mean_absolute_error: 411072.6875 - val_loss: 1254260.8750 - val_mean_absolute_error: 1188502.1250\n",
    "Epoch 32/100\n",
    "14/14 [==============================] - 13s 909ms/step - loss: 430046.0938 - mean_absolute_error: 364193.3438 - val_loss: 1243737.0000 - val_mean_absolute_error: 1177826.8750\n",
    "Epoch 33/100\n",
    "14/14 [==============================] - 13s 938ms/step - loss: 423618.0000 - mean_absolute_error: 357672.6562 - val_loss: 1286808.3750 - val_mean_absolute_error: 1220697.6250\n",
    "Epoch 34/100\n",
    "14/14 [==============================] - 10s 748ms/step - loss: 458031.0000 - mean_absolute_error: 391756.8438 - val_loss: 1244549.7500 - val_mean_absolute_error: 1178229.7500\n",
    "Epoch 35/100\n",
    "14/14 [==============================] - 10s 736ms/step - loss: 411383.5625 - mean_absolute_error: 344965.6875 - val_loss: 1257815.1250 - val_mean_absolute_error: 1191306.5000\n",
    "Epoch 36/100\n",
    "14/14 [==============================] - 11s 780ms/step - loss: 399189.7812 - mean_absolute_error: 332589.7500 - val_loss: 1260717.6250 - val_mean_absolute_error: 1194028.2500\n",
    "Epoch 37/100\n",
    "14/14 [==============================] - 10s 752ms/step - loss: 379250.8750 - mean_absolute_error: 312587.8438 - val_loss: 1297644.2500 - val_mean_absolute_error: 1231057.3750\n",
    "Epoch 38/100\n",
    "14/14 [==============================] - 10s 762ms/step - loss: 429155.6875 - mean_absolute_error: 362668.1250 - val_loss: 1246969.1250 - val_mean_absolute_error: 1180531.3750\n",
    "Epoch 39/100\n",
    "14/14 [==============================] - 11s 780ms/step - loss: 395845.7812 - mean_absolute_error: 329274.2188 - val_loss: 1252589.3750 - val_mean_absolute_error: 1185967.7500\n",
    "Epoch 40/100\n",
    "14/14 [==============================] - 10s 738ms/step - loss: 375097.9375 - mean_absolute_error: 308552.1562 - val_loss: 1273065.2500 - val_mean_absolute_error: 1206590.6250\n",
    "Epoch 41/100\n",
    "14/14 [==============================] - 10s 730ms/step - loss: 381443.5000 - mean_absolute_error: 314977.1562 - val_loss: 1266748.1250 - val_mean_absolute_error: 1200368.3750\n",
    "Epoch 42/100\n",
    "14/14 [==============================] - 11s 798ms/step - loss: 366576.8750 - mean_absolute_error: 300192.5000 - val_loss: 1300232.0000 - val_mean_absolute_error: 1233765.2500\n",
    "Epoch 43/100\n",
    "14/14 [==============================] - 11s 760ms/step - loss: 395714.0938 - mean_absolute_error: 329286.3750 - val_loss: 1235664.5000 - val_mean_absolute_error: 1169282.5000\n",
    "Epoch 44/100\n",
    "14/14 [==============================] - 11s 810ms/step - loss: 368203.0625 - mean_absolute_error: 301808.8438 - val_loss: 1279621.7500 - val_mean_absolute_error: 1213236.5000\n",
    "Epoch 45/100\n",
    "14/14 [==============================] - 11s 776ms/step - loss: 360520.0312 - mean_absolute_error: 294195.4062 - val_loss: 1232331.6250 - val_mean_absolute_error: 1166127.0000\n",
    "Epoch 46/100\n",
    "14/14 [==============================] - 11s 785ms/step - loss: 365291.1250 - mean_absolute_error: 299031.4062 - val_loss: 1257216.0000 - val_mean_absolute_error: 1190978.6250\n",
    "Epoch 47/100\n",
    "14/14 [==============================] - 11s 789ms/step - loss: 355305.0000 - mean_absolute_error: 289092.2812 - val_loss: 1248196.7500 - val_mean_absolute_error: 1182100.7500\n",
    "Epoch 48/100\n",
    "14/14 [==============================] - 11s 767ms/step - loss: 346215.3750 - mean_absolute_error: 280084.2500 - val_loss: 1260921.6250 - val_mean_absolute_error: 1194794.8750\n",
    "Epoch 49/100\n",
    "14/14 [==============================] - 11s 771ms/step - loss: 363688.4062 - mean_absolute_error: 297673.6250 - val_loss: 1237279.2500 - val_mean_absolute_error: 1171405.2500\n",
    "Epoch 50/100\n",
    "14/14 [==============================] - 11s 796ms/step - loss: 382861.2500 - mean_absolute_error: 316958.2500 - val_loss: 1259356.2500 - val_mean_absolute_error: 1193549.6250\n",
    "Epoch 51/100\n",
    "14/14 [==============================] - 11s 825ms/step - loss: 334907.2188 - mean_absolute_error: 269145.2812 - val_loss: 1292151.2500 - val_mean_absolute_error: 1226367.1250\n",
    "Epoch 52/100\n",
    "14/14 [==============================] - 10s 740ms/step - loss: 354881.3125 - mean_absolute_error: 289141.1250 - val_loss: 1259421.7500 - val_mean_absolute_error: 1193741.3750\n",
    "Epoch 53/100\n",
    "14/14 [==============================] - 11s 830ms/step - loss: 331186.0938 - mean_absolute_error: 265412.1562 - val_loss: 1271442.7500 - val_mean_absolute_error: 1205659.3750\n",
    "Epoch 54/100\n",
    "14/14 [==============================] - 11s 770ms/step - loss: 328867.0000 - mean_absolute_error: 263151.7500 - val_loss: 1245310.8750 - val_mean_absolute_error: 1179696.1250\n",
    "Epoch 55/100\n",
    "14/14 [==============================] - 11s 782ms/step - loss: 351840.5625 - mean_absolute_error: 286254.0938 - val_loss: 1251319.6250 - val_mean_absolute_error: 1185866.1250\n",
    "Epoch 56/100\n",
    "14/14 [==============================] - 11s 805ms/step - loss: 383898.7500 - mean_absolute_error: 318514.7812 - val_loss: 1310284.8750 - val_mean_absolute_error: 1244911.2500\n",
    "Epoch 57/100\n",
    "14/14 [==============================] - 11s 775ms/step - loss: 356631.4062 - mean_absolute_error: 291294.1562 - val_loss: 1247103.0000 - val_mean_absolute_error: 1181780.0000\n",
    "Epoch 58/100\n",
    "14/14 [==============================] - 11s 772ms/step - loss: 337087.7812 - mean_absolute_error: 271735.6562 - val_loss: 1265855.0000 - val_mean_absolute_error: 1200528.7500\n",
    "Epoch 59/100\n",
    "14/14 [==============================] - 11s 782ms/step - loss: 318576.4375 - mean_absolute_error: 253335.1719 - val_loss: 1263646.0000 - val_mean_absolute_error: 1198521.3750\n",
    "Epoch 60/100\n",
    "14/14 [==============================] - 11s 764ms/step - loss: 323287.3125 - mean_absolute_error: 258252.6250 - val_loss: 1245694.0000 - val_mean_absolute_error: 1180704.3750\n",
    "Epoch 61/100\n",
    "14/14 [==============================] - 11s 804ms/step - loss: 348889.0312 - mean_absolute_error: 283962.6562 - val_loss: 1239749.7500 - val_mean_absolute_error: 1174917.8750\n",
    "Epoch 62/100\n",
    "14/14 [==============================] - 11s 776ms/step - loss: 326982.2812 - mean_absolute_error: 262091.1719 - val_loss: 1281785.7500 - val_mean_absolute_error: 1216906.0000\n",
    "Epoch 63/100\n",
    "14/14 [==============================] - 11s 830ms/step - loss: 324863.1875 - mean_absolute_error: 260018.8281 - val_loss: 1261624.3750 - val_mean_absolute_error: 1196771.1250\n",
    "Epoch 64/100\n",
    "14/14 [==============================] - 11s 816ms/step - loss: 322463.4688 - mean_absolute_error: 257662.7031 - val_loss: 1241012.3750 - val_mean_absolute_error: 1176404.7500\n",
    "Epoch 65/100\n",
    "14/14 [==============================] - 11s 787ms/step - loss: 319880.5312 - mean_absolute_error: 255381.2031 - val_loss: 1267117.0000 - val_mean_absolute_error: 1202672.6250\n",
    "Epoch 66/100\n",
    "14/14 [==============================] - 11s 778ms/step - loss: 311373.0938 - mean_absolute_error: 246887.9219 - val_loss: 1242858.0000 - val_mean_absolute_error: 1178321.2500\n",
    "Epoch 67/100\n",
    "14/14 [==============================] - 11s 779ms/step - loss: 306303.1875 - mean_absolute_error: 241754.8125 - val_loss: 1242387.8750 - val_mean_absolute_error: 1177975.7500\n",
    "Epoch 68/100\n",
    "14/14 [==============================] - 11s 795ms/step - loss: 313506.1250 - mean_absolute_error: 249170.7969 - val_loss: 1222415.5000 - val_mean_absolute_error: 1158215.1250\n",
    "Epoch 69/100\n",
    "14/14 [==============================] - 11s 812ms/step - loss: 337615.8750 - mean_absolute_error: 273357.0000 - val_loss: 1250585.2500 - val_mean_absolute_error: 1186289.2500\n",
    "Epoch 70/100\n",
    "14/14 [==============================] - 11s 769ms/step - loss: 324104.5000 - mean_absolute_error: 259820.4531 - val_loss: 1294557.8750 - val_mean_absolute_error: 1230264.3750\n",
    "Epoch 71/100\n",
    "14/14 [==============================] - 11s 787ms/step - loss: 323181.7500 - mean_absolute_error: 258993.7969 - val_loss: 1275154.1250 - val_mean_absolute_error: 1210978.0000\n",
    "Epoch 72/100\n",
    "14/14 [==============================] - 11s 825ms/step - loss: 301030.3438 - mean_absolute_error: 236971.7500 - val_loss: 1250821.7500 - val_mean_absolute_error: 1186958.0000\n",
    "Epoch 73/100\n",
    "14/14 [==============================] - 10s 745ms/step - loss: 326586.5000 - mean_absolute_error: 262677.8750 - val_loss: 1263211.6250 - val_mean_absolute_error: 1199281.6250\n",
    "Epoch 74/100\n",
    "14/14 [==============================] - 11s 771ms/step - loss: 326460.5938 - mean_absolute_error: 262542.9375 - val_loss: 1298798.1250 - val_mean_absolute_error: 1234962.3750\n",
    "Epoch 75/100\n",
    "14/14 [==============================] - 11s 781ms/step - loss: 311386.7188 - mean_absolute_error: 247644.7188 - val_loss: 1242751.6250 - val_mean_absolute_error: 1179128.3750\n",
    "Epoch 76/100\n",
    "14/14 [==============================] - 10s 746ms/step - loss: 321069.8750 - mean_absolute_error: 257523.7344 - val_loss: 1240065.3750 - val_mean_absolute_error: 1176625.6250\n",
    "Epoch 77/100\n",
    "14/14 [==============================] - 11s 780ms/step - loss: 322289.5625 - mean_absolute_error: 258819.2188 - val_loss: 1264081.1250 - val_mean_absolute_error: 1200568.3750\n",
    "Epoch 78/100\n",
    "14/14 [==============================] - 11s 783ms/step - loss: 317987.5938 - mean_absolute_error: 254463.3438 - val_loss: 1250580.7500 - val_mean_absolute_error: 1187135.5000\n",
    "Epoch 79/100\n",
    "14/14 [==============================] - 10s 757ms/step - loss: 287897.8750 - mean_absolute_error: 224478.0000 - val_loss: 1261099.1250 - val_mean_absolute_error: 1197714.6250\n",
    "Epoch 80/100\n",
    "14/14 [==============================] - 10s 730ms/step - loss: 294136.3125 - mean_absolute_error: 230865.8750 - val_loss: 1254437.7500 - val_mean_absolute_error: 1191382.3750\n",
    "Epoch 81/100\n",
    "14/14 [==============================] - 10s 728ms/step - loss: 308186.6875 - mean_absolute_error: 245196.2969 - val_loss: 1267052.3750 - val_mean_absolute_error: 1204133.1250\n",
    "Epoch 82/100\n",
    "14/14 [==============================] - 11s 763ms/step - loss: 279651.2812 - mean_absolute_error: 216777.9062 - val_loss: 1266742.0000 - val_mean_absolute_error: 1203859.6250\n",
    "Epoch 83/100\n",
    "14/14 [==============================] - 10s 733ms/step - loss: 296017.0625 - mean_absolute_error: 233116.3281 - val_loss: 1258912.5000 - val_mean_absolute_error: 1196070.1250\n",
    "Epoch 84/100\n",
    "14/14 [==============================] - 10s 746ms/step - loss: 314549.2500 - mean_absolute_error: 251756.7344 - val_loss: 1250288.7500 - val_mean_absolute_error: 1187663.2500\n",
    "Epoch 85/100\n",
    "14/14 [==============================] - 10s 718ms/step - loss: 318533.6250 - mean_absolute_error: 255896.3750 - val_loss: 1237992.7500 - val_mean_absolute_error: 1175379.1250\n",
    "Epoch 86/100\n",
    "14/14 [==============================] - 10s 723ms/step - loss: 314762.7188 - mean_absolute_error: 252144.1562 - val_loss: 1259106.2500 - val_mean_absolute_error: 1196605.3750\n",
    "Epoch 87/100\n",
    "14/14 [==============================] - 10s 735ms/step - loss: 300351.8438 - mean_absolute_error: 237903.6875 - val_loss: 1225054.6250 - val_mean_absolute_error: 1162680.3750\n",
    "Epoch 88/100\n",
    "14/14 [==============================] - 10s 712ms/step - loss: 321877.0625 - mean_absolute_error: 259487.6250 - val_loss: 1255012.3750 - val_mean_absolute_error: 1192652.0000\n",
    "Epoch 89/100\n",
    "14/14 [==============================] - 10s 760ms/step - loss: 285088.1250 - mean_absolute_error: 222752.1250 - val_loss: 1262609.6250 - val_mean_absolute_error: 1200358.2500\n",
    "Epoch 90/100\n",
    "14/14 [==============================] - 10s 719ms/step - loss: 295900.5000 - mean_absolute_error: 233698.4531 - val_loss: 1240085.5000 - val_mean_absolute_error: 1177952.0000\n",
    "Epoch 91/100\n",
    "14/14 [==============================] - 10s 703ms/step - loss: 267434.9062 - mean_absolute_error: 205324.9531 - val_loss: 1262486.2500 - val_mean_absolute_error: 1200449.0000\n",
    "Epoch 92/100\n",
    "14/14 [==============================] - 10s 742ms/step - loss: 285915.5312 - mean_absolute_error: 223881.3750 - val_loss: 1250668.2500 - val_mean_absolute_error: 1188660.6250\n",
    "Epoch 93/100\n",
    "14/14 [==============================] - 10s 723ms/step - loss: 301828.7812 - mean_absolute_error: 239796.5469 - val_loss: 1261651.5000 - val_mean_absolute_error: 1199695.8750\n",
    "Epoch 94/100\n",
    "14/14 [==============================] - 10s 717ms/step - loss: 282270.9375 - mean_absolute_error: 220450.7344 - val_loss: 1262573.1250 - val_mean_absolute_error: 1200859.8750\n",
    "Epoch 95/100\n",
    "14/14 [==============================] - 11s 809ms/step - loss: 280735.8438 - mean_absolute_error: 219086.7812 - val_loss: 1250342.3750 - val_mean_absolute_error: 1188783.2500\n",
    "Epoch 96/100\n",
    "14/14 [==============================] - 10s 713ms/step - loss: 306107.2500 - mean_absolute_error: 244569.5156 - val_loss: 1256175.6250 - val_mean_absolute_error: 1194624.8750\n",
    "Epoch 97/100\n",
    "14/14 [==============================] - 10s 735ms/step - loss: 291494.3750 - mean_absolute_error: 229889.8750 - val_loss: 1227363.1250 - val_mean_absolute_error: 1165765.6250\n",
    "Epoch 98/100\n",
    "14/14 [==============================] - 11s 769ms/step - loss: 286150.5312 - mean_absolute_error: 224513.2031 - val_loss: 1291472.8750 - val_mean_absolute_error: 1229762.2500\n",
    "Training model  1\n",
    "Number of Training Images 427\n",
    "Mean of Training Images 3775613.5831381734\n",
    "Number of datapoints in validation set 143\n",
    "Mean of validation set 3791286.713286713\n",
    "Compiling Model\n",
    "Fitting Model\n",
    "Epoch 1/100\n",
    "14/14 [==============================] - 30s 991ms/step - loss: 634497.0625 - mean_absolute_error: 570188.3125 - val_loss: 263846.3438 - val_mean_absolute_error: 199507.5625\n",
    "Epoch 2/100\n",
    "14/14 [==============================] - 10s 688ms/step - loss: 584605.5625 - mean_absolute_error: 520280.3438 - val_loss: 275108.1250 - val_mean_absolute_error: 210795.4219\n",
    "Epoch 3/100\n",
    "14/14 [==============================] - 10s 722ms/step - loss: 570820.7500 - mean_absolute_error: 506430.7188 - val_loss: 232282.9688 - val_mean_absolute_error: 167791.2969\n",
    "Epoch 4/100\n",
    "14/14 [==============================] - 10s 723ms/step - loss: 541609.0625 - mean_absolute_error: 476957.7500 - val_loss: 239074.7344 - val_mean_absolute_error: 174200.0312\n",
    "Epoch 5/100\n",
    "14/14 [==============================] - 10s 719ms/step - loss: 530905.8750 - mean_absolute_error: 465881.6250 - val_loss: 257326.7344 - val_mean_absolute_error: 192221.0469\n",
    "Epoch 6/100\n",
    "14/14 [==============================] - 10s 741ms/step - loss: 499593.9688 - mean_absolute_error: 434436.5938 - val_loss: 245766.3750 - val_mean_absolute_error: 180564.5000\n",
    "Epoch 7/100\n",
    "14/14 [==============================] - 10s 702ms/step - loss: 513905.1875 - mean_absolute_error: 448685.5625 - val_loss: 341028.2500 - val_mean_absolute_error: 275794.5938\n",
    "Epoch 8/100\n",
    "14/14 [==============================] - 10s 704ms/step - loss: 508872.9062 - mean_absolute_error: 443545.2812 - val_loss: 274793.5000 - val_mean_absolute_error: 209430.2031\n",
    "Epoch 9/100\n",
    "14/14 [==============================] - 10s 735ms/step - loss: 487597.6875 - mean_absolute_error: 422173.1250 - val_loss: 277503.0938 - val_mean_absolute_error: 211926.9531\n",
    "Epoch 10/100\n",
    "14/14 [==============================] - 10s 695ms/step - loss: 466938.4062 - mean_absolute_error: 401222.0625 - val_loss: 273121.4062 - val_mean_absolute_error: 207335.7344\n",
    "Epoch 11/100\n",
    "14/14 [==============================] - 10s 730ms/step - loss: 453883.8438 - mean_absolute_error: 388108.0312 - val_loss: 290870.6875 - val_mean_absolute_error: 225045.0312\n",
    "Epoch 12/100\n",
    "14/14 [==============================] - 10s 744ms/step - loss: 456425.2812 - mean_absolute_error: 390520.4688 - val_loss: 308467.6875 - val_mean_absolute_error: 242438.1875\n",
    "Epoch 13/100\n",
    "14/14 [==============================] - 10s 703ms/step - loss: 447389.8750 - mean_absolute_error: 381243.5312 - val_loss: 354248.4062 - val_mean_absolute_error: 288002.5938\n",
    "Epoch 14/100\n",
    "14/14 [==============================] - 10s 714ms/step - loss: 421026.9688 - mean_absolute_error: 354658.2500 - val_loss: 326652.0312 - val_mean_absolute_error: 260215.1406\n",
    "Epoch 15/100\n",
    "14/14 [==============================] - 10s 712ms/step - loss: 432086.3750 - mean_absolute_error: 365637.9688 - val_loss: 330699.3125 - val_mean_absolute_error: 264238.8750\n",
    "Epoch 16/100\n",
    "14/14 [==============================] - 10s 738ms/step - loss: 412523.1250 - mean_absolute_error: 346027.8750 - val_loss: 336984.1250 - val_mean_absolute_error: 270456.0625\n",
    "Epoch 17/100\n",
    "14/14 [==============================] - 10s 705ms/step - loss: 391339.6250 - mean_absolute_error: 324731.0625 - val_loss: 410780.8750 - val_mean_absolute_error: 344083.8750\n",
    "Epoch 18/100\n",
    "14/14 [==============================] - 10s 698ms/step - loss: 408166.8438 - mean_absolute_error: 341349.6250 - val_loss: 365459.0312 - val_mean_absolute_error: 298475.9062\n",
    "Epoch 19/100\n",
    "14/14 [==============================] - 10s 720ms/step - loss: 407575.3750 - mean_absolute_error: 340526.5000 - val_loss: 344726.6875 - val_mean_absolute_error: 277647.7812\n",
    "Epoch 20/100\n",
    "14/14 [==============================] - 10s 699ms/step - loss: 384631.2812 - mean_absolute_error: 317540.5625 - val_loss: 396153.8438 - val_mean_absolute_error: 329100.6250\n",
    "Epoch 21/100\n",
    "14/14 [==============================] - 10s 722ms/step - loss: 375080.5938 - mean_absolute_error: 308053.3125 - val_loss: 359594.0938 - val_mean_absolute_error: 292601.9062\n",
    "Epoch 22/100\n",
    "14/14 [==============================] - 10s 719ms/step - loss: 361394.2500 - mean_absolute_error: 294404.5000 - val_loss: 359138.5312 - val_mean_absolute_error: 292158.4375\n",
    "Epoch 23/100\n",
    "14/14 [==============================] - 10s 692ms/step - loss: 334352.2500 - mean_absolute_error: 267358.7812 - val_loss: 376115.2188 - val_mean_absolute_error: 309080.1250\n",
    "Epoch 24/100\n",
    "14/14 [==============================] - 10s 715ms/step - loss: 357713.7188 - mean_absolute_error: 290687.7812 - val_loss: 403204.3438 - val_mean_absolute_error: 336174.7812\n",
    "Epoch 25/100\n",
    "14/14 [==============================] - 10s 721ms/step - loss: 351417.5312 - mean_absolute_error: 284340.6562 - val_loss: 360898.8750 - val_mean_absolute_error: 293797.1875\n",
    "Epoch 26/100\n",
    "14/14 [==============================] - 10s 745ms/step - loss: 344657.2812 - mean_absolute_error: 277567.0312 - val_loss: 378740.8750 - val_mean_absolute_error: 311612.0938\n",
    "Epoch 27/100\n",
    "14/14 [==============================] - 11s 778ms/step - loss: 339932.1875 - mean_absolute_error: 272792.6875 - val_loss: 404977.9688 - val_mean_absolute_error: 337885.4688\n",
    "Epoch 28/100\n",
    "14/14 [==============================] - 11s 804ms/step - loss: 333808.1250 - mean_absolute_error: 266702.4375 - val_loss: 429145.7188 - val_mean_absolute_error: 362089.7188\n",
    "Epoch 29/100\n",
    "14/14 [==============================] - 1157s 792ms/step - loss: 318266.7188 - mean_absolute_error: 251209.5000 - val_loss: 408617.5625 - val_mean_absolute_error: 341564.1250\n",
    "Epoch 30/100\n",
    "14/14 [==============================] - 961s 74s/step - loss: 322115.9062 - mean_absolute_error: 255104.5625 - val_loss: 430971.9062 - val_mean_absolute_error: 364020.4688\n",
    "Epoch 31/100\n",
    "14/14 [==============================] - 7s 486ms/step - loss: 323097.3750 - mean_absolute_error: 256204.4062 - val_loss: 399786.6250 - val_mean_absolute_error: 332997.0938\n",
    "Epoch 32/100\n",
    "14/14 [==============================] - 63s 5s/step - loss: 319205.7812 - mean_absolute_error: 252473.8438 - val_loss: 409243.7812 - val_mean_absolute_error: 342530.8125\n",
    "Epoch 33/100\n",
    "14/14 [==============================] - 12s 842ms/step - loss: 334843.5000 - mean_absolute_error: 268149.0000 - val_loss: 466733.3438 - val_mean_absolute_error: 400129.7812\n",
    "Training model  2\n",
    "Number of Training Images 428\n",
    "Mean of Training Images 3777661.214953271\n",
    "Number of datapoints in validation set 142\n",
    "Mean of validation set 3785225.352112676\n",
    "Compiling Model\n",
    "Fitting Model\n",
    "Epoch 1/100\n",
    "14/14 [==============================] - 19s 748ms/step - loss: 594444.6875 - mean_absolute_error: 529822.8125 - val_loss: 337849.0000 - val_mean_absolute_error: 273027.4688\n",
    "Epoch 2/100\n",
    "14/14 [==============================] - 10s 713ms/step - loss: 574361.1250 - mean_absolute_error: 509517.5938 - val_loss: 225735.3125 - val_mean_absolute_error: 160868.1406\n",
    "Epoch 3/100\n",
    "14/14 [==============================] - 11s 785ms/step - loss: 558201.5000 - mean_absolute_error: 493295.1875 - val_loss: 249052.2812 - val_mean_absolute_error: 184058.0781\n",
    "Epoch 4/100\n",
    "14/14 [==============================] - 12s 845ms/step - loss: 549148.5000 - mean_absolute_error: 484082.0938 - val_loss: 260870.8125 - val_mean_absolute_error: 195703.4062\n",
    "Epoch 5/100\n",
    "14/14 [==============================] - 12s 889ms/step - loss: 517994.4062 - mean_absolute_error: 452749.4688 - val_loss: 240783.6094 - val_mean_absolute_error: 175417.2188\n",
    "Epoch 6/100\n",
    "14/14 [==============================] - 12s 855ms/step - loss: 494045.6875 - mean_absolute_error: 428616.8750 - val_loss: 274938.2188 - val_mean_absolute_error: 209497.7812\n",
    "Epoch 7/100\n",
    "14/14 [==============================] - 11s 807ms/step - loss: 500947.7500 - mean_absolute_error: 435396.1875 - val_loss: 259458.5625 - val_mean_absolute_error: 193738.6250\n",
    "Epoch 8/100\n",
    "14/14 [==============================] - 10s 752ms/step - loss: 480350.1250 - mean_absolute_error: 414486.1250 - val_loss: 260329.4375 - val_mean_absolute_error: 194359.4844\n",
    "Epoch 9/100\n",
    "14/14 [==============================] - 10s 745ms/step - loss: 458090.8438 - mean_absolute_error: 392095.6875 - val_loss: 286680.0312 - val_mean_absolute_error: 220578.2969\n",
    "Epoch 10/100\n",
    "14/14 [==============================] - 1038s 80s/step - loss: 442736.1250 - mean_absolute_error: 376577.6875 - val_loss: 315813.4375 - val_mean_absolute_error: 249538.1719\n",
    "Epoch 11/100\n",
    "14/14 [==============================] - 57s 4s/step - loss: 437163.5000 - mean_absolute_error: 370776.3438 - val_loss: 281243.9062 - val_mean_absolute_error: 214792.6406\n",
    "Epoch 12/100\n",
    "14/14 [==============================] - 18s 1s/step - loss: 432979.9375 - mean_absolute_error: 366469.0000 - val_loss: 290721.0000 - val_mean_absolute_error: 224150.3906\n",
    "Epoch 13/100\n",
    "14/14 [==============================] - 11s 781ms/step - loss: 420175.4688 - mean_absolute_error: 353549.9062 - val_loss: 350074.1875 - val_mean_absolute_error: 283348.2188\n",
    "Epoch 14/100\n",
    "14/14 [==============================] - 10s 722ms/step - loss: 391030.1250 - mean_absolute_error: 324216.4062 - val_loss: 307617.8125 - val_mean_absolute_error: 240728.6250\n",
    "Epoch 15/100\n",
    "14/14 [==============================] - 10s 742ms/step - loss: 390084.8750 - mean_absolute_error: 323121.3125 - val_loss: 299886.6562 - val_mean_absolute_error: 232864.5000\n",
    "Epoch 16/100\n",
    "14/14 [==============================] - 13s 921ms/step - loss: 377858.2812 - mean_absolute_error: 310788.9688 - val_loss: 300083.7188 - val_mean_absolute_error: 233031.3594\n",
    "Epoch 17/100\n",
    "14/14 [==============================] - 14s 988ms/step - loss: 394889.9688 - mean_absolute_error: 327762.2812 - val_loss: 332557.7188 - val_mean_absolute_error: 265355.2500\n",
    "Epoch 18/100\n",
    "14/14 [==============================] - 12s 890ms/step - loss: 366473.4062 - mean_absolute_error: 299177.2188 - val_loss: 411577.1250 - val_mean_absolute_error: 344179.4688\n",
    "Epoch 19/100\n",
    "14/14 [==============================] - 11s 820ms/step - loss: 379119.0312 - mean_absolute_error: 311734.2188 - val_loss: 325276.0312 - val_mean_absolute_error: 257892.8125\n",
    "Epoch 20/100\n",
    "14/14 [==============================] - 11s 790ms/step - loss: 357330.0312 - mean_absolute_error: 289901.0938 - val_loss: 334540.8438 - val_mean_absolute_error: 267039.4688\n",
    "Epoch 21/100\n",
    "14/14 [==============================] - 10s 748ms/step - loss: 347428.5000 - mean_absolute_error: 279912.2188 - val_loss: 348953.1250 - val_mean_absolute_error: 281462.1875\n",
    "Epoch 22/100\n",
    "14/14 [==============================] - 10s 755ms/step - loss: 357096.7188 - mean_absolute_error: 289625.7188 - val_loss: 340064.6250 - val_mean_absolute_error: 272697.4688\n",
    "Epoch 23/100\n",
    "14/14 [==============================] - 11s 782ms/step - loss: 332384.1250 - mean_absolute_error: 265054.5312 - val_loss: 414186.3438 - val_mean_absolute_error: 346791.5625\n",
    "Epoch 24/100\n",
    "14/14 [==============================] - 11s 828ms/step - loss: 364455.6562 - mean_absolute_error: 297049.1562 - val_loss: 348161.2812 - val_mean_absolute_error: 280768.1875\n",
    "Epoch 25/100\n",
    "14/14 [==============================] - 12s 860ms/step - loss: 372005.7188 - mean_absolute_error: 304587.9688 - val_loss: 372622.0938 - val_mean_absolute_error: 305184.7812\n",
    "Epoch 26/100\n",
    "14/14 [==============================] - 12s 874ms/step - loss: 353466.8125 - mean_absolute_error: 285958.4375 - val_loss: 385900.7812 - val_mean_absolute_error: 318373.0625\n",
    "Epoch 27/100\n",
    "14/14 [==============================] - 11s 813ms/step - loss: 338015.6562 - mean_absolute_error: 270526.0312 - val_loss: 354871.2500 - val_mean_absolute_error: 287459.8125\n",
    "Epoch 28/100\n",
    "14/14 [==============================] - 11s 817ms/step - loss: 319256.4375 - mean_absolute_error: 251874.7031 - val_loss: 390952.9688 - val_mean_absolute_error: 323557.2188\n",
    "Epoch 29/100\n",
    "14/14 [==============================] - 12s 832ms/step - loss: 336983.6250 - mean_absolute_error: 269571.5000 - val_loss: 377665.5625 - val_mean_absolute_error: 310288.4375\n",
    "Epoch 30/100\n",
    "14/14 [==============================] - 12s 842ms/step - loss: 345121.9688 - mean_absolute_error: 277733.5625 - val_loss: 366656.3125 - val_mean_absolute_error: 299291.5938\n",
    "Epoch 31/100\n",
    "14/14 [==============================] - 12s 844ms/step - loss: 318467.8750 - mean_absolute_error: 251124.0156 - val_loss: 388284.2500 - val_mean_absolute_error: 320980.9062\n",
    "Epoch 32/100\n",
    "14/14 [==============================] - 12s 901ms/step - loss: 323904.1250 - mean_absolute_error: 256609.4375 - val_loss: 377675.1875 - val_mean_absolute_error: 310443.4375\n",
    "Training model  3\n",
    "Number of Training Images 428\n",
    "Mean of Training Images 3804058.4112149533\n",
    "Number of datapoints in validation set 142\n",
    "Mean of validation set 3705661.971830986\n",
    "Compiling Model\n",
    "Fitting Model\n",
    "Epoch 1/100\n",
    "14/14 [==============================] - 34s 960ms/step - loss: 543398.8750 - mean_absolute_error: 478339.5938 - val_loss: 220297.3594 - val_mean_absolute_error: 154944.3125\n",
    "Epoch 2/100\n",
    "14/14 [==============================] - 10s 725ms/step - loss: 564135.0000 - mean_absolute_error: 498674.0625 - val_loss: 229988.3750 - val_mean_absolute_error: 164513.2500\n",
    "Epoch 3/100\n",
    "14/14 [==============================] - 12s 840ms/step - loss: 514387.0000 - mean_absolute_error: 448910.2812 - val_loss: 307258.8438 - val_mean_absolute_error: 241771.7188\n",
    "Epoch 4/100\n",
    "14/14 [==============================] - 13s 964ms/step - loss: 485877.9375 - mean_absolute_error: 420319.0000 - val_loss: 246319.2656 - val_mean_absolute_error: 180599.3281\n",
    "Epoch 5/100\n",
    "14/14 [==============================] - 12s 879ms/step - loss: 495076.5000 - mean_absolute_error: 429275.9688 - val_loss: 328953.3750 - val_mean_absolute_error: 263035.6250\n",
    "Epoch 6/100\n",
    "14/14 [==============================] - 11s 779ms/step - loss: 487756.3438 - mean_absolute_error: 421796.5625 - val_loss: 307476.0938 - val_mean_absolute_error: 241422.3125\n",
    "Epoch 7/100\n",
    "14/14 [==============================] - 10s 730ms/step - loss: 463117.9688 - mean_absolute_error: 396978.3438 - val_loss: 311730.6562 - val_mean_absolute_error: 245448.9062\n",
    "Epoch 8/100\n",
    "14/14 [==============================] - 10s 753ms/step - loss: 473244.9375 - mean_absolute_error: 406930.4062 - val_loss: 266091.8438 - val_mean_absolute_error: 199755.3906\n",
    "Epoch 9/100\n",
    "14/14 [==============================] - 11s 814ms/step - loss: 438518.4375 - mean_absolute_error: 372085.5312 - val_loss: 313498.0000 - val_mean_absolute_error: 246993.9375\n",
    "Epoch 10/100\n",
    "14/14 [==============================] - 13s 947ms/step - loss: 445525.3125 - mean_absolute_error: 378944.5000 - val_loss: 302413.8125 - val_mean_absolute_error: 235818.5781\n",
    "Epoch 11/100\n",
    "14/14 [==============================] - 12s 887ms/step - loss: 417398.8750 - mean_absolute_error: 350718.6250 - val_loss: 291381.0000 - val_mean_absolute_error: 224635.6875\n",
    "Epoch 12/100\n",
    "14/14 [==============================] - 11s 797ms/step - loss: 419253.3750 - mean_absolute_error: 352512.2188 - val_loss: 281188.4688 - val_mean_absolute_error: 214433.0156\n",
    "Epoch 13/100\n",
    "14/14 [==============================] - 11s 766ms/step - loss: 407004.5312 - mean_absolute_error: 340203.5625 - val_loss: 288119.2812 - val_mean_absolute_error: 221286.3125\n",
    "Epoch 14/100\n",
    "14/14 [==============================] - 11s 778ms/step - loss: 384024.3125 - mean_absolute_error: 317150.6250 - val_loss: 298525.9062 - val_mean_absolute_error: 231641.4062\n",
    "Epoch 15/100\n",
    "14/14 [==============================] - 12s 839ms/step - loss: 370376.4062 - mean_absolute_error: 303488.0312 - val_loss: 308221.7188 - val_mean_absolute_error: 241343.1875\n",
    "Epoch 16/100\n",
    "14/14 [==============================] - 12s 856ms/step - loss: 364170.5938 - mean_absolute_error: 297240.7500 - val_loss: 312433.1250 - val_mean_absolute_error: 245397.5156\n",
    "Epoch 17/100\n",
    "14/14 [==============================] - 13s 913ms/step - loss: 376569.0000 - mean_absolute_error: 309496.2500 - val_loss: 342964.6875 - val_mean_absolute_error: 275883.5625\n",
    "Epoch 18/100\n",
    "14/14 [==============================] - 12s 889ms/step - loss: 387987.8125 - mean_absolute_error: 320841.9062 - val_loss: 314151.5000 - val_mean_absolute_error: 246918.3594\n",
    "Epoch 19/100\n",
    "14/14 [==============================] - 11s 816ms/step - loss: 390662.5312 - mean_absolute_error: 323387.1250 - val_loss: 345027.8750 - val_mean_absolute_error: 277713.0312\n",
    "Epoch 20/100\n",
    "14/14 [==============================] - 11s 780ms/step - loss: 365682.5000 - mean_absolute_error: 298364.9062 - val_loss: 345103.3750 - val_mean_absolute_error: 277811.7188\n",
    "Epoch 21/100\n",
    "14/14 [==============================] - 11s 793ms/step - loss: 368060.8750 - mean_absolute_error: 300794.5312 - val_loss: 331226.6250 - val_mean_absolute_error: 263996.0000\n",
    "Epoch 22/100\n",
    "14/14 [==============================] - 11s 786ms/step - loss: 339288.5000 - mean_absolute_error: 272014.9688 - val_loss: 332100.9062 - val_mean_absolute_error: 264798.4688\n",
    "Epoch 23/100\n",
    "14/14 [==============================] - 11s 803ms/step - loss: 332372.7812 - mean_absolute_error: 265107.2188 - val_loss: 333668.6562 - val_mean_absolute_error: 266445.0625\n",
    "Epoch 24/100\n",
    "14/14 [==============================] - 12s 851ms/step - loss: 331105.4062 - mean_absolute_error: 263907.5938 - val_loss: 338430.9062 - val_mean_absolute_error: 271236.0312\n",
    "Epoch 25/100\n",
    "14/14 [==============================] - 12s 858ms/step - loss: 320821.5938 - mean_absolute_error: 253676.8906 - val_loss: 346550.3125 - val_mean_absolute_error: 279451.3438\n",
    "Epoch 26/100\n",
    "14/14 [==============================] - 12s 898ms/step - loss: 343101.4688 - mean_absolute_error: 275978.8125 - val_loss: 357056.7500 - val_mean_absolute_error: 289967.6250\n",
    "Epoch 27/100\n",
    "14/14 [==============================] - 13s 907ms/step - loss: 315147.6250 - mean_absolute_error: 248177.8750 - val_loss: 359435.6875 - val_mean_absolute_error: 292542.9375\n",
    "Epoch 28/100\n",
    "14/14 [==============================] - 11s 789ms/step - loss: 351723.3125 - mean_absolute_error: 284858.6875 - val_loss: 357094.7188 - val_mean_absolute_error: 290207.7500\n",
    "Epoch 29/100\n",
    "14/14 [==============================] - 10s 740ms/step - loss: 317880.8750 - mean_absolute_error: 250962.3906 - val_loss: 361685.8750 - val_mean_absolute_error: 294751.0938\n",
    "Epoch 30/100\n",
    "14/14 [==============================] - 10s 755ms/step - loss: 335174.6875 - mean_absolute_error: 268193.1875 - val_loss: 361371.9688 - val_mean_absolute_error: 294323.9688\n",
    "Epoch 31/100\n",
    "14/14 [==============================] - 1471s 113s/step - loss: 330258.4062 - mean_absolute_error: 263308.5312 - val_loss: 358856.0000 - val_mean_absolute_error: 292041.4375\n",
    "5/5 [==============================] - 3s 223ms/step\n",
    "5/5 [==============================] - 52s 4s/step\n",
    "143\n",
    "5/5 [==============================] - 425s 220ms/step\n",
    "142\n",
    "5/5 [==============================] - 3s 228ms/step"
   ]
  },
  {
   "cell_type": "code",
   "execution_count": null,
   "metadata": {},
   "outputs": [
    {
     "name": "stdout",
     "output_type": "stream",
     "text": [
      "5/5 [==============================] - 3s 452ms/step\n",
      "5/5 [==============================] - 2s 398ms/step\n",
      "5/5 [==============================] - 2s 396ms/step\n",
      "5/5 [==============================] - 2s 456ms/step\n",
      "R2: 0.307132959238664, MAE: 1280474.0625, Percentage Error: 34.14149486272685, MSE: 3341608789459.375\n"
     ]
    }
   ],
   "source": [
    "predictions = N_CNN_RF_V2_model.predict(test_images, test_features)\n",
    "r2, mae, percentage_error, mse = regression_stats(test_prices, predictions)\n",
    "print(f\"R2: {r2}, MAE: {mae}, Percentage Error: {percentage_error}, MSE: {mse}\")\n"
   ]
  },
  {
   "cell_type": "code",
   "execution_count": null,
   "metadata": {},
   "outputs": [
    {
     "name": "stdout",
     "output_type": "stream",
     "text": [
      "[0.99385455 0.00076512 0.         0.00094047 0.         0.0003176\n",
      " 0.00062462 0.00077518 0.00028537 0.00053495 0.00093023 0.0009719 ]\n"
     ]
    }
   ],
   "source": [
    "np.set_printoptions(suppress=True)\n",
    "print(N_CNN_RF_V2_model.feature_importances_)"
   ]
  },
  {
   "cell_type": "markdown",
   "metadata": {},
   "source": [
    "5/5 [==============================] - 2s 383ms/step\n",
    "5/5 [==============================] - 2s 379ms/step\n",
    "5/5 [==============================] - 2s 377ms/step\n",
    "5/5 [==============================] - 2s 391ms/step\n",
    "R2: 0.5012649011306909, MAE: 1074674.875, Percentage Error: 29.00969179879741, MSE: 2405335355773.75"
   ]
  },
  {
   "cell_type": "markdown",
   "metadata": {},
   "source": [
    "# Legacy"
   ]
  },
  {
   "cell_type": "markdown",
   "metadata": {},
   "source": [
    "<!-- decoded_images = AE.decode(AE.encode(test_images))\n",
    "from skimage.metrics import structural_similarity as ssim\n",
    "\n",
    "img_shape = train2_images.shape\n",
    "print(img_shape)\n",
    "def recon_err1(images, encoded_images):\n",
    "  return tf.square(images - encoded_images)\n",
    "\n",
    "def recon_err2(images, encoded_images): \n",
    "  return tf.reduce_mean(tf.square(images - encoded_images), axis=(1,2,3))\n",
    "\n",
    "def recon_err3(images, encoded_images):\n",
    "  normalized_images = images / 255.0\n",
    "  normalized_encoded_images = encoded_images / 255.0 \n",
    "  def calc_ssim(normalized_img, normalized_encoded_img):\n",
    "    return ssim(normalized_img, normalized_encoded_img, channel_axis=2, data_range=1)\n",
    "  return [calc_ssim(img, encoded_img) for img, encoded_img in zip(normalized_images, normalized_encoded_images)]\n",
    "\n",
    "#recon1 = recon_err1(test_images, decoded_images)\n",
    "#recon2 = recon_err2(test_images, decoded_images)\n",
    "recon3 = recon_err3(test_images, decoded_images)\n",
    "print(recon3)\n",
    "reconstructions_errors = recon3\n",
    "\n",
    "#Get the reconstructions of the best and worst predictions\n",
    "n = 10\n",
    "best5 = np.argsort(reconstructions_errors)[:n]\n",
    "worst5 = np.argsort(reconstructions_errors)[::-1][:n]\n",
    "print(best5)\n",
    "print(worst5)\n",
    "for i in range(n):\n",
    "    idx = best5[i]\n",
    "    image = test_images[idx]\n",
    "    print(\"Reconstruction Error\", reconstructions_errors[idx])\n",
    "    encoded_img = AE.encode(np.expand_dims(image, axis=0))\n",
    "    decoded_img = AE.decode(encoded_img)\n",
    "    encoded_img = np.squeeze(encoded_img)\n",
    "    decoded_img = np.squeeze(decoded_img)\n",
    "    #Turn decoded_img into intergers\n",
    "    decoded_img = decoded_img.astype(int)\n",
    "    fix, ax = plt.subplots(1, 2, figsize=(15, 5))\n",
    "    ax[0].imshow(image)\n",
    "    ax[0].set_title(\"Original Image\")\n",
    "    ax[1].imshow(decoded_img)\n",
    "    ax[1].set_title(\"Reconstructed Image\")\n",
    "    plt.show()\n",
    "\n",
    "print(\"\\n\\n\\n\\n\")\n",
    "for i in range(n):\n",
    "    idx = worst5[i]\n",
    "    image = test_images[idx]\n",
    "    print(\"Reconstruction Error\", reconstructions_errors[idx])\n",
    "    encoded_img = AE.encode(np.expand_dims(image, axis=0))\n",
    "    decoded_img = AE.decode(encoded_img)\n",
    "    encoded_img = np.squeeze(encoded_img)\n",
    "    decoded_img = np.squeeze(decoded_img)\n",
    "    #Turn decoded_img into intergers\n",
    "    decoded_img = decoded_img.astype(int)\n",
    "    fix, ax = plt.subplots(1, 2, figsize=(15, 5))\n",
    "    ax[0].imshow(image)\n",
    "    ax[0].set_title(\"Original Image\")\n",
    "    ax[1].imshow(decoded_img)\n",
    "    ax[1].set_title(\"Reconstructed Image\")\n",
    "    plt.show() -->"
   ]
  }
 ],
 "metadata": {
  "kernelspec": {
   "display_name": "penv",
   "language": "python",
   "name": "python3"
  },
  "language_info": {
   "codemirror_mode": {
    "name": "ipython",
    "version": 3
   },
   "file_extension": ".py",
   "mimetype": "text/x-python",
   "name": "python",
   "nbconvert_exporter": "python",
   "pygments_lexer": "ipython3",
   "version": "3.10.13"
  }
 },
 "nbformat": 4,
 "nbformat_minor": 2
}
